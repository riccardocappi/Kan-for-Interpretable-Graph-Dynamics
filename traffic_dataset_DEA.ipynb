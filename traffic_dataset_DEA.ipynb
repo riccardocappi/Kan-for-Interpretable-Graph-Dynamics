{
 "cells": [
  {
   "cell_type": "markdown",
   "id": "998c2e35",
   "metadata": {},
   "source": [
    "## METR-LA Dataset"
   ]
  },
  {
   "cell_type": "code",
   "execution_count": null,
   "id": "4ea862c9",
   "metadata": {},
   "outputs": [],
   "source": [
    "from tsl.datasets import MetrLA, PemsBay"
   ]
  },
  {
   "cell_type": "code",
   "execution_count": null,
   "id": "30923c16",
   "metadata": {},
   "outputs": [],
   "source": [
    "dataset = MetrLA('./data/', impute_zeros=True)"
   ]
  },
  {
   "cell_type": "code",
   "execution_count": null,
   "id": "ff526ef3",
   "metadata": {},
   "outputs": [],
   "source": [
    "edge_index, edge_attr = dataset.get_connectivity(\n",
    "    threshold=0.1,\n",
    "    include_self=False,\n",
    "    normalize_axis=1,\n",
    "    layout=\"edge_index\"\n",
    ")"
   ]
  }
 ],
 "metadata": {
  "kernelspec": {
   "display_name": "Python 3",
   "language": "python",
   "name": "python3"
  },
  "language_info": {
   "name": "python",
   "version": "3.12.0"
  }
 },
 "nbformat": 4,
 "nbformat_minor": 5
}
