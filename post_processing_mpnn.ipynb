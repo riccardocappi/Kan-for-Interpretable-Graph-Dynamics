{
 "cells": [
  {
   "cell_type": "markdown",
   "metadata": {},
   "source": [
    "## Importing"
   ]
  },
  {
   "cell_type": "code",
   "execution_count": 6,
   "metadata": {},
   "outputs": [
    {
     "name": "stdout",
     "output_type": "stream",
     "text": [
      "Detected IPython. Loading juliacall extension. See https://juliapy.github.io/PythonCall.jl/stable/compat/#IPython\n"
     ]
    }
   ],
   "source": [
    "from utils.utils import *\n",
    "import optuna\n",
    "from optuna.storages import JournalStorage\n",
    "from optuna.storages.journal import JournalFileBackend\n",
    "from experiments.experiments_gkan import ExperimentsGKAN\n",
    "from experiments.experiments_mpnn import ExperimentsMPNN\n",
    "import sympytorch\n"
   ]
  },
  {
   "cell_type": "markdown",
   "metadata": {},
   "source": [
    "## Utils"
   ]
  },
  {
   "cell_type": "code",
   "execution_count": 7,
   "metadata": {},
   "outputs": [],
   "source": [
    "from models.utils.MPNN import MPNN\n",
    "from models.baseline.MPNN_ODE import MPNN_ODE\n",
    "from train_and_eval import eval_model\n",
    "from datasets.SyntheticData import SyntheticData\n",
    "from sympy import symbols, sin, summation, simplify\n",
    "import networkx as nx\n",
    "from torch_geometric.utils import from_networkx\n",
    "from utils.utils import integrate\n",
    "from torch_geometric.data import Data\n",
    "from experiments.experiments_mpnn import activations\n",
    "from models.utils.MLP import MLP"
   ]
  },
  {
   "cell_type": "code",
   "execution_count": 8,
   "metadata": {},
   "outputs": [],
   "source": [
    "from torch.utils.data import DataLoader\n",
    "\n",
    "\n",
    "def get_model(g, h, message_passing=True, include_time=False, atol=1e-5, rtol=1e-3, integration_method = 'scipy_solver'):\n",
    "    conv = MPNN(\n",
    "        g_net = g,\n",
    "        h_net = h, \n",
    "        message_passing=message_passing,\n",
    "        include_time=include_time\n",
    "    )\n",
    "    \n",
    "    symb = MPNN_ODE(\n",
    "        conv=conv,\n",
    "        model_path=\"./saved_models_optuna/tmp_symb\",\n",
    "        adjoint=True,\n",
    "        integration_method=integration_method,\n",
    "        atol=atol,\n",
    "        rtol=rtol\n",
    "    )\n",
    "    \n",
    "    return symb\n",
    "\n",
    "\n",
    "def get_symb_test_error(g_symb, h_symb, test_set, message_passing=False, include_time=False, atol=1e-5, rtol=1e-3, scaler = None, inverse_scale=False, method='scipy_solver'):\n",
    "    \n",
    "    symb = get_model(\n",
    "        g=g_symb,\n",
    "        h=h_symb,\n",
    "        message_passing=message_passing,\n",
    "        include_time=include_time,\n",
    "        atol=atol,\n",
    "        rtol=rtol,\n",
    "        integration_method=method\n",
    "    )\n",
    "    \n",
    "    collate_fn = lambda samples_list: samples_list\n",
    "    test_loader = DataLoader(test_set, batch_size=len(test_set), shuffle=True, collate_fn=collate_fn)\n",
    "    \n",
    "    test_loss = eval_model(\n",
    "        model=symb,\n",
    "        valid_loader=test_loader,\n",
    "        criterion=torch.nn.L1Loss(),\n",
    "        scaler=scaler,\n",
    "        inverse_scale=inverse_scale,\n",
    "        pred_deriv=False\n",
    "    )\n",
    "    \n",
    "    return test_loss\n",
    "\n",
    "\n",
    "def get_test_set(dynamics, seed=12345, device='cuda', input_range = (0, 1), **integration_kwargs):\n",
    "    graph = nx.barabasi_albert_graph(100, 3, seed=seed)\n",
    "    edge_index = from_networkx(graph).edge_index\n",
    "    edge_index = edge_index.to(torch.device(device))\n",
    "    rng = np.random.default_rng(seed=seed)\n",
    "    \n",
    "    data, t = integrate(\n",
    "        input_range=input_range,\n",
    "        t_span = [0, 1],\n",
    "        t_eval_steps=300,\n",
    "        dynamics=dynamics,\n",
    "        device=device,\n",
    "        graph=graph,\n",
    "        rng = rng,\n",
    "        **integration_kwargs\n",
    "    )\n",
    "    \n",
    "    snapshot = Data(\n",
    "        x = data[0].unsqueeze(0),\n",
    "        y = data[1:],\n",
    "        edge_index=edge_index,\n",
    "        edge_attr=None,\n",
    "        t_span = t\n",
    "    )\n",
    "    \n",
    "    return [snapshot]\n",
    "\n",
    "\n",
    "def build_model_from_file(model_path, message_passing=False, include_time=False, method='dopri5', adjoint=True):\n",
    "    best_params_file = f\"{model_path}/best_params.json\"\n",
    "    best_state_path = f\"{model_path}/mpnn/state_dict.pth\"\n",
    "    with open(best_params_file, 'r') as f:\n",
    "        best_hyperparams = json.load(f)\n",
    "    \n",
    "    in_dim = 1\n",
    "    \n",
    "    hidden_layers = [best_hyperparams[\"hidden_dims_g_net\"] for _ in range(best_hyperparams[\"n_hidden_layers_g_net\"])]\n",
    "    hidden_layers = [2*in_dim] + hidden_layers + [in_dim]    \n",
    "    # g_net\n",
    "    g_net = MLP(\n",
    "        hidden_layers=hidden_layers,\n",
    "        af = activations[best_hyperparams['af_g_net']],\n",
    "        dropout_rate=best_hyperparams['drop_p_g_net'],\n",
    "    )\n",
    "    \n",
    "    time_dim = 1 if include_time else 0\n",
    "    in_dim_h = 2 if message_passing else 1\n",
    "    in_dim_h += time_dim\n",
    "    hidden_layers = [best_hyperparams[\"hidden_dims_h_net\"] for _ in range(best_hyperparams[\"n_hidden_layers_h_net\"])]\n",
    "    hidden_layers = [in_dim_h] + hidden_layers + [in_dim] \n",
    "    \n",
    "    \n",
    "    # h_net\n",
    "    h_net = MLP(\n",
    "        hidden_layers=hidden_layers,\n",
    "        af = activations[best_hyperparams['af_h_net']],\n",
    "        dropout_rate=best_hyperparams['drop_p_h_net'],\n",
    "    )\n",
    "    \n",
    "    mpnn = MPNN(\n",
    "        h_net=h_net,\n",
    "        g_net=g_net,\n",
    "        message_passing=message_passing,\n",
    "        include_time=include_time\n",
    "    )\n",
    "    \n",
    "    model = MPNN_ODE(\n",
    "        conv=mpnn,\n",
    "        model_path='./saved_models_optuna/tmp',\n",
    "        integration_method=method,\n",
    "        adjoint=adjoint\n",
    "    )\n",
    "    \n",
    "    model = model.to(torch.device('cuda'))\n",
    "    model.load_state_dict(torch.load(best_state_path, weights_only=False, map_location=torch.device('cuda')))\n",
    "    \n",
    "    return model\n",
    "\n",
    "\n",
    "def plot_predictions(y_true, y_pred, node_index = 0):\n",
    "    plt.figure(figsize=(16, 8))\n",
    "    plt.plot(y_true[:, node_index, :], label='y_true', marker='o')\n",
    "    plt.plot(y_pred[:, node_index, :], label='y_pred', marker='o')\n",
    "    plt.xlabel('Time step')\n",
    "    plt.ylabel('Value')\n",
    "    plt.title(f'y_true vs y_pred for Node {node_index}')\n",
    "    plt.legend()\n",
    "    plt.grid(True)\n",
    "    plt.tight_layout()\n",
    "    plt.show()\n",
    "    \n",
    "\n",
    "def post_process_mpnn(\n",
    "    g_symb, \n",
    "    h_symb, \n",
    "    model_path, \n",
    "    test_set, \n",
    "    message_passing=False, \n",
    "    include_time=False,\n",
    "    atol=1e-5,\n",
    "    rtol=1e-3,\n",
    "    method='dopri5',\n",
    "    scaler=None,\n",
    "    inverse_scale=False,\n",
    "    adjoint=True \n",
    "):\n",
    "    test_loss_symb = get_symb_test_error(\n",
    "        g_symb=g_symb,\n",
    "        h_symb=h_symb,\n",
    "        test_set=test_set,\n",
    "        message_passing=message_passing,\n",
    "        include_time=include_time,\n",
    "        atol=atol,\n",
    "        rtol=rtol,\n",
    "        method=method,\n",
    "        scaler=scaler,\n",
    "        inverse_scale=inverse_scale\n",
    "    )\n",
    "    \n",
    "    print(f\"Test loss of symbolic formula: {test_loss_symb}\")\n",
    "    \n",
    "    # Loading best model\n",
    "    best_model = build_model_from_file(\n",
    "        model_path=model_path,\n",
    "        message_passing=message_passing,\n",
    "        include_time=include_time,\n",
    "        method=method,\n",
    "        adjoint=adjoint\n",
    "    )\n",
    "    \n",
    "    tot_params = sum(p.numel() for p in best_model.parameters() if p.requires_grad)\n",
    "    print(f\"Number of model's parameters: {tot_params}\")\n",
    "    \n",
    "    best_model = best_model.eval()\n",
    "    test_loss_model = get_symb_test_error(\n",
    "        g_symb=best_model.conv.model.g_net,\n",
    "        h_symb=best_model.conv.model.h_net,\n",
    "        test_set=test_set,\n",
    "        message_passing=message_passing,\n",
    "        include_time=include_time,\n",
    "        atol=atol,\n",
    "        rtol=rtol,\n",
    "        method=method,\n",
    "        scaler=scaler,\n",
    "        inverse_scale=inverse_scale\n",
    "    )\n",
    "    \n",
    "    print(f\"Test loss best model: {test_loss_model}\")\n",
    "\n",
    "    y_true = test_set[0].y.detach().cpu().numpy()\n",
    "    y_pred = best_model(snapshot = test_set[0]).detach().cpu().numpy()\n",
    "    \n",
    "    return y_true, y_pred\n",
    "    \n",
    "\n",
    "def make_callable(expr):\n",
    "    free_syms = expr.free_symbols\n",
    "    if not free_syms:\n",
    "        # Expression is constant\n",
    "        const_value = float(expr)\n",
    "        return lambda x: torch.full((x.shape[0], 1), const_value, dtype=x.dtype, device=x.device)\n",
    "\n",
    "    sym_module = sympytorch.SymPyModule(expressions=[expr])\n",
    "    syms = {str(s) for s in free_syms}\n",
    "    if {'x_i', 'x_j'} <= syms:\n",
    "        return lambda x: sym_module(x_i=x[:, 0], x_j=x[:, 1])\n",
    "    elif 'x_i' in syms:\n",
    "        return lambda x: sym_module(x_i=x[:, 0])\n",
    "    elif 'x_j' in syms:\n",
    "        return lambda x: sym_module(x_j=x[:, 1])\n",
    "    else:\n",
    "        raise ValueError(f\"Unexpected symbols in expression: {free_syms}\")\n",
    "    "
   ]
  },
  {
   "cell_type": "markdown",
   "metadata": {},
   "source": [
    "## LB Losses"
   ]
  },
  {
   "cell_type": "markdown",
   "metadata": {},
   "source": [
    "### Kuramoto"
   ]
  },
  {
   "cell_type": "code",
   "execution_count": 4,
   "metadata": {},
   "outputs": [
    {
     "name": "stderr",
     "output_type": "stream",
     "text": [
      "/home/ricca/miniconda3/envs/myenv/lib/python3.12/site-packages/scipy/integrate/_ivp/ivp.py:621: UserWarning: The following arguments have no effect for a chosen solver: `min_step`.\n",
      "  solver = method(fun, t0, y0, tf, vectorized=vectorized, **options)\n"
     ]
    },
    {
     "name": "stdout",
     "output_type": "stream",
     "text": [
      "Kuramoto: 0.0014357954496517777\n"
     ]
    }
   ],
   "source": [
    "kur_config = load_config(\"./configs/config_pred_deriv/config_ic1/config_kuramoto.yml\")\n",
    "\n",
    "KUR = get_test_set(\n",
    "    dynamics=kur_config['name'],\n",
    "    seed = 12345,\n",
    "    device='cuda',\n",
    "    input_range=kur_config['input_range'],\n",
    "    **kur_config['integration_kwargs']    \n",
    ")\n",
    "\n",
    "g_symb = lambda x: torch.sin(x[:, 1] - x[:, 0]).unsqueeze(-1)\n",
    "h_symb = lambda x: 2.0 + 0.5 * x[:, 1].unsqueeze(-1)\n",
    "\n",
    "test_loss = get_symb_test_error(\n",
    "    g_symb=g_symb,\n",
    "    h_symb=h_symb,\n",
    "    test_set=KUR,\n",
    "    message_passing=True,\n",
    "    include_time=False,\n",
    "    atol=1e-5,\n",
    "    rtol=1e-3\n",
    ")\n",
    "\n",
    "print(f\"Kuramoto: {test_loss}\")\n"
   ]
  },
  {
   "cell_type": "markdown",
   "metadata": {},
   "source": [
    "### Epidemics"
   ]
  },
  {
   "cell_type": "code",
   "execution_count": 5,
   "metadata": {},
   "outputs": [
    {
     "name": "stdout",
     "output_type": "stream",
     "text": [
      "Epidemics: 3.470474621281028e-05\n"
     ]
    }
   ],
   "source": [
    "epid_config = load_config(\"./configs/config_pred_deriv/config_ic1/config_epidemics.yml\")\n",
    "\n",
    "EPID = get_test_set(\n",
    "    dynamics=epid_config['name'],\n",
    "    seed = 12345,\n",
    "    device='cuda',\n",
    "    input_range=epid_config['input_range'],\n",
    "    **epid_config['integration_kwargs']    \n",
    ")\n",
    "\n",
    "g_symb = lambda x: 0.5*x[:, 1].unsqueeze(-1) * (1 - x[:, 0].unsqueeze(-1))\n",
    "h_symb = lambda x: x[:, 1].unsqueeze(1) - 0.5 * x[:, 0].unsqueeze(-1)\n",
    "\n",
    "test_loss = get_symb_test_error(\n",
    "    g_symb=g_symb,\n",
    "    h_symb=h_symb,\n",
    "    test_set=EPID,\n",
    "    message_passing=True,\n",
    "    include_time=False,\n",
    "    atol=1e-5,\n",
    "    rtol=1e-3\n",
    ")\n",
    "\n",
    "print(f\"Epidemics: {test_loss}\")\n"
   ]
  },
  {
   "cell_type": "markdown",
   "metadata": {},
   "source": [
    "### Biochemical"
   ]
  },
  {
   "cell_type": "code",
   "execution_count": 6,
   "metadata": {},
   "outputs": [
    {
     "name": "stdout",
     "output_type": "stream",
     "text": [
      "Biochemical: 2.9267064746818505e-05\n"
     ]
    }
   ],
   "source": [
    "bio_config = load_config(\"./configs/config_pred_deriv/config_ic1/config_biochemical.yml\")\n",
    "\n",
    "BIO = get_test_set(\n",
    "    dynamics=bio_config['name'],\n",
    "    seed = 12345,\n",
    "    device='cuda',\n",
    "    input_range=bio_config['input_range'],\n",
    "    **bio_config['integration_kwargs']    \n",
    ")\n",
    "\n",
    "g_symb = lambda x: (-0.5*x[:, 1] * x[:, 0]).unsqueeze(-1)\n",
    "h_symb = lambda x: (1.0 - 0.5 * x[:, 0]).unsqueeze(-1)  + x[:, 1].unsqueeze(-1) \n",
    "\n",
    "test_loss = get_symb_test_error(\n",
    "    g_symb=g_symb,\n",
    "    h_symb=h_symb,\n",
    "    test_set=BIO,\n",
    "    message_passing=True,\n",
    "    include_time=False,\n",
    "    atol=1e-5,\n",
    "    rtol=1e-3\n",
    ")\n",
    "\n",
    "print(f\"Biochemical: {test_loss}\")"
   ]
  },
  {
   "cell_type": "markdown",
   "metadata": {},
   "source": [
    "### Population"
   ]
  },
  {
   "cell_type": "code",
   "execution_count": 7,
   "metadata": {},
   "outputs": [
    {
     "name": "stdout",
     "output_type": "stream",
     "text": [
      "Population: 5.318017429090105e-05\n"
     ]
    }
   ],
   "source": [
    "pop_config = load_config(\"./configs/config_pred_deriv/config_ic1/config_population.yml\")\n",
    "\n",
    "POP = get_test_set(\n",
    "    dynamics=pop_config['name'],\n",
    "    seed = 12345,\n",
    "    device='cuda',\n",
    "    input_range=pop_config['input_range'],\n",
    "    **pop_config['integration_kwargs']    \n",
    ")\n",
    "\n",
    "g_symb = lambda x: 0.2*torch.pow(x[:, 1].unsqueeze(-1), 3)\n",
    "h_symb = lambda x: -0.5 * x[:, 0].unsqueeze(-1) + x[:, 1].unsqueeze(1) \n",
    "\n",
    "test_loss = get_symb_test_error(\n",
    "    g_symb=g_symb,\n",
    "    h_symb=h_symb,\n",
    "    test_set=POP,\n",
    "    message_passing=True,\n",
    "    include_time=False,\n",
    "    atol=1e-5,\n",
    "    rtol=1e-3\n",
    ")\n",
    "\n",
    "print(f\"Population: {test_loss}\")\n"
   ]
  },
  {
   "cell_type": "markdown",
   "metadata": {},
   "source": [
    "### Kuramoto MPNN"
   ]
  },
  {
   "cell_type": "markdown",
   "metadata": {},
   "source": [
    "#### IC=1"
   ]
  },
  {
   "cell_type": "code",
   "execution_count": 9,
   "metadata": {},
   "outputs": [],
   "source": [
    "model_path_mpnn = './saved_models_optuna/model-kuramoto-mpnn/kuramoto_mpnn_ic1_s5_pd_mult_6/0/mpnn'\n",
    "\n",
    "pysr_model = lambda : get_pysr_model(\n",
    "    model_selection=\"score\",\n",
    "    n_iterations=200\n",
    ")\n",
    "\n",
    "mpnn_symb = fit_mpnn(\n",
    "    model_path=model_path_mpnn,\n",
    "    pysr_model=pysr_model,\n",
    "    sample_size=10000,\n",
    "    message_passing=False\n",
    ")"
   ]
  },
  {
   "cell_type": "code",
   "execution_count": 11,
   "metadata": {},
   "outputs": [
    {
     "data": {
      "text/latex": [
       "$\\displaystyle \\sum_{j}( -0.496255922752406*sin(x_i - x_j)) - 0.00359839429571021 \\left|{\\log{\\left(x_{i} \\right)}}\\right| + 2.00352225227241$"
      ],
      "text/plain": [
       "\\sum_{j}( -0.496255922752406*sin(x_i - x_j)) - 0.00359839429571021*Abs(log(x_i)) + 2.00352225227241"
      ]
     },
     "execution_count": 11,
     "metadata": {},
     "output_type": "execute_result"
    }
   ],
   "source": [
    "mpnn_symb[0]"
   ]
  },
  {
   "cell_type": "code",
   "execution_count": 12,
   "metadata": {},
   "outputs": [
    {
     "data": {
      "text/latex": [
       "$\\displaystyle \\sum_{j}(-0.5*sin(x_i - x_j)) + 2.0$"
      ],
      "text/plain": [
       "\\sum_{j}(-0.5*sin(x_i - x_j)) + 2.0"
      ]
     },
     "execution_count": 12,
     "metadata": {},
     "output_type": "execute_result"
    }
   ],
   "source": [
    "quantise(mpnn_symb[0])"
   ]
  },
  {
   "cell_type": "code",
   "execution_count": 11,
   "metadata": {},
   "outputs": [
    {
     "name": "stdout",
     "output_type": "stream",
     "text": [
      "Test loss of symbolic formula: 0.00990354921668768\n",
      "Number of model's parameters: 4298\n",
      "Test loss best model: 0.024828754365444183\n"
     ]
    }
   ],
   "source": [
    "g_symb = lambda x: -0.48802644*torch.sin(x[:, 0] - x[:, 1]).unsqueeze(-1)\n",
    "h_symb = lambda x: 1.010286 + x[:, 1].unsqueeze(-1) + torch.tanh( torch.exp(x[:, 0].unsqueeze(-1)))\n",
    "\n",
    "y_true, y_pred = post_process_mpnn(\n",
    "    g_symb=g_symb,\n",
    "    h_symb=h_symb,\n",
    "    model_path='./saved_models/mpnn/model_kuramoto_mpnn/kuramoto_mpnn_ic1_s5/2',\n",
    "    test_set=KUR,\n",
    "    message_passing=False,\n",
    "    include_time=False,\n",
    "    method='dopri5'\n",
    ")"
   ]
  },
  {
   "cell_type": "markdown",
   "metadata": {},
   "source": [
    "#### IC=3"
   ]
  },
  {
   "cell_type": "code",
   "execution_count": 12,
   "metadata": {},
   "outputs": [
    {
     "name": "stderr",
     "output_type": "stream",
     "text": [
      "/home/rcappi/.conda/envs/my_env/lib/python3.12/site-packages/pysr/sr.py:2774: UserWarning: Note: it looks like you are running in Jupyter. The progress bar will be turned off.\n",
      "  warnings.warn(\n",
      "/home/rcappi/.conda/envs/my_env/lib/python3.12/site-packages/pysr/sr.py:2774: UserWarning: Note: it looks like you are running in Jupyter. The progress bar will be turned off.\n",
      "  warnings.warn(\n"
     ]
    }
   ],
   "source": [
    "model_path_mpnn = './saved_models/mpnn/model_kuramoto_mpnn/kuramoto_mpnn_ic3_s5/1/mpnn'\n",
    "\n",
    "pysr_model = lambda : get_pysr_model(\n",
    "    model_selection=\"score\",\n",
    "    n_iterations=200\n",
    ")\n",
    "\n",
    "mpnn_symb = fit_mpnn(\n",
    "    model_path=model_path_mpnn,\n",
    "    pysr_model=pysr_model,\n",
    "    sample_size=10000,\n",
    "    message_passing=False\n",
    ")"
   ]
  },
  {
   "cell_type": "code",
   "execution_count": 13,
   "metadata": {},
   "outputs": [
    {
     "data": {
      "text/latex": [
       "$\\displaystyle \\sum_{j}( -0.4950775*sin(x_i - x_j)) + 1.99961297633177 e^{0.004879089 \\sin{\\left(x_{i} \\right)}}$"
      ],
      "text/plain": [
       "\\sum_{j}( -0.4950775*sin(x_i - x_j)) + 1.99961297633177*exp(0.004879089*sin(x_i))"
      ]
     },
     "execution_count": 13,
     "metadata": {},
     "output_type": "execute_result"
    }
   ],
   "source": [
    "mpnn_symb"
   ]
  },
  {
   "cell_type": "code",
   "execution_count": 14,
   "metadata": {},
   "outputs": [
    {
     "data": {
      "text/latex": [
       "$\\displaystyle \\sum_{j}(-0.5*sin(x_i - x_j)) + 2.0$"
      ],
      "text/plain": [
       "\\sum_{j}(-0.5*sin(x_i - x_j)) + 2.0"
      ]
     },
     "execution_count": 14,
     "metadata": {},
     "output_type": "execute_result"
    }
   ],
   "source": [
    "quantise(mpnn_symb)"
   ]
  },
  {
   "cell_type": "code",
   "execution_count": 15,
   "metadata": {},
   "outputs": [
    {
     "name": "stdout",
     "output_type": "stream",
     "text": [
      "Test loss of symbolic formula: 0.004990159533917904\n",
      "Number of model's parameters: 3466\n",
      "Test loss best model: 0.005056753288954496\n"
     ]
    }
   ],
   "source": [
    "g_symb = lambda x: -0.4950775*torch.sin(x[:, 0] - x[:, 1]).unsqueeze(-1)\n",
    "h_symb = lambda x: x[:, 1].unsqueeze(-1) + 1.99961297633177 * torch.exp(0.004879089*torch.sin(x[:, 0].unsqueeze(-1)))\n",
    "\n",
    "\n",
    "y_true, y_pred = post_process_mpnn(\n",
    "    g_symb=g_symb,\n",
    "    h_symb=h_symb,\n",
    "    model_path='./saved_models/mpnn/model_kuramoto_mpnn/kuramoto_mpnn_ic3_s5/1',\n",
    "    test_set=KUR,\n",
    "    message_passing=False,\n",
    "    include_time=False,\n",
    "    method='dopri5'\n",
    ")"
   ]
  },
  {
   "cell_type": "code",
   "execution_count": 21,
   "metadata": {},
   "outputs": [
    {
     "data": {
      "image/png": "[encoded data removed]",
      "text/plain": [
       "<Figure size 1600x800 with 1 Axes>"
      ]
     },
     "metadata": {},
     "output_type": "display_data"
    }
   ],
   "source": [
    "plot_predictions(y_true, y_pred, node_index=13)"
   ]
  },
  {
   "cell_type": "markdown",
   "metadata": {},
   "source": [
    "#### IC=5"
   ]
  },
  {
   "cell_type": "code",
   "execution_count": 17,
   "metadata": {},
   "outputs": [
    {
     "name": "stderr",
     "output_type": "stream",
     "text": [
      "/home/rcappi/.conda/envs/my_env/lib/python3.12/site-packages/pysr/sr.py:2774: UserWarning: Note: it looks like you are running in Jupyter. The progress bar will be turned off.\n",
      "  warnings.warn(\n",
      "/home/rcappi/.conda/envs/my_env/lib/python3.12/site-packages/pysr/sr.py:2774: UserWarning: Note: it looks like you are running in Jupyter. The progress bar will be turned off.\n",
      "  warnings.warn(\n"
     ]
    }
   ],
   "source": [
    "model_path_mpnn = './saved_models/mpnn/model_kuramoto_mpnn/kuramoto_mpnn_ic5_s5/2/mpnn'\n",
    "\n",
    "pysr_model = lambda : get_pysr_model(\n",
    "    model_selection=\"score\",\n",
    "    n_iterations=200\n",
    ")\n",
    "\n",
    "mpnn_symb = fit_mpnn(\n",
    "    model_path=model_path_mpnn,\n",
    "    pysr_model=pysr_model,\n",
    "    sample_size=10000,\n",
    "    message_passing=False\n",
    ")"
   ]
  },
  {
   "cell_type": "code",
   "execution_count": 18,
   "metadata": {},
   "outputs": [
    {
     "data": {
      "text/latex": [
       "$\\displaystyle \\sum_{j}( -0.49897763*sin(x_i - x_j)) + 8.437033 \\cdot 10^{-6} e^{\\operatorname{re}{\\left(x_{i}\\right)}} + 1.9998884$"
      ],
      "text/plain": [
       "\\sum_{j}( -0.49897763*sin(x_i - x_j)) + 8.437033e-6*exp(re(x_i)) + 1.9998884"
      ]
     },
     "execution_count": 18,
     "metadata": {},
     "output_type": "execute_result"
    }
   ],
   "source": [
    "mpnn_symb"
   ]
  },
  {
   "cell_type": "code",
   "execution_count": 19,
   "metadata": {},
   "outputs": [
    {
     "data": {
      "text/latex": [
       "$\\displaystyle \\sum_{j}(-0.5*sin(x_i - x_j)) + 2.0$"
      ],
      "text/plain": [
       "\\sum_{j}(-0.5*sin(x_i - x_j)) + 2.0"
      ]
     },
     "execution_count": 19,
     "metadata": {},
     "output_type": "execute_result"
    }
   ],
   "source": [
    "quantise(mpnn_symb)"
   ]
  },
  {
   "cell_type": "code",
   "execution_count": 76,
   "metadata": {},
   "outputs": [
    {
     "name": "stdout",
     "output_type": "stream",
     "text": [
      "Test loss of symbolic formula: 0.0016100124921649694\n",
      "Number of model's parameters: 5570\n",
      "Test loss best model: 0.004750935826450586\n"
     ]
    }
   ],
   "source": [
    "g_symb = lambda x: -0.49897763*torch.sin(x[:, 0] - x[:, 1]).unsqueeze(-1)\n",
    "h_symb = lambda x: 1.9998884 + x[:, 1].unsqueeze(-1) + 8.437033 * 10e-7 * torch.exp(x[:, 0].unsqueeze(-1))\n",
    "\n",
    "\n",
    "y_true, y_pred = post_process_mpnn(\n",
    "    g_symb=g_symb,\n",
    "    h_symb=h_symb,\n",
    "    model_path='./saved_models/mpnn/model_kuramoto_mpnn/kuramoto_mpnn_ic5_s5/2',\n",
    "    test_set=KUR,\n",
    "    message_passing=False,\n",
    "    include_time=False,\n",
    "    method='dopri5'\n",
    ")"
   ]
  },
  {
   "cell_type": "markdown",
   "metadata": {},
   "source": [
    "### Epidemics MPNN"
   ]
  },
  {
   "cell_type": "markdown",
   "metadata": {},
   "source": [
    "#### IC=1"
   ]
  },
  {
   "cell_type": "code",
   "execution_count": 21,
   "metadata": {},
   "outputs": [
    {
     "name": "stderr",
     "output_type": "stream",
     "text": [
      "/home/rcappi/.conda/envs/my_env/lib/python3.12/site-packages/pysr/sr.py:2774: UserWarning: Note: it looks like you are running in Jupyter. The progress bar will be turned off.\n",
      "  warnings.warn(\n",
      "/home/rcappi/.conda/envs/my_env/lib/python3.12/site-packages/pysr/sr.py:2774: UserWarning: Note: it looks like you are running in Jupyter. The progress bar will be turned off.\n",
      "  warnings.warn(\n"
     ]
    }
   ],
   "source": [
    "model_path_mpnn = './saved_models/mpnn/model_epidemics_mpnn/epidemics_mpnn_ic1_s5/1/mpnn'\n",
    "\n",
    "pysr_model = lambda : get_pysr_model(\n",
    "    model_selection=\"score\",\n",
    "    n_iterations=200\n",
    ")\n",
    "\n",
    "mpnn_symb = fit_mpnn(\n",
    "    model_path=model_path_mpnn,\n",
    "    pysr_model=pysr_model,\n",
    "    sample_size=10000,\n",
    "    message_passing=False\n",
    ")"
   ]
  },
  {
   "cell_type": "code",
   "execution_count": 22,
   "metadata": {},
   "outputs": [
    {
     "data": {
      "text/latex": [
       "$\\displaystyle \\sum_{j}( x_j*(0.49561933 - 0.49533916*x_i)) - 0.6944137 \\tanh{\\left(x_{i} \\right)} + 0.06518038$"
      ],
      "text/plain": [
       "\\sum_{j}( x_j*(0.49561933 - 0.49533916*x_i)) - 0.6944137*tanh(x_i) + 0.06518038"
      ]
     },
     "execution_count": 22,
     "metadata": {},
     "output_type": "execute_result"
    }
   ],
   "source": [
    "mpnn_symb"
   ]
  },
  {
   "cell_type": "code",
   "execution_count": 23,
   "metadata": {},
   "outputs": [
    {
     "data": {
      "text/latex": [
       "$\\displaystyle \\sum_{j}(x_j*(0.5 - 0.5*x_i)) - 0.69 \\tanh{\\left(x_{i} \\right)} + 0.07$"
      ],
      "text/plain": [
       "\\sum_{j}(x_j*(0.5 - 0.5*x_i)) - 0.69*tanh(x_i) + 0.07"
      ]
     },
     "execution_count": 23,
     "metadata": {},
     "output_type": "execute_result"
    }
   ],
   "source": [
    "quantise(mpnn_symb)"
   ]
  },
  {
   "cell_type": "code",
   "execution_count": 29,
   "metadata": {},
   "outputs": [
    {
     "name": "stdout",
     "output_type": "stream",
     "text": [
      "Test loss of symbolic formula: 0.002190784551203251\n",
      "Number of model's parameters: 5178\n",
      "Test loss best model: 0.001356420572847128\n"
     ]
    }
   ],
   "source": [
    "g_symb = lambda x: x[:, 1].unsqueeze(-1) * (0.49561933 - 0.49533916 * x[:, 0]).unsqueeze(-1)\n",
    "h_symb = lambda x: x[:, 1].unsqueeze(-1) - 0.6944137 * torch.tanh(x[:, 0].unsqueeze(-1)) + 0.06518038\n",
    "\n",
    "y_true, y_pred = post_process_mpnn(\n",
    "    g_symb=g_symb,\n",
    "    h_symb=h_symb,\n",
    "    model_path='./saved_models/mpnn/model_epidemics_mpnn/epidemics_mpnn_ic1_s5/1',\n",
    "    test_set=EPID,\n",
    "    message_passing=False,\n",
    "    include_time=False,\n",
    "    method='dopri5'\n",
    ")"
   ]
  },
  {
   "cell_type": "markdown",
   "metadata": {},
   "source": [
    "#### IC=3"
   ]
  },
  {
   "cell_type": "code",
   "execution_count": 25,
   "metadata": {},
   "outputs": [
    {
     "name": "stderr",
     "output_type": "stream",
     "text": [
      "/home/rcappi/.conda/envs/my_env/lib/python3.12/site-packages/pysr/sr.py:2774: UserWarning: Note: it looks like you are running in Jupyter. The progress bar will be turned off.\n",
      "  warnings.warn(\n",
      "/home/rcappi/.conda/envs/my_env/lib/python3.12/site-packages/pysr/sr.py:2774: UserWarning: Note: it looks like you are running in Jupyter. The progress bar will be turned off.\n",
      "  warnings.warn(\n"
     ]
    }
   ],
   "source": [
    "model_path_mpnn = './saved_models/mpnn/model_epidemics_mpnn/epidemics_mpnn_ic3_s5/2/mpnn'\n",
    "\n",
    "pysr_model = lambda : get_pysr_model(\n",
    "    model_selection=\"score\",\n",
    "    n_iterations=200\n",
    ")\n",
    "\n",
    "mpnn_symb = fit_mpnn(\n",
    "    model_path=model_path_mpnn,\n",
    "    pysr_model=pysr_model,\n",
    "    sample_size=10000,\n",
    "    message_passing=False\n",
    ")"
   ]
  },
  {
   "cell_type": "code",
   "execution_count": 26,
   "metadata": {},
   "outputs": [
    {
     "data": {
      "text/latex": [
       "$\\displaystyle \\sum_{j}( -0.5012283*x_j*(x_i - 0.99863404)) - 0.49647868 x_{i}$"
      ],
      "text/plain": [
       "\\sum_{j}( -0.5012283*x_j*(x_i - 0.99863404)) - 0.49647868*x_i"
      ]
     },
     "execution_count": 26,
     "metadata": {},
     "output_type": "execute_result"
    }
   ],
   "source": [
    "mpnn_symb"
   ]
  },
  {
   "cell_type": "code",
   "execution_count": 27,
   "metadata": {},
   "outputs": [
    {
     "data": {
      "text/latex": [
       "$\\displaystyle \\sum_{j}(-0.5*x_j*(x_i - 1.0)) - 0.5 x_{i}$"
      ],
      "text/plain": [
       "\\sum_{j}(-0.5*x_j*(x_i - 1.0)) - 0.5*x_i"
      ]
     },
     "execution_count": 27,
     "metadata": {},
     "output_type": "execute_result"
    }
   ],
   "source": [
    "quantise(mpnn_symb)"
   ]
  },
  {
   "cell_type": "code",
   "execution_count": 28,
   "metadata": {},
   "outputs": [
    {
     "name": "stdout",
     "output_type": "stream",
     "text": [
      "Test loss of symbolic formula: 0.00043418907443992794\n",
      "Number of model's parameters: 2594\n",
      "Test loss best model: 0.00044093799078837037\n"
     ]
    }
   ],
   "source": [
    "g_symb = lambda x: -0.5012283*x[:, 1].unsqueeze(-1) * (x[:, 0] - 0.99863404).unsqueeze(-1)\n",
    "h_symb = lambda x: x[:, 1].unsqueeze(-1) - 0.49647868 * x[:, 0].unsqueeze(-1)\n",
    "\n",
    "y_true, y_pred = post_process_mpnn(\n",
    "    g_symb=g_symb,\n",
    "    h_symb=h_symb,\n",
    "    model_path='./saved_models/mpnn/model_epidemics_mpnn/epidemics_mpnn_ic3_s5/2',\n",
    "    test_set=EPID,\n",
    "    message_passing=False,\n",
    "    include_time=False,\n",
    "    method='dopri5'\n",
    ")"
   ]
  },
  {
   "cell_type": "markdown",
   "metadata": {},
   "source": [
    "#### IC=5"
   ]
  },
  {
   "cell_type": "code",
   "execution_count": 30,
   "metadata": {},
   "outputs": [
    {
     "name": "stderr",
     "output_type": "stream",
     "text": [
      "/home/rcappi/.conda/envs/my_env/lib/python3.12/site-packages/pysr/sr.py:2774: UserWarning: Note: it looks like you are running in Jupyter. The progress bar will be turned off.\n",
      "  warnings.warn(\n",
      "/home/rcappi/.conda/envs/my_env/lib/python3.12/site-packages/pysr/sr.py:2774: UserWarning: Note: it looks like you are running in Jupyter. The progress bar will be turned off.\n",
      "  warnings.warn(\n"
     ]
    }
   ],
   "source": [
    "model_path_mpnn = './saved_models/mpnn/model_epidemics_mpnn/epidemics_mpnn_ic5_s5/2/mpnn'\n",
    "\n",
    "pysr_model = lambda : get_pysr_model(\n",
    "    model_selection=\"score\",\n",
    "    n_iterations=200\n",
    ")\n",
    "\n",
    "mpnn_symb = fit_mpnn(\n",
    "    model_path=model_path_mpnn,\n",
    "    pysr_model=pysr_model,\n",
    "    sample_size=10000,\n",
    "    message_passing=False\n",
    ")"
   ]
  },
  {
   "cell_type": "code",
   "execution_count": 31,
   "metadata": {},
   "outputs": [
    {
     "data": {
      "text/latex": [
       "$\\displaystyle \\sum_{j}( -0.50012624*x_j*(x_i - 1.0000536)) - 0.5006757 x_{i}$"
      ],
      "text/plain": [
       "\\sum_{j}( -0.50012624*x_j*(x_i - 1.0000536)) - 0.5006757*x_i"
      ]
     },
     "execution_count": 31,
     "metadata": {},
     "output_type": "execute_result"
    }
   ],
   "source": [
    "mpnn_symb"
   ]
  },
  {
   "cell_type": "code",
   "execution_count": 32,
   "metadata": {},
   "outputs": [
    {
     "data": {
      "text/latex": [
       "$\\displaystyle \\sum_{j}(-0.5*x_j*(x_i - 1.0)) - 0.5 x_{i}$"
      ],
      "text/plain": [
       "\\sum_{j}(-0.5*x_j*(x_i - 1.0)) - 0.5*x_i"
      ]
     },
     "execution_count": 32,
     "metadata": {},
     "output_type": "execute_result"
    }
   ],
   "source": [
    "quantise(mpnn_symb)"
   ]
  },
  {
   "cell_type": "code",
   "execution_count": 33,
   "metadata": {},
   "outputs": [
    {
     "name": "stdout",
     "output_type": "stream",
     "text": [
      "Test loss of symbolic formula: 8.796314068604261e-05\n",
      "Number of model's parameters: 5042\n",
      "Test loss best model: 0.0006304859416559339\n"
     ]
    }
   ],
   "source": [
    "g_symb = lambda x: -0.50012624*x[:, 1].unsqueeze(-1) * (-1.0000536 + x[:, 0]).unsqueeze(-1)\n",
    "h_symb = lambda x: x[:, 1].unsqueeze(-1) - 0.5006757 * x[:, 0].unsqueeze(-1)\n",
    "\n",
    "y_true, y_pred = post_process_mpnn(\n",
    "    g_symb=g_symb,\n",
    "    h_symb=h_symb,\n",
    "    model_path='./saved_models/mpnn/model_epidemics_mpnn/epidemics_mpnn_ic5_s5/2',\n",
    "    test_set=EPID,\n",
    "    message_passing=False,\n",
    "    include_time=False,\n",
    "    method='dopri5'\n",
    ")"
   ]
  },
  {
   "cell_type": "markdown",
   "metadata": {},
   "source": [
    "### Neuronal MPNN"
   ]
  },
  {
   "cell_type": "markdown",
   "metadata": {},
   "source": [
    "#### IC=1"
   ]
  },
  {
   "cell_type": "code",
   "execution_count": 34,
   "metadata": {},
   "outputs": [
    {
     "name": "stderr",
     "output_type": "stream",
     "text": [
      "/home/rcappi/.conda/envs/my_env/lib/python3.12/site-packages/pysr/sr.py:2774: UserWarning: Note: it looks like you are running in Jupyter. The progress bar will be turned off.\n",
      "  warnings.warn(\n",
      "/home/rcappi/.conda/envs/my_env/lib/python3.12/site-packages/pysr/sr.py:2774: UserWarning: Note: it looks like you are running in Jupyter. The progress bar will be turned off.\n",
      "  warnings.warn(\n"
     ]
    }
   ],
   "source": [
    "model_path_mpnn = './saved_models/mpnn/model_neuronal_mpnn/neuronal_mpnn_ic1_s5/0/mpnn'\n",
    "\n",
    "pysr_model = lambda : get_pysr_model(\n",
    "    model_selection=\"score\",\n",
    "    n_iterations=200\n",
    ")\n",
    "\n",
    "mpnn_symb = fit_mpnn(\n",
    "    model_path=model_path_mpnn,\n",
    "    pysr_model=pysr_model,\n",
    "    sample_size=10000,\n",
    "    message_passing=False\n",
    ")"
   ]
  },
  {
   "cell_type": "code",
   "execution_count": 35,
   "metadata": {},
   "outputs": [
    {
     "data": {
      "text/latex": [
       "$\\displaystyle \\sum_{j}( 0.290232*tanh(x_j)) - 0.16600157 x_{i} + 0.23117396$"
      ],
      "text/plain": [
       "\\sum_{j}( 0.290232*tanh(x_j)) - 0.16600157*x_i + 0.23117396"
      ]
     },
     "execution_count": 35,
     "metadata": {},
     "output_type": "execute_result"
    }
   ],
   "source": [
    "mpnn_symb"
   ]
  },
  {
   "cell_type": "code",
   "execution_count": 36,
   "metadata": {},
   "outputs": [
    {
     "data": {
      "text/latex": [
       "$\\displaystyle \\sum_{j}(0.29*tanh(x_j)) - 0.17 x_{i} + 0.23$"
      ],
      "text/plain": [
       "\\sum_{j}(0.29*tanh(x_j)) - 0.17*x_i + 0.23"
      ]
     },
     "execution_count": 36,
     "metadata": {},
     "output_type": "execute_result"
    }
   ],
   "source": [
    "quantise(mpnn_symb)"
   ]
  },
  {
   "cell_type": "code",
   "execution_count": 37,
   "metadata": {},
   "outputs": [
    {
     "name": "stdout",
     "output_type": "stream",
     "text": [
      "Test loss of symbolic formula: 0.0215381421148777\n",
      "Number of model's parameters: 866\n",
      "Test loss best model: 0.005497673526406288\n"
     ]
    }
   ],
   "source": [
    "g_symb = lambda x: 0.290232 * torch.tanh(x[:, 1].unsqueeze(-1))\n",
    "h_symb = lambda x: -0.16600157 * x[:, 0].unsqueeze(-1) + x[:, 1].unsqueeze(-1) + 0.23117396\n",
    "\n",
    "y_true, y_pred = post_process_mpnn(\n",
    "    g_symb=g_symb,\n",
    "    h_symb=h_symb,\n",
    "    model_path='./saved_models/mpnn/model_neuronal_mpnn/neuronal_mpnn_ic1_s5/0',\n",
    "    test_set=NEUR,\n",
    "    message_passing=False,\n",
    "    include_time=False,\n",
    "    method='dopri5'\n",
    ")"
   ]
  },
  {
   "cell_type": "markdown",
   "metadata": {},
   "source": [
    "#### IC=3"
   ]
  },
  {
   "cell_type": "code",
   "execution_count": 38,
   "metadata": {},
   "outputs": [
    {
     "name": "stderr",
     "output_type": "stream",
     "text": [
      "/home/rcappi/.conda/envs/my_env/lib/python3.12/site-packages/pysr/sr.py:2774: UserWarning: Note: it looks like you are running in Jupyter. The progress bar will be turned off.\n",
      "  warnings.warn(\n",
      "/home/rcappi/.conda/envs/my_env/lib/python3.12/site-packages/pysr/sr.py:2774: UserWarning: Note: it looks like you are running in Jupyter. The progress bar will be turned off.\n",
      "  warnings.warn(\n"
     ]
    }
   ],
   "source": [
    "model_path_mpnn = \"./saved_models/mpnn/model_neuronal_mpnn/neuronal_mpnn_ic3_s5/1/mpnn\"\n",
    "\n",
    "pysr_model = lambda : get_pysr_model(\n",
    "    model_selection=\"score\",\n",
    "    n_iterations=200\n",
    ")\n",
    "\n",
    "mpnn_symb = fit_mpnn(\n",
    "    model_path=model_path_mpnn,\n",
    "    pysr_model=pysr_model,\n",
    "    sample_size=10000,\n",
    "    message_passing=False\n",
    ")"
   ]
  },
  {
   "cell_type": "code",
   "execution_count": 39,
   "metadata": {},
   "outputs": [
    {
     "data": {
      "text/latex": [
       "$\\displaystyle \\sum_{j}( 0.2963725*tanh(x_j)) - \\log{\\left(x_{i} + 1 \\right)} + \\tanh{\\left(x_{i} \\right)}$"
      ],
      "text/plain": [
       "\\sum_{j}( 0.2963725*tanh(x_j)) - log(x_i + 1) + tanh(x_i)"
      ]
     },
     "execution_count": 39,
     "metadata": {},
     "output_type": "execute_result"
    }
   ],
   "source": [
    "mpnn_symb"
   ]
  },
  {
   "cell_type": "code",
   "execution_count": 40,
   "metadata": {},
   "outputs": [
    {
     "data": {
      "text/latex": [
       "$\\displaystyle \\sum_{j}(0.3*tanh(x_j)) - \\log{\\left(x_{i} + 1 \\right)} + \\tanh{\\left(x_{i} \\right)}$"
      ],
      "text/plain": [
       "\\sum_{j}(0.3*tanh(x_j)) - log(x_i + 1) + tanh(x_i)"
      ]
     },
     "execution_count": 40,
     "metadata": {},
     "output_type": "execute_result"
    }
   ],
   "source": [
    "quantise(mpnn_symb)"
   ]
  },
  {
   "cell_type": "code",
   "execution_count": 41,
   "metadata": {},
   "outputs": [
    {
     "name": "stdout",
     "output_type": "stream",
     "text": [
      "Test loss of symbolic formula: 0.032588619738817215\n",
      "Number of model's parameters: 3698\n",
      "Test loss best model: 0.0016864202916622162\n"
     ]
    }
   ],
   "source": [
    "g_symb = lambda x: 0.2963725 * torch.tanh(x[:, 1].unsqueeze(-1))\n",
    "h_symb = lambda x: x[:, 1].unsqueeze(-1) - torch.log(x[:, 0].unsqueeze(-1) + 1) + torch.tanh(x[:, 0].unsqueeze(-1))\n",
    "\n",
    "y_true, y_pred = post_process_mpnn(\n",
    "    g_symb=g_symb,\n",
    "    h_symb=h_symb,\n",
    "    model_path='./saved_models/mpnn/model_neuronal_mpnn/neuronal_mpnn_ic3_s5/1',\n",
    "    test_set=NEUR,\n",
    "    message_passing=False,\n",
    "    include_time=False,\n",
    "    method='dopri5'\n",
    ")"
   ]
  },
  {
   "cell_type": "markdown",
   "metadata": {},
   "source": [
    "#### IC=5"
   ]
  },
  {
   "cell_type": "code",
   "execution_count": 42,
   "metadata": {},
   "outputs": [
    {
     "name": "stderr",
     "output_type": "stream",
     "text": [
      "/home/rcappi/.conda/envs/my_env/lib/python3.12/site-packages/pysr/sr.py:2774: UserWarning: Note: it looks like you are running in Jupyter. The progress bar will be turned off.\n",
      "  warnings.warn(\n",
      "/home/rcappi/.conda/envs/my_env/lib/python3.12/site-packages/pysr/sr.py:2774: UserWarning: Note: it looks like you are running in Jupyter. The progress bar will be turned off.\n",
      "  warnings.warn(\n"
     ]
    }
   ],
   "source": [
    "model_path_mpnn = './saved_models/mpnn/model_neuronal_mpnn/neuronal_mpnn_ic5_s5/0/mpnn'\n",
    "\n",
    "pysr_model = lambda : get_pysr_model(\n",
    "    model_selection=\"score\",\n",
    "    n_iterations=200\n",
    ")\n",
    "\n",
    "mpnn_symb = fit_mpnn(\n",
    "    model_path=model_path_mpnn,\n",
    "    pysr_model=pysr_model,\n",
    "    sample_size=10000,\n",
    "    message_passing=False\n",
    ")"
   ]
  },
  {
   "cell_type": "code",
   "execution_count": 43,
   "metadata": {},
   "outputs": [
    {
     "data": {
      "text/latex": [
       "$\\displaystyle \\sum_{j}( 0.29917783*tanh(x_j)) - 0.503255079013815 x_{i} + \\tanh{\\left(\\log{\\left(x_{i} + 1 \\right)} \\right)}$"
      ],
      "text/plain": [
       "\\sum_{j}( 0.29917783*tanh(x_j)) - 0.503255079013815*x_i + tanh(log(x_i + 1))"
      ]
     },
     "execution_count": 43,
     "metadata": {},
     "output_type": "execute_result"
    }
   ],
   "source": [
    "mpnn_symb"
   ]
  },
  {
   "cell_type": "code",
   "execution_count": 44,
   "metadata": {},
   "outputs": [
    {
     "data": {
      "text/latex": [
       "$\\displaystyle \\sum_{j}(0.3*tanh(x_j)) - 0.5 x_{i} + \\tanh{\\left(\\log{\\left(x_{i} + 1 \\right)} \\right)}$"
      ],
      "text/plain": [
       "\\sum_{j}(0.3*tanh(x_j)) - 0.5*x_i + tanh(log(x_i + 1))"
      ]
     },
     "execution_count": 44,
     "metadata": {},
     "output_type": "execute_result"
    }
   ],
   "source": [
    "quantise(mpnn_symb)"
   ]
  },
  {
   "cell_type": "code",
   "execution_count": 71,
   "metadata": {},
   "outputs": [
    {
     "name": "stdout",
     "output_type": "stream",
     "text": [
      "Test loss of symbolic formula: 0.004651771858334541\n",
      "Number of model's parameters: 418\n",
      "Test loss best model: 0.0009217999177053571\n"
     ]
    }
   ],
   "source": [
    "g_symb = lambda x: 0.29917783 * torch.tanh(x[:, 1].unsqueeze(-1))\n",
    "h_symb = lambda x: -0.503255079013815 * x[:, 0].unsqueeze(-1) + x[:, 1].unsqueeze(-1) + torch.tanh(torch.log(x[:, 0].unsqueeze(-1) + 1))\n",
    "\n",
    "y_true, y_pred = post_process_mpnn(\n",
    "    g_symb=g_symb,\n",
    "    h_symb=h_symb,\n",
    "    model_path='./saved_models/mpnn/model_neuronal_mpnn/neuronal_mpnn_ic5_s5/0',\n",
    "    test_set=NEUR,\n",
    "    message_passing=False,\n",
    "    include_time=False,\n",
    "    method='dopri5'\n",
    ")"
   ]
  },
  {
   "cell_type": "markdown",
   "metadata": {},
   "source": [
    "### Biochemical MPNN"
   ]
  },
  {
   "cell_type": "markdown",
   "metadata": {},
   "source": [
    "#### IC=3"
   ]
  },
  {
   "cell_type": "code",
   "execution_count": 46,
   "metadata": {},
   "outputs": [
    {
     "name": "stderr",
     "output_type": "stream",
     "text": [
      "/home/rcappi/.conda/envs/my_env/lib/python3.12/site-packages/pysr/sr.py:2774: UserWarning: Note: it looks like you are running in Jupyter. The progress bar will be turned off.\n",
      "  warnings.warn(\n",
      "/home/rcappi/.conda/envs/my_env/lib/python3.12/site-packages/pysr/sr.py:2774: UserWarning: Note: it looks like you are running in Jupyter. The progress bar will be turned off.\n",
      "  warnings.warn(\n"
     ]
    }
   ],
   "source": [
    "model_path_mpnn = './saved_models/mpnn/model_biochemical_mpnn/biochemical_mpnn_ic3_s5/0/mpnn'\n",
    "\n",
    "pysr_model = lambda : get_pysr_model(\n",
    "    model_selection=\"score\",\n",
    "    n_iterations=200\n",
    ")\n",
    "\n",
    "mpnn_symb = fit_mpnn(\n",
    "    model_path=model_path_mpnn,\n",
    "    pysr_model=pysr_model,\n",
    "    sample_size=10000,\n",
    "    message_passing=False\n",
    ")"
   ]
  },
  {
   "cell_type": "code",
   "execution_count": 47,
   "metadata": {},
   "outputs": [
    {
     "data": {
      "text/latex": [
       "$\\displaystyle \\sum_{j}( -0.4983484*x_i*x_j) + \\log{\\left(2.6209304 - x_{i} \\right)}$"
      ],
      "text/plain": [
       "\\sum_{j}( -0.4983484*x_i*x_j) + log(2.6209304 - x_i)"
      ]
     },
     "execution_count": 47,
     "metadata": {},
     "output_type": "execute_result"
    }
   ],
   "source": [
    "mpnn_symb"
   ]
  },
  {
   "cell_type": "code",
   "execution_count": 48,
   "metadata": {},
   "outputs": [
    {
     "data": {
      "text/latex": [
       "$\\displaystyle \\sum_{j}(-0.5*x_i*x_j) + \\log{\\left(2.62 - x_{i} \\right)}$"
      ],
      "text/plain": [
       "\\sum_{j}(-0.5*x_i*x_j) + log(2.62 - x_i)"
      ]
     },
     "execution_count": 48,
     "metadata": {},
     "output_type": "execute_result"
    }
   ],
   "source": [
    "quantise(mpnn_symb)"
   ]
  },
  {
   "cell_type": "code",
   "execution_count": 49,
   "metadata": {},
   "outputs": [
    {
     "name": "stdout",
     "output_type": "stream",
     "text": [
      "Test loss of symbolic formula: 0.0013972758315503597\n",
      "Number of model's parameters: 506\n",
      "Test loss best model: 0.0006739266682416201\n"
     ]
    }
   ],
   "source": [
    "g_symb = lambda x: - 0.4983484 * x[:, 0].unsqueeze(-1) * x[:,1].unsqueeze(-1)\n",
    "h_symb = lambda x: x[:, 1].unsqueeze(-1) + torch.log(2.6209304 - x[:, 0].unsqueeze(-1))\n",
    "\n",
    "y_true, y_pred = post_process_mpnn(\n",
    "    g_symb=g_symb,\n",
    "    h_symb=h_symb,\n",
    "    model_path='./saved_models/mpnn/model_biochemical_mpnn/biochemical_mpnn_ic3_s5/0',\n",
    "    test_set=BIO,\n",
    "    message_passing=False,\n",
    "    include_time=False,\n",
    "    method='dopri5'\n",
    ")"
   ]
  },
  {
   "cell_type": "markdown",
   "metadata": {},
   "source": [
    "#### IC=1"
   ]
  },
  {
   "cell_type": "code",
   "execution_count": 50,
   "metadata": {},
   "outputs": [
    {
     "name": "stderr",
     "output_type": "stream",
     "text": [
      "/home/rcappi/.conda/envs/my_env/lib/python3.12/site-packages/pysr/sr.py:2774: UserWarning: Note: it looks like you are running in Jupyter. The progress bar will be turned off.\n",
      "  warnings.warn(\n",
      "/home/rcappi/.conda/envs/my_env/lib/python3.12/site-packages/pysr/sr.py:2774: UserWarning: Note: it looks like you are running in Jupyter. The progress bar will be turned off.\n",
      "  warnings.warn(\n"
     ]
    }
   ],
   "source": [
    "model_path_mpnn = './saved_models/mpnn/model_biochemical_mpnn/biochemical_mpnn_ic1_s5/1/mpnn'\n",
    "\n",
    "pysr_model = lambda : get_pysr_model(\n",
    "    model_selection=\"score\",\n",
    "    n_iterations=200\n",
    ")\n",
    "\n",
    "mpnn_symb = fit_mpnn(\n",
    "    model_path=model_path_mpnn,\n",
    "    pysr_model=pysr_model,\n",
    "    sample_size=10000,\n",
    "    message_passing=False\n",
    ")"
   ]
  },
  {
   "cell_type": "code",
   "execution_count": 53,
   "metadata": {},
   "outputs": [
    {
     "data": {
      "text/latex": [
       "$\\displaystyle \\sum_{j}( -0.5009741*x_i*x_j) + \\log{\\left(2.6314088 - x_{i} \\right)}$"
      ],
      "text/plain": [
       "\\sum_{j}( -0.5009741*x_i*x_j) + log(2.6314088 - x_i)"
      ]
     },
     "execution_count": 53,
     "metadata": {},
     "output_type": "execute_result"
    }
   ],
   "source": [
    "mpnn_symb"
   ]
  },
  {
   "cell_type": "code",
   "execution_count": 54,
   "metadata": {},
   "outputs": [
    {
     "data": {
      "text/latex": [
       "$\\displaystyle \\sum_{j}(-0.5*x_i*x_j) + \\log{\\left(2.63 - x_{i} \\right)}$"
      ],
      "text/plain": [
       "\\sum_{j}(-0.5*x_i*x_j) + log(2.63 - x_i)"
      ]
     },
     "execution_count": 54,
     "metadata": {},
     "output_type": "execute_result"
    }
   ],
   "source": [
    "quantise(mpnn_symb)"
   ]
  },
  {
   "cell_type": "code",
   "execution_count": 55,
   "metadata": {},
   "outputs": [
    {
     "name": "stdout",
     "output_type": "stream",
     "text": [
      "Test loss of symbolic formula: 0.0016533834859728813\n",
      "Number of model's parameters: 5162\n",
      "Test loss best model: 0.0010797070572152734\n"
     ]
    }
   ],
   "source": [
    "g_symb = lambda x: - 0.5009741 * x[:, 0].unsqueeze(-1) * x[:,1].unsqueeze(-1)\n",
    "h_symb = lambda x: x[:, 1].unsqueeze(-1) + torch.log(2.6314088 - x[:, 0].unsqueeze(-1))\n",
    "\n",
    "y_true, y_pred = post_process_mpnn(\n",
    "    g_symb=g_symb,\n",
    "    h_symb=h_symb,\n",
    "    model_path='./saved_models/mpnn/model_biochemical_mpnn/biochemical_mpnn_ic1_s5/1',\n",
    "    test_set=BIO,\n",
    "    message_passing=False,\n",
    "    include_time=False,\n",
    "    method='dopri5'\n",
    ")"
   ]
  },
  {
   "cell_type": "markdown",
   "metadata": {},
   "source": [
    "#### IC=5"
   ]
  },
  {
   "cell_type": "code",
   "execution_count": 56,
   "metadata": {},
   "outputs": [
    {
     "name": "stderr",
     "output_type": "stream",
     "text": [
      "/home/rcappi/.conda/envs/my_env/lib/python3.12/site-packages/pysr/sr.py:2774: UserWarning: Note: it looks like you are running in Jupyter. The progress bar will be turned off.\n",
      "  warnings.warn(\n",
      "/home/rcappi/.conda/envs/my_env/lib/python3.12/site-packages/pysr/sr.py:2774: UserWarning: Note: it looks like you are running in Jupyter. The progress bar will be turned off.\n",
      "  warnings.warn(\n"
     ]
    }
   ],
   "source": [
    "model_path_mpnn = './saved_models/mpnn/model_biochemical_mpnn/biochemical_mpnn_ic5_s5/2/mpnn'\n",
    "\n",
    "pysr_model = lambda : get_pysr_model(\n",
    "    model_selection=\"score\",\n",
    "    n_iterations=200\n",
    ")\n",
    "\n",
    "mpnn_symb = fit_mpnn(\n",
    "    model_path=model_path_mpnn,\n",
    "    pysr_model=pysr_model,\n",
    "    sample_size=10000,\n",
    "    message_passing=False\n",
    ")"
   ]
  },
  {
   "cell_type": "code",
   "execution_count": 59,
   "metadata": {},
   "outputs": [
    {
     "data": {
      "text/latex": [
       "$\\displaystyle \\sum_{j}( -0.5005382*x_i*x_j) + \\sin{\\left(\\tanh{\\left(x_{i} \\right)} + 1.8312566 \\right)}$"
      ],
      "text/plain": [
       "\\sum_{j}( -0.5005382*x_i*x_j) + sin(tanh(x_i) + 1.8312566)"
      ]
     },
     "execution_count": 59,
     "metadata": {},
     "output_type": "execute_result"
    }
   ],
   "source": [
    "mpnn_symb"
   ]
  },
  {
   "cell_type": "code",
   "execution_count": 60,
   "metadata": {},
   "outputs": [
    {
     "data": {
      "text/latex": [
       "$\\displaystyle \\sum_{j}(-0.5*x_i*x_j) + \\sin{\\left(\\tanh{\\left(x_{i} \\right)} + 1.83 \\right)}$"
      ],
      "text/plain": [
       "\\sum_{j}(-0.5*x_i*x_j) + sin(tanh(x_i) + 1.83)"
      ]
     },
     "execution_count": 60,
     "metadata": {},
     "output_type": "execute_result"
    }
   ],
   "source": [
    "quantise(mpnn_symb)"
   ]
  },
  {
   "cell_type": "code",
   "execution_count": 61,
   "metadata": {},
   "outputs": [
    {
     "name": "stdout",
     "output_type": "stream",
     "text": [
      "Test loss of symbolic formula: 0.0005971380160190165\n",
      "Number of model's parameters: 2570\n",
      "Test loss best model: 0.0003442340821493417\n"
     ]
    }
   ],
   "source": [
    "g_symb = lambda x: - 0.5005382 * x[:, 0].unsqueeze(-1) * x[:,1].unsqueeze(-1)\n",
    "h_symb = lambda x: x[:, 1].unsqueeze(-1) + torch.sin(torch.tanh(x[:, 0].unsqueeze(-1)) + 1.8312566)\n",
    "\n",
    "y_true, y_pred = post_process_mpnn(\n",
    "    g_symb=g_symb,\n",
    "    h_symb=h_symb,\n",
    "    model_path='./saved_models/mpnn/model_biochemical_mpnn/biochemical_mpnn_ic5_s5/2',\n",
    "    test_set=BIO,\n",
    "    message_passing=False,\n",
    "    include_time=False,\n",
    "    method='dopri5'\n",
    ")"
   ]
  },
  {
   "cell_type": "markdown",
   "metadata": {},
   "source": [
    "### Population MPNN"
   ]
  },
  {
   "cell_type": "markdown",
   "metadata": {},
   "source": [
    "#### IC=1"
   ]
  },
  {
   "cell_type": "code",
   "execution_count": 62,
   "metadata": {},
   "outputs": [
    {
     "name": "stderr",
     "output_type": "stream",
     "text": [
      "/home/rcappi/.conda/envs/my_env/lib/python3.12/site-packages/pysr/sr.py:2774: UserWarning: Note: it looks like you are running in Jupyter. The progress bar will be turned off.\n",
      "  warnings.warn(\n",
      "/home/rcappi/.conda/envs/my_env/lib/python3.12/site-packages/pysr/sr.py:2774: UserWarning: Note: it looks like you are running in Jupyter. The progress bar will be turned off.\n",
      "  warnings.warn(\n"
     ]
    }
   ],
   "source": [
    "model_path_mpnn = \"./saved_models/mpnn/model_population_mpnn/population_mpnn_ic1_s5/0/mpnn\"\n",
    "\n",
    "pysr_model = lambda : get_pysr_model(\n",
    "    model_selection=\"score\",\n",
    "    n_iterations=200\n",
    ")\n",
    "\n",
    "mpnn_symb = fit_mpnn(\n",
    "    model_path=model_path_mpnn,\n",
    "    pysr_model=pysr_model,\n",
    "    sample_size=10000,\n",
    "    message_passing=False\n",
    ")"
   ]
  },
  {
   "cell_type": "code",
   "execution_count": 63,
   "metadata": {},
   "outputs": [
    {
     "data": {
      "text/latex": [
       "$\\displaystyle \\sum_{j}( 0.1949548*x_j**2) - 0.89237803 \\log{\\left(x_{i} + 1 \\right)}^{2}$"
      ],
      "text/plain": [
       "\\sum_{j}( 0.1949548*x_j**2) - 0.89237803*log(x_i + 1)**2"
      ]
     },
     "execution_count": 63,
     "metadata": {},
     "output_type": "execute_result"
    }
   ],
   "source": [
    "mpnn_symb"
   ]
  },
  {
   "cell_type": "code",
   "execution_count": 64,
   "metadata": {},
   "outputs": [
    {
     "data": {
      "text/latex": [
       "$\\displaystyle \\sum_{j}(0.19*x_j**2) - 0.89 \\log{\\left(x_{i} + 1 \\right)}^{2}$"
      ],
      "text/plain": [
       "\\sum_{j}(0.19*x_j**2) - 0.89*log(x_i + 1)**2"
      ]
     },
     "execution_count": 64,
     "metadata": {},
     "output_type": "execute_result"
    }
   ],
   "source": [
    "quantise(mpnn_symb)"
   ]
  },
  {
   "cell_type": "code",
   "execution_count": 65,
   "metadata": {},
   "outputs": [
    {
     "name": "stdout",
     "output_type": "stream",
     "text": [
      "Test loss of symbolic formula: 0.016310198232531548\n",
      "Number of model's parameters: 2338\n",
      "Test loss best model: 0.020823068916797638\n"
     ]
    }
   ],
   "source": [
    "g_symb = lambda x: 0.1949548 * torch.square(x[:, 1].unsqueeze(-1))\n",
    "h_symb = lambda x: x[:, 1].unsqueeze(-1) - 0.89237803 * torch.square(torch.log(x[:, 0].unsqueeze(-1) + 1))\n",
    "\n",
    "y_true, y_pred = post_process_mpnn(\n",
    "    g_symb=g_symb,\n",
    "    h_symb=h_symb,\n",
    "    model_path='./saved_models/mpnn/model_population_mpnn/population_mpnn_ic1_s5/0',\n",
    "    test_set=POP,\n",
    "    message_passing=False,\n",
    "    include_time=False,\n",
    "    method='dopri5'\n",
    ")"
   ]
  },
  {
   "cell_type": "markdown",
   "metadata": {},
   "source": [
    "#### IC=3"
   ]
  },
  {
   "cell_type": "code",
   "execution_count": 66,
   "metadata": {},
   "outputs": [
    {
     "name": "stderr",
     "output_type": "stream",
     "text": [
      "/home/rcappi/.conda/envs/my_env/lib/python3.12/site-packages/pysr/sr.py:2774: UserWarning: Note: it looks like you are running in Jupyter. The progress bar will be turned off.\n",
      "  warnings.warn(\n",
      "/home/rcappi/.conda/envs/my_env/lib/python3.12/site-packages/pysr/sr.py:2774: UserWarning: Note: it looks like you are running in Jupyter. The progress bar will be turned off.\n",
      "  warnings.warn(\n"
     ]
    }
   ],
   "source": [
    "model_path_mpnn = \"./saved_models/mpnn/model_population_mpnn/population_mpnn_ic3_s5/0/mpnn\"\n",
    "\n",
    "pysr_model = lambda : get_pysr_model(\n",
    "    model_selection=\"score\",\n",
    "    n_iterations=200\n",
    ")\n",
    "\n",
    "mpnn_symb = fit_mpnn(\n",
    "    model_path=model_path_mpnn,\n",
    "    pysr_model=pysr_model,\n",
    "    sample_size=10000,\n",
    "    message_passing=False\n",
    ")"
   ]
  },
  {
   "cell_type": "code",
   "execution_count": 67,
   "metadata": {},
   "outputs": [
    {
     "data": {
      "text/latex": [
       "$\\displaystyle \\sum_{j}( 0.19598695557314*x_j**2) - \\log{\\left(x_{i} + 1 \\right)}^{2}$"
      ],
      "text/plain": [
       "\\sum_{j}( 0.19598695557314*x_j**2) - log(x_i + 1)**2"
      ]
     },
     "execution_count": 67,
     "metadata": {},
     "output_type": "execute_result"
    }
   ],
   "source": [
    "mpnn_symb"
   ]
  },
  {
   "cell_type": "code",
   "execution_count": 68,
   "metadata": {},
   "outputs": [
    {
     "data": {
      "text/latex": [
       "$\\displaystyle \\sum_{j}(0.2*x_j**2) - \\log{\\left(x_{i} + 1 \\right)}^{2}$"
      ],
      "text/plain": [
       "\\sum_{j}(0.2*x_j**2) - log(x_i + 1)**2"
      ]
     },
     "execution_count": 68,
     "metadata": {},
     "output_type": "execute_result"
    }
   ],
   "source": [
    "quantise(mpnn_symb)"
   ]
  },
  {
   "cell_type": "code",
   "execution_count": 69,
   "metadata": {},
   "outputs": [
    {
     "name": "stdout",
     "output_type": "stream",
     "text": [
      "Test loss of symbolic formula: 0.026079153642058372\n",
      "Number of model's parameters: 2690\n",
      "Test loss best model: 0.0051714167930185795\n"
     ]
    }
   ],
   "source": [
    "g_symb = lambda x: 0.19598695557314 * torch.square(x[:, 1].unsqueeze(-1))\n",
    "h_symb = lambda x: x[:, 1].unsqueeze(-1) - torch.square(torch.log(x[:, 0].unsqueeze(-1) + 1))\n",
    "\n",
    "y_true, y_pred = post_process_mpnn(\n",
    "    g_symb=g_symb,\n",
    "    h_symb=h_symb,\n",
    "    model_path='./saved_models/mpnn/model_population_mpnn/population_mpnn_ic3_s5/0',\n",
    "    test_set=POP,\n",
    "    message_passing=False,\n",
    "    include_time=False,\n",
    "    method='dopri5'\n",
    ")"
   ]
  },
  {
   "cell_type": "markdown",
   "metadata": {},
   "source": [
    "#### IC=5"
   ]
  },
  {
   "cell_type": "code",
   "execution_count": 72,
   "metadata": {},
   "outputs": [
    {
     "name": "stderr",
     "output_type": "stream",
     "text": [
      "/home/rcappi/.conda/envs/my_env/lib/python3.12/site-packages/pysr/sr.py:2774: UserWarning: Note: it looks like you are running in Jupyter. The progress bar will be turned off.\n",
      "  warnings.warn(\n",
      "/home/rcappi/.conda/envs/my_env/lib/python3.12/site-packages/pysr/sr.py:2774: UserWarning: Note: it looks like you are running in Jupyter. The progress bar will be turned off.\n",
      "  warnings.warn(\n"
     ]
    }
   ],
   "source": [
    "model_path_mpnn = \"./saved_models/mpnn/model_population_mpnn/population_mpnn_ic5_s5/0/mpnn\"\n",
    "\n",
    "pysr_model = lambda : get_pysr_model(\n",
    "    model_selection=\"score\",\n",
    "    n_iterations=200\n",
    ")\n",
    "\n",
    "mpnn_symb = fit_mpnn(\n",
    "    model_path=model_path_mpnn,\n",
    "    pysr_model=pysr_model,\n",
    "    sample_size=10000,\n",
    "    message_passing=False\n",
    ")"
   ]
  },
  {
   "cell_type": "code",
   "execution_count": 73,
   "metadata": {},
   "outputs": [
    {
     "data": {
      "text/latex": [
       "$\\displaystyle \\sum_{j}( 0.197697369388124*x_j**2) - \\sin{\\left(0.5081722 x_{i}^{2} \\right)}$"
      ],
      "text/plain": [
       "\\sum_{j}( 0.197697369388124*x_j**2) - sin(0.5081722*x_i**2)"
      ]
     },
     "execution_count": 73,
     "metadata": {},
     "output_type": "execute_result"
    }
   ],
   "source": [
    "mpnn_symb"
   ]
  },
  {
   "cell_type": "code",
   "execution_count": 74,
   "metadata": {},
   "outputs": [
    {
     "data": {
      "text/latex": [
       "$\\displaystyle \\sum_{j}(0.2*x_j**2) - \\sin{\\left(0.51 x_{i}^{2} \\right)}$"
      ],
      "text/plain": [
       "\\sum_{j}(0.2*x_j**2) - sin(0.51*x_i**2)"
      ]
     },
     "execution_count": 74,
     "metadata": {},
     "output_type": "execute_result"
    }
   ],
   "source": [
    "quantise(mpnn_symb)"
   ]
  },
  {
   "cell_type": "code",
   "execution_count": 75,
   "metadata": {},
   "outputs": [
    {
     "name": "stdout",
     "output_type": "stream",
     "text": [
      "Test loss of symbolic formula: 0.010449079796671867\n",
      "Number of model's parameters: 2618\n",
      "Test loss best model: 0.002170089865103364\n"
     ]
    }
   ],
   "source": [
    "g_symb = lambda x: 0.197697369388124 * torch.square(x[:, 1].unsqueeze(-1))\n",
    "h_symb = lambda x: x[:, 1].unsqueeze(-1) - torch.sin(0.5081722* torch.square(x[:, 0].unsqueeze(-1)))\n",
    "\n",
    "y_true, y_pred = post_process_mpnn(\n",
    "    g_symb=g_symb,\n",
    "    h_symb=h_symb,\n",
    "    model_path='./saved_models/mpnn/model_population_mpnn/population_mpnn_ic5_s5/0',\n",
    "    test_set=POP,\n",
    "    message_passing=False,\n",
    "    include_time=False,\n",
    "    method='dopri5'\n",
    ")"
   ]
  },
  {
   "cell_type": "markdown",
   "metadata": {},
   "source": [
    "## Symb Reg\n"
   ]
  },
  {
   "cell_type": "markdown",
   "metadata": {},
   "source": [
    "### Biochemical"
   ]
  },
  {
   "cell_type": "markdown",
   "metadata": {},
   "source": [
    "#### IC=1"
   ]
  },
  {
   "cell_type": "code",
   "execution_count": 16,
   "metadata": {},
   "outputs": [],
   "source": [
    "model_path_mpnn = './saved_models_optuna/model-biochemical-mpnn/biochemical_mpnn_ic1_s5_pd_mult_12/0/mpnn'\n",
    "\n",
    "pysr_model = lambda : get_pysr_model(\n",
    "    model_selection=\"score\",\n",
    "    n_iterations=200\n",
    ")\n",
    "\n",
    "mpnn_symb, symb_g, symb_h = fit_mpnn(\n",
    "    model_path=model_path_mpnn,\n",
    "    pysr_model=pysr_model,\n",
    "    sample_size=10000,\n",
    "    message_passing=False\n",
    ")"
   ]
  },
  {
   "cell_type": "code",
   "execution_count": 17,
   "metadata": {},
   "outputs": [
    {
     "data": {
      "text/latex": [
       "$\\displaystyle \\sum_{j}( -0.4989559*x_i*x_j) - 0.49701315 x_{i} + 0.9987079$"
      ],
      "text/plain": [
       "\\sum_{j}( -0.4989559*x_i*x_j) - 0.49701315*x_i + 0.9987079"
      ]
     },
     "execution_count": 17,
     "metadata": {},
     "output_type": "execute_result"
    }
   ],
   "source": [
    "mpnn_symb"
   ]
  },
  {
   "cell_type": "code",
   "execution_count": 18,
   "metadata": {},
   "outputs": [
    {
     "name": "stdout",
     "output_type": "stream",
     "text": [
      "Test loss of symbolic formula: 0.0003540606121532619\n",
      "Number of model's parameters: 2122\n",
      "Test loss best model: 0.0004302817105781287\n"
     ]
    }
   ],
   "source": [
    "g_symb = make_callable(symb_g)\n",
    "h_symb = make_callable(symb_h)\n",
    "\n",
    "y_true, y_pred = post_process_mpnn(\n",
    "    g_symb=g_symb,\n",
    "    h_symb=h_symb,\n",
    "    model_path='./saved_models_optuna/model-biochemical-mpnn/biochemical_mpnn_ic1_s5_pd_mult_12/0',\n",
    "    test_set=BIO,\n",
    "    message_passing=False,\n",
    "    include_time=False,\n",
    "    method='dopri5'\n",
    ")"
   ]
  },
  {
   "cell_type": "markdown",
   "metadata": {},
   "source": [
    "### Kuramoto"
   ]
  },
  {
   "cell_type": "markdown",
   "metadata": {},
   "source": [
    "#### IC=1"
   ]
  },
  {
   "cell_type": "code",
   "execution_count": 19,
   "metadata": {},
   "outputs": [],
   "source": [
    "model_path_mpnn = './saved_models_optuna/model-kuramoto-mpnn/kuramoto_mpnn_ic1_s5_pd_mult_12/0/mpnn'\n",
    "\n",
    "pysr_model = lambda : get_pysr_model(\n",
    "    model_selection=\"score\",\n",
    "    n_iterations=200\n",
    ")\n",
    "\n",
    "mpnn_symb, symb_g, symb_h = fit_mpnn(\n",
    "    model_path=model_path_mpnn,\n",
    "    pysr_model=pysr_model,\n",
    "    sample_size=10000,\n",
    "    message_passing=False\n",
    ")"
   ]
  },
  {
   "cell_type": "code",
   "execution_count": 20,
   "metadata": {},
   "outputs": [
    {
     "data": {
      "text/latex": [
       "$\\displaystyle \\sum_{j}( -0.4971926*sin(x_i - x_j)) + 2.0009475$"
      ],
      "text/plain": [
       "\\sum_{j}( -0.4971926*sin(x_i - x_j)) + 2.0009475"
      ]
     },
     "execution_count": 20,
     "metadata": {},
     "output_type": "execute_result"
    }
   ],
   "source": [
    "mpnn_symb"
   ]
  },
  {
   "cell_type": "code",
   "execution_count": 21,
   "metadata": {},
   "outputs": [
    {
     "data": {
      "text/latex": [
       "$\\displaystyle \\sum_{j}(-0.5*sin(x_i - x_j)) + 2.0$"
      ],
      "text/plain": [
       "\\sum_{j}(-0.5*sin(x_i - x_j)) + 2.0"
      ]
     },
     "execution_count": 21,
     "metadata": {},
     "output_type": "execute_result"
    }
   ],
   "source": [
    "quantise(mpnn_symb)"
   ]
  },
  {
   "cell_type": "code",
   "execution_count": 22,
   "metadata": {},
   "outputs": [
    {
     "name": "stdout",
     "output_type": "stream",
     "text": [
      "Test loss of symbolic formula: 0.0023325488436967134\n",
      "Number of model's parameters: 3514\n",
      "Test loss best model: 0.0057465676218271255\n"
     ]
    }
   ],
   "source": [
    "g_symb = make_callable(symb_g)\n",
    "h_symb = make_callable(symb_h)\n",
    "\n",
    "y_true, y_pred = post_process_mpnn(\n",
    "    g_symb=g_symb,\n",
    "    h_symb=h_symb,\n",
    "    model_path='./saved_models_optuna/model-kuramoto-mpnn/kuramoto_mpnn_ic1_s5_pd_mult_12/0',\n",
    "    test_set=KUR,\n",
    "    message_passing=False,\n",
    "    include_time=False,\n",
    "    method='dopri5'\n",
    ")"
   ]
  },
  {
   "cell_type": "markdown",
   "metadata": {},
   "source": [
    "### Epidemics"
   ]
  },
  {
   "cell_type": "markdown",
   "metadata": {},
   "source": [
    "#### IC=1"
   ]
  },
  {
   "cell_type": "code",
   "execution_count": 23,
   "metadata": {},
   "outputs": [],
   "source": [
    "model_path_mpnn = './saved_models_optuna/model-epidemics-mpnn/epidemics_mpnn_ic1_s5_pd_mult_12/0/mpnn'\n",
    "\n",
    "pysr_model = lambda : get_pysr_model(\n",
    "    model_selection=\"score\",\n",
    "    n_iterations=200\n",
    ")\n",
    "\n",
    "mpnn_symb, symb_g, symb_h = fit_mpnn(\n",
    "    model_path=model_path_mpnn,\n",
    "    pysr_model=pysr_model,\n",
    "    sample_size=10000,\n",
    "    message_passing=False\n",
    ")"
   ]
  },
  {
   "cell_type": "code",
   "execution_count": 24,
   "metadata": {},
   "outputs": [
    {
     "data": {
      "text/latex": [
       "$\\displaystyle \\sum_{j}( x_j*(0.49643058 - 0.49589118*x_i)) - 0.49904868 x_{i}$"
      ],
      "text/plain": [
       "\\sum_{j}( x_j*(0.49643058 - 0.49589118*x_i)) - 0.49904868*x_i"
      ]
     },
     "execution_count": 24,
     "metadata": {},
     "output_type": "execute_result"
    }
   ],
   "source": [
    "mpnn_symb"
   ]
  },
  {
   "cell_type": "code",
   "execution_count": 25,
   "metadata": {},
   "outputs": [
    {
     "name": "stdout",
     "output_type": "stream",
     "text": [
      "Test loss of symbolic formula: 0.0009158015018329024\n",
      "Number of model's parameters: 5090\n",
      "Test loss best model: 0.0006920205196365714\n"
     ]
    }
   ],
   "source": [
    "g_symb = make_callable(symb_g)\n",
    "h_symb = make_callable(symb_h)\n",
    "\n",
    "y_true, y_pred = post_process_mpnn(\n",
    "    g_symb=g_symb,\n",
    "    h_symb=h_symb,\n",
    "    model_path='./saved_models_optuna/model-epidemics-mpnn/epidemics_mpnn_ic1_s5_pd_mult_12/0',\n",
    "    test_set=EPID,\n",
    "    message_passing=False,\n",
    "    include_time=False,\n",
    "    method='dopri5'\n",
    ")"
   ]
  },
  {
   "cell_type": "markdown",
   "metadata": {},
   "source": [
    "### Population"
   ]
  },
  {
   "cell_type": "markdown",
   "metadata": {},
   "source": [
    "#### IC=1"
   ]
  },
  {
   "cell_type": "code",
   "execution_count": 26,
   "metadata": {},
   "outputs": [],
   "source": [
    "model_path_mpnn = './saved_models_optuna/model-population-mpnn/population_mpnn_ic1_s5_pd_mult_12/0/mpnn'\n",
    "\n",
    "pysr_model = lambda : get_pysr_model(\n",
    "    model_selection=\"score\",\n",
    "    n_iterations=200\n",
    ")\n",
    "\n",
    "mpnn_symb, symb_g, symb_h = fit_mpnn(\n",
    "    model_path=model_path_mpnn,\n",
    "    pysr_model=pysr_model,\n",
    "    sample_size=10000,\n",
    "    message_passing=False\n",
    ")"
   ]
  },
  {
   "cell_type": "code",
   "execution_count": 27,
   "metadata": {},
   "outputs": [
    {
     "data": {
      "text/latex": [
       "$\\displaystyle \\sum_{j}( 0.197325724628776*x_j**3) - 0.49980032 x_{i}$"
      ],
      "text/plain": [
       "\\sum_{j}( 0.197325724628776*x_j**3) - 0.49980032*x_i"
      ]
     },
     "execution_count": 27,
     "metadata": {},
     "output_type": "execute_result"
    }
   ],
   "source": [
    "mpnn_symb"
   ]
  },
  {
   "cell_type": "code",
   "execution_count": 28,
   "metadata": {},
   "outputs": [
    {
     "data": {
      "text/latex": [
       "$\\displaystyle \\sum_{j}(0.2*x_j**3) - 0.5 x_{i}$"
      ],
      "text/plain": [
       "\\sum_{j}(0.2*x_j**3) - 0.5*x_i"
      ]
     },
     "execution_count": 28,
     "metadata": {},
     "output_type": "execute_result"
    }
   ],
   "source": [
    "quantise(mpnn_symb)"
   ]
  },
  {
   "cell_type": "code",
   "execution_count": 29,
   "metadata": {},
   "outputs": [
    {
     "name": "stdout",
     "output_type": "stream",
     "text": [
      "Test loss of symbolic formula: 0.00048365563270635903\n",
      "Number of model's parameters: 1954\n",
      "Test loss best model: 0.0005724902148358524\n"
     ]
    }
   ],
   "source": [
    "g_symb = make_callable(symb_g)\n",
    "h_symb = make_callable(symb_h)\n",
    "\n",
    "y_true, y_pred = post_process_mpnn(\n",
    "    g_symb=g_symb,\n",
    "    h_symb=h_symb,\n",
    "    model_path='./saved_models_optuna/model-population-mpnn/population_mpnn_ic1_s5_pd_mult_12/0',\n",
    "    test_set=POP,\n",
    "    message_passing=False,\n",
    "    include_time=False,\n",
    "    method='dopri5'\n",
    ")"
   ]
  },
  {
   "cell_type": "markdown",
   "metadata": {},
   "source": [
    "## Plots"
   ]
  },
  {
   "cell_type": "code",
   "execution_count": 3,
   "metadata": {},
   "outputs": [],
   "source": [
    "import matplotlib.pyplot as plt"
   ]
  },
  {
   "cell_type": "code",
   "execution_count": 4,
   "metadata": {},
   "outputs": [],
   "source": [
    "gkan_params = [543, 264, 280, 294]\n",
    "gkan_losses = [4.06e-3, 4.86e-4, 7.64e-5, 2.43e-4]\n",
    "\n",
    "mpnn_params = [3514, 5090, 2122, 1954]\n",
    "mpnn_losses = [5.74e-3, 6.92e-4, 4.30e-4, 5.72e-4]\n",
    "\n",
    "dynamics = [\"KUR\",\"EPID\",\"BIO\",\"POP\"]\n"
   ]
  },
  {
   "cell_type": "code",
   "execution_count": 5,
   "metadata": {},
   "outputs": [
    {
     "data": {
      "image/png": "[encoded data removed]",
      "text/plain": [
       "<Figure size 1000x600 with 1 Axes>"
      ]
     },
     "metadata": {},
     "output_type": "display_data"
    }
   ],
   "source": [
    "plt.figure(figsize=(10, 6))\n",
    "for i in range(len(dynamics)):\n",
    "    plt.scatter(gkan_params[i], gkan_losses[i], color='blue', label='GKAN' if i == 0 else \"\", marker='o')\n",
    "    plt.scatter(mpnn_params[i], mpnn_losses[i], color='red', label='MPNN' if i == 0 else \"\", marker='x')\n",
    "    plt.text(gkan_params[i]*1.05, gkan_losses[i]*1.05, dynamics[i], fontsize=9, color='blue')\n",
    "    plt.text(mpnn_params[i]*1.05, mpnn_losses[i]*1.05, dynamics[i], fontsize=9, color='red')\n",
    "\n",
    "plt.xscale('log')\n",
    "plt.yscale('log')\n",
    "plt.xlabel('Number of Parameters (log scale)')\n",
    "plt.ylabel('Loss (log scale)')\n",
    "plt.title('GKAN vs MPNN: Loss vs Parameters for Different Dynamics')\n",
    "plt.legend()\n",
    "plt.grid(True, which='both', ls='--', linewidth=0.5)\n",
    "plt.tight_layout()\n",
    "plt.show()"
   ]
  }
 ],
 "metadata": {
  "kernelspec": {
   "display_name": "myenv",
   "language": "python",
   "name": "python3"
  },
  "language_info": {
   "codemirror_mode": {
    "name": "ipython",
    "version": 3
   },
   "file_extension": ".py",
   "mimetype": "text/x-python",
   "name": "python",
   "nbconvert_exporter": "python",
   "pygments_lexer": "ipython3",
   "version": "3.12.0"
  }
 },
 "nbformat": 4,
 "nbformat_minor": 2
}
