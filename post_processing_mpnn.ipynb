{
 "cells": [
  {
   "cell_type": "markdown",
   "metadata": {},
   "source": [
    "## Test Experiments"
   ]
  },
  {
   "cell_type": "code",
   "execution_count": 2,
   "metadata": {},
   "outputs": [
    {
     "name": "stdout",
     "output_type": "stream",
     "text": [
      "Detected IPython. Loading juliacall extension. See https://juliapy.github.io/PythonCall.jl/stable/compat/#IPython\n"
     ]
    },
    {
     "name": "stderr",
     "output_type": "stream",
     "text": [
      "/home/ricca/miniconda3/envs/myenv/lib/python3.12/site-packages/torch/cuda/__init__.py:619: UserWarning: Can't initialize NVML\n",
      "  warnings.warn(\"Can't initialize NVML\")\n"
     ]
    }
   ],
   "source": [
    "from utils.utils import *\n",
    "import optuna\n",
    "from optuna.storages import JournalStorage\n",
    "from optuna.storages.journal import JournalFileBackend\n",
    "from experiments.experiments_gkan import ExperimentsGKAN\n",
    "from experiments.experiments_mpnn import ExperimentsMPNN\n",
    "\n",
    "storage = JournalStorage(JournalFileBackend(\"optuna_journal_storage.log\"))"
   ]
  },
  {
   "cell_type": "code",
   "execution_count": 2,
   "metadata": {},
   "outputs": [],
   "source": [
    "config = load_config(\"./configs/config_ic1/config_population_mpnn.yml\")\n",
    "exp = ExperimentsMPNN(\n",
    "    config=config,\n",
    "    n_trials=1,\n",
    "    study_name='test-pop',\n",
    "    process_id=0,\n",
    ")"
   ]
  },
  {
   "cell_type": "code",
   "execution_count": 3,
   "metadata": {},
   "outputs": [
    {
     "name": "stdout",
     "output_type": "stream",
     "text": [
      "45\n"
     ]
    }
   ],
   "source": [
    "print(len(exp.training_set))"
   ]
  },
  {
   "cell_type": "code",
   "execution_count": null,
   "metadata": {},
   "outputs": [
    {
     "name": "stderr",
     "output_type": "stream",
     "text": [
      "[I 2025-05-16 14:52:24,794] Using an existing study with name 'model-population-mpnn-test-pop' instead of creating a new one.\n",
      "/home/ricca/miniconda3/envs/myenv/lib/python3.12/site-packages/scipy/integrate/_ivp/ivp.py:621: UserWarning: The following arguments have no effect for a chosen solver: `min_step`.\n",
      "  solver = method(fun, t0, y0, tf, vectorized=vectorized, **options)\n"
     ]
    },
    {
     "name": "stdout",
     "output_type": "stream",
     "text": [
      "Trial 1: num params: 3442\n"
     ]
    }
   ],
   "source": [
    "exp.epochs = 1\n",
    "exp.run()"
   ]
  },
  {
   "cell_type": "markdown",
   "metadata": {},
   "source": [
    "## Symb Reg"
   ]
  },
  {
   "cell_type": "markdown",
   "metadata": {},
   "source": [
    "### Utils\n"
   ]
  },
  {
   "cell_type": "code",
   "execution_count": 9,
   "metadata": {},
   "outputs": [],
   "source": [
    "from models.utils.MPNN import MPNN\n",
    "from models.baseline.MPNN_ODE import MPNN_ODE\n",
    "from train_and_eval import eval_model\n",
    "from datasets.SyntheticData import SyntheticData\n",
    "from sympy import symbols, sin, summation, simplify\n",
    "import networkx as nx\n",
    "from torch_geometric.utils import from_networkx\n",
    "from utils.utils import integrate\n",
    "from torch_geometric.data import Data\n",
    "from experiments.experiments_mpnn import activations\n",
    "from models.utils.MLP import MLP"
   ]
  },
  {
   "cell_type": "code",
   "execution_count": 10,
   "metadata": {},
   "outputs": [],
   "source": [
    "def get_model(g, h, message_passing=True, include_time=False, atol=1e-5, rtol=1e-3, integration_method = 'scipy_solver'):\n",
    "    conv = MPNN(\n",
    "        g_net = g,\n",
    "        h_net = h, \n",
    "        message_passing=message_passing,\n",
    "        include_time=include_time\n",
    "    )\n",
    "    \n",
    "    symb = MPNN_ODE(\n",
    "        conv=conv,\n",
    "        model_path=\"./saved_models_optuna/tmp_symb\",\n",
    "        adjoint=True,\n",
    "        integration_method=integration_method,\n",
    "        atol=atol,\n",
    "        rtol=rtol\n",
    "    )\n",
    "    \n",
    "    return symb\n",
    "\n",
    "\n",
    "def get_symb_test_error(g_symb, h_symb, test_set, message_passing=False, include_time=False, atol=1e-5, rtol=1e-3, scaler = None, inverse_scale=False, method='scipy_solver'):\n",
    "    \n",
    "    # total_len = len(dataset)\n",
    "    # test_set = dataset[int(0.9*total_len):]\n",
    "    \n",
    "    symb = get_model(\n",
    "        g=g_symb,\n",
    "        h=h_symb,\n",
    "        message_passing=message_passing,\n",
    "        include_time=include_time,\n",
    "        atol=atol,\n",
    "        rtol=rtol,\n",
    "        integration_method=method\n",
    "    )\n",
    "    \n",
    "    test_loss = eval_model(\n",
    "        model=symb,\n",
    "        valid_data=test_set,\n",
    "        criterion=torch.nn.L1Loss(),\n",
    "        scaler=scaler,\n",
    "        inverse_scale=inverse_scale\n",
    "    )\n",
    "    \n",
    "    return test_loss\n",
    "\n",
    "\n",
    "def get_test_set(dynamics, seed=12345, device='cuda', input_range = (0, 1), **integration_kwargs):\n",
    "    graph = nx.barabasi_albert_graph(100, 3, seed=seed)\n",
    "    edge_index = from_networkx(graph).edge_index\n",
    "    edge_index = edge_index.to(torch.device(device))\n",
    "    rng = np.random.default_rng(seed=seed)\n",
    "    \n",
    "    data, t = integrate(\n",
    "        input_range=input_range,\n",
    "        t_span = [0, 1],\n",
    "        t_eval_steps=300,\n",
    "        dynamics=dynamics,\n",
    "        device=device,\n",
    "        graph=graph,\n",
    "        rng = rng,\n",
    "        **integration_kwargs\n",
    "    )\n",
    "    \n",
    "    snapshot = Data(\n",
    "        x = data[0].unsqueeze(0),\n",
    "        y = data[1:],\n",
    "        edge_index=edge_index,\n",
    "        edge_attr=None,\n",
    "        t_span = t\n",
    "    )\n",
    "    \n",
    "    return [snapshot]\n",
    "\n",
    "\n",
    "def build_model_from_file(model_path, message_passing=False, include_time=False, method='dopri5', adjoint=True):\n",
    "    best_params_file = f\"{model_path}/best_params.json\"\n",
    "    best_state_path = f\"{model_path}/mpnn/state_dict.pth\"\n",
    "    with open(best_params_file, 'r') as f:\n",
    "        best_hyperparams = json.load(f)\n",
    "    \n",
    "    in_dim = 1\n",
    "    \n",
    "    hidden_layers = [best_hyperparams[\"hidden_dims_g_net\"] for _ in range(best_hyperparams[\"n_hidden_layers_g_net\"])]\n",
    "    hidden_layers = [2*in_dim] + hidden_layers + [in_dim]    \n",
    "    # g_net\n",
    "    g_net = MLP(\n",
    "        hidden_layers=hidden_layers,\n",
    "        af = activations[best_hyperparams['af_g_net']],\n",
    "        dropout_rate=best_hyperparams['drop_p_g_net'],\n",
    "    )\n",
    "    \n",
    "    time_dim = 1 if include_time else 0\n",
    "    in_dim_h = 2 if message_passing else 1\n",
    "    in_dim_h += time_dim\n",
    "    hidden_layers = [best_hyperparams[\"hidden_dims_h_net\"] for _ in range(best_hyperparams[\"n_hidden_layers_h_net\"])]\n",
    "    hidden_layers = [in_dim_h] + hidden_layers + [in_dim] \n",
    "    \n",
    "    \n",
    "    # h_net\n",
    "    h_net = MLP(\n",
    "        hidden_layers=hidden_layers,\n",
    "        af = activations[best_hyperparams['af_h_net']],\n",
    "        dropout_rate=best_hyperparams['drop_p_h_net'],\n",
    "    )\n",
    "    \n",
    "    mpnn = MPNN(\n",
    "        h_net=h_net,\n",
    "        g_net=g_net,\n",
    "        message_passing=message_passing,\n",
    "        include_time=include_time\n",
    "    )\n",
    "    \n",
    "    model = MPNN_ODE(\n",
    "        conv=mpnn,\n",
    "        model_path='./saved_models_optuna/tmp',\n",
    "        integration_method=method,\n",
    "        adjoint=adjoint\n",
    "    )\n",
    "    \n",
    "    model = model.to(torch.device('cuda'))\n",
    "    model.load_state_dict(torch.load(best_state_path, weights_only=False))\n",
    "    \n",
    "    return model\n",
    "\n",
    "\n",
    "def plot_predictions(y_true, y_pred, node_index = 0):\n",
    "    plt.figure(figsize=(16, 8))\n",
    "    plt.plot(y_true[:, node_index, :], label='y_true', marker='o')\n",
    "    plt.plot(y_pred[:, node_index, :], label='y_pred', marker='o')\n",
    "    plt.xlabel('Time step')\n",
    "    plt.ylabel('Value')\n",
    "    plt.title(f'y_true vs y_pred for Node {node_index}')\n",
    "    plt.legend()\n",
    "    plt.grid(True)\n",
    "    plt.tight_layout()\n",
    "    plt.show()\n",
    "    \n",
    "\n",
    "def post_process_mpnn(\n",
    "    g_symb, \n",
    "    h_symb, \n",
    "    model_path, \n",
    "    test_set, \n",
    "    message_passing=False, \n",
    "    include_time=False,\n",
    "    atol=1e-5,\n",
    "    rtol=1e-3,\n",
    "    method='dopri5',\n",
    "    scaler=None,\n",
    "    inverse_scale=False,\n",
    "    adjoint=True \n",
    "):\n",
    "    test_loss_symb = get_symb_test_error(\n",
    "        g_symb=g_symb,\n",
    "        h_symb=h_symb,\n",
    "        test_set=test_set,\n",
    "        message_passing=True,\n",
    "        include_time=include_time,\n",
    "        atol=atol,\n",
    "        rtol=rtol,\n",
    "        method=method,\n",
    "        scaler=scaler,\n",
    "        inverse_scale=inverse_scale\n",
    "    )\n",
    "    \n",
    "    print(f\"Test loss of symbolic formula: {test_loss_symb}\")\n",
    "    \n",
    "    # Loading best model\n",
    "    best_model = build_model_from_file(\n",
    "        model_path=model_path,\n",
    "        message_passing=message_passing,\n",
    "        include_time=include_time,\n",
    "        method=method,\n",
    "        adjoint=adjoint\n",
    "    )\n",
    "    \n",
    "    tot_params = sum(p.numel() for p in best_model.parameters() if p.requires_grad)\n",
    "    print(f\"Number of model's parameters: {tot_params}\")\n",
    "    \n",
    "    best_model = best_model.eval()\n",
    "    test_loss_model = get_symb_test_error(\n",
    "        g_symb=best_model.conv.model.g_net,\n",
    "        h_symb=best_model.conv.model.h_net,\n",
    "        test_set=test_set,\n",
    "        message_passing=message_passing,\n",
    "        include_time=include_time,\n",
    "        atol=atol,\n",
    "        rtol=rtol,\n",
    "        method=method,\n",
    "        scaler=scaler,\n",
    "        inverse_scale=inverse_scale\n",
    "    )\n",
    "    \n",
    "    print(f\"Test loss best model: {test_loss_model}\")\n",
    "\n",
    "    y_true = test_set[0].y.detach().cpu().numpy()\n",
    "    y_pred = best_model(snapshot = test_set[0]).detach().cpu().numpy()\n",
    "    \n",
    "    return y_true, y_pred\n",
    "    \n",
    "    \n",
    "    "
   ]
  },
  {
   "cell_type": "markdown",
   "metadata": {},
   "source": [
    "### LB Losses"
   ]
  },
  {
   "cell_type": "markdown",
   "metadata": {},
   "source": [
    "#### Kuramoto"
   ]
  },
  {
   "cell_type": "code",
   "execution_count": 11,
   "metadata": {},
   "outputs": [
    {
     "name": "stderr",
     "output_type": "stream",
     "text": [
      "/home/ricca/miniconda3/envs/myenv/lib/python3.12/site-packages/scipy/integrate/_ivp/ivp.py:621: UserWarning: The following arguments have no effect for a chosen solver: `min_step`.\n",
      "  solver = method(fun, t0, y0, tf, vectorized=vectorized, **options)\n"
     ]
    },
    {
     "name": "stdout",
     "output_type": "stream",
     "text": [
      "Kuramoto: 7.686007302254438e-05\n"
     ]
    }
   ],
   "source": [
    "kur_config = load_config(\"./configs/config_ic1/config_kuramoto.yml\")\n",
    "\n",
    "KUR = get_test_set(\n",
    "    dynamics=kur_config['name'],\n",
    "    seed = 12345,\n",
    "    device=kur_config['device'],\n",
    "    input_range=kur_config['input_range'],\n",
    "    **kur_config['integration_kwargs']    \n",
    ")\n",
    "\n",
    "g_symb = lambda x: torch.sin(x[:, 1] - x[:, 0]).unsqueeze(-1)\n",
    "h_symb = lambda x: 2.0 + 0.5 * x[:, 1].unsqueeze(-1)\n",
    "\n",
    "test_loss = get_symb_test_error(\n",
    "    g_symb=g_symb,\n",
    "    h_symb=h_symb,\n",
    "    test_set=KUR,\n",
    "    message_passing=True,\n",
    "    include_time=False,\n",
    "    atol=1e-5,\n",
    "    rtol=1e-3\n",
    ")\n",
    "\n",
    "print(f\"Kuramoto: {test_loss}\")\n"
   ]
  },
  {
   "cell_type": "markdown",
   "metadata": {},
   "source": [
    "#### Epidemics"
   ]
  },
  {
   "cell_type": "code",
   "execution_count": 12,
   "metadata": {},
   "outputs": [
    {
     "name": "stdout",
     "output_type": "stream",
     "text": [
      "Epidemics: 1.238175082107773e-05\n"
     ]
    }
   ],
   "source": [
    "epid_config = load_config(\"./configs/config_ic1/config_epidemics.yml\")\n",
    "\n",
    "EPID = get_test_set(\n",
    "    dynamics=epid_config['name'],\n",
    "    seed = 12345,\n",
    "    device=epid_config['device'],\n",
    "    input_range=epid_config['input_range'],\n",
    "    **epid_config['integration_kwargs']    \n",
    ")\n",
    "\n",
    "g_symb = lambda x: 0.5*x[:, 1].unsqueeze(-1) * (1 - x[:, 0].unsqueeze(-1))\n",
    "h_symb = lambda x: x[:, 1].unsqueeze(1) - 0.5 * x[:, 0].unsqueeze(-1)\n",
    "\n",
    "test_loss = get_symb_test_error(\n",
    "    g_symb=g_symb,\n",
    "    h_symb=h_symb,\n",
    "    test_set=EPID,\n",
    "    message_passing=True,\n",
    "    include_time=False,\n",
    "    atol=1e-5,\n",
    "    rtol=1e-3\n",
    ")\n",
    "\n",
    "print(f\"Epidemics: {test_loss}\")\n"
   ]
  },
  {
   "cell_type": "markdown",
   "metadata": {},
   "source": [
    "#### Neuronal"
   ]
  },
  {
   "cell_type": "code",
   "execution_count": 13,
   "metadata": {},
   "outputs": [
    {
     "name": "stdout",
     "output_type": "stream",
     "text": [
      "Neuronal: 1.1565923159650993e-05\n"
     ]
    }
   ],
   "source": [
    "neur_config = load_config(\"./configs/config_ic1/config_neuronal.yml\")\n",
    "\n",
    "NEUR = get_test_set(\n",
    "    dynamics=neur_config['name'],\n",
    "    seed = 12345,\n",
    "    device=neur_config['device'],\n",
    "    input_range=neur_config['input_range'],\n",
    "    **neur_config['integration_kwargs']    \n",
    ")\n",
    "\n",
    "g_symb = lambda x: 0.3*torch.tanh(x[:, 1].unsqueeze(-1))\n",
    "h_symb = lambda x: -0.5 * x[:, 0].unsqueeze(-1) + 0.8*torch.tanh(x[:, 0].unsqueeze(-1)) + x[:, 1].unsqueeze(-1) \n",
    "\n",
    "test_loss = get_symb_test_error(\n",
    "    g_symb=g_symb,\n",
    "    h_symb=h_symb,\n",
    "    test_set=NEUR,\n",
    "    message_passing=True,\n",
    "    include_time=False,\n",
    "    atol=1e-5,\n",
    "    rtol=1e-3\n",
    ")\n",
    "\n",
    "print(f\"Neuronal: {test_loss}\")"
   ]
  },
  {
   "cell_type": "markdown",
   "metadata": {},
   "source": [
    "#### Biochemical"
   ]
  },
  {
   "cell_type": "code",
   "execution_count": 14,
   "metadata": {},
   "outputs": [
    {
     "name": "stdout",
     "output_type": "stream",
     "text": [
      "Biochemical: 5.4473553063871805e-06\n"
     ]
    }
   ],
   "source": [
    "bio_config = load_config(\"./configs/config_ic1/config_biochemical.yml\")\n",
    "\n",
    "BIO = get_test_set(\n",
    "    dynamics=bio_config['name'],\n",
    "    seed = 12345,\n",
    "    device=bio_config['device'],\n",
    "    input_range=bio_config['input_range'],\n",
    "    **bio_config['integration_kwargs']    \n",
    ")\n",
    "\n",
    "g_symb = lambda x: (-0.5*x[:, 1] * x[:, 0]).unsqueeze(-1)\n",
    "h_symb = lambda x: (1.0 - 0.5 * x[:, 0]).unsqueeze(-1)  + x[:, 1].unsqueeze(-1) \n",
    "\n",
    "test_loss = get_symb_test_error(\n",
    "    g_symb=g_symb,\n",
    "    h_symb=h_symb,\n",
    "    test_set=BIO,\n",
    "    message_passing=True,\n",
    "    include_time=False,\n",
    "    atol=1e-5,\n",
    "    rtol=1e-3\n",
    ")\n",
    "\n",
    "print(f\"Biochemical: {test_loss}\")"
   ]
  },
  {
   "cell_type": "markdown",
   "metadata": {},
   "source": [
    "#### Population"
   ]
  },
  {
   "cell_type": "code",
   "execution_count": 15,
   "metadata": {},
   "outputs": [
    {
     "name": "stdout",
     "output_type": "stream",
     "text": [
      "Population: 1.597364644112531e-05\n"
     ]
    }
   ],
   "source": [
    "pop_config = load_config(\"./configs/config_ic1/config_population.yml\")\n",
    "\n",
    "POP = get_test_set(\n",
    "    dynamics=pop_config['name'],\n",
    "    seed = 12345,\n",
    "    device=pop_config['device'],\n",
    "    input_range=pop_config['input_range'],\n",
    "    **pop_config['integration_kwargs']    \n",
    ")\n",
    "\n",
    "g_symb = lambda x: 0.2*torch.square(x[:, 1].unsqueeze(-1))\n",
    "h_symb = lambda x: -0.5 * torch.square(x[:, 0].unsqueeze(-1)) + x[:, 1].unsqueeze(1) \n",
    "\n",
    "test_loss = get_symb_test_error(\n",
    "    g_symb=g_symb,\n",
    "    h_symb=h_symb,\n",
    "    test_set=POP,\n",
    "    message_passing=True,\n",
    "    include_time=False,\n",
    "    atol=1e-5,\n",
    "    rtol=1e-3\n",
    ")\n",
    "\n",
    "print(f\"Population: {test_loss}\")\n"
   ]
  },
  {
   "cell_type": "markdown",
   "metadata": {},
   "source": [
    "### Kuramoto MPNN"
   ]
  },
  {
   "cell_type": "markdown",
   "metadata": {},
   "source": [
    "#### IC=1"
   ]
  },
  {
   "cell_type": "code",
   "execution_count": 9,
   "metadata": {},
   "outputs": [
    {
     "name": "stderr",
     "output_type": "stream",
     "text": [
      "/home/ricca/miniconda3/envs/myenv/lib/python3.12/site-packages/pysr/sr.py:2776: UserWarning: Note: it looks like you are running in Jupyter. The progress bar will be turned off.\n",
      "  warnings.warn(\n",
      "/home/ricca/miniconda3/envs/myenv/lib/python3.12/site-packages/pysr/sr.py:2776: UserWarning: Note: it looks like you are running in Jupyter. The progress bar will be turned off.\n",
      "  warnings.warn(\n"
     ]
    }
   ],
   "source": [
    "model_path_mpnn = './saved_models_optuna/model-kuramoto-mpnn/kuramoto_mpnn_ic1_s5/2/mpnn'\n",
    "\n",
    "pysr_model = lambda : get_pysr_model(\n",
    "    model_selection=\"score\",\n",
    "    n_iterations=200\n",
    ")\n",
    "\n",
    "mpnn_symb = fit_mpnn(\n",
    "    model_path=model_path_mpnn,\n",
    "    pysr_model=pysr_model,\n",
    "    sample_size=9000,\n",
    "    message_passing=False\n",
    ")"
   ]
  },
  {
   "cell_type": "code",
   "execution_count": 10,
   "metadata": {},
   "outputs": [
    {
     "data": {
      "text/latex": [
       "$\\displaystyle \\sum_{j}( -0.487992124197509*sin(x_i - x_j)) + \\tanh{\\left(e^{x_{i}} \\right)} + 1.0102364$"
      ],
      "text/plain": [
       "\\sum_{j}( -0.487992124197509*sin(x_i - x_j)) + tanh(exp(x_i)) + 1.0102364"
      ]
     },
     "execution_count": 10,
     "metadata": {},
     "output_type": "execute_result"
    }
   ],
   "source": [
    "mpnn_symb"
   ]
  },
  {
   "cell_type": "code",
   "execution_count": 11,
   "metadata": {},
   "outputs": [
    {
     "data": {
      "text/latex": [
       "$\\displaystyle \\sum_{j}(-0.49*sin(x_i - x_j)) + \\tanh{\\left(e^{x_{i}} \\right)} + 1.01$"
      ],
      "text/plain": [
       "\\sum_{j}(-0.49*sin(x_i - x_j)) + tanh(exp(x_i)) + 1.01"
      ]
     },
     "execution_count": 11,
     "metadata": {},
     "output_type": "execute_result"
    }
   ],
   "source": [
    "quantise(mpnn_symb)"
   ]
  },
  {
   "cell_type": "code",
   "execution_count": 14,
   "metadata": {},
   "outputs": [
    {
     "name": "stdout",
     "output_type": "stream",
     "text": [
      "Test loss of symbolic formula: 0.00991156417876482\n",
      "Number of model's parameters: 4298\n",
      "Test loss best model: 0.02482900395989418\n"
     ]
    }
   ],
   "source": [
    "g_symb = lambda x: torch.sin(x[:, 0] - x[:, 1]).unsqueeze(-1)\n",
    "h_symb = lambda x: 1.01023649 - 0.487992124197509 * x[:, 1].unsqueeze(-1) + torch.tanh( torch.exp(x[:, 0].unsqueeze(-1)))\n",
    "\n",
    "y_true, y_pred = post_process_mpnn(\n",
    "    g_symb=g_symb,\n",
    "    h_symb=h_symb,\n",
    "    model_path='./saved_models_optuna/model-kuramoto-mpnn/kuramoto_mpnn_ic1_s5/2',\n",
    "    test_set=KUR,\n",
    "    message_passing=False,\n",
    "    include_time=False,\n",
    "    method='dopri5'\n",
    ")"
   ]
  },
  {
   "cell_type": "code",
   "execution_count": 15,
   "metadata": {},
   "outputs": [
    {
     "data": {
      "image/png": "[encoded data removed]",
      "text/plain": [
       "<Figure size 1600x800 with 1 Axes>"
      ]
     },
     "metadata": {},
     "output_type": "display_data"
    }
   ],
   "source": [
    "plot_predictions(y_true, y_pred, node_index=13)"
   ]
  },
  {
   "cell_type": "markdown",
   "metadata": {},
   "source": [
    "#### IC=3"
   ]
  },
  {
   "cell_type": "code",
   "execution_count": 20,
   "metadata": {},
   "outputs": [
    {
     "name": "stderr",
     "output_type": "stream",
     "text": [
      "/home/ricca/miniconda3/envs/myenv/lib/python3.12/site-packages/pysr/sr.py:2776: UserWarning: Note: it looks like you are running in Jupyter. The progress bar will be turned off.\n",
      "  warnings.warn(\n",
      "/home/ricca/miniconda3/envs/myenv/lib/python3.12/site-packages/pysr/sr.py:2776: UserWarning: Note: it looks like you are running in Jupyter. The progress bar will be turned off.\n",
      "  warnings.warn(\n"
     ]
    }
   ],
   "source": [
    "model_path_mpnn = './saved_models_optuna/model-kuramoto-mpnn/kuramoto_mpnn_ic3_s5/1/mpnn'\n",
    "\n",
    "pysr_model = lambda : get_pysr_model(\n",
    "    model_selection=\"score\",\n",
    "    n_iterations=200\n",
    ")\n",
    "\n",
    "mpnn_symb = fit_mpnn(\n",
    "    model_path=model_path_mpnn,\n",
    "    pysr_model=pysr_model,\n",
    "    sample_size=9000,\n",
    "    message_passing=False\n",
    ")"
   ]
  },
  {
   "cell_type": "code",
   "execution_count": 23,
   "metadata": {},
   "outputs": [
    {
     "data": {
      "text/latex": [
       "$\\displaystyle \\sum_{j}( -0.49510527*sin(x_i - x_j)) + 1.8994182 \\cdot 10^{-5} e^{x_{i}} + 1.9941171$"
      ],
      "text/plain": [
       "\\sum_{j}( -0.49510527*sin(x_i - x_j)) + 1.8994182e-5*exp(x_i) + 1.9941171"
      ]
     },
     "execution_count": 23,
     "metadata": {},
     "output_type": "execute_result"
    }
   ],
   "source": [
    "mpnn_symb"
   ]
  },
  {
   "cell_type": "code",
   "execution_count": 24,
   "metadata": {},
   "outputs": [
    {
     "data": {
      "text/latex": [
       "$\\displaystyle \\sum_{j}(-0.5*sin(x_i - x_j)) + 1.99$"
      ],
      "text/plain": [
       "\\sum_{j}(-0.5*sin(x_i - x_j)) + 1.99"
      ]
     },
     "execution_count": 24,
     "metadata": {},
     "output_type": "execute_result"
    }
   ],
   "source": [
    "quantise(mpnn_symb)"
   ]
  },
  {
   "cell_type": "code",
   "execution_count": 19,
   "metadata": {},
   "outputs": [
    {
     "name": "stdout",
     "output_type": "stream",
     "text": [
      "Test loss of symbolic formula: 0.024615542963147163\n",
      "Number of model's parameters: 3466\n",
      "Test loss best model: 0.0050568063743412495\n"
     ]
    }
   ],
   "source": [
    "g_symb = lambda x: torch.sin(x[:, 0] - x[:, 1]).unsqueeze(-1)\n",
    "h_symb = lambda x: 1.994038 - 0.49499434 * x[:, 1].unsqueeze(-1) + 1.9007372 * 10e-5 * torch.exp(x[:, 0].unsqueeze(-1))\n",
    "\n",
    "\n",
    "y_true, y_pred = post_process_mpnn(\n",
    "    g_symb=g_symb,\n",
    "    h_symb=h_symb,\n",
    "    model_path='./saved_models_optuna/model-kuramoto-mpnn/kuramoto_mpnn_ic3_s5/1',\n",
    "    test_set=KUR,\n",
    "    message_passing=False,\n",
    "    include_time=False,\n",
    "    method='dopri5'\n",
    ")"
   ]
  },
  {
   "cell_type": "code",
   "execution_count": 21,
   "metadata": {},
   "outputs": [
    {
     "data": {
      "image/png": "[encoded data removed]",
      "text/plain": [
       "<Figure size 1600x800 with 1 Axes>"
      ]
     },
     "metadata": {},
     "output_type": "display_data"
    }
   ],
   "source": [
    "plot_predictions(y_true, y_pred, node_index=13)"
   ]
  },
  {
   "cell_type": "markdown",
   "metadata": {},
   "source": [
    "#### IC=5"
   ]
  },
  {
   "cell_type": "code",
   "execution_count": 25,
   "metadata": {},
   "outputs": [
    {
     "name": "stderr",
     "output_type": "stream",
     "text": [
      "/home/ricca/miniconda3/envs/myenv/lib/python3.12/site-packages/pysr/sr.py:2776: UserWarning: Note: it looks like you are running in Jupyter. The progress bar will be turned off.\n",
      "  warnings.warn(\n",
      "/home/ricca/miniconda3/envs/myenv/lib/python3.12/site-packages/pysr/sr.py:2776: UserWarning: Note: it looks like you are running in Jupyter. The progress bar will be turned off.\n",
      "  warnings.warn(\n"
     ]
    }
   ],
   "source": [
    "model_path_mpnn = './saved_models_optuna/model-kuramoto-mpnn/kuramoto_mpnn_ic5_s5/2/mpnn'\n",
    "\n",
    "pysr_model = lambda : get_pysr_model(\n",
    "    model_selection=\"score\",\n",
    "    n_iterations=200\n",
    ")\n",
    "\n",
    "mpnn_symb = fit_mpnn(\n",
    "    model_path=model_path_mpnn,\n",
    "    pysr_model=pysr_model,\n",
    "    sample_size=9000,\n",
    "    message_passing=False\n",
    ")"
   ]
  },
  {
   "cell_type": "code",
   "execution_count": 26,
   "metadata": {},
   "outputs": [
    {
     "data": {
      "text/latex": [
       "$\\displaystyle \\sum_{j}( -0.498892*sin(x_i - x_j)) + 1.3899705 \\cdot 10^{-7} x_{i}^{6} + 1.9981152$"
      ],
      "text/plain": [
       "\\sum_{j}( -0.498892*sin(x_i - x_j)) + 1.3899705e-7*x_i**6 + 1.9981152"
      ]
     },
     "execution_count": 26,
     "metadata": {},
     "output_type": "execute_result"
    }
   ],
   "source": [
    "mpnn_symb"
   ]
  },
  {
   "cell_type": "code",
   "execution_count": 27,
   "metadata": {},
   "outputs": [
    {
     "data": {
      "text/latex": [
       "$\\displaystyle \\sum_{j}(-0.5*sin(x_i - x_j)) + 2.0$"
      ],
      "text/plain": [
       "\\sum_{j}(-0.5*sin(x_i - x_j)) + 2.0"
      ]
     },
     "execution_count": 27,
     "metadata": {},
     "output_type": "execute_result"
    }
   ],
   "source": [
    "quantise(mpnn_symb)"
   ]
  },
  {
   "cell_type": "code",
   "execution_count": 29,
   "metadata": {},
   "outputs": [
    {
     "name": "stdout",
     "output_type": "stream",
     "text": [
      "Test loss of symbolic formula: 0.0014349691336974502\n",
      "Number of model's parameters: 5570\n",
      "Test loss best model: 0.004750832915306091\n"
     ]
    }
   ],
   "source": [
    "g_symb = lambda x: torch.sin(x[:, 0] - x[:, 1]).unsqueeze(-1)\n",
    "h_symb = lambda x: 1.9981152 - 0.498892 * x[:, 1].unsqueeze(-1) + 1.3899705 * 10e-7 * torch.pow(x[:, 0].unsqueeze(-1), 1)\n",
    "\n",
    "\n",
    "y_true, y_pred = post_process_mpnn(\n",
    "    g_symb=g_symb,\n",
    "    h_symb=h_symb,\n",
    "    model_path='./saved_models_optuna/model-kuramoto-mpnn/kuramoto_mpnn_ic5_s5/2',\n",
    "    test_set=KUR,\n",
    "    message_passing=False,\n",
    "    include_time=False,\n",
    "    method='dopri5'\n",
    ")"
   ]
  },
  {
   "cell_type": "markdown",
   "metadata": {},
   "source": [
    "### Epidemics MPNN"
   ]
  },
  {
   "cell_type": "markdown",
   "metadata": {},
   "source": [
    "#### IC=1"
   ]
  },
  {
   "cell_type": "code",
   "execution_count": 33,
   "metadata": {},
   "outputs": [
    {
     "name": "stderr",
     "output_type": "stream",
     "text": [
      "/home/ricca/miniconda3/envs/myenv/lib/python3.12/site-packages/pysr/sr.py:2776: UserWarning: Note: it looks like you are running in Jupyter. The progress bar will be turned off.\n",
      "  warnings.warn(\n",
      "/home/ricca/miniconda3/envs/myenv/lib/python3.12/site-packages/pysr/sr.py:2776: UserWarning: Note: it looks like you are running in Jupyter. The progress bar will be turned off.\n",
      "  warnings.warn(\n"
     ]
    }
   ],
   "source": [
    "model_path_mpnn = './saved_models_optuna/model-epidemics-mpnn/epidemics_mpnn_ic1_s5/1/mpnn'\n",
    "\n",
    "pysr_model = lambda : get_pysr_model(\n",
    "    model_selection=\"score\",\n",
    "    n_iterations=200\n",
    ")\n",
    "\n",
    "mpnn_symb = fit_mpnn(\n",
    "    model_path=model_path_mpnn,\n",
    "    pysr_model=pysr_model,\n",
    "    sample_size=9000,\n",
    "    message_passing=False\n",
    ")"
   ]
  },
  {
   "cell_type": "code",
   "execution_count": 34,
   "metadata": {},
   "outputs": [
    {
     "data": {
      "text/latex": [
       "$\\displaystyle \\sum_{j}( x_j*(0.49533725 - 0.49489158*x_i)) - 0.69413024 \\tanh{\\left(x_{i} \\right)} + 0.065007411296711$"
      ],
      "text/plain": [
       "\\sum_{j}( x_j*(0.49533725 - 0.49489158*x_i)) - 0.69413024*tanh(x_i) + 0.065007411296711"
      ]
     },
     "execution_count": 34,
     "metadata": {},
     "output_type": "execute_result"
    }
   ],
   "source": [
    "mpnn_symb"
   ]
  },
  {
   "cell_type": "code",
   "execution_count": 35,
   "metadata": {},
   "outputs": [
    {
     "data": {
      "text/latex": [
       "$\\displaystyle \\sum_{j}(x_j*(0.5 - 0.49*x_i)) - 0.69 \\tanh{\\left(x_{i} \\right)} + 0.07$"
      ],
      "text/plain": [
       "\\sum_{j}(x_j*(0.5 - 0.49*x_i)) - 0.69*tanh(x_i) + 0.07"
      ]
     },
     "execution_count": 35,
     "metadata": {},
     "output_type": "execute_result"
    }
   ],
   "source": [
    "quantise(mpnn_symb)"
   ]
  },
  {
   "cell_type": "code",
   "execution_count": 36,
   "metadata": {},
   "outputs": [
    {
     "name": "stdout",
     "output_type": "stream",
     "text": [
      "Test loss of symbolic formula: 0.0022190234158188105\n",
      "Number of model's parameters: 5178\n",
      "Test loss best model: 0.0013564073015004396\n"
     ]
    }
   ],
   "source": [
    "g_symb = lambda x: x[:, 1].unsqueeze(-1) * (0.49533725 - 0.49489158 * x[:, 0]).unsqueeze(-1)\n",
    "h_symb = lambda x: x[:, 1].unsqueeze(-1) - 0.69413024 * torch.tanh(x[:, 0].unsqueeze(-1)) + 0.065007411296711\n",
    "\n",
    "y_true, y_pred = post_process_mpnn(\n",
    "    g_symb=g_symb,\n",
    "    h_symb=h_symb,\n",
    "    model_path='./saved_models_optuna/model-epidemics-mpnn/epidemics_mpnn_ic1_s5/1',\n",
    "    test_set=EPID,\n",
    "    message_passing=False,\n",
    "    include_time=False,\n",
    "    method='dopri5'\n",
    ")"
   ]
  },
  {
   "cell_type": "code",
   "execution_count": 34,
   "metadata": {},
   "outputs": [
    {
     "data": {
      "image/png": "[encoded data removed]",
      "text/plain": [
       "<Figure size 1600x800 with 1 Axes>"
      ]
     },
     "metadata": {},
     "output_type": "display_data"
    }
   ],
   "source": [
    "plot_predictions(y_true, y_pred, 18)"
   ]
  },
  {
   "cell_type": "markdown",
   "metadata": {},
   "source": [
    "#### IC=3"
   ]
  },
  {
   "cell_type": "code",
   "execution_count": 37,
   "metadata": {},
   "outputs": [
    {
     "name": "stderr",
     "output_type": "stream",
     "text": [
      "/home/ricca/miniconda3/envs/myenv/lib/python3.12/site-packages/pysr/sr.py:2776: UserWarning: Note: it looks like you are running in Jupyter. The progress bar will be turned off.\n",
      "  warnings.warn(\n",
      "/home/ricca/miniconda3/envs/myenv/lib/python3.12/site-packages/pysr/sr.py:2776: UserWarning: Note: it looks like you are running in Jupyter. The progress bar will be turned off.\n",
      "  warnings.warn(\n"
     ]
    }
   ],
   "source": [
    "model_path_mpnn = './saved_models_optuna/model-epidemics-mpnn/epidemics_mpnn_ic3_s5/2/mpnn'\n",
    "\n",
    "pysr_model = lambda : get_pysr_model(\n",
    "    model_selection=\"score\",\n",
    "    n_iterations=200\n",
    ")\n",
    "\n",
    "mpnn_symb = fit_mpnn(\n",
    "    model_path=model_path_mpnn,\n",
    "    pysr_model=pysr_model,\n",
    "    sample_size=9000,\n",
    "    message_passing=False\n",
    ")"
   ]
  },
  {
   "cell_type": "code",
   "execution_count": 38,
   "metadata": {},
   "outputs": [
    {
     "data": {
      "text/latex": [
       "$\\displaystyle \\sum_{j}( 0.5015045*x_j*(0.9985194 - x_i)) - 0.49652007 x_{i}$"
      ],
      "text/plain": [
       "\\sum_{j}( 0.5015045*x_j*(0.9985194 - x_i)) - 0.49652007*x_i"
      ]
     },
     "execution_count": 38,
     "metadata": {},
     "output_type": "execute_result"
    }
   ],
   "source": [
    "mpnn_symb"
   ]
  },
  {
   "cell_type": "code",
   "execution_count": 39,
   "metadata": {},
   "outputs": [
    {
     "data": {
      "text/latex": [
       "$\\displaystyle \\sum_{j}(0.5*x_j*(1.0 - x_i)) - 0.5 x_{i}$"
      ],
      "text/plain": [
       "\\sum_{j}(0.5*x_j*(1.0 - x_i)) - 0.5*x_i"
      ]
     },
     "execution_count": 39,
     "metadata": {},
     "output_type": "execute_result"
    }
   ],
   "source": [
    "quantise(mpnn_symb)"
   ]
  },
  {
   "cell_type": "code",
   "execution_count": 40,
   "metadata": {},
   "outputs": [
    {
     "name": "stdout",
     "output_type": "stream",
     "text": [
      "Test loss of symbolic formula: 0.0004760620358865708\n",
      "Number of model's parameters: 2594\n",
      "Test loss best model: 0.00044093801989220083\n"
     ]
    }
   ],
   "source": [
    "g_symb = lambda x: 0.5015045*x[:, 1].unsqueeze(-1) * (0.9985194 - x[:, 0]).unsqueeze(-1)\n",
    "h_symb = lambda x: x[:, 1].unsqueeze(-1) - 0.49652007 * x[:, 0].unsqueeze(-1)\n",
    "\n",
    "y_true, y_pred = post_process_mpnn(\n",
    "    g_symb=g_symb,\n",
    "    h_symb=h_symb,\n",
    "    model_path='./saved_models_optuna/model-epidemics-mpnn/epidemics_mpnn_ic3_s5/2',\n",
    "    test_set=EPID,\n",
    "    message_passing=False,\n",
    "    include_time=False,\n",
    "    method='dopri5'\n",
    ")"
   ]
  },
  {
   "cell_type": "code",
   "execution_count": 36,
   "metadata": {},
   "outputs": [
    {
     "data": {
      "image/png": "[encoded data removed]",
      "text/plain": [
       "<Figure size 1600x800 with 1 Axes>"
      ]
     },
     "metadata": {},
     "output_type": "display_data"
    }
   ],
   "source": [
    "plot_predictions(y_true, y_pred, node_index=18)"
   ]
  },
  {
   "cell_type": "markdown",
   "metadata": {},
   "source": [
    "#### IC=5"
   ]
  },
  {
   "cell_type": "code",
   "execution_count": 41,
   "metadata": {},
   "outputs": [
    {
     "name": "stderr",
     "output_type": "stream",
     "text": [
      "/home/ricca/miniconda3/envs/myenv/lib/python3.12/site-packages/pysr/sr.py:2776: UserWarning: Note: it looks like you are running in Jupyter. The progress bar will be turned off.\n",
      "  warnings.warn(\n",
      "/home/ricca/miniconda3/envs/myenv/lib/python3.12/site-packages/pysr/sr.py:2776: UserWarning: Note: it looks like you are running in Jupyter. The progress bar will be turned off.\n",
      "  warnings.warn(\n"
     ]
    }
   ],
   "source": [
    "model_path_mpnn = './saved_models_optuna/model-epidemics-mpnn/epidemics_mpnn_ic5_s5/2/mpnn'\n",
    "\n",
    "pysr_model = lambda : get_pysr_model(\n",
    "    model_selection=\"score\",\n",
    "    n_iterations=200\n",
    ")\n",
    "\n",
    "mpnn_symb = fit_mpnn(\n",
    "    model_path=model_path_mpnn,\n",
    "    pysr_model=pysr_model,\n",
    "    sample_size=9000,\n",
    "    message_passing=False\n",
    ")"
   ]
  },
  {
   "cell_type": "code",
   "execution_count": 42,
   "metadata": {},
   "outputs": [
    {
     "data": {
      "text/latex": [
       "$\\displaystyle \\sum_{j}( -0.5002195*x_j*(x_i - 1.0000117)) - 0.50066763 x_{i}$"
      ],
      "text/plain": [
       "\\sum_{j}( -0.5002195*x_j*(x_i - 1.0000117)) - 0.50066763*x_i"
      ]
     },
     "execution_count": 42,
     "metadata": {},
     "output_type": "execute_result"
    }
   ],
   "source": [
    "mpnn_symb"
   ]
  },
  {
   "cell_type": "code",
   "execution_count": 43,
   "metadata": {},
   "outputs": [
    {
     "data": {
      "text/latex": [
       "$\\displaystyle \\sum_{j}(-0.5*x_j*(x_i - 1.0)) - 0.5 x_{i}$"
      ],
      "text/plain": [
       "\\sum_{j}(-0.5*x_j*(x_i - 1.0)) - 0.5*x_i"
      ]
     },
     "execution_count": 43,
     "metadata": {},
     "output_type": "execute_result"
    }
   ],
   "source": [
    "quantise(mpnn_symb)"
   ]
  },
  {
   "cell_type": "code",
   "execution_count": 44,
   "metadata": {},
   "outputs": [
    {
     "name": "stdout",
     "output_type": "stream",
     "text": [
      "Test loss of symbolic formula: 8.478477684548125e-05\n",
      "Number of model's parameters: 5042\n",
      "Test loss best model: 0.0006304916460067034\n"
     ]
    }
   ],
   "source": [
    "g_symb = lambda x: -0.5002195*x[:, 1].unsqueeze(-1) * (-1.0000117 + x[:, 0]).unsqueeze(-1)\n",
    "h_symb = lambda x: x[:, 1].unsqueeze(-1) - 0.50066763 * x[:, 0].unsqueeze(-1)\n",
    "\n",
    "y_true, y_pred = post_process_mpnn(\n",
    "    g_symb=g_symb,\n",
    "    h_symb=h_symb,\n",
    "    model_path='./saved_models_optuna/model-epidemics-mpnn/epidemics_mpnn_ic5_s5/2',\n",
    "    test_set=EPID,\n",
    "    message_passing=False,\n",
    "    include_time=False,\n",
    "    method='dopri5'\n",
    ")"
   ]
  },
  {
   "cell_type": "markdown",
   "metadata": {},
   "source": [
    "### Neuronal MPNN"
   ]
  },
  {
   "cell_type": "markdown",
   "metadata": {},
   "source": [
    "#### IC=1"
   ]
  },
  {
   "cell_type": "code",
   "execution_count": 45,
   "metadata": {},
   "outputs": [
    {
     "name": "stderr",
     "output_type": "stream",
     "text": [
      "/home/ricca/miniconda3/envs/myenv/lib/python3.12/site-packages/pysr/sr.py:2776: UserWarning: Note: it looks like you are running in Jupyter. The progress bar will be turned off.\n",
      "  warnings.warn(\n",
      "/home/ricca/miniconda3/envs/myenv/lib/python3.12/site-packages/pysr/sr.py:2776: UserWarning: Note: it looks like you are running in Jupyter. The progress bar will be turned off.\n",
      "  warnings.warn(\n"
     ]
    }
   ],
   "source": [
    "model_path_mpnn = './saved_models_optuna/model-neuronal-mpnn/neuronal_mpnn_ic1_s5/0/mpnn'\n",
    "\n",
    "pysr_model = lambda : get_pysr_model(\n",
    "    model_selection=\"score\",\n",
    "    n_iterations=200\n",
    ")\n",
    "\n",
    "mpnn_symb = fit_mpnn(\n",
    "    model_path=model_path_mpnn,\n",
    "    pysr_model=pysr_model,\n",
    "    sample_size=9000,\n",
    "    message_passing=False\n",
    ")"
   ]
  },
  {
   "cell_type": "code",
   "execution_count": 47,
   "metadata": {},
   "outputs": [
    {
     "data": {
      "text/latex": [
       "$\\displaystyle \\sum_{j}( 0.28990176*tanh(x_j)) - 0.16436444 x_{i} + 0.22924687$"
      ],
      "text/plain": [
       "\\sum_{j}( 0.28990176*tanh(x_j)) - 0.16436444*x_i + 0.22924687"
      ]
     },
     "execution_count": 47,
     "metadata": {},
     "output_type": "execute_result"
    }
   ],
   "source": [
    "mpnn_symb"
   ]
  },
  {
   "cell_type": "code",
   "execution_count": 48,
   "metadata": {},
   "outputs": [
    {
     "data": {
      "text/latex": [
       "$\\displaystyle \\sum_{j}(0.29*tanh(x_j)) - 0.16 x_{i} + 0.23$"
      ],
      "text/plain": [
       "\\sum_{j}(0.29*tanh(x_j)) - 0.16*x_i + 0.23"
      ]
     },
     "execution_count": 48,
     "metadata": {},
     "output_type": "execute_result"
    }
   ],
   "source": [
    "quantise(mpnn_symb)"
   ]
  },
  {
   "cell_type": "code",
   "execution_count": 11,
   "metadata": {},
   "outputs": [
    {
     "name": "stdout",
     "output_type": "stream",
     "text": [
      "Test loss of symbolic formula: 0.04477524384856224\n",
      "Number of model's parameters: 866\n",
      "Test loss best model: 0.0054976618848741055\n"
     ]
    }
   ],
   "source": [
    "g_symb = lambda x: 0.29048842 * torch.tanh(x[:, 1].unsqueeze(-1))\n",
    "h_symb = lambda x: - torch.log(x[:, 0].unsqueeze(-1) + 1) + torch.tanh(x[:, 0].unsqueeze(-1)) + x[:, 1].unsqueeze(-1)\n",
    "\n",
    "y_true, y_pred = post_process_mpnn(\n",
    "    g_symb=g_symb,\n",
    "    h_symb=h_symb,\n",
    "    model_path='./saved_models_optuna/model-neuronal-mpnn/neuronal_mpnn_ic1_s5/0',\n",
    "    test_set=NEUR,\n",
    "    message_passing=False,\n",
    "    include_time=False,\n",
    "    method='dopri5'\n",
    ")"
   ]
  },
  {
   "cell_type": "code",
   "execution_count": 44,
   "metadata": {},
   "outputs": [
    {
     "data": {
      "image/png": "[encoded data removed]",
      "text/plain": [
       "<Figure size 1600x800 with 1 Axes>"
      ]
     },
     "metadata": {},
     "output_type": "display_data"
    }
   ],
   "source": [
    "plot_predictions(y_true, y_pred, 0)"
   ]
  },
  {
   "cell_type": "markdown",
   "metadata": {},
   "source": [
    "#### IC=3"
   ]
  },
  {
   "cell_type": "code",
   "execution_count": 3,
   "metadata": {},
   "outputs": [
    {
     "name": "stderr",
     "output_type": "stream",
     "text": [
      "/home/ricca/miniconda3/envs/myenv/lib/python3.12/site-packages/pysr/sr.py:2776: UserWarning: Note: it looks like you are running in Jupyter. The progress bar will be turned off.\n",
      "  warnings.warn(\n",
      "/home/ricca/miniconda3/envs/myenv/lib/python3.12/site-packages/pysr/sr.py:2776: UserWarning: Note: it looks like you are running in Jupyter. The progress bar will be turned off.\n",
      "  warnings.warn(\n"
     ]
    }
   ],
   "source": [
    "model_path_mpnn = \"./saved_models_optuna/model-neuronal-mpnn/neuronal_mpnn_ic3_s5/1/mpnn\"\n",
    "\n",
    "pysr_model = lambda : get_pysr_model(\n",
    "    model_selection=\"score\",\n",
    "    n_iterations=200\n",
    ")\n",
    "\n",
    "mpnn_symb = fit_mpnn(\n",
    "    model_path=model_path_mpnn,\n",
    "    pysr_model=pysr_model,\n",
    "    sample_size=9000,\n",
    "    message_passing=False\n",
    ")"
   ]
  },
  {
   "cell_type": "code",
   "execution_count": 4,
   "metadata": {},
   "outputs": [
    {
     "data": {
      "text/latex": [
       "$\\displaystyle \\sum_{j}( 0.29628184*tanh(x_j)) - \\tanh{\\left(0.0407565237014995 x_{i}^{3} \\right)} + 0.13043885$"
      ],
      "text/plain": [
       "\\sum_{j}( 0.29628184*tanh(x_j)) - tanh(0.0407565237014995*x_i**3) + 0.13043885"
      ]
     },
     "execution_count": 4,
     "metadata": {},
     "output_type": "execute_result"
    }
   ],
   "source": [
    "mpnn_symb"
   ]
  },
  {
   "cell_type": "code",
   "execution_count": 12,
   "metadata": {},
   "outputs": [
    {
     "name": "stdout",
     "output_type": "stream",
     "text": [
      "Test loss of symbolic formula: 0.00913210492581129\n",
      "Number of model's parameters: 3698\n",
      "Test loss best model: 0.001687941956333816\n"
     ]
    }
   ],
   "source": [
    "g_symb = lambda x: 0.29628184 * torch.tanh(x[:, 1].unsqueeze(-1))\n",
    "h_symb = lambda x: -torch.tanh(0.0407565237014995 * torch.pow(x[:, 0].unsqueeze(-1), 3)) + x[:, 1].unsqueeze(-1) + 0.13043885\n",
    "\n",
    "y_true, y_pred = post_process_mpnn(\n",
    "    g_symb=g_symb,\n",
    "    h_symb=h_symb,\n",
    "    model_path='./saved_models_optuna/model-neuronal-mpnn/neuronal_mpnn_ic3_s5/1',\n",
    "    test_set=NEUR,\n",
    "    message_passing=False,\n",
    "    include_time=False,\n",
    "    method='dopri5'\n",
    ")"
   ]
  },
  {
   "cell_type": "markdown",
   "metadata": {},
   "source": [
    "#### IC=5"
   ]
  },
  {
   "cell_type": "code",
   "execution_count": 2,
   "metadata": {},
   "outputs": [
    {
     "name": "stderr",
     "output_type": "stream",
     "text": [
      "/home/ricca/miniconda3/envs/myenv/lib/python3.12/site-packages/pysr/sr.py:2776: UserWarning: Note: it looks like you are running in Jupyter. The progress bar will be turned off.\n",
      "  warnings.warn(\n",
      "/home/ricca/miniconda3/envs/myenv/lib/python3.12/site-packages/pysr/sr.py:2776: UserWarning: Note: it looks like you are running in Jupyter. The progress bar will be turned off.\n",
      "  warnings.warn(\n"
     ]
    }
   ],
   "source": [
    "model_path_mpnn = './saved_models_optuna/model-neuronal-mpnn/neuronal_mpnn_ic5_s5/0/mpnn'\n",
    "\n",
    "pysr_model = lambda : get_pysr_model(\n",
    "    model_selection=\"score\",\n",
    "    n_iterations=200\n",
    ")\n",
    "\n",
    "mpnn_symb = fit_mpnn(\n",
    "    model_path=model_path_mpnn,\n",
    "    pysr_model=pysr_model,\n",
    "    sample_size=9000,\n",
    "    message_passing=False\n",
    ")"
   ]
  },
  {
   "cell_type": "code",
   "execution_count": 3,
   "metadata": {},
   "outputs": [
    {
     "data": {
      "text/latex": [
       "$\\displaystyle \\sum_{j}( 0.29918927*tanh(x_j)) - 0.503080183887881 x_{i} + \\tanh{\\left(\\log{\\left(x_{i} + 1 \\right)} \\right)}$"
      ],
      "text/plain": [
       "\\sum_{j}( 0.29918927*tanh(x_j)) - 0.503080183887881*x_i + tanh(log(x_i + 1))"
      ]
     },
     "execution_count": 3,
     "metadata": {},
     "output_type": "execute_result"
    }
   ],
   "source": [
    "mpnn_symb"
   ]
  },
  {
   "cell_type": "code",
   "execution_count": 13,
   "metadata": {},
   "outputs": [
    {
     "name": "stdout",
     "output_type": "stream",
     "text": [
      "Test loss of symbolic formula: 0.004653662443161011\n",
      "Number of model's parameters: 418\n",
      "Test loss best model: 0.0009218035847879946\n"
     ]
    }
   ],
   "source": [
    "g_symb = lambda x: 0.29918927 * torch.tanh(x[:, 1].unsqueeze(-1))\n",
    "h_symb = lambda x: -0.503080183887881 * x[:, 0].unsqueeze(-1) + x[:, 1].unsqueeze(-1) + torch.tanh(torch.log(x[:, 0].unsqueeze(-1) + 1))\n",
    "\n",
    "y_true, y_pred = post_process_mpnn(\n",
    "    g_symb=g_symb,\n",
    "    h_symb=h_symb,\n",
    "    model_path='./saved_models_optuna/model-neuronal-mpnn/neuronal_mpnn_ic5_s5/0',\n",
    "    test_set=NEUR,\n",
    "    message_passing=False,\n",
    "    include_time=False,\n",
    "    method='dopri5'\n",
    ")"
   ]
  },
  {
   "cell_type": "markdown",
   "metadata": {},
   "source": [
    "### Biochemical MPNN"
   ]
  },
  {
   "cell_type": "markdown",
   "metadata": {},
   "source": [
    "#### IC=3"
   ]
  },
  {
   "cell_type": "code",
   "execution_count": 49,
   "metadata": {},
   "outputs": [
    {
     "name": "stderr",
     "output_type": "stream",
     "text": [
      "/home/ricca/miniconda3/envs/myenv/lib/python3.12/site-packages/pysr/sr.py:2776: UserWarning: Note: it looks like you are running in Jupyter. The progress bar will be turned off.\n",
      "  warnings.warn(\n",
      "/home/ricca/miniconda3/envs/myenv/lib/python3.12/site-packages/pysr/sr.py:2776: UserWarning: Note: it looks like you are running in Jupyter. The progress bar will be turned off.\n",
      "  warnings.warn(\n"
     ]
    }
   ],
   "source": [
    "model_path_mpnn = './saved_models_optuna/model-biochemical-mpnn/biochemical_mpnn_ic3_s5/0/mpnn'\n",
    "\n",
    "pysr_model = lambda : get_pysr_model(\n",
    "    model_selection=\"score\",\n",
    "    n_iterations=200\n",
    ")\n",
    "\n",
    "mpnn_symb = fit_mpnn(\n",
    "    model_path=model_path_mpnn,\n",
    "    pysr_model=pysr_model,\n",
    "    sample_size=9000,\n",
    "    message_passing=False\n",
    ")"
   ]
  },
  {
   "cell_type": "code",
   "execution_count": 50,
   "metadata": {},
   "outputs": [
    {
     "data": {
      "text/latex": [
       "$\\displaystyle \\sum_{j}( -0.4983613*x_i*x_j) + \\log{\\left(2.6210257 - x_{i} \\right)}$"
      ],
      "text/plain": [
       "\\sum_{j}( -0.4983613*x_i*x_j) + log(2.6210257 - x_i)"
      ]
     },
     "execution_count": 50,
     "metadata": {},
     "output_type": "execute_result"
    }
   ],
   "source": [
    "mpnn_symb"
   ]
  },
  {
   "cell_type": "code",
   "execution_count": 16,
   "metadata": {},
   "outputs": [
    {
     "name": "stdout",
     "output_type": "stream",
     "text": [
      "Test loss of symbolic formula: 0.0013899521436542273\n",
      "Number of model's parameters: 506\n",
      "Test loss best model: 0.0006739106611348689\n"
     ]
    }
   ],
   "source": [
    "g_symb = lambda x: - 0.49841055 * x[:, 0].unsqueeze(-1) * x[:,1].unsqueeze(-1)\n",
    "h_symb = lambda x: x[:, 1].unsqueeze(-1) + torch.log(2.6208985 - x[:, 0].unsqueeze(-1))\n",
    "\n",
    "y_true, y_pred = post_process_mpnn(\n",
    "    g_symb=g_symb,\n",
    "    h_symb=h_symb,\n",
    "    model_path='./saved_models_optuna/model-biochemical-mpnn/biochemical_mpnn_ic3_s5/0',\n",
    "    test_set=BIO,\n",
    "    message_passing=False,\n",
    "    include_time=False,\n",
    "    method='dopri5'\n",
    ")"
   ]
  },
  {
   "cell_type": "markdown",
   "metadata": {},
   "source": [
    "#### IC=1"
   ]
  },
  {
   "cell_type": "code",
   "execution_count": 20,
   "metadata": {},
   "outputs": [
    {
     "name": "stderr",
     "output_type": "stream",
     "text": [
      "/home/ricca/miniconda3/envs/myenv/lib/python3.12/site-packages/pysr/sr.py:2776: UserWarning: Note: it looks like you are running in Jupyter. The progress bar will be turned off.\n",
      "  warnings.warn(\n",
      "/home/ricca/miniconda3/envs/myenv/lib/python3.12/site-packages/pysr/sr.py:2776: UserWarning: Note: it looks like you are running in Jupyter. The progress bar will be turned off.\n",
      "  warnings.warn(\n"
     ]
    }
   ],
   "source": [
    "model_path_mpnn = './saved_models_optuna/model-biochemical-mpnn/biochemical_mpnn_ic1_s5/1/mpnn'\n",
    "\n",
    "pysr_model = lambda : get_pysr_model(\n",
    "    model_selection=\"score\",\n",
    "    n_iterations=200\n",
    ")\n",
    "\n",
    "mpnn_symb = fit_mpnn(\n",
    "    model_path=model_path_mpnn,\n",
    "    pysr_model=pysr_model,\n",
    "    sample_size=9000,\n",
    "    message_passing=False\n",
    ")"
   ]
  },
  {
   "cell_type": "code",
   "execution_count": 21,
   "metadata": {},
   "outputs": [
    {
     "data": {
      "text/latex": [
       "$\\displaystyle \\sum_{j}( -0.50093955*x_i*x_j) + \\log{\\left(2.6312691 - x_{i} \\right)}$"
      ],
      "text/plain": [
       "\\sum_{j}( -0.50093955*x_i*x_j) + log(2.6312691 - x_i)"
      ]
     },
     "execution_count": 21,
     "metadata": {},
     "output_type": "execute_result"
    }
   ],
   "source": [
    "mpnn_symb"
   ]
  },
  {
   "cell_type": "code",
   "execution_count": 17,
   "metadata": {},
   "outputs": [
    {
     "name": "stdout",
     "output_type": "stream",
     "text": [
      "Test loss of symbolic formula: 0.0016501402715221047\n",
      "Number of model's parameters: 5162\n",
      "Test loss best model: 0.001079720095731318\n"
     ]
    }
   ],
   "source": [
    "g_symb = lambda x: - 0.50093955 * x[:, 0].unsqueeze(-1) * x[:,1].unsqueeze(-1)\n",
    "h_symb = lambda x: x[:, 1].unsqueeze(-1) + torch.log(2.6312691 - x[:, 0].unsqueeze(-1))\n",
    "\n",
    "y_true, y_pred = post_process_mpnn(\n",
    "    g_symb=g_symb,\n",
    "    h_symb=h_symb,\n",
    "    model_path='./saved_models_optuna/model-biochemical-mpnn/biochemical_mpnn_ic1_s5/1',\n",
    "    test_set=BIO,\n",
    "    message_passing=False,\n",
    "    include_time=False,\n",
    "    method='dopri5'\n",
    ")"
   ]
  },
  {
   "cell_type": "markdown",
   "metadata": {},
   "source": [
    "#### IC=5"
   ]
  },
  {
   "cell_type": "code",
   "execution_count": 23,
   "metadata": {},
   "outputs": [
    {
     "name": "stderr",
     "output_type": "stream",
     "text": [
      "/home/ricca/miniconda3/envs/myenv/lib/python3.12/site-packages/pysr/sr.py:2776: UserWarning: Note: it looks like you are running in Jupyter. The progress bar will be turned off.\n",
      "  warnings.warn(\n",
      "/home/ricca/miniconda3/envs/myenv/lib/python3.12/site-packages/pysr/sr.py:2776: UserWarning: Note: it looks like you are running in Jupyter. The progress bar will be turned off.\n",
      "  warnings.warn(\n"
     ]
    }
   ],
   "source": [
    "model_path_mpnn = './saved_models_optuna/model-biochemical-mpnn/biochemical_mpnn_ic5_s5/2/mpnn'\n",
    "\n",
    "pysr_model = lambda : get_pysr_model(\n",
    "    model_selection=\"score\",\n",
    "    n_iterations=200\n",
    ")\n",
    "\n",
    "mpnn_symb = fit_mpnn(\n",
    "    model_path=model_path_mpnn,\n",
    "    pysr_model=pysr_model,\n",
    "    sample_size=9000,\n",
    "    message_passing=False\n",
    ")"
   ]
  },
  {
   "cell_type": "code",
   "execution_count": 24,
   "metadata": {},
   "outputs": [
    {
     "data": {
      "text/latex": [
       "$\\displaystyle \\sum_{j}( -0.5005229*x_i*x_j) - \\sin{\\left(\\tanh{\\left(x_{i} \\right)} - 1.3103138 \\right)}$"
      ],
      "text/plain": [
       "\\sum_{j}( -0.5005229*x_i*x_j) - sin(tanh(x_i) - 1.3103138)"
      ]
     },
     "execution_count": 24,
     "metadata": {},
     "output_type": "execute_result"
    }
   ],
   "source": [
    "mpnn_symb"
   ]
  },
  {
   "cell_type": "code",
   "execution_count": 18,
   "metadata": {},
   "outputs": [
    {
     "name": "stdout",
     "output_type": "stream",
     "text": [
      "Test loss of symbolic formula: 0.0005943085998296738\n",
      "Number of model's parameters: 2570\n",
      "Test loss best model: 0.0003442441811785102\n"
     ]
    }
   ],
   "source": [
    "g_symb = lambda x: - 0.5005229 * x[:, 0].unsqueeze(-1) * x[:,1].unsqueeze(-1)\n",
    "h_symb = lambda x: x[:, 1].unsqueeze(-1) - torch.sin(torch.tanh(x[:, 0].unsqueeze(-1)) - 1.3103138)\n",
    "\n",
    "y_true, y_pred = post_process_mpnn(\n",
    "    g_symb=g_symb,\n",
    "    h_symb=h_symb,\n",
    "    model_path='./saved_models_optuna/model-biochemical-mpnn/biochemical_mpnn_ic5_s5/2',\n",
    "    test_set=BIO,\n",
    "    message_passing=False,\n",
    "    include_time=False,\n",
    "    method='dopri5'\n",
    ")"
   ]
  },
  {
   "cell_type": "markdown",
   "metadata": {},
   "source": [
    "### Population MPNN"
   ]
  },
  {
   "cell_type": "code",
   "execution_count": 51,
   "metadata": {},
   "outputs": [],
   "source": [
    "config_path = './configs/config_ic5/config_population.yml'\n",
    "config = load_config(config_path)\n",
    "\n",
    "exp = ExperimentsGKAN(\n",
    "    config=config,\n",
    "    n_trials=1,\n",
    "    study_name='test-population',\n",
    "    process_id=0,\n",
    ")"
   ]
  },
  {
   "cell_type": "code",
   "execution_count": 52,
   "metadata": {},
   "outputs": [
    {
     "name": "stdout",
     "output_type": "stream",
     "text": [
      "0.746541440486908\n",
      "3.0245447158813477\n"
     ]
    }
   ],
   "source": [
    "print(exp.training_set.raw_data_sampled[-1].mean().item())\n",
    "print(exp.training_set.raw_data_sampled[-1].max().item())"
   ]
  },
  {
   "cell_type": "markdown",
   "metadata": {},
   "source": [
    "#### IC=1"
   ]
  },
  {
   "cell_type": "code",
   "execution_count": 54,
   "metadata": {},
   "outputs": [],
   "source": [
    "best_model = build_model_from_file(\n",
    "    model_path=\"./saved_models_optuna/model-population-mpnn/population_mpnn_ic1_s5/0\",\n",
    "    message_passing=False,\n",
    "    include_time=False,\n",
    "    method='dopri5',\n",
    "    adjoint=True\n",
    ")\n",
    "\n",
    "raw_data = exp.training_set.raw_data_sampled[1]\n",
    "\n",
    "exp.post_processing(best_model, raw_data=raw_data)"
   ]
  },
  {
   "cell_type": "code",
   "execution_count": 55,
   "metadata": {},
   "outputs": [
    {
     "name": "stderr",
     "output_type": "stream",
     "text": [
      "/home/ricca/miniconda3/envs/myenv/lib/python3.12/site-packages/pysr/sr.py:2776: UserWarning: Note: it looks like you are running in Jupyter. The progress bar will be turned off.\n",
      "  warnings.warn(\n",
      "/home/ricca/miniconda3/envs/myenv/lib/python3.12/site-packages/pysr/sr.py:2776: UserWarning: Note: it looks like you are running in Jupyter. The progress bar will be turned off.\n",
      "  warnings.warn(\n"
     ]
    }
   ],
   "source": [
    "model_path_mpnn = \"./saved_models_optuna/model-population-mpnn/population_mpnn_ic1_s5/0/mpnn\"\n",
    "\n",
    "pysr_model = lambda : get_pysr_model(\n",
    "    model_selection=\"score\",\n",
    "    n_iterations=200\n",
    ")\n",
    "\n",
    "mpnn_symb = fit_mpnn(\n",
    "    model_path=model_path_mpnn,\n",
    "    pysr_model=pysr_model,\n",
    "    sample_size=9000,\n",
    "    message_passing=False\n",
    ")"
   ]
  },
  {
   "cell_type": "code",
   "execution_count": 56,
   "metadata": {},
   "outputs": [
    {
     "data": {
      "text/latex": [
       "$\\displaystyle \\sum_{j}( 0.194871524950503*x_j**2) - 1.11505282283985 x_{i} + \\log{\\left(x_{i} + 1 \\right)}$"
      ],
      "text/plain": [
       "\\sum_{j}( 0.194871524950503*x_j**2) - 1.11505282283985*x_i + log(x_i + 1)"
      ]
     },
     "execution_count": 56,
     "metadata": {},
     "output_type": "execute_result"
    }
   ],
   "source": [
    "mpnn_symb"
   ]
  },
  {
   "cell_type": "code",
   "execution_count": 57,
   "metadata": {},
   "outputs": [
    {
     "data": {
      "text/latex": [
       "$\\displaystyle \\sum_{j}(0.19*x_j**2) - 1.12 x_{i} + \\log{\\left(x_{i} + 1 \\right)}$"
      ],
      "text/plain": [
       "\\sum_{j}(0.19*x_j**2) - 1.12*x_i + log(x_i + 1)"
      ]
     },
     "execution_count": 57,
     "metadata": {},
     "output_type": "execute_result"
    }
   ],
   "source": [
    "quantise(mpnn_symb)"
   ]
  },
  {
   "cell_type": "code",
   "execution_count": 14,
   "metadata": {},
   "outputs": [
    {
     "name": "stdout",
     "output_type": "stream",
     "text": [
      "Test loss of symbolic formula: 0.1846676766872406\n",
      "Number of model's parameters: 2338\n",
      "Test loss best model: 0.020823514088988304\n"
     ]
    }
   ],
   "source": [
    "g_symb = lambda x: 0.147783 * torch.square(x[:, 1].unsqueeze(-1))\n",
    "h_symb = lambda x: x[:, 1].unsqueeze(-1) - 0.4844213 * x[:, 0].unsqueeze(-1)\n",
    "\n",
    "y_true, y_pred = post_process_mpnn(\n",
    "    g_symb=g_symb,\n",
    "    h_symb=h_symb,\n",
    "    model_path='./saved_models_optuna/model-population-mpnn/population_mpnn_ic1_s5/0',\n",
    "    test_set=POP,\n",
    "    message_passing=False,\n",
    "    include_time=False,\n",
    "    method='dopri5'\n",
    ")"
   ]
  },
  {
   "cell_type": "markdown",
   "metadata": {},
   "source": [
    "#### IC=3"
   ]
  },
  {
   "cell_type": "code",
   "execution_count": 58,
   "metadata": {},
   "outputs": [],
   "source": [
    "best_model = build_model_from_file(\n",
    "    model_path=\"./saved_models_optuna/model-population-mpnn/population_mpnn_ic3_s5/0\",\n",
    "    message_passing=False,\n",
    "    include_time=False,\n",
    "    method='dopri5',\n",
    "    adjoint=True\n",
    ")\n",
    "\n",
    "raw_data = exp.training_set.raw_data_sampled[1]\n",
    "\n",
    "exp.post_processing(best_model, raw_data=raw_data)"
   ]
  },
  {
   "cell_type": "code",
   "execution_count": 59,
   "metadata": {},
   "outputs": [
    {
     "name": "stderr",
     "output_type": "stream",
     "text": [
      "/home/ricca/miniconda3/envs/myenv/lib/python3.12/site-packages/pysr/sr.py:2776: UserWarning: Note: it looks like you are running in Jupyter. The progress bar will be turned off.\n",
      "  warnings.warn(\n",
      "/home/ricca/miniconda3/envs/myenv/lib/python3.12/site-packages/pysr/sr.py:2776: UserWarning: Note: it looks like you are running in Jupyter. The progress bar will be turned off.\n",
      "  warnings.warn(\n"
     ]
    }
   ],
   "source": [
    "model_path_mpnn = \"./saved_models_optuna/model-population-mpnn/population_mpnn_ic3_s5/0/mpnn\"\n",
    "\n",
    "pysr_model = lambda : get_pysr_model(\n",
    "    model_selection=\"score\",\n",
    "    n_iterations=200\n",
    ")\n",
    "\n",
    "mpnn_symb = fit_mpnn(\n",
    "    model_path=model_path_mpnn,\n",
    "    pysr_model=pysr_model,\n",
    "    sample_size=9000,\n",
    "    message_passing=False\n",
    ")"
   ]
  },
  {
   "cell_type": "code",
   "execution_count": 60,
   "metadata": {},
   "outputs": [
    {
     "data": {
      "text/latex": [
       "$\\displaystyle \\sum_{j}( 0.19574882*x_j**2) - \\log{\\left(x_{i} + 1 \\right)}^{2}$"
      ],
      "text/plain": [
       "\\sum_{j}( 0.19574882*x_j**2) - log(x_i + 1)**2"
      ]
     },
     "execution_count": 60,
     "metadata": {},
     "output_type": "execute_result"
    }
   ],
   "source": [
    "mpnn_symb"
   ]
  },
  {
   "cell_type": "code",
   "execution_count": 61,
   "metadata": {},
   "outputs": [
    {
     "data": {
      "text/latex": [
       "$\\displaystyle \\sum_{j}(0.2*x_j**2) - \\log{\\left(x_{i} + 1 \\right)}^{2}$"
      ],
      "text/plain": [
       "\\sum_{j}(0.2*x_j**2) - log(x_i + 1)**2"
      ]
     },
     "execution_count": 61,
     "metadata": {},
     "output_type": "execute_result"
    }
   ],
   "source": [
    "quantise(mpnn_symb)"
   ]
  },
  {
   "cell_type": "code",
   "execution_count": 15,
   "metadata": {},
   "outputs": [
    {
     "name": "stdout",
     "output_type": "stream",
     "text": [
      "Test loss of symbolic formula: 0.08221564441919327\n",
      "Number of model's parameters: 2690\n",
      "Test loss best model: 0.005171441938728094\n"
     ]
    }
   ],
   "source": [
    "g_symb = lambda x: 0.172337832074246 * torch.square(x[:, 1].unsqueeze(-1))\n",
    "h_symb = lambda x: x[:, 1].unsqueeze(-1) - torch.log(torch.log(torch.pow(x[:, 0].unsqueeze(-1), 3) + 1) + 1)\n",
    "\n",
    "y_true, y_pred = post_process_mpnn(\n",
    "    g_symb=g_symb,\n",
    "    h_symb=h_symb,\n",
    "    model_path='./saved_models_optuna/model-population-mpnn/population_mpnn_ic3_s5/0',\n",
    "    test_set=POP,\n",
    "    message_passing=False,\n",
    "    include_time=False,\n",
    "    method='dopri5'\n",
    ")"
   ]
  },
  {
   "cell_type": "markdown",
   "metadata": {},
   "source": [
    "#### IC=5"
   ]
  },
  {
   "cell_type": "code",
   "execution_count": 62,
   "metadata": {},
   "outputs": [],
   "source": [
    "best_model = build_model_from_file(\n",
    "    model_path=\"./saved_models_optuna/model-population-mpnn/population_mpnn_ic5_s5/0\",\n",
    "    message_passing=False,\n",
    "    include_time=False,\n",
    "    method='dopri5',\n",
    "    adjoint=True\n",
    ")\n",
    "\n",
    "raw_data = exp.training_set.raw_data_sampled[1][:240]\n",
    "\n",
    "exp.post_processing(best_model, raw_data=raw_data)"
   ]
  },
  {
   "cell_type": "code",
   "execution_count": 63,
   "metadata": {},
   "outputs": [
    {
     "name": "stderr",
     "output_type": "stream",
     "text": [
      "/home/ricca/miniconda3/envs/myenv/lib/python3.12/site-packages/pysr/sr.py:2776: UserWarning: Note: it looks like you are running in Jupyter. The progress bar will be turned off.\n",
      "  warnings.warn(\n",
      "/home/ricca/miniconda3/envs/myenv/lib/python3.12/site-packages/pysr/sr.py:2776: UserWarning: Note: it looks like you are running in Jupyter. The progress bar will be turned off.\n",
      "  warnings.warn(\n"
     ]
    }
   ],
   "source": [
    "model_path_mpnn = \"./saved_models_optuna/model-population-mpnn/population_mpnn_ic5_s5/0/mpnn\"\n",
    "\n",
    "pysr_model = lambda : get_pysr_model(\n",
    "    model_selection=\"score\",\n",
    "    n_iterations=200\n",
    ")\n",
    "\n",
    "mpnn_symb = fit_mpnn(\n",
    "    model_path=model_path_mpnn,\n",
    "    pysr_model=pysr_model,\n",
    "    sample_size=9000,\n",
    "    message_passing=False\n",
    ")"
   ]
  },
  {
   "cell_type": "code",
   "execution_count": 64,
   "metadata": {},
   "outputs": [
    {
     "data": {
      "text/latex": [
       "$\\displaystyle \\sum_{j}( 0.197662553299205*x_j**2) - \\sin{\\left(0.5081089 x_{i}^{2} \\right)}$"
      ],
      "text/plain": [
       "\\sum_{j}( 0.197662553299205*x_j**2) - sin(0.5081089*x_i**2)"
      ]
     },
     "execution_count": 64,
     "metadata": {},
     "output_type": "execute_result"
    }
   ],
   "source": [
    "mpnn_symb"
   ]
  },
  {
   "cell_type": "code",
   "execution_count": 65,
   "metadata": {},
   "outputs": [
    {
     "data": {
      "text/latex": [
       "$\\displaystyle \\sum_{j}(0.2*x_j**2) - \\sin{\\left(0.51 x_{i}^{2} \\right)}$"
      ],
      "text/plain": [
       "\\sum_{j}(0.2*x_j**2) - sin(0.51*x_i**2)"
      ]
     },
     "execution_count": 65,
     "metadata": {},
     "output_type": "execute_result"
    }
   ],
   "source": [
    "quantise(mpnn_symb)"
   ]
  },
  {
   "cell_type": "markdown",
   "metadata": {},
   "source": [
    "## Symb Reg Pred Deriv\n"
   ]
  },
  {
   "cell_type": "markdown",
   "metadata": {},
   "source": [
    "### Biochemical"
   ]
  },
  {
   "cell_type": "markdown",
   "metadata": {},
   "source": [
    "#### IC=1"
   ]
  },
  {
   "cell_type": "code",
   "execution_count": 72,
   "metadata": {},
   "outputs": [
    {
     "name": "stderr",
     "output_type": "stream",
     "text": [
      "/home/ricca/miniconda3/envs/myenv/lib/python3.12/site-packages/pysr/sr.py:2776: UserWarning: Note: it looks like you are running in Jupyter. The progress bar will be turned off.\n",
      "  warnings.warn(\n",
      "/home/ricca/miniconda3/envs/myenv/lib/python3.12/site-packages/pysr/sr.py:2776: UserWarning: Note: it looks like you are running in Jupyter. The progress bar will be turned off.\n",
      "  warnings.warn(\n"
     ]
    }
   ],
   "source": [
    "model_path_mpnn = './saved_models_optuna/model-biochemical-mpnn/biochemical_mpnn_ic1_s5_pd_seed/0/mpnn'\n",
    "\n",
    "pysr_model = lambda : get_pysr_model(\n",
    "    model_selection=\"score\",\n",
    "    n_iterations=200\n",
    ")\n",
    "\n",
    "mpnn_symb = fit_mpnn(\n",
    "    model_path=model_path_mpnn,\n",
    "    pysr_model=pysr_model,\n",
    "    sample_size=9000,\n",
    "    message_passing=False\n",
    ")"
   ]
  },
  {
   "cell_type": "code",
   "execution_count": 73,
   "metadata": {},
   "outputs": [
    {
     "data": {
      "text/latex": [
       "$\\displaystyle \\sum_{j}( -0.500930980226751*x_i*x_j) - 0.49669278 x_{i} + 0.9981982$"
      ],
      "text/plain": [
       "\\sum_{j}( -0.500930980226751*x_i*x_j) - 0.49669278*x_i + 0.9981982"
      ]
     },
     "execution_count": 73,
     "metadata": {},
     "output_type": "execute_result"
    }
   ],
   "source": [
    "mpnn_symb"
   ]
  },
  {
   "cell_type": "code",
   "execution_count": 74,
   "metadata": {},
   "outputs": [
    {
     "name": "stdout",
     "output_type": "stream",
     "text": [
      "Test loss of symbolic formula: 0.0002511219645384699\n",
      "Number of model's parameters: 1946\n",
      "Test loss best model: 0.0006052434328012168\n"
     ]
    }
   ],
   "source": [
    "g_symb = lambda x: (-0.500930980226751*x[:, 1] * x[:, 0]).unsqueeze(-1)\n",
    "h_symb = lambda x: -0.49669278 * x[:, 0].unsqueeze(-1) + 0.9981982 + x[:, 1].unsqueeze(-1)\n",
    "\n",
    "y_true, y_pred = post_process_mpnn(\n",
    "    g_symb=g_symb,\n",
    "    h_symb=h_symb,\n",
    "    model_path='./saved_models_optuna/model-biochemical-mpnn/biochemical_mpnn_ic1_s5_pd_seed/0',\n",
    "    test_set=BIO,\n",
    "    message_passing=False,\n",
    "    include_time=False,\n",
    "    method='dopri5'\n",
    ")"
   ]
  },
  {
   "cell_type": "markdown",
   "metadata": {},
   "source": [
    "#### IC=3"
   ]
  },
  {
   "cell_type": "code",
   "execution_count": 69,
   "metadata": {},
   "outputs": [
    {
     "name": "stderr",
     "output_type": "stream",
     "text": [
      "/home/ricca/miniconda3/envs/myenv/lib/python3.12/site-packages/pysr/sr.py:2776: UserWarning: Note: it looks like you are running in Jupyter. The progress bar will be turned off.\n",
      "  warnings.warn(\n",
      "/home/ricca/miniconda3/envs/myenv/lib/python3.12/site-packages/pysr/sr.py:2776: UserWarning: Note: it looks like you are running in Jupyter. The progress bar will be turned off.\n",
      "  warnings.warn(\n"
     ]
    }
   ],
   "source": [
    "model_path_mpnn = './saved_models_optuna/model-biochemical-mpnn/biochemical_mpnn_ic3_s5_pd_seed/0/mpnn'\n",
    "\n",
    "pysr_model = lambda : get_pysr_model(\n",
    "    model_selection=\"score\",\n",
    "    n_iterations=200\n",
    ")\n",
    "\n",
    "mpnn_symb = fit_mpnn(\n",
    "    model_path=model_path_mpnn,\n",
    "    pysr_model=pysr_model,\n",
    "    sample_size=9000,\n",
    "    message_passing=False\n",
    ")"
   ]
  },
  {
   "cell_type": "code",
   "execution_count": 70,
   "metadata": {},
   "outputs": [
    {
     "data": {
      "text/latex": [
       "$\\displaystyle \\sum_{j}( -0.49838933*x_i*x_j) - 0.4932584 x_{i} + 0.99604243$"
      ],
      "text/plain": [
       "\\sum_{j}( -0.49838933*x_i*x_j) - 0.4932584*x_i + 0.99604243"
      ]
     },
     "execution_count": 70,
     "metadata": {},
     "output_type": "execute_result"
    }
   ],
   "source": [
    "mpnn_symb"
   ]
  },
  {
   "cell_type": "code",
   "execution_count": 71,
   "metadata": {},
   "outputs": [
    {
     "name": "stdout",
     "output_type": "stream",
     "text": [
      "Test loss of symbolic formula: 0.0004726746119558811\n",
      "Number of model's parameters: 4490\n",
      "Test loss best model: 0.0005397682543843985\n"
     ]
    }
   ],
   "source": [
    "g_symb = lambda x: (-0.49838933*x[:, 1] * x[:, 0]).unsqueeze(-1)\n",
    "h_symb = lambda x: -0.4932584 * x[:, 0].unsqueeze(-1) + 0.99604243 + x[:, 1].unsqueeze(-1)\n",
    "\n",
    "y_true, y_pred = post_process_mpnn(\n",
    "    g_symb=g_symb,\n",
    "    h_symb=h_symb,\n",
    "    model_path='./saved_models_optuna/model-biochemical-mpnn/biochemical_mpnn_ic3_s5_pd_seed/0',\n",
    "    test_set=BIO,\n",
    "    message_passing=False,\n",
    "    include_time=False,\n",
    "    method='dopri5'\n",
    ")"
   ]
  },
  {
   "cell_type": "markdown",
   "metadata": {},
   "source": [
    "#### IC=5"
   ]
  },
  {
   "cell_type": "code",
   "execution_count": 3,
   "metadata": {},
   "outputs": [
    {
     "name": "stderr",
     "output_type": "stream",
     "text": [
      "/home/ricca/miniconda3/envs/myenv/lib/python3.12/site-packages/pysr/sr.py:2776: UserWarning: Note: it looks like you are running in Jupyter. The progress bar will be turned off.\n",
      "  warnings.warn(\n",
      "/home/ricca/miniconda3/envs/myenv/lib/python3.12/site-packages/pysr/sr.py:2776: UserWarning: Note: it looks like you are running in Jupyter. The progress bar will be turned off.\n",
      "  warnings.warn(\n"
     ]
    }
   ],
   "source": [
    "model_path_mpnn = './saved_models_optuna/model-biochemical-mpnn/biochemical_mpnn_ic5_s5_pd_seed/0/mpnn'\n",
    "\n",
    "pysr_model = lambda : get_pysr_model(\n",
    "    model_selection=\"score\",\n",
    "    n_iterations=200\n",
    ")\n",
    "\n",
    "mpnn_symb = fit_mpnn(\n",
    "    model_path=model_path_mpnn,\n",
    "    pysr_model=pysr_model,\n",
    "    sample_size=9000,\n",
    "    message_passing=False\n",
    ")"
   ]
  },
  {
   "cell_type": "code",
   "execution_count": 4,
   "metadata": {},
   "outputs": [
    {
     "data": {
      "text/latex": [
       "$\\displaystyle \\sum_{j}( -0.5007187*x_i*x_j) - 0.49532375 x_{i} + 0.99743336$"
      ],
      "text/plain": [
       "\\sum_{j}( -0.5007187*x_i*x_j) - 0.49532375*x_i + 0.99743336"
      ]
     },
     "execution_count": 4,
     "metadata": {},
     "output_type": "execute_result"
    }
   ],
   "source": [
    "mpnn_symb"
   ]
  },
  {
   "cell_type": "markdown",
   "metadata": {},
   "source": [
    "### Kuramoto"
   ]
  },
  {
   "cell_type": "markdown",
   "metadata": {},
   "source": [
    "#### IC=1"
   ]
  },
  {
   "cell_type": "code",
   "execution_count": 75,
   "metadata": {},
   "outputs": [
    {
     "name": "stderr",
     "output_type": "stream",
     "text": [
      "/home/ricca/miniconda3/envs/myenv/lib/python3.12/site-packages/pysr/sr.py:2776: UserWarning: Note: it looks like you are running in Jupyter. The progress bar will be turned off.\n",
      "  warnings.warn(\n",
      "/home/ricca/miniconda3/envs/myenv/lib/python3.12/site-packages/pysr/sr.py:2776: UserWarning: Note: it looks like you are running in Jupyter. The progress bar will be turned off.\n",
      "  warnings.warn(\n"
     ]
    }
   ],
   "source": [
    "model_path_mpnn = './saved_models_optuna/model-kuramoto-mpnn/kuramoto_mpnn_ic1_s5_pd_seed/0/mpnn'\n",
    "\n",
    "pysr_model = lambda : get_pysr_model(\n",
    "    model_selection=\"score\",\n",
    "    n_iterations=200\n",
    ")\n",
    "\n",
    "mpnn_symb = fit_mpnn(\n",
    "    model_path=model_path_mpnn,\n",
    "    pysr_model=pysr_model,\n",
    "    sample_size=9000,\n",
    "    message_passing=False\n",
    ")"
   ]
  },
  {
   "cell_type": "code",
   "execution_count": 76,
   "metadata": {},
   "outputs": [
    {
     "data": {
      "text/latex": [
       "$\\displaystyle \\sum_{j}( -0.48498482*sin(x_i - x_j)) + 3.1518855 \\cdot 10^{-5} e^{x_{i}} + 1.987027$"
      ],
      "text/plain": [
       "\\sum_{j}( -0.48498482*sin(x_i - x_j)) + 3.1518855e-5*exp(x_i) + 1.987027"
      ]
     },
     "execution_count": 76,
     "metadata": {},
     "output_type": "execute_result"
    }
   ],
   "source": [
    "mpnn_symb"
   ]
  },
  {
   "cell_type": "code",
   "execution_count": 77,
   "metadata": {},
   "outputs": [
    {
     "data": {
      "text/latex": [
       "$\\displaystyle \\sum_{j}(-0.48*sin(x_i - x_j)) + 1.99$"
      ],
      "text/plain": [
       "\\sum_{j}(-0.48*sin(x_i - x_j)) + 1.99"
      ]
     },
     "execution_count": 77,
     "metadata": {},
     "output_type": "execute_result"
    }
   ],
   "source": [
    "quantise(mpnn_symb)"
   ]
  },
  {
   "cell_type": "code",
   "execution_count": 83,
   "metadata": {},
   "outputs": [
    {
     "name": "stdout",
     "output_type": "stream",
     "text": [
      "Test loss of symbolic formula: 0.01044206041842699\n",
      "Number of model's parameters: 4466\n",
      "Test loss best model: 0.026076331734657288\n"
     ]
    }
   ],
   "source": [
    "g_symb = lambda x: -0.48498482* torch.sin(x[:, 0] - x[:, 1]).unsqueeze(-1)\n",
    "h_symb = lambda x: x[:, 1].unsqueeze(-1) + 1.987027\n",
    "\n",
    "y_true, y_pred = post_process_mpnn(\n",
    "    g_symb=g_symb,\n",
    "    h_symb=h_symb,\n",
    "    model_path='./saved_models_optuna/model-kuramoto-mpnn/kuramoto_mpnn_ic1_s5_pd_seed/0',\n",
    "    test_set=KUR,\n",
    "    message_passing=False,\n",
    "    include_time=False,\n",
    "    method='dopri5'\n",
    ")"
   ]
  },
  {
   "cell_type": "markdown",
   "metadata": {},
   "source": [
    "#### IC=3"
   ]
  },
  {
   "cell_type": "code",
   "execution_count": 5,
   "metadata": {},
   "outputs": [
    {
     "name": "stderr",
     "output_type": "stream",
     "text": [
      "/home/ricca/miniconda3/envs/myenv/lib/python3.12/site-packages/pysr/sr.py:2776: UserWarning: Note: it looks like you are running in Jupyter. The progress bar will be turned off.\n",
      "  warnings.warn(\n",
      "/home/ricca/miniconda3/envs/myenv/lib/python3.12/site-packages/pysr/sr.py:2776: UserWarning: Note: it looks like you are running in Jupyter. The progress bar will be turned off.\n",
      "  warnings.warn(\n"
     ]
    }
   ],
   "source": [
    "model_path_mpnn = './saved_models_optuna/model-kuramoto-mpnn/kuramoto_mpnn_ic3_s5_pd_seed/0/mpnn'\n",
    "\n",
    "pysr_model = lambda : get_pysr_model(\n",
    "    model_selection=\"score\",\n",
    "    n_iterations=200\n",
    ")\n",
    "\n",
    "mpnn_symb = fit_mpnn(\n",
    "    model_path=model_path_mpnn,\n",
    "    pysr_model=pysr_model,\n",
    "    sample_size=9000,\n",
    "    message_passing=False\n",
    ")"
   ]
  },
  {
   "cell_type": "code",
   "execution_count": 6,
   "metadata": {},
   "outputs": [
    {
     "data": {
      "text/latex": [
       "$\\displaystyle \\sum_{j}( -0.49279097*sin(x_i - x_j)) - 0.0020215278 x_{i} + 1.9956232$"
      ],
      "text/plain": [
       "\\sum_{j}( -0.49279097*sin(x_i - x_j)) - 0.0020215278*x_i + 1.9956232"
      ]
     },
     "execution_count": 6,
     "metadata": {},
     "output_type": "execute_result"
    }
   ],
   "source": [
    "mpnn_symb"
   ]
  },
  {
   "cell_type": "code",
   "execution_count": 7,
   "metadata": {},
   "outputs": [
    {
     "data": {
      "text/latex": [
       "$\\displaystyle \\sum_{j}(-0.49*sin(x_i - x_j)) + 2.0$"
      ],
      "text/plain": [
       "\\sum_{j}(-0.49*sin(x_i - x_j)) + 2.0"
      ]
     },
     "execution_count": 7,
     "metadata": {},
     "output_type": "execute_result"
    }
   ],
   "source": [
    "quantise(mpnn_symb)"
   ]
  },
  {
   "cell_type": "code",
   "execution_count": 18,
   "metadata": {},
   "outputs": [
    {
     "name": "stdout",
     "output_type": "stream",
     "text": [
      "Test loss of symbolic formula: 0.00690213218331337\n",
      "Number of model's parameters: 2954\n",
      "Test loss best model: 0.006628221832215786\n"
     ]
    }
   ],
   "source": [
    "g_symb = lambda x: -0.49279097* torch.sin(x[:, 0] - x[:, 1]).unsqueeze(-1)\n",
    "h_symb = lambda x: x[:, 1].unsqueeze(-1) - 0.0020215278*x[:, 0].unsqueeze(-1) + 1.9956232\n",
    "\n",
    "y_true, y_pred = post_process_mpnn(\n",
    "    g_symb=g_symb,\n",
    "    h_symb=h_symb,\n",
    "    model_path='./saved_models_optuna/model-kuramoto-mpnn/kuramoto_mpnn_ic3_s5_pd_seed/0',\n",
    "    test_set=KUR,\n",
    "    message_passing=False,\n",
    "    include_time=False,\n",
    "    method='dopri5'\n",
    ")"
   ]
  },
  {
   "cell_type": "markdown",
   "metadata": {},
   "source": [
    "#### IC=5"
   ]
  },
  {
   "cell_type": "code",
   "execution_count": 8,
   "metadata": {},
   "outputs": [
    {
     "name": "stderr",
     "output_type": "stream",
     "text": [
      "/home/ricca/miniconda3/envs/myenv/lib/python3.12/site-packages/pysr/sr.py:2776: UserWarning: Note: it looks like you are running in Jupyter. The progress bar will be turned off.\n",
      "  warnings.warn(\n",
      "/home/ricca/miniconda3/envs/myenv/lib/python3.12/site-packages/pysr/sr.py:2776: UserWarning: Note: it looks like you are running in Jupyter. The progress bar will be turned off.\n",
      "  warnings.warn(\n"
     ]
    }
   ],
   "source": [
    "model_path_mpnn = './saved_models_optuna/model-kuramoto-mpnn/kuramoto_mpnn_ic5_s5_pd_seed/0/mpnn'\n",
    "\n",
    "pysr_model = lambda : get_pysr_model(\n",
    "    model_selection=\"score\",\n",
    "    n_iterations=200\n",
    ")\n",
    "\n",
    "mpnn_symb = fit_mpnn(\n",
    "    model_path=model_path_mpnn,\n",
    "    pysr_model=pysr_model,\n",
    "    sample_size=9000,\n",
    "    message_passing=False\n",
    ")"
   ]
  },
  {
   "cell_type": "code",
   "execution_count": 16,
   "metadata": {},
   "outputs": [
    {
     "data": {
      "text/latex": [
       "$\\displaystyle \\sum_{j}( -0.498557871500896*sin(x_i - x_j)) + 1.2874754 \\cdot 10^{-5} x_{i}^{3} + 1.992307$"
      ],
      "text/plain": [
       "\\sum_{j}( -0.498557871500896*sin(x_i - x_j)) + 1.2874754e-5*x_i**3 + 1.992307"
      ]
     },
     "execution_count": 16,
     "metadata": {},
     "output_type": "execute_result"
    }
   ],
   "source": [
    "mpnn_symb"
   ]
  },
  {
   "cell_type": "code",
   "execution_count": 17,
   "metadata": {},
   "outputs": [
    {
     "data": {
      "text/latex": [
       "$\\displaystyle \\sum_{j}(-0.5*sin(x_i - x_j)) + 1.99$"
      ],
      "text/plain": [
       "\\sum_{j}(-0.5*sin(x_i - x_j)) + 1.99"
      ]
     },
     "execution_count": 17,
     "metadata": {},
     "output_type": "execute_result"
    }
   ],
   "source": [
    "quantise(mpnn_symb)"
   ]
  },
  {
   "cell_type": "code",
   "execution_count": 19,
   "metadata": {},
   "outputs": [
    {
     "name": "stdout",
     "output_type": "stream",
     "text": [
      "Test loss of symbolic formula: 0.006611813325434923\n",
      "Number of model's parameters: 1874\n",
      "Test loss best model: 0.005538256373256445\n"
     ]
    }
   ],
   "source": [
    "g_symb = lambda x: -0.498557871500896* torch.sin(x[:, 0] - x[:, 1]).unsqueeze(-1)\n",
    "h_symb = lambda x: x[:, 1].unsqueeze(-1) + 1.2874754*10e-5*torch.pow(x[:, 0].unsqueeze(-1), 3) + 1.992307\n",
    "\n",
    "y_true, y_pred = post_process_mpnn(\n",
    "    g_symb=g_symb,\n",
    "    h_symb=h_symb,\n",
    "    model_path='./saved_models_optuna/model-kuramoto-mpnn/kuramoto_mpnn_ic5_s5_pd_seed/0',\n",
    "    test_set=KUR,\n",
    "    message_passing=False,\n",
    "    include_time=False,\n",
    "    method='dopri5'\n",
    ")"
   ]
  },
  {
   "cell_type": "markdown",
   "metadata": {},
   "source": [
    "### Epidemics"
   ]
  },
  {
   "cell_type": "markdown",
   "metadata": {},
   "source": [
    "#### IC=1"
   ]
  },
  {
   "cell_type": "code",
   "execution_count": 85,
   "metadata": {},
   "outputs": [
    {
     "name": "stderr",
     "output_type": "stream",
     "text": [
      "/home/ricca/miniconda3/envs/myenv/lib/python3.12/site-packages/pysr/sr.py:2776: UserWarning: Note: it looks like you are running in Jupyter. The progress bar will be turned off.\n",
      "  warnings.warn(\n",
      "/home/ricca/miniconda3/envs/myenv/lib/python3.12/site-packages/pysr/sr.py:2776: UserWarning: Note: it looks like you are running in Jupyter. The progress bar will be turned off.\n",
      "  warnings.warn(\n"
     ]
    }
   ],
   "source": [
    "model_path_mpnn = './saved_models_optuna/model-epidemics-mpnn/epidemics_mpnn_ic1_s5_pd_seed/0/mpnn'\n",
    "\n",
    "pysr_model = lambda : get_pysr_model(\n",
    "    model_selection=\"score\",\n",
    "    n_iterations=200\n",
    ")\n",
    "\n",
    "mpnn_symb = fit_mpnn(\n",
    "    model_path=model_path_mpnn,\n",
    "    pysr_model=pysr_model,\n",
    "    sample_size=9000,\n",
    "    message_passing=False\n",
    ")"
   ]
  },
  {
   "cell_type": "code",
   "execution_count": 86,
   "metadata": {},
   "outputs": [
    {
     "data": {
      "text/latex": [
       "$\\displaystyle \\sum_{j}( x_j*exp(-3*x_i)) - 0.48795307 x_{i}$"
      ],
      "text/plain": [
       "\\sum_{j}( x_j*exp(-3*x_i)) - 0.48795307*x_i"
      ]
     },
     "execution_count": 86,
     "metadata": {},
     "output_type": "execute_result"
    }
   ],
   "source": [
    "mpnn_symb"
   ]
  },
  {
   "cell_type": "markdown",
   "metadata": {},
   "source": [
    "## Real Epid data"
   ]
  },
  {
   "cell_type": "code",
   "execution_count": 2,
   "metadata": {},
   "outputs": [],
   "source": [
    "from models.utils.MPNN import MPNN\n",
    "from models.kan.KAN import KAN\n",
    "from models.GKAN_ODE import GKAN_ODE\n",
    "from experiments.experiments_mpnn import activations\n",
    "from models.utils.MLP import MLP\n",
    "\n",
    "\n",
    "def build_model_from_file(best_params_file, best_state_path, message_passing, include_time, method='midpoint', adjoint=False):\n",
    "    with open(best_params_file, 'r') as f:\n",
    "        best_hyperparams = json.load(f)\n",
    "    \n",
    "    in_dim = 1\n",
    "    \n",
    "    hidden_layers = [best_hyperparams[\"hidden_dims_g_net\"] for _ in range(best_hyperparams[\"n_hidden_layers_g_net\"])]\n",
    "    hidden_layers = [2*in_dim] + hidden_layers + [in_dim]    \n",
    "    # g_net\n",
    "    g_net = MLP(\n",
    "        hidden_layers=hidden_layers,\n",
    "        af = activations[best_hyperparams['af_g_net']],\n",
    "        dropout_rate=best_hyperparams['drop_p_g_net'],\n",
    "    )\n",
    "    \n",
    "    time_dim = 1 if include_time else 0\n",
    "    in_dim_h = 2 if message_passing else 1\n",
    "    in_dim_h += time_dim\n",
    "    hidden_layers = [best_hyperparams[\"hidden_dims_h_net\"] for _ in range(best_hyperparams[\"n_hidden_layers_h_net\"])]\n",
    "    hidden_layers = [in_dim_h] + hidden_layers + [in_dim] \n",
    "    \n",
    "    \n",
    "    # h_net\n",
    "    h_net = MLP(\n",
    "        hidden_layers=hidden_layers,\n",
    "        af = activations[best_hyperparams['af_h_net']],\n",
    "        dropout_rate=best_hyperparams['drop_p_h_net'],\n",
    "    )\n",
    "    \n",
    "    mpnn = MPNN(\n",
    "        h_net=h_net,\n",
    "        g_net=g_net,\n",
    "        message_passing=message_passing,\n",
    "        include_time=include_time\n",
    "    )\n",
    "    \n",
    "    model = MPNN_ODE(\n",
    "        conv=mpnn,\n",
    "        model_path='./saved_models_optuna/tmp',\n",
    "        integration_method=method,\n",
    "        adjoint=adjoint\n",
    "    )\n",
    "    \n",
    "    model = model.to(torch.device('cuda'))\n",
    "    model.load_state_dict(torch.load(best_state_path, weights_only=False))\n",
    "    \n",
    "    return model"
   ]
  },
  {
   "cell_type": "code",
   "execution_count": 49,
   "metadata": {},
   "outputs": [],
   "source": [
    "best_model = build_model_from_file(\n",
    "    best_params_file=\"./saved_models_optuna/model-real-epidemics-mpnn/real_epid_mpnn/0/best_params.json\",\n",
    "    best_state_path = \"./saved_models_optuna/model-real-epidemics-mpnn/real_epid_mpnn/0/mpnn/state_dict.pth\",\n",
    "    message_passing=False,\n",
    "    include_time=False,\n",
    "    method=\"dopri5\",\n",
    "    adjoint=True\n",
    ")"
   ]
  },
  {
   "cell_type": "code",
   "execution_count": 14,
   "metadata": {},
   "outputs": [],
   "source": [
    "config = load_config(\"./configs/config_real_epidemics_mpnn.yml\")\n",
    "\n",
    "exp = ExperimentsMPNN(\n",
    "    config=config,\n",
    "    n_trials=1,\n",
    "    study_name='test-baseline',\n",
    "    process_id=0,\n",
    ")\n",
    "\n",
    "scaler = exp.pre_processing(exp.training_set)\n",
    "exp.scaler = scaler\n",
    "\n",
    "exp.post_processing(best_model=best_model)"
   ]
  },
  {
   "cell_type": "code",
   "execution_count": 4,
   "metadata": {},
   "outputs": [
    {
     "name": "stderr",
     "output_type": "stream",
     "text": [
      "/home/ricca/miniconda3/envs/myenv/lib/python3.12/site-packages/pysr/sr.py:2776: UserWarning: Note: it looks like you are running in Jupyter. The progress bar will be turned off.\n",
      "  warnings.warn(\n",
      "/home/ricca/miniconda3/envs/myenv/lib/python3.12/site-packages/pysr/sr.py:2776: UserWarning: Note: it looks like you are running in Jupyter. The progress bar will be turned off.\n",
      "  warnings.warn(\n"
     ]
    }
   ],
   "source": [
    "model_path_mpnn = './saved_models_optuna/model-real-epidemics-mpnn/real_epid_mpnn/5/mpnn'\n",
    "\n",
    "pysr_model = lambda : get_pysr_model(\n",
    "    model_selection=\"score\",\n",
    "    n_iterations=200\n",
    ")\n",
    "\n",
    "mpnn_symb = fit_mpnn(\n",
    "    model_path=model_path_mpnn,\n",
    "    pysr_model=pysr_model,\n",
    "    sample_size=9000,\n",
    "    message_passing=False\n",
    ")"
   ]
  },
  {
   "cell_type": "code",
   "execution_count": 5,
   "metadata": {},
   "outputs": [
    {
     "data": {
      "text/latex": [
       "$\\displaystyle \\sum_{j}( x_i + 1.087914) - 3.57816536226437 \\tanh{\\left(\\log{\\left(\\left|{x_{i}}\\right| \\right)} \\right)}$"
      ],
      "text/plain": [
       "\\sum_{j}( x_i + 1.087914) - 3.57816536226437*tanh(log(Abs(x_i)))"
      ]
     },
     "execution_count": 5,
     "metadata": {},
     "output_type": "execute_result"
    }
   ],
   "source": [
    "mpnn_symb"
   ]
  },
  {
   "cell_type": "code",
   "execution_count": 50,
   "metadata": {},
   "outputs": [],
   "source": [
    "from tsl.data.preprocessing.scalers import MinMaxScaler, StandardScaler\n",
    "\n",
    "def pre_processing(training_set, out_range = (-1, 1), device='cuda', min_max = True):\n",
    "    all_train_x = torch.cat([data.x.view(-1) for data in training_set], dim=0)  \n",
    "    if min_max:\n",
    "        scaler = MinMaxScaler(out_range=out_range)\n",
    "    else:\n",
    "        scaler = StandardScaler()\n",
    "    scaler.fit(all_train_x.detach().cpu())\n",
    "\n",
    "    scaler.scale = scaler.scale.to(torch.device(device))\n",
    "    scaler.bias = scaler.bias.to(torch.device(device))\n",
    "\n",
    "    return scaler"
   ]
  },
  {
   "cell_type": "code",
   "execution_count": 52,
   "metadata": {},
   "outputs": [
    {
     "name": "stdout",
     "output_type": "stream",
     "text": [
      "285.5475158691406\n"
     ]
    }
   ],
   "source": [
    "from datasets.RealEpidemics import RealEpidemics\n",
    "\n",
    "g_symb = lambda x: x[:, 0].unsqueeze(-1) + 1.2868367\n",
    "h_symb = lambda x: x[:, 1].unsqueeze(-1) -torch.square(x[:, 0]).unsqueeze(-1) + 1.2340752\n",
    "\n",
    "config = load_config(\"./configs/config_real_epidemics_mpnn.yml\")\n",
    "\n",
    "exp = ExperimentsMPNN(\n",
    "    config=config,\n",
    "    n_trials=1,\n",
    "    study_name='test-baseline',\n",
    "    process_id=0,\n",
    ")\n",
    "\n",
    "scaler = pre_processing(exp.training_set, min_max=True, out_range=(-1, 1))\n",
    "\n",
    "print(get_symb_test_error(\n",
    "    g_symb=g_symb,\n",
    "    h_symb=h_symb,\n",
    "    test_set=exp.test_set,\n",
    "    message_passing=True,\n",
    "    include_time=False,\n",
    "    scaler=scaler,\n",
    "    inverse_scale=True\n",
    "))"
   ]
  },
  {
   "cell_type": "markdown",
   "metadata": {},
   "source": [
    "### Plots"
   ]
  },
  {
   "cell_type": "code",
   "execution_count": 35,
   "metadata": {},
   "outputs": [],
   "source": [
    "import matplotlib.pyplot as plt\n",
    "import json"
   ]
  },
  {
   "cell_type": "code",
   "execution_count": 36,
   "metadata": {},
   "outputs": [],
   "source": [
    "def plot_predictions(snapshot, t_end, ode_model, y_true, node_idx = 0, scaler=None):\n",
    "    ode_model.eval()\n",
    "    T = y_true.shape[0] + 1\n",
    "    t_start = snapshot.t_span[0]\n",
    "    eval_time = torch.linspace(t_start.item(), t_end.item(), T, device=t_start.device)\n",
    "    snapshot.t_span = eval_time\n",
    "    \n",
    "    if scaler is not None:\n",
    "        snapshot.x = scaler.transform(snapshot.x)\n",
    "    \n",
    "    y_pred = ode_model(snapshot) # (eval_time-1, N, 1)\n",
    "    \n",
    "    if scaler is not None:\n",
    "        y_pred = scaler.inverse_transform(y_pred)  \n",
    "    \n",
    "    y_true = y_true.detach().cpu().numpy()\n",
    "    y_pred = y_pred.detach().cpu().numpy()\n",
    "    \n",
    "    T = y_true.shape[0]\n",
    "    time = time = np.arange(T)\n",
    "    \n",
    "    plt.figure(figsize=(10, 5))\n",
    "    plt.plot(time, y_true[:, node_idx, :], label='y_true', linestyle='-', marker='o')\n",
    "    plt.plot(time, y_pred[:, node_idx, :], label='y_pred', linestyle='--', marker='x')\n",
    "    plt.title(f\"Comparison for N_idx = {node_idx}\")\n",
    "    plt.xlabel(\"Time Step (T)\")\n",
    "    plt.ylabel(\"Value\")\n",
    "    plt.legend()\n",
    "    plt.grid(True)\n",
    "    plt.tight_layout()\n",
    "    plt.show()\n",
    "    "
   ]
  },
  {
   "cell_type": "code",
   "execution_count": 37,
   "metadata": {},
   "outputs": [],
   "source": [
    "start_x = exp.training_set[0]\n",
    "t_end = exp.test_set[-1].t_span[-1]\n",
    "y_true = exp.training_set.raw_data_sampled\n",
    "with open(\"./data/Real-Epidemics/countries_dict.json\", 'r') as f:\n",
    "    countries_df = json.load(f)"
   ]
  },
  {
   "cell_type": "code",
   "execution_count": 40,
   "metadata": {},
   "outputs": [
    {
     "data": {
      "image/png": "[encoded data removed]",
      "text/plain": [
       "<Figure size 1000x500 with 1 Axes>"
      ]
     },
     "metadata": {},
     "output_type": "display_data"
    }
   ],
   "source": [
    "# base_expr = get_model(\n",
    "#     g=g_symb,\n",
    "#     h=h_symb,\n",
    "# )\n",
    "\n",
    "\n",
    "plot_predictions(\n",
    "    snapshot=start_x,\n",
    "    t_end = t_end,\n",
    "    ode_model=best_model,\n",
    "    y_true=y_true[0, 1:, :, :],\n",
    "    node_idx=countries_df[\"Brazil\"],\n",
    "    scaler=scaler\n",
    ")"
   ]
  }
 ],
 "metadata": {
  "kernelspec": {
   "display_name": "myenv",
   "language": "python",
   "name": "python3"
  },
  "language_info": {
   "codemirror_mode": {
    "name": "ipython",
    "version": 3
   },
   "file_extension": ".py",
   "mimetype": "text/x-python",
   "name": "python",
   "nbconvert_exporter": "python",
   "pygments_lexer": "ipython3",
   "version": "3.12.0"
  }
 },
 "nbformat": 4,
 "nbformat_minor": 2
}
