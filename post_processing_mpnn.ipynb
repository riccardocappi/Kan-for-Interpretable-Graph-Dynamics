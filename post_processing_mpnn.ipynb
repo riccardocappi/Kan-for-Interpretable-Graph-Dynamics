{
 "cells": [
  {
   "cell_type": "markdown",
   "metadata": {},
   "source": [
    "## Test Experiments"
   ]
  },
  {
   "cell_type": "code",
   "execution_count": 1,
   "metadata": {},
   "outputs": [
    {
     "name": "stdout",
     "output_type": "stream",
     "text": [
      "Detected IPython. Loading juliacall extension. See https://juliapy.github.io/PythonCall.jl/stable/compat/#IPython\n"
     ]
    },
    {
     "name": "stderr",
     "output_type": "stream",
     "text": [
      "/home/ricca/miniconda3/envs/myenv/lib/python3.12/site-packages/torch/cuda/__init__.py:619: UserWarning: Can't initialize NVML\n",
      "  warnings.warn(\"Can't initialize NVML\")\n"
     ]
    }
   ],
   "source": [
    "from utils.utils import *\n",
    "import optuna\n",
    "from optuna.storages import JournalStorage\n",
    "from optuna.storages.journal import JournalFileBackend\n",
    "from experiments.experiments_gkan import ExperimentsGKAN\n",
    "from experiments.experiments_mpnn import ExperimentsMPNN\n",
    "\n",
    "storage = JournalStorage(JournalFileBackend(\"optuna_journal_storage.log\"))"
   ]
  },
  {
   "cell_type": "code",
   "execution_count": 2,
   "metadata": {},
   "outputs": [],
   "source": [
    "config = load_config(\"./configs/config_ic1/config_population_mpnn.yml\")\n",
    "exp = ExperimentsMPNN(\n",
    "    config=config,\n",
    "    n_trials=1,\n",
    "    study_name='test-pop',\n",
    "    process_id=0,\n",
    ")"
   ]
  },
  {
   "cell_type": "code",
   "execution_count": 3,
   "metadata": {},
   "outputs": [
    {
     "name": "stdout",
     "output_type": "stream",
     "text": [
      "45\n"
     ]
    }
   ],
   "source": [
    "print(len(exp.training_set))"
   ]
  },
  {
   "cell_type": "code",
   "execution_count": null,
   "metadata": {},
   "outputs": [
    {
     "name": "stderr",
     "output_type": "stream",
     "text": [
      "[I 2025-05-16 14:52:24,794] Using an existing study with name 'model-population-mpnn-test-pop' instead of creating a new one.\n",
      "/home/ricca/miniconda3/envs/myenv/lib/python3.12/site-packages/scipy/integrate/_ivp/ivp.py:621: UserWarning: The following arguments have no effect for a chosen solver: `min_step`.\n",
      "  solver = method(fun, t0, y0, tf, vectorized=vectorized, **options)\n"
     ]
    },
    {
     "name": "stdout",
     "output_type": "stream",
     "text": [
      "Trial 1: num params: 3442\n"
     ]
    }
   ],
   "source": [
    "exp.epochs = 1\n",
    "exp.run()"
   ]
  },
  {
   "cell_type": "markdown",
   "metadata": {},
   "source": [
    "## Symb Reg"
   ]
  },
  {
   "cell_type": "markdown",
   "metadata": {},
   "source": [
    "### Utils\n"
   ]
  },
  {
   "cell_type": "code",
   "execution_count": 2,
   "metadata": {},
   "outputs": [],
   "source": [
    "from models.utils.MPNN import MPNN\n",
    "from models.baseline.MPNN_ODE import MPNN_ODE\n",
    "from train_and_eval import eval_model\n",
    "from datasets.SyntheticData import SyntheticData\n",
    "from sympy import symbols, sin, summation, simplify\n",
    "import networkx as nx\n",
    "from torch_geometric.utils import from_networkx\n",
    "from utils.utils import integrate\n",
    "from torch_geometric.data import Data\n",
    "from experiments.experiments_mpnn import activations\n",
    "from models.utils.MLP import MLP"
   ]
  },
  {
   "cell_type": "code",
   "execution_count": 8,
   "metadata": {},
   "outputs": [],
   "source": [
    "def get_model(g, h, message_passing=True, include_time=False, atol=1e-5, rtol=1e-3, integration_method = 'scipy_solver'):\n",
    "    conv = MPNN(\n",
    "        g_net = g,\n",
    "        h_net = h, \n",
    "        message_passing=message_passing,\n",
    "        include_time=include_time\n",
    "    )\n",
    "    \n",
    "    symb = MPNN_ODE(\n",
    "        conv=conv,\n",
    "        model_path=\"./saved_models_optuna/tmp_symb\",\n",
    "        adjoint=True,\n",
    "        integration_method=integration_method,\n",
    "        atol=atol,\n",
    "        rtol=rtol\n",
    "    )\n",
    "    \n",
    "    return symb\n",
    "\n",
    "\n",
    "def get_symb_test_error(g_symb, h_symb, test_set, message_passing=False, include_time=False, atol=1e-5, rtol=1e-3, scaler = None, inverse_scale=False, method='scipy_solver'):\n",
    "    \n",
    "    # total_len = len(dataset)\n",
    "    # test_set = dataset[int(0.9*total_len):]\n",
    "    \n",
    "    symb = get_model(\n",
    "        g=g_symb,\n",
    "        h=h_symb,\n",
    "        message_passing=message_passing,\n",
    "        include_time=include_time,\n",
    "        atol=atol,\n",
    "        rtol=rtol,\n",
    "        integration_method=method\n",
    "    )\n",
    "    \n",
    "    test_loss = eval_model(\n",
    "        model=symb,\n",
    "        valid_data=test_set,\n",
    "        criterion=torch.nn.L1Loss(),\n",
    "        scaler=scaler,\n",
    "        inverse_scale=inverse_scale\n",
    "    )\n",
    "    \n",
    "    return test_loss\n",
    "\n",
    "\n",
    "def get_test_set(dynamics, seed=12345, device='cuda', input_range = (0, 1), **integration_kwargs):\n",
    "    graph = nx.barabasi_albert_graph(100, 3, seed=seed)\n",
    "    edge_index = from_networkx(graph).edge_index\n",
    "    edge_index = edge_index.to(torch.device(device))\n",
    "    rng = np.random.default_rng(seed=seed)\n",
    "    \n",
    "    data, t = integrate(\n",
    "        input_range=input_range,\n",
    "        t_span = [0, 1],\n",
    "        t_eval_steps=300,\n",
    "        dynamics=dynamics,\n",
    "        device=device,\n",
    "        graph=graph,\n",
    "        rng = rng,\n",
    "        **integration_kwargs\n",
    "    )\n",
    "    \n",
    "    snapshot = Data(\n",
    "        x = data[0].unsqueeze(0),\n",
    "        y = data[1:],\n",
    "        edge_index=edge_index,\n",
    "        edge_attr=None,\n",
    "        t_span = t\n",
    "    )\n",
    "    \n",
    "    return [snapshot]\n",
    "\n",
    "\n",
    "def build_model_from_file(best_params_file, best_state_path, message_passing, include_time, method='midpoint', adjoint=False):\n",
    "    with open(best_params_file, 'r') as f:\n",
    "        best_hyperparams = json.load(f)\n",
    "    \n",
    "    in_dim = 1\n",
    "    \n",
    "    hidden_layers = [best_hyperparams[\"hidden_dims_g_net\"] for _ in range(best_hyperparams[\"n_hidden_layers_g_net\"])]\n",
    "    hidden_layers = [2*in_dim] + hidden_layers + [in_dim]    \n",
    "    # g_net\n",
    "    g_net = MLP(\n",
    "        hidden_layers=hidden_layers,\n",
    "        af = activations[best_hyperparams['af_g_net']],\n",
    "        dropout_rate=best_hyperparams['drop_p_g_net'],\n",
    "    )\n",
    "    \n",
    "    time_dim = 1 if include_time else 0\n",
    "    in_dim_h = 2 if message_passing else 1\n",
    "    in_dim_h += time_dim\n",
    "    hidden_layers = [best_hyperparams[\"hidden_dims_h_net\"] for _ in range(best_hyperparams[\"n_hidden_layers_h_net\"])]\n",
    "    hidden_layers = [in_dim_h] + hidden_layers + [in_dim] \n",
    "    \n",
    "    \n",
    "    # h_net\n",
    "    h_net = MLP(\n",
    "        hidden_layers=hidden_layers,\n",
    "        af = activations[best_hyperparams['af_h_net']],\n",
    "        dropout_rate=best_hyperparams['drop_p_h_net'],\n",
    "    )\n",
    "    \n",
    "    mpnn = MPNN(\n",
    "        h_net=h_net,\n",
    "        g_net=g_net,\n",
    "        message_passing=message_passing,\n",
    "        include_time=include_time\n",
    "    )\n",
    "    \n",
    "    model = MPNN_ODE(\n",
    "        conv=mpnn,\n",
    "        model_path='./saved_models_optuna/tmp',\n",
    "        integration_method=method,\n",
    "        adjoint=adjoint\n",
    "    )\n",
    "    \n",
    "    model = model.to(torch.device('cuda'))\n",
    "    model.load_state_dict(torch.load(best_state_path, weights_only=False))\n",
    "    \n",
    "    return model\n",
    "\n",
    "\n",
    "def plot_predictions(y_true, y_pred, node_index = 0):\n",
    "    plt.figure(figsize=(16, 8))\n",
    "    plt.plot(y_true[:, node_index, :], label='y_true', marker='o')\n",
    "    plt.plot(y_pred[:, node_index, :], label='y_pred', marker='o')\n",
    "    plt.xlabel('Time step')\n",
    "    plt.ylabel('Value')\n",
    "    plt.title(f'y_true vs y_pred for Node {node_index}')\n",
    "    plt.legend()\n",
    "    plt.grid(True)\n",
    "    plt.tight_layout()\n",
    "    plt.show()"
   ]
  },
  {
   "cell_type": "markdown",
   "metadata": {},
   "source": [
    "### LB Losses"
   ]
  },
  {
   "cell_type": "markdown",
   "metadata": {},
   "source": [
    "#### Kuramoto"
   ]
  },
  {
   "cell_type": "code",
   "execution_count": 10,
   "metadata": {},
   "outputs": [
    {
     "name": "stderr",
     "output_type": "stream",
     "text": [
      "/home/ricca/miniconda3/envs/myenv/lib/python3.12/site-packages/scipy/integrate/_ivp/ivp.py:621: UserWarning: The following arguments have no effect for a chosen solver: `min_step`.\n",
      "  solver = method(fun, t0, y0, tf, vectorized=vectorized, **options)\n"
     ]
    },
    {
     "name": "stdout",
     "output_type": "stream",
     "text": [
      "Kuramoto: 7.65262811910361e-05\n"
     ]
    }
   ],
   "source": [
    "kur_config = load_config(\"./configs/config_ic1/config_kuramoto.yml\")\n",
    "\n",
    "KUR = get_test_set(\n",
    "    dynamics=kur_config['name'],\n",
    "    seed = 12345,\n",
    "    device=kur_config['device'],\n",
    "    input_range=kur_config['input_range'],\n",
    "    **kur_config['integration_kwargs']    \n",
    ")\n",
    "\n",
    "g_symb = lambda x: torch.sin(x[:, 1] - x[:, 0]).unsqueeze(-1)\n",
    "h_symb = lambda x: 2.0 + 0.5 * x[:, 1].unsqueeze(-1)\n",
    "\n",
    "test_loss = get_symb_test_error(\n",
    "    g_symb=g_symb,\n",
    "    h_symb=h_symb,\n",
    "    test_set=KUR,\n",
    "    message_passing=True,\n",
    "    include_time=False,\n",
    "    atol=1e-5,\n",
    "    rtol=1e-3\n",
    ")\n",
    "\n",
    "print(f\"Kuramoto: {test_loss}\")\n"
   ]
  },
  {
   "cell_type": "markdown",
   "metadata": {},
   "source": [
    "#### Epidemics"
   ]
  },
  {
   "cell_type": "code",
   "execution_count": 12,
   "metadata": {},
   "outputs": [
    {
     "name": "stdout",
     "output_type": "stream",
     "text": [
      "Epidemics: 1.2386286471155472e-05\n"
     ]
    }
   ],
   "source": [
    "epid_config = load_config(\"./configs/config_ic1/config_epidemics.yml\")\n",
    "\n",
    "EPID = get_test_set(\n",
    "    dynamics=epid_config['name'],\n",
    "    seed = 12345,\n",
    "    device=epid_config['device'],\n",
    "    input_range=epid_config['input_range'],\n",
    "    **epid_config['integration_kwargs']    \n",
    ")\n",
    "\n",
    "g_symb = lambda x: 0.5*x[:, 1].unsqueeze(-1) * (1 - x[:, 0].unsqueeze(-1))\n",
    "h_symb = lambda x: x[:, 1].unsqueeze(1) - 0.5 * x[:, 0].unsqueeze(-1)\n",
    "\n",
    "test_loss = get_symb_test_error(\n",
    "    g_symb=g_symb,\n",
    "    h_symb=h_symb,\n",
    "    test_set=EPID,\n",
    "    message_passing=True,\n",
    "    include_time=False,\n",
    "    atol=1e-5,\n",
    "    rtol=1e-3\n",
    ")\n",
    "\n",
    "print(f\"Epidemics: {test_loss}\")\n"
   ]
  },
  {
   "cell_type": "markdown",
   "metadata": {},
   "source": [
    "#### Neuronal"
   ]
  },
  {
   "cell_type": "code",
   "execution_count": null,
   "metadata": {},
   "outputs": [],
   "source": [
    "neur_config = load_config(\"./configs/config_ic1/config_neuronal.yml\")\n",
    "\n",
    "NEUR = get_test_set(\n",
    "    dynamics=neur_config['name'],\n",
    "    seed = 12345,\n",
    "    device=neur_config['device'],\n",
    "    input_range=neur_config['input_range'],\n",
    "    **neur_config['integration_kwargs']    \n",
    ")\n",
    "\n",
    "g_symb = lambda x: 0.3*torch.tanh(x[:, 1].unsqueeze(-1))\n",
    "h_symb = lambda x: -0.5 * x[:, 0].unsqueeze(-1) + 0.8*torch.tanh(x[:, 0].unsqueeze(-1)) + x[:, 1].unsqueeze(-1) \n",
    "\n",
    "test_loss = get_symb_test_error(\n",
    "    g_symb=g_symb,\n",
    "    h_symb=h_symb,\n",
    "    test_set=NEUR,\n",
    "    message_passing=True,\n",
    "    include_time=False,\n",
    "    atol=1e-5,\n",
    "    rtol=1e-3\n",
    ")\n",
    "\n",
    "print(f\"Neuronal: {test_loss}\")"
   ]
  },
  {
   "cell_type": "markdown",
   "metadata": {},
   "source": [
    "#### Biochemical"
   ]
  },
  {
   "cell_type": "code",
   "execution_count": 18,
   "metadata": {},
   "outputs": [
    {
     "name": "stderr",
     "output_type": "stream",
     "text": [
      "/home/ricca/miniconda3/envs/myenv/lib/python3.12/site-packages/scipy/integrate/_ivp/ivp.py:621: UserWarning: The following arguments have no effect for a chosen solver: `min_step`.\n",
      "  solver = method(fun, t0, y0, tf, vectorized=vectorized, **options)\n"
     ]
    },
    {
     "name": "stdout",
     "output_type": "stream",
     "text": [
      "Biochemical: 5.4492534218297806e-06\n"
     ]
    }
   ],
   "source": [
    "bio_config = load_config(\"./configs/config_ic1/config_biochemical.yml\")\n",
    "\n",
    "BIO = get_test_set(\n",
    "    dynamics=bio_config['name'],\n",
    "    seed = 12345,\n",
    "    device=bio_config['device'],\n",
    "    input_range=bio_config['input_range'],\n",
    "    **bio_config['integration_kwargs']    \n",
    ")\n",
    "\n",
    "g_symb = lambda x: (-0.5*x[:, 1] * x[:, 0]).unsqueeze(-1)\n",
    "h_symb = lambda x: (1.0 - 0.5 * x[:, 0]).unsqueeze(-1)  + x[:, 1].unsqueeze(-1) \n",
    "\n",
    "test_loss = get_symb_test_error(\n",
    "    g_symb=g_symb,\n",
    "    h_symb=h_symb,\n",
    "    test_set=BIO,\n",
    "    message_passing=True,\n",
    "    include_time=False,\n",
    "    atol=1e-5,\n",
    "    rtol=1e-3\n",
    ")\n",
    "\n",
    "print(f\"Biochemical: {test_loss}\")"
   ]
  },
  {
   "cell_type": "markdown",
   "metadata": {},
   "source": [
    "#### Population"
   ]
  },
  {
   "cell_type": "code",
   "execution_count": 29,
   "metadata": {},
   "outputs": [
    {
     "name": "stderr",
     "output_type": "stream",
     "text": [
      "/home/ricca/miniconda3/envs/myenv/lib/python3.12/site-packages/scipy/integrate/_ivp/ivp.py:621: UserWarning: The following arguments have no effect for a chosen solver: `min_step`.\n",
      "  solver = method(fun, t0, y0, tf, vectorized=vectorized, **options)\n"
     ]
    },
    {
     "name": "stdout",
     "output_type": "stream",
     "text": [
      "Population: 1.6145211702678353e-05\n"
     ]
    }
   ],
   "source": [
    "pop_config = load_config(\"./configs/config_ic1/config_population.yml\")\n",
    "\n",
    "POP = get_test_set(\n",
    "    dynamics=pop_config['name'],\n",
    "    seed = 12345,\n",
    "    device=pop_config['device'],\n",
    "    input_range=pop_config['input_range'],\n",
    "    **pop_config['integration_kwargs']    \n",
    ")\n",
    "\n",
    "g_symb = lambda x: 0.2*torch.square(x[:, 1].unsqueeze(-1))\n",
    "h_symb = lambda x: -0.5 * torch.square(x[:, 0].unsqueeze(-1)) + x[:, 1].unsqueeze(1) \n",
    "\n",
    "test_loss = get_symb_test_error(\n",
    "    g_symb=g_symb,\n",
    "    h_symb=h_symb,\n",
    "    test_set=POP,\n",
    "    message_passing=True,\n",
    "    include_time=False,\n",
    "    atol=1e-5,\n",
    "    rtol=1e-3\n",
    ")\n",
    "\n",
    "print(f\"Population: {test_loss}\")\n"
   ]
  },
  {
   "cell_type": "markdown",
   "metadata": {},
   "source": [
    "### Kuramoto MPNN"
   ]
  },
  {
   "cell_type": "markdown",
   "metadata": {},
   "source": [
    "#### IC=1"
   ]
  },
  {
   "cell_type": "code",
   "execution_count": 3,
   "metadata": {},
   "outputs": [
    {
     "name": "stderr",
     "output_type": "stream",
     "text": [
      "/home/ricca/miniconda3/envs/myenv/lib/python3.12/site-packages/pysr/sr.py:2776: UserWarning: Note: it looks like you are running in Jupyter. The progress bar will be turned off.\n",
      "  warnings.warn(\n",
      "/home/ricca/miniconda3/envs/myenv/lib/python3.12/site-packages/pysr/sr.py:2776: UserWarning: Note: it looks like you are running in Jupyter. The progress bar will be turned off.\n",
      "  warnings.warn(\n"
     ]
    }
   ],
   "source": [
    "model_path_mpnn = './saved_models_optuna/model-kuramoto-mpnn/kuramoto_mpnn_ic1_s5/2/mpnn'\n",
    "\n",
    "pysr_model = lambda : get_pysr_model(\n",
    "    model_selection=\"score\",\n",
    "    n_iterations=200\n",
    ")\n",
    "\n",
    "mpnn_symb = fit_mpnn(\n",
    "    model_path=model_path_mpnn,\n",
    "    pysr_model=pysr_model,\n",
    "    sample_size=9000,\n",
    "    message_passing=False\n",
    ")"
   ]
  },
  {
   "cell_type": "code",
   "execution_count": 4,
   "metadata": {},
   "outputs": [
    {
     "data": {
      "text/latex": [
       "$\\displaystyle \\sum_{j}( -0.48788536*sin(x_i - x_j)) + \\tanh{\\left(e^{x_{i}} \\right)} + 1.0103389$"
      ],
      "text/plain": [
       "\\sum_{j}( -0.48788536*sin(x_i - x_j)) + tanh(exp(x_i)) + 1.0103389"
      ]
     },
     "execution_count": 4,
     "metadata": {},
     "output_type": "execute_result"
    }
   ],
   "source": [
    "mpnn_symb"
   ]
  },
  {
   "cell_type": "markdown",
   "metadata": {},
   "source": [
    "#### IC=3"
   ]
  },
  {
   "cell_type": "code",
   "execution_count": 2,
   "metadata": {},
   "outputs": [
    {
     "name": "stderr",
     "output_type": "stream",
     "text": [
      "/home/ricca/miniconda3/envs/myenv/lib/python3.12/site-packages/pysr/sr.py:2776: UserWarning: Note: it looks like you are running in Jupyter. The progress bar will be turned off.\n",
      "  warnings.warn(\n",
      "/home/ricca/miniconda3/envs/myenv/lib/python3.12/site-packages/pysr/sr.py:2776: UserWarning: Note: it looks like you are running in Jupyter. The progress bar will be turned off.\n",
      "  warnings.warn(\n"
     ]
    }
   ],
   "source": [
    "model_path_mpnn = './saved_models_optuna/model-kuramoto-mpnn/kuramoto-mpnn_3/0/mpnn'\n",
    "\n",
    "pysr_model = lambda : get_pysr_model(\n",
    "    model_selection=\"score\",\n",
    "    n_iterations=150\n",
    ")\n",
    "\n",
    "mpnn_symb = fit_mpnn(\n",
    "    model_path=model_path_mpnn,\n",
    "    pysr_model=pysr_model,\n",
    "    sample_size=9000,\n",
    "    message_passing=False\n",
    ")"
   ]
  },
  {
   "cell_type": "code",
   "execution_count": 3,
   "metadata": {},
   "outputs": [
    {
     "data": {
      "text/latex": [
       "$\\displaystyle \\sum_{j}( -0.51732075*sin(x_i - x_j)) - 0.0023250817 x_{i} + 2.0001836$"
      ],
      "text/plain": [
       "\\sum_{j}( -0.51732075*sin(x_i - x_j)) - 0.0023250817*x_i + 2.0001836"
      ]
     },
     "execution_count": 3,
     "metadata": {},
     "output_type": "execute_result"
    }
   ],
   "source": [
    "mpnn_symb"
   ]
  },
  {
   "cell_type": "code",
   "execution_count": 11,
   "metadata": {},
   "outputs": [
    {
     "name": "stdout",
     "output_type": "stream",
     "text": [
      "0.010858498513698578\n"
     ]
    }
   ],
   "source": [
    "g_symb = lambda x: torch.sin(x[:, 0] - x[:, 1]).unsqueeze(-1)\n",
    "h_symb = lambda x: 2.0001836 - 0.51732075 * x[:, 1].unsqueeze(-1) - 0.0023250817 * x[:, 0].unsqueeze(-1)\n",
    "\n",
    "\n",
    "print(get_symb_test_error(\n",
    "    g_symb=g_symb,\n",
    "    h_symb=h_symb,\n",
    "    test_set=KUR,\n",
    "    message_passing=True,\n",
    "    include_time=False,\n",
    "    atol=1e-5,\n",
    "    rtol=1e-3,\n",
    "    method=\"scipy_solver\"\n",
    "))"
   ]
  },
  {
   "cell_type": "markdown",
   "metadata": {},
   "source": [
    "#### IC=5"
   ]
  },
  {
   "cell_type": "markdown",
   "metadata": {},
   "source": [
    "### Epidemics MPNN"
   ]
  },
  {
   "cell_type": "markdown",
   "metadata": {},
   "source": [
    "#### IC=1"
   ]
  },
  {
   "cell_type": "code",
   "execution_count": 5,
   "metadata": {},
   "outputs": [
    {
     "name": "stderr",
     "output_type": "stream",
     "text": [
      "/home/ricca/miniconda3/envs/myenv/lib/python3.12/site-packages/pysr/sr.py:2776: UserWarning: Note: it looks like you are running in Jupyter. The progress bar will be turned off.\n",
      "  warnings.warn(\n",
      "/home/ricca/miniconda3/envs/myenv/lib/python3.12/site-packages/pysr/sr.py:2776: UserWarning: Note: it looks like you are running in Jupyter. The progress bar will be turned off.\n",
      "  warnings.warn(\n"
     ]
    }
   ],
   "source": [
    "model_path_mpnn = './saved_models_optuna/model-epidemics-mpnn/epidemics_mpnn_ic1_s5/1/mpnn'\n",
    "\n",
    "pysr_model = lambda : get_pysr_model(\n",
    "    model_selection=\"score\",\n",
    "    n_iterations=200\n",
    ")\n",
    "\n",
    "mpnn_symb = fit_mpnn(\n",
    "    model_path=model_path_mpnn,\n",
    "    pysr_model=pysr_model,\n",
    "    sample_size=9000,\n",
    "    message_passing=False\n",
    ")"
   ]
  },
  {
   "cell_type": "code",
   "execution_count": 6,
   "metadata": {},
   "outputs": [
    {
     "data": {
      "text/latex": [
       "$\\displaystyle \\sum_{j}( x_j*(0.49503535 - 0.4945444*x_i)) - 0.6940843 \\tanh{\\left(x_{i} \\right)} + 0.064974605609914$"
      ],
      "text/plain": [
       "\\sum_{j}( x_j*(0.49503535 - 0.4945444*x_i)) - 0.6940843*tanh(x_i) + 0.064974605609914"
      ]
     },
     "execution_count": 6,
     "metadata": {},
     "output_type": "execute_result"
    }
   ],
   "source": [
    "mpnn_symb"
   ]
  },
  {
   "cell_type": "markdown",
   "metadata": {},
   "source": [
    "#### IC=3"
   ]
  },
  {
   "cell_type": "code",
   "execution_count": 2,
   "metadata": {},
   "outputs": [
    {
     "name": "stderr",
     "output_type": "stream",
     "text": [
      "/home/ricca/miniconda3/envs/myenv/lib/python3.12/site-packages/pysr/sr.py:2776: UserWarning: Note: it looks like you are running in Jupyter. The progress bar will be turned off.\n",
      "  warnings.warn(\n",
      "/home/ricca/miniconda3/envs/myenv/lib/python3.12/site-packages/pysr/sr.py:2776: UserWarning: Note: it looks like you are running in Jupyter. The progress bar will be turned off.\n",
      "  warnings.warn(\n"
     ]
    }
   ],
   "source": [
    "model_path_mpnn = './saved_models_optuna/model-epidemics-mpnn/epidemics-mpnn_2/2/mpnn'\n",
    "\n",
    "pysr_model = lambda : get_pysr_model(\n",
    "    model_selection=\"score\",\n",
    "    n_iterations=150\n",
    ")\n",
    "\n",
    "mpnn_symb = fit_mpnn(\n",
    "    model_path=model_path_mpnn,\n",
    "    pysr_model=pysr_model,\n",
    "    sample_size=9000,\n",
    "    message_passing=False\n",
    ")"
   ]
  },
  {
   "cell_type": "code",
   "execution_count": 3,
   "metadata": {},
   "outputs": [
    {
     "data": {
      "text/latex": [
       "$\\displaystyle \\sum_{j}( x_j*(0.50071 - 0.5002975*x_i)) - 0.500388952332648 x_{i}$"
      ],
      "text/plain": [
       "\\sum_{j}( x_j*(0.50071 - 0.5002975*x_i)) - 0.500388952332648*x_i"
      ]
     },
     "execution_count": 3,
     "metadata": {},
     "output_type": "execute_result"
    }
   ],
   "source": [
    "mpnn_symb"
   ]
  },
  {
   "cell_type": "code",
   "execution_count": 13,
   "metadata": {},
   "outputs": [
    {
     "name": "stdout",
     "output_type": "stream",
     "text": [
      "0.0005119662382639945\n"
     ]
    }
   ],
   "source": [
    "g_symb = lambda x: x[:, 1].unsqueeze(-1) * (0.50071 - 0.5002975 * x[:, 0]).unsqueeze(-1)\n",
    "h_symb = lambda x: x[:, 1].unsqueeze(-1) - 0.500388952332648 * x[:, 0].unsqueeze(-1)\n",
    "\n",
    "print(get_symb_test_error(\n",
    "    g_symb=g_symb,\n",
    "    h_symb=h_symb,\n",
    "    test_set=EPID,\n",
    "    message_passing=True,\n",
    "    include_time=False,\n",
    "    atol=1e-5,\n",
    "    rtol=1e-3\n",
    "))"
   ]
  },
  {
   "cell_type": "markdown",
   "metadata": {},
   "source": [
    "#### IC=5"
   ]
  },
  {
   "cell_type": "markdown",
   "metadata": {},
   "source": [
    "### Neuronal MPNN"
   ]
  },
  {
   "cell_type": "markdown",
   "metadata": {},
   "source": [
    "#### IC=1"
   ]
  },
  {
   "cell_type": "code",
   "execution_count": 14,
   "metadata": {},
   "outputs": [
    {
     "name": "stderr",
     "output_type": "stream",
     "text": [
      "/home/ricca/miniconda3/envs/myenv/lib/python3.12/site-packages/pysr/sr.py:2776: UserWarning: Note: it looks like you are running in Jupyter. The progress bar will be turned off.\n",
      "  warnings.warn(\n",
      "/home/ricca/miniconda3/envs/myenv/lib/python3.12/site-packages/pysr/sr.py:2776: UserWarning: Note: it looks like you are running in Jupyter. The progress bar will be turned off.\n",
      "  warnings.warn(\n"
     ]
    }
   ],
   "source": [
    "model_path_mpnn = './saved_models_optuna/model-neuronal-mpnn/neuronal_mpnn_ic1_s5/0/mpnn'\n",
    "\n",
    "pysr_model = lambda : get_pysr_model(\n",
    "    model_selection=\"score\",\n",
    "    n_iterations=200\n",
    ")\n",
    "\n",
    "mpnn_symb = fit_mpnn(\n",
    "    model_path=model_path_mpnn,\n",
    "    pysr_model=pysr_model,\n",
    "    sample_size=9000,\n",
    "    message_passing=False\n",
    ")"
   ]
  },
  {
   "cell_type": "code",
   "execution_count": 15,
   "metadata": {},
   "outputs": [
    {
     "data": {
      "text/latex": [
       "$\\displaystyle \\sum_{j}( 0.29048842*tanh(x_j)) - \\log{\\left(x_{i} + 1 \\right)} + \\tanh{\\left(x_{i} \\right)}$"
      ],
      "text/plain": [
       "\\sum_{j}( 0.29048842*tanh(x_j)) - log(x_i + 1) + tanh(x_i)"
      ]
     },
     "execution_count": 15,
     "metadata": {},
     "output_type": "execute_result"
    }
   ],
   "source": [
    "mpnn_symb"
   ]
  },
  {
   "cell_type": "markdown",
   "metadata": {},
   "source": [
    "#### IC=3"
   ]
  },
  {
   "cell_type": "markdown",
   "metadata": {},
   "source": [
    "#### IC=5"
   ]
  },
  {
   "cell_type": "markdown",
   "metadata": {},
   "source": [
    "### Biochemical MPNN"
   ]
  },
  {
   "cell_type": "markdown",
   "metadata": {},
   "source": [
    "#### IC=3"
   ]
  },
  {
   "cell_type": "code",
   "execution_count": 16,
   "metadata": {},
   "outputs": [
    {
     "name": "stderr",
     "output_type": "stream",
     "text": [
      "/home/ricca/miniconda3/envs/myenv/lib/python3.12/site-packages/pysr/sr.py:2776: UserWarning: Note: it looks like you are running in Jupyter. The progress bar will be turned off.\n",
      "  warnings.warn(\n",
      "/home/ricca/miniconda3/envs/myenv/lib/python3.12/site-packages/pysr/sr.py:2776: UserWarning: Note: it looks like you are running in Jupyter. The progress bar will be turned off.\n",
      "  warnings.warn(\n"
     ]
    }
   ],
   "source": [
    "model_path_mpnn = './saved_models_optuna/model-biochemical-mpnn/biochemical_mpnn_ic3_s5/0/mpnn'\n",
    "\n",
    "pysr_model = lambda : get_pysr_model(\n",
    "    model_selection=\"score\",\n",
    "    n_iterations=200\n",
    ")\n",
    "\n",
    "mpnn_symb = fit_mpnn(\n",
    "    model_path=model_path_mpnn,\n",
    "    pysr_model=pysr_model,\n",
    "    sample_size=9000,\n",
    "    message_passing=False\n",
    ")"
   ]
  },
  {
   "cell_type": "code",
   "execution_count": 17,
   "metadata": {},
   "outputs": [
    {
     "data": {
      "text/latex": [
       "$\\displaystyle \\sum_{j}( -0.49841055*x_i*x_j) + \\log{\\left(2.6208985 - x_{i} \\right)}$"
      ],
      "text/plain": [
       "\\sum_{j}( -0.49841055*x_i*x_j) + log(2.6208985 - x_i)"
      ]
     },
     "execution_count": 17,
     "metadata": {},
     "output_type": "execute_result"
    }
   ],
   "source": [
    "mpnn_symb"
   ]
  },
  {
   "cell_type": "code",
   "execution_count": 19,
   "metadata": {},
   "outputs": [
    {
     "name": "stderr",
     "output_type": "stream",
     "text": [
      "/home/ricca/miniconda3/envs/myenv/lib/python3.12/site-packages/scipy/integrate/_ivp/ivp.py:621: UserWarning: The following arguments have no effect for a chosen solver: `min_step`.\n",
      "  solver = method(fun, t0, y0, tf, vectorized=vectorized, **options)\n"
     ]
    },
    {
     "name": "stdout",
     "output_type": "stream",
     "text": [
      "0.0013899521436542273\n"
     ]
    }
   ],
   "source": [
    "g_symb = lambda x: - 0.49841055 * x[:, 0].unsqueeze(-1) * x[:,1].unsqueeze(-1)\n",
    "h_symb = lambda x: x[:, 1].unsqueeze(-1) + torch.log(2.6208985 - x[:, 0].unsqueeze(-1))\n",
    "\n",
    "print(\n",
    "    get_symb_test_error(\n",
    "    g_symb=g_symb,\n",
    "    h_symb=h_symb,\n",
    "    test_set=BIO,\n",
    "    message_passing=True,\n",
    "    include_time=False,\n",
    "    atol=1e-5,\n",
    "    rtol=1e-3\n",
    ")\n",
    ")"
   ]
  },
  {
   "cell_type": "markdown",
   "metadata": {},
   "source": [
    "#### IC=1"
   ]
  },
  {
   "cell_type": "code",
   "execution_count": 20,
   "metadata": {},
   "outputs": [
    {
     "name": "stderr",
     "output_type": "stream",
     "text": [
      "/home/ricca/miniconda3/envs/myenv/lib/python3.12/site-packages/pysr/sr.py:2776: UserWarning: Note: it looks like you are running in Jupyter. The progress bar will be turned off.\n",
      "  warnings.warn(\n",
      "/home/ricca/miniconda3/envs/myenv/lib/python3.12/site-packages/pysr/sr.py:2776: UserWarning: Note: it looks like you are running in Jupyter. The progress bar will be turned off.\n",
      "  warnings.warn(\n"
     ]
    }
   ],
   "source": [
    "model_path_mpnn = './saved_models_optuna/model-biochemical-mpnn/biochemical_mpnn_ic1_s5/1/mpnn'\n",
    "\n",
    "pysr_model = lambda : get_pysr_model(\n",
    "    model_selection=\"score\",\n",
    "    n_iterations=200\n",
    ")\n",
    "\n",
    "mpnn_symb = fit_mpnn(\n",
    "    model_path=model_path_mpnn,\n",
    "    pysr_model=pysr_model,\n",
    "    sample_size=9000,\n",
    "    message_passing=False\n",
    ")"
   ]
  },
  {
   "cell_type": "code",
   "execution_count": 21,
   "metadata": {},
   "outputs": [
    {
     "data": {
      "text/latex": [
       "$\\displaystyle \\sum_{j}( -0.50093955*x_i*x_j) + \\log{\\left(2.6312691 - x_{i} \\right)}$"
      ],
      "text/plain": [
       "\\sum_{j}( -0.50093955*x_i*x_j) + log(2.6312691 - x_i)"
      ]
     },
     "execution_count": 21,
     "metadata": {},
     "output_type": "execute_result"
    }
   ],
   "source": [
    "mpnn_symb"
   ]
  },
  {
   "cell_type": "code",
   "execution_count": 22,
   "metadata": {},
   "outputs": [
    {
     "name": "stderr",
     "output_type": "stream",
     "text": [
      "/home/ricca/miniconda3/envs/myenv/lib/python3.12/site-packages/scipy/integrate/_ivp/ivp.py:621: UserWarning: The following arguments have no effect for a chosen solver: `min_step`.\n",
      "  solver = method(fun, t0, y0, tf, vectorized=vectorized, **options)\n"
     ]
    },
    {
     "name": "stdout",
     "output_type": "stream",
     "text": [
      "0.0016501377103850245\n"
     ]
    }
   ],
   "source": [
    "g_symb = lambda x: - 0.50093955 * x[:, 0].unsqueeze(-1) * x[:,1].unsqueeze(-1)\n",
    "h_symb = lambda x: x[:, 1].unsqueeze(-1) + torch.log(2.6312691 - x[:, 0].unsqueeze(-1))\n",
    "\n",
    "print(\n",
    "    get_symb_test_error(\n",
    "    g_symb=g_symb,\n",
    "    h_symb=h_symb,\n",
    "    test_set=BIO,\n",
    "    message_passing=True,\n",
    "    include_time=False,\n",
    "    atol=1e-5,\n",
    "    rtol=1e-3\n",
    ")\n",
    ")"
   ]
  },
  {
   "cell_type": "markdown",
   "metadata": {},
   "source": [
    "#### IC=5"
   ]
  },
  {
   "cell_type": "code",
   "execution_count": 23,
   "metadata": {},
   "outputs": [
    {
     "name": "stderr",
     "output_type": "stream",
     "text": [
      "/home/ricca/miniconda3/envs/myenv/lib/python3.12/site-packages/pysr/sr.py:2776: UserWarning: Note: it looks like you are running in Jupyter. The progress bar will be turned off.\n",
      "  warnings.warn(\n",
      "/home/ricca/miniconda3/envs/myenv/lib/python3.12/site-packages/pysr/sr.py:2776: UserWarning: Note: it looks like you are running in Jupyter. The progress bar will be turned off.\n",
      "  warnings.warn(\n"
     ]
    }
   ],
   "source": [
    "model_path_mpnn = './saved_models_optuna/model-biochemical-mpnn/biochemical_mpnn_ic5_s5/2/mpnn'\n",
    "\n",
    "pysr_model = lambda : get_pysr_model(\n",
    "    model_selection=\"score\",\n",
    "    n_iterations=200\n",
    ")\n",
    "\n",
    "mpnn_symb = fit_mpnn(\n",
    "    model_path=model_path_mpnn,\n",
    "    pysr_model=pysr_model,\n",
    "    sample_size=9000,\n",
    "    message_passing=False\n",
    ")"
   ]
  },
  {
   "cell_type": "code",
   "execution_count": 24,
   "metadata": {},
   "outputs": [
    {
     "data": {
      "text/latex": [
       "$\\displaystyle \\sum_{j}( -0.5005229*x_i*x_j) - \\sin{\\left(\\tanh{\\left(x_{i} \\right)} - 1.3103138 \\right)}$"
      ],
      "text/plain": [
       "\\sum_{j}( -0.5005229*x_i*x_j) - sin(tanh(x_i) - 1.3103138)"
      ]
     },
     "execution_count": 24,
     "metadata": {},
     "output_type": "execute_result"
    }
   ],
   "source": [
    "mpnn_symb"
   ]
  },
  {
   "cell_type": "code",
   "execution_count": 26,
   "metadata": {},
   "outputs": [
    {
     "name": "stdout",
     "output_type": "stream",
     "text": [
      "0.0005943095311522484\n"
     ]
    }
   ],
   "source": [
    "g_symb = lambda x: - 0.5005229 * x[:, 0].unsqueeze(-1) * x[:,1].unsqueeze(-1)\n",
    "h_symb = lambda x: x[:, 1].unsqueeze(-1) - torch.sin(torch.tanh(x[:, 0].unsqueeze(-1)) - 1.3103138)\n",
    "\n",
    "print(\n",
    "    get_symb_test_error(\n",
    "    g_symb=g_symb,\n",
    "    h_symb=h_symb,\n",
    "    test_set=BIO,\n",
    "    message_passing=True,\n",
    "    include_time=False,\n",
    "    atol=1e-5,\n",
    "    rtol=1e-3\n",
    ")\n",
    ")"
   ]
  },
  {
   "cell_type": "markdown",
   "metadata": {},
   "source": [
    "### Population MPNN"
   ]
  },
  {
   "cell_type": "markdown",
   "metadata": {},
   "source": [
    "#### IC=1"
   ]
  },
  {
   "cell_type": "code",
   "execution_count": 27,
   "metadata": {},
   "outputs": [
    {
     "name": "stderr",
     "output_type": "stream",
     "text": [
      "/home/ricca/miniconda3/envs/myenv/lib/python3.12/site-packages/pysr/sr.py:2776: UserWarning: Note: it looks like you are running in Jupyter. The progress bar will be turned off.\n",
      "  warnings.warn(\n",
      "/home/ricca/miniconda3/envs/myenv/lib/python3.12/site-packages/pysr/sr.py:2776: UserWarning: Note: it looks like you are running in Jupyter. The progress bar will be turned off.\n",
      "  warnings.warn(\n"
     ]
    }
   ],
   "source": [
    "model_path_mpnn = \"./saved_models_optuna/model-population-mpnn/population_mpnn_ic1_s5/0/mpnn\"\n",
    "\n",
    "pysr_model = lambda : get_pysr_model(\n",
    "    model_selection=\"score\",\n",
    "    n_iterations=200\n",
    ")\n",
    "\n",
    "mpnn_symb = fit_mpnn(\n",
    "    model_path=model_path_mpnn,\n",
    "    pysr_model=pysr_model,\n",
    "    sample_size=9000,\n",
    "    message_passing=False\n",
    ")"
   ]
  },
  {
   "cell_type": "code",
   "execution_count": 28,
   "metadata": {},
   "outputs": [
    {
     "data": {
      "text/latex": [
       "$\\displaystyle \\sum_{j}( 0.147783*x_j**2) - 0.4844213 x_{i}$"
      ],
      "text/plain": [
       "\\sum_{j}( 0.147783*x_j**2) - 0.4844213*x_i"
      ]
     },
     "execution_count": 28,
     "metadata": {},
     "output_type": "execute_result"
    }
   ],
   "source": [
    "mpnn_symb"
   ]
  },
  {
   "cell_type": "code",
   "execution_count": 33,
   "metadata": {},
   "outputs": [
    {
     "name": "stderr",
     "output_type": "stream",
     "text": [
      "/home/ricca/miniconda3/envs/myenv/lib/python3.12/site-packages/scipy/integrate/_ivp/ivp.py:621: UserWarning: The following arguments have no effect for a chosen solver: `min_step`.\n",
      "  solver = method(fun, t0, y0, tf, vectorized=vectorized, **options)\n"
     ]
    },
    {
     "name": "stdout",
     "output_type": "stream",
     "text": [
      "0.1846676766872406\n"
     ]
    }
   ],
   "source": [
    "g_symb = lambda x: 0.147783 * torch.square(x[:, 1].unsqueeze(-1))\n",
    "h_symb = lambda x: x[:, 1].unsqueeze(-1) - 0.4844213 * x[:, 0].unsqueeze(-1)\n",
    "\n",
    "print(\n",
    "    get_symb_test_error(\n",
    "    g_symb=g_symb,\n",
    "    h_symb=h_symb,\n",
    "    test_set=POP,\n",
    "    message_passing=True,\n",
    "    include_time=False,\n",
    "    atol=1e-5,\n",
    "    rtol=1e-3\n",
    ")\n",
    ")"
   ]
  },
  {
   "cell_type": "markdown",
   "metadata": {},
   "source": [
    "#### IC=3"
   ]
  },
  {
   "cell_type": "code",
   "execution_count": 34,
   "metadata": {},
   "outputs": [
    {
     "name": "stderr",
     "output_type": "stream",
     "text": [
      "/home/ricca/miniconda3/envs/myenv/lib/python3.12/site-packages/pysr/sr.py:2776: UserWarning: Note: it looks like you are running in Jupyter. The progress bar will be turned off.\n",
      "  warnings.warn(\n",
      "/home/ricca/miniconda3/envs/myenv/lib/python3.12/site-packages/pysr/sr.py:2776: UserWarning: Note: it looks like you are running in Jupyter. The progress bar will be turned off.\n",
      "  warnings.warn(\n"
     ]
    }
   ],
   "source": [
    "model_path_mpnn = \"./saved_models_optuna/model-population-mpnn/population_mpnn_ic3_s5/0/mpnn\"\n",
    "\n",
    "pysr_model = lambda : get_pysr_model(\n",
    "    model_selection=\"score\",\n",
    "    n_iterations=200\n",
    ")\n",
    "\n",
    "mpnn_symb = fit_mpnn(\n",
    "    model_path=model_path_mpnn,\n",
    "    pysr_model=pysr_model,\n",
    "    sample_size=9000,\n",
    "    message_passing=False\n",
    ")"
   ]
  },
  {
   "cell_type": "code",
   "execution_count": 35,
   "metadata": {},
   "outputs": [
    {
     "data": {
      "text/latex": [
       "$\\displaystyle \\sum_{j}( 0.172337832074246*x_j**2) - \\log{\\left(\\log{\\left(x_{i}^{3} + 1 \\right)} + 1 \\right)}$"
      ],
      "text/plain": [
       "\\sum_{j}( 0.172337832074246*x_j**2) - log(log(x_i**3 + 1) + 1)"
      ]
     },
     "execution_count": 35,
     "metadata": {},
     "output_type": "execute_result"
    }
   ],
   "source": [
    "mpnn_symb"
   ]
  },
  {
   "cell_type": "markdown",
   "metadata": {},
   "source": [
    "#### IC=5"
   ]
  },
  {
   "cell_type": "markdown",
   "metadata": {},
   "source": [
    "## Real Epid data"
   ]
  },
  {
   "cell_type": "code",
   "execution_count": 2,
   "metadata": {},
   "outputs": [],
   "source": [
    "from models.utils.MPNN import MPNN\n",
    "from models.kan.KAN import KAN\n",
    "from models.GKAN_ODE import GKAN_ODE\n",
    "from experiments.experiments_mpnn import activations\n",
    "from models.utils.MLP import MLP\n",
    "\n",
    "\n",
    "def build_model_from_file(best_params_file, best_state_path, message_passing, include_time, method='midpoint', adjoint=False):\n",
    "    with open(best_params_file, 'r') as f:\n",
    "        best_hyperparams = json.load(f)\n",
    "    \n",
    "    in_dim = 1\n",
    "    \n",
    "    hidden_layers = [best_hyperparams[\"hidden_dims_g_net\"] for _ in range(best_hyperparams[\"n_hidden_layers_g_net\"])]\n",
    "    hidden_layers = [2*in_dim] + hidden_layers + [in_dim]    \n",
    "    # g_net\n",
    "    g_net = MLP(\n",
    "        hidden_layers=hidden_layers,\n",
    "        af = activations[best_hyperparams['af_g_net']],\n",
    "        dropout_rate=best_hyperparams['drop_p_g_net'],\n",
    "    )\n",
    "    \n",
    "    time_dim = 1 if include_time else 0\n",
    "    in_dim_h = 2 if message_passing else 1\n",
    "    in_dim_h += time_dim\n",
    "    hidden_layers = [best_hyperparams[\"hidden_dims_h_net\"] for _ in range(best_hyperparams[\"n_hidden_layers_h_net\"])]\n",
    "    hidden_layers = [in_dim_h] + hidden_layers + [in_dim] \n",
    "    \n",
    "    \n",
    "    # h_net\n",
    "    h_net = MLP(\n",
    "        hidden_layers=hidden_layers,\n",
    "        af = activations[best_hyperparams['af_h_net']],\n",
    "        dropout_rate=best_hyperparams['drop_p_h_net'],\n",
    "    )\n",
    "    \n",
    "    mpnn = MPNN(\n",
    "        h_net=h_net,\n",
    "        g_net=g_net,\n",
    "        message_passing=message_passing,\n",
    "        include_time=include_time\n",
    "    )\n",
    "    \n",
    "    model = MPNN_ODE(\n",
    "        conv=mpnn,\n",
    "        model_path='./saved_models_optuna/tmp',\n",
    "        integration_method=method,\n",
    "        adjoint=adjoint\n",
    "    )\n",
    "    \n",
    "    model = model.to(torch.device('cuda'))\n",
    "    model.load_state_dict(torch.load(best_state_path, weights_only=False))\n",
    "    \n",
    "    return model"
   ]
  },
  {
   "cell_type": "code",
   "execution_count": 49,
   "metadata": {},
   "outputs": [],
   "source": [
    "best_model = build_model_from_file(\n",
    "    best_params_file=\"./saved_models_optuna/model-real-epidemics-mpnn/real_epid_mpnn/0/best_params.json\",\n",
    "    best_state_path = \"./saved_models_optuna/model-real-epidemics-mpnn/real_epid_mpnn/0/mpnn/state_dict.pth\",\n",
    "    message_passing=False,\n",
    "    include_time=False,\n",
    "    method=\"dopri5\",\n",
    "    adjoint=True\n",
    ")"
   ]
  },
  {
   "cell_type": "code",
   "execution_count": 14,
   "metadata": {},
   "outputs": [],
   "source": [
    "config = load_config(\"./configs/config_real_epidemics_mpnn.yml\")\n",
    "\n",
    "exp = ExperimentsMPNN(\n",
    "    config=config,\n",
    "    n_trials=1,\n",
    "    study_name='test-baseline',\n",
    "    process_id=0,\n",
    ")\n",
    "\n",
    "scaler = exp.pre_processing(exp.training_set)\n",
    "exp.scaler = scaler\n",
    "\n",
    "exp.post_processing(best_model=best_model)"
   ]
  },
  {
   "cell_type": "code",
   "execution_count": 4,
   "metadata": {},
   "outputs": [
    {
     "name": "stderr",
     "output_type": "stream",
     "text": [
      "/home/ricca/miniconda3/envs/myenv/lib/python3.12/site-packages/pysr/sr.py:2776: UserWarning: Note: it looks like you are running in Jupyter. The progress bar will be turned off.\n",
      "  warnings.warn(\n",
      "/home/ricca/miniconda3/envs/myenv/lib/python3.12/site-packages/pysr/sr.py:2776: UserWarning: Note: it looks like you are running in Jupyter. The progress bar will be turned off.\n",
      "  warnings.warn(\n"
     ]
    }
   ],
   "source": [
    "model_path_mpnn = './saved_models_optuna/model-real-epidemics-mpnn/real_epid_mpnn/5/mpnn'\n",
    "\n",
    "pysr_model = lambda : get_pysr_model(\n",
    "    model_selection=\"score\",\n",
    "    n_iterations=200\n",
    ")\n",
    "\n",
    "mpnn_symb = fit_mpnn(\n",
    "    model_path=model_path_mpnn,\n",
    "    pysr_model=pysr_model,\n",
    "    sample_size=9000,\n",
    "    message_passing=False\n",
    ")"
   ]
  },
  {
   "cell_type": "code",
   "execution_count": 5,
   "metadata": {},
   "outputs": [
    {
     "data": {
      "text/latex": [
       "$\\displaystyle \\sum_{j}( x_i + 1.087914) - 3.57816536226437 \\tanh{\\left(\\log{\\left(\\left|{x_{i}}\\right| \\right)} \\right)}$"
      ],
      "text/plain": [
       "\\sum_{j}( x_i + 1.087914) - 3.57816536226437*tanh(log(Abs(x_i)))"
      ]
     },
     "execution_count": 5,
     "metadata": {},
     "output_type": "execute_result"
    }
   ],
   "source": [
    "mpnn_symb"
   ]
  },
  {
   "cell_type": "code",
   "execution_count": 50,
   "metadata": {},
   "outputs": [],
   "source": [
    "from tsl.data.preprocessing.scalers import MinMaxScaler, StandardScaler\n",
    "\n",
    "def pre_processing(training_set, out_range = (-1, 1), device='cuda', min_max = True):\n",
    "    all_train_x = torch.cat([data.x.view(-1) for data in training_set], dim=0)  \n",
    "    if min_max:\n",
    "        scaler = MinMaxScaler(out_range=out_range)\n",
    "    else:\n",
    "        scaler = StandardScaler()\n",
    "    scaler.fit(all_train_x.detach().cpu())\n",
    "\n",
    "    scaler.scale = scaler.scale.to(torch.device(device))\n",
    "    scaler.bias = scaler.bias.to(torch.device(device))\n",
    "\n",
    "    return scaler"
   ]
  },
  {
   "cell_type": "code",
   "execution_count": 52,
   "metadata": {},
   "outputs": [
    {
     "name": "stdout",
     "output_type": "stream",
     "text": [
      "285.5475158691406\n"
     ]
    }
   ],
   "source": [
    "from datasets.RealEpidemics import RealEpidemics\n",
    "\n",
    "g_symb = lambda x: x[:, 0].unsqueeze(-1) + 1.2868367\n",
    "h_symb = lambda x: x[:, 1].unsqueeze(-1) -torch.square(x[:, 0]).unsqueeze(-1) + 1.2340752\n",
    "\n",
    "config = load_config(\"./configs/config_real_epidemics_mpnn.yml\")\n",
    "\n",
    "exp = ExperimentsMPNN(\n",
    "    config=config,\n",
    "    n_trials=1,\n",
    "    study_name='test-baseline',\n",
    "    process_id=0,\n",
    ")\n",
    "\n",
    "scaler = pre_processing(exp.training_set, min_max=True, out_range=(-1, 1))\n",
    "\n",
    "print(get_symb_test_error(\n",
    "    g_symb=g_symb,\n",
    "    h_symb=h_symb,\n",
    "    test_set=exp.test_set,\n",
    "    message_passing=True,\n",
    "    include_time=False,\n",
    "    scaler=scaler,\n",
    "    inverse_scale=True\n",
    "))"
   ]
  },
  {
   "cell_type": "markdown",
   "metadata": {},
   "source": [
    "### Plots"
   ]
  },
  {
   "cell_type": "code",
   "execution_count": 35,
   "metadata": {},
   "outputs": [],
   "source": [
    "import matplotlib.pyplot as plt\n",
    "import json"
   ]
  },
  {
   "cell_type": "code",
   "execution_count": 36,
   "metadata": {},
   "outputs": [],
   "source": [
    "def plot_predictions(snapshot, t_end, ode_model, y_true, node_idx = 0, scaler=None):\n",
    "    ode_model.eval()\n",
    "    T = y_true.shape[0] + 1\n",
    "    t_start = snapshot.t_span[0]\n",
    "    eval_time = torch.linspace(t_start.item(), t_end.item(), T, device=t_start.device)\n",
    "    snapshot.t_span = eval_time\n",
    "    \n",
    "    if scaler is not None:\n",
    "        snapshot.x = scaler.transform(snapshot.x)\n",
    "    \n",
    "    y_pred = ode_model(snapshot) # (eval_time-1, N, 1)\n",
    "    \n",
    "    if scaler is not None:\n",
    "        y_pred = scaler.inverse_transform(y_pred)  \n",
    "    \n",
    "    y_true = y_true.detach().cpu().numpy()\n",
    "    y_pred = y_pred.detach().cpu().numpy()\n",
    "    \n",
    "    T = y_true.shape[0]\n",
    "    time = time = np.arange(T)\n",
    "    \n",
    "    plt.figure(figsize=(10, 5))\n",
    "    plt.plot(time, y_true[:, node_idx, :], label='y_true', linestyle='-', marker='o')\n",
    "    plt.plot(time, y_pred[:, node_idx, :], label='y_pred', linestyle='--', marker='x')\n",
    "    plt.title(f\"Comparison for N_idx = {node_idx}\")\n",
    "    plt.xlabel(\"Time Step (T)\")\n",
    "    plt.ylabel(\"Value\")\n",
    "    plt.legend()\n",
    "    plt.grid(True)\n",
    "    plt.tight_layout()\n",
    "    plt.show()\n",
    "    "
   ]
  },
  {
   "cell_type": "code",
   "execution_count": 37,
   "metadata": {},
   "outputs": [],
   "source": [
    "start_x = exp.training_set[0]\n",
    "t_end = exp.test_set[-1].t_span[-1]\n",
    "y_true = exp.training_set.raw_data_sampled\n",
    "with open(\"./data/Real-Epidemics/countries_dict.json\", 'r') as f:\n",
    "    countries_df = json.load(f)"
   ]
  },
  {
   "cell_type": "code",
   "execution_count": 40,
   "metadata": {},
   "outputs": [
    {
     "data": {
      "image/png": "[encoded data removed]",
      "text/plain": [
       "<Figure size 1000x500 with 1 Axes>"
      ]
     },
     "metadata": {},
     "output_type": "display_data"
    }
   ],
   "source": [
    "# base_expr = get_model(\n",
    "#     g=g_symb,\n",
    "#     h=h_symb,\n",
    "# )\n",
    "\n",
    "\n",
    "plot_predictions(\n",
    "    snapshot=start_x,\n",
    "    t_end = t_end,\n",
    "    ode_model=best_model,\n",
    "    y_true=y_true[0, 1:, :, :],\n",
    "    node_idx=countries_df[\"Brazil\"],\n",
    "    scaler=scaler\n",
    ")"
   ]
  }
 ],
 "metadata": {
  "kernelspec": {
   "display_name": "myenv",
   "language": "python",
   "name": "python3"
  },
  "language_info": {
   "codemirror_mode": {
    "name": "ipython",
    "version": 3
   },
   "file_extension": ".py",
   "mimetype": "text/x-python",
   "name": "python",
   "nbconvert_exporter": "python",
   "pygments_lexer": "ipython3",
   "version": "3.12.0"
  }
 },
 "nbformat": 4,
 "nbformat_minor": 2
}
