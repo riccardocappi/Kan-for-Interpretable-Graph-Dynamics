{
 "cells": [
  {
   "cell_type": "code",
   "execution_count": 2,
   "id": "b00a2ebb",
   "metadata": {},
   "outputs": [],
   "source": [
    "from utils.utils import load_config\n",
    "from datasets.SyntheticData import SyntheticData\n",
    "import torch"
   ]
  },
  {
   "cell_type": "markdown",
   "id": "3d4398ae",
   "metadata": {},
   "source": [
    "## two-step-SINDy"
   ]
  },
  {
   "cell_type": "code",
   "execution_count": 3,
   "id": "7551adc4",
   "metadata": {},
   "outputs": [],
   "source": [
    "import pandas as pd\n",
    "import numpy as np \n",
    "\n",
    "def NumericalDeriv(TimeSeries,dim,Nnodes,deltT):\n",
    "    x_center = TimeSeries[2:-2,:]\n",
    "    x_PlusTwo = TimeSeries[4:,:]\n",
    "    x_PlusOne = TimeSeries[3:-1,:]\n",
    "    x_MinusTwo = TimeSeries[:-4,:]\n",
    "    x_MinusOne = TimeSeries[1:-3,:]\n",
    "    dxdt = (x_MinusTwo - 8 * x_MinusOne + 8 * x_PlusOne - x_PlusTwo) / (12 * deltT)\n",
    "    T_len = len(dxdt[:,0])\n",
    "    NumDiv = np.zeros(shape=(T_len*Nnodes,dim))\n",
    "    for j in range(0,dim):\n",
    "        for i in range(0,Nnodes):\n",
    "            NumDiv[i*T_len:(i+1)*T_len,j]  = dxdt[:,dim*i+j]\n",
    "    if dim == 1:\n",
    "        column_values = ['dx1']\n",
    "    if dim == 2:\n",
    "        column_values = ['dx1','dx2']\n",
    "    if dim == 3:\n",
    "        column_values = ['dx1','dx2','dx3']\n",
    "    if dim == 4:\n",
    "        column_values = ['dx1','dx2','dx3','dx4']\n",
    "    NumDiv= pd.DataFrame(data = NumDiv, columns = column_values)\n",
    "    return NumDiv\n",
    "\n",
    "def preprocess(FuncMatrix,NumDiv,dim):\n",
    "    preprocess = pd.concat([FuncMatrix,NumDiv],axis = 1)\n",
    "    preprocess = preprocess.replace([np.inf, -np.inf], np.nan).dropna(axis=0)\n",
    "    FuncMatrix = preprocess.iloc[:,0:FuncMatrix.shape[1]]\n",
    "    NumDiv = preprocess.iloc[:,-dim:]\n",
    "    return FuncMatrix,NumDiv"
   ]
  },
  {
   "cell_type": "code",
   "execution_count": null,
   "id": "1775f6cc",
   "metadata": {},
   "outputs": [],
   "source": [
    "# import pandas as pd\n",
    "# import numpy as np\n",
    "# import sys\n",
    "\n",
    "# def ElementaryFunctions_Matrix(TimeSeries, dim, Nnodes, A, selfPolyOrder, coupledPolyOrder = 1, PolynomialIndex = True, TrigonometricIndex = True, \\\n",
    "#     ExponentialIndex = True, FractionalIndex = True, ActivationIndex = True, RescalingIndex = True, CoupledPolynomialIndex = True, \\\n",
    "#         CoupledTrigonometricIndex = True, CoupledExponentialIndex = True, CoupledFractionalIndex = True, \\\n",
    "#             CoupledActivationIndex = True, CoupledRescalingIndex = True):\n",
    "    \n",
    "#     ElementaryMatrix = pd.DataFrame()\n",
    "#     if PolynomialIndex == True:\n",
    "#         ElementaryMatrix = pd.concat([ElementaryMatrix,Polynomial_functions(TimeSeries, dim, Nnodes, selfPolyOrder)],axis=1)\n",
    "#     if TrigonometricIndex == True:\n",
    "#         ElementaryMatrix = pd.concat([ElementaryMatrix, Trigonometric(TimeSeries, dim, Nnodes, Sin = True, Cos = True, Tan = True)],axis=1)\n",
    "#     if ExponentialIndex == True:\n",
    "#         ElementaryMatrix = pd.concat([ElementaryMatrix, Exponential(TimeSeries, dim, Nnodes, expomential = True)],axis=1)\n",
    "#     if FractionalIndex == True:\n",
    "#         ElementaryMatrix = pd.concat([ElementaryMatrix, Fractional(TimeSeries, dim, Nnodes, fractional = True)],axis=1)\n",
    "#     if ActivationIndex == True:\n",
    "#         ElementaryMatrix = pd.concat([ElementaryMatrix, Activation(TimeSeries, dim, Nnodes, Sigmoid = True, Tanh = True, Regulation = True)],axis=1)\n",
    "#     if RescalingIndex == True:\n",
    "#         ElementaryMatrix = pd.concat([ElementaryMatrix, rescaling(TimeSeries, dim, Nnodes, A, Rescal = True)],axis=1)\n",
    "#     if CoupledPolynomialIndex == True:\n",
    "#         ElementaryMatrix = pd.concat([ElementaryMatrix, coupled_Polynomial_functions(TimeSeries, dim, Nnodes, A, coupledPolyOrder)],axis=1)\n",
    "#     if CoupledTrigonometricIndex == True:\n",
    "#         ElementaryMatrix = pd.concat([ElementaryMatrix, Coupled_Trigonometric_functions(TimeSeries, dim, Nnodes, A, Sine = True, Cos = False, Tan = False)],axis=1)\n",
    "#     if CoupledExponentialIndex == True:\n",
    "#         ElementaryMatrix = pd.concat([ElementaryMatrix, Coupled_Exponential_functions(TimeSeries, dim, Nnodes, A, Exponential = True)],axis=1)\n",
    "#     if CoupledFractionalIndex == True:\n",
    "#         ElementaryMatrix = pd.concat([ElementaryMatrix, Coupled_Fractional_functions(TimeSeries, dim, Nnodes, A, Fractional = True)],axis=1)\n",
    "#     if CoupledActivationIndex == True:\n",
    "#         ElementaryMatrix = pd.concat([ElementaryMatrix, Coupled_Activation_functions(TimeSeries, dim, Nnodes, A, Sigmoid = True, Tanh = True, Regulation = True)],axis=1)\n",
    "#     if CoupledRescalingIndex == True:\n",
    "#         ElementaryMatrix = pd.concat([ElementaryMatrix, Coupled_Rescaling_functions(TimeSeries, dim, Nnodes, A, Rescaling = True)],axis=1)\n",
    "        \n",
    "#     return ElementaryMatrix\n"
   ]
  },
  {
   "cell_type": "markdown",
   "id": "58b79170",
   "metadata": {},
   "source": [
    "## Load data"
   ]
  },
  {
   "cell_type": "code",
   "execution_count": 4,
   "id": "35d4be08",
   "metadata": {},
   "outputs": [],
   "source": [
    "config = load_config(config_path='./configs/config_pred_deriv/config_ic3/config_kuramoto.yml')\n",
    "\n",
    "dataset = SyntheticData(\n",
    "    root=config['data_folder'],\n",
    "    dynamics=config['name'],\n",
    "    t_span=config['t_span'],\n",
    "    t_max=config['t_eval_steps'],\n",
    "    num_samples=config['num_samples'],\n",
    "    seed=config['seed'],\n",
    "    n_ics=config['n_iter'],\n",
    "    input_range=config['input_range'],\n",
    "    device=config['device'],\n",
    "    horizon = config['horizon'],\n",
    "    history = config['history'],\n",
    "    stride=config.get('stride', 5),\n",
    "    predict_deriv=config.get(\"predict_deriv\", False),\n",
    "    **config['integration_kwargs']\n",
    ")"
   ]
  },
  {
   "cell_type": "markdown",
   "id": "6cc16a88",
   "metadata": {},
   "source": [
    "## Data and NumDeriv"
   ]
  },
  {
   "cell_type": "code",
   "execution_count": null,
   "id": "1f5822e4",
   "metadata": {},
   "outputs": [],
   "source": [
    "raw_data = dataset.raw_data_sampled.cpu().detach().numpy() # shape: (ics, time_steps, n_nodes, 1)\n",
    "time = dataset.t_sampled\n",
    "dt = time[0, 1] - time[0, 0]\n",
    "dt = dt.item()\n",
    "\n",
    "data = []\n",
    "num_deriv = []\n",
    "\n",
    "for ic in range(raw_data.shape[0]):\n",
    "    data_ic = raw_data[ic].squeeze(-1)  # shape: (time_steps, n_nodes)\n",
    "    num_deriv_ic = NumericalDeriv(\n",
    "        TimeSeries=data_ic,\n",
    "        dim=1,\n",
    "        Nnodes=data_ic.shape[1],\n",
    "        deltT=dt\n",
    "    )   # pd DatafRame\n",
    "    \n",
    "    # TODO: sample data and num_deriv with stride s\n",
    "    \n",
    "    data.append(data_ic[2:-2,:])\n",
    "    num_deriv.append(num_deriv_ic)\n",
    "    \n",
    "\n",
    "data = np.concatenate(data, axis=0)\n",
    "num_deriv = pd.concat(num_deriv, ignore_index=True)"
   ]
  },
  {
   "cell_type": "markdown",
   "id": "5c15bcb8",
   "metadata": {},
   "source": [
    "## Adj Matrix"
   ]
  },
  {
   "cell_type": "code",
   "execution_count": 9,
   "id": "3fcf18ce",
   "metadata": {},
   "outputs": [],
   "source": [
    "edge_index = dataset[0].edge_index"
   ]
  },
  {
   "cell_type": "code",
   "execution_count": 14,
   "id": "961b92af",
   "metadata": {},
   "outputs": [],
   "source": [
    "from torch_geometric.utils import to_dense_adj\n",
    "\n",
    "A = to_dense_adj(edge_index)[0].cpu().detach().numpy()"
   ]
  }
 ],
 "metadata": {
  "kernelspec": {
   "display_name": "myenv",
   "language": "python",
   "name": "python3"
  },
  "language_info": {
   "codemirror_mode": {
    "name": "ipython",
    "version": 3
   },
   "file_extension": ".py",
   "mimetype": "text/x-python",
   "name": "python",
   "nbconvert_exporter": "python",
   "pygments_lexer": "ipython3",
   "version": "3.12.0"
  }
 },
 "nbformat": 4,
 "nbformat_minor": 5
}
