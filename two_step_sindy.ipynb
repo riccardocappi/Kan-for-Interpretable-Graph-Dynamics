{
 "cells": [
  {
   "cell_type": "code",
   "execution_count": 1,
   "id": "6d7c8155",
   "metadata": {},
   "outputs": [],
   "source": [
    "%load_ext autoreload\n",
    "%autoreload 2"
   ]
  },
  {
   "cell_type": "code",
   "execution_count": 2,
   "id": "b00a2ebb",
   "metadata": {},
   "outputs": [
    {
     "name": "stdout",
     "output_type": "stream",
     "text": [
      "Detected IPython. Loading juliacall extension. See https://juliapy.github.io/PythonCall.jl/stable/compat/#IPython\n"
     ]
    }
   ],
   "source": [
    "from utils.utils import load_config\n",
    "from datasets.SyntheticData import SyntheticData\n",
    "import numpy as np\n",
    "import pandas as pd\n",
    "from torch_geometric.utils import to_dense_adj\n",
    "import os"
   ]
  },
  {
   "cell_type": "markdown",
   "id": "3d4398ae",
   "metadata": {},
   "source": [
    "## two-step-SINDy"
   ]
  },
  {
   "cell_type": "code",
   "execution_count": 3,
   "id": "7551adc4",
   "metadata": {},
   "outputs": [],
   "source": [
    "from models.baseline.TSS.NumericalDerivatives import NumericalDeriv\n",
    "from models.baseline.TSS.ElementaryFunctions_Matrix import ElementaryFunctions_Matrix\n",
    "from models.baseline.TSS.TwoPhaseInference import TwoPhaseInference"
   ]
  },
  {
   "cell_type": "markdown",
   "id": "58b79170",
   "metadata": {},
   "source": [
    "## Utils"
   ]
  },
  {
   "cell_type": "code",
   "execution_count": 4,
   "id": "35d4be08",
   "metadata": {},
   "outputs": [],
   "source": [
    "def load_data_tss(config):\n",
    "    dataset = SyntheticData(\n",
    "        root=config['data_folder'],\n",
    "        dynamics=config['name'],\n",
    "        t_span=config['t_span'],\n",
    "        t_max=config['t_eval_steps'],\n",
    "        num_samples=config['num_samples'],\n",
    "        seed=config['seed'],\n",
    "        n_ics=config['n_iter'],\n",
    "        input_range=config['input_range'],\n",
    "        device=config['device'],\n",
    "        horizon = config['horizon'],\n",
    "        history = config['history'],\n",
    "        stride=config.get('stride', 5),\n",
    "        predict_deriv=config.get(\"predict_deriv\", False),\n",
    "        **config['integration_kwargs']\n",
    "    )\n",
    "    \n",
    "    raw_data = dataset.raw_data_sampled.cpu().detach().numpy() # shape: (ics, time_steps, n_nodes, 1)\n",
    "    time = dataset.t_sampled\n",
    "    \n",
    "    edge_index = dataset[0].edge_index\n",
    "    A = to_dense_adj(edge_index)[0].cpu().detach().numpy()\n",
    "    \n",
    "    return raw_data, A, time\n",
    "\n",
    "\n",
    "def get_matrix_tss(raw_data, time, A, Dim=1, selfPolyOrder = 3):\n",
    "    dt = time[0, 1] - time[0, 0]\n",
    "    dt = dt.item()\n",
    "    Nnodes = A.shape[0]\n",
    "    \n",
    "    data = []\n",
    "    num_deriv = []\n",
    "    Matrix = []\n",
    "    \n",
    "    for ic in range(raw_data.shape[0]):\n",
    "        data_ic = raw_data[ic].squeeze(-1)  # shape: (time_steps, n_nodes)\n",
    "        num_deriv_ic = NumericalDeriv(\n",
    "            TimeSeries=data_ic,\n",
    "            dim=1,\n",
    "            Nnodes=data_ic.shape[1],\n",
    "            deltT=dt\n",
    "        )   # pd DatafRame\n",
    "        \n",
    "        data_ic = data_ic[2:-2,:]\n",
    "        data.append(data_ic)\n",
    "        num_deriv.append(num_deriv_ic)\n",
    "        matrix_ic = ElementaryFunctions_Matrix(\n",
    "            data_ic, \n",
    "            Dim, \n",
    "            Nnodes, \n",
    "            A, \n",
    "            selfPolyOrder, \n",
    "            coupledPolyOrder = 1, \n",
    "            PolynomialIndex = True, \n",
    "            TrigonometricIndex = True, \n",
    "            ExponentialIndex = True, \n",
    "            FractionalIndex = False, \n",
    "            ActivationIndex = False, \n",
    "            RescalingIndex = False, \n",
    "            CoupledPolynomialIndex = True,\n",
    "            CoupledTrigonometricIndex = True, \n",
    "            CoupledExponentialIndex = True, \n",
    "            CoupledFractionalIndex = False,\n",
    "            CoupledActivationIndex = True, \n",
    "            CoupledRescalingIndex = False\n",
    "        )\n",
    "        \n",
    "        Matrix.append(matrix_ic)\n",
    "        \n",
    "\n",
    "    data = np.concatenate(data, axis=0)\n",
    "    num_deriv = pd.concat(num_deriv, ignore_index=True)\n",
    "    Matrix = pd.concat(Matrix, ignore_index=True)\n",
    "    Matrix = Matrix.replace([np.inf, -np.inf], np.nan).dropna(axis=1)\n",
    "    \n",
    "    return Matrix, num_deriv, data\n",
    "\n",
    "\n",
    "def two_step_sindy(Matrix, num_deriv, Nnodes, out_path, Dim = 1, plotstart = 0.5, plotend = 0.9, Keep = 10, SampleTimes = 20, Batchsize = 1):\n",
    "    Lambda = pd.DataFrame([[0.01, 0.5, 1]])\n",
    "    os.makedirs(out_path, exist_ok=True)\n",
    "    \n",
    "    for dim in range(Dim):\n",
    "        InferredResults, _, _, _ = TwoPhaseInference(\n",
    "            Matrix, \n",
    "            num_deriv, \n",
    "            Nnodes, \n",
    "            dim, \n",
    "            Dim, \n",
    "            Keep, \n",
    "            SampleTimes,\n",
    "            Batchsize, \n",
    "            Lambda, \n",
    "            plotstart, \n",
    "            plotend\n",
    "        )\n",
    "        \n",
    "        InferredResults.to_csv(f\"{out_path}/results_dim={dim}.csv\")\n",
    "    \n",
    "    \n",
    "        "
   ]
  },
  {
   "cell_type": "markdown",
   "id": "939af7de",
   "metadata": {},
   "source": [
    "## Two Phase Inference"
   ]
  },
  {
   "cell_type": "code",
   "execution_count": null,
   "id": "c738a649",
   "metadata": {},
   "outputs": [],
   "source": [
    "configs = [\n",
    "    'configs/config_pred_deriv/config_ic1/config_kuramoto.yml',\n",
    "    'configs/config_pred_deriv/config_ic1/config_biochemical.yml',\n",
    "    'configs/config_pred_deriv/config_ic1/config_epidemics.yml',\n",
    "    'configs/config_pred_deriv/config_ic1/config_population.yml'\n",
    "]\n",
    "\n",
    "for conf_path in configs:\n",
    "    conf= load_config(config_path=conf_path)\n",
    "    raw_data, A, time = load_data_tss(conf)\n",
    "    \n",
    "    Matrix, num_deriv, _ = get_matrix_tss(\n",
    "        raw_data=raw_data,\n",
    "        time = time,\n",
    "        A=A,\n",
    "        Dim=1,\n",
    "        selfPolyOrder=3\n",
    "    )\n",
    "    \n",
    "    two_step_sindy(\n",
    "        Matrix=Matrix,\n",
    "        num_deriv=num_deriv,\n",
    "        Nnodes=A.shape[0],\n",
    "        out_path=f'./saved_models_optuna/tss/{conf['name']}-{conf['n_iter']}'\n",
    "    )"
   ]
  },
  {
   "cell_type": "markdown",
   "id": "b5e2855b",
   "metadata": {},
   "source": [
    "## Real Epid data"
   ]
  },
  {
   "cell_type": "code",
   "execution_count": 6,
   "id": "3e63c4c1",
   "metadata": {},
   "outputs": [
    {
     "name": "stdout",
     "output_type": "stream",
     "text": [
      "Building the dataset...\n"
     ]
    },
    {
     "name": "stderr",
     "output_type": "stream",
     "text": [
      "Processing...\n"
     ]
    },
    {
     "name": "stderr",
     "output_type": "stream",
     "text": [
      "Done!\n"
     ]
    }
   ],
   "source": [
    "from datasets.RealEpidemics import RealEpidemics\n",
    "\n",
    "real_epid_data = RealEpidemics(\n",
    "    root = './data_real_epid',\n",
    "    name = 'RealEpid',\n",
    "    predict_deriv=True\n",
    ")"
   ]
  },
  {
   "cell_type": "code",
   "execution_count": 6,
   "id": "d228201b",
   "metadata": {},
   "outputs": [],
   "source": [
    "import json\n",
    "\n",
    "with open('./data_real_epid/RealEpid/countries_dict.json', 'r') as f:\n",
    "    countries_dict = json.load(f)"
   ]
  },
  {
   "cell_type": "code",
   "execution_count": 7,
   "id": "eb9605e3",
   "metadata": {},
   "outputs": [],
   "source": [
    "covid_ts = real_epid_data.raw_data_sampled[0].detach().cpu().numpy()"
   ]
  },
  {
   "cell_type": "code",
   "execution_count": 9,
   "id": "ed2a0dd7",
   "metadata": {},
   "outputs": [],
   "source": [
    "import matplotlib.pyplot as plt"
   ]
  },
  {
   "cell_type": "code",
   "execution_count": 13,
   "id": "5c14f6d1",
   "metadata": {},
   "outputs": [
    {
     "data": {
      "text/plain": [
       "[<matplotlib.lines.Line2D at 0x7fdbe078cce0>]"
      ]
     },
     "execution_count": 13,
     "metadata": {},
     "output_type": "execute_result"
    },
    {
     "data": {
      "image/png": "[encoded data removed]",
      "text/plain": [
       "<Figure size 640x480 with 1 Axes>"
      ]
     },
     "metadata": {},
     "output_type": "display_data"
    }
   ],
   "source": [
    "plt.plot(covid_ts[:, countries_dict['Croatia'], :])"
   ]
  }
 ],
 "metadata": {
  "kernelspec": {
   "display_name": "myenv",
   "language": "python",
   "name": "python3"
  },
  "language_info": {
   "codemirror_mode": {
    "name": "ipython",
    "version": 3
   },
   "file_extension": ".py",
   "mimetype": "text/x-python",
   "name": "python",
   "nbconvert_exporter": "python",
   "pygments_lexer": "ipython3",
   "version": "3.12.0"
  }
 },
 "nbformat": 4,
 "nbformat_minor": 5
}
