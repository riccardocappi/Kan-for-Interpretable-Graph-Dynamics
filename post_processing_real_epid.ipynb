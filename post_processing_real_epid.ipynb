{
 "cells": [
  {
   "cell_type": "markdown",
   "id": "04f2b39f",
   "metadata": {},
   "source": [
    "# Real Epid"
   ]
  },
  {
   "cell_type": "code",
   "execution_count": null,
   "id": "4fc917be",
   "metadata": {},
   "outputs": [
    {
     "name": "stderr",
     "output_type": "stream",
     "text": [
      "/home/ricca/miniconda3/envs/myenv/lib/python3.12/site-packages/juliacall/__init__.py:61: UserWarning: torch was imported before juliacall. This may cause a segfault. To avoid this, import juliacall before importing torch. For updates, see https://github.com/pytorch/pytorch/issues/78829.\n",
      "  warnings.warn(\n"
     ]
    },
    {
     "name": "stdout",
     "output_type": "stream",
     "text": [
      "Detected IPython. Loading juliacall extension. See https://juliapy.github.io/PythonCall.jl/stable/compat/#IPython\n"
     ]
    }
   ],
   "source": [
    "import os\n",
    "os.environ[\"CUBLAS_WORKSPACE_CONFIG\"] = \":4096:8\"\n",
    "import numpy as np\n",
    "\n",
    "import torch\n",
    "from main import set_pytorch_seed\n",
    "from post_processing import get_model, make_callable, plot_predictions\n",
    "import pandas as pd\n",
    "import sympy as sp\n",
    "from sklearn.metrics import mean_absolute_error\n",
    "from post_processing import build_model_from_file as build_kan\n",
    "from post_processing_mpnn import build_model_from_file_mpnn as build_mpnn\n",
    "from post_processing_mpnn import build_model_from_file_llc as build_llc\n",
    "\n",
    "set_pytorch_seed(0)"
   ]
  },
  {
   "cell_type": "code",
   "execution_count": null,
   "id": "1eef0454",
   "metadata": {},
   "outputs": [],
   "source": [
    "from fine_tuning_coefficients import get_scaler\n",
    "\n",
    "def eval_real_epid_int(data, countries_dict, build_symb_model, inferred_coeffs, scaler=None, use_euler=False, tr_perc = 0.8, \n",
    "                       mask = None, device='cuda:0'):\n",
    "    y_true = data[0].y.detach().cpu().numpy()\n",
    "    if mask is not None:\n",
    "        y_true = y_true[:, mask, :]\n",
    "    y_pred = np.zeros_like(y_true)\n",
    "    \n",
    "    for country_name, node_idx in countries_dict.items():\n",
    "        symb_model = build_symb_model(country_name, inferred_coeffs)\n",
    "        symb_model = symb_model.to(device)\n",
    "        # print(f\"{country_name}\")\n",
    "        data_0 = data[0].cpu()\n",
    "        if scaler is not None:\n",
    "            tmp = scaler.transform(data[0].x)\n",
    "            data_0 = data[0]\n",
    "            data_0.x = tmp\n",
    "        \n",
    "        data_0 = data_0.to(device)\n",
    "        if use_euler:\n",
    "            symb_model.integration_method = \"euler\"\n",
    "            data_0.t_span = torch.arange(y_true.shape[0] + 1, device=data_0.x.device, dtype=data_0.t_span.dtype)\n",
    "        \n",
    "        try:\n",
    "            pred = symb_model(data_0).detach().cpu().numpy()\n",
    "            if mask is not None:\n",
    "                pred = pred[:, mask, :]\n",
    "        except AssertionError:\n",
    "            print(\"Failed\")\n",
    "            continue\n",
    "        \n",
    "        if scaler is not None:\n",
    "            pred = scaler.inverse_transform(pred)\n",
    "        \n",
    "        y_pred[:, node_idx, :] = pred[:, node_idx, :]\n",
    "    \n",
    "        \n",
    "    tr_len = y_true.shape[0]\n",
    "    tr_end = int(tr_perc * tr_len)\n",
    "    y_true_val = y_true[tr_end:, :, :]\n",
    "    y_pred_val = y_pred[tr_end:, :, :] \n",
    "    \n",
    "    print(f\"Test MAE: {mean_absolute_error(y_true_val.flatten(), y_pred_val.flatten())}\")\n",
    "    print(f\"Overall MAE: {mean_absolute_error(y_true.flatten(), y_pred.flatten())}\")    \n",
    "    \n",
    "    return y_true, y_pred, y_true_val, y_pred_val \n",
    "\n",
    "\n",
    "def eval_real_epid_journal(data, countries_dict, build_symb_model, inferred_coeffs, tr_perc = 0.8, step_size=1.0, scaler = None,\n",
    "                           device='cpu', mask=None):\n",
    "    def get_dxdt_pred(data, symb_model):\n",
    "        dxdt_pred = []\n",
    "        for snapshot in data:\n",
    "            if scaler is not None:\n",
    "                snapshot.x = scaler.transform(snapshot.x)\n",
    "            snapshot = snapshot.to(device)\n",
    "            dxdt_pred.append(symb_model(snapshot))\n",
    "        \n",
    "        return torch.stack(dxdt_pred, dim=0)\n",
    "    \n",
    "    def sum_over_dxdt(dxdt_pred):\n",
    "        out = []\n",
    "        for i in range(dxdt_pred.shape[0]):\n",
    "            out.append(torch.sum(dxdt_pred[0:i+1, :, :], dim=0)) \n",
    "        \n",
    "        return torch.stack(out, dim=0)\n",
    "        \n",
    "    def integrate(out, x0):\n",
    "        pred = [x0]\n",
    "        for i in range(out.shape[0] - 1):\n",
    "            pred.append(x0 + step_size*out[i, :, :])\n",
    "        return torch.stack(pred, dim=0)\n",
    "      \n",
    "    x0 = data[0].x\n",
    "    if scaler is not None:\n",
    "        x0 = scaler.transform(x0)\n",
    "    x0 = x0.to(device)\n",
    "    y_true = torch.stack([d.x for d in data], dim=0).detach().cpu().numpy()\n",
    "    if mask is not None:\n",
    "        y_true = y_true[:, mask, :]\n",
    "    y_pred = np.zeros_like(y_true)\n",
    "    \n",
    "    for country_name, node_idx in countries_dict.items():\n",
    "        symb_model = build_symb_model(country_name, inferred_coeffs)\n",
    "        symb_model = symb_model.to(device)\n",
    "        symb_model.predict_deriv = True\n",
    "        dxdt_pred = get_dxdt_pred(data, symb_model)\n",
    "        out = sum_over_dxdt(dxdt_pred)\n",
    "        pred = integrate(out, x0).detach().cpu().numpy()\n",
    "        if mask is not None:\n",
    "            pred = pred[:, mask, :]\n",
    "        y_pred[:, node_idx, :] = pred[:, node_idx, :]\n",
    "    \n",
    "    if scaler is not None:\n",
    "        y_pred = scaler.inverse_transform(y_pred)    \n",
    "    \n",
    "    tr_len = y_true.shape[0]\n",
    "    tr_end = int(tr_perc * tr_len)\n",
    "    y_true_val = y_true[tr_end:, :, :]\n",
    "    y_pred_val = y_pred[tr_end:, :, :] \n",
    "    \n",
    "    print(f\"Test MAE: {mean_absolute_error(y_true_val.flatten(), y_pred_val.flatten())}\")\n",
    "    print(f\"Overall MAE: {mean_absolute_error(y_true.flatten(), y_pred.flatten())}\")  \n",
    "    \n",
    "    return y_true, y_pred, y_true_val, y_pred_val"
   ]
  },
  {
   "cell_type": "code",
   "execution_count": null,
   "id": "d08ca948",
   "metadata": {},
   "outputs": [],
   "source": [
    "def save_country_predictions(y_true, preds_dict, countries_dict, save_dir=\"./outputs/covid\"):\n",
    "\n",
    "    os.makedirs(save_dir, exist_ok=True)\n",
    "\n",
    "    for country_name, node_idx in countries_dict.items():\n",
    "        true_vals = y_true[:, node_idx, 0]\n",
    "\n",
    "        plt.figure(figsize=(10, 6))\n",
    "        # Ground truth\n",
    "        plt.plot(true_vals, label=\"True\", linewidth=2, color=\"black\")\n",
    "\n",
    "        # Predictions for each model\n",
    "        for model_name, (y_pred, color) in preds_dict.items():\n",
    "            pred_vals = y_pred[:, node_idx, 0]\n",
    "            plt.plot(pred_vals, linestyle=\"--\", label=model_name, color=color)\n",
    "\n",
    "        plt.title(f\"{country_name} - Model Comparison\")\n",
    "        plt.xlabel(\"Days\")\n",
    "        plt.ylabel(\"Infected Count\")\n",
    "        plt.legend()\n",
    "        plt.tight_layout()\n",
    "\n",
    "        filename = os.path.join(save_dir, f\"{country_name}_comparison.png\")\n",
    "        plt.savefig(filename, dpi=150)\n",
    "        plt.close()"
   ]
  },
  {
   "cell_type": "code",
   "execution_count": null,
   "id": "634f126a",
   "metadata": {},
   "outputs": [],
   "source": [
    "from datasets.RealEpidemics import RealEpidemics\n",
    "\n",
    "real_epid_data = RealEpidemics(\n",
    "    root = './data_real_epid_covid_int',\n",
    "    name = 'RealEpid',\n",
    "    predict_deriv=False,\n",
    "    history=1,\n",
    "    horizon=44,\n",
    "    scale=False\n",
    ")\n",
    "\n",
    "data_real_epid_orig = RealEpidemics(\n",
    "    root = './data_real_epid_covid_orig',\n",
    "    name = 'RealEpid',\n",
    "    predict_deriv=True,\n",
    "    scale=False,\n",
    ")\n",
    "\n",
    "with open('./data_real_epid_covid_int/RealEpid/countries_dict.json', 'r') as f:\n",
    "    countries_dict = json.load(f)\n",
    "    \n",
    "all_res_covid_traj = {}\n",
    "all_res_covid_eul = {}"
   ]
  },
  {
   "cell_type": "markdown",
   "id": "4c128f6d",
   "metadata": {},
   "source": [
    "### TSS 2"
   ]
  },
  {
   "cell_type": "code",
   "execution_count": null,
   "id": "bf52e680",
   "metadata": {},
   "outputs": [],
   "source": [
    "def build_symb_model_tss(country, inf_coeff):\n",
    "    x_i, x_j = sp.symbols('x_i x_j')    \n",
    "    country_idx = countries_dict[country]\n",
    "\n",
    "    g_symb = inf_coeff[1, country_idx] * (1 / (1 + sp.exp(- (x_j - x_i))))\n",
    "    h_symb = inf_coeff[0, country_idx] * x_i\n",
    "    \n",
    "    g_symb = make_callable(g_symb)\n",
    "    h_symb = make_callable(h_symb)\n",
    "\n",
    "    symb_model = get_model(\n",
    "        g = g_symb,\n",
    "        h = h_symb,\n",
    "        message_passing=False,\n",
    "        include_time=False,\n",
    "        integration_method='rk4'\n",
    "    )\n",
    "    \n",
    "    return symb_model"
   ]
  },
  {
   "cell_type": "code",
   "execution_count": null,
   "id": "74e6aa6e",
   "metadata": {},
   "outputs": [
    {
     "name": "stdout",
     "output_type": "stream",
     "text": [
      "Test MAE: 54085.0234375\n",
      "Overall MAE: 10951.21484375\n",
      "Journal Integration\n",
      "\n",
      "Test MAE: 881.3953247070312\n",
      "Overall MAE: 258.5760192871094\n"
     ]
    }
   ],
   "source": [
    "inf_coeff_covid = pd.read_csv(\"./saved_models_optuna/tss/real_epid_covid/inf_coeffs_all_covid.csv\").values\n",
    "\n",
    "y_true_tss, y_pred_tss, y_true_val_tss, y_pred_val_tss = eval_real_epid_int(\n",
    "    data = real_epid_data,\n",
    "    countries_dict=countries_dict,\n",
    "    inferred_coeffs=inf_coeff_covid,\n",
    "    build_symb_model=build_symb_model_tss,\n",
    "    use_euler=True,\n",
    "    tr_perc=0.9\n",
    ")\n",
    "\n",
    "print(\"Mae Eul\\n\")\n",
    "inf_coeff_covid = pd.read_csv(\"./saved_models_optuna/tss/real_epid_covid/inf_coeffs_test_covid.csv\").values\n",
    "\n",
    "y_true_tss_jrn, y_pred_tss_jrn, y_true_val_tss_jrn, y_pred_val_tss_jrn = eval_real_epid_journal(\n",
    "    data = data_real_epid_orig,\n",
    "    countries_dict=countries_dict,\n",
    "    build_symb_model=build_symb_model_tss,\n",
    "    inferred_coeffs=inf_coeff_covid,\n",
    "    tr_perc=0.9,\n",
    "    step_size=1.0\n",
    ")\n",
    "\n",
    "all_res_covid_traj[\"TP-SINDy\"] = (y_pred_tss.copy(), \"red\")\n",
    "all_res_covid_eul[\"TP-SINDy\"] = (y_pred_tss_jrn.copy(), \"red\")"
   ]
  },
  {
   "cell_type": "markdown",
   "id": "fc8ab708",
   "metadata": {},
   "source": [
    "### GKAN"
   ]
  },
  {
   "cell_type": "code",
   "execution_count": null,
   "id": "a9f0ca26",
   "metadata": {},
   "outputs": [],
   "source": [
    "def build_symb_model_gkan(country, inf_coeff):\n",
    "    x_i, x_j = sp.symbols('x_i x_j')    \n",
    "\n",
    "    coeffs = inf_coeff[country]\n",
    "    b, a, c = coeffs.iloc[0], coeffs.iloc[1], coeffs.iloc[2] \n",
    "\n",
    "    g_symb = c * sp.exp(x_j)\n",
    "    h_symb = a * x_i + b\n",
    "    \n",
    "    g_symb = make_callable(g_symb)\n",
    "    h_symb = make_callable(h_symb)\n",
    "    \n",
    "    symb_model = get_model(\n",
    "        g = g_symb,\n",
    "        h = h_symb,\n",
    "        message_passing=False,\n",
    "        include_time=False,\n",
    "        integration_method='dopri5'\n",
    "    )\n",
    "    \n",
    "    return symb_model"
   ]
  },
  {
   "cell_type": "code",
   "execution_count": null,
   "id": "83ad8700",
   "metadata": {},
   "outputs": [
    {
     "name": "stdout",
     "output_type": "stream",
     "text": [
      "Test MAE: 950.6076049804688\n",
      "Overall MAE: 397.4226379394531\n"
     ]
    }
   ],
   "source": [
    "scaler = get_scaler(data = real_epid_data, tr_perc=0.8)\n",
    "x_i, x_j = sp.symbols('x_i x_j')\n",
    "inf_coeff_covid = pd.read_csv(\"./saved_models_optuna/model-real-epid-gkan/real_epid_gkan_7/0/inferred_coeffs_covid_ts_correct.csv\")\n",
    "\n",
    "y_true_gkan, y_pred_gkan, y_true_val_gkan, y_pred_val_gkan = eval_real_epid_int(\n",
    "    data = real_epid_data,\n",
    "    countries_dict=countries_dict,\n",
    "    build_symb_model=build_symb_model_gkan,\n",
    "    scaler=scaler,\n",
    "    use_euler=False,\n",
    "    inferred_coeffs=inf_coeff_covid,\n",
    "    tr_perc=0.9\n",
    ")\n",
    "\n",
    "all_res_covid_traj[\"GKAN + GP\"] = (y_pred_gkan.copy(), \"#5fa2d1\")\n",
    "\n",
    "inf_coeff_covid = pd.read_csv(\"./saved_models_optuna/model-real-epid-gkan/real_epid_gkan_7/0/inferred_coeffs_covid_ts_correct.csv\")\n",
    "t = real_epid_data.t_sampled\n",
    "epsilon = t[0][1] - t[0][0]\n",
    "scaler = get_scaler(data = real_epid_data, tr_perc=0.8)\n",
    "\n",
    "print(\"Mae Eul\\n\")\n",
    "\n",
    "y_true_gkan_jrn, y_pred_gkan_jrn, y_true_val_gkan_jrn, y_pred_val_gkan_jrn = eval_real_epid_journal(\n",
    "    data = data_real_epid_orig,\n",
    "    countries_dict=countries_dict,\n",
    "    build_symb_model=build_symb_model_gkan,\n",
    "    tr_perc=0.9,\n",
    "    step_size=epsilon.item(),\n",
    "    inferred_coeffs=inf_coeff_covid,\n",
    "    scaler=scaler,\n",
    ")\n",
    "\n",
    "all_res_covid_eul[\"GKAN + GP\"] = (y_pred_gkan_jrn.copy(), \"#5fa2d1\")"
   ]
  },
  {
   "cell_type": "markdown",
   "id": "2eb0457a",
   "metadata": {},
   "source": [
    "### GKAN SW"
   ]
  },
  {
   "cell_type": "code",
   "execution_count": null,
   "id": "30fbb9ee",
   "metadata": {},
   "outputs": [
    {
     "name": "stdout",
     "output_type": "stream",
     "text": [
      "Test MAE: 669.2266235351562\n",
      "Overall MAE: 367.4915466308594\n",
      "\n",
      "Journal int\n",
      "\n",
      "Test MAE: 939.890869140625\n",
      "Overall MAE: 361.2289123535156\n"
     ]
    }
   ],
   "source": [
    "scaler = get_scaler(data = real_epid_data, tr_perc=0.8)\n",
    "x_i, x_j = sp.symbols('x_i x_j')\n",
    "inf_coeff_covid = pd.read_csv(\"./saved_models_optuna/model-real-epid-gkan/real_epid_gkan_7/0/inferred_coeffs_covid_sw.csv\")\n",
    "\n",
    "def build_model_sw(country, inf_coeff):\n",
    "\n",
    "    \n",
    "    coeffs = inf_coeff[country]\n",
    "    r, h, l, i, k, j, m, q, n, o, p, g, a, c, b, d, f, e = coeffs.iloc[0:]\n",
    "    \n",
    "    expr1 = a*sp.tanh(b*x_i + c) + d*sp.tanh(e*x_j + f) + g        \n",
    "    expr2 = h*sp.tanh(i*sp.tanh(j*x_i + k) + l) + m*sp.tanh(n*x_i**3 + o*x_i**2 + p*x_i + q) + r\n",
    "    \n",
    "    g_symb = make_callable(expr1)\n",
    "    h_symb = make_callable(expr2)\n",
    "    \n",
    "    symb_model = get_model(\n",
    "        g = g_symb,\n",
    "        h = h_symb,\n",
    "        message_passing=False,\n",
    "        include_time=False,\n",
    "        integration_method='dopri5'\n",
    "    )\n",
    "    \n",
    "    return symb_model\n",
    "\n",
    "\n",
    "y_true_gkan, y_pred_gkan, y_true_val_gkan, y_pred_val_gkan = eval_real_epid_int(\n",
    "    data = real_epid_data,\n",
    "    countries_dict=countries_dict,\n",
    "    build_symb_model=build_model_sw,\n",
    "    scaler=scaler,\n",
    "    use_euler=False,\n",
    "    inferred_coeffs=inf_coeff_covid,\n",
    "    tr_perc=0.9\n",
    ")\n",
    "\n",
    "t = real_epid_data.t_sampled\n",
    "epsilon = t[0][1] - t[0][0]\n",
    "\n",
    "print(\"Mae Eul\\n\")\n",
    "\n",
    "y_true_gkan_jrn, y_pred_gkan_jrn, y_true_val_gkan_jrn, y_pred_val_gkan_jrn = eval_real_epid_journal(\n",
    "    data = data_real_epid_orig,\n",
    "    countries_dict=countries_dict,\n",
    "    build_symb_model=build_model_sw,\n",
    "    tr_perc=0.9,\n",
    "    step_size=epsilon,\n",
    "    inferred_coeffs=inf_coeff_covid,\n",
    "    scaler=scaler\n",
    ")\n",
    "\n",
    "all_res_covid_traj[\"GKAN + SW\"] = (y_pred_gkan.copy(), \"#a2c8e3\")\n",
    "all_res_covid_eul[\"GKAN + SW\"] = (y_pred_gkan_jrn.copy(), \"#a2c8e3\")"
   ]
  },
  {
   "cell_type": "markdown",
   "id": "59f345fb",
   "metadata": {},
   "source": [
    "### MPNN"
   ]
  },
  {
   "cell_type": "code",
   "execution_count": null,
   "id": "e18d7c4b",
   "metadata": {},
   "outputs": [],
   "source": [
    "def build_symb_model_mpnn(country, inf_coeff):\n",
    "    \n",
    "    coeffs = inf_coeff[country]\n",
    "    a, _, b, _, c, = coeffs.iloc[0], coeffs.iloc[1], coeffs.iloc[2], coeffs.iloc[3], coeffs.iloc[4] \n",
    "\n",
    "    \n",
    "    expr1 = sp.ln(sp.Max(sp.tan(x_i + c)**2 + 1, 1e-6))\n",
    "    expr2 = a * sp.ln(sp.Max(x_i + b, 1e-6))\n",
    "    \n",
    "    g_symb = make_callable(expr1)\n",
    "    h_symb = make_callable(expr2)\n",
    "    \n",
    "    symb_model = get_model(\n",
    "        g = g_symb,\n",
    "        h = h_symb,\n",
    "        message_passing=False,\n",
    "        include_time=False,\n",
    "        integration_method='dopri5'\n",
    "    )\n",
    "    \n",
    "    return symb_model"
   ]
  },
  {
   "cell_type": "code",
   "execution_count": null,
   "id": "0fdb7422",
   "metadata": {},
   "outputs": [
    {
     "name": "stdout",
     "output_type": "stream",
     "text": [
      "Test MAE: 640.311767578125\n",
      "Overall MAE: 295.4835205078125\n"
     ]
    }
   ],
   "source": [
    "scaler = get_scaler(data = real_epid_data, tr_perc=0.8)\n",
    "x_i, x_j = sp.symbols('x_i x_j')\n",
    "inf_coeff_covid = pd.read_csv(\"./saved_models_optuna/model-real-epid-mpnn/real_epid_mpnn_7/0/inferred_coeffs_covid_ts.csv\")\n",
    "\n",
    "y_true_mpnn, y_pred_mpnn, y_true_val_mpnn, y_pred_val_mpnn = eval_real_epid_int(\n",
    "    data = real_epid_data,\n",
    "    countries_dict=countries_dict,\n",
    "    build_symb_model=build_symb_model_mpnn,\n",
    "    scaler=scaler,\n",
    "    use_euler=False,\n",
    "    inferred_coeffs=inf_coeff_covid,\n",
    "    tr_perc=0.9\n",
    ")\n",
    "\n",
    "all_res_covid_traj[\"MPNN + GP\"] = (y_pred_mpnn.copy(), \"#fcb97d\")\n",
    "\n",
    "t = real_epid_data.t_sampled\n",
    "epsilon = t[0][1] - t[0][0]\n",
    "scaler = get_scaler(data = real_epid_data, tr_perc=0.8)\n",
    "\n",
    "print(\"Mae Eul\\n\")\n",
    "\n",
    "y_true_mpnn_jrn, y_pred_mpnn_jrn, y_true_val_mpnn_jrn, y_pred_val_mpnn_jrn = eval_real_epid_journal(\n",
    "    data = data_real_epid_orig,\n",
    "    countries_dict=countries_dict,\n",
    "    build_symb_model=build_symb_model_mpnn,\n",
    "    tr_perc=0.9,\n",
    "    step_size=epsilon,\n",
    "    inferred_coeffs=inf_coeff_covid,\n",
    "    scaler=scaler\n",
    ")\n",
    "\n",
    "all_res_covid_eul[\"MPNN + GP\"] = (y_pred_mpnn_jrn.copy(), \"#fcb97d\")\n"
   ]
  },
  {
   "cell_type": "markdown",
   "id": "c4471629",
   "metadata": {},
   "source": [
    "### LLC"
   ]
  },
  {
   "cell_type": "code",
   "execution_count": null,
   "id": "91b2a83f",
   "metadata": {},
   "outputs": [],
   "source": [
    "def build_symb_model_llc(country, inf_coeff):\n",
    "    \n",
    "    coeffs = inf_coeff[country]\n",
    "    a, b, c = coeffs.iloc[0], coeffs.iloc[1], coeffs.iloc[2]\n",
    "\n",
    "    expr1 = c*((x_i - x_j) * sp.exp(- x_j))\n",
    "    expr2 = a * sp.tanh(x_i + b)\n",
    "    \n",
    "    g_symb = make_callable(expr1)\n",
    "    h_symb = make_callable(expr2)\n",
    "    \n",
    "    symb_model = get_model(\n",
    "        g = g_symb,\n",
    "        h = h_symb,\n",
    "        message_passing=False,\n",
    "        include_time=False,\n",
    "        integration_method='dopri5'\n",
    "    )\n",
    "    \n",
    "    return symb_model"
   ]
  },
  {
   "cell_type": "code",
   "execution_count": null,
   "id": "ce3d5bc4",
   "metadata": {},
   "outputs": [
    {
     "name": "stdout",
     "output_type": "stream",
     "text": [
      "Test MAE: 991.1400756835938\n",
      "Overall MAE: 371.1968688964844\n",
      "Journal int\n",
      "\n",
      "Test MAE: 1049.9173583984375\n",
      "Overall MAE: 334.60064697265625\n"
     ]
    }
   ],
   "source": [
    "scaler_covid = get_scaler(data = real_epid_data, tr_perc=0.8)\n",
    "x_i, x_j = sp.symbols('x_i x_j')\n",
    "inf_coeff_covid = pd.read_csv(\"./saved_models_optuna/model-real-epid-llc/real_epid_llc_3/0/inferred_coeffs_covid_new.csv\")\n",
    "\n",
    "y_true_llc, y_pred_llc, y_true_val_llc, y_pred_val_llc = eval_real_epid_int(\n",
    "    data = real_epid_data,\n",
    "    countries_dict=countries_dict,\n",
    "    inferred_coeffs=inf_coeff_covid,\n",
    "    build_symb_model=build_symb_model_llc,\n",
    "    scaler=scaler_covid,\n",
    "    tr_perc=0.9\n",
    ")\n",
    "\n",
    "print(\"Mae Eul\\n\")\n",
    "\n",
    "t = real_epid_data.t_sampled\n",
    "epsilon = t[0][1] - t[0][0]\n",
    "    \n",
    "y_true_llc_jrn, y_pred_llc_jrn, y_true_val_llc_jrn, y_pred_val_llc_jrn = eval_real_epid_journal(\n",
    "    data = data_real_epid_orig,\n",
    "    countries_dict=countries_dict,\n",
    "    build_symb_model=build_symb_model_llc,\n",
    "    inferred_coeffs=inf_coeff_covid,\n",
    "    scaler=scaler_covid,\n",
    "    step_size=epsilon,\n",
    "    tr_perc=0.9,\n",
    ")\n",
    "\n",
    "all_res_covid_traj[\"LLC + GP\"] = (y_pred_llc.copy(), \"#34eb6e\")\n",
    "all_res_covid_eul[\"LLC + GP\"] = (y_pred_llc_jrn.copy(), \"#34eb6e\")"
   ]
  },
  {
   "cell_type": "markdown",
   "id": "638fa278",
   "metadata": {},
   "source": [
    "## Generalization on H1N1 data "
   ]
  },
  {
   "cell_type": "code",
   "execution_count": null,
   "id": "db7136b5",
   "metadata": {},
   "outputs": [],
   "source": [
    "real_epid_h1n1 = RealEpidemics(\n",
    "    root = './data_real_epid_h1n1_int',\n",
    "    name = 'RealEpid',\n",
    "    predict_deriv=False,\n",
    "    history=1,\n",
    "    horizon=44,\n",
    "    scale=False,\n",
    "    infection_data=\"./data/RealEpidemics/infected_numbers_H1N1.csv\",\n",
    "    inf_threshold=100\n",
    ")\n",
    "\n",
    "data_real_epid_orig_h1n1 = RealEpidemics(\n",
    "    root = './data_real_epid_h1n1_orig',\n",
    "    name = 'RealEpid',\n",
    "    predict_deriv=True,\n",
    "    scale=False,\n",
    "    infection_data=\"./data/RealEpidemics/infected_numbers_H1N1.csv\",\n",
    "    inf_threshold=100\n",
    ")\n",
    "\n",
    "with open('./data_real_epid_h1n1_int/RealEpid/countries_dict.json', 'r') as f:\n",
    "    countries_dict = json.load(f)\n",
    "    \n",
    "all_res_h1n1_traj = {}\n",
    "all_res_h1n1_eul = {}"
   ]
  },
  {
   "cell_type": "markdown",
   "id": "38287347",
   "metadata": {},
   "source": [
    "### TSS 2"
   ]
  },
  {
   "cell_type": "code",
   "execution_count": null,
   "id": "cdc67ddc",
   "metadata": {},
   "outputs": [
    {
     "name": "stdout",
     "output_type": "stream",
     "text": [
      "Test MAE: 2220.902587890625\n",
      "Overall MAE: 718.156005859375\n",
      "Journal Integration\n",
      "\n",
      "Test MAE: 202.747802734375\n",
      "Overall MAE: 82.75919342041016\n"
     ]
    }
   ],
   "source": [
    "inf_coeff_h1n1 = pd.read_csv(\"./saved_models_optuna/tss/real_epid_covid/inf_coeffs_all_h1n1.csv\").values\n",
    "\n",
    "y_true_tss, y_pred_tss, y_true_val_tss, y_pred_val_tss = eval_real_epid_int(\n",
    "    data = real_epid_h1n1,\n",
    "    countries_dict=countries_dict,\n",
    "    inferred_coeffs=inf_coeff_h1n1,\n",
    "    build_symb_model=build_symb_model_tss,\n",
    "    use_euler=True,\n",
    "    tr_perc=0.9\n",
    ")\n",
    "\n",
    "print(\"Mae Eul\\n\")\n",
    "inf_coeff_h1n1 = pd.read_csv(\"./saved_models_optuna/tss/real_epid_covid/inf_coeffs_test_h1n1.csv\").values\n",
    "\n",
    "y_true_tss_jrn, y_pred_tss_jrn, y_true_val_tss_jrn, y_pred_val_tss_jrn = eval_real_epid_journal(\n",
    "    data = data_real_epid_orig_h1n1,\n",
    "    countries_dict=countries_dict,\n",
    "    build_symb_model=build_symb_model_tss,\n",
    "    inferred_coeffs=inf_coeff_h1n1,\n",
    "    tr_perc=0.9,\n",
    "    step_size=1.0\n",
    ")\n",
    "\n",
    "\n",
    "all_res_h1n1_traj[\"TP-SINDy\"] = (y_pred_tss.copy(), \"red\")\n",
    "all_res_h1n1_eul[\"TP-SINDy\"] = (y_pred_tss_jrn.copy(), \"red\")"
   ]
  },
  {
   "cell_type": "markdown",
   "id": "4732d559",
   "metadata": {},
   "source": [
    "### GKAN"
   ]
  },
  {
   "cell_type": "code",
   "execution_count": null,
   "id": "c7b6e9db",
   "metadata": {},
   "outputs": [
    {
     "name": "stdout",
     "output_type": "stream",
     "text": [
      "Test MAE: 220.84352111816406\n",
      "Overall MAE: 125.45842742919922\n"
     ]
    }
   ],
   "source": [
    "scaler_h1n1 = get_scaler(data = real_epid_h1n1, tr_perc=0.8)\n",
    "x_i, x_j = sp.symbols('x_i x_j')\n",
    "inf_coeff_h1n1 = pd.read_csv(\"./saved_models_optuna/model-real-epid-gkan/real_epid_gkan_7/0/inferred_coeffs_h1n1_ts_correct.csv\")\n",
    "\n",
    "y_true_gkan, y_pred_gkan, y_true_val_gkan, y_pred_val_gkan = eval_real_epid_int(\n",
    "    data = real_epid_h1n1,\n",
    "    countries_dict=countries_dict,\n",
    "    inferred_coeffs=inf_coeff_h1n1,\n",
    "    build_symb_model=build_symb_model_gkan,\n",
    "    scaler=scaler_h1n1,\n",
    "    tr_perc=0.9\n",
    ")\n",
    "\n",
    "all_res_h1n1_traj[\"GKAN + GP\"] = (y_pred_gkan.copy(), \"#5fa2d1\")\n",
    "\n",
    "print(\"\\nMae Eul\\n\")\n",
    "\n",
    "t = real_epid_h1n1.t_sampled\n",
    "epsilon = t[0][1] - t[0][0]\n",
    "scaler_h1n1 = get_scaler(data = real_epid_h1n1, tr_perc=0.8)\n",
    "print(epsilon)\n",
    "inf_coeff_h1n1 = pd.read_csv(\"./saved_models_optuna/model-real-epid-gkan/real_epid_gkan_7/0/inferred_coeffs_h1n1_ts_correct.csv\")\n",
    "\n",
    "y_true_gkan_jrn, y_pred_gkan_jrn, y_true_val_gkan_jrn, y_pred_val_gkan_jrn = eval_real_epid_journal(\n",
    "    data = data_real_epid_orig_h1n1,\n",
    "    countries_dict=countries_dict,\n",
    "    build_symb_model=build_symb_model_gkan,\n",
    "    inferred_coeffs=inf_coeff_h1n1,\n",
    "    scaler=scaler_h1n1,\n",
    "    step_size=epsilon,\n",
    "    tr_perc=0.9,\n",
    ")"
   ]
  },
  {
   "cell_type": "markdown",
   "id": "35dd356e",
   "metadata": {},
   "source": [
    "### GKAN SW"
   ]
  },
  {
   "cell_type": "code",
   "execution_count": null,
   "id": "484e60a1",
   "metadata": {},
   "outputs": [
    {
     "name": "stdout",
     "output_type": "stream",
     "text": [
      "Test MAE: 208.47280883789062\n",
      "Overall MAE: 132.3151092529297\n",
      "\n",
      "Journal integration\n",
      "\n",
      "Test MAE: 317.6393737792969\n",
      "Overall MAE: 127.59087371826172\n"
     ]
    }
   ],
   "source": [
    "scaler_h1n1 = get_scaler(data = real_epid_h1n1, tr_perc=0.8)\n",
    "x_i, x_j = sp.symbols('x_i x_j')\n",
    "inf_coeff_h1n1 = pd.read_csv(\"./saved_models_optuna/model-real-epid-gkan/real_epid_gkan_7/0/inferred_coeffs_h1n1_sw.csv\")\n",
    "\n",
    "y_true_gkan, y_pred_gkan, y_true_val_gkan, y_pred_val_gkan = eval_real_epid_int(\n",
    "    data = real_epid_h1n1,\n",
    "    countries_dict=countries_dict,\n",
    "    inferred_coeffs=inf_coeff_h1n1,\n",
    "    build_symb_model=build_model_sw,\n",
    "    scaler=scaler_h1n1,\n",
    "    tr_perc=0.9\n",
    ")\n",
    "\n",
    "print(\"\\nMae Eul\\n\")\n",
    "t = real_epid_h1n1.t_sampled\n",
    "epsilon = t[0][1] - t[0][0]\n",
    "\n",
    "y_true_gkan_jrn, y_pred_gkan_jrn, y_true_val_gkan_jrn, y_pred_val_gkan_jrn = eval_real_epid_journal(\n",
    "    data = data_real_epid_orig_h1n1,\n",
    "    countries_dict=countries_dict,\n",
    "    build_symb_model=build_model_sw,\n",
    "    inferred_coeffs=inf_coeff_h1n1,\n",
    "    scaler=scaler_h1n1,\n",
    "    step_size=epsilon,\n",
    "    tr_perc=0.9\n",
    ")\n",
    "\n",
    "all_res_h1n1_traj[\"GKAN + SW\"] = (y_pred_gkan.copy(), \"#a2c8e3\")\n",
    "all_res_h1n1_eul[\"GKAN + SW\"] = (y_pred_gkan_jrn.copy(), \"#a2c8e3\")"
   ]
  },
  {
   "cell_type": "markdown",
   "id": "a7a61df5",
   "metadata": {},
   "source": [
    "### MPNN"
   ]
  },
  {
   "cell_type": "code",
   "execution_count": null,
   "id": "0b1a0cb3",
   "metadata": {},
   "outputs": [
    {
     "name": "stdout",
     "output_type": "stream",
     "text": [
      "Test MAE: 210.56785583496094\n",
      "Overall MAE: 165.40347290039062\n",
      "Journal int\n",
      "\n",
      "Test MAE: 838.7059326171875\n",
      "Overall MAE: 275.66668701171875\n"
     ]
    }
   ],
   "source": [
    "scaler_h1n1 = get_scaler(data = real_epid_h1n1, tr_perc=0.8)\n",
    "x_i, x_j = sp.symbols('x_i x_j')\n",
    "inf_coeff_h1n1 = pd.read_csv(\"./saved_models_optuna/model-real-epid-mpnn/real_epid_mpnn_7/0/inferred_coeffs_h1n1_ts.csv\")\n",
    "\n",
    "y_true_mpnn, y_pred_mpnn, y_true_val_mpnn, y_pred_val_mpnn = eval_real_epid_int(\n",
    "    data = real_epid_h1n1,\n",
    "    countries_dict=countries_dict,\n",
    "    inferred_coeffs=inf_coeff_h1n1,\n",
    "    build_symb_model=build_symb_model_mpnn,\n",
    "    scaler=scaler_h1n1,\n",
    "    tr_perc=0.9\n",
    ")\n",
    "\n",
    "print(\"Mae Eul\\n\")\n",
    "\n",
    "t = real_epid_h1n1.t_sampled\n",
    "epsilon = t[0][1] - t[0][0]\n",
    "    \n",
    "y_true_mpnn_jrn, y_pred_mpnn_jrn, y_true_val_mpnn_jrn, y_pred_val_mpnn_jrn = eval_real_epid_journal(\n",
    "    data = data_real_epid_orig_h1n1,\n",
    "    countries_dict=countries_dict,\n",
    "    build_symb_model=build_symb_model_mpnn,\n",
    "    inferred_coeffs=inf_coeff_h1n1,\n",
    "    scaler=scaler_h1n1,\n",
    "    step_size=epsilon,\n",
    "    tr_perc=0.9,\n",
    ")\n",
    "\n",
    "for country, node_idx in countries_dict.items():\n",
    "    plot_predictions(\n",
    "        y_true=y_true_mpnn_jrn,\n",
    "        y_pred=y_pred_mpnn_jrn,\n",
    "        node_index=node_idx,\n",
    "        show=False,\n",
    "        title = country,\n",
    "        save_path=\"./saved_models_optuna/model-real-epid-mpnn/real_epid_mpnn_7/0/figures_h1n1_journal\"\n",
    "    )\n",
    "\n",
    "all_res_h1n1_traj[\"MPNN + GP\"] = (y_pred_mpnn.copy(), \"#fcb97d\")\n",
    "all_res_h1n1_eul[\"MPNN + GP\"] = (y_pred_mpnn_jrn.copy(), \"#fcb97d\")\n"
   ]
  },
  {
   "cell_type": "markdown",
   "id": "10976e38",
   "metadata": {},
   "source": [
    "### LLC"
   ]
  },
  {
   "cell_type": "code",
   "execution_count": null,
   "id": "3d72934d",
   "metadata": {},
   "outputs": [
    {
     "name": "stdout",
     "output_type": "stream",
     "text": [
      "Test MAE: 567.9987182617188\n",
      "Overall MAE: 168.8201446533203\n",
      "Journal int\n",
      "\n",
      "Test MAE: 677.1369018554688\n",
      "Overall MAE: 236.02980041503906\n"
     ]
    }
   ],
   "source": [
    "scaler_h1n1 = get_scaler(data = real_epid_h1n1, tr_perc=0.8)\n",
    "x_i, x_j = sp.symbols('x_i x_j')\n",
    "inf_coeff_h1n1 = pd.read_csv(\"./saved_models_optuna/model-real-epid-llc/real_epid_llc_3/0/inferred_coeffs_h1n1_new.csv\")\n",
    "\n",
    "y_true_llc, y_pred_llc, y_true_val_llc, y_pred_val_llc = eval_real_epid_int(\n",
    "    data = real_epid_h1n1,\n",
    "    countries_dict=countries_dict,\n",
    "    inferred_coeffs=inf_coeff_h1n1,\n",
    "    build_symb_model=build_symb_model_llc,\n",
    "    scaler=scaler_h1n1,\n",
    "    tr_perc=0.9\n",
    ")\n",
    "\n",
    "\n",
    "print(\"Mae Eul\\n\")\n",
    "\n",
    "t = real_epid_h1n1.t_sampled\n",
    "epsilon = t[0][1] - t[0][0]\n",
    "    \n",
    "y_true_llc_jrn, y_pred_llc_jrn, y_true_val_llc_jrn, y_pred_val_llc_jrn = eval_real_epid_journal(\n",
    "    data = data_real_epid_orig_h1n1,\n",
    "    countries_dict=countries_dict,\n",
    "    build_symb_model=build_symb_model_llc,\n",
    "    inferred_coeffs=inf_coeff_h1n1,\n",
    "    scaler=scaler_h1n1,\n",
    "    step_size=epsilon,\n",
    "    tr_perc=0.9,\n",
    ")\n",
    "\n",
    "all_res_h1n1_traj[\"LLC + GP\"] = (y_pred_llc.copy(), \"#34eb6e\")\n",
    "all_res_h1n1_eul[\"LLC + GP\"] = (y_pred_llc_jrn.copy(), \"#34eb6e\")"
   ]
  },
  {
   "cell_type": "markdown",
   "id": "b28afe8f",
   "metadata": {},
   "source": [
    "## Generalization SARS Data"
   ]
  },
  {
   "cell_type": "code",
   "execution_count": null,
   "id": "61dae203",
   "metadata": {},
   "outputs": [],
   "source": [
    "from datasets.RealEpidemics import RealEpidemics\n",
    "\n",
    "real_epid_sars = RealEpidemics(\n",
    "    root = './data_real_epid_sars_int',\n",
    "    name = 'RealEpid',\n",
    "    predict_deriv=False,\n",
    "    history=1,\n",
    "    horizon=44,\n",
    "    scale=False,\n",
    "    infection_data=\"./data/RealEpidemics/infected_numbers_sars.csv\",\n",
    "    inf_threshold=100\n",
    ")\n",
    "\n",
    "data_real_epid_orig_sars = RealEpidemics(\n",
    "    root = './data_real_epid_sars_orig',\n",
    "    name = 'RealEpid',\n",
    "    predict_deriv=True,\n",
    "    scale=False,\n",
    "    infection_data=\"./data/RealEpidemics/infected_numbers_sars.csv\",\n",
    "    inf_threshold=100\n",
    ")\n",
    "\n",
    "with open('./data_real_epid_sars_int/RealEpid/countries_dict.json', 'r') as f:\n",
    "    countries_dict = json.load(f)\n",
    "    \n",
    "all_res_sars_traj = {}\n",
    "all_res_sars_eul = {}"
   ]
  },
  {
   "cell_type": "markdown",
   "id": "afee6503",
   "metadata": {},
   "source": [
    "### TSS2"
   ]
  },
  {
   "cell_type": "code",
   "execution_count": null,
   "id": "3e06f95f",
   "metadata": {},
   "outputs": [
    {
     "name": "stdout",
     "output_type": "stream",
     "text": [
      "Test MAE: 209.7703094482422\n",
      "Overall MAE: 125.92366027832031\n",
      "Journal Integration\n",
      "\n",
      "Test MAE: 88.49664306640625\n",
      "Overall MAE: 63.0258674621582\n"
     ]
    }
   ],
   "source": [
    "inf_coeff_sars = pd.read_csv(\"./saved_models_optuna/tss/real_epid_covid/inf_coeffs_all_sars.csv\").values\n",
    "\n",
    "y_true_tss, y_pred_tss, y_true_val_tss, y_pred_val_tss = eval_real_epid_int(\n",
    "    data = real_epid_sars,\n",
    "    countries_dict=countries_dict,\n",
    "    inferred_coeffs=inf_coeff_sars,\n",
    "    build_symb_model=build_symb_model_tss,\n",
    "    use_euler=True,\n",
    "    tr_perc=0.9\n",
    ")\n",
    "\n",
    "\n",
    "print(\"Mae Eul\\n\")\n",
    "inf_coeff_sars = pd.read_csv(\"./saved_models_optuna/tss/real_epid_covid/inf_coeffs_test_sars.csv\").values\n",
    "\n",
    "y_true_tss_jrn, y_pred_tss_jrn, y_true_val_tss_jrn, y_pred_val_tss_jrn = eval_real_epid_journal(\n",
    "    data = data_real_epid_orig_sars,\n",
    "    countries_dict=countries_dict,\n",
    "    build_symb_model=build_symb_model_tss,\n",
    "    inferred_coeffs=inf_coeff_sars,\n",
    "    tr_perc=0.9,\n",
    "    step_size=1.0\n",
    ")\n",
    "\n",
    "all_res_sars_traj[\"TP-SINDy\"] = (y_pred_tss.copy(), \"red\")\n",
    "all_res_sars_eul[\"TP-SINDy\"] = (y_pred_tss_jrn.copy(), \"red\")\n"
   ]
  },
  {
   "cell_type": "markdown",
   "id": "f3760587",
   "metadata": {},
   "source": [
    "### GKAN"
   ]
  },
  {
   "cell_type": "code",
   "execution_count": null,
   "id": "12311805",
   "metadata": {},
   "outputs": [
    {
     "name": "stdout",
     "output_type": "stream",
     "text": [
      "Test MAE: 251.791748046875\n",
      "Overall MAE: 116.08383178710938\n",
      "Journal integration\n",
      "\n",
      "Test MAE: 230.1837921142578\n",
      "Overall MAE: 96.35844421386719\n"
     ]
    }
   ],
   "source": [
    "scaler_sars = get_scaler(data = real_epid_sars, tr_perc=0.8)\n",
    "x_i, x_j = sp.symbols('x_i x_j')\n",
    "inf_coeff_sars = pd.read_csv(\"./saved_models_optuna/model-real-epid-gkan/real_epid_gkan_7/0/inferred_coeffs_sars_ts_correct.csv\")\n",
    "\n",
    "y_true_gkan, y_pred_gkan, y_true_val_gkan, y_pred_val_gkan = eval_real_epid_int(\n",
    "    data = real_epid_sars,\n",
    "    countries_dict=countries_dict,\n",
    "    inferred_coeffs=inf_coeff_sars,\n",
    "    build_symb_model=build_symb_model_gkan,\n",
    "    scaler=scaler_sars,\n",
    "    tr_perc=0.9\n",
    ")\n",
    "\n",
    "print(\"Mae Eul\\n\")\n",
    "\n",
    "t = real_epid_sars.t_sampled\n",
    "epsilon = t[0][1] - t[0][0]\n",
    "\n",
    "y_true_gkan_jrn, y_pred_gkan_jrn, y_true_val_gkan_jrn, y_pred_val_gkan_jrn = eval_real_epid_journal(\n",
    "    data = data_real_epid_orig_sars,\n",
    "    countries_dict=countries_dict,\n",
    "    build_symb_model=build_symb_model_gkan,\n",
    "    inferred_coeffs=inf_coeff_sars,\n",
    "    scaler=scaler_sars,\n",
    "    step_size=epsilon,\n",
    "    tr_perc=0.9,\n",
    ")\n",
    "\n",
    "all_res_sars_traj[\"GKAN + GP\"] = (y_pred_gkan.copy(), \"#5fa2d1\")\n",
    "all_res_sars_eul[\"GKAN + GP\"] = (y_pred_gkan_jrn.copy(), \"#5fa2d1\")"
   ]
  },
  {
   "cell_type": "markdown",
   "id": "027638e5",
   "metadata": {},
   "source": [
    "### GKAN SW"
   ]
  },
  {
   "cell_type": "code",
   "execution_count": null,
   "id": "8906400c",
   "metadata": {},
   "outputs": [
    {
     "name": "stdout",
     "output_type": "stream",
     "text": [
      "Test MAE: 171.9755096435547\n",
      "Overall MAE: 126.6747817993164\n",
      "\n",
      "Journal Int\n",
      "\n",
      "Test MAE: 377.4488830566406\n",
      "Overall MAE: 131.77708435058594\n"
     ]
    }
   ],
   "source": [
    "scaler_sars = get_scaler(data = real_epid_sars, tr_perc=0.8)\n",
    "x_i, x_j = sp.symbols('x_i x_j')\n",
    "inf_coeff_sars = pd.read_csv(\"./saved_models_optuna/model-real-epid-gkan/real_epid_gkan_7/0/inferred_coeffs_sars_sw.csv\")\n",
    "\n",
    "y_true_gkan, y_pred_gkan, y_true_val_gkan, y_pred_val_gkan = eval_real_epid_int(\n",
    "    data = real_epid_sars,\n",
    "    countries_dict=countries_dict,\n",
    "    inferred_coeffs=inf_coeff_sars,\n",
    "    build_symb_model=build_model_sw,\n",
    "    scaler=scaler_sars,\n",
    "    tr_perc=0.9\n",
    ")\n",
    "\n",
    "print(\"Mae Eul\\n\")\n",
    "\n",
    "t = real_epid_sars.t_sampled\n",
    "epsilon = t[0][1] - t[0][0]\n",
    "\n",
    "y_true_gkan_jrn, y_pred_gkan_jrn, y_true_val_gkan_jrn, y_pred_val_gkan_jrn = eval_real_epid_journal(\n",
    "    data = data_real_epid_orig_sars,\n",
    "    countries_dict=countries_dict,\n",
    "    build_symb_model=build_model_sw,\n",
    "    inferred_coeffs=inf_coeff_sars,\n",
    "    scaler=scaler_sars,\n",
    "    step_size=epsilon,\n",
    "    tr_perc=0.9\n",
    ")\n",
    "\n",
    "all_res_sars_traj[\"GKAN + SW\"] = (y_pred_gkan.copy(), \"#a2c8e3\")\n",
    "all_res_sars_eul[\"GKAN + SW\"] = (y_pred_gkan_jrn.copy(), \"#a2c8e3\")"
   ]
  },
  {
   "cell_type": "markdown",
   "id": "b5926ba1",
   "metadata": {},
   "source": [
    "### MPNN"
   ]
  },
  {
   "cell_type": "code",
   "execution_count": null,
   "id": "ae6e00ee",
   "metadata": {},
   "outputs": [
    {
     "name": "stdout",
     "output_type": "stream",
     "text": [
      "Test MAE: 193.8373260498047\n",
      "Overall MAE: 130.71571350097656\n",
      "Journal int\n",
      "\n",
      "Test MAE: 383.8144226074219\n",
      "Overall MAE: 125.98844909667969\n"
     ]
    }
   ],
   "source": [
    "scaler_sars = get_scaler(data = real_epid_sars, tr_perc=0.8)\n",
    "x_i, x_j = sp.symbols('x_i x_j')\n",
    "inf_coeff_sars = pd.read_csv(\"./saved_models_optuna/model-real-epid-mpnn/real_epid_mpnn_7/0/inferred_coeffs_sars_ts.csv\")\n",
    "\n",
    "y_true_mpnn, y_pred_mpnn, y_true_val_mpnn, y_pred_val_mpnn = eval_real_epid_int(\n",
    "    data = real_epid_sars,\n",
    "    countries_dict=countries_dict,\n",
    "    inferred_coeffs=inf_coeff_sars,\n",
    "    build_symb_model=build_symb_model_mpnn,\n",
    "    scaler=scaler_sars,\n",
    "    tr_perc=0.9\n",
    ")\n",
    "\n",
    "print(\"Mae Eul\\n\")\n",
    "\n",
    "t = real_epid_sars.t_sampled\n",
    "epsilon = t[0][1] - t[0][0]\n",
    "    \n",
    "y_true_mpnn_jrn, y_pred_mpnn_jrn, y_true_val_mpnn_jrn, y_pred_val_mpnn_jrn = eval_real_epid_journal(\n",
    "    data = data_real_epid_orig_sars,\n",
    "    countries_dict=countries_dict,\n",
    "    build_symb_model=build_symb_model_mpnn,\n",
    "    inferred_coeffs=inf_coeff_sars,\n",
    "    scaler=scaler_sars,\n",
    "    step_size=epsilon,\n",
    "    tr_perc=0.9,\n",
    ")\n",
    "\n",
    "    \n",
    "all_res_sars_traj[\"MPNN + GP\"] = (y_pred_mpnn.copy(), \"#fcb97d\")\n",
    "all_res_sars_eul[\"MPNN + GP\"] = (y_pred_mpnn_jrn.copy(), \"#fcb97d\")"
   ]
  },
  {
   "cell_type": "markdown",
   "id": "81dad070",
   "metadata": {},
   "source": [
    "### LLC"
   ]
  },
  {
   "cell_type": "code",
   "execution_count": null,
   "id": "bbbf81fb",
   "metadata": {},
   "outputs": [
    {
     "name": "stdout",
     "output_type": "stream",
     "text": [
      "Test MAE: 137.4945831298828\n",
      "Overall MAE: 156.94244384765625\n",
      "Journal int\n",
      "\n",
      "Test MAE: 495.01214599609375\n",
      "Overall MAE: 154.96817016601562\n"
     ]
    }
   ],
   "source": [
    "scaler_sars = get_scaler(data = real_epid_sars, tr_perc=0.8)\n",
    "x_i, x_j = sp.symbols('x_i x_j')\n",
    "inf_coeff_sars = pd.read_csv(\"./saved_models_optuna/model-real-epid-llc/real_epid_llc_3/0/inferred_coeffs_sars_new.csv\")\n",
    "\n",
    "y_true_llc, y_pred_llc, y_true_val_llc, y_pred_val_llc = eval_real_epid_int(\n",
    "    data = real_epid_sars,\n",
    "    countries_dict=countries_dict,\n",
    "    inferred_coeffs=inf_coeff_sars,\n",
    "    build_symb_model=build_symb_model_llc,\n",
    "    scaler=scaler_sars,\n",
    "    tr_perc=0.9\n",
    ")\n",
    "\n",
    "\n",
    "print(\"Mae Eul\\n\")\n",
    "\n",
    "t = real_epid_sars.t_sampled\n",
    "epsilon = t[0][1] - t[0][0]\n",
    "    \n",
    "y_true_llc_jrn, y_pred_llc_jrn, y_true_val_llc_jrn, y_pred_val_llc_jrn = eval_real_epid_journal(\n",
    "    data = data_real_epid_orig_sars,\n",
    "    countries_dict=countries_dict,\n",
    "    build_symb_model=build_symb_model_llc,\n",
    "    inferred_coeffs=inf_coeff_sars,\n",
    "    scaler=scaler_sars,\n",
    "    step_size=epsilon,\n",
    "    tr_perc=0.9,\n",
    ")\n",
    "\n",
    "all_res_sars_traj[\"LLC + GP\"] = (y_pred_llc.copy(), \"#34eb6e\")\n",
    "all_res_sars_eul[\"LLC + GP\"] = (y_pred_llc_jrn.copy(), \"#34eb6e\")"
   ]
  }
 ],
 "metadata": {
  "kernelspec": {
   "display_name": "myenv",
   "language": "python",
   "name": "python3"
  },
  "language_info": {
   "name": "python",
   "version": "3.12.0"
  }
 },
 "nbformat": 4,
 "nbformat_minor": 5
}
