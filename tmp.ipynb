{
 "cells": [
  {
   "cell_type": "code",
   "execution_count": 1,
   "id": "2556c69d",
   "metadata": {},
   "outputs": [
    {
     "name": "stdout",
     "output_type": "stream",
     "text": [
      "tensor(2.8342)\n"
     ]
    }
   ],
   "source": [
    "from datasets.TrafficTmp import TrafficForecastingDataset\n",
    "import torch\n",
    "import numpy as np\n",
    "\n",
    "rng = np.random.default_rng(seed=42)\n",
    "\n",
    "dataset = TrafficForecastingDataset(\n",
    "    root = './data',\n",
    "    name = 'metrla2',\n",
    "    num_samples=lambda data_len: data_len // 3,\n",
    "    min_sample_distance=1,\n",
    "    rng=rng\n",
    ")\n",
    "\n",
    "ids = np.arange(len(dataset))\n",
    "\n",
    "# TR-TS split\n",
    "tmp = int(len(ids) * 0.1)\n",
    "ts_ids = ids[-tmp:]\n",
    "tr_ids = ids[:-tmp]\n",
    "# TR-VL split\n",
    "tmp = int(len(tr_ids) * 0.1)\n",
    "vl_ids = tr_ids[-tmp:]\n",
    "tr_ids = tr_ids[:-tmp]\n",
    "\n",
    "train_dataset = dataset[tr_ids]\n",
    "valid_dataset = dataset[vl_ids]\n",
    "test_dataset  = dataset[ts_ids] \n",
    "\n",
    "all_test_x = torch.stack([data.x for data in test_dataset], dim=0)  # (ts_ids, num_nodes, 1)\n",
    "lb_base = all_test_x.diff(dim=0).abs().mean()   # Computes mean of |x[i+1] - x[i]| over time dimension\n",
    "\n",
    "print(lb_base)"
   ]
  },
  {
   "cell_type": "code",
   "execution_count": 2,
   "id": "d2cd3f5a",
   "metadata": {},
   "outputs": [
    {
     "name": "stderr",
     "output_type": "stream",
     "text": [
      "/home/rcappi/.conda/envs/my_env/lib/python3.12/site-packages/juliacall/__init__.py:61: UserWarning: torch was imported before juliacall. This may cause a segfault. To avoid this, import juliacall before importing torch. For updates, see https://github.com/pytorch/pytorch/issues/78829.\n",
      "  warnings.warn(\n"
     ]
    },
    {
     "name": "stdout",
     "output_type": "stream",
     "text": [
      "Detected IPython. Loading juliacall extension. See https://juliapy.github.io/PythonCall.jl/stable/compat/#IPython\n"
     ]
    },
    {
     "data": {
      "text/plain": [
       "2.8345751762390137"
      ]
     },
     "execution_count": 2,
     "metadata": {},
     "output_type": "execute_result"
    }
   ],
   "source": [
    "from train_and_eval import eval_model\n",
    "from models.baseline.baseline import LB_ODE\n",
    "\n",
    "eval_model(\n",
    "    model=LB_ODE(model_path='./saved_models_optuna/lb_base'),\n",
    "    valid_data=test_dataset,\n",
    "    criterion=torch.nn.L1Loss(),\n",
    "    scaler = None\n",
    ")"
   ]
  }
 ],
 "metadata": {
  "kernelspec": {
   "display_name": "my_env",
   "language": "python",
   "name": "python3"
  },
  "language_info": {
   "codemirror_mode": {
    "name": "ipython",
    "version": 3
   },
   "file_extension": ".py",
   "mimetype": "text/x-python",
   "name": "python",
   "nbconvert_exporter": "python",
   "pygments_lexer": "ipython3",
   "version": "3.12.0"
  }
 },
 "nbformat": 4,
 "nbformat_minor": 5
}
