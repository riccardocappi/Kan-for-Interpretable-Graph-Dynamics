{
 "cells": [
  {
   "cell_type": "code",
   "execution_count": 1,
   "metadata": {},
   "outputs": [],
   "source": [
    "from utils.utils import create_datasets, load_config, get_conf\n",
    "import networkx as nx\n",
    "import numpy as np"
   ]
  },
  {
   "cell_type": "code",
   "execution_count": 2,
   "metadata": {},
   "outputs": [
    {
     "name": "stderr",
     "output_type": "stream",
     "text": [
      "Processing...\n",
      "100%|██████████| 499/499 [00:00<00:00, 62068.73it/s]\n",
      "Done!\n",
      "c:\\Users\\ricca\\OneDrive\\Desktop\\VS Code Projects\\KAN for Interpretable Graph Dynamics\\.venv\\Lib\\site-packages\\torch_geometric\\data\\dataset.py:208: FutureWarning: You are using `torch.load` with `weights_only=False` (the current default value), which uses the default pickle module implicitly. It is possible to construct malicious pickle data which will execute arbitrary code during unpickling (See https://github.com/pytorch/pytorch/blob/main/SECURITY.md#untrusted-models for more details). In a future release, the default value for `weights_only` will be flipped to `True`. This limits the functions that could be executed during unpickling. Arbitrary objects will no longer be allowed to be loaded via this mode unless they are explicitly allowlisted by the user via `torch.serialization.add_safe_globals`. We recommend you start setting `weights_only=True` for any use case where you don't have full control of the loaded file. Please open an issue on GitHub for any issues related to this experimental feature.\n",
      "  if osp.exists(f) and torch.load(f) != _repr(self.pre_transform):\n",
      "c:\\Users\\ricca\\OneDrive\\Desktop\\VS Code Projects\\KAN for Interpretable Graph Dynamics\\.venv\\Lib\\site-packages\\torch_geometric\\data\\dataset.py:216: FutureWarning: You are using `torch.load` with `weights_only=False` (the current default value), which uses the default pickle module implicitly. It is possible to construct malicious pickle data which will execute arbitrary code during unpickling (See https://github.com/pytorch/pytorch/blob/main/SECURITY.md#untrusted-models for more details). In a future release, the default value for `weights_only` will be flipped to `True`. This limits the functions that could be executed during unpickling. Arbitrary objects will no longer be allowed to be loaded via this mode unless they are explicitly allowlisted by the user via `torch.serialization.add_safe_globals`. We recommend you start setting `weights_only=True` for any use case where you don't have full control of the loaded file. Please open an issue on GitHub for any issues related to this experimental feature.\n",
      "  if osp.exists(f) and torch.load(f) != _repr(self.pre_filter):\n",
      "Processing...\n",
      "100%|██████████| 249/249 [00:00<00:00, 197239.22it/s]\n",
      "Done!\n",
      "Processing...\n",
      "100%|██████████| 249/249 [00:00<00:00, 157809.26it/s]\n",
      "Done!\n"
     ]
    }
   ],
   "source": [
    "G = nx.grid_2d_graph(7, 10)\n",
    "config = load_config('./configs/config_epidemics.yml')\n",
    "rng = np.random.default_rng(seed=config.get(\"seed\", 42))\n",
    "root = config[\"root\"]\n",
    "name = config[\"name\"]\n",
    "conf = get_conf(config, None, rng)\n",
    "\n",
    "\n",
    "train_dataset, valid_dataset, test_dataset = create_datasets(conf, root=root, name=name, graph=G)"
   ]
  }
 ],
 "metadata": {
  "kernelspec": {
   "display_name": ".venv",
   "language": "python",
   "name": "python3"
  },
  "language_info": {
   "codemirror_mode": {
    "name": "ipython",
    "version": 3
   },
   "file_extension": ".py",
   "mimetype": "text/x-python",
   "name": "python",
   "nbconvert_exporter": "python",
   "pygments_lexer": "ipython3",
   "version": "3.12.8"
  }
 },
 "nbformat": 4,
 "nbformat_minor": 2
}
