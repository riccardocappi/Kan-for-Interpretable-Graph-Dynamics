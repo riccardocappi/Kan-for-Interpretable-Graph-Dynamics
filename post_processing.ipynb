{
 "cells": [
  {
   "cell_type": "markdown",
   "metadata": {},
   "source": [
    "## Dynamics\n",
    "\n",
    "Dynamics | $\\partial_{\\tau}x_i=$ |\n",
    "| :--------: | :-------: |\n",
    "Biochemical | $F -B x_i - R \\sum_j A_{ij} x_i x_j$ |\n",
    "Epidemics | $-B x_i + R \\sum_j A_{ij} (1-x_i)x_j$ |\n",
    "Neuronal | $-B x_i + C \\tanh x_i + R \\sum_j A_{ij} \\tanh x_j$ |\n",
    "Population | $-B x_i^{b} + R \\sum_j A_{ij} x_j^a$ |\n",
    "Synchronization | $\\omega_i + R \\sum_j A_{ij} \\sin(x_j-x_i)$ |"
   ]
  },
  {
   "cell_type": "code",
   "execution_count": 1,
   "metadata": {},
   "outputs": [],
   "source": [
    "%load_ext autoreload\n",
    "%autoreload 2"
   ]
  },
  {
   "cell_type": "markdown",
   "metadata": {},
   "source": [
    "## Test Experiments"
   ]
  },
  {
   "cell_type": "code",
   "execution_count": 2,
   "metadata": {},
   "outputs": [
    {
     "name": "stdout",
     "output_type": "stream",
     "text": [
      "Detected IPython. Loading juliacall extension. See https://juliapy.github.io/PythonCall.jl/stable/compat/#IPython\n"
     ]
    },
    {
     "name": "stderr",
     "output_type": "stream",
     "text": [
      "/home/rcappi/.conda/envs/my_env/lib/python3.12/site-packages/tqdm/auto.py:21: TqdmWarning: IProgress not found. Please update jupyter and ipywidgets. See https://ipywidgets.readthedocs.io/en/stable/user_install.html\n",
      "  from .autonotebook import tqdm as notebook_tqdm\n"
     ]
    }
   ],
   "source": [
    "from utils.utils import *\n",
    "import optuna\n",
    "from optuna.storages import JournalStorage\n",
    "from optuna.storages.journal import JournalFileBackend\n",
    "from experiments.experiments_gkan import ExperimentsGKAN\n",
    "from experiments.experiments_mpnn import ExperimentsMPNN\n",
    "from train_and_eval import eval_model\n",
    "\n",
    "storage = JournalStorage(JournalFileBackend(\"optuna_journal_storage.log\"))"
   ]
  },
  {
   "cell_type": "markdown",
   "metadata": {},
   "source": [
    "### Kuramoto MPNN"
   ]
  },
  {
   "cell_type": "code",
   "execution_count": 49,
   "metadata": {},
   "outputs": [],
   "source": [
    "optuna.delete_study(study_name=\"model-kuramoto-gkan-test-new-dataset\", storage=storage)"
   ]
  },
  {
   "cell_type": "code",
   "execution_count": 55,
   "metadata": {},
   "outputs": [
    {
     "name": "stderr",
     "output_type": "stream",
     "text": [
      "Processing...\n"
     ]
    },
    {
     "name": "stdout",
     "output_type": "stream",
     "text": [
      "Building the dataset...\n"
     ]
    },
    {
     "name": "stderr",
     "output_type": "stream",
     "text": [
      "Done!\n"
     ]
    }
   ],
   "source": [
    "config_path = './configs/config_ic1/config_kuramoto.yml'\n",
    "config = load_config(config_path)\n",
    "config['epochs'] = 10\n",
    "# config['predict_deriv'] = True\n",
    "# config['horizon'] = 3\n",
    "#config[\"device\"] = \"cuda\"\n",
    "#config[\"data_folder\"] = \"./data_noise\"\n",
    "#config[\"noise_scale\"] = 0.01 \n",
    "\n",
    "exp = ExperimentsGKAN(\n",
    "    config=config,\n",
    "    n_trials=1,\n",
    "    study_name='test-new-dataset',\n",
    "    process_id=0,\n",
    ")"
   ]
  },
  {
   "cell_type": "code",
   "execution_count": 56,
   "metadata": {},
   "outputs": [
    {
     "name": "stdout",
     "output_type": "stream",
     "text": [
      "8.400697708129883\n",
      "45\n"
     ]
    }
   ],
   "source": [
    "print(exp.training_set.raw_data_sampled.max().item())\n",
    "print(len(exp.training_set))"
   ]
  },
  {
   "cell_type": "code",
   "execution_count": 54,
   "metadata": {},
   "outputs": [
    {
     "name": "stderr",
     "output_type": "stream",
     "text": [
      "[I 2025-05-20 16:36:13,863] Using an existing study with name 'model-kuramoto-gkan-test-new-dataset' instead of creating a new one.\n"
     ]
    },
    {
     "name": "stdout",
     "output_type": "stream",
     "text": [
      "Trial 1: num params: 56\n"
     ]
    },
    {
     "name": "stderr",
     "output_type": "stream",
     "text": [
      "[I 2025-05-20 16:37:13,822] Trial 1 finished with value: 0.0040297191590070724 and parameters: {'lr': 0.010218298790904523, 'lamb': 1.0, 'batch_size': 16, 'use_orig_reg': True, 'lamb_g_net': 7.748623132646927e-05, 'lamb_h_net': 0.0037610379079215973, 'grid_size_g_net': 9, 'spline_order_g_net': 1, 'range_limit_g_net': 7, 'mu_1_g_net': 1.0, 'mu_2_g_net': 0.8, 'hidden_dim_g_net': 1, 'grid_size_h_net': 7, 'spline_order_h_net': 1, 'range_limit_h_net': 10, 'mu_1_h_net': 1.0, 'mu_2_h_net': 0.6, 'hidden_dim_h_net': 1}. Best is trial 1 with value: 0.0040297191590070724.\n"
     ]
    }
   ],
   "source": [
    "exp.epochs = 10\n",
    "exp.run()"
   ]
  },
  {
   "cell_type": "markdown",
   "metadata": {},
   "source": [
    "### Lower bound"
   ]
  },
  {
   "cell_type": "code",
   "execution_count": 3,
   "metadata": {},
   "outputs": [],
   "source": [
    "import torch\n",
    "from models.utils.MPNN import MPNN\n",
    "from models.baseline.MPNN_ODE import MPNN_ODE"
   ]
  },
  {
   "cell_type": "code",
   "execution_count": 8,
   "metadata": {},
   "outputs": [],
   "source": [
    "g_symb = lambda x: torch.sin(x[:, 1] - x[:, 0]).unsqueeze(-1)\n",
    "h_symb = lambda x: 2.0 + 0.5*x[:, 1].unsqueeze(-1)\n",
    "\n",
    "symb = MPNN(\n",
    "    g_net = g_symb,\n",
    "    h_net = h_symb, \n",
    "    message_passing=True,\n",
    "    include_time=False\n",
    ")\n",
    "\n",
    "symb_ode = MPNN_ODE(\n",
    "    conv=symb,\n",
    "    model_path=\"./saved_models_optuna/symb_kuramoto\",\n",
    "    adjoint=True,\n",
    "    integration_method=\"dopri5\"\n",
    ")"
   ]
  },
  {
   "cell_type": "code",
   "execution_count": 9,
   "metadata": {},
   "outputs": [],
   "source": [
    "from train_and_eval import eval_model\n",
    "\n",
    "symb_valid_loss = eval_model(\n",
    "    model=symb_ode,\n",
    "    valid_data=exp.valid_set,\n",
    "    criterion=torch.nn.L1Loss(),\n",
    "    scaler=exp.scaler,\n",
    "    inverse_scale=False\n",
    ")"
   ]
  },
  {
   "cell_type": "code",
   "execution_count": 10,
   "metadata": {},
   "outputs": [
    {
     "name": "stdout",
     "output_type": "stream",
     "text": [
      "0.04710772633552551\n"
     ]
    }
   ],
   "source": [
    "print(symb_valid_loss)"
   ]
  },
  {
   "cell_type": "markdown",
   "metadata": {},
   "source": [
    "### Epidemics MPNN"
   ]
  },
  {
   "cell_type": "code",
   "execution_count": 10,
   "metadata": {},
   "outputs": [],
   "source": [
    "optuna.delete_study(study_name=\"model-epidemics-mpnn-test-epidemics\", storage=storage)"
   ]
  },
  {
   "cell_type": "code",
   "execution_count": 2,
   "metadata": {},
   "outputs": [
    {
     "name": "stderr",
     "output_type": "stream",
     "text": [
      "Processing...\n"
     ]
    },
    {
     "name": "stdout",
     "output_type": "stream",
     "text": [
      "Building the dataset...\n"
     ]
    },
    {
     "name": "stderr",
     "output_type": "stream",
     "text": [
      "Done!\n"
     ]
    }
   ],
   "source": [
    "config_path = './configs/config_pred_deriv/config_ic1/config_epidemics.yml'\n",
    "config = load_config(config_path)\n",
    "config['epochs'] = 1\n",
    "\n",
    "exp = ExperimentsGKAN(\n",
    "    config=config,\n",
    "    n_trials=1,\n",
    "    study_name='test-epidemics',\n",
    "    process_id=0,\n",
    ")"
   ]
  },
  {
   "cell_type": "code",
   "execution_count": 3,
   "metadata": {},
   "outputs": [
    {
     "name": "stderr",
     "output_type": "stream",
     "text": [
      "[I 2025-05-20 09:23:16,981] Using an existing study with name 'model-epidemics-gkan-test-epidemics' instead of creating a new one.\n"
     ]
    },
    {
     "name": "stdout",
     "output_type": "stream",
     "text": [
      "Trial 1: num params: 53\n"
     ]
    },
    {
     "name": "stderr",
     "output_type": "stream",
     "text": [
      "[I 2025-05-20 09:23:19,576] Trial 1 finished with value: 0.1048692986369133 and parameters: {'lr': 0.0035492748369300694, 'lamb': 1.0, 'batch_size': 16, 'use_orig_reg': True, 'lamb_g_net': 0.00011574527508336659, 'lamb_h_net': 0.008843998549336022, 'grid_size_g_net': 6, 'spline_order_g_net': 1, 'range_limit_g_net': 2, 'mu_1_g_net': 0.7, 'mu_2_g_net': 0.9, 'hidden_dim_g_net': 1, 'grid_size_h_net': 10, 'spline_order_h_net': 1, 'range_limit_h_net': 3, 'mu_1_h_net': 0.9, 'mu_2_h_net': 0.5, 'hidden_dim_h_net': 1}. Best is trial 0 with value: 2.83736389974365e-05.\n"
     ]
    }
   ],
   "source": [
    "exp.epochs = 10\n",
    "exp.run()"
   ]
  },
  {
   "cell_type": "code",
   "execution_count": 13,
   "metadata": {},
   "outputs": [
    {
     "name": "stderr",
     "output_type": "stream",
     "text": [
      "/home/rcappi/.conda/envs/my_env/lib/python3.12/site-packages/pysr/sr.py:2774: UserWarning: Note: it looks like you are running in Jupyter. The progress bar will be turned off.\n",
      "  warnings.warn(\n",
      "/home/rcappi/.conda/envs/my_env/lib/python3.12/site-packages/pysr/sr.py:2774: UserWarning: Note: it looks like you are running in Jupyter. The progress bar will be turned off.\n",
      "  warnings.warn(\n"
     ]
    }
   ],
   "source": [
    "model_path_mpnn = './saved_models_optuna/model-epidemics-mpnn/test-epidemics/0/mpnn'\n",
    "\n",
    "pysr_model = lambda : get_pysr_model(\n",
    "    model_selection=\"score\",\n",
    "    n_iterations=150\n",
    ")\n",
    "\n",
    "mpnn_symb = fit_mpnn(\n",
    "    model_path=model_path_mpnn,\n",
    "    pysr_model=pysr_model,\n",
    "    sample_size=9000,\n",
    "    message_passing=False\n",
    ")"
   ]
  },
  {
   "cell_type": "code",
   "execution_count": 14,
   "metadata": {},
   "outputs": [
    {
     "data": {
      "text/latex": [
       "$\\displaystyle \\sum_{j}( 0.116708815*exp(-x_i*exp(x_j))) - 0.15959646 \\tanh{\\left(\\log{\\left(x_{i} \\right)} \\right)}$"
      ],
      "text/plain": [
       "\\sum_{j}( 0.116708815*exp(-x_i*exp(x_j))) - 0.15959646*tanh(log(x_i))"
      ]
     },
     "execution_count": 14,
     "metadata": {},
     "output_type": "execute_result"
    }
   ],
   "source": [
    "mpnn_symb"
   ]
  },
  {
   "cell_type": "markdown",
   "metadata": {},
   "source": [
    "### Neuronal MPNN"
   ]
  },
  {
   "cell_type": "code",
   "execution_count": 11,
   "metadata": {},
   "outputs": [],
   "source": [
    "optuna.delete_study(study_name=\"model-neuronal-mpnn-test-neuronal\", storage=storage)"
   ]
  },
  {
   "cell_type": "code",
   "execution_count": 9,
   "metadata": {},
   "outputs": [],
   "source": [
    "config_path = './configs/config_pred_deriv/config_ic5/config_neuronal.yml'\n",
    "config = load_config(config_path)\n",
    "config['epochs'] = 10\n",
    "\n",
    "exp = ExperimentsGKAN(\n",
    "    config=config,\n",
    "    n_trials=1,\n",
    "    study_name='test-neuronal',\n",
    "    process_id=0,\n",
    ")"
   ]
  },
  {
   "cell_type": "code",
   "execution_count": 10,
   "metadata": {},
   "outputs": [
    {
     "name": "stdout",
     "output_type": "stream",
     "text": [
      "240\n"
     ]
    }
   ],
   "source": [
    "print(len(exp.training_set))"
   ]
  },
  {
   "cell_type": "code",
   "execution_count": 13,
   "metadata": {},
   "outputs": [
    {
     "name": "stderr",
     "output_type": "stream",
     "text": [
      "[I 2025-05-09 17:07:45,709] A new study created in Journal with name: model-neuronal-mpnn-test-neuronal\n"
     ]
    },
    {
     "name": "stdout",
     "output_type": "stream",
     "text": [
      "Epoch: 0 \t Training loss: 0.15600 \t Val Loss: 0.09005 \t Tot Loss: 0.15600\n",
      "Epoch: 1 \t Training loss: 0.05407 \t Val Loss: 0.07933 \t Tot Loss: 0.05407\n",
      "Epoch: 2 \t Training loss: 0.05492 \t Val Loss: 0.00986 \t Tot Loss: 0.05492\n",
      "Epoch: 3 \t Training loss: 0.02307 \t Val Loss: 0.02946 \t Tot Loss: 0.02307\n",
      "Epoch: 4 \t Training loss: 0.02772 \t Val Loss: 0.00445 \t Tot Loss: 0.02772\n",
      "Epoch: 5 \t Training loss: 0.01449 \t Val Loss: 0.02453 \t Tot Loss: 0.01449\n",
      "Epoch: 6 \t Training loss: 0.01730 \t Val Loss: 0.01004 \t Tot Loss: 0.01730\n",
      "Epoch: 7 \t Training loss: 0.00799 \t Val Loss: 0.00930 \t Tot Loss: 0.00799\n",
      "Epoch: 8 \t Training loss: 0.01102 \t Val Loss: 0.00358 \t Tot Loss: 0.01102\n",
      "Epoch: 9 \t Training loss: 0.00579 \t Val Loss: 0.01125 \t Tot Loss: 0.00579\n",
      "\n",
      "Loading best model found at epoch 8 with val loss 0.003580222139135003\n",
      "Test loss: 0.004640685394406319\n"
     ]
    },
    {
     "name": "stderr",
     "output_type": "stream",
     "text": [
      "[I 2025-05-09 17:08:23,447] Trial 0 finished with value: 0.003580222139135003 and parameters: {'lr': 0.022198182869050127, 'lamb': 0.0, 'batch_size': 32, 'n_hidden_layers_g_net': 2, 'hidden_dims_g_net': 32, 'af_g_net': 'softplus', 'drop_p_g_net': 0.0005185973727913854, 'n_hidden_layers_h_net': 1, 'hidden_dims_h_net': 40, 'af_h_net': 'tanh', 'drop_p_h_net': 0.018136511652483187}. Best is trial 0 with value: 0.003580222139135003.\n"
     ]
    }
   ],
   "source": [
    "exp.run()"
   ]
  },
  {
   "cell_type": "code",
   "execution_count": 5,
   "metadata": {},
   "outputs": [
    {
     "name": "stderr",
     "output_type": "stream",
     "text": [
      "/home/rcappi/.conda/envs/my_env/lib/python3.12/site-packages/pysr/sr.py:2774: UserWarning: Note: it looks like you are running in Jupyter. The progress bar will be turned off.\n",
      "  warnings.warn(\n",
      "/home/rcappi/.conda/envs/my_env/lib/python3.12/site-packages/pysr/sr.py:2774: UserWarning: Note: it looks like you are running in Jupyter. The progress bar will be turned off.\n",
      "  warnings.warn(\n"
     ]
    }
   ],
   "source": [
    "model_path_mpnn = './saved_models_optuna/model-neuronal-mpnn/test-neuronal/0/mpnn'\n",
    "\n",
    "pysr_model = lambda : get_pysr_model(\n",
    "    model_selection=\"score\",\n",
    "    n_iterations=150\n",
    ")\n",
    "\n",
    "mpnn_symb = fit_mpnn(\n",
    "    model_path=model_path_mpnn,\n",
    "    pysr_model=pysr_model,\n",
    "    sample_size=9000,\n",
    "    message_passing=False\n",
    ")"
   ]
  },
  {
   "cell_type": "code",
   "execution_count": 6,
   "metadata": {},
   "outputs": [
    {
     "data": {
      "text/latex": [
       "$\\displaystyle \\sum_{j}( log(log(tanh(x_j/x_i) + 1) + 1)) + \\frac{0.14861982}{\\tanh{\\left(e^{x_{i}} \\right)}}$"
      ],
      "text/plain": [
       "\\sum_{j}( log(log(tanh(x_j/x_i) + 1) + 1)) + 0.14861982/tanh(exp(x_i))"
      ]
     },
     "execution_count": 6,
     "metadata": {},
     "output_type": "execute_result"
    }
   ],
   "source": [
    "mpnn_symb\n"
   ]
  },
  {
   "cell_type": "code",
   "execution_count": 18,
   "metadata": {},
   "outputs": [],
   "source": [
    "config_path = './configs/config_neuronal.yml'\n",
    "config = load_config(config_path)\n",
    "config['epochs'] = 5\n",
    "\n",
    "exp = ExperimentsGKAN(\n",
    "    config=config,\n",
    "    n_trials=1,\n",
    "    study_name='test-neuronal',\n",
    "    process_id=0,\n",
    ")"
   ]
  },
  {
   "cell_type": "code",
   "execution_count": 19,
   "metadata": {},
   "outputs": [
    {
     "name": "stderr",
     "output_type": "stream",
     "text": [
      "[I 2025-05-09 14:21:16,405] Using an existing study with name 'model-neuronal-gkan-test-neuronal' instead of creating a new one.\n"
     ]
    },
    {
     "name": "stdout",
     "output_type": "stream",
     "text": [
      "Epoch: 0 \t Training loss: 0.00051 \t Val Loss: 0.00028 \t Tot Loss: 0.00543\n",
      "Epoch: 1 \t Training loss: 0.00028 \t Val Loss: 0.00014 \t Tot Loss: 0.00507\n",
      "Epoch: 2 \t Training loss: 0.00016 \t Val Loss: 0.00007 \t Tot Loss: 0.00483\n",
      "Epoch: 3 \t Training loss: 0.00012 \t Val Loss: 0.00005 \t Tot Loss: 0.00453\n",
      "Epoch: 4 \t Training loss: 0.00011 \t Val Loss: 0.00004 \t Tot Loss: 0.00443\n",
      "\n",
      "Loading best model found at epoch 4 with val loss 4.3011452362407e-05\n",
      "Test loss: 0.000152996537508443\n"
     ]
    },
    {
     "name": "stderr",
     "output_type": "stream",
     "text": [
      "[I 2025-05-09 14:24:39,155] Trial 1 finished with value: 4.3011452362407e-05 and parameters: {'lr': 0.014578887605134958, 'lamb': 1.0, 'batch_size': 32, 'use_orig_reg': True, 'lamb_g_net': 9.722521843140844e-05, 'lamb_h_net': 0.0017345619188380956, 'grid_size_g_net': 9, 'spline_order_g_net': 3, 'range_limit_g_net': 1, 'mu_1_g_net': 0.6, 'mu_2_g_net': 1.0, 'hidden_dim_g_net': 1, 'grid_size_h_net': 7, 'spline_order_h_net': 2, 'range_limit_h_net': 3, 'mu_1_h_net': 1.0, 'mu_2_h_net': 0.7, 'hidden_dim_h_net': 2}. Best is trial 1 with value: 4.3011452362407e-05.\n"
     ]
    }
   ],
   "source": [
    "exp.run()"
   ]
  },
  {
   "cell_type": "markdown",
   "metadata": {},
   "source": [
    "### Biochemical MPNN"
   ]
  },
  {
   "cell_type": "code",
   "execution_count": 14,
   "metadata": {},
   "outputs": [],
   "source": [
    "optuna.delete_study(study_name=\"model-biochemical-mpnn-test-biochemical\", storage=storage)"
   ]
  },
  {
   "cell_type": "code",
   "execution_count": 24,
   "metadata": {},
   "outputs": [],
   "source": [
    "config_path = './configs/config_ic1/config_biochemical_mpnn.yml'\n",
    "config = load_config(config_path)\n",
    "config['epochs'] = 10\n",
    "\n",
    "exp = ExperimentsMPNN(\n",
    "    config=config,\n",
    "    n_trials=1,\n",
    "    study_name='test-biochemical',\n",
    "    process_id=0,\n",
    ")"
   ]
  },
  {
   "cell_type": "code",
   "execution_count": 26,
   "metadata": {},
   "outputs": [
    {
     "data": {
      "text/plain": [
       "1.0975916385650635"
      ]
     },
     "execution_count": 26,
     "metadata": {},
     "output_type": "execute_result"
    }
   ],
   "source": [
    "exp.training_set.raw_data_sampled.max().item()"
   ]
  },
  {
   "cell_type": "code",
   "execution_count": 17,
   "metadata": {},
   "outputs": [
    {
     "data": {
      "text/plain": [
       "[<matplotlib.lines.Line2D at 0x7f764c404560>]"
      ]
     },
     "execution_count": 17,
     "metadata": {},
     "output_type": "execute_result"
    },
    {
     "data": {
      "image/png": "[encoded data removed]",
      "text/plain": [
       "<Figure size 640x480 with 1 Axes>"
      ]
     },
     "metadata": {},
     "output_type": "display_data"
    }
   ],
   "source": [
    "import matplotlib.pyplot as plt\n",
    "data = exp.training_set.raw_data_sampled.detach().cpu().numpy()\n",
    "\n",
    "plt.plot(data[0, :, 65, :])"
   ]
  },
  {
   "cell_type": "code",
   "execution_count": 16,
   "metadata": {},
   "outputs": [
    {
     "name": "stderr",
     "output_type": "stream",
     "text": [
      "[I 2025-05-09 17:08:40,883] A new study created in Journal with name: model-biochemical-mpnn-test-biochemical\n"
     ]
    },
    {
     "name": "stdout",
     "output_type": "stream",
     "text": [
      "Epoch: 0 \t Training loss: 0.01061 \t Val Loss: 0.00656 \t Tot Loss: 0.01061\n",
      "Epoch: 1 \t Training loss: 0.00874 \t Val Loss: 0.00552 \t Tot Loss: 0.00874\n",
      "Epoch: 2 \t Training loss: 0.00779 \t Val Loss: 0.00526 \t Tot Loss: 0.00779\n",
      "Epoch: 3 \t Training loss: 0.00718 \t Val Loss: 0.00465 \t Tot Loss: 0.00718\n",
      "Epoch: 4 \t Training loss: 0.00654 \t Val Loss: 0.00416 \t Tot Loss: 0.00654\n",
      "Epoch: 5 \t Training loss: 0.00580 \t Val Loss: 0.00388 \t Tot Loss: 0.00580\n",
      "Epoch: 6 \t Training loss: 0.00511 \t Val Loss: 0.00322 \t Tot Loss: 0.00511\n",
      "Epoch: 7 \t Training loss: 0.00457 \t Val Loss: 0.00279 \t Tot Loss: 0.00457\n",
      "Epoch: 8 \t Training loss: 0.00387 \t Val Loss: 0.00227 \t Tot Loss: 0.00387\n",
      "Epoch: 9 \t Training loss: 0.00335 \t Val Loss: 0.00189 \t Tot Loss: 0.00335\n",
      "\n",
      "Loading best model found at epoch 9 with val loss 0.001890188199467957\n",
      "Test loss: 0.0018362425034865737\n"
     ]
    },
    {
     "name": "stderr",
     "output_type": "stream",
     "text": [
      "[I 2025-05-09 17:09:18,946] Trial 0 finished with value: 0.001890188199467957 and parameters: {'lr': 0.0011331826087084096, 'lamb': 0.0, 'batch_size': 16, 'n_hidden_layers_g_net': 2, 'hidden_dims_g_net': 24, 'af_g_net': 'tanh', 'drop_p_g_net': 0.012105133221616455, 'n_hidden_layers_h_net': 1, 'hidden_dims_h_net': 16, 'af_h_net': 'softplus', 'drop_p_h_net': 0.01289533029330185}. Best is trial 0 with value: 0.001890188199467957.\n"
     ]
    }
   ],
   "source": [
    "exp.run()"
   ]
  },
  {
   "cell_type": "code",
   "execution_count": 11,
   "metadata": {},
   "outputs": [
    {
     "name": "stderr",
     "output_type": "stream",
     "text": [
      "/home/rcappi/.conda/envs/my_env/lib/python3.12/site-packages/pysr/sr.py:2774: UserWarning: Note: it looks like you are running in Jupyter. The progress bar will be turned off.\n",
      "  warnings.warn(\n",
      "/home/rcappi/.conda/envs/my_env/lib/python3.12/site-packages/pysr/sr.py:2774: UserWarning: Note: it looks like you are running in Jupyter. The progress bar will be turned off.\n",
      "  warnings.warn(\n"
     ]
    }
   ],
   "source": [
    "model_path_mpnn = './saved_models_optuna/model-biochemical-mpnn/test-biochemical/0/mpnn'\n",
    "\n",
    "pysr_model = lambda : get_pysr_model(\n",
    "    model_selection=\"score\",\n",
    "    n_iterations=200\n",
    ")\n",
    "\n",
    "mpnn_symb = fit_mpnn(\n",
    "    model_path=model_path_mpnn,\n",
    "    pysr_model=pysr_model,\n",
    "    sample_size=9000,\n",
    "    message_passing=False\n",
    ")"
   ]
  },
  {
   "cell_type": "code",
   "execution_count": 12,
   "metadata": {},
   "outputs": [
    {
     "data": {
      "text/latex": [
       "$\\displaystyle \\sum_{j}( -0.15344319*x_i*exp(x_j)) - 0.14971581 x_{i} + 0.87793374$"
      ],
      "text/plain": [
       "\\sum_{j}( -0.15344319*x_i*exp(x_j)) - 0.14971581*x_i + 0.87793374"
      ]
     },
     "execution_count": 12,
     "metadata": {},
     "output_type": "execute_result"
    }
   ],
   "source": [
    "mpnn_symb"
   ]
  },
  {
   "cell_type": "code",
   "execution_count": 23,
   "metadata": {},
   "outputs": [],
   "source": [
    "config_path = './configs/config_biochemical.yml'\n",
    "config = load_config(config_path)\n",
    "config['epochs'] = 5\n",
    "\n",
    "exp = ExperimentsGKAN(\n",
    "    config=config,\n",
    "    n_trials=1,\n",
    "    study_name='test-biochemical',\n",
    "    process_id=0,\n",
    ")"
   ]
  },
  {
   "cell_type": "code",
   "execution_count": 24,
   "metadata": {},
   "outputs": [
    {
     "name": "stderr",
     "output_type": "stream",
     "text": [
      "[I 2025-05-09 14:43:07,097] A new study created in Journal with name: model-biochemical-gkan-test-biochemical\n"
     ]
    },
    {
     "name": "stdout",
     "output_type": "stream",
     "text": [
      "Epoch: 0 \t Training loss: 0.00011 \t Val Loss: 0.00007 \t Tot Loss: 0.00409\n",
      "Epoch: 1 \t Training loss: 0.00010 \t Val Loss: 0.00006 \t Tot Loss: 0.00416\n",
      "Epoch: 2 \t Training loss: 0.00010 \t Val Loss: 0.00005 \t Tot Loss: 0.00426\n",
      "Epoch: 3 \t Training loss: 0.00009 \t Val Loss: 0.00005 \t Tot Loss: 0.00439\n",
      "Epoch: 4 \t Training loss: 0.00009 \t Val Loss: 0.00004 \t Tot Loss: 0.00456\n",
      "\n",
      "Loading best model found at epoch 4 with val loss 4.181330223218538e-05\n",
      "Test loss: 2.1962674509268254e-05\n"
     ]
    },
    {
     "name": "stderr",
     "output_type": "stream",
     "text": [
      "[I 2025-05-09 14:45:45,104] Trial 0 finished with value: 4.181330223218538e-05 and parameters: {'lr': 0.0029212460068246317, 'lamb': 1.0, 'batch_size': 16, 'use_orig_reg': True, 'lamb_g_net': 0.0012543290658560168, 'lamb_h_net': 1.2825379943612229e-06, 'grid_size_g_net': 8, 'spline_order_g_net': 1, 'range_limit_g_net': 1, 'mu_1_g_net': 0.7, 'mu_2_g_net': 0.9, 'hidden_dim_g_net': 3, 'grid_size_h_net': 6, 'spline_order_h_net': 2, 'range_limit_h_net': 3, 'mu_1_h_net': 0.6, 'mu_2_h_net': 0.5, 'hidden_dim_h_net': 3}. Best is trial 0 with value: 4.181330223218538e-05.\n"
     ]
    }
   ],
   "source": [
    "exp.run()"
   ]
  },
  {
   "cell_type": "markdown",
   "metadata": {},
   "source": [
    "### Population MPNN"
   ]
  },
  {
   "cell_type": "code",
   "execution_count": 8,
   "metadata": {},
   "outputs": [],
   "source": [
    "config_path = './configs/config_ic1/config_population.yml'\n",
    "config = load_config(config_path)\n",
    "config['epochs'] = 1\n",
    "config['device'] = 'cuda'\n",
    "config['method'] = 'scipy_solver'\n",
    "\n",
    "exp = ExperimentsGKAN(\n",
    "    config=config,\n",
    "    n_trials=1,\n",
    "    study_name='test-population',\n",
    "    process_id=0,\n",
    ")"
   ]
  },
  {
   "cell_type": "code",
   "execution_count": 9,
   "metadata": {},
   "outputs": [
    {
     "name": "stderr",
     "output_type": "stream",
     "text": [
      "[I 2025-05-16 15:05:21,961] Using an existing study with name 'model-population-gkan-test-population' instead of creating a new one.\n"
     ]
    },
    {
     "name": "stdout",
     "output_type": "stream",
     "text": [
      "Trial 1: num params: 118\n"
     ]
    },
    {
     "name": "stderr",
     "output_type": "stream",
     "text": [
      "/home/rcappi/.conda/envs/my_env/lib/python3.12/site-packages/scipy/integrate/_ivp/ivp.py:621: UserWarning: The following arguments have no effect for a chosen solver: `min_step`.\n",
      "  solver = method(fun, t0, y0, tf, vectorized=vectorized, **options)\n",
      "[I 2025-05-16 15:05:30,977] Trial 1 finished with value: 0.11420852690935135 and parameters: {'lr': 0.0009676611064964236, 'lamb': 1.0, 'batch_size': 16, 'use_orig_reg': True, 'lamb_g_net': 3.3906412636989516e-05, 'lamb_h_net': 7.50801654816929e-05, 'grid_size_g_net': 10, 'spline_order_g_net': 3, 'range_limit_g_net': 1, 'mu_1_g_net': 0.9, 'mu_2_g_net': 0.7, 'hidden_dim_g_net': 2, 'grid_size_h_net': 10, 'spline_order_h_net': 2, 'range_limit_h_net': 5, 'mu_1_h_net': 0.8, 'mu_2_h_net': 0.8, 'hidden_dim_h_net': 1}. Best is trial 1 with value: 0.11420852690935135.\n"
     ]
    }
   ],
   "source": [
    "exp.epochs = 1\n",
    "exp.run()"
   ]
  },
  {
   "cell_type": "code",
   "execution_count": 63,
   "metadata": {},
   "outputs": [
    {
     "data": {
      "text/plain": [
       "6.902940273284912"
      ]
     },
     "execution_count": 63,
     "metadata": {},
     "output_type": "execute_result"
    }
   ],
   "source": [
    "exp.training_set.raw_data_sampled.max().item()"
   ]
  },
  {
   "cell_type": "code",
   "execution_count": 32,
   "metadata": {},
   "outputs": [],
   "source": [
    "import matplotlib.pyplot as plt"
   ]
  },
  {
   "cell_type": "code",
   "execution_count": 40,
   "metadata": {},
   "outputs": [
    {
     "data": {
      "text/plain": [
       "[<matplotlib.lines.Line2D at 0x7fa16826c620>]"
      ]
     },
     "execution_count": 40,
     "metadata": {},
     "output_type": "execute_result"
    },
    {
     "data": {
      "image/png": "[encoded data removed]",
      "text/plain": [
       "<Figure size 640x480 with 1 Axes>"
      ]
     },
     "metadata": {},
     "output_type": "display_data"
    }
   ],
   "source": [
    "data = exp.training_set.raw_data_sampled.detach().cpu().numpy()\n",
    "plt.plot(data[1, :, 55, :])"
   ]
  },
  {
   "cell_type": "code",
   "execution_count": null,
   "metadata": {},
   "outputs": [
    {
     "name": "stderr",
     "output_type": "stream",
     "text": [
      "[I 2025-05-15 13:46:17,592] Using an existing study with name 'model-population-mpnn-test-population' instead of creating a new one.\n"
     ]
    },
    {
     "name": "stdout",
     "output_type": "stream",
     "text": [
      "Trial 1: num params: 1898\n"
     ]
    },
    {
     "name": "stderr",
     "output_type": "stream",
     "text": [
      "[I 2025-05-15 13:46:36,706] Trial 1 finished with value: 0.004098234232515097 and parameters: {'lr': 0.007960010461891508, 'lamb': 0.0, 'batch_size': 32, 'n_hidden_layers_g_net': 2, 'hidden_dims_g_net': 40, 'af_g_net': 'relu', 'drop_p_g_net': 0.08145742288419544, 'n_hidden_layers_h_net': 1, 'hidden_dims_h_net': 32, 'af_h_net': 'tanh', 'drop_p_h_net': 0.0061770830010497045}. Best is trial 1 with value: 0.004098234232515097.\n"
     ]
    },
    {
     "ename": "",
     "evalue": "",
     "output_type": "error",
     "traceback": [
      "\u001b[1;31mThe Kernel crashed while executing code in the current cell or a previous cell. \n",
      "\u001b[1;31mPlease review the code in the cell(s) to identify a possible cause of the failure. \n",
      "\u001b[1;31mClick <a href='https://aka.ms/vscodeJupyterKernelCrash'>here</a> for more info. \n",
      "\u001b[1;31mView Jupyter <a href='command:jupyter.viewOutput'>log</a> for further details."
     ]
    }
   ],
   "source": [
    "exp.run()"
   ]
  },
  {
   "cell_type": "markdown",
   "metadata": {},
   "source": [
    "## Symbolic reg"
   ]
  },
  {
   "cell_type": "markdown",
   "metadata": {},
   "source": [
    "### Utils"
   ]
  },
  {
   "cell_type": "code",
   "execution_count": 3,
   "metadata": {},
   "outputs": [],
   "source": [
    "from models.utils.MPNN import MPNN\n",
    "from models.baseline.MPNN_ODE import MPNN_ODE\n",
    "from train_and_eval import eval_model\n",
    "from datasets.SyntheticData import SyntheticData\n",
    "from sympy import symbols, sin, summation, simplify\n",
    "import networkx as nx\n",
    "from torch_geometric.utils import from_networkx\n",
    "from utils.utils import integrate\n",
    "from torch_geometric.data import Data\n",
    "from models.kan.KAN import KAN\n",
    "from models.GKAN_ODE import GKAN_ODE"
   ]
  },
  {
   "cell_type": "code",
   "execution_count": 4,
   "metadata": {},
   "outputs": [],
   "source": [
    "def get_model(g, h, message_passing=True, include_time=False, atol=1e-5, rtol=1e-3, integration_method = 'scipy_solver', pred_deriv=False, device='cuda'):\n",
    "    conv = MPNN(\n",
    "        g_net = g,\n",
    "        h_net = h, \n",
    "        message_passing=message_passing,\n",
    "        include_time=include_time,\n",
    "        neg=pred_deriv\n",
    "    )\n",
    "    \n",
    "    symb = MPNN_ODE(\n",
    "        conv=conv,\n",
    "        model_path=\"./saved_models_optuna/tmp_symb\",\n",
    "        adjoint=True,\n",
    "        integration_method=integration_method,\n",
    "        atol=atol,\n",
    "        rtol=rtol\n",
    "    )\n",
    "    \n",
    "    symb = symb.eval()\n",
    "    return symb\n",
    "\n",
    "\n",
    "def get_symb_test_error(g_symb, h_symb, test_set, message_passing=False, include_time=False, atol=1e-5, rtol=1e-3, scaler = None, inverse_scale=False, method='scipy_solver', pred_deriv=False):\n",
    "    \n",
    "    # total_len = len(dataset)\n",
    "    # test_set = dataset[int(0.9*total_len):]\n",
    "    \n",
    "    symb = get_model(\n",
    "        g=g_symb,\n",
    "        h=h_symb,\n",
    "        message_passing=message_passing,\n",
    "        include_time=include_time,\n",
    "        atol=atol,\n",
    "        rtol=rtol,\n",
    "        integration_method=method,\n",
    "        pred_deriv=pred_deriv\n",
    "    )\n",
    "    \n",
    "    test_loss = eval_model(\n",
    "        model=symb,\n",
    "        valid_data=test_set,\n",
    "        criterion=torch.nn.L1Loss(),\n",
    "        scaler=scaler,\n",
    "        inverse_scale=inverse_scale\n",
    "    )\n",
    "    \n",
    "    return test_loss\n",
    "\n",
    "\n",
    "def get_test_set(dynamics, seed=12345, device='cuda', input_range = (0, 1), **integration_kwargs):\n",
    "    graph = nx.barabasi_albert_graph(100, 3, seed=seed)\n",
    "    edge_index = from_networkx(graph).edge_index\n",
    "    edge_index = edge_index.to(torch.device(device))\n",
    "    rng = np.random.default_rng(seed=seed)\n",
    "    \n",
    "    data, t = integrate(\n",
    "        input_range=input_range,\n",
    "        t_span = [0, 1],\n",
    "        t_eval_steps=300,\n",
    "        dynamics=dynamics,\n",
    "        device=device,\n",
    "        graph=graph,\n",
    "        rng = rng,\n",
    "        **integration_kwargs\n",
    "    )\n",
    "    \n",
    "    snapshot = Data(\n",
    "        x = data[0].unsqueeze(0),\n",
    "        y = data[1:],\n",
    "        edge_index=edge_index,\n",
    "        edge_attr=None,\n",
    "        t_span = t\n",
    "    )\n",
    "    \n",
    "    return [snapshot]\n",
    "\n",
    "\n",
    "def build_model_from_file(model_path, message_passing, include_time, method='dopri5', adjoint=False, pred_deriv = False):\n",
    "    best_params_file = f\"{model_path}/best_params.json\"\n",
    "    best_state_path = f\"{model_path}/gkan/state_dict.pth\"\n",
    "    \n",
    "    with open(best_params_file, 'r') as f:\n",
    "        best_hyperparams = json.load(f)\n",
    "    \n",
    "    # g_net\n",
    "    g_net = KAN(\n",
    "        layers_hidden=[2, best_hyperparams['hidden_dim_g_net'], 1],\n",
    "        grid_size=best_hyperparams['grid_size_g_net'],\n",
    "        spline_order=best_hyperparams['spline_order_g_net'],\n",
    "        grid_range=[-best_hyperparams['range_limit_g_net'], best_hyperparams['range_limit_g_net']],\n",
    "        mu_1=best_hyperparams['mu_1_g_net'],\n",
    "        mu_2=best_hyperparams['mu_2_g_net'],\n",
    "        device='cuda'\n",
    "    )\n",
    "    \n",
    "    time_dim = 1 if include_time else 0\n",
    "    in_dim_h = 2 if message_passing else 1\n",
    "    in_dim_h += time_dim\n",
    "    \n",
    "    # h_net\n",
    "    h_net = KAN(\n",
    "        layers_hidden=[in_dim_h, best_hyperparams['hidden_dim_h_net'], 1],\n",
    "        grid_size=best_hyperparams['grid_size_h_net'],\n",
    "        spline_order=best_hyperparams['spline_order_h_net'],\n",
    "        grid_range=[-best_hyperparams['range_limit_h_net'], best_hyperparams['range_limit_h_net']],\n",
    "        mu_1=best_hyperparams['mu_1_h_net'],\n",
    "        mu_2=best_hyperparams['mu_2_h_net'],\n",
    "        device='cuda'\n",
    "    )\n",
    "    \n",
    "    gkan = MPNN(\n",
    "        h_net=h_net,\n",
    "        g_net=g_net,\n",
    "        message_passing=message_passing,\n",
    "        include_time=include_time,\n",
    "        neg=pred_deriv\n",
    "    )\n",
    "    \n",
    "    model = GKAN_ODE(\n",
    "        conv=gkan,\n",
    "        model_path='./saved_models_optuna/tmp',\n",
    "        lmbd_g=best_hyperparams['lamb_g_net'],\n",
    "        lmbd_h=best_hyperparams['lamb_h_net'],\n",
    "        integration_method=method,\n",
    "        adjoint=adjoint\n",
    "    )\n",
    "    \n",
    "    model = model.to(torch.device('cuda'))\n",
    "    model.load_state_dict(torch.load(best_state_path, weights_only=False, map_location=torch.device('cuda')))\n",
    "    \n",
    "    return model\n",
    "\n",
    "\n",
    "def post_process_gkan(\n",
    "    g_symb, \n",
    "    h_symb, \n",
    "    model_path, \n",
    "    test_set, \n",
    "    message_passing=False, \n",
    "    include_time=False,\n",
    "    atol=1e-5,\n",
    "    rtol=1e-3,\n",
    "    method='dopri5',\n",
    "    scaler=None,\n",
    "    inverse_scale=False,\n",
    "    adjoint=True,\n",
    "    pred_deriv=False\n",
    "):\n",
    "    test_loss_symb = get_symb_test_error(\n",
    "        g_symb=g_symb,\n",
    "        h_symb=h_symb,\n",
    "        test_set=test_set,\n",
    "        message_passing=True,\n",
    "        include_time=include_time,\n",
    "        atol=atol,\n",
    "        rtol=rtol,\n",
    "        method=method,\n",
    "        scaler=scaler,\n",
    "        inverse_scale=inverse_scale,\n",
    "        pred_deriv = pred_deriv\n",
    "    )\n",
    "    \n",
    "    print(f\"Test loss of symbolic formula: {test_loss_symb}\")\n",
    "    \n",
    "    # Loading best model\n",
    "    best_model = build_model_from_file(\n",
    "        model_path=model_path,\n",
    "        message_passing=message_passing,\n",
    "        include_time=include_time,\n",
    "        method=method,\n",
    "        adjoint=adjoint,\n",
    "        pred_deriv=pred_deriv\n",
    "    )\n",
    "    \n",
    "    tot_params = sum(p.numel() for p in best_model.parameters() if p.requires_grad)\n",
    "    print(f\"Number of model's parameters: {tot_params}\")\n",
    "    \n",
    "    best_model = best_model.eval()\n",
    "    test_loss_model = get_symb_test_error(\n",
    "        g_symb=best_model.conv.model.g_net,\n",
    "        h_symb=best_model.conv.model.h_net,\n",
    "        test_set=test_set,\n",
    "        message_passing=message_passing,\n",
    "        include_time=include_time,\n",
    "        atol=atol,\n",
    "        rtol=rtol,\n",
    "        method=method,\n",
    "        scaler=scaler,\n",
    "        inverse_scale=inverse_scale,\n",
    "        pred_deriv=pred_deriv\n",
    "    )\n",
    "    \n",
    "    print(f\"Test loss best model: {test_loss_model}\")\n",
    "\n",
    "    y_true = test_set[0].y.detach().cpu().numpy()\n",
    "    y_pred = best_model(snapshot = test_set[0]).detach().cpu().numpy()\n",
    "    \n",
    "    return y_true, y_pred\n",
    "\n",
    "\n",
    "def get_error_spline_wise(model_path, test_set, theta=0.1, alpha=0.1, gamma=0.01, use_sindy=False):\n",
    "    symb_spline_wise = fit_model(\n",
    "        n_h_hidden_layers=2,\n",
    "        n_g_hidden_layers=2,\n",
    "        model_path=model_path,\n",
    "        theta=theta,\n",
    "        device='cuda',\n",
    "        message_passing=False,\n",
    "        include_time=False,\n",
    "        sample_size=15000,\n",
    "        alpha=alpha,\n",
    "        gamma=gamma,\n",
    "        use_sindy=use_sindy\n",
    "        \n",
    "    )\n",
    "    \n",
    "    g_symb = automatic_fix_symbolic_kan(\n",
    "    symb_functions_file=f\"{model_path}/g_net/symb_functions.json\",\n",
    "    in_dim=2\n",
    "    )\n",
    "\n",
    "    h_symb = automatic_fix_symbolic_kan(\n",
    "        symb_functions_file=f\"{model_path}/h_net/symb_functions.json\",\n",
    "        in_dim=1\n",
    "    )\n",
    "\n",
    "    test_loss_splinewise = get_symb_test_error(\n",
    "        g_symb=g_symb,\n",
    "        h_symb=h_symb,\n",
    "        test_set=test_set,\n",
    "        message_passing=False,\n",
    "        include_time=False,\n",
    "        method=\"dopri5\"\n",
    "    )\n",
    "\n",
    "    print(f\"Test error: {test_loss_splinewise}\")\n",
    "    \n",
    "    return quantise(symb_spline_wise)\n",
    "\n",
    "\n",
    "def plot_predictions(y_true, y_pred, node_index = 0):\n",
    "    plt.figure(figsize=(16, 8))\n",
    "    plt.plot(y_true[:, node_index, :], label='y_true', marker='o')\n",
    "    plt.plot(y_pred[:, node_index, :], label='y_pred', marker='o')\n",
    "    plt.xlabel('Time step')\n",
    "    plt.ylabel('Value')\n",
    "    plt.title(f'y_true vs y_pred for Node {node_index}')\n",
    "    plt.legend()\n",
    "    plt.grid(True)\n",
    "    plt.tight_layout()\n",
    "    plt.show()"
   ]
  },
  {
   "cell_type": "markdown",
   "metadata": {},
   "source": [
    "### LB losses\n"
   ]
  },
  {
   "cell_type": "markdown",
   "metadata": {},
   "source": [
    "#### Kuramoto"
   ]
  },
  {
   "cell_type": "code",
   "execution_count": 4,
   "metadata": {},
   "outputs": [
    {
     "name": "stderr",
     "output_type": "stream",
     "text": [
      "/home/rcappi/.conda/envs/my_env/lib/python3.12/site-packages/scipy/integrate/_ivp/ivp.py:621: UserWarning: The following arguments have no effect for a chosen solver: `min_step`.\n",
      "  solver = method(fun, t0, y0, tf, vectorized=vectorized, **options)\n"
     ]
    },
    {
     "name": "stdout",
     "output_type": "stream",
     "text": [
      "Kuramoto: 7.733633538009599e-05\n"
     ]
    }
   ],
   "source": [
    "kur_config = load_config(\"./configs/config_ic1/config_kuramoto.yml\")\n",
    "\n",
    "KUR = get_test_set(\n",
    "    dynamics=kur_config['name'],\n",
    "    seed = 12345,\n",
    "    device=kur_config['device'],\n",
    "    input_range=kur_config['input_range'],\n",
    "    **kur_config['integration_kwargs']    \n",
    ")\n",
    "\n",
    "g_symb = lambda x: torch.sin(x[:, 1] - x[:, 0]).unsqueeze(-1)\n",
    "h_symb = lambda x: 2.0 + 0.5 * x[:, 1].unsqueeze(-1)\n",
    "\n",
    "test_loss = get_symb_test_error(\n",
    "    g_symb=g_symb,\n",
    "    h_symb=h_symb,\n",
    "    test_set=KUR,\n",
    "    message_passing=True,\n",
    "    include_time=False,\n",
    "    atol=1e-5,\n",
    "    rtol=1e-3\n",
    ")\n",
    "\n",
    "print(f\"Kuramoto: {test_loss}\")\n"
   ]
  },
  {
   "cell_type": "markdown",
   "metadata": {},
   "source": [
    "#### Epidemics"
   ]
  },
  {
   "cell_type": "code",
   "execution_count": 5,
   "metadata": {},
   "outputs": [
    {
     "name": "stdout",
     "output_type": "stream",
     "text": [
      "Epidemics: 1.238038112205686e-05\n"
     ]
    }
   ],
   "source": [
    "epid_config = load_config(\"./configs/config_ic1/config_epidemics.yml\")\n",
    "\n",
    "EPID = get_test_set(\n",
    "    dynamics=epid_config['name'],\n",
    "    seed = 12345,\n",
    "    device=epid_config['device'],\n",
    "    input_range=epid_config['input_range'],\n",
    "    **epid_config['integration_kwargs']    \n",
    ")\n",
    "\n",
    "g_symb = lambda x: 0.5*x[:, 1].unsqueeze(-1) * (1 - x[:, 0].unsqueeze(-1))\n",
    "h_symb = lambda x: x[:, 1].unsqueeze(1) - 0.5 * x[:, 0].unsqueeze(-1)\n",
    "\n",
    "test_loss = get_symb_test_error(\n",
    "    g_symb=g_symb,\n",
    "    h_symb=h_symb,\n",
    "    test_set=EPID,\n",
    "    message_passing=True,\n",
    "    include_time=False,\n",
    "    atol=1e-5,\n",
    "    rtol=1e-3\n",
    ")\n",
    "\n",
    "print(f\"Epidemics: {test_loss}\")\n"
   ]
  },
  {
   "cell_type": "markdown",
   "metadata": {},
   "source": [
    "#### Population"
   ]
  },
  {
   "cell_type": "code",
   "execution_count": 5,
   "metadata": {},
   "outputs": [
    {
     "name": "stderr",
     "output_type": "stream",
     "text": [
      "/home/rcappi/.conda/envs/my_env/lib/python3.12/site-packages/scipy/integrate/_ivp/ivp.py:621: UserWarning: The following arguments have no effect for a chosen solver: `min_step`.\n",
      "  solver = method(fun, t0, y0, tf, vectorized=vectorized, **options)\n"
     ]
    },
    {
     "name": "stdout",
     "output_type": "stream",
     "text": [
      "Population: 1.7169850252685137e-05\n"
     ]
    }
   ],
   "source": [
    "pop_config = load_config(\"./configs/config_ic1/config_population.yml\")\n",
    "\n",
    "POP = get_test_set(\n",
    "    dynamics=pop_config['name'],\n",
    "    seed = 12345,\n",
    "    device=pop_config['device'],\n",
    "    input_range=pop_config['input_range'],\n",
    "    **pop_config['integration_kwargs']    \n",
    ")\n",
    "\n",
    "g_symb = lambda x: 0.2*torch.square(x[:, 1].unsqueeze(-1))\n",
    "h_symb = lambda x: -0.5 * torch.square(x[:, 0].unsqueeze(-1)) + x[:, 1].unsqueeze(1) \n",
    "\n",
    "test_loss = get_symb_test_error(\n",
    "    g_symb=g_symb,\n",
    "    h_symb=h_symb,\n",
    "    test_set=POP,\n",
    "    message_passing=True,\n",
    "    include_time=False,\n",
    "    atol=1e-5,\n",
    "    rtol=1e-3\n",
    ")\n",
    "\n",
    "print(f\"Population: {test_loss}\")\n"
   ]
  },
  {
   "cell_type": "markdown",
   "metadata": {},
   "source": [
    "#### Neuronal"
   ]
  },
  {
   "cell_type": "code",
   "execution_count": 7,
   "metadata": {},
   "outputs": [
    {
     "name": "stdout",
     "output_type": "stream",
     "text": [
      "Neuronal: 1.0955228390230332e-05\n"
     ]
    }
   ],
   "source": [
    "neur_config = load_config(\"./configs/config_ic1/config_neuronal.yml\")\n",
    "\n",
    "NEUR = get_test_set(\n",
    "    dynamics=neur_config['name'],\n",
    "    seed = 12345,\n",
    "    device=neur_config['device'],\n",
    "    input_range=neur_config['input_range'],\n",
    "    **neur_config['integration_kwargs']    \n",
    ")\n",
    "\n",
    "g_symb = lambda x: 0.3*torch.tanh(x[:, 1].unsqueeze(-1))\n",
    "h_symb = lambda x: -0.5 * x[:, 0].unsqueeze(-1) + 0.8*torch.tanh(x[:, 0].unsqueeze(-1)) + x[:, 1].unsqueeze(-1) \n",
    "\n",
    "test_loss = get_symb_test_error(\n",
    "    g_symb=g_symb,\n",
    "    h_symb=h_symb,\n",
    "    test_set=NEUR,\n",
    "    message_passing=True,\n",
    "    include_time=False,\n",
    "    atol=1e-5,\n",
    "    rtol=1e-3\n",
    ")\n",
    "\n",
    "print(f\"Neuronal: {test_loss}\")"
   ]
  },
  {
   "cell_type": "markdown",
   "metadata": {},
   "source": [
    "#### Biochemical"
   ]
  },
  {
   "cell_type": "code",
   "execution_count": 8,
   "metadata": {},
   "outputs": [
    {
     "name": "stdout",
     "output_type": "stream",
     "text": [
      "Biochemical: 5.44897602594574e-06\n"
     ]
    }
   ],
   "source": [
    "bio_config = load_config(\"./configs/config_ic1/config_biochemical.yml\")\n",
    "\n",
    "BIO = get_test_set(\n",
    "    dynamics=bio_config['name'],\n",
    "    seed = 12345,\n",
    "    device=bio_config['device'],\n",
    "    input_range=bio_config['input_range'],\n",
    "    **bio_config['integration_kwargs']    \n",
    ")\n",
    "\n",
    "g_symb = lambda x: (-0.5*x[:, 1] * x[:, 0]).unsqueeze(-1)\n",
    "h_symb = lambda x: (1.0 - 0.5 * x[:, 0]).unsqueeze(-1)  + x[:, 1].unsqueeze(-1) \n",
    "\n",
    "test_loss = get_symb_test_error(\n",
    "    g_symb=g_symb,\n",
    "    h_symb=h_symb,\n",
    "    test_set=BIO,\n",
    "    message_passing=True,\n",
    "    include_time=False,\n",
    "    atol=1e-5,\n",
    "    rtol=1e-3\n",
    ")\n",
    "\n",
    "print(f\"Biochemical: {test_loss}\")"
   ]
  },
  {
   "cell_type": "markdown",
   "metadata": {},
   "source": [
    "### Kuramoto GKAN"
   ]
  },
  {
   "cell_type": "markdown",
   "metadata": {},
   "source": [
    "#### IC=1"
   ]
  },
  {
   "cell_type": "code",
   "execution_count": 61,
   "metadata": {},
   "outputs": [
    {
     "name": "stderr",
     "output_type": "stream",
     "text": [
      "/home/rcappi/.conda/envs/my_env/lib/python3.12/site-packages/pysr/sr.py:2774: UserWarning: Note: it looks like you are running in Jupyter. The progress bar will be turned off.\n",
      "  warnings.warn(\n",
      "/home/rcappi/.conda/envs/my_env/lib/python3.12/site-packages/pysr/sr.py:2774: UserWarning: Note: it looks like you are running in Jupyter. The progress bar will be turned off.\n",
      "  warnings.warn(\n"
     ]
    }
   ],
   "source": [
    "model_path_gkan = './saved_models/gkan/model_kuramoto_gkan/kuramoto_gkan_ic1_s5/2/gkan'\n",
    "\n",
    "pysr_model = lambda : get_pysr_model(\n",
    "    model_selection=\"score\",\n",
    "    n_iterations=200\n",
    ")\n",
    "\n",
    "gkan_symb = fit_black_box_from_kan(\n",
    "    n_g_hidden_layers=2,\n",
    "    n_h_hidden_layers=2,\n",
    "    device='cuda',\n",
    "    model_path=model_path_gkan,\n",
    "    pysr_model=pysr_model,\n",
    "    sample_size=10000,\n",
    "    theta=-np.inf,\n",
    "    message_passing=False\n",
    ")"
   ]
  },
  {
   "cell_type": "code",
   "execution_count": 62,
   "metadata": {},
   "outputs": [
    {
     "data": {
      "text/latex": [
       "$\\displaystyle \\sum_{j}( -0.50182724*sin(x_i - x_j)) + 0.014933765 \\log{\\left(x_{i} \\right)} + 1.9816756$"
      ],
      "text/plain": [
       "\\sum_{j}( -0.50182724*sin(x_i - x_j)) + 0.014933765*log(x_i) + 1.9816756"
      ]
     },
     "execution_count": 62,
     "metadata": {},
     "output_type": "execute_result"
    }
   ],
   "source": [
    "gkan_symb"
   ]
  },
  {
   "cell_type": "code",
   "execution_count": 63,
   "metadata": {},
   "outputs": [
    {
     "name": "stdout",
     "output_type": "stream",
     "text": [
      "Test loss of symbolic formula: 0.005671596620231867\n",
      "Number of model's parameters: 112\n",
      "Test loss best model: 0.022857245057821274\n"
     ]
    }
   ],
   "source": [
    "g_symb = lambda x: torch.sin(x[:, 0] - x[:, 1]).unsqueeze(-1)\n",
    "h_symb = lambda x: 1.9816756 - 0.50182724*x[:, 1].unsqueeze(-1) + 0.014933765 * torch.log(x[:, 0].unsqueeze(-1))\n",
    "\n",
    "y_true, y_pred = post_process_gkan(\n",
    "    g_symb=g_symb,\n",
    "    h_symb=h_symb,\n",
    "    model_path='./saved_models/gkan/model_kuramoto_gkan/kuramoto_gkan_ic1_s5/2',\n",
    "    test_set=KUR,\n",
    "    message_passing=False,\n",
    "    include_time=False,\n",
    "    method='dopri5'\n",
    ")"
   ]
  },
  {
   "cell_type": "code",
   "execution_count": 9,
   "metadata": {},
   "outputs": [
    {
     "name": "stdout",
     "output_type": "stream",
     "text": [
      "Pruning node (0,1)\n"
     ]
    },
    {
     "name": "stderr",
     "output_type": "stream",
     "text": [
      "/extra/rcappi/Kan-for-Graph-Dyn/utils/utils.py:383: OptimizeWarning: Covariance of the parameters could not be estimated\n",
      "  params, _ = curve_fit(func_optim, x, y, p0=[1., 0., 1., 0.], nan_policy='omit')\n",
      "/extra/rcappi/Kan-for-Graph-Dyn/utils/utils.py:383: OptimizeWarning: Covariance of the parameters could not be estimated\n",
      "  params, _ = curve_fit(func_optim, x, y, p0=[1., 0., 1., 0.], nan_policy='omit')\n",
      "/extra/rcappi/Kan-for-Graph-Dyn/utils/utils.py:383: OptimizeWarning: Covariance of the parameters could not be estimated\n",
      "  params, _ = curve_fit(func_optim, x, y, p0=[1., 0., 1., 0.], nan_policy='omit')\n",
      "/extra/rcappi/Kan-for-Graph-Dyn/utils/utils.py:383: OptimizeWarning: Covariance of the parameters could not be estimated\n",
      "  params, _ = curve_fit(func_optim, x, y, p0=[1., 0., 1., 0.], nan_policy='omit')\n",
      "/extra/rcappi/Kan-for-Graph-Dyn/utils/utils.py:383: OptimizeWarning: Covariance of the parameters could not be estimated\n",
      "  params, _ = curve_fit(func_optim, x, y, p0=[1., 0., 1., 0.], nan_policy='omit')\n",
      "/extra/rcappi/Kan-for-Graph-Dyn/utils/utils.py:383: OptimizeWarning: Covariance of the parameters could not be estimated\n",
      "  params, _ = curve_fit(func_optim, x, y, p0=[1., 0., 1., 0.], nan_policy='omit')\n",
      "/extra/rcappi/Kan-for-Graph-Dyn/utils/utils.py:383: OptimizeWarning: Covariance of the parameters could not be estimated\n",
      "  params, _ = curve_fit(func_optim, x, y, p0=[1., 0., 1., 0.], nan_policy='omit')\n",
      "/extra/rcappi/Kan-for-Graph-Dyn/utils/utils.py:383: OptimizeWarning: Covariance of the parameters could not be estimated\n",
      "  params, _ = curve_fit(func_optim, x, y, p0=[1., 0., 1., 0.], nan_policy='omit')\n",
      "/extra/rcappi/Kan-for-Graph-Dyn/utils/utils.py:383: OptimizeWarning: Covariance of the parameters could not be estimated\n",
      "  params, _ = curve_fit(func_optim, x, y, p0=[1., 0., 1., 0.], nan_policy='omit')\n",
      "/extra/rcappi/Kan-for-Graph-Dyn/utils/utils.py:383: OptimizeWarning: Covariance of the parameters could not be estimated\n",
      "  params, _ = curve_fit(func_optim, x, y, p0=[1., 0., 1., 0.], nan_policy='omit')\n",
      "/extra/rcappi/Kan-for-Graph-Dyn/utils/utils.py:383: OptimizeWarning: Covariance of the parameters could not be estimated\n",
      "  params, _ = curve_fit(func_optim, x, y, p0=[1., 0., 1., 0.], nan_policy='omit')\n"
     ]
    },
    {
     "name": "stdout",
     "output_type": "stream",
     "text": [
      "Test error: 0.073582723736763\n"
     ]
    },
    {
     "data": {
      "text/latex": [
       "$\\displaystyle \\sum_{j}(0.5*sin(1.0*x_i - 1.0*x_j + 3.14) - 0.02) + 0.06 x_{i} + 0.53 \\left(0.16 x_{i} - 1\\right)^{2} + 1.64$"
      ],
      "text/plain": [
       "\\sum_{j}(0.5*sin(1.0*x_i - 1.0*x_j + 3.14) - 0.02) + 0.06*x_i + 0.53*(0.16*x_i - 1)**2 + 1.64"
      ]
     },
     "execution_count": 9,
     "metadata": {},
     "output_type": "execute_result"
    }
   ],
   "source": [
    "model_path_gkan = './saved_models/gkan/model_kuramoto_gkan/kuramoto_gkan_ic1_s5/2/gkan'\n",
    "\n",
    "get_error_spline_wise(\n",
    "    model_path=model_path_gkan,\n",
    "    test_set=KUR,\n",
    "    theta=0.01\n",
    ")"
   ]
  },
  {
   "cell_type": "markdown",
   "metadata": {},
   "source": [
    "#### IC=3"
   ]
  },
  {
   "cell_type": "code",
   "execution_count": 13,
   "metadata": {},
   "outputs": [
    {
     "name": "stderr",
     "output_type": "stream",
     "text": [
      "/home/rcappi/.conda/envs/my_env/lib/python3.12/site-packages/pysr/sr.py:2774: UserWarning: Note: it looks like you are running in Jupyter. The progress bar will be turned off.\n",
      "  warnings.warn(\n",
      "/home/rcappi/.conda/envs/my_env/lib/python3.12/site-packages/pysr/sr.py:2774: UserWarning: Note: it looks like you are running in Jupyter. The progress bar will be turned off.\n",
      "  warnings.warn(\n"
     ]
    }
   ],
   "source": [
    "model_path_gkan = './saved_models/gkan/model_kuramoto_gkan/kuramoto_gkan_ic3_s5/2/gkan'\n",
    "\n",
    "pysr_model = lambda : get_pysr_model(\n",
    "    model_selection=\"score\",\n",
    "    n_iterations=200\n",
    ")\n",
    "\n",
    "gkan_symb = fit_black_box_from_kan(\n",
    "    n_g_hidden_layers=2,\n",
    "    n_h_hidden_layers=2,\n",
    "    device='cuda',\n",
    "    model_path=model_path_gkan,\n",
    "    pysr_model=pysr_model,\n",
    "    sample_size=10000,\n",
    "    theta=-np.inf,\n",
    "    message_passing=False\n",
    ")"
   ]
  },
  {
   "cell_type": "code",
   "execution_count": 14,
   "metadata": {},
   "outputs": [
    {
     "data": {
      "text/latex": [
       "$\\displaystyle \\sum_{j}( -0.500627060424535*sin(x_i - x_j)) + 2.0001128 - \\frac{0.0017052613}{x_{i}}$"
      ],
      "text/plain": [
       "\\sum_{j}( -0.500627060424535*sin(x_i - x_j)) + 2.0001128 - 0.0017052613/x_i"
      ]
     },
     "execution_count": 14,
     "metadata": {},
     "output_type": "execute_result"
    }
   ],
   "source": [
    "gkan_symb"
   ]
  },
  {
   "cell_type": "code",
   "execution_count": 15,
   "metadata": {},
   "outputs": [
    {
     "data": {
      "text/latex": [
       "$\\displaystyle \\sum_{j}(-0.5*sin(x_i - x_j)) + 2.0$"
      ],
      "text/plain": [
       "\\sum_{j}(-0.5*sin(x_i - x_j)) + 2.0"
      ]
     },
     "execution_count": 15,
     "metadata": {},
     "output_type": "execute_result"
    }
   ],
   "source": [
    "quantise(gkan_symb)"
   ]
  },
  {
   "cell_type": "code",
   "execution_count": 16,
   "metadata": {},
   "outputs": [
    {
     "name": "stdout",
     "output_type": "stream",
     "text": [
      "Test loss of symbolic formula: 0.0013975442852824926\n",
      "Number of model's parameters: 130\n",
      "Test loss best model: 0.0036783141549676657\n"
     ]
    }
   ],
   "source": [
    "g_symb = lambda x: torch.sin(x[:, 0] - x[:, 1]).unsqueeze(-1)\n",
    "h_symb = lambda x: 2.0001128 - 0.500627060424535 * x[:, 1].unsqueeze(-1) - (0.0017052613 / x[:, 0].unsqueeze(-1))\n",
    "\n",
    "\n",
    "y_true, y_pred = post_process_gkan(\n",
    "    g_symb=g_symb,\n",
    "    h_symb=h_symb,\n",
    "    model_path='./saved_models/gkan/model_kuramoto_gkan/kuramoto_gkan_ic3_s5/2',\n",
    "    test_set=KUR,\n",
    "    message_passing=False,\n",
    "    include_time=False,\n",
    "    method='dopri5'\n",
    ")"
   ]
  },
  {
   "cell_type": "code",
   "execution_count": 10,
   "metadata": {},
   "outputs": [
    {
     "name": "stdout",
     "output_type": "stream",
     "text": [
      "Pruning node (0,0)\n"
     ]
    },
    {
     "name": "stderr",
     "output_type": "stream",
     "text": [
      "/extra/rcappi/Kan-for-Graph-Dyn/utils/utils.py:383: OptimizeWarning: Covariance of the parameters could not be estimated\n",
      "  params, _ = curve_fit(func_optim, x, y, p0=[1., 0., 1., 0.], nan_policy='omit')\n",
      "/extra/rcappi/Kan-for-Graph-Dyn/utils/utils.py:383: OptimizeWarning: Covariance of the parameters could not be estimated\n",
      "  params, _ = curve_fit(func_optim, x, y, p0=[1., 0., 1., 0.], nan_policy='omit')\n",
      "/extra/rcappi/Kan-for-Graph-Dyn/utils/utils.py:383: OptimizeWarning: Covariance of the parameters could not be estimated\n",
      "  params, _ = curve_fit(func_optim, x, y, p0=[1., 0., 1., 0.], nan_policy='omit')\n",
      "/extra/rcappi/Kan-for-Graph-Dyn/utils/utils.py:383: OptimizeWarning: Covariance of the parameters could not be estimated\n",
      "  params, _ = curve_fit(func_optim, x, y, p0=[1., 0., 1., 0.], nan_policy='omit')\n",
      "/extra/rcappi/Kan-for-Graph-Dyn/utils/utils.py:383: OptimizeWarning: Covariance of the parameters could not be estimated\n",
      "  params, _ = curve_fit(func_optim, x, y, p0=[1., 0., 1., 0.], nan_policy='omit')\n",
      "/extra/rcappi/Kan-for-Graph-Dyn/utils/utils.py:383: OptimizeWarning: Covariance of the parameters could not be estimated\n",
      "  params, _ = curve_fit(func_optim, x, y, p0=[1., 0., 1., 0.], nan_policy='omit')\n",
      "/extra/rcappi/Kan-for-Graph-Dyn/utils/utils.py:383: OptimizeWarning: Covariance of the parameters could not be estimated\n",
      "  params, _ = curve_fit(func_optim, x, y, p0=[1., 0., 1., 0.], nan_policy='omit')\n",
      "/extra/rcappi/Kan-for-Graph-Dyn/utils/utils.py:383: OptimizeWarning: Covariance of the parameters could not be estimated\n",
      "  params, _ = curve_fit(func_optim, x, y, p0=[1., 0., 1., 0.], nan_policy='omit')\n",
      "/extra/rcappi/Kan-for-Graph-Dyn/utils/utils.py:383: OptimizeWarning: Covariance of the parameters could not be estimated\n",
      "  params, _ = curve_fit(func_optim, x, y, p0=[1., 0., 1., 0.], nan_policy='omit')\n",
      "/extra/rcappi/Kan-for-Graph-Dyn/utils/utils.py:383: OptimizeWarning: Covariance of the parameters could not be estimated\n",
      "  params, _ = curve_fit(func_optim, x, y, p0=[1., 0., 1., 0.], nan_policy='omit')\n"
     ]
    },
    {
     "name": "stdout",
     "output_type": "stream",
     "text": [
      "Test error: 0.47688260674476624\n"
     ]
    },
    {
     "name": "stderr",
     "output_type": "stream",
     "text": [
      "/extra/rcappi/Kan-for-Graph-Dyn/utils/utils.py:383: OptimizeWarning: Covariance of the parameters could not be estimated\n",
      "  params, _ = curve_fit(func_optim, x, y, p0=[1., 0., 1., 0.], nan_policy='omit')\n",
      "/extra/rcappi/Kan-for-Graph-Dyn/utils/utils.py:383: OptimizeWarning: Covariance of the parameters could not be estimated\n",
      "  params, _ = curve_fit(func_optim, x, y, p0=[1., 0., 1., 0.], nan_policy='omit')\n"
     ]
    },
    {
     "data": {
      "text/latex": [
       "$\\displaystyle \\sum_{j}(0.16 - 0.5*sin(1.0*x_i - 1.0*x_j)) + 2.0$"
      ],
      "text/plain": [
       "\\sum_{j}(0.16 - 0.5*sin(1.0*x_i - 1.0*x_j)) + 2.0"
      ]
     },
     "execution_count": 10,
     "metadata": {},
     "output_type": "execute_result"
    }
   ],
   "source": [
    "model_path_gkan = \"saved_models/gkan/model_kuramoto_gkan/kuramoto_gkan_ic3_s5/2/gkan\"\n",
    "\n",
    "get_error_spline_wise(\n",
    "    model_path=model_path_gkan,\n",
    "    test_set=KUR,\n",
    "    theta=0.01\n",
    ")"
   ]
  },
  {
   "cell_type": "markdown",
   "metadata": {},
   "source": [
    "#### IC=5"
   ]
  },
  {
   "cell_type": "code",
   "execution_count": 17,
   "metadata": {},
   "outputs": [
    {
     "name": "stderr",
     "output_type": "stream",
     "text": [
      "/home/rcappi/.conda/envs/my_env/lib/python3.12/site-packages/pysr/sr.py:2774: UserWarning: Note: it looks like you are running in Jupyter. The progress bar will be turned off.\n",
      "  warnings.warn(\n",
      "/home/rcappi/.conda/envs/my_env/lib/python3.12/site-packages/pysr/sr.py:2774: UserWarning: Note: it looks like you are running in Jupyter. The progress bar will be turned off.\n",
      "  warnings.warn(\n"
     ]
    }
   ],
   "source": [
    "model_path_gkan = './saved_models/gkan/model_kuramoto_gkan/kuramoto_gkan_ic5_s5/0/gkan'\n",
    "\n",
    "pysr_model = lambda : get_pysr_model(\n",
    "    model_selection=\"score\",\n",
    "    n_iterations=200\n",
    ")\n",
    "\n",
    "gkan_symb = fit_black_box_from_kan(\n",
    "    n_g_hidden_layers=2,\n",
    "    n_h_hidden_layers=2,\n",
    "    device='cuda',\n",
    "    model_path=model_path_gkan,\n",
    "    pysr_model=pysr_model,\n",
    "    sample_size=10000,\n",
    "    theta=-np.inf,\n",
    "    message_passing=False\n",
    ")"
   ]
  },
  {
   "cell_type": "code",
   "execution_count": 18,
   "metadata": {},
   "outputs": [
    {
     "data": {
      "text/latex": [
       "$\\displaystyle \\sum_{j}( -0.5006555*sin(x_i - x_j)) - 0.00024808984 x_{i} + 2.001539$"
      ],
      "text/plain": [
       "\\sum_{j}( -0.5006555*sin(x_i - x_j)) - 0.00024808984*x_i + 2.001539"
      ]
     },
     "execution_count": 18,
     "metadata": {},
     "output_type": "execute_result"
    }
   ],
   "source": [
    "gkan_symb"
   ]
  },
  {
   "cell_type": "code",
   "execution_count": 19,
   "metadata": {},
   "outputs": [
    {
     "data": {
      "text/latex": [
       "$\\displaystyle \\sum_{j}(-0.5*sin(x_i - x_j)) + 2.0$"
      ],
      "text/plain": [
       "\\sum_{j}(-0.5*sin(x_i - x_j)) + 2.0"
      ]
     },
     "execution_count": 19,
     "metadata": {},
     "output_type": "execute_result"
    }
   ],
   "source": [
    "quantise(gkan_symb)"
   ]
  },
  {
   "cell_type": "code",
   "execution_count": 20,
   "metadata": {},
   "outputs": [
    {
     "name": "stdout",
     "output_type": "stream",
     "text": [
      "Test loss of symbolic formula: 0.001474372809752822\n",
      "Number of model's parameters: 114\n",
      "Test loss best model: 0.0050172205083072186\n"
     ]
    }
   ],
   "source": [
    "g_symb = lambda x: torch.sin(x[:, 0] - x[:, 1]).unsqueeze(-1)\n",
    "h_symb = lambda x: 2.001539 - 0.5006555 * x[:, 1].unsqueeze(-1) - (0.00024808984 * x[:, 0].unsqueeze(-1))\n",
    "\n",
    "\n",
    "y_true, y_pred = post_process_gkan(\n",
    "    g_symb=g_symb,\n",
    "    h_symb=h_symb,\n",
    "    model_path='./saved_models/gkan/model_kuramoto_gkan/kuramoto_gkan_ic5_s5/0',\n",
    "    test_set=KUR,\n",
    "    message_passing=False,\n",
    "    include_time=False,\n",
    "    method='dopri5'\n",
    ")"
   ]
  },
  {
   "cell_type": "code",
   "execution_count": 8,
   "metadata": {},
   "outputs": [
    {
     "name": "stdout",
     "output_type": "stream",
     "text": [
      "Pruning node (0,1)\n",
      "Test error: 0.15545469522476196\n"
     ]
    },
    {
     "data": {
      "text/latex": [
       "$\\displaystyle \\sum_{j}(0.02*log(Abs(-0.12*x_i**2 - 0.25*x_i + 0.04*x_j**2 + 0.72*x_j + 0.23*cos(x_i))) + 0.3*sin(-0.12*x_i**2 - 0.25*x_i + 0.04*x_j**2 + 0.72*x_j + 0.23*cos(x_i)) - 0.12*cos(-0.12*x_i**2 - 0.25*x_i + 0.04*x_j**2 + 0.72*x_j + 0.23*cos(x_i))) + 0.22 e^{- 0.13 x_{i}^{2} + 0.99 x_{i} + 0.36 \\sin{\\left(x_{i} \\right)} + 0.34 \\cos{\\left(x_{i} \\right)}} + 0.81 \\sin{\\left(- 0.13 x_{i}^{2} + 0.99 x_{i} + 0.36 \\sin{\\left(x_{i} \\right)} + 0.34 \\cos{\\left(x_{i} \\right)} \\right)}$"
      ],
      "text/plain": [
       "\\sum_{j}(0.02*log(Abs(-0.12*x_i**2 - 0.25*x_i + 0.04*x_j**2 + 0.72*x_j + 0.23*cos(x_i))) + 0.3*sin(-0.12*x_i**2 - 0.25*x_i + 0.04*x_j**2 + 0.72*x_j + 0.23*cos(x_i)) - 0.12*cos(-0.12*x_i**2 - 0.25*x_i + 0.04*x_j**2 + 0.72*x_j + 0.23*cos(x_i))) + 0.22*exp(-0.13*x_i**2 + 0.99*x_i + 0.36*sin(x_i) + 0.34*cos(x_i)) + 0.81*sin(-0.13*x_i**2 + 0.99*x_i + 0.36*sin(x_i) + 0.34*cos(x_i))"
      ]
     },
     "execution_count": 8,
     "metadata": {},
     "output_type": "execute_result"
    }
   ],
   "source": [
    "model_path_gkan = './saved_models/gkan/model_kuramoto_gkan/kuramoto_gkan_ic5_s5/0/gkan'\n",
    "\n",
    "get_error_spline_wise(\n",
    "    model_path=model_path_gkan,\n",
    "    test_set=KUR,\n",
    "    theta=0.001,\n",
    "    use_sindy=True,\n",
    "    gamma=0.05\n",
    ")"
   ]
  },
  {
   "cell_type": "code",
   "execution_count": 7,
   "metadata": {},
   "outputs": [],
   "source": [
    "model_path_gkan = './saved_models/gkan/model_kuramoto_gkan/kuramoto_gkan_ic5_s5/0/gkan'\n",
    "\n",
    "gkan_symb = fit_black_box_from_kan(\n",
    "    n_g_hidden_layers=2,\n",
    "    n_h_hidden_layers=2,\n",
    "    device='cuda',\n",
    "    model_path=model_path_gkan,\n",
    "    pysr_model=None,\n",
    "    sample_size=10000,\n",
    "    theta=-np.inf,\n",
    "    message_passing=False,\n",
    "    use_sindy=True,\n",
    "    gamma=0.05\n",
    ")"
   ]
  },
  {
   "cell_type": "code",
   "execution_count": 8,
   "metadata": {},
   "outputs": [
    {
     "data": {
      "text/latex": [
       "$\\displaystyle \\sum_{j}( -0.385577589273453*sin(x_i - x_j)) - 0.123744204640388 x_{i}^{2} + 1.06960904598236 x_{i} + 0.377498120069504 \\sin{\\left(x_{i} \\right)} + 0.0766346305608749 \\cos{\\left(x_{i} \\right)}$"
      ],
      "text/plain": [
       "\\sum_{j}( -0.385577589273453*sin(x_i - x_j)) - 0.123744204640388*x_i**2 + 1.06960904598236*x_i + 0.377498120069504*sin(x_i) + 0.0766346305608749*cos(x_i)"
      ]
     },
     "execution_count": 8,
     "metadata": {},
     "output_type": "execute_result"
    }
   ],
   "source": [
    "gkan_symb"
   ]
  },
  {
   "cell_type": "markdown",
   "metadata": {},
   "source": [
    "### Epidemics GKAN"
   ]
  },
  {
   "cell_type": "markdown",
   "metadata": {},
   "source": [
    "#### IC=1"
   ]
  },
  {
   "cell_type": "code",
   "execution_count": 9,
   "metadata": {},
   "outputs": [
    {
     "name": "stderr",
     "output_type": "stream",
     "text": [
      "/home/rcappi/.conda/envs/my_env/lib/python3.12/site-packages/pysr/sr.py:2774: UserWarning: Note: it looks like you are running in Jupyter. The progress bar will be turned off.\n",
      "  warnings.warn(\n",
      "/home/rcappi/.conda/envs/my_env/lib/python3.12/site-packages/pysr/sr.py:2774: UserWarning: Note: it looks like you are running in Jupyter. The progress bar will be turned off.\n",
      "  warnings.warn(\n"
     ]
    }
   ],
   "source": [
    "model_path_gkan = './saved_models/gkan/model_epidemics_gkan/epidemics_gkan_ic1_s5/0/gkan'\n",
    "\n",
    "pysr_model = lambda : get_pysr_model(\n",
    "    model_selection=\"score\",\n",
    "    n_iterations=200\n",
    ")\n",
    "\n",
    "gkan_symb = fit_black_box_from_kan(\n",
    "    n_g_hidden_layers=2,\n",
    "    n_h_hidden_layers=2,\n",
    "    device='cuda',\n",
    "    model_path=model_path_gkan,\n",
    "    pysr_model=pysr_model,\n",
    "    sample_size=10000,\n",
    "    theta=-np.inf,\n",
    "    message_passing=False\n",
    ")"
   ]
  },
  {
   "cell_type": "code",
   "execution_count": 10,
   "metadata": {},
   "outputs": [
    {
     "data": {
      "text/latex": [
       "$\\displaystyle \\sum_{j}( -0.42873818*x_j*tanh(log(x_i))) - 0.49842733 x_{i}$"
      ],
      "text/plain": [
       "\\sum_{j}( -0.42873818*x_j*tanh(log(x_i))) - 0.49842733*x_i"
      ]
     },
     "execution_count": 10,
     "metadata": {},
     "output_type": "execute_result"
    }
   ],
   "source": [
    "gkan_symb"
   ]
  },
  {
   "cell_type": "code",
   "execution_count": 11,
   "metadata": {},
   "outputs": [
    {
     "data": {
      "text/latex": [
       "$\\displaystyle \\sum_{j}(-0.43*x_j*tanh(log(x_i))) - 0.5 x_{i}$"
      ],
      "text/plain": [
       "\\sum_{j}(-0.43*x_j*tanh(log(x_i))) - 0.5*x_i"
      ]
     },
     "execution_count": 11,
     "metadata": {},
     "output_type": "execute_result"
    }
   ],
   "source": [
    "quantise(gkan_symb)"
   ]
  },
  {
   "cell_type": "code",
   "execution_count": 35,
   "metadata": {},
   "outputs": [
    {
     "name": "stdout",
     "output_type": "stream",
     "text": [
      "Test loss of symbolic formula: 0.00414850702509284\n",
      "Number of model's parameters: 186\n",
      "Test loss best model: 0.00031669693998992443\n"
     ]
    }
   ],
   "source": [
    "g_symb = lambda x: -0.42873818*x[:, 1].unsqueeze(-1) * torch.tanh(torch.log(x[:, 0].unsqueeze(-1)))\n",
    "h_symb = lambda x: x[:, 1].unsqueeze(-1) - 0.49842733 * x[:, 0].unsqueeze(-1)\n",
    "\n",
    "y_true, y_pred = post_process_gkan(\n",
    "    g_symb=g_symb,\n",
    "    h_symb=h_symb,\n",
    "    model_path='./saved_models/gkan/model_epidemics_gkan/epidemics_gkan_ic1_s5/0',\n",
    "    test_set=EPID,\n",
    "    message_passing=False,\n",
    "    include_time=False,\n",
    "    method='dopri5'\n",
    ")"
   ]
  },
  {
   "cell_type": "code",
   "execution_count": 17,
   "metadata": {},
   "outputs": [
    {
     "name": "stderr",
     "output_type": "stream",
     "text": [
      "/extra/rcappi/Kan-for-Graph-Dyn/utils/utils.py:383: OptimizeWarning: Covariance of the parameters could not be estimated\n",
      "  params, _ = curve_fit(func_optim, x, y, p0=[1., 0., 1., 0.], nan_policy='omit')\n",
      "/extra/rcappi/Kan-for-Graph-Dyn/utils/utils.py:383: OptimizeWarning: Covariance of the parameters could not be estimated\n",
      "  params, _ = curve_fit(func_optim, x, y, p0=[1., 0., 1., 0.], nan_policy='omit')\n",
      "/extra/rcappi/Kan-for-Graph-Dyn/utils/utils.py:383: OptimizeWarning: Covariance of the parameters could not be estimated\n",
      "  params, _ = curve_fit(func_optim, x, y, p0=[1., 0., 1., 0.], nan_policy='omit')\n",
      "/extra/rcappi/Kan-for-Graph-Dyn/utils/utils.py:383: OptimizeWarning: Covariance of the parameters could not be estimated\n",
      "  params, _ = curve_fit(func_optim, x, y, p0=[1., 0., 1., 0.], nan_policy='omit')\n",
      "/extra/rcappi/Kan-for-Graph-Dyn/utils/utils.py:383: OptimizeWarning: Covariance of the parameters could not be estimated\n",
      "  params, _ = curve_fit(func_optim, x, y, p0=[1., 0., 1., 0.], nan_policy='omit')\n",
      "/extra/rcappi/Kan-for-Graph-Dyn/utils/utils.py:383: OptimizeWarning: Covariance of the parameters could not be estimated\n",
      "  params, _ = curve_fit(func_optim, x, y, p0=[1., 0., 1., 0.], nan_policy='omit')\n",
      "/extra/rcappi/Kan-for-Graph-Dyn/utils/utils.py:383: OptimizeWarning: Covariance of the parameters could not be estimated\n",
      "  params, _ = curve_fit(func_optim, x, y, p0=[1., 0., 1., 0.], nan_policy='omit')\n",
      "/extra/rcappi/Kan-for-Graph-Dyn/utils/utils.py:383: OptimizeWarning: Covariance of the parameters could not be estimated\n",
      "  params, _ = curve_fit(func_optim, x, y, p0=[1., 0., 1., 0.], nan_policy='omit')\n",
      "/extra/rcappi/Kan-for-Graph-Dyn/utils/utils.py:383: OptimizeWarning: Covariance of the parameters could not be estimated\n",
      "  params, _ = curve_fit(func_optim, x, y, p0=[1., 0., 1., 0.], nan_policy='omit')\n",
      "/extra/rcappi/Kan-for-Graph-Dyn/utils/utils.py:383: OptimizeWarning: Covariance of the parameters could not be estimated\n",
      "  params, _ = curve_fit(func_optim, x, y, p0=[1., 0., 1., 0.], nan_policy='omit')\n",
      "/extra/rcappi/Kan-for-Graph-Dyn/utils/utils.py:383: OptimizeWarning: Covariance of the parameters could not be estimated\n",
      "  params, _ = curve_fit(func_optim, x, y, p0=[1., 0., 1., 0.], nan_policy='omit')\n",
      "/extra/rcappi/Kan-for-Graph-Dyn/utils/utils.py:383: OptimizeWarning: Covariance of the parameters could not be estimated\n",
      "  params, _ = curve_fit(func_optim, x, y, p0=[1., 0., 1., 0.], nan_policy='omit')\n",
      "/extra/rcappi/Kan-for-Graph-Dyn/utils/utils.py:383: OptimizeWarning: Covariance of the parameters could not be estimated\n",
      "  params, _ = curve_fit(func_optim, x, y, p0=[1., 0., 1., 0.], nan_policy='omit')\n",
      "/extra/rcappi/Kan-for-Graph-Dyn/utils/utils.py:383: OptimizeWarning: Covariance of the parameters could not be estimated\n",
      "  params, _ = curve_fit(func_optim, x, y, p0=[1., 0., 1., 0.], nan_policy='omit')\n",
      "/extra/rcappi/Kan-for-Graph-Dyn/utils/utils.py:383: OptimizeWarning: Covariance of the parameters could not be estimated\n",
      "  params, _ = curve_fit(func_optim, x, y, p0=[1., 0., 1., 0.], nan_policy='omit')\n"
     ]
    },
    {
     "name": "stdout",
     "output_type": "stream",
     "text": [
      "Pruning node (0,1)\n"
     ]
    },
    {
     "name": "stderr",
     "output_type": "stream",
     "text": [
      "/extra/rcappi/Kan-for-Graph-Dyn/utils/utils.py:383: OptimizeWarning: Covariance of the parameters could not be estimated\n",
      "  params, _ = curve_fit(func_optim, x, y, p0=[1., 0., 1., 0.], nan_policy='omit')\n",
      "/extra/rcappi/Kan-for-Graph-Dyn/utils/utils.py:383: OptimizeWarning: Covariance of the parameters could not be estimated\n",
      "  params, _ = curve_fit(func_optim, x, y, p0=[1., 0., 1., 0.], nan_policy='omit')\n",
      "/extra/rcappi/Kan-for-Graph-Dyn/utils/utils.py:383: OptimizeWarning: Covariance of the parameters could not be estimated\n",
      "  params, _ = curve_fit(func_optim, x, y, p0=[1., 0., 1., 0.], nan_policy='omit')\n",
      "/extra/rcappi/Kan-for-Graph-Dyn/utils/utils.py:383: OptimizeWarning: Covariance of the parameters could not be estimated\n",
      "  params, _ = curve_fit(func_optim, x, y, p0=[1., 0., 1., 0.], nan_policy='omit')\n",
      "/extra/rcappi/Kan-for-Graph-Dyn/utils/utils.py:383: OptimizeWarning: Covariance of the parameters could not be estimated\n",
      "  params, _ = curve_fit(func_optim, x, y, p0=[1., 0., 1., 0.], nan_policy='omit')\n",
      "/extra/rcappi/Kan-for-Graph-Dyn/utils/utils.py:383: OptimizeWarning: Covariance of the parameters could not be estimated\n",
      "  params, _ = curve_fit(func_optim, x, y, p0=[1., 0., 1., 0.], nan_policy='omit')\n",
      "/extra/rcappi/Kan-for-Graph-Dyn/utils/utils.py:383: OptimizeWarning: Covariance of the parameters could not be estimated\n",
      "  params, _ = curve_fit(func_optim, x, y, p0=[1., 0., 1., 0.], nan_policy='omit')\n"
     ]
    },
    {
     "name": "stdout",
     "output_type": "stream",
     "text": [
      "Test error: 0.01297961175441742\n"
     ]
    },
    {
     "data": {
      "text/latex": [
       "$\\displaystyle \\sum_{j}(-0.01*x_i + 0.18*x_j + 0.19*(-x_i + 0.7*x_j + 0.62)**2 + 0.8*sin(0.63*x_i + 0.48*x_j + 1.15) - 0.8) - 0.48 x_{i} + 0.03$"
      ],
      "text/plain": [
       "\\sum_{j}(-0.01*x_i + 0.18*x_j + 0.19*(-x_i + 0.7*x_j + 0.62)**2 + 0.8*sin(0.63*x_i + 0.48*x_j + 1.15) - 0.8) - 0.48*x_i + 0.03"
      ]
     },
     "execution_count": 17,
     "metadata": {},
     "output_type": "execute_result"
    }
   ],
   "source": [
    "model_path_gkan = './saved_models/gkan/model_epidemics_gkan/epidemics_gkan_ic1_s5/0/gkan'\n",
    "\n",
    "get_error_spline_wise(\n",
    "    model_path=model_path_gkan,\n",
    "    test_set=EPID,\n",
    "    theta=0.1\n",
    ")"
   ]
  },
  {
   "cell_type": "markdown",
   "metadata": {},
   "source": [
    "#### IC=3"
   ]
  },
  {
   "cell_type": "code",
   "execution_count": 15,
   "metadata": {},
   "outputs": [
    {
     "name": "stderr",
     "output_type": "stream",
     "text": [
      "/home/rcappi/.conda/envs/my_env/lib/python3.12/site-packages/pysr/sr.py:2774: UserWarning: Note: it looks like you are running in Jupyter. The progress bar will be turned off.\n",
      "  warnings.warn(\n",
      "/home/rcappi/.conda/envs/my_env/lib/python3.12/site-packages/pysr/sr.py:2774: UserWarning: Note: it looks like you are running in Jupyter. The progress bar will be turned off.\n",
      "  warnings.warn(\n"
     ]
    }
   ],
   "source": [
    "model_path_gkan = './saved_models/gkan/model_epidemics_gkan/epidemics_gkan_ic3_s5/1/gkan'\n",
    "\n",
    "pysr_model = lambda : get_pysr_model(\n",
    "    model_selection=\"score\",\n",
    "    n_iterations=200\n",
    ")\n",
    "\n",
    "gkan_symb = fit_black_box_from_kan(\n",
    "    n_g_hidden_layers=2,\n",
    "    n_h_hidden_layers=2,\n",
    "    device='cuda',\n",
    "    model_path=model_path_gkan,\n",
    "    pysr_model=pysr_model,\n",
    "    sample_size=10000,\n",
    "    theta=-np.inf,\n",
    "    message_passing=False\n",
    ")"
   ]
  },
  {
   "cell_type": "code",
   "execution_count": 17,
   "metadata": {},
   "outputs": [
    {
     "data": {
      "text/latex": [
       "$\\displaystyle \\sum_{j}( 0.500189*x_j*(0.9999729 - x_i)) - 0.500137812974365 x_{i}$"
      ],
      "text/plain": [
       "\\sum_{j}( 0.500189*x_j*(0.9999729 - x_i)) - 0.500137812974365*x_i"
      ]
     },
     "execution_count": 17,
     "metadata": {},
     "output_type": "execute_result"
    }
   ],
   "source": [
    "gkan_symb"
   ]
  },
  {
   "cell_type": "code",
   "execution_count": 18,
   "metadata": {},
   "outputs": [
    {
     "data": {
      "text/latex": [
       "$\\displaystyle \\sum_{j}(0.5*x_j*(1.0 - x_i)) - 0.5 x_{i}$"
      ],
      "text/plain": [
       "\\sum_{j}(0.5*x_j*(1.0 - x_i)) - 0.5*x_i"
      ]
     },
     "execution_count": 18,
     "metadata": {},
     "output_type": "execute_result"
    }
   ],
   "source": [
    "quantise(gkan_symb)"
   ]
  },
  {
   "cell_type": "code",
   "execution_count": 41,
   "metadata": {},
   "outputs": [
    {
     "name": "stdout",
     "output_type": "stream",
     "text": [
      "Test loss of symbolic formula: 6.870869401609525e-05\n",
      "Number of model's parameters: 142\n",
      "Test loss best model: 0.00019070653070230037\n"
     ]
    }
   ],
   "source": [
    "g_symb = lambda x: 0.5001888*x[:, 1].unsqueeze(-1) * (0.999973 - x[:, 0].unsqueeze(-1))\n",
    "h_symb = lambda x: x[:, 1].unsqueeze(-1) - 0.500137812974365 * x[:, 0].unsqueeze(-1)\n",
    "\n",
    "y_true, y_pred = post_process_gkan(\n",
    "    g_symb=g_symb,\n",
    "    h_symb=h_symb,\n",
    "    model_path='./saved_models/gkan/model_epidemics_gkan/epidemics_gkan_ic3_s5/1',\n",
    "    test_set=EPID,\n",
    "    message_passing=False,\n",
    "    include_time=False,\n",
    "    method='dopri5'\n",
    ")"
   ]
  },
  {
   "cell_type": "code",
   "execution_count": 18,
   "metadata": {},
   "outputs": [
    {
     "name": "stderr",
     "output_type": "stream",
     "text": [
      "/extra/rcappi/Kan-for-Graph-Dyn/utils/utils.py:383: OptimizeWarning: Covariance of the parameters could not be estimated\n",
      "  params, _ = curve_fit(func_optim, x, y, p0=[1., 0., 1., 0.], nan_policy='omit')\n",
      "/extra/rcappi/Kan-for-Graph-Dyn/utils/utils.py:383: OptimizeWarning: Covariance of the parameters could not be estimated\n",
      "  params, _ = curve_fit(func_optim, x, y, p0=[1., 0., 1., 0.], nan_policy='omit')\n",
      "/extra/rcappi/Kan-for-Graph-Dyn/utils/utils.py:383: OptimizeWarning: Covariance of the parameters could not be estimated\n",
      "  params, _ = curve_fit(func_optim, x, y, p0=[1., 0., 1., 0.], nan_policy='omit')\n",
      "/extra/rcappi/Kan-for-Graph-Dyn/utils/utils.py:383: OptimizeWarning: Covariance of the parameters could not be estimated\n",
      "  params, _ = curve_fit(func_optim, x, y, p0=[1., 0., 1., 0.], nan_policy='omit')\n",
      "/extra/rcappi/Kan-for-Graph-Dyn/utils/utils.py:383: OptimizeWarning: Covariance of the parameters could not be estimated\n",
      "  params, _ = curve_fit(func_optim, x, y, p0=[1., 0., 1., 0.], nan_policy='omit')\n",
      "/extra/rcappi/Kan-for-Graph-Dyn/utils/utils.py:383: OptimizeWarning: Covariance of the parameters could not be estimated\n",
      "  params, _ = curve_fit(func_optim, x, y, p0=[1., 0., 1., 0.], nan_policy='omit')\n",
      "/extra/rcappi/Kan-for-Graph-Dyn/utils/utils.py:383: OptimizeWarning: Covariance of the parameters could not be estimated\n",
      "  params, _ = curve_fit(func_optim, x, y, p0=[1., 0., 1., 0.], nan_policy='omit')\n",
      "/extra/rcappi/Kan-for-Graph-Dyn/utils/utils.py:383: OptimizeWarning: Covariance of the parameters could not be estimated\n",
      "  params, _ = curve_fit(func_optim, x, y, p0=[1., 0., 1., 0.], nan_policy='omit')\n",
      "/extra/rcappi/Kan-for-Graph-Dyn/utils/utils.py:383: OptimizeWarning: Covariance of the parameters could not be estimated\n",
      "  params, _ = curve_fit(func_optim, x, y, p0=[1., 0., 1., 0.], nan_policy='omit')\n",
      "/extra/rcappi/Kan-for-Graph-Dyn/utils/utils.py:383: OptimizeWarning: Covariance of the parameters could not be estimated\n",
      "  params, _ = curve_fit(func_optim, x, y, p0=[1., 0., 1., 0.], nan_policy='omit')\n",
      "/extra/rcappi/Kan-for-Graph-Dyn/utils/utils.py:383: OptimizeWarning: Covariance of the parameters could not be estimated\n",
      "  params, _ = curve_fit(func_optim, x, y, p0=[1., 0., 1., 0.], nan_policy='omit')\n",
      "/extra/rcappi/Kan-for-Graph-Dyn/utils/utils.py:383: OptimizeWarning: Covariance of the parameters could not be estimated\n",
      "  params, _ = curve_fit(func_optim, x, y, p0=[1., 0., 1., 0.], nan_policy='omit')\n",
      "/extra/rcappi/Kan-for-Graph-Dyn/utils/utils.py:383: OptimizeWarning: Covariance of the parameters could not be estimated\n",
      "  params, _ = curve_fit(func_optim, x, y, p0=[1., 0., 1., 0.], nan_policy='omit')\n",
      "/extra/rcappi/Kan-for-Graph-Dyn/utils/utils.py:383: OptimizeWarning: Covariance of the parameters could not be estimated\n",
      "  params, _ = curve_fit(func_optim, x, y, p0=[1., 0., 1., 0.], nan_policy='omit')\n",
      "/extra/rcappi/Kan-for-Graph-Dyn/utils/utils.py:383: OptimizeWarning: Covariance of the parameters could not be estimated\n",
      "  params, _ = curve_fit(func_optim, x, y, p0=[1., 0., 1., 0.], nan_policy='omit')\n",
      "/extra/rcappi/Kan-for-Graph-Dyn/utils/utils.py:383: OptimizeWarning: Covariance of the parameters could not be estimated\n",
      "  params, _ = curve_fit(func_optim, x, y, p0=[1., 0., 1., 0.], nan_policy='omit')\n",
      "/extra/rcappi/Kan-for-Graph-Dyn/utils/utils.py:383: OptimizeWarning: Covariance of the parameters could not be estimated\n",
      "  params, _ = curve_fit(func_optim, x, y, p0=[1., 0., 1., 0.], nan_policy='omit')\n",
      "/extra/rcappi/Kan-for-Graph-Dyn/utils/utils.py:383: OptimizeWarning: Covariance of the parameters could not be estimated\n",
      "  params, _ = curve_fit(func_optim, x, y, p0=[1., 0., 1., 0.], nan_policy='omit')\n",
      "/extra/rcappi/Kan-for-Graph-Dyn/utils/utils.py:383: OptimizeWarning: Covariance of the parameters could not be estimated\n",
      "  params, _ = curve_fit(func_optim, x, y, p0=[1., 0., 1., 0.], nan_policy='omit')\n",
      "/extra/rcappi/Kan-for-Graph-Dyn/utils/utils.py:383: OptimizeWarning: Covariance of the parameters could not be estimated\n",
      "  params, _ = curve_fit(func_optim, x, y, p0=[1., 0., 1., 0.], nan_policy='omit')\n",
      "/extra/rcappi/Kan-for-Graph-Dyn/utils/utils.py:383: OptimizeWarning: Covariance of the parameters could not be estimated\n",
      "  params, _ = curve_fit(func_optim, x, y, p0=[1., 0., 1., 0.], nan_policy='omit')\n"
     ]
    },
    {
     "name": "stdout",
     "output_type": "stream",
     "text": [
      "Test error: 0.005588100291788578\n"
     ]
    },
    {
     "data": {
      "text/latex": [
       "$\\displaystyle \\sum_{j}(0.03*x_i + 0.12*x_j + 0.26*(-x_i + 0.62*x_j + 0.71)**2 - 0.15*sin(1.27*x_i + 1.12*x_j - 2.52) - 0.17) + 0.14 \\left(0.65 x_{i} - 1\\right)^{2} - 0.17 \\left(x_{i} + 0.54\\right)^{2} - 0.13$"
      ],
      "text/plain": [
       "\\sum_{j}(0.03*x_i + 0.12*x_j + 0.26*(-x_i + 0.62*x_j + 0.71)**2 - 0.15*sin(1.27*x_i + 1.12*x_j - 2.52) - 0.17) + 0.14*(0.65*x_i - 1)**2 - 0.17*(x_i + 0.54)**2 - 0.13"
      ]
     },
     "execution_count": 18,
     "metadata": {},
     "output_type": "execute_result"
    }
   ],
   "source": [
    "model_path_gkan = './saved_models/gkan/model_epidemics_gkan/epidemics_gkan_ic3_s5/1/gkan'\n",
    "\n",
    "get_error_spline_wise(\n",
    "    model_path=model_path_gkan,\n",
    "    test_set=EPID,\n",
    "    theta=0.1\n",
    ")"
   ]
  },
  {
   "cell_type": "markdown",
   "metadata": {},
   "source": [
    "#### IC=5"
   ]
  },
  {
   "cell_type": "code",
   "execution_count": 19,
   "metadata": {},
   "outputs": [
    {
     "name": "stderr",
     "output_type": "stream",
     "text": [
      "/home/rcappi/.conda/envs/my_env/lib/python3.12/site-packages/pysr/sr.py:2774: UserWarning: Note: it looks like you are running in Jupyter. The progress bar will be turned off.\n",
      "  warnings.warn(\n",
      "/home/rcappi/.conda/envs/my_env/lib/python3.12/site-packages/pysr/sr.py:2774: UserWarning: Note: it looks like you are running in Jupyter. The progress bar will be turned off.\n",
      "  warnings.warn(\n"
     ]
    }
   ],
   "source": [
    "model_path_gkan = './saved_models/gkan/model_epidemics_gkan/epidemics_gkan_ic5_s5/2/gkan'\n",
    "\n",
    "pysr_model = lambda : get_pysr_model(\n",
    "    model_selection=\"score\",\n",
    "    n_iterations=200\n",
    ")\n",
    "\n",
    "gkan_symb = fit_black_box_from_kan(\n",
    "    n_g_hidden_layers=2,\n",
    "    n_h_hidden_layers=2,\n",
    "    device='cuda',\n",
    "    model_path=model_path_gkan,\n",
    "    pysr_model=pysr_model,\n",
    "    sample_size=10000,\n",
    "    theta=-np.inf,\n",
    "    message_passing=False\n",
    ")"
   ]
  },
  {
   "cell_type": "code",
   "execution_count": 20,
   "metadata": {},
   "outputs": [
    {
     "data": {
      "text/latex": [
       "$\\displaystyle \\sum_{j}( x_j*(0.49999106 - 0.4999124*x_i)) - 0.5005673 x_{i}$"
      ],
      "text/plain": [
       "\\sum_{j}( x_j*(0.49999106 - 0.4999124*x_i)) - 0.5005673*x_i"
      ]
     },
     "execution_count": 20,
     "metadata": {},
     "output_type": "execute_result"
    }
   ],
   "source": [
    "gkan_symb"
   ]
  },
  {
   "cell_type": "code",
   "execution_count": 21,
   "metadata": {},
   "outputs": [
    {
     "data": {
      "text/latex": [
       "$\\displaystyle \\sum_{j}(x_j*(0.5 - 0.5*x_i)) - 0.5 x_{i}$"
      ],
      "text/plain": [
       "\\sum_{j}(x_j*(0.5 - 0.5*x_i)) - 0.5*x_i"
      ]
     },
     "execution_count": 21,
     "metadata": {},
     "output_type": "execute_result"
    }
   ],
   "source": [
    "quantise(gkan_symb)"
   ]
  },
  {
   "cell_type": "code",
   "execution_count": 37,
   "metadata": {},
   "outputs": [
    {
     "name": "stdout",
     "output_type": "stream",
     "text": [
      "Test loss of symbolic formula: 9.24893029150553e-05\n",
      "Number of model's parameters: 165\n",
      "Test loss best model: 0.00031030617537908256\n"
     ]
    }
   ],
   "source": [
    "g_symb = lambda x: x[:, 1].unsqueeze(-1) * (0.49999106 - 0.4999124 *x[:, 0].unsqueeze(-1))\n",
    "h_symb = lambda x: x[:, 1].unsqueeze(-1) - 0.5005673 * x[:, 0].unsqueeze(-1)\n",
    "\n",
    "y_true, y_pred = post_process_gkan(\n",
    "    g_symb=g_symb,\n",
    "    h_symb=h_symb,\n",
    "    model_path='./saved_models/gkan/model_epidemics_gkan/epidemics_gkan_ic5_s5/2',\n",
    "    test_set=EPID,\n",
    "    message_passing=False,\n",
    "    include_time=False,\n",
    "    method='dopri5'\n",
    ")"
   ]
  },
  {
   "cell_type": "code",
   "execution_count": 14,
   "metadata": {},
   "outputs": [
    {
     "name": "stdout",
     "output_type": "stream",
     "text": [
      "Pruning node (0,0)\n"
     ]
    },
    {
     "name": "stderr",
     "output_type": "stream",
     "text": [
      "/extra/rcappi/Kan-for-Graph-Dyn/utils/utils.py:383: OptimizeWarning: Covariance of the parameters could not be estimated\n",
      "  params, _ = curve_fit(func_optim, x, y, p0=[1., 0., 1., 0.], nan_policy='omit')\n",
      "/extra/rcappi/Kan-for-Graph-Dyn/utils/utils.py:383: OptimizeWarning: Covariance of the parameters could not be estimated\n",
      "  params, _ = curve_fit(func_optim, x, y, p0=[1., 0., 1., 0.], nan_policy='omit')\n",
      "/extra/rcappi/Kan-for-Graph-Dyn/utils/utils.py:383: OptimizeWarning: Covariance of the parameters could not be estimated\n",
      "  params, _ = curve_fit(func_optim, x, y, p0=[1., 0., 1., 0.], nan_policy='omit')\n",
      "/extra/rcappi/Kan-for-Graph-Dyn/utils/utils.py:383: OptimizeWarning: Covariance of the parameters could not be estimated\n",
      "  params, _ = curve_fit(func_optim, x, y, p0=[1., 0., 1., 0.], nan_policy='omit')\n",
      "/extra/rcappi/Kan-for-Graph-Dyn/utils/utils.py:383: OptimizeWarning: Covariance of the parameters could not be estimated\n",
      "  params, _ = curve_fit(func_optim, x, y, p0=[1., 0., 1., 0.], nan_policy='omit')\n",
      "/extra/rcappi/Kan-for-Graph-Dyn/utils/utils.py:383: OptimizeWarning: Covariance of the parameters could not be estimated\n",
      "  params, _ = curve_fit(func_optim, x, y, p0=[1., 0., 1., 0.], nan_policy='omit')\n",
      "/extra/rcappi/Kan-for-Graph-Dyn/utils/utils.py:383: OptimizeWarning: Covariance of the parameters could not be estimated\n",
      "  params, _ = curve_fit(func_optim, x, y, p0=[1., 0., 1., 0.], nan_policy='omit')\n",
      "/extra/rcappi/Kan-for-Graph-Dyn/utils/utils.py:383: OptimizeWarning: Covariance of the parameters could not be estimated\n",
      "  params, _ = curve_fit(func_optim, x, y, p0=[1., 0., 1., 0.], nan_policy='omit')\n",
      "/extra/rcappi/Kan-for-Graph-Dyn/utils/utils.py:383: OptimizeWarning: Covariance of the parameters could not be estimated\n",
      "  params, _ = curve_fit(func_optim, x, y, p0=[1., 0., 1., 0.], nan_policy='omit')\n"
     ]
    },
    {
     "name": "stdout",
     "output_type": "stream",
     "text": [
      "Pruning node (0,0)\n"
     ]
    },
    {
     "name": "stderr",
     "output_type": "stream",
     "text": [
      "/extra/rcappi/Kan-for-Graph-Dyn/utils/utils.py:383: OptimizeWarning: Covariance of the parameters could not be estimated\n",
      "  params, _ = curve_fit(func_optim, x, y, p0=[1., 0., 1., 0.], nan_policy='omit')\n",
      "/extra/rcappi/Kan-for-Graph-Dyn/utils/utils.py:383: OptimizeWarning: Covariance of the parameters could not be estimated\n",
      "  params, _ = curve_fit(func_optim, x, y, p0=[1., 0., 1., 0.], nan_policy='omit')\n"
     ]
    },
    {
     "name": "stdout",
     "output_type": "stream",
     "text": [
      "Test error: 0.03291142359375954\n"
     ]
    }
   ],
   "source": [
    "model_path_gkan = './saved_models/gkan/model_epidemics_gkan/epidemics_gkan_ic5_s5/2/gkan'\n",
    "\n",
    "spline_wise = get_error_spline_wise(\n",
    "    model_path=model_path_gkan,\n",
    "    test_set=EPID,\n",
    "    theta=0.1\n",
    ")"
   ]
  },
  {
   "cell_type": "code",
   "execution_count": 15,
   "metadata": {},
   "outputs": [
    {
     "data": {
      "text/latex": [
       "$\\displaystyle \\sum_{j}(-0.09*x_i - 0.13*(x_j - 0.61)**2 + 0.2*(-x_i + 0.97*x_j + 0.52)**2 + 0.08) - 0.51 x_{i} + 0.06$"
      ],
      "text/plain": [
       "\\sum_{j}(-0.09*x_i - 0.13*(x_j - 0.61)**2 + 0.2*(-x_i + 0.97*x_j + 0.52)**2 + 0.08) - 0.51*x_i + 0.06"
      ]
     },
     "execution_count": 15,
     "metadata": {},
     "output_type": "execute_result"
    }
   ],
   "source": [
    "spline_wise"
   ]
  },
  {
   "cell_type": "code",
   "execution_count": 22,
   "metadata": {},
   "outputs": [
    {
     "data": {
      "text/plain": [
       "'\\\\sum_{j}(-0.09*x_i - 0.13*(x_j - 0.61)**2 + 0.2*(-x_i + 0.97*x_j + 0.52)**2 + 0.08) - 0.51 x_{i} + 0.06'"
      ]
     },
     "execution_count": 22,
     "metadata": {},
     "output_type": "execute_result"
    }
   ],
   "source": [
    "from sympy import latex\n",
    "\n",
    "latex(spline_wise)"
   ]
  },
  {
   "cell_type": "code",
   "execution_count": 6,
   "metadata": {},
   "outputs": [],
   "source": [
    "model_path_gkan = './saved_models/gkan/model_epidemics_gkan/epidemics_gkan_ic5_s5/2/gkan'\n",
    "\n",
    "gkan_symb = fit_black_box_from_kan(\n",
    "    n_g_hidden_layers=2,\n",
    "    n_h_hidden_layers=2,\n",
    "    device='cuda',\n",
    "    model_path=model_path_gkan,\n",
    "    pysr_model=None,\n",
    "    sample_size=20000,\n",
    "    theta=-np.inf,\n",
    "    message_passing=False,\n",
    "    use_sindy=True,\n",
    "    gamma=0.01\n",
    ")"
   ]
  },
  {
   "cell_type": "code",
   "execution_count": 7,
   "metadata": {},
   "outputs": [
    {
     "data": {
      "text/latex": [
       "$\\displaystyle \\sum_{j}(0.03*exp(x_j) - 0.09*log(Abs(x_i))) - 0.17 e^{x_{i}} - 0.01 \\log{\\left(\\left|{x_{i}}\\right| \\right)}$"
      ],
      "text/plain": [
       "\\sum_{j}(0.03*exp(x_j) - 0.09*log(Abs(x_i))) - 0.17*exp(x_i) - 0.01*log(Abs(x_i))"
      ]
     },
     "execution_count": 7,
     "metadata": {},
     "output_type": "execute_result"
    }
   ],
   "source": [
    "quantise(gkan_symb)"
   ]
  },
  {
   "cell_type": "markdown",
   "metadata": {},
   "source": [
    "### Neuronal GKAN"
   ]
  },
  {
   "cell_type": "markdown",
   "metadata": {},
   "source": [
    "#### IC=1"
   ]
  },
  {
   "cell_type": "code",
   "execution_count": 52,
   "metadata": {},
   "outputs": [
    {
     "name": "stderr",
     "output_type": "stream",
     "text": [
      "/home/rcappi/.conda/envs/my_env/lib/python3.12/site-packages/pysr/sr.py:2774: UserWarning: Note: it looks like you are running in Jupyter. The progress bar will be turned off.\n",
      "  warnings.warn(\n",
      "/home/rcappi/.conda/envs/my_env/lib/python3.12/site-packages/pysr/sr.py:2774: UserWarning: Note: it looks like you are running in Jupyter. The progress bar will be turned off.\n",
      "  warnings.warn(\n"
     ]
    }
   ],
   "source": [
    "model_path_gkan = \"./saved_models/gkan/model_neuronal_gkan/neuronal_gkan_ic1_s5/1/gkan\"\n",
    "\n",
    "pysr_model = lambda : get_pysr_model(\n",
    "    model_selection=\"score\",\n",
    "    n_iterations=300\n",
    ")\n",
    "\n",
    "gkan_symb = fit_black_box_from_kan(\n",
    "    n_g_hidden_layers=2,\n",
    "    n_h_hidden_layers=2,\n",
    "    device='cuda',\n",
    "    model_path=model_path_gkan,\n",
    "    pysr_model=pysr_model,\n",
    "    sample_size=10000,\n",
    "    theta=-np.inf,\n",
    "    message_passing=False\n",
    ")"
   ]
  },
  {
   "cell_type": "code",
   "execution_count": 53,
   "metadata": {},
   "outputs": [
    {
     "data": {
      "text/latex": [
       "$\\displaystyle \\sum_{j}( 0.29587078*tanh(x_j)) + \\tanh{\\left(\\frac{1.9334015}{x_{i}} \\right)} - 0.8728571$"
      ],
      "text/plain": [
       "\\sum_{j}( 0.29587078*tanh(x_j)) + tanh(1.9334015/x_i) - 0.8728571"
      ]
     },
     "execution_count": 53,
     "metadata": {},
     "output_type": "execute_result"
    }
   ],
   "source": [
    "gkan_symb"
   ]
  },
  {
   "cell_type": "code",
   "execution_count": 54,
   "metadata": {},
   "outputs": [
    {
     "data": {
      "text/latex": [
       "$\\displaystyle \\sum_{j}(0.3*tanh(x_j)) + \\tanh{\\left(\\frac{1.93}{x_{i}} \\right)} - 0.87$"
      ],
      "text/plain": [
       "\\sum_{j}(0.3*tanh(x_j)) + tanh(1.93/x_i) - 0.87"
      ]
     },
     "execution_count": 54,
     "metadata": {},
     "output_type": "execute_result"
    }
   ],
   "source": [
    "quantise(gkan_symb)"
   ]
  },
  {
   "cell_type": "code",
   "execution_count": 38,
   "metadata": {},
   "outputs": [
    {
     "name": "stdout",
     "output_type": "stream",
     "text": [
      "Test loss of symbolic formula: 0.01227455586194992\n",
      "Number of model's parameters: 108\n",
      "Test loss best model: 0.0014574796659871936\n"
     ]
    }
   ],
   "source": [
    "g_symb = lambda x: 0.29587078 * torch.tanh(x[:, 1].unsqueeze(-1))\n",
    "h_symb = lambda x: x[:, 1].unsqueeze(-1) + torch.tanh(1.9334015/x[:, 0].unsqueeze(-1)) - 0.8728571\n",
    "\n",
    "y_true, y_pred = post_process_gkan(\n",
    "    g_symb=g_symb,\n",
    "    h_symb=h_symb,\n",
    "    model_path='./saved_models/gkan/model_neuronal_gkan/neuronal_gkan_ic1_s5/1',\n",
    "    test_set=NEUR,\n",
    "    message_passing=False,\n",
    "    include_time=False,\n",
    "    method='dopri5'\n",
    ")"
   ]
  },
  {
   "cell_type": "code",
   "execution_count": 28,
   "metadata": {},
   "outputs": [
    {
     "name": "stderr",
     "output_type": "stream",
     "text": [
      "/extra/rcappi/Kan-for-Graph-Dyn/utils/utils.py:383: OptimizeWarning: Covariance of the parameters could not be estimated\n",
      "  params, _ = curve_fit(func_optim, x, y, p0=[1., 0., 1., 0.], nan_policy='omit')\n",
      "/extra/rcappi/Kan-for-Graph-Dyn/utils/utils.py:383: OptimizeWarning: Covariance of the parameters could not be estimated\n",
      "  params, _ = curve_fit(func_optim, x, y, p0=[1., 0., 1., 0.], nan_policy='omit')\n",
      "/extra/rcappi/Kan-for-Graph-Dyn/utils/utils.py:383: OptimizeWarning: Covariance of the parameters could not be estimated\n",
      "  params, _ = curve_fit(func_optim, x, y, p0=[1., 0., 1., 0.], nan_policy='omit')\n",
      "/extra/rcappi/Kan-for-Graph-Dyn/utils/utils.py:383: OptimizeWarning: Covariance of the parameters could not be estimated\n",
      "  params, _ = curve_fit(func_optim, x, y, p0=[1., 0., 1., 0.], nan_policy='omit')\n",
      "/extra/rcappi/Kan-for-Graph-Dyn/utils/utils.py:383: OptimizeWarning: Covariance of the parameters could not be estimated\n",
      "  params, _ = curve_fit(func_optim, x, y, p0=[1., 0., 1., 0.], nan_policy='omit')\n",
      "/extra/rcappi/Kan-for-Graph-Dyn/utils/utils.py:383: OptimizeWarning: Covariance of the parameters could not be estimated\n",
      "  params, _ = curve_fit(func_optim, x, y, p0=[1., 0., 1., 0.], nan_policy='omit')\n",
      "/extra/rcappi/Kan-for-Graph-Dyn/utils/utils.py:383: OptimizeWarning: Covariance of the parameters could not be estimated\n",
      "  params, _ = curve_fit(func_optim, x, y, p0=[1., 0., 1., 0.], nan_policy='omit')\n",
      "/extra/rcappi/Kan-for-Graph-Dyn/utils/utils.py:383: OptimizeWarning: Covariance of the parameters could not be estimated\n",
      "  params, _ = curve_fit(func_optim, x, y, p0=[1., 0., 1., 0.], nan_policy='omit')\n",
      "/extra/rcappi/Kan-for-Graph-Dyn/utils/utils.py:383: OptimizeWarning: Covariance of the parameters could not be estimated\n",
      "  params, _ = curve_fit(func_optim, x, y, p0=[1., 0., 1., 0.], nan_policy='omit')\n",
      "/extra/rcappi/Kan-for-Graph-Dyn/utils/utils.py:383: OptimizeWarning: Covariance of the parameters could not be estimated\n",
      "  params, _ = curve_fit(func_optim, x, y, p0=[1., 0., 1., 0.], nan_policy='omit')\n",
      "/extra/rcappi/Kan-for-Graph-Dyn/utils/utils.py:383: OptimizeWarning: Covariance of the parameters could not be estimated\n",
      "  params, _ = curve_fit(func_optim, x, y, p0=[1., 0., 1., 0.], nan_policy='omit')\n",
      "/extra/rcappi/Kan-for-Graph-Dyn/utils/utils.py:383: OptimizeWarning: Covariance of the parameters could not be estimated\n",
      "  params, _ = curve_fit(func_optim, x, y, p0=[1., 0., 1., 0.], nan_policy='omit')\n",
      "/extra/rcappi/Kan-for-Graph-Dyn/utils/utils.py:383: OptimizeWarning: Covariance of the parameters could not be estimated\n",
      "  params, _ = curve_fit(func_optim, x, y, p0=[1., 0., 1., 0.], nan_policy='omit')\n"
     ]
    },
    {
     "name": "stdout",
     "output_type": "stream",
     "text": [
      "Test error: 0.014304430224001408\n"
     ]
    }
   ],
   "source": [
    "model_path_gkan = \"./saved_models/gkan/model_neuronal_gkan/neuronal_gkan_ic1_s5/1/gkan\"\n",
    "\n",
    "spline_wise = get_error_spline_wise(\n",
    "    model_path=model_path_gkan,\n",
    "    test_set=NEUR,\n",
    "    theta=0.01\n",
    ")"
   ]
  },
  {
   "cell_type": "code",
   "execution_count": 29,
   "metadata": {},
   "outputs": [
    {
     "data": {
      "text/latex": [
       "$\\displaystyle \\sum_{j}(-64.1*(0.99*tanh(0.55*x_j + 1.92) - 1)**2 - 0.12*(0.1*x_i - 0.4*x_j + 1)**2 + 0.31) + 0.24 \\sin{\\left(1.5 x_{i} + 0.53 \\right)} - 0.1$"
      ],
      "text/plain": [
       "\\sum_{j}(-64.1*(0.99*tanh(0.55*x_j + 1.92) - 1)**2 - 0.12*(0.1*x_i - 0.4*x_j + 1)**2 + 0.31) + 0.24*sin(1.5*x_i + 0.53) - 0.1"
      ]
     },
     "execution_count": 29,
     "metadata": {},
     "output_type": "execute_result"
    }
   ],
   "source": [
    "spline_wise"
   ]
  },
  {
   "cell_type": "markdown",
   "metadata": {},
   "source": [
    "#### IC=3"
   ]
  },
  {
   "cell_type": "code",
   "execution_count": 55,
   "metadata": {},
   "outputs": [
    {
     "name": "stderr",
     "output_type": "stream",
     "text": [
      "/home/rcappi/.conda/envs/my_env/lib/python3.12/site-packages/pysr/sr.py:2774: UserWarning: Note: it looks like you are running in Jupyter. The progress bar will be turned off.\n",
      "  warnings.warn(\n",
      "/home/rcappi/.conda/envs/my_env/lib/python3.12/site-packages/pysr/sr.py:2774: UserWarning: Note: it looks like you are running in Jupyter. The progress bar will be turned off.\n",
      "  warnings.warn(\n"
     ]
    }
   ],
   "source": [
    "model_path_gkan = \"./saved_models/gkan/model_neuronal_gkan/neuronal_gkan_ic3_s5/1/gkan\"\n",
    "\n",
    "pysr_model = lambda : get_pysr_model(\n",
    "    model_selection=\"score\",\n",
    "    n_iterations=200\n",
    ")\n",
    "\n",
    "gkan_symb = fit_black_box_from_kan(\n",
    "    n_g_hidden_layers=2,\n",
    "    n_h_hidden_layers=2,\n",
    "    device='cuda',\n",
    "    model_path=model_path_gkan,\n",
    "    pysr_model=pysr_model,\n",
    "    sample_size=10000,\n",
    "    theta=-np.inf,\n",
    "    message_passing=False\n",
    ")"
   ]
  },
  {
   "cell_type": "code",
   "execution_count": 56,
   "metadata": {},
   "outputs": [
    {
     "data": {
      "text/latex": [
       "$\\displaystyle \\sum_{j}( 0.29789564*tanh(x_j)) - 1.6103699 \\log{\\left(x_{i} + 1 \\right)} + 1.6103699 \\tanh{\\left(x_{i} \\right)}$"
      ],
      "text/plain": [
       "\\sum_{j}( 0.29789564*tanh(x_j)) - 1.6103699*log(x_i + 1) + 1.6103699*tanh(x_i)"
      ]
     },
     "execution_count": 56,
     "metadata": {},
     "output_type": "execute_result"
    }
   ],
   "source": [
    "gkan_symb"
   ]
  },
  {
   "cell_type": "code",
   "execution_count": 4,
   "metadata": {},
   "outputs": [
    {
     "data": {
      "text/latex": [
       "$\\displaystyle \\sum_{j}(0.3*tanh(x_j)) - 0.63 x_{i} + \\log{\\left(x_{i} + 1 \\right)}$"
      ],
      "text/plain": [
       "\\sum_{j}(0.3*tanh(x_j)) - 0.63*x_i + log(x_i + 1)"
      ]
     },
     "execution_count": 4,
     "metadata": {},
     "output_type": "execute_result"
    }
   ],
   "source": [
    "quantise(gkan_symb)"
   ]
  },
  {
   "cell_type": "code",
   "execution_count": 39,
   "metadata": {},
   "outputs": [
    {
     "name": "stdout",
     "output_type": "stream",
     "text": [
      "Test loss of symbolic formula: 0.0134543776512146\n",
      "Number of model's parameters: 201\n",
      "Test loss best model: 0.0003793847281485796\n"
     ]
    }
   ],
   "source": [
    "g_symb = lambda x: 0.29789564 * torch.tanh(x[:, 1].unsqueeze(-1))\n",
    "h_symb = lambda x: x[:, 1].unsqueeze(-1) - 1.6103699 * torch.log(x[:, 0].unsqueeze(-1) + 1) + 1.6103699 * torch.tanh(x[:, 0].unsqueeze(-1))\n",
    "\n",
    "y_true, y_pred = post_process_gkan(\n",
    "    g_symb=g_symb,\n",
    "    h_symb=h_symb,\n",
    "    model_path='./saved_models/gkan/model_neuronal_gkan/neuronal_gkan_ic3_s5/1',\n",
    "    test_set=NEUR,\n",
    "    message_passing=False,\n",
    "    include_time=False,\n",
    "    method='dopri5'\n",
    ")"
   ]
  },
  {
   "cell_type": "code",
   "execution_count": 31,
   "metadata": {},
   "outputs": [
    {
     "name": "stderr",
     "output_type": "stream",
     "text": [
      "/extra/rcappi/Kan-for-Graph-Dyn/utils/utils.py:383: OptimizeWarning: Covariance of the parameters could not be estimated\n",
      "  params, _ = curve_fit(func_optim, x, y, p0=[1., 0., 1., 0.], nan_policy='omit')\n",
      "/extra/rcappi/Kan-for-Graph-Dyn/utils/utils.py:383: OptimizeWarning: Covariance of the parameters could not be estimated\n",
      "  params, _ = curve_fit(func_optim, x, y, p0=[1., 0., 1., 0.], nan_policy='omit')\n",
      "/extra/rcappi/Kan-for-Graph-Dyn/utils/utils.py:383: OptimizeWarning: Covariance of the parameters could not be estimated\n",
      "  params, _ = curve_fit(func_optim, x, y, p0=[1., 0., 1., 0.], nan_policy='omit')\n",
      "/extra/rcappi/Kan-for-Graph-Dyn/utils/utils.py:383: OptimizeWarning: Covariance of the parameters could not be estimated\n",
      "  params, _ = curve_fit(func_optim, x, y, p0=[1., 0., 1., 0.], nan_policy='omit')\n",
      "/extra/rcappi/Kan-for-Graph-Dyn/utils/utils.py:383: OptimizeWarning: Covariance of the parameters could not be estimated\n",
      "  params, _ = curve_fit(func_optim, x, y, p0=[1., 0., 1., 0.], nan_policy='omit')\n",
      "/extra/rcappi/Kan-for-Graph-Dyn/utils/utils.py:383: OptimizeWarning: Covariance of the parameters could not be estimated\n",
      "  params, _ = curve_fit(func_optim, x, y, p0=[1., 0., 1., 0.], nan_policy='omit')\n",
      "/extra/rcappi/Kan-for-Graph-Dyn/utils/utils.py:383: OptimizeWarning: Covariance of the parameters could not be estimated\n",
      "  params, _ = curve_fit(func_optim, x, y, p0=[1., 0., 1., 0.], nan_policy='omit')\n",
      "/extra/rcappi/Kan-for-Graph-Dyn/utils/utils.py:383: OptimizeWarning: Covariance of the parameters could not be estimated\n",
      "  params, _ = curve_fit(func_optim, x, y, p0=[1., 0., 1., 0.], nan_policy='omit')\n",
      "/extra/rcappi/Kan-for-Graph-Dyn/utils/utils.py:383: OptimizeWarning: Covariance of the parameters could not be estimated\n",
      "  params, _ = curve_fit(func_optim, x, y, p0=[1., 0., 1., 0.], nan_policy='omit')\n",
      "/extra/rcappi/Kan-for-Graph-Dyn/utils/utils.py:383: OptimizeWarning: Covariance of the parameters could not be estimated\n",
      "  params, _ = curve_fit(func_optim, x, y, p0=[1., 0., 1., 0.], nan_policy='omit')\n",
      "/extra/rcappi/Kan-for-Graph-Dyn/utils/utils.py:383: OptimizeWarning: Covariance of the parameters could not be estimated\n",
      "  params, _ = curve_fit(func_optim, x, y, p0=[1., 0., 1., 0.], nan_policy='omit')\n",
      "/extra/rcappi/Kan-for-Graph-Dyn/utils/utils.py:383: OptimizeWarning: Covariance of the parameters could not be estimated\n",
      "  params, _ = curve_fit(func_optim, x, y, p0=[1., 0., 1., 0.], nan_policy='omit')\n",
      "/extra/rcappi/Kan-for-Graph-Dyn/utils/utils.py:383: OptimizeWarning: Covariance of the parameters could not be estimated\n",
      "  params, _ = curve_fit(func_optim, x, y, p0=[1., 0., 1., 0.], nan_policy='omit')\n",
      "/extra/rcappi/Kan-for-Graph-Dyn/utils/utils.py:383: OptimizeWarning: Covariance of the parameters could not be estimated\n",
      "  params, _ = curve_fit(func_optim, x, y, p0=[1., 0., 1., 0.], nan_policy='omit')\n",
      "/extra/rcappi/Kan-for-Graph-Dyn/utils/utils.py:383: OptimizeWarning: Covariance of the parameters could not be estimated\n",
      "  params, _ = curve_fit(func_optim, x, y, p0=[1., 0., 1., 0.], nan_policy='omit')\n",
      "/extra/rcappi/Kan-for-Graph-Dyn/utils/utils.py:383: OptimizeWarning: Covariance of the parameters could not be estimated\n",
      "  params, _ = curve_fit(func_optim, x, y, p0=[1., 0., 1., 0.], nan_policy='omit')\n",
      "/extra/rcappi/Kan-for-Graph-Dyn/utils/utils.py:383: OptimizeWarning: Covariance of the parameters could not be estimated\n",
      "  params, _ = curve_fit(func_optim, x, y, p0=[1., 0., 1., 0.], nan_policy='omit')\n",
      "/extra/rcappi/Kan-for-Graph-Dyn/utils/utils.py:383: OptimizeWarning: Covariance of the parameters could not be estimated\n",
      "  params, _ = curve_fit(func_optim, x, y, p0=[1., 0., 1., 0.], nan_policy='omit')\n",
      "/extra/rcappi/Kan-for-Graph-Dyn/utils/utils.py:383: OptimizeWarning: Covariance of the parameters could not be estimated\n",
      "  params, _ = curve_fit(func_optim, x, y, p0=[1., 0., 1., 0.], nan_policy='omit')\n",
      "/extra/rcappi/Kan-for-Graph-Dyn/utils/utils.py:383: OptimizeWarning: Covariance of the parameters could not be estimated\n",
      "  params, _ = curve_fit(func_optim, x, y, p0=[1., 0., 1., 0.], nan_policy='omit')\n",
      "/extra/rcappi/Kan-for-Graph-Dyn/utils/utils.py:383: OptimizeWarning: Covariance of the parameters could not be estimated\n",
      "  params, _ = curve_fit(func_optim, x, y, p0=[1., 0., 1., 0.], nan_policy='omit')\n"
     ]
    },
    {
     "name": "stdout",
     "output_type": "stream",
     "text": [
      "Test error: 0.04016033187508583\n"
     ]
    },
    {
     "data": {
      "text/latex": [
       "$\\displaystyle \\sum_{j}(0.01*(0.12*x_j - 0.09*(0.87*x_i - 1)**2 + 1)**2 + 0.09*tanh(-0.14*x_i + 0.7*x_j + 0.09) + 0.1*tanh(0.9*x_j + 0.25*Abs(1.24*x_i - 0.88) - 0.29) + 0.1) - 0.2 \\left(0.38 x_{i} + 1\\right)^{2} - 0.03 \\sin{\\left(0.91 x_{i} - 2.73 \\right)} - 0.06 \\sin{\\left(1.16 x_{i} - 3.15 \\right)} + 0.37$"
      ],
      "text/plain": [
       "\\sum_{j}(0.01*(0.12*x_j - 0.09*(0.87*x_i - 1)**2 + 1)**2 + 0.09*tanh(-0.14*x_i + 0.7*x_j + 0.09) + 0.1*tanh(0.9*x_j + 0.25*Abs(1.24*x_i - 0.88) - 0.29) + 0.1) - 0.2*(0.38*x_i + 1)**2 - 0.03*sin(0.91*x_i - 2.73) - 0.06*sin(1.16*x_i - 3.15) + 0.37"
      ]
     },
     "execution_count": 31,
     "metadata": {},
     "output_type": "execute_result"
    }
   ],
   "source": [
    "model_path_gkan = \"./saved_models/gkan/model_neuronal_gkan/neuronal_gkan_ic3_s5/1/gkan\"\n",
    "\n",
    "\n",
    "get_error_spline_wise(\n",
    "    model_path=model_path_gkan,\n",
    "    test_set=NEUR,\n",
    "    theta=0.01\n",
    ")"
   ]
  },
  {
   "cell_type": "markdown",
   "metadata": {},
   "source": [
    "#### IC=5"
   ]
  },
  {
   "cell_type": "code",
   "execution_count": 57,
   "metadata": {},
   "outputs": [
    {
     "name": "stderr",
     "output_type": "stream",
     "text": [
      "/home/rcappi/.conda/envs/my_env/lib/python3.12/site-packages/pysr/sr.py:2774: UserWarning: Note: it looks like you are running in Jupyter. The progress bar will be turned off.\n",
      "  warnings.warn(\n",
      "/home/rcappi/.conda/envs/my_env/lib/python3.12/site-packages/pysr/sr.py:2774: UserWarning: Note: it looks like you are running in Jupyter. The progress bar will be turned off.\n",
      "  warnings.warn(\n"
     ]
    }
   ],
   "source": [
    "model_path_gkan = \"./saved_models/gkan/model_neuronal_gkan/neuronal_gkan_ic5_s5/2/gkan\"\n",
    "\n",
    "pysr_model = lambda : get_pysr_model(\n",
    "    model_selection=\"score\",\n",
    "    n_iterations=200\n",
    ")\n",
    "\n",
    "gkan_symb = fit_black_box_from_kan(\n",
    "    n_g_hidden_layers=2,\n",
    "    n_h_hidden_layers=2,\n",
    "    device='cuda',\n",
    "    model_path=model_path_gkan,\n",
    "    pysr_model=pysr_model,\n",
    "    sample_size=10000,\n",
    "    theta=-np.inf,\n",
    "    message_passing=False\n",
    ")"
   ]
  },
  {
   "cell_type": "code",
   "execution_count": 58,
   "metadata": {},
   "outputs": [
    {
     "data": {
      "text/latex": [
       "$\\displaystyle \\sum_{j}( 0.2982709*tanh(x_j)) - 0.49681002 x_{i} + \\tanh{\\left(\\log{\\left(x_{i} + 1 \\right)} \\right)}$"
      ],
      "text/plain": [
       "\\sum_{j}( 0.2982709*tanh(x_j)) - 0.49681002*x_i + tanh(log(x_i + 1))"
      ]
     },
     "execution_count": 58,
     "metadata": {},
     "output_type": "execute_result"
    }
   ],
   "source": [
    "gkan_symb"
   ]
  },
  {
   "cell_type": "code",
   "execution_count": 40,
   "metadata": {},
   "outputs": [
    {
     "name": "stdout",
     "output_type": "stream",
     "text": [
      "Test loss of symbolic formula: 0.004336248617619276\n",
      "Number of model's parameters: 94\n",
      "Test loss best model: 0.00023901843815110624\n"
     ]
    }
   ],
   "source": [
    "g_symb = lambda x: 0.2982709 * torch.tanh(x[:, 1].unsqueeze(-1))\n",
    "h_symb = lambda x: x[:, 1].unsqueeze(-1) - 0.49681002 * x[:, 0].unsqueeze(-1) + torch.tanh(torch.log(x[:, 0].unsqueeze(-1) + 1))\n",
    "\n",
    "y_true, y_pred = post_process_gkan(\n",
    "    g_symb=g_symb,\n",
    "    h_symb=h_symb,\n",
    "    model_path='./saved_models/gkan/model_neuronal_gkan/neuronal_gkan_ic5_s5/2',\n",
    "    test_set=NEUR,\n",
    "    message_passing=False,\n",
    "    include_time=False,\n",
    "    method='dopri5'\n",
    ")"
   ]
  },
  {
   "cell_type": "code",
   "execution_count": 32,
   "metadata": {},
   "outputs": [
    {
     "name": "stdout",
     "output_type": "stream",
     "text": [
      "Pruning node (0,1)\n"
     ]
    },
    {
     "name": "stderr",
     "output_type": "stream",
     "text": [
      "/extra/rcappi/Kan-for-Graph-Dyn/utils/utils.py:383: OptimizeWarning: Covariance of the parameters could not be estimated\n",
      "  params, _ = curve_fit(func_optim, x, y, p0=[1., 0., 1., 0.], nan_policy='omit')\n",
      "/extra/rcappi/Kan-for-Graph-Dyn/utils/utils.py:383: OptimizeWarning: Covariance of the parameters could not be estimated\n",
      "  params, _ = curve_fit(func_optim, x, y, p0=[1., 0., 1., 0.], nan_policy='omit')\n",
      "/extra/rcappi/Kan-for-Graph-Dyn/utils/utils.py:383: OptimizeWarning: Covariance of the parameters could not be estimated\n",
      "  params, _ = curve_fit(func_optim, x, y, p0=[1., 0., 1., 0.], nan_policy='omit')\n",
      "/extra/rcappi/Kan-for-Graph-Dyn/utils/utils.py:383: OptimizeWarning: Covariance of the parameters could not be estimated\n",
      "  params, _ = curve_fit(func_optim, x, y, p0=[1., 0., 1., 0.], nan_policy='omit')\n",
      "/extra/rcappi/Kan-for-Graph-Dyn/utils/utils.py:383: OptimizeWarning: Covariance of the parameters could not be estimated\n",
      "  params, _ = curve_fit(func_optim, x, y, p0=[1., 0., 1., 0.], nan_policy='omit')\n"
     ]
    },
    {
     "name": "stdout",
     "output_type": "stream",
     "text": [
      "Test error: 0.21874934434890747\n"
     ]
    },
    {
     "name": "stderr",
     "output_type": "stream",
     "text": [
      "/extra/rcappi/Kan-for-Graph-Dyn/utils/utils.py:383: OptimizeWarning: Covariance of the parameters could not be estimated\n",
      "  params, _ = curve_fit(func_optim, x, y, p0=[1., 0., 1., 0.], nan_policy='omit')\n"
     ]
    },
    {
     "data": {
      "text/latex": [
       "$\\displaystyle \\sum_{j}(0.05*tan(0.41*x_j + 0.11*sin(0.68*x_i + 0.91) - 1.34) + 0.19) - 0.7 \\sin{\\left(0.72 x_{i} - 2.03 \\right)} - 0.58$"
      ],
      "text/plain": [
       "\\sum_{j}(0.05*tan(0.41*x_j + 0.11*sin(0.68*x_i + 0.91) - 1.34) + 0.19) - 0.7*sin(0.72*x_i - 2.03) - 0.58"
      ]
     },
     "execution_count": 32,
     "metadata": {},
     "output_type": "execute_result"
    }
   ],
   "source": [
    "model_path_gkan = \"./saved_models/gkan/model_neuronal_gkan/neuronal_gkan_ic5_s5/2/gkan\"\n",
    "\n",
    "get_error_spline_wise(\n",
    "    model_path=model_path_gkan,\n",
    "    test_set=NEUR,\n",
    "    theta=0.1\n",
    ")"
   ]
  },
  {
   "cell_type": "markdown",
   "metadata": {},
   "source": [
    "### Biochemical GKAN"
   ]
  },
  {
   "cell_type": "markdown",
   "metadata": {},
   "source": [
    "#### IC=3\n"
   ]
  },
  {
   "cell_type": "code",
   "execution_count": 22,
   "metadata": {},
   "outputs": [
    {
     "name": "stderr",
     "output_type": "stream",
     "text": [
      "/home/rcappi/.conda/envs/my_env/lib/python3.12/site-packages/pysr/sr.py:2774: UserWarning: Note: it looks like you are running in Jupyter. The progress bar will be turned off.\n",
      "  warnings.warn(\n",
      "/home/rcappi/.conda/envs/my_env/lib/python3.12/site-packages/pysr/sr.py:2774: UserWarning: Note: it looks like you are running in Jupyter. The progress bar will be turned off.\n",
      "  warnings.warn(\n"
     ]
    }
   ],
   "source": [
    "model_path_gkan = './saved_models/gkan/model_biochemical_gkan/biochemical_gkan_ic3_s5/1/gkan'\n",
    "\n",
    "pysr_model = lambda : get_pysr_model(\n",
    "    model_selection=\"score\",\n",
    "    n_iterations=200\n",
    ")\n",
    "\n",
    "gkan_symb = fit_black_box_from_kan(\n",
    "    n_g_hidden_layers=2,\n",
    "    n_h_hidden_layers=2,\n",
    "    device='cuda',\n",
    "    model_path=model_path_gkan,\n",
    "    pysr_model=pysr_model,\n",
    "    sample_size=10000,\n",
    "    theta=-np.inf,\n",
    "    message_passing=False\n",
    ")"
   ]
  },
  {
   "cell_type": "code",
   "execution_count": 23,
   "metadata": {},
   "outputs": [
    {
     "data": {
      "text/latex": [
       "$\\displaystyle \\sum_{j}( -0.50004584*x_i*x_j) - 0.5002544 x_{i} + 1.0001771$"
      ],
      "text/plain": [
       "\\sum_{j}( -0.50004584*x_i*x_j) - 0.5002544*x_i + 1.0001771"
      ]
     },
     "execution_count": 23,
     "metadata": {},
     "output_type": "execute_result"
    }
   ],
   "source": [
    "gkan_symb"
   ]
  },
  {
   "cell_type": "code",
   "execution_count": 24,
   "metadata": {},
   "outputs": [
    {
     "data": {
      "text/latex": [
       "$\\displaystyle \\sum_{j}(-0.5*x_i*x_j) - 0.5 x_{i} + 1.0$"
      ],
      "text/plain": [
       "\\sum_{j}(-0.5*x_i*x_j) - 0.5*x_i + 1.0"
      ]
     },
     "execution_count": 24,
     "metadata": {},
     "output_type": "execute_result"
    }
   ],
   "source": [
    "quantise(gkan_symb)"
   ]
  },
  {
   "cell_type": "code",
   "execution_count": 25,
   "metadata": {},
   "outputs": [
    {
     "name": "stdout",
     "output_type": "stream",
     "text": [
      "Test loss of symbolic formula: 3.3167380024679005e-05\n",
      "Number of model's parameters: 130\n",
      "Test loss best model: 6.272672180784866e-05\n"
     ]
    }
   ],
   "source": [
    "g_symb = lambda x: (-0.50004584*x[:, 1] * x[:, 0]).unsqueeze(-1)\n",
    "h_symb = lambda x: -0.5002544 * x[:, 0].unsqueeze(-1) + x[:, 1].unsqueeze(-1) + 1.0001771\n",
    "\n",
    "y_true, y_pred = post_process_gkan(\n",
    "    g_symb=g_symb,\n",
    "    h_symb=h_symb,\n",
    "    model_path='./saved_models/gkan/model_biochemical_gkan/biochemical_gkan_ic3_s5/1',\n",
    "    test_set=BIO,\n",
    "    message_passing=False,\n",
    "    include_time=False,\n",
    "    method='dopri5'\n",
    ")"
   ]
  },
  {
   "cell_type": "code",
   "execution_count": 8,
   "metadata": {},
   "outputs": [
    {
     "name": "stderr",
     "output_type": "stream",
     "text": [
      "/extra/rcappi/Kan-for-Graph-Dyn/utils/utils.py:383: OptimizeWarning: Covariance of the parameters could not be estimated\n",
      "  params, _ = curve_fit(func_optim, x, y, p0=[1., 0., 1., 0.], nan_policy='omit')\n",
      "/extra/rcappi/Kan-for-Graph-Dyn/utils/utils.py:383: OptimizeWarning: Covariance of the parameters could not be estimated\n",
      "  params, _ = curve_fit(func_optim, x, y, p0=[1., 0., 1., 0.], nan_policy='omit')\n",
      "/extra/rcappi/Kan-for-Graph-Dyn/utils/utils.py:383: OptimizeWarning: Covariance of the parameters could not be estimated\n",
      "  params, _ = curve_fit(func_optim, x, y, p0=[1., 0., 1., 0.], nan_policy='omit')\n",
      "/extra/rcappi/Kan-for-Graph-Dyn/utils/utils.py:383: OptimizeWarning: Covariance of the parameters could not be estimated\n",
      "  params, _ = curve_fit(func_optim, x, y, p0=[1., 0., 1., 0.], nan_policy='omit')\n",
      "/extra/rcappi/Kan-for-Graph-Dyn/utils/utils.py:383: OptimizeWarning: Covariance of the parameters could not be estimated\n",
      "  params, _ = curve_fit(func_optim, x, y, p0=[1., 0., 1., 0.], nan_policy='omit')\n",
      "/extra/rcappi/Kan-for-Graph-Dyn/utils/utils.py:383: OptimizeWarning: Covariance of the parameters could not be estimated\n",
      "  params, _ = curve_fit(func_optim, x, y, p0=[1., 0., 1., 0.], nan_policy='omit')\n",
      "/extra/rcappi/Kan-for-Graph-Dyn/utils/utils.py:383: OptimizeWarning: Covariance of the parameters could not be estimated\n",
      "  params, _ = curve_fit(func_optim, x, y, p0=[1., 0., 1., 0.], nan_policy='omit')\n",
      "/extra/rcappi/Kan-for-Graph-Dyn/utils/utils.py:383: OptimizeWarning: Covariance of the parameters could not be estimated\n",
      "  params, _ = curve_fit(func_optim, x, y, p0=[1., 0., 1., 0.], nan_policy='omit')\n",
      "/extra/rcappi/Kan-for-Graph-Dyn/utils/utils.py:383: OptimizeWarning: Covariance of the parameters could not be estimated\n",
      "  params, _ = curve_fit(func_optim, x, y, p0=[1., 0., 1., 0.], nan_policy='omit')\n",
      "/extra/rcappi/Kan-for-Graph-Dyn/utils/utils.py:383: OptimizeWarning: Covariance of the parameters could not be estimated\n",
      "  params, _ = curve_fit(func_optim, x, y, p0=[1., 0., 1., 0.], nan_policy='omit')\n",
      "/extra/rcappi/Kan-for-Graph-Dyn/utils/utils.py:383: OptimizeWarning: Covariance of the parameters could not be estimated\n",
      "  params, _ = curve_fit(func_optim, x, y, p0=[1., 0., 1., 0.], nan_policy='omit')\n",
      "/extra/rcappi/Kan-for-Graph-Dyn/utils/utils.py:383: OptimizeWarning: Covariance of the parameters could not be estimated\n",
      "  params, _ = curve_fit(func_optim, x, y, p0=[1., 0., 1., 0.], nan_policy='omit')\n",
      "/extra/rcappi/Kan-for-Graph-Dyn/utils/utils.py:383: OptimizeWarning: Covariance of the parameters could not be estimated\n",
      "  params, _ = curve_fit(func_optim, x, y, p0=[1., 0., 1., 0.], nan_policy='omit')\n",
      "/extra/rcappi/Kan-for-Graph-Dyn/utils/utils.py:383: OptimizeWarning: Covariance of the parameters could not be estimated\n",
      "  params, _ = curve_fit(func_optim, x, y, p0=[1., 0., 1., 0.], nan_policy='omit')\n",
      "/extra/rcappi/Kan-for-Graph-Dyn/utils/utils.py:383: OptimizeWarning: Covariance of the parameters could not be estimated\n",
      "  params, _ = curve_fit(func_optim, x, y, p0=[1., 0., 1., 0.], nan_policy='omit')\n"
     ]
    },
    {
     "name": "stdout",
     "output_type": "stream",
     "text": [
      "Test error: 0.008639882318675518\n"
     ]
    },
    {
     "data": {
      "text/latex": [
       "$\\displaystyle \\sum_{j}(0.1*x_i**2 - 0.31*x_i - 0.2*x_j - 0.01*tanh(9.37*x_j - 1.67) + 0.12) - 0.5 x_{i} + 1.0$"
      ],
      "text/plain": [
       "\\sum_{j}(0.1*x_i**2 - 0.31*x_i - 0.2*x_j - 0.01*tanh(9.37*x_j - 1.67) + 0.12) - 0.5*x_i + 1.0"
      ]
     },
     "execution_count": 8,
     "metadata": {},
     "output_type": "execute_result"
    }
   ],
   "source": [
    "model_path_gkan = './saved_models/gkan/model_biochemical_gkan/biochemical_gkan_ic3_s5/1/gkan'\n",
    "\n",
    "get_error_spline_wise(\n",
    "    model_path=model_path_gkan,\n",
    "    test_set=BIO,\n",
    "    theta=0.1\n",
    ")"
   ]
  },
  {
   "cell_type": "markdown",
   "metadata": {},
   "source": [
    "#### IC = 1"
   ]
  },
  {
   "cell_type": "code",
   "execution_count": 26,
   "metadata": {},
   "outputs": [
    {
     "name": "stderr",
     "output_type": "stream",
     "text": [
      "/home/rcappi/.conda/envs/my_env/lib/python3.12/site-packages/pysr/sr.py:2774: UserWarning: Note: it looks like you are running in Jupyter. The progress bar will be turned off.\n",
      "  warnings.warn(\n",
      "/home/rcappi/.conda/envs/my_env/lib/python3.12/site-packages/pysr/sr.py:2774: UserWarning: Note: it looks like you are running in Jupyter. The progress bar will be turned off.\n",
      "  warnings.warn(\n"
     ]
    }
   ],
   "source": [
    "model_path_gkan = \"./saved_models/gkan/model_biochemical_gkan/biochemical_gkan_ic1_s5/0/gkan\"\n",
    "\n",
    "pysr_model = lambda : get_pysr_model(\n",
    "    model_selection=\"score\",\n",
    "    n_iterations=200\n",
    ")\n",
    "\n",
    "gkan_symb = fit_black_box_from_kan(\n",
    "    n_g_hidden_layers=2,\n",
    "    n_h_hidden_layers=2,\n",
    "    device='cuda',\n",
    "    model_path=model_path_gkan,\n",
    "    pysr_model=pysr_model,\n",
    "    sample_size=10000,\n",
    "    theta=-np.inf,\n",
    "    message_passing=False\n",
    ")"
   ]
  },
  {
   "cell_type": "code",
   "execution_count": 27,
   "metadata": {},
   "outputs": [
    {
     "data": {
      "text/latex": [
       "$\\displaystyle \\sum_{j}( -0.50047237*x_i*x_j) - \\sin{\\left(\\tanh{\\left(x_{i} \\right)} + 4.9726315 \\right)}$"
      ],
      "text/plain": [
       "\\sum_{j}( -0.50047237*x_i*x_j) - sin(tanh(x_i) + 4.9726315)"
      ]
     },
     "execution_count": 27,
     "metadata": {},
     "output_type": "execute_result"
    }
   ],
   "source": [
    "gkan_symb"
   ]
  },
  {
   "cell_type": "code",
   "execution_count": 28,
   "metadata": {},
   "outputs": [
    {
     "data": {
      "text/latex": [
       "$\\displaystyle \\sum_{j}(-0.5*x_i*x_j) - \\sin{\\left(\\tanh{\\left(x_{i} \\right)} + 4.97 \\right)}$"
      ],
      "text/plain": [
       "\\sum_{j}(-0.5*x_i*x_j) - sin(tanh(x_i) + 4.97)"
      ]
     },
     "execution_count": 28,
     "metadata": {},
     "output_type": "execute_result"
    }
   ],
   "source": [
    "quantise(gkan_symb)"
   ]
  },
  {
   "cell_type": "code",
   "execution_count": 30,
   "metadata": {},
   "outputs": [
    {
     "name": "stdout",
     "output_type": "stream",
     "text": [
      "Test loss of symbolic formula: 0.0005947164027020335\n",
      "Number of model's parameters: 134\n",
      "Test loss best model: 0.0003512927796691656\n"
     ]
    }
   ],
   "source": [
    "g_symb = lambda x: (-0.50047237*x[:, 1] * x[:, 0]).unsqueeze(-1)\n",
    "h_symb = lambda x: -torch.sin(torch.tanh(x[:, 0].unsqueeze(-1)) + 4.9726315) + x[:, 1].unsqueeze(-1)\n",
    "\n",
    "y_true, y_pred = post_process_gkan(\n",
    "    g_symb=g_symb,\n",
    "    h_symb=h_symb,\n",
    "    model_path='./saved_models/gkan/model_biochemical_gkan/biochemical_gkan_ic1_s5/0',\n",
    "    test_set=BIO,\n",
    "    message_passing=False,\n",
    "    include_time=False,\n",
    "    method='dopri5'\n",
    ")"
   ]
  },
  {
   "cell_type": "code",
   "execution_count": 9,
   "metadata": {},
   "outputs": [
    {
     "name": "stderr",
     "output_type": "stream",
     "text": [
      "/extra/rcappi/Kan-for-Graph-Dyn/utils/utils.py:383: OptimizeWarning: Covariance of the parameters could not be estimated\n",
      "  params, _ = curve_fit(func_optim, x, y, p0=[1., 0., 1., 0.], nan_policy='omit')\n",
      "/extra/rcappi/Kan-for-Graph-Dyn/utils/utils.py:383: OptimizeWarning: Covariance of the parameters could not be estimated\n",
      "  params, _ = curve_fit(func_optim, x, y, p0=[1., 0., 1., 0.], nan_policy='omit')\n",
      "/extra/rcappi/Kan-for-Graph-Dyn/utils/utils.py:383: OptimizeWarning: Covariance of the parameters could not be estimated\n",
      "  params, _ = curve_fit(func_optim, x, y, p0=[1., 0., 1., 0.], nan_policy='omit')\n",
      "/extra/rcappi/Kan-for-Graph-Dyn/utils/utils.py:383: OptimizeWarning: Covariance of the parameters could not be estimated\n",
      "  params, _ = curve_fit(func_optim, x, y, p0=[1., 0., 1., 0.], nan_policy='omit')\n",
      "/extra/rcappi/Kan-for-Graph-Dyn/utils/utils.py:383: OptimizeWarning: Covariance of the parameters could not be estimated\n",
      "  params, _ = curve_fit(func_optim, x, y, p0=[1., 0., 1., 0.], nan_policy='omit')\n",
      "/extra/rcappi/Kan-for-Graph-Dyn/utils/utils.py:383: OptimizeWarning: Covariance of the parameters could not be estimated\n",
      "  params, _ = curve_fit(func_optim, x, y, p0=[1., 0., 1., 0.], nan_policy='omit')\n",
      "/extra/rcappi/Kan-for-Graph-Dyn/utils/utils.py:383: OptimizeWarning: Covariance of the parameters could not be estimated\n",
      "  params, _ = curve_fit(func_optim, x, y, p0=[1., 0., 1., 0.], nan_policy='omit')\n",
      "/extra/rcappi/Kan-for-Graph-Dyn/utils/utils.py:383: OptimizeWarning: Covariance of the parameters could not be estimated\n",
      "  params, _ = curve_fit(func_optim, x, y, p0=[1., 0., 1., 0.], nan_policy='omit')\n",
      "/extra/rcappi/Kan-for-Graph-Dyn/utils/utils.py:383: OptimizeWarning: Covariance of the parameters could not be estimated\n",
      "  params, _ = curve_fit(func_optim, x, y, p0=[1., 0., 1., 0.], nan_policy='omit')\n",
      "/extra/rcappi/Kan-for-Graph-Dyn/utils/utils.py:383: OptimizeWarning: Covariance of the parameters could not be estimated\n",
      "  params, _ = curve_fit(func_optim, x, y, p0=[1., 0., 1., 0.], nan_policy='omit')\n",
      "/extra/rcappi/Kan-for-Graph-Dyn/utils/utils.py:383: OptimizeWarning: Covariance of the parameters could not be estimated\n",
      "  params, _ = curve_fit(func_optim, x, y, p0=[1., 0., 1., 0.], nan_policy='omit')\n",
      "/extra/rcappi/Kan-for-Graph-Dyn/utils/utils.py:383: OptimizeWarning: Covariance of the parameters could not be estimated\n",
      "  params, _ = curve_fit(func_optim, x, y, p0=[1., 0., 1., 0.], nan_policy='omit')\n",
      "/extra/rcappi/Kan-for-Graph-Dyn/utils/utils.py:383: OptimizeWarning: Covariance of the parameters could not be estimated\n",
      "  params, _ = curve_fit(func_optim, x, y, p0=[1., 0., 1., 0.], nan_policy='omit')\n",
      "/extra/rcappi/Kan-for-Graph-Dyn/utils/utils.py:383: OptimizeWarning: Covariance of the parameters could not be estimated\n",
      "  params, _ = curve_fit(func_optim, x, y, p0=[1., 0., 1., 0.], nan_policy='omit')\n",
      "/extra/rcappi/Kan-for-Graph-Dyn/utils/utils.py:383: OptimizeWarning: Covariance of the parameters could not be estimated\n",
      "  params, _ = curve_fit(func_optim, x, y, p0=[1., 0., 1., 0.], nan_policy='omit')\n",
      "/extra/rcappi/Kan-for-Graph-Dyn/utils/utils.py:383: OptimizeWarning: Covariance of the parameters could not be estimated\n",
      "  params, _ = curve_fit(func_optim, x, y, p0=[1., 0., 1., 0.], nan_policy='omit')\n"
     ]
    },
    {
     "name": "stdout",
     "output_type": "stream",
     "text": [
      "Test error: 0.010756343603134155\n"
     ]
    },
    {
     "data": {
      "text/latex": [
       "$\\displaystyle \\sum_{j}(-0.16*x_i**2 - 0.47*x_i*x_j + 0.14*x_i - 0.14*x_j**2 + 0.12*x_j - 0.04) - 0.48 x_{i} + 0.99$"
      ],
      "text/plain": [
       "\\sum_{j}(-0.16*x_i**2 - 0.47*x_i*x_j + 0.14*x_i - 0.14*x_j**2 + 0.12*x_j - 0.04) - 0.48*x_i + 0.99"
      ]
     },
     "execution_count": 9,
     "metadata": {},
     "output_type": "execute_result"
    }
   ],
   "source": [
    "model_path_gkan = \"./saved_models/gkan/model_biochemical_gkan/biochemical_gkan_ic1_s5/0/gkan\"\n",
    "\n",
    "get_error_spline_wise(\n",
    "    model_path=model_path_gkan,\n",
    "    test_set=BIO,\n",
    "    theta=0.1\n",
    ")"
   ]
  },
  {
   "cell_type": "markdown",
   "metadata": {},
   "source": [
    "#### IC=5"
   ]
  },
  {
   "cell_type": "code",
   "execution_count": 31,
   "metadata": {},
   "outputs": [
    {
     "name": "stderr",
     "output_type": "stream",
     "text": [
      "/home/rcappi/.conda/envs/my_env/lib/python3.12/site-packages/pysr/sr.py:2774: UserWarning: Note: it looks like you are running in Jupyter. The progress bar will be turned off.\n",
      "  warnings.warn(\n",
      "/home/rcappi/.conda/envs/my_env/lib/python3.12/site-packages/pysr/sr.py:2774: UserWarning: Note: it looks like you are running in Jupyter. The progress bar will be turned off.\n",
      "  warnings.warn(\n"
     ]
    }
   ],
   "source": [
    "model_path_gkan = \"./saved_models/gkan/model_biochemical_gkan/biochemical_gkan_ic5_s5/0/gkan\"\n",
    "\n",
    "pysr_model = lambda : get_pysr_model(\n",
    "    model_selection=\"score\",\n",
    "    n_iterations=200\n",
    ")\n",
    "\n",
    "gkan_symb = fit_black_box_from_kan(\n",
    "    n_g_hidden_layers=2,\n",
    "    n_h_hidden_layers=2,\n",
    "    device='cuda',\n",
    "    model_path=model_path_gkan,\n",
    "    pysr_model=pysr_model,\n",
    "    sample_size=10000,\n",
    "    theta=-np.inf,\n",
    "    message_passing=False\n",
    ")"
   ]
  },
  {
   "cell_type": "code",
   "execution_count": 32,
   "metadata": {},
   "outputs": [
    {
     "data": {
      "text/latex": [
       "$\\displaystyle \\sum_{j}( -0.49992257*x_i*x_j) - 0.49867707 x_{i} + 0.9993234$"
      ],
      "text/plain": [
       "\\sum_{j}( -0.49992257*x_i*x_j) - 0.49867707*x_i + 0.9993234"
      ]
     },
     "execution_count": 32,
     "metadata": {},
     "output_type": "execute_result"
    }
   ],
   "source": [
    "gkan_symb"
   ]
  },
  {
   "cell_type": "code",
   "execution_count": 33,
   "metadata": {},
   "outputs": [
    {
     "data": {
      "text/latex": [
       "$\\displaystyle \\sum_{j}(-0.5*x_i*x_j) - 0.5 x_{i} + 1.0$"
      ],
      "text/plain": [
       "\\sum_{j}(-0.5*x_i*x_j) - 0.5*x_i + 1.0"
      ]
     },
     "execution_count": 33,
     "metadata": {},
     "output_type": "execute_result"
    }
   ],
   "source": [
    "quantise(gkan_symb)"
   ]
  },
  {
   "cell_type": "code",
   "execution_count": 34,
   "metadata": {},
   "outputs": [
    {
     "name": "stdout",
     "output_type": "stream",
     "text": [
      "Test loss of symbolic formula: 8.401498780585825e-05\n",
      "Number of model's parameters: 187\n",
      "Test loss best model: 0.00015913214883767068\n"
     ]
    }
   ],
   "source": [
    "g_symb = lambda x: (-0.49992257*x[:, 1] * x[:, 0]).unsqueeze(-1)\n",
    "h_symb = lambda x: -0.49867707 * x[:, 0].unsqueeze(-1) + x[:, 1].unsqueeze(-1) + 0.9993234\n",
    "\n",
    "y_true, y_pred = post_process_gkan(\n",
    "    g_symb=g_symb,\n",
    "    h_symb=h_symb,\n",
    "    model_path='./saved_models/gkan/model_biochemical_gkan/biochemical_gkan_ic5_s5/0',\n",
    "    test_set=BIO,\n",
    "    message_passing=False,\n",
    "    include_time=False,\n",
    "    method='dopri5'\n",
    ")"
   ]
  },
  {
   "cell_type": "code",
   "execution_count": 10,
   "metadata": {},
   "outputs": [
    {
     "name": "stderr",
     "output_type": "stream",
     "text": [
      "/extra/rcappi/Kan-for-Graph-Dyn/utils/utils.py:383: OptimizeWarning: Covariance of the parameters could not be estimated\n",
      "  params, _ = curve_fit(func_optim, x, y, p0=[1., 0., 1., 0.], nan_policy='omit')\n",
      "/extra/rcappi/Kan-for-Graph-Dyn/utils/utils.py:383: OptimizeWarning: Covariance of the parameters could not be estimated\n",
      "  params, _ = curve_fit(func_optim, x, y, p0=[1., 0., 1., 0.], nan_policy='omit')\n",
      "/extra/rcappi/Kan-for-Graph-Dyn/utils/utils.py:383: OptimizeWarning: Covariance of the parameters could not be estimated\n",
      "  params, _ = curve_fit(func_optim, x, y, p0=[1., 0., 1., 0.], nan_policy='omit')\n",
      "/extra/rcappi/Kan-for-Graph-Dyn/utils/utils.py:383: OptimizeWarning: Covariance of the parameters could not be estimated\n",
      "  params, _ = curve_fit(func_optim, x, y, p0=[1., 0., 1., 0.], nan_policy='omit')\n",
      "/extra/rcappi/Kan-for-Graph-Dyn/utils/utils.py:383: OptimizeWarning: Covariance of the parameters could not be estimated\n",
      "  params, _ = curve_fit(func_optim, x, y, p0=[1., 0., 1., 0.], nan_policy='omit')\n",
      "/extra/rcappi/Kan-for-Graph-Dyn/utils/utils.py:383: OptimizeWarning: Covariance of the parameters could not be estimated\n",
      "  params, _ = curve_fit(func_optim, x, y, p0=[1., 0., 1., 0.], nan_policy='omit')\n",
      "/extra/rcappi/Kan-for-Graph-Dyn/utils/utils.py:383: OptimizeWarning: Covariance of the parameters could not be estimated\n",
      "  params, _ = curve_fit(func_optim, x, y, p0=[1., 0., 1., 0.], nan_policy='omit')\n",
      "/extra/rcappi/Kan-for-Graph-Dyn/utils/utils.py:383: OptimizeWarning: Covariance of the parameters could not be estimated\n",
      "  params, _ = curve_fit(func_optim, x, y, p0=[1., 0., 1., 0.], nan_policy='omit')\n",
      "/extra/rcappi/Kan-for-Graph-Dyn/utils/utils.py:383: OptimizeWarning: Covariance of the parameters could not be estimated\n",
      "  params, _ = curve_fit(func_optim, x, y, p0=[1., 0., 1., 0.], nan_policy='omit')\n",
      "/extra/rcappi/Kan-for-Graph-Dyn/utils/utils.py:383: OptimizeWarning: Covariance of the parameters could not be estimated\n",
      "  params, _ = curve_fit(func_optim, x, y, p0=[1., 0., 1., 0.], nan_policy='omit')\n",
      "/extra/rcappi/Kan-for-Graph-Dyn/utils/utils.py:383: OptimizeWarning: Covariance of the parameters could not be estimated\n",
      "  params, _ = curve_fit(func_optim, x, y, p0=[1., 0., 1., 0.], nan_policy='omit')\n",
      "/extra/rcappi/Kan-for-Graph-Dyn/utils/utils.py:383: OptimizeWarning: Covariance of the parameters could not be estimated\n",
      "  params, _ = curve_fit(func_optim, x, y, p0=[1., 0., 1., 0.], nan_policy='omit')\n",
      "/extra/rcappi/Kan-for-Graph-Dyn/utils/utils.py:383: OptimizeWarning: Covariance of the parameters could not be estimated\n",
      "  params, _ = curve_fit(func_optim, x, y, p0=[1., 0., 1., 0.], nan_policy='omit')\n",
      "/extra/rcappi/Kan-for-Graph-Dyn/utils/utils.py:383: OptimizeWarning: Covariance of the parameters could not be estimated\n",
      "  params, _ = curve_fit(func_optim, x, y, p0=[1., 0., 1., 0.], nan_policy='omit')\n",
      "/extra/rcappi/Kan-for-Graph-Dyn/utils/utils.py:383: OptimizeWarning: Covariance of the parameters could not be estimated\n",
      "  params, _ = curve_fit(func_optim, x, y, p0=[1., 0., 1., 0.], nan_policy='omit')\n"
     ]
    },
    {
     "name": "stdout",
     "output_type": "stream",
     "text": [
      "Test error: 0.00886834692209959\n"
     ]
    },
    {
     "data": {
      "text/latex": [
       "$\\displaystyle \\sum_{j}(0.09*x_i**2 - 0.31*x_i - 0.22*x_j + 0.12) - 0.52 x_{i} + 0.02 \\sin{\\left(12.67 \\left(x_{i} - 0.41\\right)^{2} - 0.38 \\right)} + 1.01$"
      ],
      "text/plain": [
       "\\sum_{j}(0.09*x_i**2 - 0.31*x_i - 0.22*x_j + 0.12) - 0.52*x_i + 0.02*sin(12.67*(x_i - 0.41)**2 - 0.38) + 1.01"
      ]
     },
     "execution_count": 10,
     "metadata": {},
     "output_type": "execute_result"
    }
   ],
   "source": [
    "model_path_gkan = \"./saved_models/gkan/model_biochemical_gkan/biochemical_gkan_ic5_s5/0/gkan\"\n",
    "\n",
    "get_error_spline_wise(\n",
    "    model_path=model_path_gkan,\n",
    "    test_set=BIO,\n",
    "    theta=0.1\n",
    ")"
   ]
  },
  {
   "cell_type": "markdown",
   "metadata": {},
   "source": [
    "### Population GKAN"
   ]
  },
  {
   "cell_type": "markdown",
   "metadata": {},
   "source": [
    "#### IC=1"
   ]
  },
  {
   "cell_type": "code",
   "execution_count": 35,
   "metadata": {},
   "outputs": [
    {
     "name": "stderr",
     "output_type": "stream",
     "text": [
      "/home/rcappi/.conda/envs/my_env/lib/python3.12/site-packages/pysr/sr.py:2774: UserWarning: Note: it looks like you are running in Jupyter. The progress bar will be turned off.\n",
      "  warnings.warn(\n",
      "/home/rcappi/.conda/envs/my_env/lib/python3.12/site-packages/pysr/sr.py:2774: UserWarning: Note: it looks like you are running in Jupyter. The progress bar will be turned off.\n",
      "  warnings.warn(\n"
     ]
    }
   ],
   "source": [
    "model_path_gkan = \"./saved_models/gkan/model_population_gkan/population_gkan_ic1_s5_dopri/0/gkan\"\n",
    "\n",
    "pysr_model = lambda : get_pysr_model(\n",
    "    model_selection=\"score\",\n",
    "    n_iterations=200\n",
    ")\n",
    "\n",
    "gkan_symb = fit_black_box_from_kan(\n",
    "    n_g_hidden_layers=2,\n",
    "    n_h_hidden_layers=2,\n",
    "    device='cuda',\n",
    "    model_path=model_path_gkan,\n",
    "    pysr_model=pysr_model,\n",
    "    sample_size=10000,\n",
    "    theta=-np.inf,\n",
    "    message_passing=False\n",
    ")"
   ]
  },
  {
   "cell_type": "code",
   "execution_count": 36,
   "metadata": {},
   "outputs": [
    {
     "data": {
      "text/latex": [
       "$\\displaystyle \\sum_{j}( 0.1985902*x_j**2) - 0.46224803 x_{i}^{2}$"
      ],
      "text/plain": [
       "\\sum_{j}( 0.1985902*x_j**2) - 0.46224803*x_i**2"
      ]
     },
     "execution_count": 36,
     "metadata": {},
     "output_type": "execute_result"
    }
   ],
   "source": [
    "gkan_symb"
   ]
  },
  {
   "cell_type": "code",
   "execution_count": 37,
   "metadata": {},
   "outputs": [
    {
     "data": {
      "text/latex": [
       "$\\displaystyle \\sum_{j}(0.2*x_j**2) - 0.46 x_{i}^{2}$"
      ],
      "text/plain": [
       "\\sum_{j}(0.2*x_j**2) - 0.46*x_i**2"
      ]
     },
     "execution_count": 37,
     "metadata": {},
     "output_type": "execute_result"
    }
   ],
   "source": [
    "quantise(gkan_symb)"
   ]
  },
  {
   "cell_type": "code",
   "execution_count": 77,
   "metadata": {},
   "outputs": [
    {
     "name": "stdout",
     "output_type": "stream",
     "text": [
      "Test loss of symbolic formula: 0.012868192978203297\n",
      "Number of model's parameters: 168\n",
      "Test loss best model: 0.005176595412194729\n"
     ]
    }
   ],
   "source": [
    "g_symb = lambda x: 0.1985902 * torch.square(x[:, 1].unsqueeze(-1))\n",
    "h_symb = lambda x: x[:, 1].unsqueeze(-1) - 0.46224803 * torch.square(x[:, 0].unsqueeze(-1))\n",
    "\n",
    "y_true, y_pred = post_process_gkan(\n",
    "    g_symb=g_symb,\n",
    "    h_symb=h_symb,\n",
    "    model_path='./saved_models/gkan/model_population_gkan/population_gkan_ic1_s5_dopri/0',\n",
    "    test_set=POP,\n",
    "    message_passing=False,\n",
    "    include_time=False,\n",
    "    method='dopri5'\n",
    ")"
   ]
  },
  {
   "cell_type": "code",
   "execution_count": 12,
   "metadata": {},
   "outputs": [
    {
     "name": "stdout",
     "output_type": "stream",
     "text": [
      "Pruning node (0,2)\n"
     ]
    },
    {
     "name": "stderr",
     "output_type": "stream",
     "text": [
      "/extra/rcappi/Kan-for-Graph-Dyn/utils/utils.py:383: OptimizeWarning: Covariance of the parameters could not be estimated\n",
      "  params, _ = curve_fit(func_optim, x, y, p0=[1., 0., 1., 0.], nan_policy='omit')\n",
      "/extra/rcappi/Kan-for-Graph-Dyn/utils/utils.py:383: OptimizeWarning: Covariance of the parameters could not be estimated\n",
      "  params, _ = curve_fit(func_optim, x, y, p0=[1., 0., 1., 0.], nan_policy='omit')\n",
      "/extra/rcappi/Kan-for-Graph-Dyn/utils/utils.py:383: OptimizeWarning: Covariance of the parameters could not be estimated\n",
      "  params, _ = curve_fit(func_optim, x, y, p0=[1., 0., 1., 0.], nan_policy='omit')\n",
      "/extra/rcappi/Kan-for-Graph-Dyn/utils/utils.py:383: OptimizeWarning: Covariance of the parameters could not be estimated\n",
      "  params, _ = curve_fit(func_optim, x, y, p0=[1., 0., 1., 0.], nan_policy='omit')\n",
      "/extra/rcappi/Kan-for-Graph-Dyn/utils/utils.py:383: OptimizeWarning: Covariance of the parameters could not be estimated\n",
      "  params, _ = curve_fit(func_optim, x, y, p0=[1., 0., 1., 0.], nan_policy='omit')\n",
      "/extra/rcappi/Kan-for-Graph-Dyn/utils/utils.py:383: OptimizeWarning: Covariance of the parameters could not be estimated\n",
      "  params, _ = curve_fit(func_optim, x, y, p0=[1., 0., 1., 0.], nan_policy='omit')\n",
      "/extra/rcappi/Kan-for-Graph-Dyn/utils/utils.py:383: OptimizeWarning: Covariance of the parameters could not be estimated\n",
      "  params, _ = curve_fit(func_optim, x, y, p0=[1., 0., 1., 0.], nan_policy='omit')\n",
      "/extra/rcappi/Kan-for-Graph-Dyn/utils/utils.py:383: OptimizeWarning: Covariance of the parameters could not be estimated\n",
      "  params, _ = curve_fit(func_optim, x, y, p0=[1., 0., 1., 0.], nan_policy='omit')\n",
      "/extra/rcappi/Kan-for-Graph-Dyn/utils/utils.py:383: OptimizeWarning: Covariance of the parameters could not be estimated\n",
      "  params, _ = curve_fit(func_optim, x, y, p0=[1., 0., 1., 0.], nan_policy='omit')\n",
      "/extra/rcappi/Kan-for-Graph-Dyn/utils/utils.py:383: OptimizeWarning: Covariance of the parameters could not be estimated\n",
      "  params, _ = curve_fit(func_optim, x, y, p0=[1., 0., 1., 0.], nan_policy='omit')\n"
     ]
    },
    {
     "name": "stdout",
     "output_type": "stream",
     "text": [
      "Pruning node (0,2)\n"
     ]
    },
    {
     "name": "stderr",
     "output_type": "stream",
     "text": [
      "/extra/rcappi/Kan-for-Graph-Dyn/utils/utils.py:383: OptimizeWarning: Covariance of the parameters could not be estimated\n",
      "  params, _ = curve_fit(func_optim, x, y, p0=[1., 0., 1., 0.], nan_policy='omit')\n",
      "/extra/rcappi/Kan-for-Graph-Dyn/utils/utils.py:383: OptimizeWarning: Covariance of the parameters could not be estimated\n",
      "  params, _ = curve_fit(func_optim, x, y, p0=[1., 0., 1., 0.], nan_policy='omit')\n",
      "/extra/rcappi/Kan-for-Graph-Dyn/utils/utils.py:383: OptimizeWarning: Covariance of the parameters could not be estimated\n",
      "  params, _ = curve_fit(func_optim, x, y, p0=[1., 0., 1., 0.], nan_policy='omit')\n",
      "/extra/rcappi/Kan-for-Graph-Dyn/utils/utils.py:383: OptimizeWarning: Covariance of the parameters could not be estimated\n",
      "  params, _ = curve_fit(func_optim, x, y, p0=[1., 0., 1., 0.], nan_policy='omit')\n"
     ]
    },
    {
     "name": "stdout",
     "output_type": "stream",
     "text": [
      "Test error: 0.25065886974334717\n"
     ]
    },
    {
     "name": "stderr",
     "output_type": "stream",
     "text": [
      "/extra/rcappi/Kan-for-Graph-Dyn/utils/utils.py:383: OptimizeWarning: Covariance of the parameters could not be estimated\n",
      "  params, _ = curve_fit(func_optim, x, y, p0=[1., 0., 1., 0.], nan_policy='omit')\n"
     ]
    },
    {
     "data": {
      "text/latex": [
       "$\\displaystyle \\sum_{j}(-0.03*x_i + 0.37*x_j - 0.16) - 0.72 x_{i} + 0.32$"
      ],
      "text/plain": [
       "\\sum_{j}(-0.03*x_i + 0.37*x_j - 0.16) - 0.72*x_i + 0.32"
      ]
     },
     "execution_count": 12,
     "metadata": {},
     "output_type": "execute_result"
    }
   ],
   "source": [
    "model_path_gkan = \"./saved_models/gkan/model_population_gkan/population_gkan_ic1_s5_dopri/0/gkan\"\n",
    "\n",
    "\n",
    "get_error_spline_wise(\n",
    "    model_path=model_path_gkan,\n",
    "    test_set=POP,\n",
    "    theta=0.1\n",
    ")"
   ]
  },
  {
   "cell_type": "markdown",
   "metadata": {},
   "source": [
    "#### IC=3"
   ]
  },
  {
   "cell_type": "code",
   "execution_count": 45,
   "metadata": {},
   "outputs": [
    {
     "name": "stderr",
     "output_type": "stream",
     "text": [
      "/home/rcappi/.conda/envs/my_env/lib/python3.12/site-packages/pysr/sr.py:2774: UserWarning: Note: it looks like you are running in Jupyter. The progress bar will be turned off.\n",
      "  warnings.warn(\n",
      "/home/rcappi/.conda/envs/my_env/lib/python3.12/site-packages/pysr/sr.py:2774: UserWarning: Note: it looks like you are running in Jupyter. The progress bar will be turned off.\n",
      "  warnings.warn(\n"
     ]
    }
   ],
   "source": [
    "model_path_gkan = \"./saved_models/gkan/model_population_gkan/population_gkan_ic3_s5/0/gkan\"\n",
    "\n",
    "pysr_model = lambda : get_pysr_model(\n",
    "    model_selection=\"score\",\n",
    "    n_iterations=200\n",
    ")\n",
    "\n",
    "gkan_symb = fit_black_box_from_kan(\n",
    "    n_g_hidden_layers=2,\n",
    "    n_h_hidden_layers=2,\n",
    "    device='cuda',\n",
    "    model_path=model_path_gkan,\n",
    "    pysr_model=pysr_model,\n",
    "    sample_size=10000,\n",
    "    theta=-np.inf,\n",
    "    message_passing=False\n",
    ")"
   ]
  },
  {
   "cell_type": "code",
   "execution_count": 46,
   "metadata": {},
   "outputs": [
    {
     "data": {
      "text/latex": [
       "$\\displaystyle \\sum_{j}( 0.199048513992728*x_j**2) - 0.469166671319236 x_{i}^{2}$"
      ],
      "text/plain": [
       "\\sum_{j}( 0.199048513992728*x_j**2) - 0.469166671319236*x_i**2"
      ]
     },
     "execution_count": 46,
     "metadata": {},
     "output_type": "execute_result"
    }
   ],
   "source": [
    "gkan_symb"
   ]
  },
  {
   "cell_type": "code",
   "execution_count": 47,
   "metadata": {},
   "outputs": [
    {
     "data": {
      "text/latex": [
       "$\\displaystyle \\sum_{j}(0.2*x_j**2) - 0.47 x_{i}^{2}$"
      ],
      "text/plain": [
       "\\sum_{j}(0.2*x_j**2) - 0.47*x_i**2"
      ]
     },
     "execution_count": 47,
     "metadata": {},
     "output_type": "execute_result"
    }
   ],
   "source": [
    "quantise(gkan_symb)"
   ]
  },
  {
   "cell_type": "code",
   "execution_count": 48,
   "metadata": {},
   "outputs": [
    {
     "name": "stdout",
     "output_type": "stream",
     "text": [
      "Test loss of symbolic formula: 0.011239863932132721\n",
      "Number of model's parameters: 134\n",
      "Test loss best model: 0.0010535747278481722\n"
     ]
    }
   ],
   "source": [
    "g_symb = lambda x: 0.199048513992728 * torch.square(x[:, 1].unsqueeze(-1))\n",
    "h_symb = lambda x:  x[:, 1].unsqueeze(-1) - 0.469166671319236 * torch.square(x[:, 0].unsqueeze(-1))\n",
    "\n",
    "y_true, y_pred = post_process_gkan(\n",
    "    g_symb=g_symb,\n",
    "    h_symb=h_symb,\n",
    "    model_path='./saved_models/gkan/model_population_gkan/population_gkan_ic3_s5/0',\n",
    "    test_set=POP,\n",
    "    message_passing=False,\n",
    "    include_time=False,\n",
    "    method='dopri5'\n",
    ")"
   ]
  },
  {
   "cell_type": "code",
   "execution_count": 13,
   "metadata": {},
   "outputs": [
    {
     "name": "stderr",
     "output_type": "stream",
     "text": [
      "/extra/rcappi/Kan-for-Graph-Dyn/utils/utils.py:383: OptimizeWarning: Covariance of the parameters could not be estimated\n",
      "  params, _ = curve_fit(func_optim, x, y, p0=[1., 0., 1., 0.], nan_policy='omit')\n",
      "/extra/rcappi/Kan-for-Graph-Dyn/utils/utils.py:383: OptimizeWarning: Covariance of the parameters could not be estimated\n",
      "  params, _ = curve_fit(func_optim, x, y, p0=[1., 0., 1., 0.], nan_policy='omit')\n",
      "/extra/rcappi/Kan-for-Graph-Dyn/utils/utils.py:383: OptimizeWarning: Covariance of the parameters could not be estimated\n",
      "  params, _ = curve_fit(func_optim, x, y, p0=[1., 0., 1., 0.], nan_policy='omit')\n",
      "/extra/rcappi/Kan-for-Graph-Dyn/utils/utils.py:383: OptimizeWarning: Covariance of the parameters could not be estimated\n",
      "  params, _ = curve_fit(func_optim, x, y, p0=[1., 0., 1., 0.], nan_policy='omit')\n",
      "/extra/rcappi/Kan-for-Graph-Dyn/utils/utils.py:383: OptimizeWarning: Covariance of the parameters could not be estimated\n",
      "  params, _ = curve_fit(func_optim, x, y, p0=[1., 0., 1., 0.], nan_policy='omit')\n",
      "/extra/rcappi/Kan-for-Graph-Dyn/utils/utils.py:383: OptimizeWarning: Covariance of the parameters could not be estimated\n",
      "  params, _ = curve_fit(func_optim, x, y, p0=[1., 0., 1., 0.], nan_policy='omit')\n",
      "/extra/rcappi/Kan-for-Graph-Dyn/utils/utils.py:383: OptimizeWarning: Covariance of the parameters could not be estimated\n",
      "  params, _ = curve_fit(func_optim, x, y, p0=[1., 0., 1., 0.], nan_policy='omit')\n",
      "/extra/rcappi/Kan-for-Graph-Dyn/utils/utils.py:383: OptimizeWarning: Covariance of the parameters could not be estimated\n",
      "  params, _ = curve_fit(func_optim, x, y, p0=[1., 0., 1., 0.], nan_policy='omit')\n",
      "/extra/rcappi/Kan-for-Graph-Dyn/utils/utils.py:383: OptimizeWarning: Covariance of the parameters could not be estimated\n",
      "  params, _ = curve_fit(func_optim, x, y, p0=[1., 0., 1., 0.], nan_policy='omit')\n",
      "/extra/rcappi/Kan-for-Graph-Dyn/utils/utils.py:383: OptimizeWarning: Covariance of the parameters could not be estimated\n",
      "  params, _ = curve_fit(func_optim, x, y, p0=[1., 0., 1., 0.], nan_policy='omit')\n",
      "/extra/rcappi/Kan-for-Graph-Dyn/utils/utils.py:383: OptimizeWarning: Covariance of the parameters could not be estimated\n",
      "  params, _ = curve_fit(func_optim, x, y, p0=[1., 0., 1., 0.], nan_policy='omit')\n",
      "/extra/rcappi/Kan-for-Graph-Dyn/utils/utils.py:383: OptimizeWarning: Covariance of the parameters could not be estimated\n",
      "  params, _ = curve_fit(func_optim, x, y, p0=[1., 0., 1., 0.], nan_policy='omit')\n",
      "/extra/rcappi/Kan-for-Graph-Dyn/utils/utils.py:383: OptimizeWarning: Covariance of the parameters could not be estimated\n",
      "  params, _ = curve_fit(func_optim, x, y, p0=[1., 0., 1., 0.], nan_policy='omit')\n",
      "/extra/rcappi/Kan-for-Graph-Dyn/utils/utils.py:383: OptimizeWarning: Covariance of the parameters could not be estimated\n",
      "  params, _ = curve_fit(func_optim, x, y, p0=[1., 0., 1., 0.], nan_policy='omit')\n",
      "/extra/rcappi/Kan-for-Graph-Dyn/utils/utils.py:383: OptimizeWarning: Covariance of the parameters could not be estimated\n",
      "  params, _ = curve_fit(func_optim, x, y, p0=[1., 0., 1., 0.], nan_policy='omit')\n",
      "/extra/rcappi/Kan-for-Graph-Dyn/utils/utils.py:383: OptimizeWarning: Covariance of the parameters could not be estimated\n",
      "  params, _ = curve_fit(func_optim, x, y, p0=[1., 0., 1., 0.], nan_policy='omit')\n"
     ]
    },
    {
     "name": "stdout",
     "output_type": "stream",
     "text": [
      "Test error: 0.046312835067510605\n"
     ]
    },
    {
     "data": {
      "text/latex": [
       "$\\displaystyle \\sum_{j}(0.39*x_j - 0.01*(x_i - 0.51)**3 - 0.14) - 0.74 x_{i} + 0.22$"
      ],
      "text/plain": [
       "\\sum_{j}(0.39*x_j - 0.01*(x_i - 0.51)**3 - 0.14) - 0.74*x_i + 0.22"
      ]
     },
     "execution_count": 13,
     "metadata": {},
     "output_type": "execute_result"
    }
   ],
   "source": [
    "model_path_gkan = \"./saved_models/gkan/model_population_gkan/population_gkan_ic3_s5/0/gkan\"\n",
    "\n",
    "get_error_spline_wise(\n",
    "    model_path=model_path_gkan,\n",
    "    test_set=POP,\n",
    "    theta=0.1\n",
    ")"
   ]
  },
  {
   "cell_type": "markdown",
   "metadata": {},
   "source": [
    "#### IC=5"
   ]
  },
  {
   "cell_type": "code",
   "execution_count": 49,
   "metadata": {},
   "outputs": [
    {
     "name": "stderr",
     "output_type": "stream",
     "text": [
      "/home/rcappi/.conda/envs/my_env/lib/python3.12/site-packages/pysr/sr.py:2774: UserWarning: Note: it looks like you are running in Jupyter. The progress bar will be turned off.\n",
      "  warnings.warn(\n",
      "/home/rcappi/.conda/envs/my_env/lib/python3.12/site-packages/pysr/sr.py:2774: UserWarning: Note: it looks like you are running in Jupyter. The progress bar will be turned off.\n",
      "  warnings.warn(\n"
     ]
    }
   ],
   "source": [
    "model_path_gkan = \"./saved_models/gkan/model_population_gkan/population_gkan_ic5_s5/1/gkan\"\n",
    "\n",
    "pysr_model = lambda : get_pysr_model(\n",
    "    model_selection=\"score\",\n",
    "    n_iterations=200\n",
    ")\n",
    "\n",
    "gkan_symb = fit_black_box_from_kan(\n",
    "    n_g_hidden_layers=2,\n",
    "    n_h_hidden_layers=2,\n",
    "    device='cuda',\n",
    "    model_path=model_path_gkan,\n",
    "    pysr_model=pysr_model,\n",
    "    sample_size=10000,\n",
    "    theta=-np.inf,\n",
    "    message_passing=False\n",
    ")"
   ]
  },
  {
   "cell_type": "code",
   "execution_count": 50,
   "metadata": {},
   "outputs": [
    {
     "data": {
      "text/latex": [
       "$\\displaystyle \\sum_{j}( 0.198871001145202*x_j**2) - 0.48766035 x_{i}^{2}$"
      ],
      "text/plain": [
       "\\sum_{j}( 0.198871001145202*x_j**2) - 0.48766035*x_i**2"
      ]
     },
     "execution_count": 50,
     "metadata": {},
     "output_type": "execute_result"
    }
   ],
   "source": [
    "gkan_symb"
   ]
  },
  {
   "cell_type": "code",
   "execution_count": 61,
   "metadata": {},
   "outputs": [
    {
     "data": {
      "text/latex": [
       "$\\displaystyle \\sum_{j}(0.2*x_j**2) - 0.49 x_{i}^{2}$"
      ],
      "text/plain": [
       "\\sum_{j}(0.2*x_j**2) - 0.49*x_i**2"
      ]
     },
     "execution_count": 61,
     "metadata": {},
     "output_type": "execute_result"
    }
   ],
   "source": [
    "quantise(gkan_symb)"
   ]
  },
  {
   "cell_type": "code",
   "execution_count": 87,
   "metadata": {},
   "outputs": [
    {
     "name": "stdout",
     "output_type": "stream",
     "text": [
      "Test loss of symbolic formula: 0.001696695457212627\n",
      "Number of model's parameters: 143\n",
      "Test loss best model: 0.0009939937153831124\n"
     ]
    }
   ],
   "source": [
    "g_symb = lambda x: 0.198871001145202 * torch.square(x[:, 1].unsqueeze(-1))\n",
    "h_symb = lambda x:  x[:, 1].unsqueeze(-1) - 0.48766035 * torch.square(x[:, 0].unsqueeze(-1))\n",
    "\n",
    "y_true, y_pred = post_process_gkan(\n",
    "    g_symb=g_symb,\n",
    "    h_symb=h_symb,\n",
    "    model_path='./saved_models/gkan/model_population_gkan/population_gkan_ic5_s5/1',\n",
    "    test_set=POP,\n",
    "    message_passing=False,\n",
    "    include_time=False,\n",
    "    method='dopri5'\n",
    ")"
   ]
  },
  {
   "cell_type": "markdown",
   "metadata": {},
   "source": [
    "## Symb Reg Pred deriv"
   ]
  },
  {
   "cell_type": "markdown",
   "metadata": {},
   "source": [
    "### Biochemical Pred Deriv\n"
   ]
  },
  {
   "cell_type": "markdown",
   "metadata": {},
   "source": [
    "#### IC=1"
   ]
  },
  {
   "cell_type": "code",
   "execution_count": 59,
   "metadata": {},
   "outputs": [
    {
     "name": "stderr",
     "output_type": "stream",
     "text": [
      "/home/rcappi/.conda/envs/my_env/lib/python3.12/site-packages/pysr/sr.py:2774: UserWarning: Note: it looks like you are running in Jupyter. The progress bar will be turned off.\n",
      "  warnings.warn(\n",
      "/home/rcappi/.conda/envs/my_env/lib/python3.12/site-packages/pysr/sr.py:2774: UserWarning: Note: it looks like you are running in Jupyter. The progress bar will be turned off.\n",
      "  warnings.warn(\n"
     ]
    }
   ],
   "source": [
    "model_path_gkan = \"./saved_models/gkan/model_biochemical_gkan/biochemical_gkan_ic1_s5_pd_seed/0/gkan\"\n",
    "\n",
    "pysr_model = lambda : get_pysr_model(\n",
    "    model_selection=\"score\",\n",
    "    n_iterations=200\n",
    ")\n",
    "\n",
    "gkan_symb = fit_black_box_from_kan(\n",
    "    n_g_hidden_layers=2,\n",
    "    n_h_hidden_layers=2,\n",
    "    device='cuda',\n",
    "    model_path=model_path_gkan,\n",
    "    pysr_model=pysr_model,\n",
    "    sample_size=10000,\n",
    "    theta=-np.inf,\n",
    "    message_passing=False\n",
    ")"
   ]
  },
  {
   "cell_type": "code",
   "execution_count": 60,
   "metadata": {},
   "outputs": [
    {
     "data": {
      "text/latex": [
       "$\\displaystyle \\sum_{j}( -0.49973878*x_i*x_j) + \\log{\\left(2.6240933 - x_{i} \\right)}$"
      ],
      "text/plain": [
       "\\sum_{j}( -0.49973878*x_i*x_j) + log(2.6240933 - x_i)"
      ]
     },
     "execution_count": 60,
     "metadata": {},
     "output_type": "execute_result"
    }
   ],
   "source": [
    "gkan_symb"
   ]
  },
  {
   "cell_type": "code",
   "execution_count": 65,
   "metadata": {},
   "outputs": [
    {
     "name": "stdout",
     "output_type": "stream",
     "text": [
      "Test loss of symbolic formula: 0.0013994744513183832\n",
      "Number of model's parameters: 356\n",
      "Test loss best model: 0.0002516376553103328\n"
     ]
    }
   ],
   "source": [
    "g_symb = lambda x: (-0.49973878*x[:, 1] * x[:, 0]).unsqueeze(-1)\n",
    "h_symb = lambda x: x[:, 1].unsqueeze(-1) + torch.log(2.6240933 - x[:, 0].unsqueeze(-1))\n",
    "\n",
    "y_true, y_pred = post_process_gkan(\n",
    "    g_symb=g_symb,\n",
    "    h_symb=h_symb,\n",
    "    model_path='./saved_models/gkan/model_biochemical_gkan/biochemical_gkan_ic1_s5_pd_seed/0',\n",
    "    test_set=BIO,\n",
    "    message_passing=False,\n",
    "    include_time=False,\n",
    "    method='dopri5'\n",
    ")"
   ]
  },
  {
   "cell_type": "markdown",
   "metadata": {},
   "source": [
    "#### IC=3\n"
   ]
  },
  {
   "cell_type": "code",
   "execution_count": 61,
   "metadata": {},
   "outputs": [
    {
     "name": "stderr",
     "output_type": "stream",
     "text": [
      "/home/rcappi/.conda/envs/my_env/lib/python3.12/site-packages/pysr/sr.py:2774: UserWarning: Note: it looks like you are running in Jupyter. The progress bar will be turned off.\n",
      "  warnings.warn(\n",
      "/home/rcappi/.conda/envs/my_env/lib/python3.12/site-packages/pysr/sr.py:2774: UserWarning: Note: it looks like you are running in Jupyter. The progress bar will be turned off.\n",
      "  warnings.warn(\n"
     ]
    }
   ],
   "source": [
    "model_path_gkan = \"./saved_models/gkan/model_biochemical_gkan/biochemical_gkan_ic3_s5_pd_seed/0/gkan\"\n",
    "\n",
    "pysr_model = lambda : get_pysr_model(\n",
    "    model_selection=\"score\",\n",
    "    n_iterations=200\n",
    ")\n",
    "\n",
    "gkan_symb = fit_black_box_from_kan(\n",
    "    n_g_hidden_layers=2,\n",
    "    n_h_hidden_layers=2,\n",
    "    device='cuda',\n",
    "    model_path=model_path_gkan,\n",
    "    pysr_model=pysr_model,\n",
    "    sample_size=10000,\n",
    "    theta=-np.inf,\n",
    "    message_passing=False\n",
    ")"
   ]
  },
  {
   "cell_type": "code",
   "execution_count": 62,
   "metadata": {},
   "outputs": [
    {
     "data": {
      "text/latex": [
       "$\\displaystyle \\sum_{j}( -0.49980658*x_i*x_j) - 0.49943864 x_{i} + 0.99958766$"
      ],
      "text/plain": [
       "\\sum_{j}( -0.49980658*x_i*x_j) - 0.49943864*x_i + 0.99958766"
      ]
     },
     "execution_count": 62,
     "metadata": {},
     "output_type": "execute_result"
    }
   ],
   "source": [
    "gkan_symb"
   ]
  },
  {
   "cell_type": "code",
   "execution_count": 66,
   "metadata": {},
   "outputs": [
    {
     "name": "stdout",
     "output_type": "stream",
     "text": [
      "Test loss of symbolic formula: 5.818752833874896e-05\n",
      "Number of model's parameters: 360\n",
      "Test loss best model: 0.00011091509077232331\n"
     ]
    }
   ],
   "source": [
    "g_symb = lambda x: (-0.49980658*x[:, 1] * x[:, 0]).unsqueeze(-1)\n",
    "h_symb = lambda x: -0.49943864 * x[:, 0].unsqueeze(-1) + 0.99958766 + x[:, 1].unsqueeze(-1)\n",
    "\n",
    "y_true, y_pred = post_process_gkan(\n",
    "    g_symb=g_symb,\n",
    "    h_symb=h_symb,\n",
    "    model_path='./saved_models/gkan/model_biochemical_gkan/biochemical_gkan_ic3_s5_pd_seed/0',\n",
    "    test_set=BIO,\n",
    "    message_passing=False,\n",
    "    include_time=False,\n",
    "    method='dopri5'\n",
    ")"
   ]
  },
  {
   "cell_type": "markdown",
   "metadata": {},
   "source": [
    "#### IC=5"
   ]
  },
  {
   "cell_type": "code",
   "execution_count": 67,
   "metadata": {},
   "outputs": [
    {
     "name": "stderr",
     "output_type": "stream",
     "text": [
      "/home/rcappi/.conda/envs/my_env/lib/python3.12/site-packages/pysr/sr.py:2774: UserWarning: Note: it looks like you are running in Jupyter. The progress bar will be turned off.\n",
      "  warnings.warn(\n",
      "/home/rcappi/.conda/envs/my_env/lib/python3.12/site-packages/pysr/sr.py:2774: UserWarning: Note: it looks like you are running in Jupyter. The progress bar will be turned off.\n",
      "  warnings.warn(\n"
     ]
    }
   ],
   "source": [
    "model_path_gkan = \"./saved_models/gkan/model_biochemical_gkan/biochemical_gkan_ic5_s5_pd_seed/0/gkan\"\n",
    "\n",
    "pysr_model = lambda : get_pysr_model(\n",
    "    model_selection=\"score\",\n",
    "    n_iterations=200\n",
    ")\n",
    "\n",
    "gkan_symb = fit_black_box_from_kan(\n",
    "    n_g_hidden_layers=2,\n",
    "    n_h_hidden_layers=2,\n",
    "    device='cuda',\n",
    "    model_path=model_path_gkan,\n",
    "    pysr_model=pysr_model,\n",
    "    sample_size=10000,\n",
    "    theta=-np.inf,\n",
    "    message_passing=False\n",
    ")"
   ]
  },
  {
   "cell_type": "code",
   "execution_count": 68,
   "metadata": {},
   "outputs": [
    {
     "data": {
      "text/latex": [
       "$\\displaystyle \\sum_{j}( -0.49984205*x_i*x_j) - 0.49919242 x_{i} + 0.9994993$"
      ],
      "text/plain": [
       "\\sum_{j}( -0.49984205*x_i*x_j) - 0.49919242*x_i + 0.9994993"
      ]
     },
     "execution_count": 68,
     "metadata": {},
     "output_type": "execute_result"
    }
   ],
   "source": [
    "gkan_symb"
   ]
  },
  {
   "cell_type": "code",
   "execution_count": 69,
   "metadata": {},
   "outputs": [
    {
     "name": "stdout",
     "output_type": "stream",
     "text": [
      "Test loss of symbolic formula: 6.530150130856782e-05\n",
      "Number of model's parameters: 231\n",
      "Test loss best model: 6.882120214868337e-05\n"
     ]
    }
   ],
   "source": [
    "g_symb = lambda x: (-0.49984205*x[:, 1] * x[:, 0]).unsqueeze(-1)\n",
    "h_symb = lambda x: -0.49919242 * x[:, 0].unsqueeze(-1) + 0.9994993 + x[:, 1].unsqueeze(-1)\n",
    "\n",
    "y_true, y_pred = post_process_gkan(\n",
    "    g_symb=g_symb,\n",
    "    h_symb=h_symb,\n",
    "    model_path='./saved_models/gkan/model_biochemical_gkan/biochemical_gkan_ic5_s5_pd_seed/0',\n",
    "    test_set=BIO,\n",
    "    message_passing=False,\n",
    "    include_time=False,\n",
    "    method='dopri5'\n",
    ")"
   ]
  },
  {
   "cell_type": "code",
   "execution_count": 28,
   "metadata": {},
   "outputs": [
    {
     "name": "stdout",
     "output_type": "stream",
     "text": [
      "Pruning node (0,0)\n",
      "Pruning node (0,3)\n"
     ]
    },
    {
     "name": "stderr",
     "output_type": "stream",
     "text": [
      "/extra/rcappi/Kan-for-Graph-Dyn/utils/utils.py:383: OptimizeWarning: Covariance of the parameters could not be estimated\n",
      "  params, _ = curve_fit(func_optim, x, y, p0=[1., 0., 1., 0.], nan_policy='omit')\n",
      "/extra/rcappi/Kan-for-Graph-Dyn/utils/utils.py:383: OptimizeWarning: Covariance of the parameters could not be estimated\n",
      "  params, _ = curve_fit(func_optim, x, y, p0=[1., 0., 1., 0.], nan_policy='omit')\n",
      "/extra/rcappi/Kan-for-Graph-Dyn/utils/utils.py:383: OptimizeWarning: Covariance of the parameters could not be estimated\n",
      "  params, _ = curve_fit(func_optim, x, y, p0=[1., 0., 1., 0.], nan_policy='omit')\n",
      "/extra/rcappi/Kan-for-Graph-Dyn/utils/utils.py:383: OptimizeWarning: Covariance of the parameters could not be estimated\n",
      "  params, _ = curve_fit(func_optim, x, y, p0=[1., 0., 1., 0.], nan_policy='omit')\n",
      "/extra/rcappi/Kan-for-Graph-Dyn/utils/utils.py:383: OptimizeWarning: Covariance of the parameters could not be estimated\n",
      "  params, _ = curve_fit(func_optim, x, y, p0=[1., 0., 1., 0.], nan_policy='omit')\n",
      "/extra/rcappi/Kan-for-Graph-Dyn/utils/utils.py:383: OptimizeWarning: Covariance of the parameters could not be estimated\n",
      "  params, _ = curve_fit(func_optim, x, y, p0=[1., 0., 1., 0.], nan_policy='omit')\n",
      "/extra/rcappi/Kan-for-Graph-Dyn/utils/utils.py:383: OptimizeWarning: Covariance of the parameters could not be estimated\n",
      "  params, _ = curve_fit(func_optim, x, y, p0=[1., 0., 1., 0.], nan_policy='omit')\n",
      "/extra/rcappi/Kan-for-Graph-Dyn/utils/utils.py:383: OptimizeWarning: Covariance of the parameters could not be estimated\n",
      "  params, _ = curve_fit(func_optim, x, y, p0=[1., 0., 1., 0.], nan_policy='omit')\n",
      "/extra/rcappi/Kan-for-Graph-Dyn/utils/utils.py:383: OptimizeWarning: Covariance of the parameters could not be estimated\n",
      "  params, _ = curve_fit(func_optim, x, y, p0=[1., 0., 1., 0.], nan_policy='omit')\n",
      "/extra/rcappi/Kan-for-Graph-Dyn/utils/utils.py:383: OptimizeWarning: Covariance of the parameters could not be estimated\n",
      "  params, _ = curve_fit(func_optim, x, y, p0=[1., 0., 1., 0.], nan_policy='omit')\n",
      "/extra/rcappi/Kan-for-Graph-Dyn/utils/utils.py:383: OptimizeWarning: Covariance of the parameters could not be estimated\n",
      "  params, _ = curve_fit(func_optim, x, y, p0=[1., 0., 1., 0.], nan_policy='omit')\n",
      "/extra/rcappi/Kan-for-Graph-Dyn/utils/utils.py:383: OptimizeWarning: Covariance of the parameters could not be estimated\n",
      "  params, _ = curve_fit(func_optim, x, y, p0=[1., 0., 1., 0.], nan_policy='omit')\n",
      "/extra/rcappi/Kan-for-Graph-Dyn/utils/utils.py:383: OptimizeWarning: Covariance of the parameters could not be estimated\n",
      "  params, _ = curve_fit(func_optim, x, y, p0=[1., 0., 1., 0.], nan_policy='omit')\n",
      "/extra/rcappi/Kan-for-Graph-Dyn/utils/utils.py:383: OptimizeWarning: Covariance of the parameters could not be estimated\n",
      "  params, _ = curve_fit(func_optim, x, y, p0=[1., 0., 1., 0.], nan_policy='omit')\n",
      "/extra/rcappi/Kan-for-Graph-Dyn/utils/utils.py:383: OptimizeWarning: Covariance of the parameters could not be estimated\n",
      "  params, _ = curve_fit(func_optim, x, y, p0=[1., 0., 1., 0.], nan_policy='omit')\n",
      "/extra/rcappi/Kan-for-Graph-Dyn/utils/utils.py:383: OptimizeWarning: Covariance of the parameters could not be estimated\n",
      "  params, _ = curve_fit(func_optim, x, y, p0=[1., 0., 1., 0.], nan_policy='omit')\n"
     ]
    },
    {
     "name": "stdout",
     "output_type": "stream",
     "text": [
      "Pruning node (0,2)\n"
     ]
    },
    {
     "name": "stderr",
     "output_type": "stream",
     "text": [
      "/extra/rcappi/Kan-for-Graph-Dyn/utils/utils.py:383: OptimizeWarning: Covariance of the parameters could not be estimated\n",
      "  params, _ = curve_fit(func_optim, x, y, p0=[1., 0., 1., 0.], nan_policy='omit')\n",
      "/extra/rcappi/Kan-for-Graph-Dyn/utils/utils.py:383: OptimizeWarning: Covariance of the parameters could not be estimated\n",
      "  params, _ = curve_fit(func_optim, x, y, p0=[1., 0., 1., 0.], nan_policy='omit')\n",
      "/extra/rcappi/Kan-for-Graph-Dyn/utils/utils.py:383: OptimizeWarning: Covariance of the parameters could not be estimated\n",
      "  params, _ = curve_fit(func_optim, x, y, p0=[1., 0., 1., 0.], nan_policy='omit')\n",
      "/extra/rcappi/Kan-for-Graph-Dyn/utils/utils.py:383: OptimizeWarning: Covariance of the parameters could not be estimated\n",
      "  params, _ = curve_fit(func_optim, x, y, p0=[1., 0., 1., 0.], nan_policy='omit')\n",
      "/extra/rcappi/Kan-for-Graph-Dyn/utils/utils.py:383: OptimizeWarning: Covariance of the parameters could not be estimated\n",
      "  params, _ = curve_fit(func_optim, x, y, p0=[1., 0., 1., 0.], nan_policy='omit')\n"
     ]
    },
    {
     "name": "stdout",
     "output_type": "stream",
     "text": [
      "Test error: 0.08095317333936691\n"
     ]
    },
    {
     "data": {
      "text/latex": [
       "$\\displaystyle \\sum_{j}(-0.27*x_i - 0.27*x_j + 0.11) - 0.47 x_{i} + 0.79$"
      ],
      "text/plain": [
       "\\sum_{j}(-0.27*x_i - 0.27*x_j + 0.11) - 0.47*x_i + 0.79"
      ]
     },
     "execution_count": 28,
     "metadata": {},
     "output_type": "execute_result"
    }
   ],
   "source": [
    "model_path_gkan = \"./saved_models/gkan/model_biochemical_gkan/biochemical_gkan_ic5_s5_pd_seed/0/gkan\"\n",
    "\n",
    "get_error_spline_wise(\n",
    "    model_path=model_path_gkan,\n",
    "    test_set=BIO,\n",
    "    theta=0.15\n",
    ")"
   ]
  },
  {
   "cell_type": "markdown",
   "metadata": {},
   "source": [
    "### Neuronal Pred Deriv"
   ]
  },
  {
   "cell_type": "markdown",
   "metadata": {},
   "source": [
    "#### IC=1"
   ]
  },
  {
   "cell_type": "code",
   "execution_count": 70,
   "metadata": {},
   "outputs": [
    {
     "name": "stderr",
     "output_type": "stream",
     "text": [
      "/home/rcappi/.conda/envs/my_env/lib/python3.12/site-packages/pysr/sr.py:2774: UserWarning: Note: it looks like you are running in Jupyter. The progress bar will be turned off.\n",
      "  warnings.warn(\n",
      "/home/rcappi/.conda/envs/my_env/lib/python3.12/site-packages/pysr/sr.py:2774: UserWarning: Note: it looks like you are running in Jupyter. The progress bar will be turned off.\n",
      "  warnings.warn(\n"
     ]
    }
   ],
   "source": [
    "model_path_gkan = \"./saved_models/gkan/model_neuronal_gkan/neuronal_gkan_ic1_s5_pd_seed/0/gkan\"\n",
    "\n",
    "pysr_model = lambda : get_pysr_model(\n",
    "    model_selection=\"score\",\n",
    "    n_iterations=200\n",
    ")\n",
    "\n",
    "gkan_symb = fit_black_box_from_kan(\n",
    "    n_g_hidden_layers=2,\n",
    "    n_h_hidden_layers=2,\n",
    "    device='cuda',\n",
    "    model_path=model_path_gkan,\n",
    "    pysr_model=pysr_model,\n",
    "    sample_size=10000,\n",
    "    theta=-np.inf,\n",
    "    message_passing=False\n",
    ")"
   ]
  },
  {
   "cell_type": "code",
   "execution_count": 71,
   "metadata": {},
   "outputs": [
    {
     "data": {
      "text/latex": [
       "$\\displaystyle \\sum_{j}( 0.29748031*tanh(x_j)) - 0.07849252 x_{i}^{2} + 0.1580574$"
      ],
      "text/plain": [
       "\\sum_{j}( 0.29748031*tanh(x_j)) - 0.07849252*x_i**2 + 0.1580574"
      ]
     },
     "execution_count": 71,
     "metadata": {},
     "output_type": "execute_result"
    }
   ],
   "source": [
    "gkan_symb"
   ]
  },
  {
   "cell_type": "code",
   "execution_count": 72,
   "metadata": {},
   "outputs": [
    {
     "name": "stdout",
     "output_type": "stream",
     "text": [
      "Test loss of symbolic formula: 0.012120253406465054\n",
      "Number of model's parameters: 382\n",
      "Test loss best model: 0.0017284597270190716\n"
     ]
    }
   ],
   "source": [
    "g_symb = lambda x: 0.29748031 * torch.tanh(x[:, 1].unsqueeze(-1))\n",
    "h_symb = lambda x: x[:, 1].unsqueeze(-1) - 0.07849252 * torch.square(x[:, 0].unsqueeze(-1)) + 0.1580574\n",
    "\n",
    "y_true, y_pred = post_process_gkan(\n",
    "    g_symb=g_symb,\n",
    "    h_symb=h_symb,\n",
    "    model_path='./saved_models/gkan/model_neuronal_gkan/neuronal_gkan_ic1_s5_pd_seed/0',\n",
    "    test_set=NEUR,\n",
    "    message_passing=False,\n",
    "    include_time=False,\n",
    "    method='dopri5'\n",
    ")"
   ]
  },
  {
   "cell_type": "code",
   "execution_count": 83,
   "metadata": {},
   "outputs": [
    {
     "name": "stdout",
     "output_type": "stream",
     "text": [
      "Pruning node (0,0)\n",
      "Pruning node (0,2)\n",
      "Pruning node (0,3)\n"
     ]
    },
    {
     "name": "stderr",
     "output_type": "stream",
     "text": [
      "/extra/rcappi/Kan-for-Graph-Dyn/utils/utils.py:362: OptimizeWarning: Covariance of the parameters could not be estimated\n",
      "  params, _ = curve_fit(func_optim, x, y, p0=[1., 0., 1., 0.], nan_policy='omit')\n",
      "/extra/rcappi/Kan-for-Graph-Dyn/utils/utils.py:362: OptimizeWarning: Covariance of the parameters could not be estimated\n",
      "  params, _ = curve_fit(func_optim, x, y, p0=[1., 0., 1., 0.], nan_policy='omit')\n",
      "/extra/rcappi/Kan-for-Graph-Dyn/utils/utils.py:362: OptimizeWarning: Covariance of the parameters could not be estimated\n",
      "  params, _ = curve_fit(func_optim, x, y, p0=[1., 0., 1., 0.], nan_policy='omit')\n"
     ]
    },
    {
     "name": "stdout",
     "output_type": "stream",
     "text": [
      "Pruning node (0,0)\n",
      "Pruning node (0,1)\n",
      "Pruning node (0,2)\n"
     ]
    },
    {
     "name": "stderr",
     "output_type": "stream",
     "text": [
      "/extra/rcappi/Kan-for-Graph-Dyn/utils/utils.py:362: OptimizeWarning: Covariance of the parameters could not be estimated\n",
      "  params, _ = curve_fit(func_optim, x, y, p0=[1., 0., 1., 0.], nan_policy='omit')\n",
      "/extra/rcappi/Kan-for-Graph-Dyn/utils/utils.py:362: OptimizeWarning: Covariance of the parameters could not be estimated\n",
      "  params, _ = curve_fit(func_optim, x, y, p0=[1., 0., 1., 0.], nan_policy='omit')\n",
      "/extra/rcappi/Kan-for-Graph-Dyn/utils/utils.py:362: OptimizeWarning: Covariance of the parameters could not be estimated\n",
      "  params, _ = curve_fit(func_optim, x, y, p0=[1., 0., 1., 0.], nan_policy='omit')\n",
      "/extra/rcappi/Kan-for-Graph-Dyn/utils/utils.py:362: OptimizeWarning: Covariance of the parameters could not be estimated\n",
      "  params, _ = curve_fit(func_optim, x, y, p0=[1., 0., 1., 0.], nan_policy='omit')\n",
      "/extra/rcappi/Kan-for-Graph-Dyn/utils/utils.py:362: OptimizeWarning: Covariance of the parameters could not be estimated\n",
      "  params, _ = curve_fit(func_optim, x, y, p0=[1., 0., 1., 0.], nan_policy='omit')\n"
     ]
    }
   ],
   "source": [
    "model_path_gkan = \"./saved_models/gkan/model_neuronal_gkan/neuronal_gkan_ic1_s5_pd_seed/0/gkan\"\n",
    "\n",
    "symb_spline_wise = fit_model(\n",
    "    n_h_hidden_layers=2,\n",
    "    n_g_hidden_layers=2,\n",
    "    model_path=model_path_gkan,\n",
    "    theta=0.1,\n",
    "    device='cuda',\n",
    "    message_passing=False,\n",
    "    include_time=False,\n",
    "    sample_size=15000\n",
    ")"
   ]
  },
  {
   "cell_type": "code",
   "execution_count": 85,
   "metadata": {},
   "outputs": [
    {
     "data": {
      "text/latex": [
       "$\\displaystyle \\sum_{j}(0.12 - 0.18*tanh(-0.52*x_j + 0.19*tanh(1.08*x_i - 5.37) + 0.2)) - 0.47 \\sin{\\left(1.2 \\sin{\\left(0.36 x_{i} - 1.0 \\right)} - 0.15 \\right)} + 0.49 \\sin{\\left(1.23 \\sin{\\left(0.38 x_{i} - 1.03 \\right)} + 3.0 \\right)} - 0.86$"
      ],
      "text/plain": [
       "\\sum_{j}(0.12 - 0.18*tanh(-0.52*x_j + 0.19*tanh(1.08*x_i - 5.37) + 0.2)) - 0.47*sin(1.2*sin(0.36*x_i - 1.0) - 0.15) + 0.49*sin(1.23*sin(0.38*x_i - 1.03) + 3.0) - 0.86"
      ]
     },
     "execution_count": 85,
     "metadata": {},
     "output_type": "execute_result"
    }
   ],
   "source": [
    "quantise(symb_spline_wise)"
   ]
  },
  {
   "cell_type": "markdown",
   "metadata": {},
   "source": [
    "#### IC=3\n"
   ]
  },
  {
   "cell_type": "code",
   "execution_count": null,
   "metadata": {},
   "outputs": [
    {
     "name": "stderr",
     "output_type": "stream",
     "text": [
      "/home/rcappi/.conda/envs/my_env/lib/python3.12/site-packages/pysr/sr.py:2774: UserWarning: Note: it looks like you are running in Jupyter. The progress bar will be turned off.\n",
      "  warnings.warn(\n",
      "/home/rcappi/.conda/envs/my_env/lib/python3.12/site-packages/pysr/sr.py:2774: UserWarning: Note: it looks like you are running in Jupyter. The progress bar will be turned off.\n",
      "  warnings.warn(\n"
     ]
    }
   ],
   "source": [
    "model_path_gkan = \"./saved_models/gkan/model_neuronal_gkan/neuronal_gkan_ic3_s5_pd_seed/0/gkan\"\n",
    "\n",
    "pysr_model = lambda : get_pysr_model(\n",
    "    model_selection=\"score\",\n",
    "    n_iterations=200\n",
    ")\n",
    "\n",
    "gkan_symb = fit_black_box_from_kan(\n",
    "    n_g_hidden_layers=2,\n",
    "    n_h_hidden_layers=2,\n",
    "    device='cuda',\n",
    "    model_path=model_path_gkan,\n",
    "    pysr_model=pysr_model,\n",
    "    sample_size=10000,\n",
    "    theta=-np.inf,\n",
    "    message_passing=False\n",
    ")"
   ]
  },
  {
   "cell_type": "code",
   "execution_count": 78,
   "metadata": {},
   "outputs": [
    {
     "data": {
      "text/latex": [
       "$\\displaystyle \\sum_{j}( 0.29548913*tanh(x_j)) - \\log{\\left(x_{i} + 1 \\right)} + \\tanh{\\left(x_{i} \\right)}$"
      ],
      "text/plain": [
       "\\sum_{j}( 0.29548913*tanh(x_j)) - log(x_i + 1) + tanh(x_i)"
      ]
     },
     "execution_count": 78,
     "metadata": {},
     "output_type": "execute_result"
    }
   ],
   "source": [
    "gkan_symb"
   ]
  },
  {
   "cell_type": "code",
   "execution_count": 75,
   "metadata": {},
   "outputs": [
    {
     "data": {
      "text/latex": [
       "$\\displaystyle \\sum_{j}(0.3*tanh(x_j)) - \\log{\\left(x_{i} + 1 \\right)} + \\tanh{\\left(x_{i} \\right)}$"
      ],
      "text/plain": [
       "\\sum_{j}(0.3*tanh(x_j)) - log(x_i + 1) + tanh(x_i)"
      ]
     },
     "execution_count": 75,
     "metadata": {},
     "output_type": "execute_result"
    }
   ],
   "source": [
    "quantise(gkan_symb)"
   ]
  },
  {
   "cell_type": "code",
   "execution_count": 79,
   "metadata": {},
   "outputs": [
    {
     "name": "stdout",
     "output_type": "stream",
     "text": [
      "Test loss of symbolic formula: 0.03424684703350067\n",
      "Number of model's parameters: 179\n",
      "Test loss best model: 0.0005534670781344175\n"
     ]
    }
   ],
   "source": [
    "g_symb = lambda x: 0.29548913 * torch.tanh(x[:, 1].unsqueeze(-1))\n",
    "h_symb = lambda x: x[:, 1].unsqueeze(-1) - torch.log(x[:, 0].unsqueeze(-1) + 1) + torch.tanh(x[:, 0].unsqueeze(-1))\n",
    "\n",
    "y_true, y_pred = post_process_gkan(\n",
    "    g_symb=g_symb,\n",
    "    h_symb=h_symb,\n",
    "    model_path='./saved_models/gkan/model_neuronal_gkan/neuronal_gkan_ic3_s5_pd_seed/0',\n",
    "    test_set=NEUR,\n",
    "    message_passing=False,\n",
    "    include_time=False,\n",
    "    method='dopri5',\n",
    ")"
   ]
  },
  {
   "cell_type": "code",
   "execution_count": 80,
   "metadata": {},
   "outputs": [
    {
     "name": "stdout",
     "output_type": "stream",
     "text": [
      "Pruning node (0,0)\n",
      "Pruning node (0,2)\n"
     ]
    },
    {
     "name": "stderr",
     "output_type": "stream",
     "text": [
      "/extra/rcappi/Kan-for-Graph-Dyn/utils/utils.py:362: OptimizeWarning: Covariance of the parameters could not be estimated\n",
      "  params, _ = curve_fit(func_optim, x, y, p0=[1., 0., 1., 0.], nan_policy='omit')\n",
      "/extra/rcappi/Kan-for-Graph-Dyn/utils/utils.py:362: OptimizeWarning: Covariance of the parameters could not be estimated\n",
      "  params, _ = curve_fit(func_optim, x, y, p0=[1., 0., 1., 0.], nan_policy='omit')\n",
      "/extra/rcappi/Kan-for-Graph-Dyn/utils/utils.py:362: OptimizeWarning: Covariance of the parameters could not be estimated\n",
      "  params, _ = curve_fit(func_optim, x, y, p0=[1., 0., 1., 0.], nan_policy='omit')\n",
      "/extra/rcappi/Kan-for-Graph-Dyn/utils/utils.py:362: OptimizeWarning: Covariance of the parameters could not be estimated\n",
      "  params, _ = curve_fit(func_optim, x, y, p0=[1., 0., 1., 0.], nan_policy='omit')\n",
      "/extra/rcappi/Kan-for-Graph-Dyn/utils/utils.py:362: OptimizeWarning: Covariance of the parameters could not be estimated\n",
      "  params, _ = curve_fit(func_optim, x, y, p0=[1., 0., 1., 0.], nan_policy='omit')\n",
      "/extra/rcappi/Kan-for-Graph-Dyn/utils/utils.py:362: OptimizeWarning: Covariance of the parameters could not be estimated\n",
      "  params, _ = curve_fit(func_optim, x, y, p0=[1., 0., 1., 0.], nan_policy='omit')\n",
      "/extra/rcappi/Kan-for-Graph-Dyn/utils/utils.py:362: OptimizeWarning: Covariance of the parameters could not be estimated\n",
      "  params, _ = curve_fit(func_optim, x, y, p0=[1., 0., 1., 0.], nan_policy='omit')\n",
      "/extra/rcappi/Kan-for-Graph-Dyn/utils/utils.py:362: OptimizeWarning: Covariance of the parameters could not be estimated\n",
      "  params, _ = curve_fit(func_optim, x, y, p0=[1., 0., 1., 0.], nan_policy='omit')\n",
      "/extra/rcappi/Kan-for-Graph-Dyn/utils/utils.py:362: OptimizeWarning: Covariance of the parameters could not be estimated\n",
      "  params, _ = curve_fit(func_optim, x, y, p0=[1., 0., 1., 0.], nan_policy='omit')\n",
      "/extra/rcappi/Kan-for-Graph-Dyn/utils/utils.py:362: OptimizeWarning: Covariance of the parameters could not be estimated\n",
      "  params, _ = curve_fit(func_optim, x, y, p0=[1., 0., 1., 0.], nan_policy='omit')\n",
      "/extra/rcappi/Kan-for-Graph-Dyn/utils/utils.py:362: OptimizeWarning: Covariance of the parameters could not be estimated\n",
      "  params, _ = curve_fit(func_optim, x, y, p0=[1., 0., 1., 0.], nan_policy='omit')\n"
     ]
    }
   ],
   "source": [
    "model_path_gkan = \"./saved_models/gkan/model_neuronal_gkan/neuronal_gkan_ic3_s5_pd_seed/0/gkan\"\n",
    "\n",
    "symb_spline_wise = fit_model(\n",
    "    n_h_hidden_layers=2,\n",
    "    n_g_hidden_layers=2,\n",
    "    model_path=model_path_gkan,\n",
    "    theta=0.1,\n",
    "    device='cuda',\n",
    "    message_passing=False,\n",
    "    include_time=False,\n",
    "    sample_size=10000\n",
    ")"
   ]
  },
  {
   "cell_type": "code",
   "execution_count": 82,
   "metadata": {},
   "outputs": [
    {
     "data": {
      "text/latex": [
       "$\\displaystyle \\sum_{j}(0.8 - 1.07*tanh(-4.65*(0.01*x_j + 1)**3 + 0.03*Abs(0.9*x_i - 0.16) + 5.59)) - 0.18 \\sin{\\left(6.26 \\tanh{\\left(0.26 x_{i} - 0.8 \\right)} + 1.82 \\right)} - 0.3 \\tanh{\\left(6.26 \\left|{0.17 x_{i} - 0.11}\\right| - 2.08 \\right)} - 0.35$"
      ],
      "text/plain": [
       "\\sum_{j}(0.8 - 1.07*tanh(-4.65*(0.01*x_j + 1)**3 + 0.03*Abs(0.9*x_i - 0.16) + 5.59)) - 0.18*sin(6.26*tanh(0.26*x_i - 0.8) + 1.82) - 0.3*tanh(6.26*Abs(0.17*x_i - 0.11) - 2.08) - 0.35"
      ]
     },
     "execution_count": 82,
     "metadata": {},
     "output_type": "execute_result"
    }
   ],
   "source": [
    "quantise(symb_spline_wise)"
   ]
  },
  {
   "cell_type": "markdown",
   "metadata": {},
   "source": [
    "#### IC=5"
   ]
  },
  {
   "cell_type": "code",
   "execution_count": 86,
   "metadata": {},
   "outputs": [
    {
     "name": "stderr",
     "output_type": "stream",
     "text": [
      "/home/rcappi/.conda/envs/my_env/lib/python3.12/site-packages/pysr/sr.py:2774: UserWarning: Note: it looks like you are running in Jupyter. The progress bar will be turned off.\n",
      "  warnings.warn(\n",
      "/home/rcappi/.conda/envs/my_env/lib/python3.12/site-packages/pysr/sr.py:2774: UserWarning: Note: it looks like you are running in Jupyter. The progress bar will be turned off.\n",
      "  warnings.warn(\n"
     ]
    }
   ],
   "source": [
    "model_path_gkan = \"./saved_models/gkan/model_neuronal_gkan/neuronal_gkan_ic5_s5_pd_seed/0/gkan\"\n",
    "\n",
    "pysr_model = lambda : get_pysr_model(\n",
    "    model_selection=\"score\",\n",
    "    n_iterations=200\n",
    ")\n",
    "\n",
    "gkan_symb = fit_black_box_from_kan(\n",
    "    n_g_hidden_layers=2,\n",
    "    n_h_hidden_layers=2,\n",
    "    device='cuda',\n",
    "    model_path=model_path_gkan,\n",
    "    pysr_model=pysr_model,\n",
    "    sample_size=10000,\n",
    "    theta=-np.inf,\n",
    "    message_passing=False\n",
    ")"
   ]
  },
  {
   "cell_type": "code",
   "execution_count": 87,
   "metadata": {},
   "outputs": [
    {
     "data": {
      "text/latex": [
       "$\\displaystyle \\sum_{j}( 0.30008048*tanh(x_j)) - 0.08635484 x_{i}^{2} + 0.162708174692492$"
      ],
      "text/plain": [
       "\\sum_{j}( 0.30008048*tanh(x_j)) - 0.08635484*x_i**2 + 0.162708174692492"
      ]
     },
     "execution_count": 87,
     "metadata": {},
     "output_type": "execute_result"
    }
   ],
   "source": [
    "gkan_symb"
   ]
  },
  {
   "cell_type": "code",
   "execution_count": 88,
   "metadata": {},
   "outputs": [
    {
     "name": "stdout",
     "output_type": "stream",
     "text": [
      "Test loss of symbolic formula: 0.013893825933337212\n",
      "Number of model's parameters: 153\n",
      "Test loss best model: 0.0005195835838094354\n"
     ]
    }
   ],
   "source": [
    "g_symb = lambda x: 0.30008048 * torch.tanh(x[:, 1].unsqueeze(-1))\n",
    "h_symb = lambda x: x[:, 1].unsqueeze(-1) - 0.08635484 * torch.square(x[:, 0].unsqueeze(-1)) + 0.162708174692492\n",
    "\n",
    "y_true, y_pred = post_process_gkan(\n",
    "    g_symb=g_symb,\n",
    "    h_symb=h_symb,\n",
    "    model_path='./saved_models/gkan/model_neuronal_gkan/neuronal_gkan_ic5_s5_pd_seed/0',\n",
    "    test_set=NEUR,\n",
    "    message_passing=False,\n",
    "    include_time=False,\n",
    "    method='dopri5',\n",
    ")"
   ]
  },
  {
   "cell_type": "code",
   "execution_count": 48,
   "metadata": {},
   "outputs": [
    {
     "name": "stderr",
     "output_type": "stream",
     "text": [
      "/extra/rcappi/Kan-for-Graph-Dyn/utils/utils.py:383: OptimizeWarning: Covariance of the parameters could not be estimated\n",
      "  params, _ = curve_fit(func_optim, x, y, p0=[1., 0., 1., 0.], nan_policy='omit')\n",
      "/extra/rcappi/Kan-for-Graph-Dyn/utils/utils.py:383: OptimizeWarning: Covariance of the parameters could not be estimated\n",
      "  params, _ = curve_fit(func_optim, x, y, p0=[1., 0., 1., 0.], nan_policy='omit')\n",
      "/extra/rcappi/Kan-for-Graph-Dyn/utils/utils.py:383: OptimizeWarning: Covariance of the parameters could not be estimated\n",
      "  params, _ = curve_fit(func_optim, x, y, p0=[1., 0., 1., 0.], nan_policy='omit')\n",
      "/extra/rcappi/Kan-for-Graph-Dyn/utils/utils.py:383: OptimizeWarning: Covariance of the parameters could not be estimated\n",
      "  params, _ = curve_fit(func_optim, x, y, p0=[1., 0., 1., 0.], nan_policy='omit')\n",
      "/extra/rcappi/Kan-for-Graph-Dyn/utils/utils.py:383: OptimizeWarning: Covariance of the parameters could not be estimated\n",
      "  params, _ = curve_fit(func_optim, x, y, p0=[1., 0., 1., 0.], nan_policy='omit')\n",
      "/extra/rcappi/Kan-for-Graph-Dyn/utils/utils.py:383: OptimizeWarning: Covariance of the parameters could not be estimated\n",
      "  params, _ = curve_fit(func_optim, x, y, p0=[1., 0., 1., 0.], nan_policy='omit')\n",
      "/extra/rcappi/Kan-for-Graph-Dyn/utils/utils.py:383: OptimizeWarning: Covariance of the parameters could not be estimated\n",
      "  params, _ = curve_fit(func_optim, x, y, p0=[1., 0., 1., 0.], nan_policy='omit')\n",
      "/extra/rcappi/Kan-for-Graph-Dyn/utils/utils.py:383: OptimizeWarning: Covariance of the parameters could not be estimated\n",
      "  params, _ = curve_fit(func_optim, x, y, p0=[1., 0., 1., 0.], nan_policy='omit')\n",
      "/extra/rcappi/Kan-for-Graph-Dyn/utils/utils.py:383: OptimizeWarning: Covariance of the parameters could not be estimated\n",
      "  params, _ = curve_fit(func_optim, x, y, p0=[1., 0., 1., 0.], nan_policy='omit')\n",
      "/extra/rcappi/Kan-for-Graph-Dyn/utils/utils.py:383: OptimizeWarning: Covariance of the parameters could not be estimated\n",
      "  params, _ = curve_fit(func_optim, x, y, p0=[1., 0., 1., 0.], nan_policy='omit')\n",
      "/extra/rcappi/Kan-for-Graph-Dyn/utils/utils.py:383: OptimizeWarning: Covariance of the parameters could not be estimated\n",
      "  params, _ = curve_fit(func_optim, x, y, p0=[1., 0., 1., 0.], nan_policy='omit')\n",
      "/extra/rcappi/Kan-for-Graph-Dyn/utils/utils.py:383: OptimizeWarning: Covariance of the parameters could not be estimated\n",
      "  params, _ = curve_fit(func_optim, x, y, p0=[1., 0., 1., 0.], nan_policy='omit')\n"
     ]
    },
    {
     "name": "stdout",
     "output_type": "stream",
     "text": [
      "Test error: 0.025614891201257706\n"
     ]
    },
    {
     "name": "stderr",
     "output_type": "stream",
     "text": [
      "/extra/rcappi/Kan-for-Graph-Dyn/utils/utils.py:383: OptimizeWarning: Covariance of the parameters could not be estimated\n",
      "  params, _ = curve_fit(func_optim, x, y, p0=[1., 0., 1., 0.], nan_policy='omit')\n"
     ]
    },
    {
     "data": {
      "text/latex": [
       "$\\displaystyle \\sum_{j}(0.21*tanh(0.77*x_j - 0.05) + 0.09) - 0.06 \\left(1 - 0.91 \\cos{\\left(0.85 x_{i} - 0.44 \\right)}\\right)^{2} - 0.3 \\sin{\\left(0.56 x_{i} - 2.13 \\right)} - 0.49 \\left|{0.49 x_{i} - 0.33}\\right| - 0.13$"
      ],
      "text/plain": [
       "\\sum_{j}(0.21*tanh(0.77*x_j - 0.05) + 0.09) - 0.06*(1 - 0.91*cos(0.85*x_i - 0.44))**2 - 0.3*sin(0.56*x_i - 2.13) - 0.49*Abs(0.49*x_i - 0.33) - 0.13"
      ]
     },
     "execution_count": 48,
     "metadata": {},
     "output_type": "execute_result"
    }
   ],
   "source": [
    "model_path_gkan = \"./saved_models/gkan/model_neuronal_gkan/neuronal_gkan_ic5_s5_pd_seed/0/gkan\"\n",
    "\n",
    "get_error_spline_wise(\n",
    "    model_path=model_path_gkan,\n",
    "    test_set=NEUR,\n",
    "    theta=0.01\n",
    ")"
   ]
  },
  {
   "cell_type": "code",
   "execution_count": 92,
   "metadata": {},
   "outputs": [
    {
     "data": {
      "text/latex": [
       "$\\displaystyle \\sum_{j}(0) - 0.3 \\sin{\\left(0.55 x_{i} - 2.13 \\right)} + 0.52 \\sin{\\left(1.43 \\sin{\\left(0.46 x_{i} - 1.18 \\right)} + 3.09 \\right)} + 4.61 \\sin{\\left(0.15 \\cos{\\left(0.86 x_{i} - 0.45 \\right)} + 1.4 \\right)} - 5.25$"
      ],
      "text/plain": [
       "\\sum_{j}(0) - 0.3*sin(0.55*x_i - 2.13) + 0.52*sin(1.43*sin(0.46*x_i - 1.18) + 3.09) + 4.61*sin(0.15*cos(0.86*x_i - 0.45) + 1.4) - 5.25"
      ]
     },
     "execution_count": 92,
     "metadata": {},
     "output_type": "execute_result"
    }
   ],
   "source": [
    "quantise(symb_spline_wise)"
   ]
  },
  {
   "cell_type": "markdown",
   "metadata": {},
   "source": [
    "#### IC=20"
   ]
  },
  {
   "cell_type": "code",
   "execution_count": 30,
   "metadata": {},
   "outputs": [
    {
     "name": "stderr",
     "output_type": "stream",
     "text": [
      "/home/rcappi/.conda/envs/my_env/lib/python3.12/site-packages/pysr/sr.py:2774: UserWarning: Note: it looks like you are running in Jupyter. The progress bar will be turned off.\n",
      "  warnings.warn(\n",
      "/home/rcappi/.conda/envs/my_env/lib/python3.12/site-packages/pysr/sr.py:2774: UserWarning: Note: it looks like you are running in Jupyter. The progress bar will be turned off.\n",
      "  warnings.warn(\n"
     ]
    }
   ],
   "source": [
    "model_path_gkan = \"./saved_models/gkan/model_neuronal_gkan/neuronal_gkan_ic20_s5_pd_seed/0/gkan\"\n",
    "\n",
    "pysr_model = lambda : get_pysr_model(\n",
    "    model_selection=\"score\",\n",
    "    n_iterations=200\n",
    ")\n",
    "\n",
    "gkan_symb = fit_black_box_from_kan(\n",
    "    n_g_hidden_layers=2,\n",
    "    n_h_hidden_layers=2,\n",
    "    device='cuda',\n",
    "    model_path=model_path_gkan,\n",
    "    pysr_model=pysr_model,\n",
    "    sample_size=10000,\n",
    "    theta=-np.inf,\n",
    "    message_passing=False\n",
    ")"
   ]
  },
  {
   "cell_type": "code",
   "execution_count": 31,
   "metadata": {},
   "outputs": [
    {
     "data": {
      "text/latex": [
       "$\\displaystyle \\sum_{j}( 0.29994336*tanh(x_j)) - 0.085054725 x_{i}^{2} + 0.16075952$"
      ],
      "text/plain": [
       "\\sum_{j}( 0.29994336*tanh(x_j)) - 0.085054725*x_i**2 + 0.16075952"
      ]
     },
     "execution_count": 31,
     "metadata": {},
     "output_type": "execute_result"
    }
   ],
   "source": [
    "gkan_symb"
   ]
  },
  {
   "cell_type": "markdown",
   "metadata": {},
   "source": [
    "### Kuramoto Pred deriv"
   ]
  },
  {
   "cell_type": "markdown",
   "metadata": {},
   "source": [
    "#### IC=1"
   ]
  },
  {
   "cell_type": "code",
   "execution_count": 58,
   "metadata": {},
   "outputs": [
    {
     "name": "stderr",
     "output_type": "stream",
     "text": [
      "/home/rcappi/.conda/envs/my_env/lib/python3.12/site-packages/pysr/sr.py:2774: UserWarning: Note: it looks like you are running in Jupyter. The progress bar will be turned off.\n",
      "  warnings.warn(\n",
      "/home/rcappi/.conda/envs/my_env/lib/python3.12/site-packages/pysr/sr.py:2774: UserWarning: Note: it looks like you are running in Jupyter. The progress bar will be turned off.\n",
      "  warnings.warn(\n"
     ]
    }
   ],
   "source": [
    "model_path_gkan = \"./saved_models/gkan/model_kuramoto_gkan/kuramoto_gkan_ic1_s5_pd_seed/0/gkan\"\n",
    "\n",
    "pysr_model = lambda : get_pysr_model(\n",
    "    model_selection=\"score\",\n",
    "    n_iterations=200\n",
    ")\n",
    "\n",
    "gkan_symb = fit_black_box_from_kan(\n",
    "    n_g_hidden_layers=2,\n",
    "    n_h_hidden_layers=2,\n",
    "    device='cuda',\n",
    "    model_path=model_path_gkan,\n",
    "    pysr_model=pysr_model,\n",
    "    sample_size=10000,\n",
    "    theta=-np.inf,\n",
    "    message_passing=False\n",
    ")"
   ]
  },
  {
   "cell_type": "code",
   "execution_count": 59,
   "metadata": {},
   "outputs": [
    {
     "data": {
      "text/latex": [
       "$\\displaystyle \\sum_{j}( -0.49865502*sin(x_i - x_j)) - 0.000115402737525952 x_{i}^{3} + 2.0085964$"
      ],
      "text/plain": [
       "\\sum_{j}( -0.49865502*sin(x_i - x_j)) - 0.000115402737525952*x_i**3 + 2.0085964"
      ]
     },
     "execution_count": 59,
     "metadata": {},
     "output_type": "execute_result"
    }
   ],
   "source": [
    "gkan_symb"
   ]
  },
  {
   "cell_type": "code",
   "execution_count": 53,
   "metadata": {},
   "outputs": [
    {
     "data": {
      "text/latex": [
       "$\\displaystyle \\sum_{j}(-0.5*sin(x_i - x_j)) + 2.0$"
      ],
      "text/plain": [
       "\\sum_{j}(-0.5*sin(x_i - x_j)) + 2.0"
      ]
     },
     "execution_count": 53,
     "metadata": {},
     "output_type": "execute_result"
    }
   ],
   "source": [
    "quantise(gkan_symb)"
   ]
  },
  {
   "cell_type": "code",
   "execution_count": 60,
   "metadata": {},
   "outputs": [
    {
     "name": "stdout",
     "output_type": "stream",
     "text": [
      "Test loss of symbolic formula: 0.0072832792066037655\n",
      "Number of model's parameters: 256\n",
      "Test loss best model: 0.011241629719734192\n"
     ]
    }
   ],
   "source": [
    "g_symb = lambda x: -0.49865514* torch.sin(x[:, 0] - x[:, 1]).unsqueeze(-1)\n",
    "h_symb = lambda x: x[:, 1].unsqueeze(-1) + 2.0085964 - 0.000115402737525952 * torch.pow(x[:, 0].unsqueeze(-1), 3)\n",
    "\n",
    "y_true, y_pred = post_process_gkan(\n",
    "    g_symb=g_symb,\n",
    "    h_symb=h_symb,\n",
    "    model_path='./saved_models/gkan/model_kuramoto_gkan/kuramoto_gkan_ic1_s5_pd_seed/0',\n",
    "    test_set=KUR,\n",
    "    message_passing=False,\n",
    "    include_time=False,\n",
    "    method='dopri5'\n",
    ")"
   ]
  },
  {
   "cell_type": "code",
   "execution_count": 12,
   "metadata": {},
   "outputs": [
    {
     "data": {
      "text/latex": [
       "$\\displaystyle \\sum_{j}(0.5*sin(7.77*cos(0.14*x_i + 4.33) - 0.189999999999998) - 0.31*tanh(-1.22*exp(0.17*x_j) + 1.32*tanh(0.54*x_i - 0.92) + 0.64) - 0.19)$"
      ],
      "text/plain": [
       "\\sum_{j}(0.5*sin(7.77*cos(0.14*x_i + 4.33) - 0.189999999999998) - 0.31*tanh(-1.22*exp(0.17*x_j) + 1.32*tanh(0.54*x_i - 0.92) + 0.64) - 0.19)"
      ]
     },
     "execution_count": 12,
     "metadata": {},
     "output_type": "execute_result"
    }
   ],
   "source": [
    "quantise(symb_spline_wise)"
   ]
  },
  {
   "cell_type": "code",
   "execution_count": 18,
   "metadata": {},
   "outputs": [
    {
     "name": "stdout",
     "output_type": "stream",
     "text": [
      "Pruning node (0,2)\n"
     ]
    },
    {
     "name": "stderr",
     "output_type": "stream",
     "text": [
      "/extra/rcappi/Kan-for-Graph-Dyn/utils/utils.py:383: OptimizeWarning: Covariance of the parameters could not be estimated\n",
      "  params, _ = curve_fit(func_optim, x, y, p0=[1., 0., 1., 0.], nan_policy='omit')\n",
      "/extra/rcappi/Kan-for-Graph-Dyn/utils/utils.py:383: OptimizeWarning: Covariance of the parameters could not be estimated\n",
      "  params, _ = curve_fit(func_optim, x, y, p0=[1., 0., 1., 0.], nan_policy='omit')\n",
      "/extra/rcappi/Kan-for-Graph-Dyn/utils/utils.py:383: OptimizeWarning: Covariance of the parameters could not be estimated\n",
      "  params, _ = curve_fit(func_optim, x, y, p0=[1., 0., 1., 0.], nan_policy='omit')\n",
      "/extra/rcappi/Kan-for-Graph-Dyn/utils/utils.py:383: OptimizeWarning: Covariance of the parameters could not be estimated\n",
      "  params, _ = curve_fit(func_optim, x, y, p0=[1., 0., 1., 0.], nan_policy='omit')\n",
      "/extra/rcappi/Kan-for-Graph-Dyn/utils/utils.py:383: OptimizeWarning: Covariance of the parameters could not be estimated\n",
      "  params, _ = curve_fit(func_optim, x, y, p0=[1., 0., 1., 0.], nan_policy='omit')\n",
      "/extra/rcappi/Kan-for-Graph-Dyn/utils/utils.py:383: OptimizeWarning: Covariance of the parameters could not be estimated\n",
      "  params, _ = curve_fit(func_optim, x, y, p0=[1., 0., 1., 0.], nan_policy='omit')\n",
      "/extra/rcappi/Kan-for-Graph-Dyn/utils/utils.py:383: OptimizeWarning: Covariance of the parameters could not be estimated\n",
      "  params, _ = curve_fit(func_optim, x, y, p0=[1., 0., 1., 0.], nan_policy='omit')\n",
      "/extra/rcappi/Kan-for-Graph-Dyn/utils/utils.py:383: OptimizeWarning: Covariance of the parameters could not be estimated\n",
      "  params, _ = curve_fit(func_optim, x, y, p0=[1., 0., 1., 0.], nan_policy='omit')\n",
      "/extra/rcappi/Kan-for-Graph-Dyn/utils/utils.py:383: OptimizeWarning: Covariance of the parameters could not be estimated\n",
      "  params, _ = curve_fit(func_optim, x, y, p0=[1., 0., 1., 0.], nan_policy='omit')\n",
      "/extra/rcappi/Kan-for-Graph-Dyn/utils/utils.py:383: OptimizeWarning: Covariance of the parameters could not be estimated\n",
      "  params, _ = curve_fit(func_optim, x, y, p0=[1., 0., 1., 0.], nan_policy='omit')\n",
      "/extra/rcappi/Kan-for-Graph-Dyn/utils/utils.py:383: OptimizeWarning: Covariance of the parameters could not be estimated\n",
      "  params, _ = curve_fit(func_optim, x, y, p0=[1., 0., 1., 0.], nan_policy='omit')\n",
      "/extra/rcappi/Kan-for-Graph-Dyn/utils/utils.py:383: OptimizeWarning: Covariance of the parameters could not be estimated\n",
      "  params, _ = curve_fit(func_optim, x, y, p0=[1., 0., 1., 0.], nan_policy='omit')\n",
      "/extra/rcappi/Kan-for-Graph-Dyn/utils/utils.py:383: OptimizeWarning: Covariance of the parameters could not be estimated\n",
      "  params, _ = curve_fit(func_optim, x, y, p0=[1., 0., 1., 0.], nan_policy='omit')\n",
      "/extra/rcappi/Kan-for-Graph-Dyn/utils/utils.py:383: OptimizeWarning: Covariance of the parameters could not be estimated\n",
      "  params, _ = curve_fit(func_optim, x, y, p0=[1., 0., 1., 0.], nan_policy='omit')\n",
      "/extra/rcappi/Kan-for-Graph-Dyn/utils/utils.py:383: OptimizeWarning: Covariance of the parameters could not be estimated\n",
      "  params, _ = curve_fit(func_optim, x, y, p0=[1., 0., 1., 0.], nan_policy='omit')\n",
      "/extra/rcappi/Kan-for-Graph-Dyn/utils/utils.py:383: OptimizeWarning: Covariance of the parameters could not be estimated\n",
      "  params, _ = curve_fit(func_optim, x, y, p0=[1., 0., 1., 0.], nan_policy='omit')\n",
      "/extra/rcappi/Kan-for-Graph-Dyn/utils/utils.py:383: OptimizeWarning: Covariance of the parameters could not be estimated\n",
      "  params, _ = curve_fit(func_optim, x, y, p0=[1., 0., 1., 0.], nan_policy='omit')\n",
      "/extra/rcappi/Kan-for-Graph-Dyn/utils/utils.py:383: OptimizeWarning: Covariance of the parameters could not be estimated\n",
      "  params, _ = curve_fit(func_optim, x, y, p0=[1., 0., 1., 0.], nan_policy='omit')\n",
      "/extra/rcappi/Kan-for-Graph-Dyn/utils/utils.py:383: OptimizeWarning: Covariance of the parameters could not be estimated\n",
      "  params, _ = curve_fit(func_optim, x, y, p0=[1., 0., 1., 0.], nan_policy='omit')\n",
      "/extra/rcappi/Kan-for-Graph-Dyn/utils/utils.py:383: OptimizeWarning: Covariance of the parameters could not be estimated\n",
      "  params, _ = curve_fit(func_optim, x, y, p0=[1., 0., 1., 0.], nan_policy='omit')\n",
      "/extra/rcappi/Kan-for-Graph-Dyn/utils/utils.py:383: OptimizeWarning: Covariance of the parameters could not be estimated\n",
      "  params, _ = curve_fit(func_optim, x, y, p0=[1., 0., 1., 0.], nan_policy='omit')\n",
      "/extra/rcappi/Kan-for-Graph-Dyn/utils/utils.py:383: OptimizeWarning: Covariance of the parameters could not be estimated\n",
      "  params, _ = curve_fit(func_optim, x, y, p0=[1., 0., 1., 0.], nan_policy='omit')\n",
      "/extra/rcappi/Kan-for-Graph-Dyn/utils/utils.py:383: OptimizeWarning: Covariance of the parameters could not be estimated\n",
      "  params, _ = curve_fit(func_optim, x, y, p0=[1., 0., 1., 0.], nan_policy='omit')\n",
      "/extra/rcappi/Kan-for-Graph-Dyn/utils/utils.py:383: OptimizeWarning: Covariance of the parameters could not be estimated\n",
      "  params, _ = curve_fit(func_optim, x, y, p0=[1., 0., 1., 0.], nan_policy='omit')\n",
      "/extra/rcappi/Kan-for-Graph-Dyn/utils/utils.py:383: OptimizeWarning: Covariance of the parameters could not be estimated\n",
      "  params, _ = curve_fit(func_optim, x, y, p0=[1., 0., 1., 0.], nan_policy='omit')\n"
     ]
    },
    {
     "name": "stdout",
     "output_type": "stream",
     "text": [
      "Test error: 0.47489508986473083\n"
     ]
    },
    {
     "data": {
      "text/latex": [
       "$\\displaystyle \\sum_{j}(-0.01*(0.55*x_i - 1)**2 - 0.16*(0.18*x_i - 0.24*x_j + 1)**2 - 0.5*sin(-1.02*x_i + 1.02*x_j + 3.02) + 0.05*tanh(0.98*x_j - 1.51) + 0.18) - 0.06 \\left(\\left(1 - 0.2 x_{i}\\right)^{2} - 0.43\\right)^{2} - 0.28 \\sin{\\left(0.1 x_{i} - 1.9 \\right)} + 1.73$"
      ],
      "text/plain": [
       "\\sum_{j}(-0.01*(0.55*x_i - 1)**2 - 0.16*(0.18*x_i - 0.24*x_j + 1)**2 - 0.5*sin(-1.02*x_i + 1.02*x_j + 3.02) + 0.05*tanh(0.98*x_j - 1.51) + 0.18) - 0.06*((1 - 0.2*x_i)**2 - 0.43)**2 - 0.28*sin(0.1*x_i - 1.9) + 1.73"
      ]
     },
     "execution_count": 18,
     "metadata": {},
     "output_type": "execute_result"
    }
   ],
   "source": [
    "model_path_gkan = \"./saved_models/gkan/model_kuramoto_gkan/kuramoto_gkan_ic1_s5_pd_seed/0/gkan\"\n",
    "\n",
    "get_error_spline_wise(\n",
    "    model_path=model_path_gkan,\n",
    "    test_set=KUR,\n",
    "    theta=0.05,\n",
    "    alpha=0.09\n",
    ")"
   ]
  },
  {
   "cell_type": "markdown",
   "metadata": {},
   "source": [
    "#### IC=3"
   ]
  },
  {
   "cell_type": "code",
   "execution_count": 107,
   "metadata": {},
   "outputs": [
    {
     "name": "stderr",
     "output_type": "stream",
     "text": [
      "/home/rcappi/.conda/envs/my_env/lib/python3.12/site-packages/pysr/sr.py:2774: UserWarning: Note: it looks like you are running in Jupyter. The progress bar will be turned off.\n",
      "  warnings.warn(\n",
      "/home/rcappi/.conda/envs/my_env/lib/python3.12/site-packages/pysr/sr.py:2774: UserWarning: Note: it looks like you are running in Jupyter. The progress bar will be turned off.\n",
      "  warnings.warn(\n"
     ]
    }
   ],
   "source": [
    "model_path_gkan = \"./saved_models/gkan/model_kuramoto_gkan/kuramoto_gkan_ic3_s5_pd_seed/0/gkan\"\n",
    "\n",
    "pysr_model = lambda : get_pysr_model(\n",
    "    model_selection=\"score\",\n",
    "    n_iterations=200\n",
    ")\n",
    "\n",
    "gkan_symb = fit_black_box_from_kan(\n",
    "    n_g_hidden_layers=2,\n",
    "    n_h_hidden_layers=2,\n",
    "    device='cuda',\n",
    "    model_path=model_path_gkan,\n",
    "    pysr_model=pysr_model,\n",
    "    sample_size=10000,\n",
    "    theta=-np.inf,\n",
    "    message_passing=False\n",
    ")"
   ]
  },
  {
   "cell_type": "code",
   "execution_count": 108,
   "metadata": {},
   "outputs": [
    {
     "data": {
      "text/latex": [
       "$\\displaystyle \\sum_{j}( -0.50034684*sin(x_i - x_j)) + 0.0025323885 \\sin{\\left(x_{i} \\right)} + 2.0002553$"
      ],
      "text/plain": [
       "\\sum_{j}( -0.50034684*sin(x_i - x_j)) + 0.0025323885*sin(x_i) + 2.0002553"
      ]
     },
     "execution_count": 108,
     "metadata": {},
     "output_type": "execute_result"
    }
   ],
   "source": [
    "gkan_symb"
   ]
  },
  {
   "cell_type": "code",
   "execution_count": 111,
   "metadata": {},
   "outputs": [
    {
     "data": {
      "text/latex": [
       "$\\displaystyle \\sum_{j}(-0.5*sin(x_i - x_j)) + 2.0$"
      ],
      "text/plain": [
       "\\sum_{j}(-0.5*sin(x_i - x_j)) + 2.0"
      ]
     },
     "execution_count": 111,
     "metadata": {},
     "output_type": "execute_result"
    }
   ],
   "source": [
    "quantise(gkan_symb)"
   ]
  },
  {
   "cell_type": "code",
   "execution_count": 110,
   "metadata": {},
   "outputs": [
    {
     "name": "stdout",
     "output_type": "stream",
     "text": [
      "Test loss of symbolic formula: 0.001366805867291987\n",
      "Number of model's parameters: 234\n",
      "Test loss best model: 0.0044190287590026855\n"
     ]
    }
   ],
   "source": [
    "g_symb = lambda x: -0.50034684* torch.sin(x[:, 0] - x[:, 1]).unsqueeze(-1)\n",
    "h_symb = lambda x: x[:, 1].unsqueeze(-1) - 0.0025323885 * torch.sin(x[:, 0].unsqueeze(-1)) + 2.0002553\n",
    "\n",
    "y_true, y_pred = post_process_gkan(\n",
    "    g_symb=g_symb,\n",
    "    h_symb=h_symb,\n",
    "    model_path='./saved_models/gkan/model_kuramoto_gkan/kuramoto_gkan_ic3_s5_pd_seed/0',\n",
    "    test_set=KUR,\n",
    "    message_passing=False,\n",
    "    include_time=False,\n",
    "    method='dopri5'\n",
    ")"
   ]
  },
  {
   "cell_type": "code",
   "execution_count": 21,
   "metadata": {},
   "outputs": [
    {
     "name": "stdout",
     "output_type": "stream",
     "text": [
      "Pruning node (0,0)\n",
      "Pruning node (0,2)\n"
     ]
    },
    {
     "name": "stderr",
     "output_type": "stream",
     "text": [
      "/extra/rcappi/Kan-for-Graph-Dyn/utils/utils.py:383: OptimizeWarning: Covariance of the parameters could not be estimated\n",
      "  params, _ = curve_fit(func_optim, x, y, p0=[1., 0., 1., 0.], nan_policy='omit')\n",
      "/extra/rcappi/Kan-for-Graph-Dyn/utils/utils.py:383: OptimizeWarning: Covariance of the parameters could not be estimated\n",
      "  params, _ = curve_fit(func_optim, x, y, p0=[1., 0., 1., 0.], nan_policy='omit')\n",
      "/extra/rcappi/Kan-for-Graph-Dyn/utils/utils.py:383: OptimizeWarning: Covariance of the parameters could not be estimated\n",
      "  params, _ = curve_fit(func_optim, x, y, p0=[1., 0., 1., 0.], nan_policy='omit')\n",
      "/extra/rcappi/Kan-for-Graph-Dyn/utils/utils.py:383: OptimizeWarning: Covariance of the parameters could not be estimated\n",
      "  params, _ = curve_fit(func_optim, x, y, p0=[1., 0., 1., 0.], nan_policy='omit')\n",
      "/extra/rcappi/Kan-for-Graph-Dyn/utils/utils.py:383: OptimizeWarning: Covariance of the parameters could not be estimated\n",
      "  params, _ = curve_fit(func_optim, x, y, p0=[1., 0., 1., 0.], nan_policy='omit')\n",
      "/extra/rcappi/Kan-for-Graph-Dyn/utils/utils.py:383: OptimizeWarning: Covariance of the parameters could not be estimated\n",
      "  params, _ = curve_fit(func_optim, x, y, p0=[1., 0., 1., 0.], nan_policy='omit')\n",
      "/extra/rcappi/Kan-for-Graph-Dyn/utils/utils.py:383: OptimizeWarning: Covariance of the parameters could not be estimated\n",
      "  params, _ = curve_fit(func_optim, x, y, p0=[1., 0., 1., 0.], nan_policy='omit')\n",
      "/extra/rcappi/Kan-for-Graph-Dyn/utils/utils.py:383: OptimizeWarning: Covariance of the parameters could not be estimated\n",
      "  params, _ = curve_fit(func_optim, x, y, p0=[1., 0., 1., 0.], nan_policy='omit')\n",
      "/extra/rcappi/Kan-for-Graph-Dyn/utils/utils.py:383: OptimizeWarning: Covariance of the parameters could not be estimated\n",
      "  params, _ = curve_fit(func_optim, x, y, p0=[1., 0., 1., 0.], nan_policy='omit')\n",
      "/extra/rcappi/Kan-for-Graph-Dyn/utils/utils.py:383: OptimizeWarning: Covariance of the parameters could not be estimated\n",
      "  params, _ = curve_fit(func_optim, x, y, p0=[1., 0., 1., 0.], nan_policy='omit')\n"
     ]
    },
    {
     "name": "stdout",
     "output_type": "stream",
     "text": [
      "Pruning node (0,0)\n"
     ]
    },
    {
     "name": "stderr",
     "output_type": "stream",
     "text": [
      "/extra/rcappi/Kan-for-Graph-Dyn/utils/utils.py:383: OptimizeWarning: Covariance of the parameters could not be estimated\n",
      "  params, _ = curve_fit(func_optim, x, y, p0=[1., 0., 1., 0.], nan_policy='omit')\n",
      "/extra/rcappi/Kan-for-Graph-Dyn/utils/utils.py:383: OptimizeWarning: Covariance of the parameters could not be estimated\n",
      "  params, _ = curve_fit(func_optim, x, y, p0=[1., 0., 1., 0.], nan_policy='omit')\n",
      "/extra/rcappi/Kan-for-Graph-Dyn/utils/utils.py:383: OptimizeWarning: Covariance of the parameters could not be estimated\n",
      "  params, _ = curve_fit(func_optim, x, y, p0=[1., 0., 1., 0.], nan_policy='omit')\n",
      "/extra/rcappi/Kan-for-Graph-Dyn/utils/utils.py:383: OptimizeWarning: Covariance of the parameters could not be estimated\n",
      "  params, _ = curve_fit(func_optim, x, y, p0=[1., 0., 1., 0.], nan_policy='omit')\n"
     ]
    },
    {
     "name": "stdout",
     "output_type": "stream",
     "text": [
      "Test error: 0.3672178089618683\n"
     ]
    },
    {
     "data": {
      "text/latex": [
       "$\\displaystyle \\sum_{j}(0.49*tanh(1.57*x_i - 1.64*x_j + 5.38) + 0.77*Abs(-0.14*x_i + 0.11*x_j + 0.37) - 0.65) + 0.33 \\left(0.12 x_{i} - 1\\right)^{2} + 0.34 \\tanh{\\left(0.19 x_{i} \\right)} + 1.18$"
      ],
      "text/plain": [
       "\\sum_{j}(0.49*tanh(1.57*x_i - 1.64*x_j + 5.38) + 0.77*Abs(-0.14*x_i + 0.11*x_j + 0.37) - 0.65) + 0.33*(0.12*x_i - 1)**2 + 0.34*tanh(0.19*x_i) + 1.18"
      ]
     },
     "execution_count": 21,
     "metadata": {},
     "output_type": "execute_result"
    }
   ],
   "source": [
    "model_path_gkan = \"./saved_models/gkan/model_kuramoto_gkan/kuramoto_gkan_ic3_s5_pd_seed/0/gkan\"\n",
    "\n",
    "get_error_spline_wise(\n",
    "    model_path=model_path_gkan,\n",
    "    test_set=KUR,\n",
    "    theta=0.05,\n",
    "    alpha=0.01\n",
    ")"
   ]
  },
  {
   "cell_type": "code",
   "execution_count": 116,
   "metadata": {},
   "outputs": [
    {
     "data": {
      "text/latex": [
       "$\\displaystyle \\sum_{j}(-0.29*sin(10.1*tanh(0.05*x_i - 0.03) - 4.36*tanh(0.15*x_j + 0.09) + 1.16) - 0.49*tanh(-1.56*x_i + 21.96*tanh(0.08*x_j - 0.47) + 4.52) - 0.31) + 0.34 \\tanh{\\left(2.16 \\tanh{\\left(0.09 x_{i} - 0.32 \\right)} + 0.67 \\right)} + 0.41$"
      ],
      "text/plain": [
       "\\sum_{j}(-0.29*sin(10.1*tanh(0.05*x_i - 0.03) - 4.36*tanh(0.15*x_j + 0.09) + 1.16) - 0.49*tanh(-1.56*x_i + 21.96*tanh(0.08*x_j - 0.47) + 4.52) - 0.31) + 0.34*tanh(2.16*tanh(0.09*x_i - 0.32) + 0.67) + 0.41"
      ]
     },
     "execution_count": 116,
     "metadata": {},
     "output_type": "execute_result"
    }
   ],
   "source": [
    "quantise(symb_spline_wise)"
   ]
  },
  {
   "cell_type": "markdown",
   "metadata": {},
   "source": [
    "#### IC=5"
   ]
  },
  {
   "cell_type": "code",
   "execution_count": 56,
   "metadata": {},
   "outputs": [
    {
     "name": "stderr",
     "output_type": "stream",
     "text": [
      "/home/rcappi/.conda/envs/my_env/lib/python3.12/site-packages/pysr/sr.py:2774: UserWarning: Note: it looks like you are running in Jupyter. The progress bar will be turned off.\n",
      "  warnings.warn(\n",
      "/home/rcappi/.conda/envs/my_env/lib/python3.12/site-packages/pysr/sr.py:2774: UserWarning: Note: it looks like you are running in Jupyter. The progress bar will be turned off.\n",
      "  warnings.warn(\n"
     ]
    }
   ],
   "source": [
    "model_path_gkan = \"./saved_models/gkan/model_kuramoto_gkan/kuramoto_gkan_ic5_s5_pd_seed/0/gkan\"\n",
    "\n",
    "pysr_model = lambda : get_pysr_model(\n",
    "    model_selection=\"score\",\n",
    "    n_iterations=200\n",
    ")\n",
    "\n",
    "gkan_symb = fit_black_box_from_kan(\n",
    "    n_g_hidden_layers=2,\n",
    "    n_h_hidden_layers=2,\n",
    "    device='cuda',\n",
    "    model_path=model_path_gkan,\n",
    "    pysr_model=pysr_model,\n",
    "    sample_size=10000,\n",
    "    theta=-np.inf,\n",
    "    message_passing=False\n",
    ")"
   ]
  },
  {
   "cell_type": "code",
   "execution_count": 57,
   "metadata": {},
   "outputs": [
    {
     "data": {
      "text/latex": [
       "$\\displaystyle \\sum_{j}( -0.50092536*sin(x_i - x_j)) - 0.00050581875 x_{i} + 2.0022514$"
      ],
      "text/plain": [
       "\\sum_{j}( -0.50092536*sin(x_i - x_j)) - 0.00050581875*x_i + 2.0022514"
      ]
     },
     "execution_count": 57,
     "metadata": {},
     "output_type": "execute_result"
    }
   ],
   "source": [
    "gkan_symb"
   ]
  },
  {
   "cell_type": "code",
   "execution_count": null,
   "metadata": {},
   "outputs": [
    {
     "name": "stdout",
     "output_type": "stream",
     "text": [
      "Test loss of symbolic formula: 0.0011962071293964982\n",
      "Number of model's parameters: 137\n",
      "Test loss best model: 0.0030159619636833668\n"
     ]
    }
   ],
   "source": [
    "g_symb = lambda x: -0.50092536* torch.sin(x[:, 0].unsqueeze(-1) - x[:, 1].unsqueeze(-1))\n",
    "h_symb = lambda x: x[:, 1].unsqueeze(-1) - 0.00050581875 * x[:, 0].unsqueeze(-1) + 2.0022514\n",
    "\n",
    "y_true, y_pred = post_process_gkan(\n",
    "    g_symb=g_symb,\n",
    "    h_symb=h_symb,\n",
    "    model_path='./saved_models/gkan/model_kuramoto_gkan/kuramoto_gkan_ic5_s5_pd_seed/0',\n",
    "    test_set=KUR,\n",
    "    message_passing=False,\n",
    "    include_time=False,\n",
    "    method='dopri5',\n",
    "    pred_deriv=True\n",
    ")"
   ]
  },
  {
   "cell_type": "code",
   "execution_count": 22,
   "metadata": {},
   "outputs": [
    {
     "name": "stdout",
     "output_type": "stream",
     "text": [
      "Pruning node (0,0)\n",
      "Pruning node (0,2)\n"
     ]
    },
    {
     "name": "stderr",
     "output_type": "stream",
     "text": [
      "/extra/rcappi/Kan-for-Graph-Dyn/utils/utils.py:383: OptimizeWarning: Covariance of the parameters could not be estimated\n",
      "  params, _ = curve_fit(func_optim, x, y, p0=[1., 0., 1., 0.], nan_policy='omit')\n",
      "/extra/rcappi/Kan-for-Graph-Dyn/utils/utils.py:383: OptimizeWarning: Covariance of the parameters could not be estimated\n",
      "  params, _ = curve_fit(func_optim, x, y, p0=[1., 0., 1., 0.], nan_policy='omit')\n",
      "/extra/rcappi/Kan-for-Graph-Dyn/utils/utils.py:383: OptimizeWarning: Covariance of the parameters could not be estimated\n",
      "  params, _ = curve_fit(func_optim, x, y, p0=[1., 0., 1., 0.], nan_policy='omit')\n",
      "/extra/rcappi/Kan-for-Graph-Dyn/utils/utils.py:383: OptimizeWarning: Covariance of the parameters could not be estimated\n",
      "  params, _ = curve_fit(func_optim, x, y, p0=[1., 0., 1., 0.], nan_policy='omit')\n",
      "/extra/rcappi/Kan-for-Graph-Dyn/utils/utils.py:383: OptimizeWarning: Covariance of the parameters could not be estimated\n",
      "  params, _ = curve_fit(func_optim, x, y, p0=[1., 0., 1., 0.], nan_policy='omit')\n",
      "/extra/rcappi/Kan-for-Graph-Dyn/utils/utils.py:383: OptimizeWarning: Covariance of the parameters could not be estimated\n",
      "  params, _ = curve_fit(func_optim, x, y, p0=[1., 0., 1., 0.], nan_policy='omit')\n",
      "/extra/rcappi/Kan-for-Graph-Dyn/utils/utils.py:383: OptimizeWarning: Covariance of the parameters could not be estimated\n",
      "  params, _ = curve_fit(func_optim, x, y, p0=[1., 0., 1., 0.], nan_policy='omit')\n",
      "/extra/rcappi/Kan-for-Graph-Dyn/utils/utils.py:383: OptimizeWarning: Covariance of the parameters could not be estimated\n",
      "  params, _ = curve_fit(func_optim, x, y, p0=[1., 0., 1., 0.], nan_policy='omit')\n",
      "/extra/rcappi/Kan-for-Graph-Dyn/utils/utils.py:383: OptimizeWarning: Covariance of the parameters could not be estimated\n",
      "  params, _ = curve_fit(func_optim, x, y, p0=[1., 0., 1., 0.], nan_policy='omit')\n"
     ]
    },
    {
     "name": "stdout",
     "output_type": "stream",
     "text": [
      "Pruning node (0,0)\n",
      "Pruning node (0,2)\n"
     ]
    },
    {
     "name": "stderr",
     "output_type": "stream",
     "text": [
      "/extra/rcappi/Kan-for-Graph-Dyn/utils/utils.py:383: OptimizeWarning: Covariance of the parameters could not be estimated\n",
      "  params, _ = curve_fit(func_optim, x, y, p0=[1., 0., 1., 0.], nan_policy='omit')\n",
      "/extra/rcappi/Kan-for-Graph-Dyn/utils/utils.py:383: OptimizeWarning: Covariance of the parameters could not be estimated\n",
      "  params, _ = curve_fit(func_optim, x, y, p0=[1., 0., 1., 0.], nan_policy='omit')\n",
      "/extra/rcappi/Kan-for-Graph-Dyn/utils/utils.py:383: OptimizeWarning: Covariance of the parameters could not be estimated\n",
      "  params, _ = curve_fit(func_optim, x, y, p0=[1., 0., 1., 0.], nan_policy='omit')\n",
      "/extra/rcappi/Kan-for-Graph-Dyn/utils/utils.py:383: OptimizeWarning: Covariance of the parameters could not be estimated\n",
      "  params, _ = curve_fit(func_optim, x, y, p0=[1., 0., 1., 0.], nan_policy='omit')\n",
      "/extra/rcappi/Kan-for-Graph-Dyn/utils/utils.py:383: OptimizeWarning: Covariance of the parameters could not be estimated\n",
      "  params, _ = curve_fit(func_optim, x, y, p0=[1., 0., 1., 0.], nan_policy='omit')\n",
      "/extra/rcappi/Kan-for-Graph-Dyn/utils/utils.py:383: OptimizeWarning: Covariance of the parameters could not be estimated\n",
      "  params, _ = curve_fit(func_optim, x, y, p0=[1., 0., 1., 0.], nan_policy='omit')\n",
      "/extra/rcappi/Kan-for-Graph-Dyn/utils/utils.py:383: OptimizeWarning: Covariance of the parameters could not be estimated\n",
      "  params, _ = curve_fit(func_optim, x, y, p0=[1., 0., 1., 0.], nan_policy='omit')\n",
      "/extra/rcappi/Kan-for-Graph-Dyn/utils/utils.py:383: OptimizeWarning: Covariance of the parameters could not be estimated\n",
      "  params, _ = curve_fit(func_optim, x, y, p0=[1., 0., 1., 0.], nan_policy='omit')\n",
      "/extra/rcappi/Kan-for-Graph-Dyn/utils/utils.py:383: OptimizeWarning: Covariance of the parameters could not be estimated\n",
      "  params, _ = curve_fit(func_optim, x, y, p0=[1., 0., 1., 0.], nan_policy='omit')\n",
      "/extra/rcappi/Kan-for-Graph-Dyn/utils/utils.py:383: OptimizeWarning: Covariance of the parameters could not be estimated\n",
      "  params, _ = curve_fit(func_optim, x, y, p0=[1., 0., 1., 0.], nan_policy='omit')\n"
     ]
    },
    {
     "name": "stdout",
     "output_type": "stream",
     "text": [
      "Test error: 0.5854172706604004\n"
     ]
    },
    {
     "data": {
      "text/latex": [
       "$\\displaystyle \\sum_{j}(-0.49*sin(1.0*x_i - 1.0*x_j + 0.01) + 0.01*tanh(-1.33*x_i + 1.23*x_j + 0.74) - 0.01) + 0.86$"
      ],
      "text/plain": [
       "\\sum_{j}(-0.49*sin(1.0*x_i - 1.0*x_j + 0.01) + 0.01*tanh(-1.33*x_i + 1.23*x_j + 0.74) - 0.01) + 0.86"
      ]
     },
     "execution_count": 22,
     "metadata": {},
     "output_type": "execute_result"
    }
   ],
   "source": [
    "model_path_gkan = \"./saved_models/gkan/model_kuramoto_gkan/kuramoto_gkan_ic5_s5_pd_seed/0/gkan\"\n",
    "\n",
    "get_error_spline_wise(\n",
    "    model_path=model_path_gkan,\n",
    "    test_set=KUR,\n",
    "    theta=0.01,\n",
    "    alpha=0.09\n",
    ")"
   ]
  },
  {
   "cell_type": "code",
   "execution_count": 6,
   "metadata": {},
   "outputs": [
    {
     "name": "stdout",
     "output_type": "stream",
     "text": [
      "Pruning node (0,0)\n",
      "Test error: 0.2553747296333313\n"
     ]
    },
    {
     "data": {
      "text/latex": [
       "$\\displaystyle \\sum_{j}(0.06*log(Abs(0.09*x_i**2 + 0.26*x_i - 0.82*x_j - 0.14*cos(x_i))) - 0.19*sin(0.09*x_i**2 + 0.26*x_i - 0.82*x_j - 0.14*cos(x_i)) - 0.15*cos(0.09*x_i**2 + 0.26*x_i - 0.82*x_j - 0.14*cos(x_i))) + 0.24 x_{i} + 0.35 e^{- 0.05 x_{i}^{2} + 0.44 x_{i} + 0.13 \\sin{\\left(x_{i} \\right)}} - 0.02 \\sin{\\left(0.01 x_{i}^{2} - 0.92 x_{i} \\right)}$"
      ],
      "text/plain": [
       "\\sum_{j}(0.06*log(Abs(0.09*x_i**2 + 0.26*x_i - 0.82*x_j - 0.14*cos(x_i))) - 0.19*sin(0.09*x_i**2 + 0.26*x_i - 0.82*x_j - 0.14*cos(x_i)) - 0.15*cos(0.09*x_i**2 + 0.26*x_i - 0.82*x_j - 0.14*cos(x_i))) + 0.24*x_i + 0.35*exp(-0.05*x_i**2 + 0.44*x_i + 0.13*sin(x_i)) - 0.02*sin(0.01*x_i**2 - 0.92*x_i)"
      ]
     },
     "execution_count": 6,
     "metadata": {},
     "output_type": "execute_result"
    }
   ],
   "source": [
    "model_path_gkan = \"./saved_models/gkan/model_kuramoto_gkan/kuramoto_gkan_ic5_s5_pd_seed/0/gkan\"\n",
    "\n",
    "get_error_spline_wise(\n",
    "    model_path=model_path_gkan,\n",
    "    test_set=KUR,\n",
    "    theta=0.001,\n",
    "    use_sindy=True,\n",
    "    gamma=0.05\n",
    ")"
   ]
  },
  {
   "cell_type": "code",
   "execution_count": 7,
   "metadata": {},
   "outputs": [],
   "source": [
    "model_path_gkan = \"./saved_models/gkan/model_kuramoto_gkan/kuramoto_gkan_ic5_s5_pd_seed/0/gkan\"\n",
    "\n",
    "gkan_symb = fit_black_box_from_kan(\n",
    "    n_g_hidden_layers=2,\n",
    "    n_h_hidden_layers=2,\n",
    "    device='cuda',\n",
    "    model_path=model_path_gkan,\n",
    "    pysr_model=None,\n",
    "    sample_size=10000,\n",
    "    theta=-np.inf,\n",
    "    message_passing=False,\n",
    "    use_sindy=True,\n",
    "    gamma=0.01\n",
    ")"
   ]
  },
  {
   "cell_type": "code",
   "execution_count": 10,
   "metadata": {},
   "outputs": [
    {
     "data": {
      "text/latex": [
       "$\\displaystyle \\sum_{j}(-0.48*sin(x_i - x_j)) - 0.18 x_{i}^{2} + 1.53 x_{i} - 0.61 \\log{\\left(\\left|{x_{i}}\\right| \\right)} + 0.31 \\sin{\\left(x_{i} \\right)} + 0.32 \\cos{\\left(x_{i} \\right)}$"
      ],
      "text/plain": [
       "\\sum_{j}(-0.48*sin(x_i - x_j)) - 0.18*x_i**2 + 1.53*x_i - 0.61*log(Abs(x_i)) + 0.31*sin(x_i) + 0.32*cos(x_i)"
      ]
     },
     "execution_count": 10,
     "metadata": {},
     "output_type": "execute_result"
    }
   ],
   "source": [
    "quantise(gkan_symb)"
   ]
  },
  {
   "cell_type": "markdown",
   "metadata": {},
   "source": [
    "### Epidemics Pred Deriv"
   ]
  },
  {
   "cell_type": "markdown",
   "metadata": {},
   "source": [
    "#### IC=1"
   ]
  },
  {
   "cell_type": "code",
   "execution_count": 16,
   "metadata": {},
   "outputs": [
    {
     "name": "stderr",
     "output_type": "stream",
     "text": [
      "/home/rcappi/.conda/envs/my_env/lib/python3.12/site-packages/pysr/sr.py:2774: UserWarning: Note: it looks like you are running in Jupyter. The progress bar will be turned off.\n",
      "  warnings.warn(\n",
      "/home/rcappi/.conda/envs/my_env/lib/python3.12/site-packages/pysr/sr.py:2774: UserWarning: Note: it looks like you are running in Jupyter. The progress bar will be turned off.\n",
      "  warnings.warn(\n"
     ]
    }
   ],
   "source": [
    "model_path_gkan = \"./saved_models/gkan/model_epidemics_gkan/epidemics_gkan_ic1_s5_pd_seed/0/gkan\"\n",
    "\n",
    "pysr_model = lambda : get_pysr_model(\n",
    "    model_selection=\"score\",\n",
    "    n_iterations=200\n",
    ")\n",
    "\n",
    "gkan_symb = fit_black_box_from_kan(\n",
    "    n_g_hidden_layers=2,\n",
    "    n_h_hidden_layers=2,\n",
    "    device='cuda',\n",
    "    model_path=model_path_gkan,\n",
    "    pysr_model=pysr_model,\n",
    "    sample_size=10000,\n",
    "    theta=-np.inf,\n",
    "    message_passing=False\n",
    ")"
   ]
  },
  {
   "cell_type": "code",
   "execution_count": 17,
   "metadata": {},
   "outputs": [
    {
     "data": {
      "text/latex": [
       "$\\displaystyle \\sum_{j}( x_j*exp(-3*x_i)) - 0.4993961 x_{i}$"
      ],
      "text/plain": [
       "\\sum_{j}( x_j*exp(-3*x_i)) - 0.4993961*x_i"
      ]
     },
     "execution_count": 17,
     "metadata": {},
     "output_type": "execute_result"
    }
   ],
   "source": [
    "gkan_symb"
   ]
  },
  {
   "cell_type": "code",
   "execution_count": 18,
   "metadata": {},
   "outputs": [
    {
     "data": {
      "text/latex": [
       "$\\displaystyle \\sum_{j}(x_j*exp(-3*x_i)) - 0.5 x_{i}$"
      ],
      "text/plain": [
       "\\sum_{j}(x_j*exp(-3*x_i)) - 0.5*x_i"
      ]
     },
     "execution_count": 18,
     "metadata": {},
     "output_type": "execute_result"
    }
   ],
   "source": [
    "quantise(gkan_symb)"
   ]
  },
  {
   "cell_type": "code",
   "execution_count": 19,
   "metadata": {},
   "outputs": [
    {
     "name": "stdout",
     "output_type": "stream",
     "text": [
      "Test loss of symbolic formula: 0.019961263984441757\n",
      "Number of model's parameters: 156\n",
      "Test loss best model: 0.0003966010990552604\n"
     ]
    }
   ],
   "source": [
    "g_symb = lambda x: x[:, 1].unsqueeze(-1) * torch.exp(-3 * x[:, 0].unsqueeze(-1))\n",
    "h_symb = lambda x: x[:, 1].unsqueeze(-1) - 0.4993961 * x[:, 0].unsqueeze(-1)\n",
    "\n",
    "y_true, y_pred = post_process_gkan(\n",
    "    g_symb=g_symb,\n",
    "    h_symb=h_symb,\n",
    "    model_path='./saved_models/gkan/model_epidemics_gkan/epidemics_gkan_ic1_s5_pd_seed/0',\n",
    "    test_set=EPID,\n",
    "    message_passing=False,\n",
    "    include_time=False,\n",
    "    method='dopri5'\n",
    ")"
   ]
  },
  {
   "cell_type": "markdown",
   "metadata": {},
   "source": [
    "#### IC=3"
   ]
  },
  {
   "cell_type": "code",
   "execution_count": 64,
   "metadata": {},
   "outputs": [
    {
     "name": "stderr",
     "output_type": "stream",
     "text": [
      "/home/rcappi/.conda/envs/my_env/lib/python3.12/site-packages/pysr/sr.py:2774: UserWarning: Note: it looks like you are running in Jupyter. The progress bar will be turned off.\n",
      "  warnings.warn(\n",
      "/home/rcappi/.conda/envs/my_env/lib/python3.12/site-packages/pysr/sr.py:2774: UserWarning: Note: it looks like you are running in Jupyter. The progress bar will be turned off.\n",
      "  warnings.warn(\n"
     ]
    }
   ],
   "source": [
    "model_path_gkan = \"./saved_models/gkan/model_epidemics_gkan/epidemics_gkan_ic3_s5_pd_seed/0/gkan\"\n",
    "\n",
    "pysr_model = lambda : get_pysr_model(\n",
    "    model_selection=\"score\",\n",
    "    n_iterations=200\n",
    ")\n",
    "\n",
    "gkan_symb = fit_black_box_from_kan(\n",
    "    n_g_hidden_layers=2,\n",
    "    n_h_hidden_layers=2,\n",
    "    device='cuda',\n",
    "    model_path=model_path_gkan,\n",
    "    pysr_model=pysr_model,\n",
    "    sample_size=10000,\n",
    "    theta=-np.inf,\n",
    "    message_passing=False\n",
    ")"
   ]
  },
  {
   "cell_type": "code",
   "execution_count": 65,
   "metadata": {},
   "outputs": [
    {
     "data": {
      "text/latex": [
       "$\\displaystyle \\sum_{j}( 0.499918288355768*x_j*(1.0001105 - x_i)) - 0.50024692188064 x_{i}$"
      ],
      "text/plain": [
       "\\sum_{j}( 0.499918288355768*x_j*(1.0001105 - x_i)) - 0.50024692188064*x_i"
      ]
     },
     "execution_count": 65,
     "metadata": {},
     "output_type": "execute_result"
    }
   ],
   "source": [
    "gkan_symb"
   ]
  },
  {
   "cell_type": "code",
   "execution_count": 66,
   "metadata": {},
   "outputs": [
    {
     "name": "stdout",
     "output_type": "stream",
     "text": [
      "Test loss of symbolic formula: 6.118987948866561e-05\n",
      "Number of model's parameters: 256\n",
      "Test loss best model: 0.0008446515421383083\n"
     ]
    }
   ],
   "source": [
    "g_symb = lambda x: 0.499918288355768*x[:, 1].unsqueeze(-1) * (-x[:, 0].unsqueeze(-1) + 1.0001105)\n",
    "h_symb = lambda x: x[:, 1].unsqueeze(-1) - 0.50024692188064 * x[:, 0].unsqueeze(-1)\n",
    "\n",
    "y_true, y_pred = post_process_gkan(\n",
    "    g_symb=g_symb,\n",
    "    h_symb=h_symb,\n",
    "    model_path='./saved_models/gkan/model_epidemics_gkan/epidemics_gkan_ic3_s5_pd_seed/0',\n",
    "    test_set=EPID,\n",
    "    message_passing=False,\n",
    "    include_time=False,\n",
    "    method='dopri5'\n",
    ")"
   ]
  },
  {
   "cell_type": "markdown",
   "metadata": {},
   "source": [
    "#### IC=5"
   ]
  },
  {
   "cell_type": "code",
   "execution_count": 25,
   "metadata": {},
   "outputs": [
    {
     "name": "stderr",
     "output_type": "stream",
     "text": [
      "/home/rcappi/.conda/envs/my_env/lib/python3.12/site-packages/pysr/sr.py:2774: UserWarning: Note: it looks like you are running in Jupyter. The progress bar will be turned off.\n",
      "  warnings.warn(\n",
      "/home/rcappi/.conda/envs/my_env/lib/python3.12/site-packages/pysr/sr.py:2774: UserWarning: Note: it looks like you are running in Jupyter. The progress bar will be turned off.\n",
      "  warnings.warn(\n"
     ]
    }
   ],
   "source": [
    "model_path_gkan = \"./saved_models/gkan/model_epidemics_gkan/epidemics_gkan_ic5_s5_pd_seed/0/gkan\"\n",
    "\n",
    "pysr_model = lambda : get_pysr_model(\n",
    "    model_selection=\"score\",\n",
    "    n_iterations=200\n",
    ")\n",
    "\n",
    "gkan_symb = fit_black_box_from_kan(\n",
    "    n_g_hidden_layers=2,\n",
    "    n_h_hidden_layers=2,\n",
    "    device='cuda',\n",
    "    model_path=model_path_gkan,\n",
    "    pysr_model=pysr_model,\n",
    "    sample_size=10000,\n",
    "    theta=-np.inf,\n",
    "    message_passing=False\n",
    ")"
   ]
  },
  {
   "cell_type": "code",
   "execution_count": 26,
   "metadata": {},
   "outputs": [
    {
     "data": {
      "text/latex": [
       "$\\displaystyle \\sum_{j}( x_j*(0.4999851 - 0.4999413*x_i)) - 0.5002681 x_{i}$"
      ],
      "text/plain": [
       "\\sum_{j}( x_j*(0.4999851 - 0.4999413*x_i)) - 0.5002681*x_i"
      ]
     },
     "execution_count": 26,
     "metadata": {},
     "output_type": "execute_result"
    }
   ],
   "source": [
    "gkan_symb"
   ]
  },
  {
   "cell_type": "code",
   "execution_count": 27,
   "metadata": {},
   "outputs": [
    {
     "name": "stdout",
     "output_type": "stream",
     "text": [
      "Test loss of symbolic formula: 6.544290954479948e-05\n",
      "Number of model's parameters: 410\n",
      "Test loss best model: 0.00042536036926321685\n"
     ]
    }
   ],
   "source": [
    "g_symb = lambda x: x[:, 1].unsqueeze(-1) * (0.4999851 - 0.4999413*x[:, 0].unsqueeze(-1))\n",
    "h_symb = lambda x: x[:, 1].unsqueeze(-1) - 0.5002681 * x[:, 0].unsqueeze(-1)\n",
    "\n",
    "y_true, y_pred = post_process_gkan(\n",
    "    g_symb=g_symb,\n",
    "    h_symb=h_symb,\n",
    "    model_path='./saved_models/gkan/model_epidemics_gkan/epidemics_gkan_ic5_s5_pd_seed/0',\n",
    "    test_set=EPID,\n",
    "    message_passing=False,\n",
    "    include_time=False,\n",
    "    method='dopri5'\n",
    ")"
   ]
  },
  {
   "cell_type": "code",
   "execution_count": 9,
   "metadata": {},
   "outputs": [
    {
     "name": "stdout",
     "output_type": "stream",
     "text": [
      "Pruning node (0,0)\n",
      "Pruning node (0,4)\n"
     ]
    },
    {
     "name": "stderr",
     "output_type": "stream",
     "text": [
      "/extra/rcappi/Kan-for-Graph-Dyn/utils/utils.py:383: OptimizeWarning: Covariance of the parameters could not be estimated\n",
      "  params, _ = curve_fit(func_optim, x, y, p0=[1., 0., 1., 0.], nan_policy='omit')\n",
      "/extra/rcappi/Kan-for-Graph-Dyn/utils/utils.py:383: OptimizeWarning: Covariance of the parameters could not be estimated\n",
      "  params, _ = curve_fit(func_optim, x, y, p0=[1., 0., 1., 0.], nan_policy='omit')\n",
      "/extra/rcappi/Kan-for-Graph-Dyn/utils/utils.py:383: OptimizeWarning: Covariance of the parameters could not be estimated\n",
      "  params, _ = curve_fit(func_optim, x, y, p0=[1., 0., 1., 0.], nan_policy='omit')\n",
      "/extra/rcappi/Kan-for-Graph-Dyn/utils/utils.py:383: OptimizeWarning: Covariance of the parameters could not be estimated\n",
      "  params, _ = curve_fit(func_optim, x, y, p0=[1., 0., 1., 0.], nan_policy='omit')\n",
      "/extra/rcappi/Kan-for-Graph-Dyn/utils/utils.py:383: OptimizeWarning: Covariance of the parameters could not be estimated\n",
      "  params, _ = curve_fit(func_optim, x, y, p0=[1., 0., 1., 0.], nan_policy='omit')\n",
      "/extra/rcappi/Kan-for-Graph-Dyn/utils/utils.py:383: OptimizeWarning: Covariance of the parameters could not be estimated\n",
      "  params, _ = curve_fit(func_optim, x, y, p0=[1., 0., 1., 0.], nan_policy='omit')\n",
      "/extra/rcappi/Kan-for-Graph-Dyn/utils/utils.py:383: OptimizeWarning: Covariance of the parameters could not be estimated\n",
      "  params, _ = curve_fit(func_optim, x, y, p0=[1., 0., 1., 0.], nan_policy='omit')\n",
      "/extra/rcappi/Kan-for-Graph-Dyn/utils/utils.py:383: OptimizeWarning: Covariance of the parameters could not be estimated\n",
      "  params, _ = curve_fit(func_optim, x, y, p0=[1., 0., 1., 0.], nan_policy='omit')\n",
      "/extra/rcappi/Kan-for-Graph-Dyn/utils/utils.py:383: OptimizeWarning: Covariance of the parameters could not be estimated\n",
      "  params, _ = curve_fit(func_optim, x, y, p0=[1., 0., 1., 0.], nan_policy='omit')\n",
      "/extra/rcappi/Kan-for-Graph-Dyn/utils/utils.py:383: OptimizeWarning: Covariance of the parameters could not be estimated\n",
      "  params, _ = curve_fit(func_optim, x, y, p0=[1., 0., 1., 0.], nan_policy='omit')\n",
      "/extra/rcappi/Kan-for-Graph-Dyn/utils/utils.py:383: OptimizeWarning: Covariance of the parameters could not be estimated\n",
      "  params, _ = curve_fit(func_optim, x, y, p0=[1., 0., 1., 0.], nan_policy='omit')\n",
      "/extra/rcappi/Kan-for-Graph-Dyn/utils/utils.py:383: OptimizeWarning: Covariance of the parameters could not be estimated\n",
      "  params, _ = curve_fit(func_optim, x, y, p0=[1., 0., 1., 0.], nan_policy='omit')\n"
     ]
    },
    {
     "name": "stdout",
     "output_type": "stream",
     "text": [
      "Pruning node (0,1)\n"
     ]
    },
    {
     "name": "stderr",
     "output_type": "stream",
     "text": [
      "/extra/rcappi/Kan-for-Graph-Dyn/utils/utils.py:383: OptimizeWarning: Covariance of the parameters could not be estimated\n",
      "  params, _ = curve_fit(func_optim, x, y, p0=[1., 0., 1., 0.], nan_policy='omit')\n",
      "/extra/rcappi/Kan-for-Graph-Dyn/utils/utils.py:383: OptimizeWarning: Covariance of the parameters could not be estimated\n",
      "  params, _ = curve_fit(func_optim, x, y, p0=[1., 0., 1., 0.], nan_policy='omit')\n",
      "/extra/rcappi/Kan-for-Graph-Dyn/utils/utils.py:383: OptimizeWarning: Covariance of the parameters could not be estimated\n",
      "  params, _ = curve_fit(func_optim, x, y, p0=[1., 0., 1., 0.], nan_policy='omit')\n",
      "/extra/rcappi/Kan-for-Graph-Dyn/utils/utils.py:383: OptimizeWarning: Covariance of the parameters could not be estimated\n",
      "  params, _ = curve_fit(func_optim, x, y, p0=[1., 0., 1., 0.], nan_policy='omit')\n",
      "/extra/rcappi/Kan-for-Graph-Dyn/utils/utils.py:383: OptimizeWarning: Covariance of the parameters could not be estimated\n",
      "  params, _ = curve_fit(func_optim, x, y, p0=[1., 0., 1., 0.], nan_policy='omit')\n",
      "/extra/rcappi/Kan-for-Graph-Dyn/utils/utils.py:383: OptimizeWarning: Covariance of the parameters could not be estimated\n",
      "  params, _ = curve_fit(func_optim, x, y, p0=[1., 0., 1., 0.], nan_policy='omit')\n",
      "/extra/rcappi/Kan-for-Graph-Dyn/utils/utils.py:383: OptimizeWarning: Covariance of the parameters could not be estimated\n",
      "  params, _ = curve_fit(func_optim, x, y, p0=[1., 0., 1., 0.], nan_policy='omit')\n",
      "/extra/rcappi/Kan-for-Graph-Dyn/utils/utils.py:383: OptimizeWarning: Covariance of the parameters could not be estimated\n",
      "  params, _ = curve_fit(func_optim, x, y, p0=[1., 0., 1., 0.], nan_policy='omit')\n",
      "/extra/rcappi/Kan-for-Graph-Dyn/utils/utils.py:383: OptimizeWarning: Covariance of the parameters could not be estimated\n",
      "  params, _ = curve_fit(func_optim, x, y, p0=[1., 0., 1., 0.], nan_policy='omit')\n",
      "/extra/rcappi/Kan-for-Graph-Dyn/utils/utils.py:383: OptimizeWarning: Covariance of the parameters could not be estimated\n",
      "  params, _ = curve_fit(func_optim, x, y, p0=[1., 0., 1., 0.], nan_policy='omit')\n"
     ]
    },
    {
     "name": "stdout",
     "output_type": "stream",
     "text": [
      "Test error: 0.04070181027054787\n"
     ]
    },
    {
     "data": {
      "text/latex": [
       "$\\displaystyle \\sum_{j}(0.28*x_i**2 - 0.42*x_i*x_j - 0.41*x_i + 0.13*x_j**2 + 0.3*x_j + 0.15) - 0.44 x_{i} + 0.03$"
      ],
      "text/plain": [
       "\\sum_{j}(0.28*x_i**2 - 0.42*x_i*x_j - 0.41*x_i + 0.13*x_j**2 + 0.3*x_j + 0.15) - 0.44*x_i + 0.03"
      ]
     },
     "execution_count": 9,
     "metadata": {},
     "output_type": "execute_result"
    }
   ],
   "source": [
    "model_path_gkan = \"./saved_models/gkan/model_epidemics_gkan/epidemics_gkan_ic5_s5_pd_seed/0/gkan\"\n",
    "\n",
    "get_error_spline_wise(\n",
    "    model_path=model_path_gkan,\n",
    "    test_set=EPID,\n",
    "    theta=0.1,\n",
    "    alpha=0.09\n",
    ")"
   ]
  },
  {
   "cell_type": "markdown",
   "metadata": {},
   "source": [
    "### Population Pred Deriv"
   ]
  },
  {
   "cell_type": "code",
   "execution_count": 73,
   "metadata": {},
   "outputs": [],
   "source": [
    "config_path = './configs/config_ic5/config_population.yml'\n",
    "config = load_config(config_path)\n",
    "\n",
    "exp = ExperimentsGKAN(\n",
    "    config=config,\n",
    "    n_trials=1,\n",
    "    study_name='test-population',\n",
    "    process_id=0,\n",
    ")\n",
    "\n",
    "best_model = build_model_from_file(\n",
    "    model_path=\"./saved_models/gkan/model_population_gkan/population_gkan_ic1_s5_pd_seed/0\",\n",
    "    message_passing=False,\n",
    "    include_time=False,\n",
    "    method='dopri5',\n",
    "    adjoint=True,\n",
    "    pred_deriv=False\n",
    ")\n",
    "\n",
    "exp.post_processing(best_model, raw_data=exp.training_set.raw_data_sampled[1])"
   ]
  },
  {
   "cell_type": "markdown",
   "metadata": {},
   "source": [
    "#### IC=1"
   ]
  },
  {
   "cell_type": "code",
   "execution_count": 74,
   "metadata": {},
   "outputs": [
    {
     "name": "stderr",
     "output_type": "stream",
     "text": [
      "/home/rcappi/.conda/envs/my_env/lib/python3.12/site-packages/pysr/sr.py:2774: UserWarning: Note: it looks like you are running in Jupyter. The progress bar will be turned off.\n",
      "  warnings.warn(\n",
      "/home/rcappi/.conda/envs/my_env/lib/python3.12/site-packages/pysr/sr.py:2774: UserWarning: Note: it looks like you are running in Jupyter. The progress bar will be turned off.\n",
      "  warnings.warn(\n"
     ]
    }
   ],
   "source": [
    "model_path_gkan = \"./saved_models/gkan/model_population_gkan/population_gkan_ic1_s5_pd_seed/0/gkan\"\n",
    "\n",
    "pysr_model = lambda : get_pysr_model(\n",
    "    model_selection=\"score\",\n",
    "    n_iterations=200\n",
    ")\n",
    "\n",
    "gkan_symb = fit_black_box_from_kan(\n",
    "    n_g_hidden_layers=2,\n",
    "    n_h_hidden_layers=2,\n",
    "    device='cuda',\n",
    "    model_path=model_path_gkan,\n",
    "    pysr_model=pysr_model,\n",
    "    sample_size=10000,\n",
    "    theta=-np.inf,\n",
    "    message_passing=False\n",
    ")"
   ]
  },
  {
   "cell_type": "code",
   "execution_count": 75,
   "metadata": {},
   "outputs": [
    {
     "data": {
      "text/latex": [
       "$\\displaystyle \\sum_{j}( 0.19899322*x_j**2) - 0.4701342 x_{i}^{2}$"
      ],
      "text/plain": [
       "\\sum_{j}( 0.19899322*x_j**2) - 0.4701342*x_i**2"
      ]
     },
     "execution_count": 75,
     "metadata": {},
     "output_type": "execute_result"
    }
   ],
   "source": [
    "gkan_symb"
   ]
  },
  {
   "cell_type": "code",
   "execution_count": 76,
   "metadata": {},
   "outputs": [
    {
     "data": {
      "text/latex": [
       "$\\displaystyle \\sum_{j}(0.2*x_j**2) - 0.47 x_{i}^{2}$"
      ],
      "text/plain": [
       "\\sum_{j}(0.2*x_j**2) - 0.47*x_i**2"
      ]
     },
     "execution_count": 76,
     "metadata": {},
     "output_type": "execute_result"
    }
   ],
   "source": [
    "quantise(gkan_symb)"
   ]
  },
  {
   "cell_type": "code",
   "execution_count": 78,
   "metadata": {},
   "outputs": [
    {
     "name": "stdout",
     "output_type": "stream",
     "text": [
      "Test loss of symbolic formula: 0.010538171045482159\n",
      "Number of model's parameters: 244\n",
      "Test loss best model: 0.0034099107142537832\n"
     ]
    }
   ],
   "source": [
    "g_symb = lambda x: 0.19899322 * torch.square(x[:, 1].unsqueeze(-1))\n",
    "h_symb = lambda x: x[:, 1].unsqueeze(-1) - 0.4701342 * torch.square(x[:, 0].unsqueeze(-1))\n",
    "\n",
    "y_true, y_pred = post_process_gkan(\n",
    "    g_symb=g_symb,\n",
    "    h_symb=h_symb,\n",
    "    model_path='./saved_models/gkan/model_population_gkan/population_gkan_ic1_s5_pd_seed/0',\n",
    "    test_set=POP,\n",
    "    message_passing=False,\n",
    "    include_time=False,\n",
    "    method='dopri5'\n",
    ")"
   ]
  },
  {
   "cell_type": "markdown",
   "metadata": {},
   "source": [
    "#### IC=3"
   ]
  },
  {
   "cell_type": "code",
   "execution_count": 79,
   "metadata": {},
   "outputs": [],
   "source": [
    "best_model = build_model_from_file(\n",
    "    model_path=\"./saved_models/gkan/model_population_gkan/population_gkan_ic3_s5_pd_seed/0\",\n",
    "    message_passing=False,\n",
    "    include_time=False,\n",
    "    method='dopri5',\n",
    "    adjoint=True,\n",
    "    pred_deriv=False\n",
    ")\n",
    "\n",
    "exp.post_processing(best_model, raw_data=exp.training_set.raw_data_sampled[1])"
   ]
  },
  {
   "cell_type": "code",
   "execution_count": 80,
   "metadata": {},
   "outputs": [
    {
     "name": "stderr",
     "output_type": "stream",
     "text": [
      "/home/rcappi/.conda/envs/my_env/lib/python3.12/site-packages/pysr/sr.py:2774: UserWarning: Note: it looks like you are running in Jupyter. The progress bar will be turned off.\n",
      "  warnings.warn(\n",
      "/home/rcappi/.conda/envs/my_env/lib/python3.12/site-packages/pysr/sr.py:2774: UserWarning: Note: it looks like you are running in Jupyter. The progress bar will be turned off.\n",
      "  warnings.warn(\n"
     ]
    }
   ],
   "source": [
    "model_path_gkan = \"./saved_models/gkan/model_population_gkan/population_gkan_ic3_s5_pd_seed/0/gkan\"\n",
    "\n",
    "pysr_model = lambda : get_pysr_model(\n",
    "    model_selection=\"score\",\n",
    "    n_iterations=200\n",
    ")\n",
    "\n",
    "gkan_symb = fit_black_box_from_kan(\n",
    "    n_g_hidden_layers=2,\n",
    "    n_h_hidden_layers=2,\n",
    "    device='cuda',\n",
    "    model_path=model_path_gkan,\n",
    "    pysr_model=pysr_model,\n",
    "    sample_size=10000,\n",
    "    theta=-np.inf,\n",
    "    message_passing=False\n",
    ")"
   ]
  },
  {
   "cell_type": "code",
   "execution_count": 81,
   "metadata": {},
   "outputs": [
    {
     "data": {
      "text/latex": [
       "$\\displaystyle \\sum_{j}( 0.20091663*x_j**2) - 0.4844201 x_{i}^{2}$"
      ],
      "text/plain": [
       "\\sum_{j}( 0.20091663*x_j**2) - 0.4844201*x_i**2"
      ]
     },
     "execution_count": 81,
     "metadata": {},
     "output_type": "execute_result"
    }
   ],
   "source": [
    "gkan_symb"
   ]
  },
  {
   "cell_type": "code",
   "execution_count": 82,
   "metadata": {},
   "outputs": [
    {
     "name": "stdout",
     "output_type": "stream",
     "text": [
      "Test loss of symbolic formula: 0.011106949299573898\n",
      "Number of model's parameters: 228\n",
      "Test loss best model: 0.001501783961430192\n"
     ]
    }
   ],
   "source": [
    "g_symb = lambda x: 0.20091663 * torch.square(x[:, 1].unsqueeze(-1))\n",
    "h_symb = lambda x: x[:, 1].unsqueeze(-1) - 0.4844201 * torch.square(x[:, 0].unsqueeze(-1))\n",
    "\n",
    "y_true, y_pred = post_process_gkan(\n",
    "    g_symb=g_symb,\n",
    "    h_symb=h_symb,\n",
    "    model_path='./saved_models/gkan/model_population_gkan/population_gkan_ic3_s5_pd_seed/0',\n",
    "    test_set=POP,\n",
    "    message_passing=False,\n",
    "    include_time=False,\n",
    "    method='dopri5'\n",
    ")"
   ]
  },
  {
   "cell_type": "markdown",
   "metadata": {},
   "source": [
    "#### IC=5"
   ]
  },
  {
   "cell_type": "code",
   "execution_count": 83,
   "metadata": {},
   "outputs": [],
   "source": [
    "best_model = build_model_from_file(\n",
    "    model_path=\"./saved_models/gkan/model_population_gkan/population_gkan_ic5_s5_pd_seed/0\",\n",
    "    message_passing=False,\n",
    "    include_time=False,\n",
    "    method='dopri5',\n",
    "    adjoint=True)\n",
    "\n",
    "exp.post_processing(best_model, raw_data=exp.training_set.raw_data_sampled[1][:240])"
   ]
  },
  {
   "cell_type": "code",
   "execution_count": 84,
   "metadata": {},
   "outputs": [
    {
     "name": "stderr",
     "output_type": "stream",
     "text": [
      "/home/rcappi/.conda/envs/my_env/lib/python3.12/site-packages/pysr/sr.py:2774: UserWarning: Note: it looks like you are running in Jupyter. The progress bar will be turned off.\n",
      "  warnings.warn(\n",
      "/home/rcappi/.conda/envs/my_env/lib/python3.12/site-packages/pysr/sr.py:2774: UserWarning: Note: it looks like you are running in Jupyter. The progress bar will be turned off.\n",
      "  warnings.warn(\n"
     ]
    }
   ],
   "source": [
    "model_path_gkan = \"./saved_models/gkan/model_population_gkan/population_gkan_ic5_s5_pd_seed/0/gkan\"\n",
    "\n",
    "pysr_model = lambda : get_pysr_model(\n",
    "    model_selection=\"score\",\n",
    "    n_iterations=200\n",
    ")\n",
    "\n",
    "gkan_symb = fit_black_box_from_kan(\n",
    "    n_g_hidden_layers=2,\n",
    "    n_h_hidden_layers=2,\n",
    "    device='cuda',\n",
    "    model_path=model_path_gkan,\n",
    "    pysr_model=pysr_model,\n",
    "    sample_size=10000,\n",
    "    theta=-np.inf,\n",
    "    message_passing=False\n",
    ")"
   ]
  },
  {
   "cell_type": "code",
   "execution_count": 85,
   "metadata": {},
   "outputs": [
    {
     "data": {
      "text/latex": [
       "$\\displaystyle \\sum_{j}( 0.199565682620062*x_j**2) - 0.49878263 x_{i}^{2}$"
      ],
      "text/plain": [
       "\\sum_{j}( 0.199565682620062*x_j**2) - 0.49878263*x_i**2"
      ]
     },
     "execution_count": 85,
     "metadata": {},
     "output_type": "execute_result"
    }
   ],
   "source": [
    "gkan_symb"
   ]
  },
  {
   "cell_type": "code",
   "execution_count": 86,
   "metadata": {},
   "outputs": [
    {
     "name": "stdout",
     "output_type": "stream",
     "text": [
      "Test loss of symbolic formula: 0.0010785746853798628\n",
      "Number of model's parameters: 284\n",
      "Test loss best model: 0.0017615474062040448\n"
     ]
    }
   ],
   "source": [
    "g_symb = lambda x: 0.199565682620062 * torch.square(x[:, 1].unsqueeze(-1))\n",
    "h_symb = lambda x: x[:, 1].unsqueeze(-1) - 0.49878263 * torch.square(x[:, 0].unsqueeze(-1))\n",
    "\n",
    "y_true, y_pred = post_process_gkan(\n",
    "    g_symb=g_symb,\n",
    "    h_symb=h_symb,\n",
    "    model_path='./saved_models/gkan/model_population_gkan/population_gkan_ic5_s5_pd_seed/0',\n",
    "    test_set=POP,\n",
    "    message_passing=False,\n",
    "    include_time=False,\n",
    "    method='dopri5'\n",
    ")"
   ]
  },
  {
   "cell_type": "code",
   "execution_count": 23,
   "metadata": {},
   "outputs": [
    {
     "name": "stdout",
     "output_type": "stream",
     "text": [
      "Pruning node (0,0)\n",
      "Pruning node (0,2)\n"
     ]
    },
    {
     "name": "stderr",
     "output_type": "stream",
     "text": [
      "/extra/rcappi/Kan-for-Graph-Dyn/utils/utils.py:394: OptimizeWarning: Covariance of the parameters could not be estimated\n",
      "  init_params = [1., 0., 1., 0.]\n",
      "/extra/rcappi/Kan-for-Graph-Dyn/utils/utils.py:394: OptimizeWarning: Covariance of the parameters could not be estimated\n",
      "  init_params = [1., 0., 1., 0.]\n",
      "/extra/rcappi/Kan-for-Graph-Dyn/utils/utils.py:394: OptimizeWarning: Covariance of the parameters could not be estimated\n",
      "  init_params = [1., 0., 1., 0.]\n",
      "/extra/rcappi/Kan-for-Graph-Dyn/utils/utils.py:394: OptimizeWarning: Covariance of the parameters could not be estimated\n",
      "  init_params = [1., 0., 1., 0.]\n",
      "/extra/rcappi/Kan-for-Graph-Dyn/utils/utils.py:394: OptimizeWarning: Covariance of the parameters could not be estimated\n",
      "  init_params = [1., 0., 1., 0.]\n",
      "/extra/rcappi/Kan-for-Graph-Dyn/utils/utils.py:394: OptimizeWarning: Covariance of the parameters could not be estimated\n",
      "  init_params = [1., 0., 1., 0.]\n",
      "/extra/rcappi/Kan-for-Graph-Dyn/utils/utils.py:394: OptimizeWarning: Covariance of the parameters could not be estimated\n",
      "  init_params = [1., 0., 1., 0.]\n",
      "/extra/rcappi/Kan-for-Graph-Dyn/utils/utils.py:394: OptimizeWarning: Covariance of the parameters could not be estimated\n",
      "  init_params = [1., 0., 1., 0.]\n",
      "/extra/rcappi/Kan-for-Graph-Dyn/utils/utils.py:394: OptimizeWarning: Covariance of the parameters could not be estimated\n",
      "  init_params = [1., 0., 1., 0.]\n",
      "/extra/rcappi/Kan-for-Graph-Dyn/utils/utils.py:394: OptimizeWarning: Covariance of the parameters could not be estimated\n",
      "  init_params = [1., 0., 1., 0.]\n",
      "/extra/rcappi/Kan-for-Graph-Dyn/utils/utils.py:394: OptimizeWarning: Covariance of the parameters could not be estimated\n",
      "  init_params = [1., 0., 1., 0.]\n",
      "/extra/rcappi/Kan-for-Graph-Dyn/utils/utils.py:394: OptimizeWarning: Covariance of the parameters could not be estimated\n",
      "  init_params = [1., 0., 1., 0.]\n",
      "/extra/rcappi/Kan-for-Graph-Dyn/utils/utils.py:394: OptimizeWarning: Covariance of the parameters could not be estimated\n",
      "  init_params = [1., 0., 1., 0.]\n",
      "/extra/rcappi/Kan-for-Graph-Dyn/utils/utils.py:394: OptimizeWarning: Covariance of the parameters could not be estimated\n",
      "  init_params = [1., 0., 1., 0.]\n",
      "/extra/rcappi/Kan-for-Graph-Dyn/utils/utils.py:394: OptimizeWarning: Covariance of the parameters could not be estimated\n",
      "  init_params = [1., 0., 1., 0.]\n"
     ]
    },
    {
     "name": "stdout",
     "output_type": "stream",
     "text": [
      "Test error: 0.009703751653432846\n"
     ]
    },
    {
     "data": {
      "text/latex": [
       "$\\displaystyle \\sum_{j}(0.15*x_j + 0.14*(0.01*x_i**3 - 0.01*x_i**2 + 0.01*x_i + x_j - 0.27)**2 - 0.03) - 0.1 x_{i}^{2} - 0.3 x_{i} - 0.11 \\left(x_{i} - 0.15\\right)^{2} - 0.04 \\left(- x_{i}^{2} - 0.47 x_{i} + 0.28\\right)^{2} + 0.05$"
      ],
      "text/plain": [
       "\\sum_{j}(0.15*x_j + 0.14*(0.01*x_i**3 - 0.01*x_i**2 + 0.01*x_i + x_j - 0.27)**2 - 0.03) - 0.1*x_i**2 - 0.3*x_i - 0.11*(x_i - 0.15)**2 - 0.04*(-x_i**2 - 0.47*x_i + 0.28)**2 + 0.05"
      ]
     },
     "execution_count": 23,
     "metadata": {},
     "output_type": "execute_result"
    }
   ],
   "source": [
    "model_path_gkan = \"./saved_models/gkan/model_population_gkan/population_gkan_ic5_s5_pd_seed/0/gkan\"\n",
    "\n",
    "get_error_spline_wise(\n",
    "    model_path=model_path_gkan,\n",
    "    test_set=POP,\n",
    "    theta=0.1,\n",
    "    alpha=0.02\n",
    ")"
   ]
  },
  {
   "cell_type": "code",
   "execution_count": 7,
   "metadata": {},
   "outputs": [],
   "source": [
    "# spline = pd.read_csv(\"./saved_models/gkan/model_population_gkan/population_gkan_ic5_s5_pd_seed/0/gkan/h_net/1_0_1.csv\")\n",
    "# x = spline['x']\n",
    "# y = spline['y']\n",
    "# func_1_0_0 = lambda x: -0.417440921841148*x - 0.0206961179118608\n",
    "# y_hat = func_1_0_0(x)\n",
    "\n",
    "# spline_2 = pd.read_csv(\"./saved_models/gkan/model_population_gkan/population_gkan_ic5_s5_pd_seed/0/gkan/h_net/0_1_0.csv\")\n",
    "# x_2 = spline_2['x']\n",
    "# y_2 = spline_2['y']\n",
    "# func_0_1_0 = lambda x: 0.864792293598356*x - 0.129660943750775\n",
    "# y_hat_2 = func_0_1_0(x_2)\n",
    "\n",
    "spline_100 = pd.read_csv(\"./saved_models/gkan/model_population_gkan/population_gkan_ic5_s5_pd_seed/0/gkan/h_net/1_0_0.csv\")\n",
    "x_100 = spline_100['x']\n",
    "y_100 = spline_100['y']\n",
    "func_1_0_0 = lambda x: -0.13961735367775*x**2 + 0.191250771284103*x + 0.0247471053153276\n",
    "y_hat_100 = func_1_0_0(x_100)\n",
    "\n",
    "\n",
    "\n",
    "# 0.287263571827889*x0 + 0.0299829353485954"
   ]
  },
  {
   "cell_type": "code",
   "execution_count": 8,
   "metadata": {},
   "outputs": [
    {
     "data": {
      "text/plain": [
       "[<matplotlib.lines.Line2D at 0x7ff782ed3020>]"
      ]
     },
     "execution_count": 8,
     "metadata": {},
     "output_type": "execute_result"
    },
    {
     "data": {
      "image/png": "[encoded data removed]",
      "text/plain": [
       "<Figure size 640x480 with 1 Axes>"
      ]
     },
     "metadata": {},
     "output_type": "display_data"
    }
   ],
   "source": [
    "# plt.plot(x, y)\n",
    "# plt.plot(x, y_hat)\n",
    "# plt.plot(x_2, y_2)\n",
    "# plt.plot(x_2, y_hat_2)\n",
    "plt.plot(x_100, y_100)\n",
    "plt.plot(x_100, y_hat_100)\n",
    "# plt.plot(x_100, y_hat_parab)"
   ]
  },
  {
   "cell_type": "code",
   "execution_count": 9,
   "metadata": {},
   "outputs": [],
   "source": [
    "spline_101 = pd.read_csv(\"./saved_models/gkan/model_population_gkan/population_gkan_ic5_s5_pd_seed/0/gkan/h_net/1_0_1.csv\")\n",
    "x_101 = spline_101['x']\n",
    "y_101 = spline_101['y']\n",
    "func_1_0_1 = lambda x: -0.142224431037903*x**2 - 0.294323205947876*x - 0.0382768586277962\n",
    "y_hat_101 = func_1_0_1(x_101)\n"
   ]
  },
  {
   "cell_type": "code",
   "execution_count": 10,
   "metadata": {},
   "outputs": [
    {
     "data": {
      "text/plain": [
       "[<matplotlib.lines.Line2D at 0x7ff782ca6060>]"
      ]
     },
     "execution_count": 10,
     "metadata": {},
     "output_type": "execute_result"
    },
    {
     "data": {
      "image/png": "[encoded data removed]",
      "text/plain": [
       "<Figure size 640x480 with 1 Axes>"
      ]
     },
     "metadata": {},
     "output_type": "display_data"
    }
   ],
   "source": [
    "plt.plot(x_101, y_101)\n",
    "plt.plot(x_101, y_hat_101)"
   ]
  },
  {
   "cell_type": "code",
   "execution_count": 15,
   "metadata": {},
   "outputs": [],
   "source": [
    "new_x = np.arange(-5, 5, 0.02)"
   ]
  },
  {
   "cell_type": "code",
   "execution_count": 16,
   "metadata": {},
   "outputs": [],
   "source": [
    "func_000 = lambda x: -0.520608007907867*x**2 - 0.247195333242416*x + 0.14544615149498\n",
    "func_010 = lambda x: 0.86479240655899*x - 0.129660904407501\n",
    "\n",
    "kan = func_1_0_0(func_000(new_x)) + func_1_0_1(func_010(new_x))"
   ]
  },
  {
   "cell_type": "code",
   "execution_count": 17,
   "metadata": {},
   "outputs": [],
   "source": [
    "model_path = \"./saved_models/gkan/model_population_gkan/population_gkan_ic5_s5_pd_seed/0/gkan/h_net\"\n",
    "\n",
    "cache_acts, cache_preacts = get_kan_arch(n_layers=2, model_path=model_path)\n",
    "pruned_acts, pruned_preacts = pruning(cache_acts, cache_preacts, theta=-np.inf)\n",
    "\n",
    "input = pruned_preacts[0]\n",
    "output = pruned_acts[-1].sum(dim=2)\n",
    "\n",
    "in_dim = input.size(1)\n",
    "out_dim = output.size(1)\n",
    "\n",
    "x = input.detach().numpy().reshape(-1, in_dim)\n",
    "y = output.detach().numpy().reshape(-1, out_dim)\n",
    "\n",
    "\n",
    "func_symb = lambda x: (\n",
    "    -0.1 * x**2\n",
    "    - 0.3 * x\n",
    "    - 0.11 * (x - 0.15)**2\n",
    "    - 0.04 * (-x**2 - 0.47 * x + 0.28)**2\n",
    "    + 0.05\n",
    ")\n",
    "\n",
    "\n",
    "y_symb_ugly = func_symb(new_x)"
   ]
  },
  {
   "cell_type": "code",
   "execution_count": 18,
   "metadata": {},
   "outputs": [
    {
     "data": {
      "text/plain": [
       "[<matplotlib.lines.Line2D at 0x7ff782b169c0>]"
      ]
     },
     "execution_count": 18,
     "metadata": {},
     "output_type": "execute_result"
    },
    {
     "data": {
      "image/png": "[encoded data removed]",
      "text/plain": [
       "<Figure size 640x480 with 1 Axes>"
      ]
     },
     "metadata": {},
     "output_type": "display_data"
    }
   ],
   "source": [
    "plt.plot(new_x, kan)\n",
    "plt.plot(new_x, -0.5*new_x**2)\n",
    "# plt.scatter(x, y)\n",
    "plt.plot(new_x, y_symb_ugly)"
   ]
  },
  {
   "cell_type": "markdown",
   "metadata": {},
   "source": [
    "### Spline to csv"
   ]
  },
  {
   "cell_type": "code",
   "execution_count": 10,
   "metadata": {},
   "outputs": [],
   "source": [
    "\n",
    "def spline_to_csv(acts, preacts, n_layers = 2, output_dir='./saved_models'):\n",
    "    os.makedirs(output_dir, exist_ok=True)\n",
    "    for l in range(n_layers):\n",
    "        in_dim = acts[l].shape[2]\n",
    "        out_dim = acts[l].shape[1]\n",
    "        for j in range(out_dim):\n",
    "            for i in range(in_dim):\n",
    "                x = preacts[l][:, i].reshape(-1)\n",
    "                y = acts[l][:, j, i].reshape(-1)\n",
    "                \n",
    "                # Sort by x\n",
    "                sort_idx = np.argsort(x)\n",
    "                x_sorted = x[sort_idx]\n",
    "                y_sorted = y[sort_idx]\n",
    "\n",
    "                df = pd.DataFrame({'x': x_sorted, 'y': y_sorted})\n",
    "                filename = f'{l}_{j}_{i}.csv'\n",
    "                filepath = os.path.join(output_dir, filename)\n",
    "                df.to_csv(filepath, index=False)"
   ]
  },
  {
   "cell_type": "code",
   "execution_count": null,
   "metadata": {},
   "outputs": [
    {
     "name": "stdout",
     "output_type": "stream",
     "text": [
      "Pruning node (0,0)\n",
      "Pruning node (0,4)\n",
      "Pruning node (0,1)\n"
     ]
    }
   ],
   "source": [
    "acts_g, preacts_g = get_kan_arch(\n",
    "    n_layers=2,\n",
    "    model_path=\"./saved_models/gkan/model_epidemics_gkan/epidemics_gkan_ic5_s5_pd_seed/0/gkan/g_net\"\n",
    ")\n",
    "\n",
    "acts_g_pruned, preacts_g_pruned = pruning(acts_g, preacts_g, theta=0.1)\n",
    "\n",
    "acts_h, preacts_h = get_kan_arch(\n",
    "    n_layers=2,\n",
    "    model_path=\"./saved_models/gkan/model_epidemics_gkan/epidemics_gkan_ic5_s5_pd_seed/0/gkan/h_net\"\n",
    ")\n",
    "\n",
    "acts_h_pruned, preacts_h_pruned = pruning(acts_h, preacts_h, theta=0.1)\n",
    "                \n",
    "# g_net\n",
    "spline_to_csv(\n",
    "    acts_g_pruned, \n",
    "    preacts_g_pruned, \n",
    "    n_layers=2, \n",
    "    output_dir=\"./saved_models/gkan/model_epidemics_gkan/epidemics_gkan_ic5_s5_pd_seed/0/gkan/g_net/spline_to_csv\"\n",
    ")\n",
    "\n",
    "# h_net\n",
    "spline_to_csv(\n",
    "    acts_h_pruned, \n",
    "    preacts_h_pruned, \n",
    "    n_layers=2, \n",
    "    output_dir=\"./saved_models/gkan/model_epidemics_gkan/epidemics_gkan_ic5_s5_pd_seed/0/gkan/h_net/spline_to_csv\"\n",
    ")\n",
    "    "
   ]
  },
  {
   "cell_type": "code",
   "execution_count": 11,
   "metadata": {},
   "outputs": [],
   "source": [
    "acts_h, preacts_h = get_kan_arch(\n",
    "    n_layers=2,\n",
    "    model_path=\"./saved_models/gkan/model_population_gkan/population_gkan_ic5_s5_pd_seed/0/gkan/h_net\"\n",
    ")\n",
    "\n",
    "acts_h_pruned, preacts_h_pruned = pruning(acts_h, preacts_h, theta=0.1)\n",
    "\n",
    "spline_to_csv(\n",
    "    acts_h_pruned, \n",
    "    preacts_h_pruned, \n",
    "    n_layers=2, \n",
    "    output_dir=\"./saved_models/gkan/model_population_gkan/population_gkan_ic5_s5_pd_seed/0/gkan/h_net\"\n",
    ")"
   ]
  },
  {
   "cell_type": "code",
   "execution_count": 6,
   "metadata": {},
   "outputs": [
    {
     "data": {
      "image/png": "[encoded data removed]",
      "text/plain": [
       "<Figure size 800x500 with 1 Axes>"
      ]
     },
     "metadata": {},
     "output_type": "display_data"
    }
   ],
   "source": [
    "df = pd.read_csv(\"./saved_models/gkan/model_epidemics_gkan/epidemics_gkan_ic5_s5_pd_seed/0/gkan/g_net/spline_to_csv/1_0_0.csv\")\n",
    "\n",
    "# Plot the data\n",
    "plt.figure(figsize=(8, 5))\n",
    "plt.plot(df['x'], df['y'], marker='o', linestyle='-')\n",
    "plt.title('Spline Data from CSV')\n",
    "plt.xlabel('x (preact)')\n",
    "plt.ylabel('y (act)')\n",
    "plt.grid(True)\n",
    "plt.tight_layout()\n",
    "plt.show()"
   ]
  }
 ],
 "metadata": {
  "kernelspec": {
   "display_name": "Python 3",
   "language": "python",
   "name": "python3"
  },
  "language_info": {
   "codemirror_mode": {
    "name": "ipython",
    "version": 3
   },
   "file_extension": ".py",
   "mimetype": "text/x-python",
   "name": "python",
   "nbconvert_exporter": "python",
   "pygments_lexer": "ipython3",
   "version": "3.12.0"
  }
 },
 "nbformat": 4,
 "nbformat_minor": 2
}
