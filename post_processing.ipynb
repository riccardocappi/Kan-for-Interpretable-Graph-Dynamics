{
 "cells": [
  {
   "cell_type": "markdown",
   "metadata": {},
   "source": [
    "## Importing"
   ]
  },
  {
   "cell_type": "code",
   "execution_count": 1,
   "metadata": {},
   "outputs": [
    {
     "name": "stdout",
     "output_type": "stream",
     "text": [
      "Detected IPython. Loading juliacall extension. See https://juliapy.github.io/PythonCall.jl/stable/compat/#IPython\n"
     ]
    }
   ],
   "source": [
    "from utils.utils import *\n",
    "import networkx as nx\n",
    "from torch_geometric.utils import from_networkx\n",
    "\n",
    "from models.GKAN import GKAN\n",
    "from models.kan.KAN import KAN\n",
    "from utils.utils import fix_symbolic, automatic_fix_symbolic_kan\n",
    "\n",
    "from models.utils.NetWrapper import NetWrapper\n",
    "from train_and_eval import eval_model\n",
    "\n",
    "import pandas as pd"
   ]
  },
  {
   "cell_type": "markdown",
   "metadata": {},
   "source": [
    "## GKAN-ODE"
   ]
  },
  {
   "cell_type": "markdown",
   "metadata": {},
   "source": [
    "We define our GKAN model as an extension of the message-passing framework in which we implement **message** and **update** functions as KANs.\n",
    "\n",
    "- Message: $m_{j \\rightarrow i} = \\text{KAN}(\\textbf{h}_j^{(k)}, \\textbf{h}_i^{(k)})$\n",
    "\n",
    "- Aggregation: $m_i = \\sum_{j \\in N(i)} m_{j \\rightarrow i}$\n",
    "\n",
    "- Update: $\\textbf{h}_i^{(k+1)} = \\text{KAN}(\\textbf{h}_i^{(k)}, m_i)$\n",
    "\n",
    "which can be written also as:\n",
    "$$\n",
    "\\textbf{h}_i^{(k+1)} = H \\left(\\textbf{h}_i^{(k)}, \\sum_j A_{ij}G(\\textbf{h}_j^{(k)}, \\textbf{h}_i^{(k)})\\right)\n",
    "$$\n",
    "where functions $G$ and $H$ are KANs with parameters $\\theta_G, \\theta_H$, respectively.\n",
    "\n",
    "given a node $\\mathbf{x} \\in \\mathbb{R}^N$, our model compute its prediction in the time window $[w_0, w_n]$ as\n",
    "$$ \\hat{\\textbf{x}}_i(w_n) = \\textbf{x}_i(w_0) + \\int_{w_0}^{w_n} GKAN(\\textbf{x}_i(\\tau), \\{\\textbf{x}_j(\\tau)\\}_{j \\in N(i)_\\tau}, \\theta) d \\tau $$"
   ]
  },
  {
   "cell_type": "markdown",
   "metadata": {},
   "source": [
    "## Loss computation"
   ]
  },
  {
   "cell_type": "markdown",
   "metadata": {},
   "source": [
    "Let $\\mathbf{X} \\in \\mathbb{R}^{(W, I, N)}$ be the tensor containing training instances in the time window $W$, where\n",
    "\n",
    "- W is the window size (i.e. the observations at different times of the dynamical process)\n",
    "- I in the number of initial conditions\n",
    "- N is the number of nodes\n",
    "\n",
    "Let $\\hat{\\mathbf{X}} \\in \\mathbb{R}^{(W, I, N)}$ be the predictions of our model.\n",
    "\n",
    "The loss can be computed in the following ways:\n",
    "\n",
    "- $ \\frac{1}{W \\cdot I \\cdot N} \\sum_{w=1}^{W-1} \\sum_{i=0}^{I-1} \\sum_{n=0}^{N-1} (\\hat{\\mathbf{X}}[w, i, n] - \\mathbf{X}[w, i, n])^2 $\n",
    "\n",
    "\n",
    "- $ \\frac{1}{2 \\cdot I \\cdot N} \\sum_{i=0}^{I-1} \\sum_{n=0}^{N-1} (\\hat{\\mathbf{X}}[1, i, n] - \\mathbf{X}[1, i, n])^2 + (\\hat{\\mathbf{X}}[W-1, i, n] - \\mathbf{X}[W-1, i, n])^2$"
   ]
  },
  {
   "cell_type": "markdown",
   "metadata": {},
   "source": [
    "## Kuramoto"
   ]
  },
  {
   "cell_type": "markdown",
   "metadata": {},
   "source": [
    "We want to learn symbolic representation of the Kuramoto model, described by the equation:\n",
    "$$\n",
    "    \\frac{d x_i}{dt} = \\omega_i + R \\sum_j A_{ij} \\text{sin}(x_j - x_i),\n",
    "$$"
   ]
  },
  {
   "cell_type": "markdown",
   "metadata": {},
   "source": [
    "## Utility functions"
   ]
  },
  {
   "cell_type": "code",
   "execution_count": 2,
   "metadata": {},
   "outputs": [],
   "source": [
    "from torch_geometric.nn import MessagePassing\n",
    "import torch\n",
    "\n",
    "class SymbolicFakeModel(MessagePassing):\n",
    "    def __init__(\n",
    "        self, \n",
    "        h_symb,\n",
    "        g_symb,\n",
    "        aggr='add'):\n",
    "      \n",
    "        super(SymbolicFakeModel, self).__init__(aggr=aggr)\n",
    "        \n",
    "        self.h_symb = h_symb\n",
    "        self.g_symb = g_symb\n",
    "        \n",
    "    \n",
    "    def forward(self, x, edge_index):\n",
    "        return self.propagate(edge_index, x=x)\n",
    "    \n",
    "    \n",
    "    def message(self, x_i, x_j):\n",
    "        out = self.g_symb(torch.cat([x_j, x_i], dim=-1))\n",
    "        return out\n",
    "    \n",
    "    def update(self, aggr_out, x):\n",
    "        out = self.h_symb(torch.cat([x, aggr_out], dim=-1))\n",
    "        return out\n",
    "\n",
    "\n",
    "class SymbolicWrapper(torch.nn.Module):\n",
    "    def __init__(self, model, edge_index):\n",
    "        super(SymbolicWrapper, self).__init__()\n",
    "        self.model = model\n",
    "        self.edge_index = edge_index\n",
    "        \n",
    "    def forward(self, t, x):\n",
    "        return self.model(x, self.edge_index)"
   ]
  },
  {
   "cell_type": "code",
   "execution_count": 3,
   "metadata": {},
   "outputs": [],
   "source": [
    "def fix_symbolic_kan(target_model_path, h_hidden_layers = [2, 1, 1], g_hidden_layers = [2, 1, 1]):\n",
    "    model_path = \"./saved_models_optuna/symb-model-two-steps\"\n",
    "    \n",
    "    g_net = KAN(\n",
    "        layers_hidden=g_hidden_layers,\n",
    "        store_act=True,\n",
    "        compute_symbolic=True,\n",
    "        device='cpu',\n",
    "    )\n",
    "    \n",
    "    h_net = KAN(\n",
    "        layers_hidden=h_hidden_layers,\n",
    "        store_act=True,\n",
    "        compute_symbolic=True,\n",
    "        device='cpu',\n",
    "    )\n",
    "    \n",
    "    automatic_fix_symbolic_kan(\n",
    "        layers=g_net.layers,\n",
    "        symb_functions_file=f'{target_model_path}/g_net/symb_functions.json'\n",
    "    )\n",
    "    \n",
    "    automatic_fix_symbolic_kan(\n",
    "        layers=h_net.layers,\n",
    "        symb_functions_file=f'{target_model_path}/h_net/symb_functions.json'\n",
    "    )\n",
    "    \n",
    "    net = GKAN(\n",
    "        h_net=h_net,\n",
    "        g_net=g_net,\n",
    "        device='cpu',\n",
    "        model_path=model_path\n",
    "    )\n",
    "    \n",
    "    \n",
    "    return net\n",
    "\n",
    "\n",
    "def get_data():\n",
    "    config_path = './configs/config_kuramoto.yml'\n",
    "    config = load_config(config_path)\n",
    "    config['device'] = 'cpu'\n",
    "    \n",
    "    t_f_train = int(0.8 * config['t_eval_steps'])\n",
    "    \n",
    "    # G = nx.grid_2d_graph(7, 10)\n",
    "    G = nx.barabasi_albert_graph(70, 3, seed=config['seed'])\n",
    "    \n",
    "    train_dataset, valid_data = create_datasets(config, G, t_f_train=t_f_train)\n",
    "    \n",
    "    edge_index = from_networkx(G).edge_index\n",
    "    \n",
    "    return train_dataset, valid_data, edge_index\n",
    "\n",
    "\n",
    "\n",
    "def save_symbolic(net):\n",
    "    \n",
    "    train_dataset, _, edge_index = get_data()\n",
    "    \n",
    "    dummy_x, dummy_edge_index = sample_from_spatio_temporal_graph(train_dataset.data[0], \n",
    "                                                                  edge_index, \n",
    "                                                                  sample_size=-1)\n",
    "    \n",
    "    net.save_cached_data(dummy_x, dummy_edge_index)\n",
    "    \n",
    "\n",
    "\n",
    "def get_kan_symb_valid_loss(target_model_path, h_hidden_layers = [2, 1, 1], g_hidden_layers = [2, 1, 1]):\n",
    "    training_set, valid_dataset, edge_index = get_data()\n",
    "    \n",
    "    net = fix_symbolic_kan(\n",
    "        target_model_path=target_model_path,\n",
    "        h_hidden_layers=h_hidden_layers,\n",
    "        g_hidden_layers=g_hidden_layers\n",
    "    )\n",
    "    \n",
    "    save_symbolic(net)\n",
    "    \n",
    "    model = NetWrapper(net, edge_index, update_grid=False)\n",
    "    \n",
    "    loss = eval_model(\n",
    "        model,\n",
    "        valid_dataset.data,\n",
    "        valid_dataset.time,\n",
    "        criterion=torch.nn.MSELoss(),\n",
    "        t_f_train=training_set.data.size(1),\n",
    "        n_iter=valid_dataset.data.size(0)\n",
    "    )\n",
    "\n",
    "    return loss\n",
    "\n",
    "\n",
    "def get_symb_valid_loss(g_symb, h_symb):\n",
    "    symb_model = SymbolicFakeModel(\n",
    "        g_symb=g_symb,\n",
    "        h_symb=h_symb\n",
    "    )\n",
    "\n",
    "    train_set, valid_set, edge_index = get_data()\n",
    "\n",
    "    model = SymbolicWrapper(symb_model, edge_index)\n",
    "    \n",
    "    loss = eval_model(\n",
    "        model,\n",
    "        valid_set.data,\n",
    "        valid_set.time,\n",
    "        criterion=torch.nn.MSELoss(),\n",
    "        t_f_train=train_set.data.size(1),\n",
    "        n_iter=train_set.data.size(0)\n",
    "    )\n",
    "    \n",
    "    return loss\n",
    "    \n",
    "    "
   ]
  },
  {
   "cell_type": "code",
   "execution_count": 4,
   "metadata": {},
   "outputs": [],
   "source": [
    "model_path = './saved_models_optuna/model-kuramoto-gkan/barbasi-albert/3/eval'"
   ]
  },
  {
   "cell_type": "markdown",
   "metadata": {},
   "source": [
    "Validation loss: 0.00014795214519836009"
   ]
  },
  {
   "cell_type": "markdown",
   "metadata": {},
   "source": [
    "## Spline-wise symb fitting"
   ]
  },
  {
   "cell_type": "code",
   "execution_count": 5,
   "metadata": {},
   "outputs": [
    {
     "data": {
      "image/png": "[encoded data removed]",
      "text/plain": [
       "<IPython.core.display.Image object>"
      ]
     },
     "execution_count": 5,
     "metadata": {},
     "output_type": "execute_result"
    }
   ],
   "source": [
    "%matplotlib inline\n",
    "from IPython.display import Image\n",
    "Image('./notebooks/Spline-wise fitting.png')"
   ]
  },
  {
   "cell_type": "code",
   "execution_count": 6,
   "metadata": {},
   "outputs": [
    {
     "name": "stdout",
     "output_type": "stream",
     "text": [
      "Pruning node (0,0)\n"
     ]
    },
    {
     "name": "stderr",
     "output_type": "stream",
     "text": [
      "/home/rcappi/.conda/envs/my_env/lib/python3.12/site-packages/pysr/sr.py:2774: UserWarning: Note: it looks like you are running in Jupyter. The progress bar will be turned off.\n",
      "  warnings.warn(\n",
      "/home/rcappi/.conda/envs/my_env/lib/python3.12/site-packages/pysr/sr.py:2774: UserWarning: Note: it looks like you are running in Jupyter. The progress bar will be turned off.\n",
      "  warnings.warn(\n",
      "/home/rcappi/.conda/envs/my_env/lib/python3.12/site-packages/pysr/sr.py:2774: UserWarning: Note: it looks like you are running in Jupyter. The progress bar will be turned off.\n",
      "  warnings.warn(\n",
      "/home/rcappi/.conda/envs/my_env/lib/python3.12/site-packages/pysr/sr.py:2774: UserWarning: Note: it looks like you are running in Jupyter. The progress bar will be turned off.\n",
      "  warnings.warn(\n",
      "/home/rcappi/.conda/envs/my_env/lib/python3.12/site-packages/pysr/sr.py:2774: UserWarning: Note: it looks like you are running in Jupyter. The progress bar will be turned off.\n",
      "  warnings.warn(\n",
      "/home/rcappi/.conda/envs/my_env/lib/python3.12/site-packages/pysr/sr.py:2774: UserWarning: Note: it looks like you are running in Jupyter. The progress bar will be turned off.\n",
      "  warnings.warn(\n"
     ]
    }
   ],
   "source": [
    "pysr_model = lambda : get_pysr_model(\n",
    "    model_selection=\"score\"\n",
    ")\n",
    "\n",
    "symb_model = fit_model(\n",
    "    n_h_hidden_layers=2,\n",
    "    n_g_hidden_layers=2,\n",
    "    model_path=model_path,\n",
    "    theta=0.1,\n",
    "    pysr_model=pysr_model,\n",
    "    sample_size=2500\n",
    ")"
   ]
  },
  {
   "cell_type": "code",
   "execution_count": 7,
   "metadata": {},
   "outputs": [
    {
     "data": {
      "text/latex": [
       "$\\displaystyle 0.23939495722657 \\sum_{j}( -sin(-1.00036407870052*x_i + 0.95986626525973*x_j + 0.256004693803254)) + 1.98621784202107 - 0.0403114665913038 e^{- x_{i}}$"
      ],
      "text/plain": [
       "0.23939495722657*\\sum_{j}( -sin(-1.00036407870052*x_i + 0.95986626525973*x_j + 0.256004693803254)) + 1.98621784202107 - 0.0403114665913038*exp(-x_i)"
      ]
     },
     "execution_count": 7,
     "metadata": {},
     "output_type": "execute_result"
    }
   ],
   "source": [
    "sp.simplify(symb_model)"
   ]
  },
  {
   "cell_type": "code",
   "execution_count": 5,
   "metadata": {},
   "outputs": [
    {
     "name": "stdout",
     "output_type": "stream",
     "text": [
      "Validation loss of symbolic formula: 0.1883630007505417\n"
     ]
    }
   ],
   "source": [
    "symb_valid_loss = get_kan_symb_valid_loss(\n",
    "    target_model_path = model_path, \n",
    "    h_hidden_layers = [2, 1, 1], \n",
    "    g_hidden_layers = [2, 1, 1]\n",
    ")\n",
    "\n",
    "print(f\"Validation loss of symbolic formula: {symb_valid_loss}\")"
   ]
  },
  {
   "cell_type": "markdown",
   "metadata": {},
   "source": [
    "### Top 5 equations"
   ]
  },
  {
   "cell_type": "markdown",
   "metadata": {},
   "source": [
    "#### G_Net"
   ]
  },
  {
   "cell_type": "code",
   "execution_count": 6,
   "metadata": {},
   "outputs": [
    {
     "name": "stdout",
     "output_type": "stream",
     "text": [
      "Spline (0, 0, 0)\n"
     ]
    },
    {
     "data": {
      "text/html": [
       "<div>\n",
       "<style scoped>\n",
       "    .dataframe tbody tr th:only-of-type {\n",
       "        vertical-align: middle;\n",
       "    }\n",
       "\n",
       "    .dataframe tbody tr th {\n",
       "        vertical-align: top;\n",
       "    }\n",
       "\n",
       "    .dataframe thead th {\n",
       "        text-align: right;\n",
       "    }\n",
       "</style>\n",
       "<table border=\"1\" class=\"dataframe\">\n",
       "  <thead>\n",
       "    <tr style=\"text-align: right;\">\n",
       "      <th></th>\n",
       "      <th>Unnamed: 0</th>\n",
       "      <th>complexity</th>\n",
       "      <th>loss</th>\n",
       "      <th>score</th>\n",
       "      <th>sympy_format</th>\n",
       "    </tr>\n",
       "  </thead>\n",
       "  <tbody>\n",
       "    <tr>\n",
       "      <th>0</th>\n",
       "      <td>4</td>\n",
       "      <td>5</td>\n",
       "      <td>0.000160</td>\n",
       "      <td>7.894449</td>\n",
       "      <td>2.2345679 + x0*(-1.6151466)</td>\n",
       "    </tr>\n",
       "    <tr>\n",
       "      <th>1</th>\n",
       "      <td>1</td>\n",
       "      <td>2</td>\n",
       "      <td>1.402717</td>\n",
       "      <td>1.849382</td>\n",
       "      <td>-x0</td>\n",
       "    </tr>\n",
       "    <tr>\n",
       "      <th>2</th>\n",
       "      <td>3</td>\n",
       "      <td>4</td>\n",
       "      <td>0.429535</td>\n",
       "      <td>0.646963</td>\n",
       "      <td>x0**2*(-0.21327657)</td>\n",
       "    </tr>\n",
       "    <tr>\n",
       "      <th>3</th>\n",
       "      <td>2</td>\n",
       "      <td>3</td>\n",
       "      <td>0.820297</td>\n",
       "      <td>0.536500</td>\n",
       "      <td>x0*(-1.1673055)</td>\n",
       "    </tr>\n",
       "    <tr>\n",
       "      <th>4</th>\n",
       "      <td>0</td>\n",
       "      <td>1</td>\n",
       "      <td>8.915519</td>\n",
       "      <td>0.000000</td>\n",
       "      <td>-4.50097850000000</td>\n",
       "    </tr>\n",
       "  </tbody>\n",
       "</table>\n",
       "</div>"
      ],
      "text/plain": [
       "   Unnamed: 0  complexity      loss     score                 sympy_format\n",
       "0           4           5  0.000160  7.894449  2.2345679 + x0*(-1.6151466)\n",
       "1           1           2  1.402717  1.849382                          -x0\n",
       "2           3           4  0.429535  0.646963          x0**2*(-0.21327657)\n",
       "3           2           3  0.820297  0.536500              x0*(-1.1673055)\n",
       "4           0           1  8.915519  0.000000            -4.50097850000000"
      ]
     },
     "execution_count": 6,
     "metadata": {},
     "output_type": "execute_result"
    }
   ],
   "source": [
    "print(\"Spline (0, 0, 0)\")\n",
    "pd.read_csv(\"saved_models_optuna/model-kuramoto-gkan/barbasi-albert/3/eval/g_net/spline-wise/top_5_equations(0, 0, 0).csv\")"
   ]
  },
  {
   "cell_type": "code",
   "execution_count": 7,
   "metadata": {},
   "outputs": [
    {
     "name": "stdout",
     "output_type": "stream",
     "text": [
      "Spline (0, 0, 1)\n"
     ]
    },
    {
     "data": {
      "text/html": [
       "<div>\n",
       "<style scoped>\n",
       "    .dataframe tbody tr th:only-of-type {\n",
       "        vertical-align: middle;\n",
       "    }\n",
       "\n",
       "    .dataframe tbody tr th {\n",
       "        vertical-align: top;\n",
       "    }\n",
       "\n",
       "    .dataframe thead th {\n",
       "        text-align: right;\n",
       "    }\n",
       "</style>\n",
       "<table border=\"1\" class=\"dataframe\">\n",
       "  <thead>\n",
       "    <tr style=\"text-align: right;\">\n",
       "      <th></th>\n",
       "      <th>Unnamed: 0</th>\n",
       "      <th>complexity</th>\n",
       "      <th>loss</th>\n",
       "      <th>score</th>\n",
       "      <th>sympy_format</th>\n",
       "    </tr>\n",
       "  </thead>\n",
       "  <tbody>\n",
       "    <tr>\n",
       "      <th>0</th>\n",
       "      <td>1</td>\n",
       "      <td>3</td>\n",
       "      <td>0.020640</td>\n",
       "      <td>2.865437</td>\n",
       "      <td>x0*1.5497605</td>\n",
       "    </tr>\n",
       "    <tr>\n",
       "      <th>1</th>\n",
       "      <td>2</td>\n",
       "      <td>5</td>\n",
       "      <td>0.000075</td>\n",
       "      <td>2.809547</td>\n",
       "      <td>-(-1.620619)*x0 - 0.35484058</td>\n",
       "    </tr>\n",
       "    <tr>\n",
       "      <th>2</th>\n",
       "      <td>3</td>\n",
       "      <td>7</td>\n",
       "      <td>0.000075</td>\n",
       "      <td>0.000003</td>\n",
       "      <td>-(-1.6206275)*(x0 - 0.13555971) - 0.13518651</td>\n",
       "    </tr>\n",
       "    <tr>\n",
       "      <th>3</th>\n",
       "      <td>0</td>\n",
       "      <td>1</td>\n",
       "      <td>6.361980</td>\n",
       "      <td>0.000000</td>\n",
       "      <td>x0</td>\n",
       "    </tr>\n",
       "  </tbody>\n",
       "</table>\n",
       "</div>"
      ],
      "text/plain": [
       "   Unnamed: 0  complexity      loss     score  \\\n",
       "0           1           3  0.020640  2.865437   \n",
       "1           2           5  0.000075  2.809547   \n",
       "2           3           7  0.000075  0.000003   \n",
       "3           0           1  6.361980  0.000000   \n",
       "\n",
       "                                   sympy_format  \n",
       "0                                  x0*1.5497605  \n",
       "1                  -(-1.620619)*x0 - 0.35484058  \n",
       "2  -(-1.6206275)*(x0 - 0.13555971) - 0.13518651  \n",
       "3                                            x0  "
      ]
     },
     "execution_count": 7,
     "metadata": {},
     "output_type": "execute_result"
    }
   ],
   "source": [
    "print(\"Spline (0, 0, 1)\")\n",
    "pd.read_csv(\"saved_models_optuna/model-kuramoto-gkan/barbasi-albert/3/eval/g_net/spline-wise/top_5_equations(0, 0, 1).csv\")"
   ]
  },
  {
   "cell_type": "code",
   "execution_count": 8,
   "metadata": {},
   "outputs": [
    {
     "name": "stdout",
     "output_type": "stream",
     "text": [
      "Spline (1, 0, 0)\n"
     ]
    },
    {
     "data": {
      "text/html": [
       "<div>\n",
       "<style scoped>\n",
       "    .dataframe tbody tr th:only-of-type {\n",
       "        vertical-align: middle;\n",
       "    }\n",
       "\n",
       "    .dataframe tbody tr th {\n",
       "        vertical-align: top;\n",
       "    }\n",
       "\n",
       "    .dataframe thead th {\n",
       "        text-align: right;\n",
       "    }\n",
       "</style>\n",
       "<table border=\"1\" class=\"dataframe\">\n",
       "  <thead>\n",
       "    <tr style=\"text-align: right;\">\n",
       "      <th></th>\n",
       "      <th>Unnamed: 0</th>\n",
       "      <th>complexity</th>\n",
       "      <th>loss</th>\n",
       "      <th>score</th>\n",
       "      <th>sympy_format</th>\n",
       "    </tr>\n",
       "  </thead>\n",
       "  <tbody>\n",
       "    <tr>\n",
       "      <th>0</th>\n",
       "      <td>3</td>\n",
       "      <td>6</td>\n",
       "      <td>0.429582</td>\n",
       "      <td>0.914729</td>\n",
       "      <td>sin(1.1280068 + x0*(-0.61936426))</td>\n",
       "    </tr>\n",
       "    <tr>\n",
       "      <th>1</th>\n",
       "      <td>4</td>\n",
       "      <td>7</td>\n",
       "      <td>0.182830</td>\n",
       "      <td>0.854256</td>\n",
       "      <td>tan(sin(1.126569 - 0.62103647*x0))</td>\n",
       "    </tr>\n",
       "    <tr>\n",
       "      <th>2</th>\n",
       "      <td>1</td>\n",
       "      <td>3</td>\n",
       "      <td>1.260328</td>\n",
       "      <td>0.172643</td>\n",
       "      <td>sin(Abs(x0))</td>\n",
       "    </tr>\n",
       "    <tr>\n",
       "      <th>3</th>\n",
       "      <td>2</td>\n",
       "      <td>5</td>\n",
       "      <td>1.072278</td>\n",
       "      <td>0.080793</td>\n",
       "      <td>sin(x0**2*(-0.054397393))</td>\n",
       "    </tr>\n",
       "    <tr>\n",
       "      <th>4</th>\n",
       "      <td>0</td>\n",
       "      <td>1</td>\n",
       "      <td>1.780080</td>\n",
       "      <td>0.000000</td>\n",
       "      <td>-0.0318239960000000</td>\n",
       "    </tr>\n",
       "  </tbody>\n",
       "</table>\n",
       "</div>"
      ],
      "text/plain": [
       "   Unnamed: 0  complexity      loss     score  \\\n",
       "0           3           6  0.429582  0.914729   \n",
       "1           4           7  0.182830  0.854256   \n",
       "2           1           3  1.260328  0.172643   \n",
       "3           2           5  1.072278  0.080793   \n",
       "4           0           1  1.780080  0.000000   \n",
       "\n",
       "                         sympy_format  \n",
       "0   sin(1.1280068 + x0*(-0.61936426))  \n",
       "1  tan(sin(1.126569 - 0.62103647*x0))  \n",
       "2                        sin(Abs(x0))  \n",
       "3           sin(x0**2*(-0.054397393))  \n",
       "4                 -0.0318239960000000  "
      ]
     },
     "execution_count": 8,
     "metadata": {},
     "output_type": "execute_result"
    }
   ],
   "source": [
    "print(\"Spline (1, 0, 0)\")\n",
    "pd.read_csv(\"saved_models_optuna/model-kuramoto-gkan/barbasi-albert/3/eval/g_net/spline-wise/top_5_equations(1, 0, 0).csv\")"
   ]
  },
  {
   "cell_type": "markdown",
   "metadata": {},
   "source": [
    "#### H_Net"
   ]
  },
  {
   "cell_type": "code",
   "execution_count": 9,
   "metadata": {},
   "outputs": [
    {
     "name": "stdout",
     "output_type": "stream",
     "text": [
      "Spline (0, 0, 0)\n"
     ]
    },
    {
     "data": {
      "text/html": [
       "<div>\n",
       "<style scoped>\n",
       "    .dataframe tbody tr th:only-of-type {\n",
       "        vertical-align: middle;\n",
       "    }\n",
       "\n",
       "    .dataframe tbody tr th {\n",
       "        vertical-align: top;\n",
       "    }\n",
       "\n",
       "    .dataframe thead th {\n",
       "        text-align: right;\n",
       "    }\n",
       "</style>\n",
       "<table border=\"1\" class=\"dataframe\">\n",
       "  <thead>\n",
       "    <tr style=\"text-align: right;\">\n",
       "      <th></th>\n",
       "      <th>Unnamed: 0</th>\n",
       "      <th>complexity</th>\n",
       "      <th>loss</th>\n",
       "      <th>score</th>\n",
       "      <th>sympy_format</th>\n",
       "    </tr>\n",
       "  </thead>\n",
       "  <tbody>\n",
       "    <tr>\n",
       "      <th>0</th>\n",
       "      <td>2</td>\n",
       "      <td>6</td>\n",
       "      <td>0.000162</td>\n",
       "      <td>0.297416</td>\n",
       "      <td>1.7426635 + 0.08279874/exp(x0)</td>\n",
       "    </tr>\n",
       "    <tr>\n",
       "      <th>1</th>\n",
       "      <td>3</td>\n",
       "      <td>7</td>\n",
       "      <td>0.000147</td>\n",
       "      <td>0.096383</td>\n",
       "      <td>1.7450327 + 0.07666039/exp(x0**2)</td>\n",
       "    </tr>\n",
       "    <tr>\n",
       "      <th>2</th>\n",
       "      <td>1</td>\n",
       "      <td>5</td>\n",
       "      <td>0.000218</td>\n",
       "      <td>0.082439</td>\n",
       "      <td>1.7439795 + 0.012872707/x0</td>\n",
       "    </tr>\n",
       "    <tr>\n",
       "      <th>3</th>\n",
       "      <td>0</td>\n",
       "      <td>1</td>\n",
       "      <td>0.000303</td>\n",
       "      <td>0.000000</td>\n",
       "      <td>1.74927950000000</td>\n",
       "    </tr>\n",
       "  </tbody>\n",
       "</table>\n",
       "</div>"
      ],
      "text/plain": [
       "   Unnamed: 0  complexity      loss     score  \\\n",
       "0           2           6  0.000162  0.297416   \n",
       "1           3           7  0.000147  0.096383   \n",
       "2           1           5  0.000218  0.082439   \n",
       "3           0           1  0.000303  0.000000   \n",
       "\n",
       "                        sympy_format  \n",
       "0     1.7426635 + 0.08279874/exp(x0)  \n",
       "1  1.7450327 + 0.07666039/exp(x0**2)  \n",
       "2         1.7439795 + 0.012872707/x0  \n",
       "3                   1.74927950000000  "
      ]
     },
     "execution_count": 9,
     "metadata": {},
     "output_type": "execute_result"
    }
   ],
   "source": [
    "print(\"Spline (0, 0, 0)\")\n",
    "pd.read_csv(\"saved_models_optuna/model-kuramoto-gkan/barbasi-albert/3/eval/h_net/spline-wise/top_5_equations(0, 0, 0).csv\")"
   ]
  },
  {
   "cell_type": "code",
   "execution_count": 10,
   "metadata": {},
   "outputs": [
    {
     "name": "stdout",
     "output_type": "stream",
     "text": [
      "Spline (0, 0, 1)\n"
     ]
    },
    {
     "data": {
      "text/html": [
       "<div>\n",
       "<style scoped>\n",
       "    .dataframe tbody tr th:only-of-type {\n",
       "        vertical-align: middle;\n",
       "    }\n",
       "\n",
       "    .dataframe tbody tr th {\n",
       "        vertical-align: top;\n",
       "    }\n",
       "\n",
       "    .dataframe thead th {\n",
       "        text-align: right;\n",
       "    }\n",
       "</style>\n",
       "<table border=\"1\" class=\"dataframe\">\n",
       "  <thead>\n",
       "    <tr style=\"text-align: right;\">\n",
       "      <th></th>\n",
       "      <th>Unnamed: 0</th>\n",
       "      <th>complexity</th>\n",
       "      <th>loss</th>\n",
       "      <th>score</th>\n",
       "      <th>sympy_format</th>\n",
       "    </tr>\n",
       "  </thead>\n",
       "  <tbody>\n",
       "    <tr>\n",
       "      <th>0</th>\n",
       "      <td>2</td>\n",
       "      <td>5</td>\n",
       "      <td>0.153742</td>\n",
       "      <td>1.510361e+00</td>\n",
       "      <td>x0*(-0.49171123) - 3.3291314</td>\n",
       "    </tr>\n",
       "    <tr>\n",
       "      <th>1</th>\n",
       "      <td>1</td>\n",
       "      <td>4</td>\n",
       "      <td>0.696201</td>\n",
       "      <td>3.859472e-01</td>\n",
       "      <td>-tanh(x0) - 3.328379</td>\n",
       "    </tr>\n",
       "    <tr>\n",
       "      <th>2</th>\n",
       "      <td>3</td>\n",
       "      <td>7</td>\n",
       "      <td>0.153742</td>\n",
       "      <td>9.756593e-08</td>\n",
       "      <td>(x0 - 1*(-6.652187))*(-0.4917136) - 1*0.058190662</td>\n",
       "    </tr>\n",
       "    <tr>\n",
       "      <th>3</th>\n",
       "      <td>0</td>\n",
       "      <td>1</td>\n",
       "      <td>2.216045</td>\n",
       "      <td>0.000000e+00</td>\n",
       "      <td>-3.31240530000000</td>\n",
       "    </tr>\n",
       "  </tbody>\n",
       "</table>\n",
       "</div>"
      ],
      "text/plain": [
       "   Unnamed: 0  complexity      loss         score  \\\n",
       "0           2           5  0.153742  1.510361e+00   \n",
       "1           1           4  0.696201  3.859472e-01   \n",
       "2           3           7  0.153742  9.756593e-08   \n",
       "3           0           1  2.216045  0.000000e+00   \n",
       "\n",
       "                                        sympy_format  \n",
       "0                       x0*(-0.49171123) - 3.3291314  \n",
       "1                               -tanh(x0) - 3.328379  \n",
       "2  (x0 - 1*(-6.652187))*(-0.4917136) - 1*0.058190662  \n",
       "3                                  -3.31240530000000  "
      ]
     },
     "execution_count": 10,
     "metadata": {},
     "output_type": "execute_result"
    }
   ],
   "source": [
    "print(\"Spline (0, 0, 1)\")\n",
    "pd.read_csv(\"saved_models_optuna/model-kuramoto-gkan/barbasi-albert/3/eval/h_net/spline-wise/top_5_equations(0, 0, 1).csv\")"
   ]
  },
  {
   "cell_type": "code",
   "execution_count": 11,
   "metadata": {},
   "outputs": [
    {
     "name": "stdout",
     "output_type": "stream",
     "text": [
      "Spline (1, 0, 0)\n"
     ]
    }
   ],
   "source": [
    "print(\"Spline (1, 0, 0)\")\n",
    "df = pd.read_csv(\"saved_models_optuna/model-kuramoto-gkan/barbasi-albert/3/eval/h_net/spline-wise/top_5_equations(1, 0, 0).csv\")"
   ]
  },
  {
   "cell_type": "code",
   "execution_count": 12,
   "metadata": {},
   "outputs": [
    {
     "data": {
      "text/html": [
       "<div>\n",
       "<style scoped>\n",
       "    .dataframe tbody tr th:only-of-type {\n",
       "        vertical-align: middle;\n",
       "    }\n",
       "\n",
       "    .dataframe tbody tr th {\n",
       "        vertical-align: top;\n",
       "    }\n",
       "\n",
       "    .dataframe thead th {\n",
       "        text-align: right;\n",
       "    }\n",
       "</style>\n",
       "<table border=\"1\" class=\"dataframe\">\n",
       "  <thead>\n",
       "    <tr style=\"text-align: right;\">\n",
       "      <th></th>\n",
       "      <th>Unnamed: 0</th>\n",
       "      <th>complexity</th>\n",
       "      <th>loss</th>\n",
       "      <th>score</th>\n",
       "      <th>sympy_format</th>\n",
       "    </tr>\n",
       "  </thead>\n",
       "  <tbody>\n",
       "    <tr>\n",
       "      <th>0</th>\n",
       "      <td>2</td>\n",
       "      <td>5</td>\n",
       "      <td>0.039885</td>\n",
       "      <td>1.272601e+00</td>\n",
       "      <td>1.2138287 + x0*(-0.48686087)</td>\n",
       "    </tr>\n",
       "    <tr>\n",
       "      <th>1</th>\n",
       "      <td>1</td>\n",
       "      <td>4</td>\n",
       "      <td>0.142393</td>\n",
       "      <td>4.652734e-01</td>\n",
       "      <td>exp(tanh(-x0))</td>\n",
       "    </tr>\n",
       "    <tr>\n",
       "      <th>2</th>\n",
       "      <td>3</td>\n",
       "      <td>7</td>\n",
       "      <td>0.039885</td>\n",
       "      <td>6.268092e-08</td>\n",
       "      <td>x0*(-0.48686475) - 1*0.8840447 + 2.097871</td>\n",
       "    </tr>\n",
       "    <tr>\n",
       "      <th>3</th>\n",
       "      <td>0</td>\n",
       "      <td>1</td>\n",
       "      <td>0.575023</td>\n",
       "      <td>0.000000e+00</td>\n",
       "      <td>1.96434890000000</td>\n",
       "    </tr>\n",
       "  </tbody>\n",
       "</table>\n",
       "</div>"
      ],
      "text/plain": [
       "   Unnamed: 0  complexity      loss         score  \\\n",
       "0           2           5  0.039885  1.272601e+00   \n",
       "1           1           4  0.142393  4.652734e-01   \n",
       "2           3           7  0.039885  6.268092e-08   \n",
       "3           0           1  0.575023  0.000000e+00   \n",
       "\n",
       "                                sympy_format  \n",
       "0               1.2138287 + x0*(-0.48686087)  \n",
       "1                             exp(tanh(-x0))  \n",
       "2  x0*(-0.48686475) - 1*0.8840447 + 2.097871  \n",
       "3                           1.96434890000000  "
      ]
     },
     "execution_count": 12,
     "metadata": {},
     "output_type": "execute_result"
    }
   ],
   "source": [
    "df.head()"
   ]
  },
  {
   "cell_type": "markdown",
   "metadata": {},
   "source": [
    "## Black-box fitting "
   ]
  },
  {
   "cell_type": "code",
   "execution_count": 13,
   "metadata": {},
   "outputs": [
    {
     "data": {
      "image/png": "[encoded data removed]",
      "text/plain": [
       "<IPython.core.display.Image object>"
      ]
     },
     "execution_count": 13,
     "metadata": {},
     "output_type": "execute_result"
    }
   ],
   "source": [
    "%matplotlib inline\n",
    "from IPython.display import Image\n",
    "Image('./notebooks/Symb fitting black box.png')"
   ]
  },
  {
   "cell_type": "code",
   "execution_count": 14,
   "metadata": {},
   "outputs": [
    {
     "name": "stderr",
     "output_type": "stream",
     "text": [
      "/home/rcappi/.conda/envs/my_env/lib/python3.12/site-packages/pysr/sr.py:2774: UserWarning: Note: it looks like you are running in Jupyter. The progress bar will be turned off.\n",
      "  warnings.warn(\n",
      "/home/rcappi/.conda/envs/my_env/lib/python3.12/site-packages/pysr/sr.py:2774: UserWarning: Note: it looks like you are running in Jupyter. The progress bar will be turned off.\n",
      "  warnings.warn(\n"
     ]
    }
   ],
   "source": [
    "pysr_model = lambda : get_pysr_model(\n",
    "    model_selection=\"score\"\n",
    ")\n",
    "\n",
    "\n",
    "symb_model_black_box = fit_black_box_from_kan(\n",
    "    model_path=model_path,\n",
    "    n_g_hidden_layers=2,\n",
    "    n_h_hidden_layers=2,\n",
    "    theta=-np.inf,\n",
    "    pysr_model=pysr_model,\n",
    "    sample_size=2500\n",
    ")"
   ]
  },
  {
   "cell_type": "code",
   "execution_count": 15,
   "metadata": {},
   "outputs": [
    {
     "data": {
      "text/latex": [
       "$\\displaystyle 0.256498623474487 \\sum_{j}( 1.9546822*sin(x_i - x_j)) + 1.9857075$"
      ],
      "text/plain": [
       "0.256498623474487*\\sum_{j}( 1.9546822*sin(x_i - x_j)) + 1.9857075"
      ]
     },
     "execution_count": 15,
     "metadata": {},
     "output_type": "execute_result"
    }
   ],
   "source": [
    "sp.simplify(symb_model_black_box)"
   ]
  },
  {
   "cell_type": "code",
   "execution_count": 16,
   "metadata": {},
   "outputs": [
    {
     "name": "stdout",
     "output_type": "stream",
     "text": [
      " Validation loss of black-box symbolic model: 0.00015706288104411215\n"
     ]
    }
   ],
   "source": [
    "g_symb_bb_kan = lambda x: (1.95302647134032 * torch.sin(x[:, 0] - x[:, 1])).unsqueeze(-1)\n",
    "\n",
    "h_symb_bb_kan = lambda x: (0.25664377 * x[:, 1] + 1.9862221).unsqueeze(-1)\n",
    "\n",
    "print(f\" Validation loss of black-box symbolic model: {get_symb_valid_loss(g_symb=g_symb_bb_kan, h_symb=h_symb_bb_kan)}\")"
   ]
  },
  {
   "cell_type": "markdown",
   "metadata": {},
   "source": [
    "### Top 5 equations"
   ]
  },
  {
   "cell_type": "markdown",
   "metadata": {},
   "source": [
    "#### G_Net"
   ]
  },
  {
   "cell_type": "code",
   "execution_count": 17,
   "metadata": {},
   "outputs": [
    {
     "data": {
      "text/html": [
       "<div>\n",
       "<style scoped>\n",
       "    .dataframe tbody tr th:only-of-type {\n",
       "        vertical-align: middle;\n",
       "    }\n",
       "\n",
       "    .dataframe tbody tr th {\n",
       "        vertical-align: top;\n",
       "    }\n",
       "\n",
       "    .dataframe thead th {\n",
       "        text-align: right;\n",
       "    }\n",
       "</style>\n",
       "<table border=\"1\" class=\"dataframe\">\n",
       "  <thead>\n",
       "    <tr style=\"text-align: right;\">\n",
       "      <th></th>\n",
       "      <th>Unnamed: 0</th>\n",
       "      <th>complexity</th>\n",
       "      <th>loss</th>\n",
       "      <th>score</th>\n",
       "      <th>sympy_format</th>\n",
       "    </tr>\n",
       "  </thead>\n",
       "  <tbody>\n",
       "    <tr>\n",
       "      <th>0</th>\n",
       "      <td>4</td>\n",
       "      <td>6</td>\n",
       "      <td>0.008081</td>\n",
       "      <td>3.138584</td>\n",
       "      <td>sin(x0 - x1)*1.9546822</td>\n",
       "    </tr>\n",
       "    <tr>\n",
       "      <th>1</th>\n",
       "      <td>2</td>\n",
       "      <td>4</td>\n",
       "      <td>0.431003</td>\n",
       "      <td>1.405576</td>\n",
       "      <td>sin(x0 - x1)</td>\n",
       "    </tr>\n",
       "    <tr>\n",
       "      <th>2</th>\n",
       "      <td>3</td>\n",
       "      <td>5</td>\n",
       "      <td>0.186439</td>\n",
       "      <td>0.838008</td>\n",
       "      <td>tan(sin(x0 - x1))</td>\n",
       "    </tr>\n",
       "    <tr>\n",
       "      <th>3</th>\n",
       "      <td>1</td>\n",
       "      <td>3</td>\n",
       "      <td>1.757575</td>\n",
       "      <td>0.006620</td>\n",
       "      <td>exp(-x0)</td>\n",
       "    </tr>\n",
       "    <tr>\n",
       "      <th>4</th>\n",
       "      <td>0</td>\n",
       "      <td>1</td>\n",
       "      <td>1.781001</td>\n",
       "      <td>0.000000</td>\n",
       "      <td>-0.00468803900000000</td>\n",
       "    </tr>\n",
       "  </tbody>\n",
       "</table>\n",
       "</div>"
      ],
      "text/plain": [
       "   Unnamed: 0  complexity      loss     score            sympy_format\n",
       "0           4           6  0.008081  3.138584  sin(x0 - x1)*1.9546822\n",
       "1           2           4  0.431003  1.405576            sin(x0 - x1)\n",
       "2           3           5  0.186439  0.838008       tan(sin(x0 - x1))\n",
       "3           1           3  1.757575  0.006620                exp(-x0)\n",
       "4           0           1  1.781001  0.000000    -0.00468803900000000"
      ]
     },
     "execution_count": 17,
     "metadata": {},
     "output_type": "execute_result"
    }
   ],
   "source": [
    "pd.read_csv(\"saved_models_optuna/model-kuramoto-gkan/barbasi-albert/3/eval/black-box/top_5_equations_g.csv\")"
   ]
  },
  {
   "cell_type": "markdown",
   "metadata": {},
   "source": [
    "#### H_Net"
   ]
  },
  {
   "cell_type": "code",
   "execution_count": 18,
   "metadata": {},
   "outputs": [
    {
     "data": {
      "text/html": [
       "<div>\n",
       "<style scoped>\n",
       "    .dataframe tbody tr th:only-of-type {\n",
       "        vertical-align: middle;\n",
       "    }\n",
       "\n",
       "    .dataframe tbody tr th {\n",
       "        vertical-align: top;\n",
       "    }\n",
       "\n",
       "    .dataframe thead th {\n",
       "        text-align: right;\n",
       "    }\n",
       "</style>\n",
       "<table border=\"1\" class=\"dataframe\">\n",
       "  <thead>\n",
       "    <tr style=\"text-align: right;\">\n",
       "      <th></th>\n",
       "      <th>Unnamed: 0</th>\n",
       "      <th>complexity</th>\n",
       "      <th>loss</th>\n",
       "      <th>score</th>\n",
       "      <th>sympy_format</th>\n",
       "    </tr>\n",
       "  </thead>\n",
       "  <tbody>\n",
       "    <tr>\n",
       "      <th>0</th>\n",
       "      <td>2</td>\n",
       "      <td>5</td>\n",
       "      <td>0.000736</td>\n",
       "      <td>5.612687e+00</td>\n",
       "      <td>x1/3.8986564 - 1*(-1.9857075)</td>\n",
       "    </tr>\n",
       "    <tr>\n",
       "      <th>1</th>\n",
       "      <td>1</td>\n",
       "      <td>4</td>\n",
       "      <td>0.201541</td>\n",
       "      <td>3.663734e-01</td>\n",
       "      <td>exp(tanh(exp(x1)))</td>\n",
       "    </tr>\n",
       "    <tr>\n",
       "      <th>2</th>\n",
       "      <td>3</td>\n",
       "      <td>7</td>\n",
       "      <td>0.000736</td>\n",
       "      <td>2.310177e-07</td>\n",
       "      <td>x1/3.898687 - 1*(-0.52258795) + 1.4631194</td>\n",
       "    </tr>\n",
       "    <tr>\n",
       "      <th>3</th>\n",
       "      <td>0</td>\n",
       "      <td>1</td>\n",
       "      <td>0.604930</td>\n",
       "      <td>0.000000e+00</td>\n",
       "      <td>1.98299620000000</td>\n",
       "    </tr>\n",
       "  </tbody>\n",
       "</table>\n",
       "</div>"
      ],
      "text/plain": [
       "   Unnamed: 0  complexity      loss         score  \\\n",
       "0           2           5  0.000736  5.612687e+00   \n",
       "1           1           4  0.201541  3.663734e-01   \n",
       "2           3           7  0.000736  2.310177e-07   \n",
       "3           0           1  0.604930  0.000000e+00   \n",
       "\n",
       "                                sympy_format  \n",
       "0              x1/3.8986564 - 1*(-1.9857075)  \n",
       "1                         exp(tanh(exp(x1)))  \n",
       "2  x1/3.898687 - 1*(-0.52258795) + 1.4631194  \n",
       "3                           1.98299620000000  "
      ]
     },
     "execution_count": 18,
     "metadata": {},
     "output_type": "execute_result"
    }
   ],
   "source": [
    "pd.read_csv(\"saved_models_optuna/model-kuramoto-gkan/barbasi-albert/3/eval/black-box/top_5_equations_h.csv\")"
   ]
  },
  {
   "cell_type": "markdown",
   "metadata": {},
   "source": [
    "## PySR baseline "
   ]
  },
  {
   "cell_type": "code",
   "execution_count": 7,
   "metadata": {},
   "outputs": [],
   "source": [
    "def create_xy_from_time_series(data, batch_size=32, deriv=False):\n",
    "    data = data.cpu().detach().numpy()\n",
    "    ic_s, time_steps, n_nodes, _ = data.shape\n",
    "    \n",
    "    X, y = [], []\n",
    "    time_batches = np.arange(0, time_steps-1, step=batch_size)\n",
    "    \n",
    "    for i in range(ic_s):\n",
    "        data_i = data[i]\n",
    "        for t in time_batches:\n",
    "            if deriv:\n",
    "                X.append(np.repeat([t], repeats=n_nodes, axis=0))\n",
    "                y.append(data_i[t, :, :])\n",
    "            else:\n",
    "                X.append(data_i[t, :, :]) # x_t\n",
    "                y.append(data_i[t+1, :, :]) # x_{t+1}\n",
    "            \n",
    "    X = np.concatenate(X, axis=0)\n",
    "    y = np.concatenate(y, axis=0)\n",
    "    \n",
    "    return X, y\n",
    "\n",
    "def pysr_baseline(train_dataset):\n",
    "    X_train, y_train = create_xy_from_time_series(train_dataset.data)\n",
    "    model = get_pysr_model()\n",
    "    model.fit(X_train, y_train)\n",
    "    symb_model = model.sympy()\n",
    "    print(sp.simplify(symb_model))"
   ]
  },
  {
   "cell_type": "code",
   "execution_count": 8,
   "metadata": {},
   "outputs": [
    {
     "name": "stderr",
     "output_type": "stream",
     "text": [
      "/home/rcappi/Kan-for-Graph-Dyn/.venv/gkanconv-ode/lib/python3.9/site-packages/pysr/sr.py:2582: UserWarning: Note: it looks like you are running in Jupyter. The progress bar will be turned off.\n",
      "  warnings.warn(\n"
     ]
    },
    {
     "name": "stdout",
     "output_type": "stream",
     "text": [
      "Abs(x0 + 0.00668541230924163)\n"
     ]
    }
   ],
   "source": [
    "config_path = './configs/config_kuramoto.yml'\n",
    "config = load_config(config_path)\n",
    "config['device'] = 'cpu'\n",
    "\n",
    "t_f_train = int(0.8 * config['t_eval_steps'])\n",
    "G = nx.grid_2d_graph(7, 10)\n",
    "\n",
    "train_dataset, _ = create_datasets(config, G, t_f_train=t_f_train)\n",
    "\n",
    "pysr_baseline(train_dataset)"
   ]
  },
  {
   "cell_type": "markdown",
   "metadata": {},
   "source": [
    "Abs(x0 + 0.00668541230924163)"
   ]
  },
  {
   "cell_type": "markdown",
   "metadata": {},
   "source": [
    "## MPNN symb fitting"
   ]
  },
  {
   "cell_type": "markdown",
   "metadata": {},
   "source": [
    "Validation loss: 0.00044558296212926507"
   ]
  },
  {
   "cell_type": "code",
   "execution_count": 22,
   "metadata": {},
   "outputs": [
    {
     "name": "stderr",
     "output_type": "stream",
     "text": [
      "/home/rcappi/Kan-for-Graph-Dyn/.venv/gkanconv-ode/lib/python3.9/site-packages/pysr/sr.py:2582: UserWarning: Note: it looks like you are running in Jupyter. The progress bar will be turned off.\n",
      "  warnings.warn(\n",
      "/home/rcappi/Kan-for-Graph-Dyn/.venv/gkanconv-ode/lib/python3.9/site-packages/pysr/sr.py:2582: UserWarning: Note: it looks like you are running in Jupyter. The progress bar will be turned off.\n",
      "  warnings.warn(\n"
     ]
    }
   ],
   "source": [
    "pysr_model = lambda : get_pysr_model(\n",
    "    batching=True,\n",
    "    batch_size=512,\n",
    "    model_selection=\"score\"\n",
    ")\n",
    "\n",
    "symb_mpnn = fit_mpnn(\n",
    "    model_path='./saved_models_optuna/model-kuramoto-mpnn/barbasi-albert-mpnn/2/eval',\n",
    "    pysr_model=pysr_model\n",
    ")"
   ]
  },
  {
   "cell_type": "code",
   "execution_count": 23,
   "metadata": {},
   "outputs": [
    {
     "data": {
      "text/latex": [
       "$\\displaystyle 1.9861443 - 0.423580022102406 \\sum_{j}( -sin(x_i - x_j))$"
      ],
      "text/plain": [
       "1.9861443 - 0.423580022102406*\\sum_{j}( -sin(x_i - x_j))"
      ]
     },
     "execution_count": 23,
     "metadata": {},
     "output_type": "execute_result"
    }
   ],
   "source": [
    "symb_mpnn"
   ]
  },
  {
   "cell_type": "code",
   "execution_count": 24,
   "metadata": {},
   "outputs": [
    {
     "name": "stdout",
     "output_type": "stream",
     "text": [
      "Validation loss of black-box model: 0.011060720309615135\n"
     ]
    }
   ],
   "source": [
    "g_symb_bb_mpnn = lambda x: (-torch.sin(x[:, 0] - x[:, 1])).unsqueeze(-1)\n",
    "\n",
    "h_symb_bb_mpnn = lambda x: (-0.4236273 * x[:, 1] + 1.9857944).unsqueeze(-1)\n",
    "\n",
    "print(f\"Validation loss of black-box model: {get_symb_valid_loss(g_symb=g_symb_bb_mpnn, h_symb=h_symb_bb_mpnn)}\")"
   ]
  },
  {
   "cell_type": "markdown",
   "metadata": {},
   "source": [
    "### Top 5 equations"
   ]
  },
  {
   "cell_type": "markdown",
   "metadata": {},
   "source": [
    "#### G_Net"
   ]
  },
  {
   "cell_type": "code",
   "execution_count": 25,
   "metadata": {},
   "outputs": [
    {
     "data": {
      "text/html": [
       "<div>\n",
       "<style scoped>\n",
       "    .dataframe tbody tr th:only-of-type {\n",
       "        vertical-align: middle;\n",
       "    }\n",
       "\n",
       "    .dataframe tbody tr th {\n",
       "        vertical-align: top;\n",
       "    }\n",
       "\n",
       "    .dataframe thead th {\n",
       "        text-align: right;\n",
       "    }\n",
       "</style>\n",
       "<table border=\"1\" class=\"dataframe\">\n",
       "  <thead>\n",
       "    <tr style=\"text-align: right;\">\n",
       "      <th></th>\n",
       "      <th>Unnamed: 0</th>\n",
       "      <th>complexity</th>\n",
       "      <th>loss</th>\n",
       "      <th>score</th>\n",
       "      <th>equation</th>\n",
       "      <th>sympy_format</th>\n",
       "      <th>lambda_format</th>\n",
       "    </tr>\n",
       "  </thead>\n",
       "  <tbody>\n",
       "    <tr>\n",
       "      <th>0</th>\n",
       "      <td>2</td>\n",
       "      <td>4</td>\n",
       "      <td>0.012487</td>\n",
       "      <td>3.860966</td>\n",
       "      <td>sin(x1 - x0)</td>\n",
       "      <td>sin(-x0 + x1)</td>\n",
       "      <td>PySRFunction(X=&gt;sin(-x0 + x1))</td>\n",
       "    </tr>\n",
       "    <tr>\n",
       "      <th>1</th>\n",
       "      <td>3</td>\n",
       "      <td>6</td>\n",
       "      <td>0.002161</td>\n",
       "      <td>0.877002</td>\n",
       "      <td>sin(x1 - x0) / 0.8687563</td>\n",
       "      <td>sin(-x0 + x1)/0.8687563</td>\n",
       "      <td>PySRFunction(X=&gt;sin(-x0 + x1)/0.8687563)</td>\n",
       "    </tr>\n",
       "    <tr>\n",
       "      <th>2</th>\n",
       "      <td>1</td>\n",
       "      <td>3</td>\n",
       "      <td>0.593250</td>\n",
       "      <td>0.006596</td>\n",
       "      <td>exp(neg(x1))</td>\n",
       "      <td>exp(-x1)</td>\n",
       "      <td>PySRFunction(X=&gt;exp(-x1))</td>\n",
       "    </tr>\n",
       "    <tr>\n",
       "      <th>3</th>\n",
       "      <td>0</td>\n",
       "      <td>1</td>\n",
       "      <td>0.601128</td>\n",
       "      <td>0.000000</td>\n",
       "      <td>0.022401383</td>\n",
       "      <td>0.0224013830000000</td>\n",
       "      <td>PySRFunction(X=&gt;0.0224013830000000)</td>\n",
       "    </tr>\n",
       "  </tbody>\n",
       "</table>\n",
       "</div>"
      ],
      "text/plain": [
       "   Unnamed: 0  complexity      loss     score                  equation  \\\n",
       "0           2           4  0.012487  3.860966              sin(x1 - x0)   \n",
       "1           3           6  0.002161  0.877002  sin(x1 - x0) / 0.8687563   \n",
       "2           1           3  0.593250  0.006596              exp(neg(x1))   \n",
       "3           0           1  0.601128  0.000000               0.022401383   \n",
       "\n",
       "              sympy_format                             lambda_format  \n",
       "0            sin(-x0 + x1)            PySRFunction(X=>sin(-x0 + x1))  \n",
       "1  sin(-x0 + x1)/0.8687563  PySRFunction(X=>sin(-x0 + x1)/0.8687563)  \n",
       "2                 exp(-x1)                 PySRFunction(X=>exp(-x1))  \n",
       "3       0.0224013830000000       PySRFunction(X=>0.0224013830000000)  "
      ]
     },
     "execution_count": 25,
     "metadata": {},
     "output_type": "execute_result"
    }
   ],
   "source": [
    "pd.read_csv(\"saved_models_optuna/model-kuramoto-mpnn/barbasi-albert-mpnn/2/eval/top_5_equations_g.csv\")"
   ]
  },
  {
   "cell_type": "markdown",
   "metadata": {},
   "source": [
    "#### H_Net"
   ]
  },
  {
   "cell_type": "code",
   "execution_count": 26,
   "metadata": {},
   "outputs": [
    {
     "data": {
      "text/html": [
       "<div>\n",
       "<style scoped>\n",
       "    .dataframe tbody tr th:only-of-type {\n",
       "        vertical-align: middle;\n",
       "    }\n",
       "\n",
       "    .dataframe tbody tr th {\n",
       "        vertical-align: top;\n",
       "    }\n",
       "\n",
       "    .dataframe thead th {\n",
       "        text-align: right;\n",
       "    }\n",
       "</style>\n",
       "<table border=\"1\" class=\"dataframe\">\n",
       "  <thead>\n",
       "    <tr style=\"text-align: right;\">\n",
       "      <th></th>\n",
       "      <th>Unnamed: 0</th>\n",
       "      <th>complexity</th>\n",
       "      <th>loss</th>\n",
       "      <th>score</th>\n",
       "      <th>equation</th>\n",
       "      <th>sympy_format</th>\n",
       "      <th>lambda_format</th>\n",
       "    </tr>\n",
       "  </thead>\n",
       "  <tbody>\n",
       "    <tr>\n",
       "      <th>0</th>\n",
       "      <td>2</td>\n",
       "      <td>5</td>\n",
       "      <td>0.000800</td>\n",
       "      <td>5.335361</td>\n",
       "      <td>1.9861443 - (x1 / 2.360829)</td>\n",
       "      <td>1.9861443 - x1/2.360829</td>\n",
       "      <td>PySRFunction(X=&gt;1.9861443 - x1/2.360829)</td>\n",
       "    </tr>\n",
       "    <tr>\n",
       "      <th>1</th>\n",
       "      <td>1</td>\n",
       "      <td>4</td>\n",
       "      <td>0.166034</td>\n",
       "      <td>0.443357</td>\n",
       "      <td>1.9803509 - tanh(x1)</td>\n",
       "      <td>1.9803509 - tanh(x1)</td>\n",
       "      <td>PySRFunction(X=&gt;1.9803509 - tanh(x1))</td>\n",
       "    </tr>\n",
       "    <tr>\n",
       "      <th>2</th>\n",
       "      <td>0</td>\n",
       "      <td>1</td>\n",
       "      <td>0.627828</td>\n",
       "      <td>0.000000</td>\n",
       "      <td>1.9317006</td>\n",
       "      <td>1.93170060000000</td>\n",
       "      <td>PySRFunction(X=&gt;1.93170060000000)</td>\n",
       "    </tr>\n",
       "  </tbody>\n",
       "</table>\n",
       "</div>"
      ],
      "text/plain": [
       "   Unnamed: 0  complexity      loss     score                     equation  \\\n",
       "0           2           5  0.000800  5.335361  1.9861443 - (x1 / 2.360829)   \n",
       "1           1           4  0.166034  0.443357         1.9803509 - tanh(x1)   \n",
       "2           0           1  0.627828  0.000000                    1.9317006   \n",
       "\n",
       "              sympy_format                             lambda_format  \n",
       "0  1.9861443 - x1/2.360829  PySRFunction(X=>1.9861443 - x1/2.360829)  \n",
       "1     1.9803509 - tanh(x1)     PySRFunction(X=>1.9803509 - tanh(x1))  \n",
       "2         1.93170060000000         PySRFunction(X=>1.93170060000000)  "
      ]
     },
     "execution_count": 26,
     "metadata": {},
     "output_type": "execute_result"
    }
   ],
   "source": [
    "pd.read_csv(\"saved_models_optuna/model-kuramoto-mpnn/barbasi-albert-mpnn/2/eval/top_5_equations_h.csv\")"
   ]
  },
  {
   "cell_type": "markdown",
   "metadata": {},
   "source": [
    "## Validation loss lower bound"
   ]
  },
  {
   "cell_type": "code",
   "execution_count": 5,
   "metadata": {},
   "outputs": [
    {
     "name": "stdout",
     "output_type": "stream",
     "text": [
      "8.553109296371986e-07\n"
     ]
    }
   ],
   "source": [
    "g_symb = lambda x: torch.sin(x[:, 0] - x[:, 1]).unsqueeze(-1)\n",
    "\n",
    "h_symb = lambda x: 2.0 + 0.5*x[:, 1].unsqueeze(-1)\n",
    "\n",
    "print(get_symb_valid_loss(g_symb=g_symb, h_symb=h_symb))\n"
   ]
  },
  {
   "cell_type": "markdown",
   "metadata": {},
   "source": [
    "## Two steps symb fitting"
   ]
  },
  {
   "cell_type": "code",
   "execution_count": 6,
   "metadata": {},
   "outputs": [],
   "source": [
    "from pysr import TemplateExpressionSpec"
   ]
  },
  {
   "cell_type": "code",
   "execution_count": 7,
   "metadata": {},
   "outputs": [],
   "source": [
    "def two_steps_fitting(model_path, pysr_model, sample_size=-1, theta=0.1):\n",
    "    cache_acts, cache_preacts = get_kan_arch(n_layers=2, model_path=model_path)\n",
    "    pruned_acts, pruned_preacts = pruning(cache_acts, cache_preacts, theta=theta)\n",
    "\n",
    "    input = pruned_preacts[0]\n",
    "    output = pruned_acts[-1].sum(dim=2)\n",
    "\n",
    "    in_dim = input.size(1)\n",
    "    out_dim = output.size(1)\n",
    "\n",
    "    x = input.detach().numpy().reshape(-1, in_dim)\n",
    "    y = output.detach().numpy().reshape(-1, out_dim)\n",
    "\n",
    "    return fit_acts_pysr(x, y, pysr_model, sample_size=sample_size)"
   ]
  },
  {
   "cell_type": "markdown",
   "metadata": {},
   "source": [
    "### G_Net"
   ]
  },
  {
   "cell_type": "code",
   "execution_count": 8,
   "metadata": {},
   "outputs": [],
   "source": [
    "template = TemplateExpressionSpec(\n",
    "    expressions = [\"sp0\", \"sp1\", \"sp2\", \"f\"],\n",
    "    variable_names = [\"x0\", \"x1\"],\n",
    "    combine=\"\"\"\n",
    "        y0 = sp0(\n",
    "            2.2345679 + x0*(-1.6151466), \n",
    "            -x0, \n",
    "            x0^2*(-0.21327657), \n",
    "            x0*(-1.1673055), \n",
    "            -4.50097850000000 + x0 * 0\n",
    "        )\n",
    "        \n",
    "        y1 = sp1(\n",
    "            x1*1.5497605, \n",
    "            -(-1.620619)*x1 - 0.35484058, \n",
    "            -(-1.6206275)*(x1 - 0.13555971) - 0.13518651, \n",
    "            x1\n",
    "        )\n",
    "        \n",
    "        l1 = y0 + y1\n",
    "\n",
    "        kan = sp2(\n",
    "            sin(1.1280068 + l1*(-0.61936426)), \n",
    "            tan(sin(1.126569 - 0.62103647*l1)),\n",
    "            sin(abs(l1)), \n",
    "            sin(l1^2*(-0.054397393)), \n",
    "            -0.0318239960000000 + l1 * 0,\n",
    "        )\n",
    "\n",
    "        f(x0, x1, kan)\n",
    "    \"\"\"\n",
    ")\n",
    "\n",
    "pysr_model = lambda : get_pysr_model(\n",
    "    model_selection=\"score\",\n",
    "    precision=64,\n",
    "    expression_spec = template,\n",
    "    n_iterations=50\n",
    ")"
   ]
  },
  {
   "cell_type": "code",
   "execution_count": 9,
   "metadata": {},
   "outputs": [
    {
     "name": "stderr",
     "output_type": "stream",
     "text": [
      "/home/rcappi/.conda/envs/my_env/lib/python3.12/site-packages/pysr/sr.py:2774: UserWarning: Note: it looks like you are running in Jupyter. The progress bar will be turned off.\n",
      "  warnings.warn(\n"
     ]
    }
   ],
   "source": [
    "top_5_eq = two_steps_fitting(\n",
    "    model_path = f\"{model_path}/g_net\",\n",
    "    pysr_model = pysr_model,\n",
    "    sample_size = 2000,\n",
    "    theta=-np.inf\n",
    ")"
   ]
  },
  {
   "cell_type": "code",
   "execution_count": 10,
   "metadata": {},
   "outputs": [
    {
     "data": {
      "text/html": [
       "<div>\n",
       "<style scoped>\n",
       "    .dataframe tbody tr th:only-of-type {\n",
       "        vertical-align: middle;\n",
       "    }\n",
       "\n",
       "    .dataframe tbody tr th {\n",
       "        vertical-align: top;\n",
       "    }\n",
       "\n",
       "    .dataframe thead th {\n",
       "        text-align: right;\n",
       "    }\n",
       "</style>\n",
       "<table border=\"1\" class=\"dataframe\">\n",
       "  <thead>\n",
       "    <tr style=\"text-align: right;\">\n",
       "      <th></th>\n",
       "      <th>complexity</th>\n",
       "      <th>loss</th>\n",
       "      <th>equation</th>\n",
       "      <th>score</th>\n",
       "      <th>julia_expression</th>\n",
       "      <th>lambda_format</th>\n",
       "    </tr>\n",
       "  </thead>\n",
       "  <tbody>\n",
       "    <tr>\n",
       "      <th>1</th>\n",
       "      <td>6</td>\n",
       "      <td>0.003781</td>\n",
       "      <td>sp0 = #1; sp1 = #2; sp2 = #1 / 0.5117462544694...</td>\n",
       "      <td>1.928528</td>\n",
       "      <td>sp0 = #1; sp1 = #2; sp2 = #1 / 0.5117462544694...</td>\n",
       "      <td>&lt;pysr.expression_specs.CallableJuliaExpression...</td>\n",
       "    </tr>\n",
       "    <tr>\n",
       "      <th>2</th>\n",
       "      <td>7</td>\n",
       "      <td>0.003780</td>\n",
       "      <td>sp0 = #1; sp1 = abs(#2); sp2 = #1 / 0.51173203...</td>\n",
       "      <td>0.000134</td>\n",
       "      <td>sp0 = #1; sp1 = abs(#2); sp2 = #1 / 0.51173203...</td>\n",
       "      <td>&lt;pysr.expression_specs.CallableJuliaExpression...</td>\n",
       "    </tr>\n",
       "    <tr>\n",
       "      <th>0</th>\n",
       "      <td>4</td>\n",
       "      <td>0.178916</td>\n",
       "      <td>sp0 = #1; sp1 = #2; sp2 = #2; f = #3</td>\n",
       "      <td>0.000000</td>\n",
       "      <td>sp0 = #1; sp1 = #2; sp2 = #2; f = #3</td>\n",
       "      <td>&lt;pysr.expression_specs.CallableJuliaExpression...</td>\n",
       "    </tr>\n",
       "  </tbody>\n",
       "</table>\n",
       "</div>"
      ],
      "text/plain": [
       "   complexity      loss                                           equation  \\\n",
       "1           6  0.003781  sp0 = #1; sp1 = #2; sp2 = #1 / 0.5117462544694...   \n",
       "2           7  0.003780  sp0 = #1; sp1 = abs(#2); sp2 = #1 / 0.51173203...   \n",
       "0           4  0.178916               sp0 = #1; sp1 = #2; sp2 = #2; f = #3   \n",
       "\n",
       "      score                                   julia_expression  \\\n",
       "1  1.928528  sp0 = #1; sp1 = #2; sp2 = #1 / 0.5117462544694...   \n",
       "2  0.000134  sp0 = #1; sp1 = abs(#2); sp2 = #1 / 0.51173203...   \n",
       "0  0.000000               sp0 = #1; sp1 = #2; sp2 = #2; f = #3   \n",
       "\n",
       "                                       lambda_format  \n",
       "1  <pysr.expression_specs.CallableJuliaExpression...  \n",
       "2  <pysr.expression_specs.CallableJuliaExpression...  \n",
       "0  <pysr.expression_specs.CallableJuliaExpression...  "
      ]
     },
     "execution_count": 10,
     "metadata": {},
     "output_type": "execute_result"
    }
   ],
   "source": [
    "top_5_eq"
   ]
  },
  {
   "cell_type": "code",
   "execution_count": 11,
   "metadata": {},
   "outputs": [
    {
     "data": {
      "text/plain": [
       "'sp0 = #1; sp1 = #2; sp2 = #1 / 0.5117462544694338; f = #3'"
      ]
     },
     "execution_count": 11,
     "metadata": {},
     "output_type": "execute_result"
    }
   ],
   "source": [
    "top_5_eq.iloc[0]['equation']"
   ]
  },
  {
   "cell_type": "code",
   "execution_count": 17,
   "metadata": {},
   "outputs": [],
   "source": [
    "from sympy import *"
   ]
  },
  {
   "cell_type": "code",
   "execution_count": 13,
   "metadata": {},
   "outputs": [
    {
     "data": {
      "text/latex": [
       "$\\displaystyle - 1.95409344233848 \\sin{\\left(- 1.00036407870052 x_{0} + 1.00375348767694 x_{1} + 0.0362291205535832 \\right)}$"
      ],
      "text/plain": [
       "-1.95409344233848*sin(-1.00036407870052*x0 + 1.00375348767694*x1 + 0.0362291205535832)"
      ]
     },
     "execution_count": 13,
     "metadata": {},
     "output_type": "execute_result"
    }
   ],
   "source": [
    "x0, x1 = sp.symbols('x0 x1')\n",
    "\n",
    "y0 = sp.simplify(2.2345679 + x0*(-1.6151466))\n",
    "y1 = sp.simplify(-(-1.620619)*x1 - 0.35484058)\n",
    "l1 = y0 + y1\n",
    "\n",
    "kan = sp.simplify(sin(1.1280068 + l1*(-0.61936426)) / 0.5117462544694338)\n",
    "\n",
    "symb = kan\n",
    "\n",
    "symb"
   ]
  },
  {
   "cell_type": "markdown",
   "metadata": {},
   "source": [
    "### H_Net"
   ]
  },
  {
   "cell_type": "code",
   "execution_count": 17,
   "metadata": {},
   "outputs": [],
   "source": [
    "template = TemplateExpressionSpec(\n",
    "    expressions = [\"sp0\", \"sp1\", \"sp2\", \"f\"],\n",
    "    variable_names = [\"x0\", \"x1\"],\n",
    "    combine=\"\"\"\n",
    "        y0 = sp0(\n",
    "          1.7426635 + 0.08279874/exp(x0), \n",
    "          1.7450327 + 0.07666039/exp(x0^2),\n",
    "          1.7439795 + 0.012872707/x0,\n",
    "          1.74927950000000 + x0 * 0\n",
    "        )\n",
    "        \n",
    "        y1 = sp1(\n",
    "          x1*(-0.49171123) - 3.3291314,\n",
    "          -tanh(x1) - 3.328379,\n",
    "          (x1 - 1*(-6.652187))*(-0.4917136) - 1*0.058190662, \n",
    "          -3.31240530000000 + x1 * 0\n",
    "        )\n",
    "        \n",
    "        l1 = y0 + y1\n",
    "\n",
    "        kan = sp2(\n",
    "          1.2138287 + l1*(-0.48686087), \n",
    "          exp(tanh(-l1)),\n",
    "          l1*(-0.48686475) - 2.9819157, \n",
    "          1.96434890000000 + l1 * 0\n",
    "        )\n",
    "\n",
    "        f(x0, x1, kan)\n",
    "    \"\"\"\n",
    ")\n",
    "\n",
    "pysr_model = lambda : get_pysr_model(\n",
    "    model_selection=\"score\",\n",
    "    precision=64,\n",
    "    expression_spec = template,\n",
    "    n_iterations=50\n",
    ")"
   ]
  },
  {
   "cell_type": "code",
   "execution_count": 18,
   "metadata": {},
   "outputs": [
    {
     "name": "stderr",
     "output_type": "stream",
     "text": [
      "/home/rcappi/.conda/envs/my_env/lib/python3.12/site-packages/pysr/sr.py:2774: UserWarning: Note: it looks like you are running in Jupyter. The progress bar will be turned off.\n",
      "  warnings.warn(\n"
     ]
    }
   ],
   "source": [
    "top_5_eq = two_steps_fitting(\n",
    "    model_path = f'{model_path}/h_net',\n",
    "    pysr_model = pysr_model,\n",
    "    sample_size = 2000,\n",
    "    theta=-np.inf\n",
    ")"
   ]
  },
  {
   "cell_type": "code",
   "execution_count": 19,
   "metadata": {},
   "outputs": [
    {
     "data": {
      "text/html": [
       "<div>\n",
       "<style scoped>\n",
       "    .dataframe tbody tr th:only-of-type {\n",
       "        vertical-align: middle;\n",
       "    }\n",
       "\n",
       "    .dataframe tbody tr th {\n",
       "        vertical-align: top;\n",
       "    }\n",
       "\n",
       "    .dataframe thead th {\n",
       "        text-align: right;\n",
       "    }\n",
       "</style>\n",
       "<table border=\"1\" class=\"dataframe\">\n",
       "  <thead>\n",
       "    <tr style=\"text-align: right;\">\n",
       "      <th></th>\n",
       "      <th>complexity</th>\n",
       "      <th>loss</th>\n",
       "      <th>equation</th>\n",
       "      <th>score</th>\n",
       "      <th>julia_expression</th>\n",
       "      <th>lambda_format</th>\n",
       "    </tr>\n",
       "  </thead>\n",
       "  <tbody>\n",
       "    <tr>\n",
       "      <th>1</th>\n",
       "      <td>6</td>\n",
       "      <td>0.000650</td>\n",
       "      <td>sp0 = 1.9918875044001518; sp1 = #3 * 1.0746858...</td>\n",
       "      <td>0.801675</td>\n",
       "      <td>sp0 = 1.9918875044001518; sp1 = #3 * 1.0746858...</td>\n",
       "      <td>&lt;pysr.expression_specs.CallableJuliaExpression...</td>\n",
       "    </tr>\n",
       "    <tr>\n",
       "      <th>0</th>\n",
       "      <td>4</td>\n",
       "      <td>0.003229</td>\n",
       "      <td>sp0 = #2; sp1 = #3; sp2 = #1; f = #3</td>\n",
       "      <td>0.000000</td>\n",
       "      <td>sp0 = #2; sp1 = #3; sp2 = #1; f = #3</td>\n",
       "      <td>&lt;pysr.expression_specs.CallableJuliaExpression...</td>\n",
       "    </tr>\n",
       "  </tbody>\n",
       "</table>\n",
       "</div>"
      ],
      "text/plain": [
       "   complexity      loss                                           equation  \\\n",
       "1           6  0.000650  sp0 = 1.9918875044001518; sp1 = #3 * 1.0746858...   \n",
       "0           4  0.003229               sp0 = #2; sp1 = #3; sp2 = #1; f = #3   \n",
       "\n",
       "      score                                   julia_expression  \\\n",
       "1  0.801675  sp0 = 1.9918875044001518; sp1 = #3 * 1.0746858...   \n",
       "0  0.000000               sp0 = #2; sp1 = #3; sp2 = #1; f = #3   \n",
       "\n",
       "                                       lambda_format  \n",
       "1  <pysr.expression_specs.CallableJuliaExpression...  \n",
       "0  <pysr.expression_specs.CallableJuliaExpression...  "
      ]
     },
     "execution_count": 19,
     "metadata": {},
     "output_type": "execute_result"
    }
   ],
   "source": [
    "top_5_eq"
   ]
  },
  {
   "cell_type": "code",
   "execution_count": 20,
   "metadata": {},
   "outputs": [
    {
     "data": {
      "text/plain": [
       "'sp0 = 1.9918875044001518; sp1 = #3 * 1.074685803042384; sp2 = #1; f = #3'"
      ]
     },
     "execution_count": 20,
     "metadata": {},
     "output_type": "execute_result"
    }
   ],
   "source": [
    "top_5_eq.iloc[0]['equation']"
   ]
  },
  {
   "cell_type": "code",
   "execution_count": 23,
   "metadata": {},
   "outputs": [
    {
     "data": {
      "text/latex": [
       "$\\displaystyle 0.257275601888576 \\sum_{j}-1.95409344233848*sin(-1.00036407870052*x0 + 1.00375348767694*x1 + 0.0362291205535832) + 1.98594869258026$"
      ],
      "text/plain": [
       "0.257275601888576*\\sum_{j}-1.95409344233848*sin(-1.00036407870052*x0 + 1.00375348767694*x1 + 0.0362291205535832) + 1.98594869258026"
      ]
     },
     "execution_count": 23,
     "metadata": {},
     "output_type": "execute_result"
    }
   ],
   "source": [
    "symb_g =  sp.Symbol(r'\\sum_{j}' + str(symb))\n",
    "\n",
    "y0 = 1.9918875044001518\n",
    "y1 = sp.simplify(((symb_g - 1*(-6.652187))*(-0.4917136) - 1*0.058190662) * 1.074685803042384)\n",
    "\n",
    "l1 = y0 + y1\n",
    "\n",
    "kan = sp.simplify(1.2138287 + l1*(-0.48686087))\n",
    "\n",
    "symb_h = kan\n",
    "\n",
    "symb_h"
   ]
  },
  {
   "cell_type": "markdown",
   "metadata": {},
   "source": [
    "TODO: Calcolare la loss"
   ]
  },
  {
   "cell_type": "markdown",
   "metadata": {},
   "source": [
    "## IC = 1"
   ]
  },
  {
   "cell_type": "code",
   "execution_count": 2,
   "metadata": {},
   "outputs": [],
   "source": [
    "model_path_ic1 = './saved_models_optuna/model-kuramoto-gkan/barabasi-albert-ic1/2/eval'"
   ]
  },
  {
   "cell_type": "code",
   "execution_count": 3,
   "metadata": {},
   "outputs": [
    {
     "name": "stdout",
     "output_type": "stream",
     "text": [
      "Pruning node (0,1)\n"
     ]
    },
    {
     "name": "stderr",
     "output_type": "stream",
     "text": [
      "/home/rcappi/.conda/envs/my_env/lib/python3.12/site-packages/pysr/sr.py:2774: UserWarning: Note: it looks like you are running in Jupyter. The progress bar will be turned off.\n",
      "  warnings.warn(\n",
      "/home/rcappi/.conda/envs/my_env/lib/python3.12/site-packages/pysr/sr.py:2774: UserWarning: Note: it looks like you are running in Jupyter. The progress bar will be turned off.\n",
      "  warnings.warn(\n",
      "/home/rcappi/.conda/envs/my_env/lib/python3.12/site-packages/pysr/sr.py:2774: UserWarning: Note: it looks like you are running in Jupyter. The progress bar will be turned off.\n",
      "  warnings.warn(\n",
      "/home/rcappi/.conda/envs/my_env/lib/python3.12/site-packages/pysr/sr.py:2774: UserWarning: Note: it looks like you are running in Jupyter. The progress bar will be turned off.\n",
      "  warnings.warn(\n",
      "/home/rcappi/.conda/envs/my_env/lib/python3.12/site-packages/pysr/sr.py:2774: UserWarning: Note: it looks like you are running in Jupyter. The progress bar will be turned off.\n",
      "  warnings.warn(\n",
      "/home/rcappi/.conda/envs/my_env/lib/python3.12/site-packages/pysr/sr.py:2774: UserWarning: Note: it looks like you are running in Jupyter. The progress bar will be turned off.\n",
      "  warnings.warn(\n",
      "/home/rcappi/.conda/envs/my_env/lib/python3.12/site-packages/pysr/sr.py:2774: UserWarning: Note: it looks like you are running in Jupyter. The progress bar will be turned off.\n",
      "  warnings.warn(\n",
      "/home/rcappi/.conda/envs/my_env/lib/python3.12/site-packages/pysr/sr.py:2774: UserWarning: Note: it looks like you are running in Jupyter. The progress bar will be turned off.\n",
      "  warnings.warn(\n",
      "/home/rcappi/.conda/envs/my_env/lib/python3.12/site-packages/pysr/sr.py:2774: UserWarning: Note: it looks like you are running in Jupyter. The progress bar will be turned off.\n",
      "  warnings.warn(\n"
     ]
    }
   ],
   "source": [
    "pysr_model = lambda : get_pysr_model(\n",
    "    model_selection=\"score\"\n",
    ")\n",
    "\n",
    "symb_model = fit_model(\n",
    "    n_h_hidden_layers=2,\n",
    "    n_g_hidden_layers=2,\n",
    "    model_path=model_path_ic1,\n",
    "    theta=0.1,\n",
    "    pysr_model=pysr_model,\n",
    "    sample_size=2500\n",
    ")"
   ]
  },
  {
   "cell_type": "code",
   "execution_count": 4,
   "metadata": {},
   "outputs": [
    {
     "data": {
      "text/latex": [
       "$\\displaystyle 0.383949426507205 \\left(- 0.0937474272632141 \\sum_{j}( sin(-x_i + Abs(x_j - 2.3984098) + 2.546883)) + 0.599798440974292 \\tanh{\\left(x_{i} - 1.7176079 \\right)} + 1\\right)^{3} + \\tan{\\left(\\sin{\\left(0.203663058880884 \\sum_{j}( sin(-x_i + Abs(x_j - 2.3984098) + 2.546883)) + 2.72102521170864 - 3.98574029432203 e^{- x_{i}} \\right)} \\right)}$"
      ],
      "text/plain": [
       "0.383949426507205*(-0.0937474272632141*\\sum_{j}( sin(-x_i + Abs(x_j - 2.3984098) + 2.546883)) + 0.599798440974292*tanh(x_i - 1.7176079) + 1)**3 + tan(sin(0.203663058880884*\\sum_{j}( sin(-x_i + Abs(x_j - 2.3984098) + 2.546883)) + 2.72102521170864 - 3.98574029432203*exp(-x_i)))"
      ]
     },
     "execution_count": 4,
     "metadata": {},
     "output_type": "execute_result"
    }
   ],
   "source": [
    "sp.simplify(symb_model)"
   ]
  },
  {
   "cell_type": "markdown",
   "metadata": {},
   "source": [
    "### Black box fitting"
   ]
  },
  {
   "cell_type": "code",
   "execution_count": 5,
   "metadata": {},
   "outputs": [
    {
     "name": "stderr",
     "output_type": "stream",
     "text": [
      "/home/rcappi/.conda/envs/my_env/lib/python3.12/site-packages/pysr/sr.py:2774: UserWarning: Note: it looks like you are running in Jupyter. The progress bar will be turned off.\n",
      "  warnings.warn(\n",
      "/home/rcappi/.conda/envs/my_env/lib/python3.12/site-packages/pysr/sr.py:2774: UserWarning: Note: it looks like you are running in Jupyter. The progress bar will be turned off.\n",
      "  warnings.warn(\n"
     ]
    }
   ],
   "source": [
    "pysr_model = lambda : get_pysr_model(\n",
    "    model_selection=\"score\"\n",
    ")\n",
    "\n",
    "\n",
    "symb_model_black_box = fit_black_box_from_kan(\n",
    "    model_path=model_path_ic1,\n",
    "    n_g_hidden_layers=2,\n",
    "    n_h_hidden_layers=2,\n",
    "    theta=-np.inf,\n",
    "    pysr_model=pysr_model,\n",
    "    sample_size=2500\n",
    ")"
   ]
  },
  {
   "cell_type": "code",
   "execution_count": 6,
   "metadata": {},
   "outputs": [
    {
     "data": {
      "text/latex": [
       "$\\displaystyle - 0.093395285 \\sum_{j}( -sin(x_i - x_j)) x_{i} + 1.8489553$"
      ],
      "text/plain": [
       "-0.093395285*\\sum_{j}( -sin(x_i - x_j))*x_i + 1.8489553"
      ]
     },
     "execution_count": 6,
     "metadata": {},
     "output_type": "execute_result"
    }
   ],
   "source": [
    "sp.simplify(symb_model_black_box)"
   ]
  },
  {
   "cell_type": "markdown",
   "metadata": {},
   "source": [
    "## Epidemics"
   ]
  },
  {
   "cell_type": "code",
   "execution_count": 4,
   "metadata": {},
   "outputs": [],
   "source": [
    "model_path = './saved_models_optuna/model-epidemics-gkan/epidemics-fixed-3/1/gkan'"
   ]
  },
  {
   "cell_type": "code",
   "execution_count": 15,
   "metadata": {},
   "outputs": [
    {
     "name": "stderr",
     "output_type": "stream",
     "text": [
      "/home/rcappi/.conda/envs/my_env/lib/python3.12/site-packages/pysr/sr.py:2774: UserWarning: Note: it looks like you are running in Jupyter. The progress bar will be turned off.\n",
      "  warnings.warn(\n",
      "/home/rcappi/.conda/envs/my_env/lib/python3.12/site-packages/pysr/sr.py:2774: UserWarning: Note: it looks like you are running in Jupyter. The progress bar will be turned off.\n",
      "  warnings.warn(\n"
     ]
    }
   ],
   "source": [
    "pysr_model = lambda : get_pysr_model(\n",
    "    model_selection=\"score\"\n",
    ")\n",
    "\n",
    "symb_model_black_box = fit_black_box_from_kan(\n",
    "    model_path=model_path,\n",
    "    n_g_hidden_layers=2,\n",
    "    n_h_hidden_layers=2,\n",
    "    theta=-np.inf,\n",
    "    pysr_model=pysr_model,\n",
    "    sample_size=7000,\n",
    "    message_passing=False\n",
    ")"
   ]
  },
  {
   "cell_type": "code",
   "execution_count": 16,
   "metadata": {},
   "outputs": [
    {
     "data": {
      "text/latex": [
       "$\\displaystyle \\sum_{j}( x_i*(0.50289035 - 0.5045943*x_j)) - 0.49474376 x_{i}$"
      ],
      "text/plain": [
       "\\sum_{j}( x_i*(0.50289035 - 0.5045943*x_j)) - 0.49474376*x_i"
      ]
     },
     "execution_count": 16,
     "metadata": {},
     "output_type": "execute_result"
    }
   ],
   "source": [
    "symb_model_black_box"
   ]
  },
  {
   "cell_type": "markdown",
   "metadata": {},
   "source": [
    "## Spline-wise"
   ]
  },
  {
   "cell_type": "code",
   "execution_count": 5,
   "metadata": {},
   "outputs": [
    {
     "name": "stderr",
     "output_type": "stream",
     "text": [
      "/home/rcappi/.conda/envs/my_env/lib/python3.12/site-packages/pysr/sr.py:2774: UserWarning: Note: it looks like you are running in Jupyter. The progress bar will be turned off.\n",
      "  warnings.warn(\n",
      "/home/rcappi/.conda/envs/my_env/lib/python3.12/site-packages/pysr/sr.py:2774: UserWarning: Note: it looks like you are running in Jupyter. The progress bar will be turned off.\n",
      "  warnings.warn(\n",
      "/home/rcappi/.conda/envs/my_env/lib/python3.12/site-packages/pysr/sr.py:2774: UserWarning: Note: it looks like you are running in Jupyter. The progress bar will be turned off.\n",
      "  warnings.warn(\n",
      "/home/rcappi/.conda/envs/my_env/lib/python3.12/site-packages/pysr/sr.py:2774: UserWarning: Note: it looks like you are running in Jupyter. The progress bar will be turned off.\n",
      "  warnings.warn(\n",
      "/home/rcappi/.conda/envs/my_env/lib/python3.12/site-packages/pysr/sr.py:2774: UserWarning: Note: it looks like you are running in Jupyter. The progress bar will be turned off.\n",
      "  warnings.warn(\n",
      "/home/rcappi/.conda/envs/my_env/lib/python3.12/site-packages/pysr/sr.py:2774: UserWarning: Note: it looks like you are running in Jupyter. The progress bar will be turned off.\n",
      "  warnings.warn(\n",
      "/home/rcappi/.conda/envs/my_env/lib/python3.12/site-packages/pysr/sr.py:2774: UserWarning: Note: it looks like you are running in Jupyter. The progress bar will be turned off.\n",
      "  warnings.warn(\n",
      "/home/rcappi/.conda/envs/my_env/lib/python3.12/site-packages/pysr/sr.py:2774: UserWarning: Note: it looks like you are running in Jupyter. The progress bar will be turned off.\n",
      "  warnings.warn(\n"
     ]
    }
   ],
   "source": [
    "pysr_model = lambda : get_pysr_model(\n",
    "    model_selection=\"score\"\n",
    ")\n",
    "\n",
    "symb_model = fit_model(\n",
    "    n_h_hidden_layers=2,\n",
    "    n_g_hidden_layers=2,\n",
    "    model_path=model_path,\n",
    "    theta=0.01,\n",
    "    pysr_model=pysr_model,\n",
    "    sample_size=7000,\n",
    "    message_passing=False\n",
    ")"
   ]
  },
  {
   "cell_type": "code",
   "execution_count": 6,
   "metadata": {},
   "outputs": [
    {
     "data": {
      "text/latex": [
       "$\\displaystyle \\sum_{j}( -0.26952615*(x_j - 0.27433524)**3 + (0.5149971*x_i - log(x_j + 1) + 0.4566862)**3 + 0.0276228898794936*sin(2.210681*x_i) + 0.062099602) + \\log{\\left(1 - 0.345992231851609 x_{i} \\right)} - 0.066259734$"
      ],
      "text/plain": [
       "\\sum_{j}( -0.26952615*(x_j - 0.27433524)**3 + (0.5149971*x_i - log(x_j + 1) + 0.4566862)**3 + 0.0276228898794936*sin(2.210681*x_i) + 0.062099602) + log(1 - 0.345992231851609*x_i) - 0.066259734"
      ]
     },
     "execution_count": 6,
     "metadata": {},
     "output_type": "execute_result"
    }
   ],
   "source": [
    "symb_model"
   ]
  },
  {
   "cell_type": "markdown",
   "metadata": {},
   "source": [
    "## Two steps"
   ]
  },
  {
   "cell_type": "markdown",
   "metadata": {},
   "source": [
    "### G_Net"
   ]
  },
  {
   "cell_type": "code",
   "execution_count": 27,
   "metadata": {},
   "outputs": [],
   "source": [
    "julia_code = \"\"\"\n",
    "    y0 = sp0(\n",
    "        x0*0.38165793,\n",
    "        tan(x0*0.37040955),\n",
    "        0.269087760000000 + x0*0\n",
    "    )\n",
    "    \n",
    "    y1 = sp1(\n",
    "        tan(x1)*(-0.10868067),\n",
    "        (x1 + x1)*(-0.071464434),\n",
    "        -0.101634960000000 + x1*0\n",
    "    )\n",
    "    n0 = y0 + y1\n",
    "    \n",
    "    \n",
    "    y2 = sp2(\n",
    "        0.00758783071915381 + x0*0,\n",
    "        0.00545692074538671 + x0*0,\n",
    "        0.0586319160000000 + x0*0\n",
    "    )\n",
    "    \n",
    "    y3 = sp3(\n",
    "        x1*(x1^3 - x1),\n",
    "        (x1^9 - x1)*0.3977244,\n",
    "        x1*(x1 - 1.0819764),\n",
    "        -0.215150550000000 + x1*0\n",
    "    )\n",
    "    n1 = y2 + y3\n",
    "    \n",
    "    y4 = sp4(\n",
    "        x0/18.808764,\n",
    "        0.08034914*abs(tanh(x0 - 0.22721611)),\n",
    "        0.0362873520000000 + x0*0\n",
    "    )\n",
    "    \n",
    "    y5 = sp5(\n",
    "        tan(x1*(-0.35263544)),\n",
    "        tan(tan(x1*(-0.56243384)))*0.547288,\n",
    "        -0.257088000000000 + x1*0\n",
    "    )\n",
    "    n2 = y4 + y5\n",
    "    \n",
    "    \n",
    "    y6 = sp6(\n",
    "        n0*(-0.1515363),\n",
    "        0 + n0 * 0,\n",
    "        -0.732307140000000 + n0*0\n",
    "    )\n",
    "    \n",
    "    y7 = sp7(\n",
    "        -0.0192912970000000 + n1*0\n",
    "    )\n",
    "    \n",
    "    y8 = sp8(\n",
    "        abs(n2 - tanh(n2)),\n",
    "        0 - 1*(-0.0028113788) + n2*0,\n",
    "        0.0 + n2*0\n",
    "    )\n",
    "    \n",
    "    \n",
    "    kan = y6 + y7 + y8\n",
    "    \n",
    "    f(x0, x1, kan)\n",
    "\"\"\"\n",
    "\n",
    "template = TemplateExpressionSpec(\n",
    "    expressions = [\"sp0\", \"sp1\", \"sp2\", \"sp3\", \"sp4\", \"sp5\", \"sp6\", \"sp7\", \"sp8\", \"f\"],\n",
    "    variable_names = [\"x0\", \"x1\"],\n",
    "    combine=julia_code\n",
    ")\n",
    "\n",
    "pysr_model = lambda : get_pysr_model(\n",
    "    model_selection=\"score\",\n",
    "    precision=64,\n",
    "    expression_spec = template,\n",
    "    n_iterations=100\n",
    ")"
   ]
  },
  {
   "cell_type": "code",
   "execution_count": 28,
   "metadata": {},
   "outputs": [
    {
     "name": "stderr",
     "output_type": "stream",
     "text": [
      "/home/rcappi/.conda/envs/my_env/lib/python3.12/site-packages/pysr/sr.py:2774: UserWarning: Note: it looks like you are running in Jupyter. The progress bar will be turned off.\n",
      "  warnings.warn(\n"
     ]
    }
   ],
   "source": [
    "top_5_eq = two_steps_fitting(\n",
    "    model_path = f\"{model_path}/g_net\",\n",
    "    pysr_model = pysr_model,\n",
    "    sample_size = 2500,\n",
    "    theta=-np.inf\n",
    ")"
   ]
  },
  {
   "cell_type": "code",
   "execution_count": 29,
   "metadata": {},
   "outputs": [
    {
     "data": {
      "text/html": [
       "<div>\n",
       "<style scoped>\n",
       "    .dataframe tbody tr th:only-of-type {\n",
       "        vertical-align: middle;\n",
       "    }\n",
       "\n",
       "    .dataframe tbody tr th {\n",
       "        vertical-align: top;\n",
       "    }\n",
       "\n",
       "    .dataframe thead th {\n",
       "        text-align: right;\n",
       "    }\n",
       "</style>\n",
       "<table border=\"1\" class=\"dataframe\">\n",
       "  <thead>\n",
       "    <tr style=\"text-align: right;\">\n",
       "      <th></th>\n",
       "      <th>complexity</th>\n",
       "      <th>loss</th>\n",
       "      <th>equation</th>\n",
       "      <th>score</th>\n",
       "      <th>julia_expression</th>\n",
       "      <th>lambda_format</th>\n",
       "    </tr>\n",
       "  </thead>\n",
       "  <tbody>\n",
       "  </tbody>\n",
       "</table>\n",
       "</div>"
      ],
      "text/plain": [
       "Empty DataFrame\n",
       "Columns: [complexity, loss, equation, score, julia_expression, lambda_format]\n",
       "Index: []"
      ]
     },
     "execution_count": 29,
     "metadata": {},
     "output_type": "execute_result"
    }
   ],
   "source": [
    "top_5_eq"
   ]
  },
  {
   "cell_type": "code",
   "execution_count": 18,
   "metadata": {},
   "outputs": [
    {
     "data": {
      "text/latex": [
       "$\\displaystyle 0.02232203331136 \\left(\\sin^{3}{\\left(1.51821923814544 x_{1}^{3} \\right)} + 0.0243266340080262\\right)^{2} - \\tan{\\left(0.14635544 \\tanh{\\left(x_{1} \\sin{\\left(x_{1} - 0.9220614 \\right)} + \\sin{\\left(0.6257177 \\tan{\\left(x_{0} - 0.033712227 \\right)} \\right)} + 0.16927527 \\right)} \\right)}$"
      ],
      "text/plain": [
       "0.02232203331136*(sin(1.51821923814544*x1**3)**3 + 0.0243266340080262)**2 - tan(0.14635544*tanh(x1*sin(x1 - 0.9220614) + sin(0.6257177*tan(x0 - 0.033712227)) + 0.16927527))"
      ]
     },
     "execution_count": 18,
     "metadata": {},
     "output_type": "execute_result"
    }
   ],
   "source": [
    "x0, x1 = sp.symbols('x0 x1')\n",
    "\n",
    "y0 = -0.02432663400802618\n",
    "y1 = sp.simplify( sin(x1**3/(-0.6586664))**3)\n",
    "n0 = y0 + y1\n",
    "\n",
    "y2 = sp.simplify(sin(tan(0.033712227 - x0)*0.6257177))\n",
    "y3 = sp.simplify(x1*sin(0.9220614 - x1))\n",
    "n1 = y2 + y3\n",
    "\n",
    "y4 = sp.simplify((0.1494056*n0 - 1*0)**2)\n",
    "y5 = sp.simplify(tan(tanh(0.16927527 - n1)*(-0.14635544)))\n",
    "\n",
    "kan = y4 + y5\n",
    "kan_g = kan\n",
    "\n",
    "kan_g"
   ]
  }
 ],
 "metadata": {
  "kernelspec": {
   "display_name": "Python 3",
   "language": "python",
   "name": "python3"
  },
  "language_info": {
   "codemirror_mode": {
    "name": "ipython",
    "version": 3
   },
   "file_extension": ".py",
   "mimetype": "text/x-python",
   "name": "python",
   "nbconvert_exporter": "python",
   "pygments_lexer": "ipython3",
   "version": "3.12.0"
  }
 },
 "nbformat": 4,
 "nbformat_minor": 2
}
