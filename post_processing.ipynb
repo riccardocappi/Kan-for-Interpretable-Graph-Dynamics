{
 "cells": [
  {
   "cell_type": "markdown",
   "metadata": {},
   "source": [
    "## Dynamics\n",
    "\n",
    "Dynamics | $\\partial_{\\tau}x_i=$ |\n",
    "| :--------: | :-------: |\n",
    "Biochemical | $F -B x_i - R \\sum_j A_{ij} x_i x_j$ |\n",
    "Epidemics | $-B x_i + R \\sum_j A_{ij} (1-x_i)x_j$ |\n",
    "Population | $-B x_i^{b} + R \\sum_j A_{ij} x_j^a$ |\n",
    "Synchronization | $\\omega_i + R \\sum_j A_{ij} \\sin(x_j-x_i)$ |"
   ]
  },
  {
   "cell_type": "code",
   "execution_count": 1,
   "metadata": {},
   "outputs": [],
   "source": [
    "%load_ext autoreload\n",
    "%autoreload 2"
   ]
  },
  {
   "cell_type": "markdown",
   "metadata": {},
   "source": [
    "## Importing"
   ]
  },
  {
   "cell_type": "code",
   "execution_count": 2,
   "metadata": {},
   "outputs": [],
   "source": [
    "import os\n",
    "os.environ[\"CUBLAS_WORKSPACE_CONFIG\"] = \":4096:8\""
   ]
  },
  {
   "cell_type": "code",
   "execution_count": 3,
   "metadata": {},
   "outputs": [
    {
     "name": "stdout",
     "output_type": "stream",
     "text": [
      "Detected IPython. Loading juliacall extension. See https://juliapy.github.io/PythonCall.jl/stable/compat/#IPython\n"
     ]
    }
   ],
   "source": [
    "from utils.utils import *\n",
    "import optuna\n",
    "from optuna.storages import JournalStorage\n",
    "from optuna.storages.journal import JournalFileBackend\n",
    "from experiments.experiments_gkan import ExperimentsGKAN\n",
    "from experiments.experiments_mpnn import ExperimentsMPNN\n",
    "from train_and_eval import eval_model\n",
    "import sympytorch\n",
    "\n",
    "storage = JournalStorage(JournalFileBackend(\"optuna_journal_storage.log\"))"
   ]
  },
  {
   "cell_type": "code",
   "execution_count": 4,
   "metadata": {},
   "outputs": [],
   "source": [
    "import random\n",
    "\n",
    "def set_pytorch_seed(seed=42):\n",
    "    torch.manual_seed(seed)\n",
    "    torch.cuda.manual_seed_all(seed)\n",
    "    torch.backends.cudnn.deterministic = True\n",
    "    torch.backends.cudnn.benchmark = False\n",
    "    np.random.seed(seed)\n",
    "    random.seed(seed)\n",
    "    torch.use_deterministic_algorithms(True)\n",
    "set_pytorch_seed(0)"
   ]
  },
  {
   "cell_type": "code",
   "execution_count": 5,
   "metadata": {},
   "outputs": [],
   "source": [
    "# config = load_config(\"./configs/config_pred_deriv/config_real_epid_mpnn.yml\")\n",
    "# config['patience'] = 450\n",
    "# exp = ExperimentsMPNN(\n",
    "#     config=config,\n",
    "#     n_trials=3,\n",
    "#     study_name=\"test_mult_2\"\n",
    "# )"
   ]
  },
  {
   "cell_type": "code",
   "execution_count": 6,
   "metadata": {},
   "outputs": [],
   "source": [
    "# exp.run()"
   ]
  },
  {
   "cell_type": "code",
   "execution_count": 7,
   "metadata": {},
   "outputs": [],
   "source": [
    "# config = load_config(\"./configs/config_pred_deriv/config_ic1/config_population.yml\")\n",
    "# # config['t_span'] = [0, 1]\n",
    "# exp = ExperimentsGKAN(\n",
    "#     config=config,\n",
    "#     n_trials=1,\n",
    "#     study_name=\"test_mult_10\",\n",
    "#     snr_db=20\n",
    "# )"
   ]
  },
  {
   "cell_type": "code",
   "execution_count": 8,
   "metadata": {},
   "outputs": [],
   "source": [
    "# data = exp.training_set.raw_data_sampled[0].detach().cpu().numpy()\n",
    "# plt.plot(data[:, 30, :])"
   ]
  },
  {
   "cell_type": "code",
   "execution_count": 9,
   "metadata": {},
   "outputs": [],
   "source": [
    "# exp.training_set[0].y"
   ]
  },
  {
   "cell_type": "code",
   "execution_count": 10,
   "metadata": {},
   "outputs": [],
   "source": [
    "# exp.epochs = 10\n",
    "# exp.run()"
   ]
  },
  {
   "cell_type": "code",
   "execution_count": 11,
   "metadata": {},
   "outputs": [],
   "source": [
    "# config_pop = load_config(\"./configs/config_pred_deriv/config_ic1/config_population_mpnn.yml\")\n",
    "# # config_pop[\"t_eval_steps\"] = 1000\n",
    "# # config_pop[\"t_span\"] = [0, 10]\n",
    "\n",
    "# exp = ExperimentsMPNN(\n",
    "#     config=config_pop,\n",
    "#     n_trials=1,\n",
    "#     study_name='test_mult_3'\n",
    "# )"
   ]
  },
  {
   "cell_type": "code",
   "execution_count": 12,
   "metadata": {},
   "outputs": [],
   "source": [
    "# data = exp.training_set.raw_data_sampled[0].detach().cpu().numpy()\n",
    "# plt.plot(data[:, 6, :])"
   ]
  },
  {
   "cell_type": "code",
   "execution_count": 13,
   "metadata": {},
   "outputs": [],
   "source": [
    "# exp.training_set.raw_data_sampled.min()"
   ]
  },
  {
   "cell_type": "code",
   "execution_count": 14,
   "metadata": {},
   "outputs": [],
   "source": [
    "# exp.epochs = 10\n",
    "# exp.run()"
   ]
  },
  {
   "cell_type": "markdown",
   "metadata": {},
   "source": [
    "## Utils"
   ]
  },
  {
   "cell_type": "code",
   "execution_count": 5,
   "metadata": {},
   "outputs": [],
   "source": [
    "from models.utils.MPNN import MPNN\n",
    "from models.baseline.MPNN_ODE import MPNN_ODE\n",
    "from train_and_eval import eval_model\n",
    "from datasets.SyntheticData import SyntheticData\n",
    "from sympy import symbols, sin, summation, simplify\n",
    "import networkx as nx\n",
    "from torch_geometric.utils import from_networkx\n",
    "from utils.utils import integrate\n",
    "from torch_geometric.data import Data\n",
    "from models.kan.KAN import KAN\n",
    "from models.GKAN_ODE import GKAN_ODE\n",
    "\n",
    "import optuna\n",
    "\n",
    "import warnings\n",
    "warnings.filterwarnings(\"ignore\")"
   ]
  },
  {
   "cell_type": "code",
   "execution_count": 28,
   "metadata": {},
   "outputs": [],
   "source": [
    "from sympy import latex\n",
    "from torch.utils.data import DataLoader\n",
    "\n",
    "def get_model(g, h, message_passing=True, include_time=False, atol=1e-5, rtol=1e-5, integration_method = 'scipy_solver'):\n",
    "    conv = MPNN(\n",
    "        g_net = g,\n",
    "        h_net = h, \n",
    "        message_passing=message_passing,\n",
    "        include_time=include_time\n",
    "    )\n",
    "    \n",
    "    symb = MPNN_ODE(\n",
    "        conv=conv,\n",
    "        model_path=\"./saved_models_optuna/tmp_symb\",\n",
    "        adjoint=True,\n",
    "        integration_method=integration_method,\n",
    "        atol=atol,\n",
    "        rtol=rtol\n",
    "    )\n",
    "    \n",
    "    symb = symb.eval()\n",
    "    return symb\n",
    "\n",
    "\n",
    "def make_callable(expr):\n",
    "    free_syms = expr.free_symbols\n",
    "    if not free_syms:\n",
    "        # Expression is constant\n",
    "        const_value = float(expr)\n",
    "        return lambda x: torch.full((x.shape[0], 1), const_value, dtype=x.dtype, device=x.device)\n",
    "\n",
    "    sym_module = sympytorch.SymPyModule(expressions=[expr])\n",
    "    syms = {str(s) for s in free_syms}\n",
    "    if {'x_i', 'x_j'} <= syms:\n",
    "        return lambda x: sym_module(x_i=x[:, 0], x_j=x[:, 1])\n",
    "    elif 'x_i' in syms:\n",
    "        return lambda x: sym_module(x_i=x[:, 0])\n",
    "    elif 'x_j' in syms:\n",
    "        return lambda x: sym_module(x_j=x[:, 1])\n",
    "    else:\n",
    "        raise ValueError(f\"Unexpected symbols in expression: {free_syms}\")\n",
    "\n",
    "\n",
    "def get_symb_test_error(g_symb, h_symb, test_set, message_passing=False, include_time=False, atol=1e-5, rtol=1e-5, scaler = None, inverse_scale=False, method='scipy_solver', \n",
    "                        is_symb = True):\n",
    "    \n",
    "    if is_symb:\n",
    "        if isinstance(g_symb, int):\n",
    "            g_symb = sp.sympify(g_symb)\n",
    "            \n",
    "        if isinstance(h_symb, int):\n",
    "            h_symb = sp.sympify(h_symb)\n",
    "\n",
    "        g_symb = make_callable(g_symb)\n",
    "        h_symb = make_callable(h_symb)\n",
    "    \n",
    "    test_losses = []\n",
    "    \n",
    "    for ts in test_set:\n",
    "        symb = get_model(\n",
    "            g=g_symb,\n",
    "            h=h_symb,\n",
    "            message_passing=message_passing,\n",
    "            include_time=include_time,\n",
    "            atol=atol,\n",
    "            rtol=rtol,\n",
    "            integration_method=method\n",
    "        )\n",
    "        \n",
    "        collate_fn = lambda samples_list: samples_list\n",
    "        test_loader = DataLoader(ts, batch_size=len(ts), shuffle=True, collate_fn=collate_fn)\n",
    "        \n",
    "        test_loss = eval_model(\n",
    "            model=symb,\n",
    "            valid_loader=test_loader,\n",
    "            criterion=torch.nn.L1Loss(),\n",
    "            scaler=scaler,\n",
    "            inverse_scale=inverse_scale,\n",
    "            pred_deriv=False\n",
    "        )\n",
    "        \n",
    "        test_losses.append(test_loss)\n",
    "    \n",
    "    return test_losses\n",
    "\n",
    "\n",
    "\n",
    "def get_test_set(dynamics, device='cuda', input_range=(0, 1), t_span = (0, 1), **integration_kwargs):\n",
    "    seeds = [12345, 67890, 111213]\n",
    "    \n",
    "    graphs = [\n",
    "        nx.barabasi_albert_graph(70, 3, seed=seeds[0]),      \n",
    "        nx.watts_strogatz_graph(50, 6, 0.3, seed=seeds[1]),  \n",
    "        nx.erdos_renyi_graph(100, 0.05, seed=seeds[2])        \n",
    "    ]\n",
    "    \n",
    "    test_set = []\n",
    "    for i, graph in enumerate(graphs):\n",
    "        snapshots = integrate_test_set(\n",
    "            graph=graph,\n",
    "            dynamics=dynamics,\n",
    "            seed=seeds[i],\n",
    "            device=device,\n",
    "            input_range=input_range,\n",
    "            t_span=t_span,\n",
    "            **integration_kwargs\n",
    "        )\n",
    "        test_set.append(snapshots)\n",
    "    \n",
    "    return test_set\n",
    "    \n",
    "\n",
    "\n",
    "def integrate_test_set(graph, dynamics, seed=12345, device='cuda', input_range = (0, 1), t_span = (0, 1), **integration_kwargs):\n",
    "    # graph = nx.barabasi_albert_graph(100, 3, seed=seed)\n",
    "    edge_index = from_networkx(graph).edge_index\n",
    "    edge_index = edge_index.to(torch.device(device))\n",
    "    rng = np.random.default_rng(seed=seed)\n",
    "    \n",
    "    data, t = integrate(\n",
    "        input_range=input_range,\n",
    "        t_span = t_span,\n",
    "        t_eval_steps=1000,\n",
    "        dynamics=dynamics,\n",
    "        device=device,\n",
    "        graph=graph,\n",
    "        rng = rng,\n",
    "        **integration_kwargs\n",
    "    )\n",
    "    \n",
    "    snapshot = Data(\n",
    "        x = data[0].unsqueeze(0),\n",
    "        y = data[1:],\n",
    "        edge_index=edge_index,\n",
    "        edge_attr=None,\n",
    "        t_span = t\n",
    "    )\n",
    "    \n",
    "    return [snapshot]\n",
    "\n",
    "\n",
    "def build_model_from_file(model_path, message_passing, include_time, method='dopri5', adjoint=False, atol=1e-5, rtol=1e-5):\n",
    "    best_params_file = f\"{model_path}/best_params.json\"\n",
    "    best_state_path = f\"{model_path}/gkan/state_dict.pth\"\n",
    "    \n",
    "    with open(best_params_file, 'r') as f:\n",
    "        best_hyperparams = json.load(f)\n",
    "    \n",
    "    # g_net\n",
    "    g_net = KAN(\n",
    "        layers_hidden=[2, best_hyperparams['hidden_dim_g_net'], 1],\n",
    "        grid_size=best_hyperparams['grid_size_g_net'],\n",
    "        spline_order=best_hyperparams['spline_order_g_net'],\n",
    "        grid_range=[-best_hyperparams['range_limit_g_net'], best_hyperparams['range_limit_g_net']],\n",
    "        mu_1=best_hyperparams['mu_1_g_net'],\n",
    "        mu_2=best_hyperparams['mu_2_g_net'],\n",
    "        device='cuda',\n",
    "        compute_mult=True,\n",
    "        store_act=True\n",
    "    )\n",
    "    \n",
    "    time_dim = 1 if include_time else 0\n",
    "    in_dim_h = 2 if message_passing else 1\n",
    "    in_dim_h += time_dim\n",
    "    \n",
    "    # h_net\n",
    "    h_net = KAN(\n",
    "        layers_hidden=[in_dim_h, best_hyperparams['hidden_dim_h_net'], 1],\n",
    "        grid_size=best_hyperparams['grid_size_h_net'],\n",
    "        spline_order=best_hyperparams['spline_order_h_net'],\n",
    "        grid_range=[-best_hyperparams['range_limit_h_net'], best_hyperparams['range_limit_h_net']],\n",
    "        mu_1=best_hyperparams['mu_1_h_net'],\n",
    "        mu_2=best_hyperparams['mu_2_h_net'],\n",
    "        device='cuda',\n",
    "        compute_mult=True,\n",
    "        store_act=True\n",
    "    )\n",
    "    \n",
    "    gkan = MPNN(\n",
    "        h_net=h_net,\n",
    "        g_net=g_net,\n",
    "        message_passing=message_passing,\n",
    "        include_time=include_time\n",
    "    )\n",
    "    \n",
    "    model = GKAN_ODE(\n",
    "        conv=gkan,\n",
    "        model_path='./saved_models_optuna/tmp',\n",
    "        lmbd_g=best_hyperparams['lamb_g_net'],\n",
    "        lmbd_h=best_hyperparams['lamb_h_net'],\n",
    "        integration_method=method,\n",
    "        adjoint=adjoint,\n",
    "        atol=atol,\n",
    "        rtol=rtol\n",
    "    )\n",
    "    \n",
    "    model = model.to(torch.device('cuda'))\n",
    "    model.load_state_dict(torch.load(best_state_path, weights_only=False, map_location=torch.device('cuda')))\n",
    "    \n",
    "    return model\n",
    "\n",
    "\n",
    "def valid_symb_model(\n",
    "    config,\n",
    "    model_path_gkan,\n",
    "    device='cuda',\n",
    "    atol=1e-5,\n",
    "    rtol=1e-5,\n",
    "    method='dopri5',\n",
    "    black_box_fitting=True,\n",
    "    n_g_hidden_layers=2,\n",
    "    n_h_hidden_layers=2,\n",
    "    sample_size=10000\n",
    "):\n",
    "    \n",
    "    seed = 9999\n",
    "    graph = nx.barabasi_albert_graph(100, 3, seed=seed)\n",
    "\n",
    "    # Prepare validation/test set\n",
    "    valid_set = integrate_test_set(\n",
    "        graph=graph,\n",
    "        dynamics=config['name'],\n",
    "        seed=seed,\n",
    "        device=device,\n",
    "        input_range=config['input_range'],\n",
    "        t_span=(0, 1),\n",
    "        **config['integration_kwargs']\n",
    "    )\n",
    "\n",
    "    # Helper to compute validation loss\n",
    "    def evaluate_model(g_symb, h_symb, is_symb=True):\n",
    "        errs = get_symb_test_error(\n",
    "            g_symb=g_symb,\n",
    "            h_symb=h_symb,\n",
    "            test_set=[valid_set],\n",
    "            message_passing=False,\n",
    "            include_time=False,\n",
    "            method=method,\n",
    "            atol=atol,\n",
    "            rtol=rtol,\n",
    "            is_symb=is_symb\n",
    "        )\n",
    "        return errs[0]\n",
    "\n",
    "    # Helper to fit model for current config\n",
    "    def fit_single_model(param1, param2):\n",
    "        if black_box_fitting:\n",
    "            print(f\"Fitting black-box model with {param1} and {param2} iterations\")\n",
    "            pysr_model = lambda: get_pysr_model(model_selection=param1, n_iterations=param2)\n",
    "            _, g_symb, h_symb = fit_black_box_from_kan(\n",
    "                n_g_hidden_layers=n_g_hidden_layers,\n",
    "                n_h_hidden_layers=n_h_hidden_layers,\n",
    "                device=device,\n",
    "                model_path=model_path_gkan,\n",
    "                pysr_model=pysr_model,\n",
    "                sample_size=sample_size,\n",
    "                theta=-np.inf,\n",
    "                message_passing=False,\n",
    "                verbose=False\n",
    "            )\n",
    "        else:\n",
    "            print(f\"Fitting symbolic model with {param1} and theta {param2}\")\n",
    "            _, g_symb, h_symb = fit_model(\n",
    "                n_g_hidden_layers=n_g_hidden_layers,\n",
    "                n_h_hidden_layers=n_h_hidden_layers,\n",
    "                model_path=model_path_gkan,\n",
    "                theta=param2,\n",
    "                message_passing=False,\n",
    "                include_time=False,\n",
    "                sample_size=sample_size,\n",
    "                sort_by=param1,\n",
    "                verbose=False\n",
    "            )\n",
    "        return g_symb, h_symb\n",
    "\n",
    "    # Define parameter grid\n",
    "    param_grid = (\n",
    "        ([\"score\", \"accuracy\"], [50, 100, 200]) if black_box_fitting\n",
    "        else ([\"score\", \"log_loss\"], [0.01, 0.05, 0.1])\n",
    "    )\n",
    "\n",
    "    search_space = [(mod, val) for mod in param_grid[0] for val in param_grid[1]]\n",
    "    valid_losses = []\n",
    "\n",
    "    for mod, val in search_space:\n",
    "        g_symb, h_symb = fit_single_model(mod, val)\n",
    "        try:\n",
    "            loss = evaluate_model(g_symb, h_symb)\n",
    "        except AssertionError:\n",
    "            loss = 1e8\n",
    "        valid_losses.append({'model_selection': mod, 'param': val, 'valid_loss': loss})\n",
    "\n",
    "    # Select best performing configuration\n",
    "    best = min(valid_losses, key=lambda x: x['valid_loss'])\n",
    "\n",
    "    # Final refit with best config\n",
    "    print(f\"Refitting best model with {best}\")\n",
    "    if black_box_fitting:\n",
    "        gkan_symb, symb_g, symb_h = fit_black_box_from_kan(\n",
    "            model_path=model_path_gkan,\n",
    "            n_g_hidden_layers=n_g_hidden_layers,\n",
    "            n_h_hidden_layers=n_h_hidden_layers,\n",
    "            device=device,\n",
    "            theta=-np.inf,\n",
    "            pysr_model=lambda: get_pysr_model(\n",
    "                model_selection=best['model_selection'],\n",
    "                n_iterations=best['param']\n",
    "            ),\n",
    "            sample_size=sample_size,\n",
    "            message_passing=False,\n",
    "            verbose=True,\n",
    "            include_time=False\n",
    "        )\n",
    "    else:\n",
    "        gkan_symb, symb_g, symb_h = fit_model(\n",
    "            model_path=model_path_gkan,\n",
    "            n_g_hidden_layers=n_g_hidden_layers,\n",
    "            n_h_hidden_layers=n_h_hidden_layers,\n",
    "            theta=best['param'],\n",
    "            message_passing=False,\n",
    "            include_time=False,\n",
    "            sample_size=sample_size,\n",
    "            sort_by=best['model_selection'],\n",
    "            verbose=True\n",
    "        )\n",
    "\n",
    "    return gkan_symb, symb_g, symb_h\n",
    "\n",
    "\n",
    "def post_process_gkan(\n",
    "    config,\n",
    "    model_path, \n",
    "    test_set, \n",
    "    device='cuda',\n",
    "    n_g_hidden_layers=2,\n",
    "    n_h_hidden_layers=2,\n",
    "    sample_size=10000,\n",
    "    message_passing=False, \n",
    "    include_time=False,\n",
    "    atol=1e-5,\n",
    "    rtol=1e-5,\n",
    "    method='dopri5',\n",
    "    scaler=None,\n",
    "    inverse_scale=False,\n",
    "    adjoint=True,\n",
    "    eval_model=True\n",
    "):\n",
    "    \n",
    "    def print_symb_error(g_symb, h_symb, txt=\"symbolic formula\", is_symb=True):\n",
    "        try:\n",
    "            test_losses_symb = get_symb_test_error(\n",
    "                g_symb=g_symb,\n",
    "                h_symb=h_symb,\n",
    "                test_set=test_set,\n",
    "                message_passing=message_passing,\n",
    "                include_time=include_time,\n",
    "                atol=atol,\n",
    "                rtol=rtol,\n",
    "                method=method,\n",
    "                scaler=scaler,\n",
    "                inverse_scale=inverse_scale,\n",
    "                is_symb=is_symb\n",
    "            )\n",
    "\n",
    "            ts_mean = np.mean(test_losses_symb)\n",
    "            ts_var = np.var(test_losses_symb)\n",
    "            ts_std = np.std(test_losses_symb)\n",
    "            \n",
    "            print(f\"Mean Test loss of {txt}: {ts_mean}\")\n",
    "            print(f\"Var Test loss of {txt}: {ts_var}\")\n",
    "            print(f\"Std Test loss of {txt}: {ts_std}\")\n",
    "        except AssertionError:\n",
    "            print(\"Evaluation failed!\")\n",
    "        \n",
    "    \n",
    "    print(\"Black-Box fitting \\n\")\n",
    "    bb_symb, bb_g_symb, bb_h_symb = valid_symb_model(\n",
    "        config=config,\n",
    "        model_path_gkan=f\"{model_path}/gkan\",\n",
    "        device=device,\n",
    "        atol=atol,\n",
    "        rtol=rtol,\n",
    "        method=method,\n",
    "        black_box_fitting=True,\n",
    "        n_g_hidden_layers=n_g_hidden_layers,\n",
    "        n_h_hidden_layers=n_h_hidden_layers,\n",
    "        sample_size = sample_size\n",
    "    )\n",
    "    \n",
    "    print(latex(quantise(bb_symb)))\n",
    "    print_symb_error(g_symb=bb_g_symb, h_symb=bb_h_symb)\n",
    "    \n",
    "    print(\"Spline-wise fitting\\n\")\n",
    "    spline_symb, spl_g_symb, spl_h_symb = valid_symb_model(\n",
    "        config=config,\n",
    "        model_path_gkan=f\"{model_path}/gkan\",\n",
    "        device=device,\n",
    "        atol=atol,\n",
    "        rtol=rtol,\n",
    "        method=method,\n",
    "        black_box_fitting=False,\n",
    "        n_g_hidden_layers=n_g_hidden_layers,\n",
    "        n_h_hidden_layers=n_h_hidden_layers,\n",
    "        sample_size = sample_size\n",
    "    )\n",
    "    print(latex(quantise(spline_symb)))\n",
    "    print_symb_error(g_symb=spl_g_symb, h_symb=spl_h_symb)\n",
    "    \n",
    "    \n",
    "    if eval_model:\n",
    "        print(\"Evaluate raw model\\n\")\n",
    "        # Loading best model\n",
    "        best_model = build_model_from_file(\n",
    "            model_path=model_path,\n",
    "            message_passing=message_passing,\n",
    "            include_time=include_time,\n",
    "            method=method,\n",
    "            adjoint=adjoint,\n",
    "            atol=atol,\n",
    "            rtol=rtol\n",
    "        )\n",
    "\n",
    "        tot_params = sum(p.numel() for p in best_model.parameters() if p.requires_grad)\n",
    "        print(f\"Number of model's parameters: {tot_params}\\n\")\n",
    "\n",
    "        best_model = best_model.eval()\n",
    "        print_symb_error(\n",
    "            g_symb=best_model.conv.model.g_net,\n",
    "            h_symb=best_model.conv.model.h_net,\n",
    "            txt=\"best model\",\n",
    "            is_symb=False\n",
    "        )\n",
    "\n",
    "\n",
    "\n",
    "def plot_predictions(y_true, y_pred, node_index = 0):\n",
    "    plt.figure(figsize=(16, 8))\n",
    "    plt.plot(y_true[:, node_index, :], label='y_true', marker='o')\n",
    "    plt.plot(y_pred[:, node_index, :], label='y_pred', marker='o')\n",
    "    plt.xlabel('Time step')\n",
    "    plt.ylabel('Value')\n",
    "    plt.title(f'y_true vs y_pred for Node {node_index}')\n",
    "    plt.legend()\n",
    "    plt.grid(True)\n",
    "    plt.tight_layout()\n",
    "    plt.show()\n"
   ]
  },
  {
   "cell_type": "markdown",
   "metadata": {},
   "source": [
    "## LB losses\n"
   ]
  },
  {
   "cell_type": "markdown",
   "metadata": {},
   "source": [
    "### Kuramoto"
   ]
  },
  {
   "cell_type": "code",
   "execution_count": 7,
   "metadata": {},
   "outputs": [
    {
     "name": "stdout",
     "output_type": "stream",
     "text": [
      "Mean Test loss of symbolic formula: 1.3504788815528931e-05\n",
      "Var Test loss of symbolic formula: 1.314533673970284e-13\n",
      "Std Test loss of symbolic formula: 3.625649836884809e-07\n"
     ]
    }
   ],
   "source": [
    "kur_config = load_config(\"./configs/config_pred_deriv/config_ic1/config_kuramoto.yml\")\n",
    "\n",
    "KUR = get_test_set(\n",
    "    dynamics=kur_config['name'],\n",
    "    device='cuda',\n",
    "    input_range=kur_config['input_range'],\n",
    "    **kur_config['integration_kwargs']    \n",
    ")\n",
    "\n",
    "g_symb = lambda x: torch.sin(x[:, 1] - x[:, 0]).unsqueeze(-1)\n",
    "h_symb = lambda x: 2.0 + 0.5 * x[:, 1].unsqueeze(-1)\n",
    "\n",
    "test_losses = get_symb_test_error(\n",
    "    g_symb=g_symb,\n",
    "    h_symb=h_symb,\n",
    "    test_set=KUR,\n",
    "    message_passing=True,\n",
    "    include_time=False,\n",
    "    is_symb=False\n",
    ")\n",
    "\n",
    "ts_mean = np.mean(test_losses)\n",
    "ts_var = np.var(test_losses)\n",
    "ts_std = np.std(test_losses)\n",
    "\n",
    "print(f\"Mean Test loss of symbolic formula: {ts_mean}\")\n",
    "print(f\"Var Test loss of symbolic formula: {ts_var}\")\n",
    "print(f\"Std Test loss of symbolic formula: {ts_std}\")\n",
    "\n"
   ]
  },
  {
   "cell_type": "markdown",
   "metadata": {},
   "source": [
    "### Epidemics"
   ]
  },
  {
   "cell_type": "code",
   "execution_count": 8,
   "metadata": {},
   "outputs": [
    {
     "name": "stdout",
     "output_type": "stream",
     "text": [
      "Mean Test loss of symbolic formula: 1.071706852447581e-06\n",
      "Var Test loss of symbolic formula: 8.008373820613663e-14\n",
      "Std Test loss of symbolic formula: 2.829907033917133e-07\n"
     ]
    }
   ],
   "source": [
    "epid_config = load_config(\"./configs/config_pred_deriv/config_ic1/config_epidemics.yml\")\n",
    "\n",
    "EPID = get_test_set(\n",
    "    dynamics=epid_config['name'],\n",
    "    device='cuda',\n",
    "    input_range=epid_config['input_range'],\n",
    "    **epid_config['integration_kwargs']    \n",
    ")\n",
    "\n",
    "g_symb = lambda x: 0.5*x[:, 1].unsqueeze(-1) * (1 - x[:, 0].unsqueeze(-1))\n",
    "h_symb = lambda x: x[:, 1].unsqueeze(1) - 0.5 * x[:, 0].unsqueeze(-1)\n",
    "\n",
    "test_losses = get_symb_test_error(\n",
    "    g_symb=g_symb,\n",
    "    h_symb=h_symb,\n",
    "    test_set=EPID,\n",
    "    message_passing=True,\n",
    "    include_time=False,\n",
    "    is_symb=False\n",
    ")\n",
    "\n",
    "\n",
    "ts_mean = np.mean(test_losses)\n",
    "ts_var = np.var(test_losses)\n",
    "ts_std = np.std(test_losses)\n",
    "\n",
    "print(f\"Mean Test loss of symbolic formula: {ts_mean}\")\n",
    "print(f\"Var Test loss of symbolic formula: {ts_var}\")\n",
    "print(f\"Std Test loss of symbolic formula: {ts_std}\")\n"
   ]
  },
  {
   "cell_type": "markdown",
   "metadata": {},
   "source": [
    "### Population"
   ]
  },
  {
   "cell_type": "code",
   "execution_count": 9,
   "metadata": {},
   "outputs": [
    {
     "name": "stdout",
     "output_type": "stream",
     "text": [
      "Mean Test loss of symbolic formula: 3.735399635237021e-06\n",
      "Var Test loss of symbolic formula: 4.746857081617248e-13\n",
      "Std Test loss of symbolic formula: 6.889743886108719e-07\n"
     ]
    }
   ],
   "source": [
    "pop_config = load_config(\"./configs/config_pred_deriv/config_ic1/config_population.yml\")\n",
    "\n",
    "POP = get_test_set(\n",
    "    dynamics=pop_config['name'],\n",
    "    device='cuda',\n",
    "    input_range=pop_config['input_range'],\n",
    "    **pop_config['integration_kwargs']\n",
    ")\n",
    "\n",
    "g_symb = lambda x: 0.2*torch.pow(x[:, 1].unsqueeze(-1), 3)\n",
    "h_symb = lambda x: -0.5 * x[:, 0].unsqueeze(-1) + x[:, 1].unsqueeze(1) \n",
    "\n",
    "test_losses = get_symb_test_error(\n",
    "    g_symb=g_symb,\n",
    "    h_symb=h_symb,\n",
    "    test_set=POP,\n",
    "    message_passing=True,\n",
    "    include_time=False,\n",
    "    is_symb=False\n",
    ")\n",
    "\n",
    "ts_mean = np.mean(test_losses)\n",
    "ts_var = np.var(test_losses)\n",
    "ts_std = np.std(test_losses)\n",
    "\n",
    "print(f\"Mean Test loss of symbolic formula: {ts_mean}\")\n",
    "print(f\"Var Test loss of symbolic formula: {ts_var}\")\n",
    "print(f\"Std Test loss of symbolic formula: {ts_std}\")\n"
   ]
  },
  {
   "cell_type": "markdown",
   "metadata": {},
   "source": [
    "### Biochemical"
   ]
  },
  {
   "cell_type": "code",
   "execution_count": 10,
   "metadata": {},
   "outputs": [
    {
     "name": "stdout",
     "output_type": "stream",
     "text": [
      "Mean Test loss of symbolic formula: 1.2006473374034006e-06\n",
      "Var Test loss of symbolic formula: 7.184599599254429e-14\n",
      "Std Test loss of symbolic formula: 2.6804103415810103e-07\n"
     ]
    }
   ],
   "source": [
    "bio_config = load_config(\"./configs/config_pred_deriv/config_ic1/config_biochemical.yml\")\n",
    "\n",
    "BIO = get_test_set(\n",
    "    dynamics=bio_config['name'],\n",
    "    device='cuda',\n",
    "    input_range=bio_config['input_range'],\n",
    "    **bio_config['integration_kwargs']    \n",
    ")\n",
    "\n",
    "g_symb = lambda x: (-0.5*x[:, 1] * x[:, 0]).unsqueeze(-1)\n",
    "h_symb = lambda x: (1.0 - 0.5 * x[:, 0]).unsqueeze(-1)  + x[:, 1].unsqueeze(-1) \n",
    "\n",
    "test_losses = get_symb_test_error(\n",
    "    g_symb=g_symb,\n",
    "    h_symb=h_symb,\n",
    "    test_set=BIO,\n",
    "    message_passing=True,\n",
    "    include_time=False,\n",
    "    is_symb=False\n",
    ")\n",
    "\n",
    "ts_mean = np.mean(test_losses)\n",
    "ts_var = np.var(test_losses)\n",
    "ts_std = np.std(test_losses)\n",
    "\n",
    "print(f\"Mean Test loss of symbolic formula: {ts_mean}\")\n",
    "print(f\"Var Test loss of symbolic formula: {ts_var}\")\n",
    "print(f\"Std Test loss of symbolic formula: {ts_std}\")\n"
   ]
  },
  {
   "cell_type": "markdown",
   "metadata": {},
   "source": [
    "## Symb Reg"
   ]
  },
  {
   "cell_type": "markdown",
   "metadata": {},
   "source": [
    "### Biochemical\n"
   ]
  },
  {
   "cell_type": "markdown",
   "metadata": {},
   "source": [
    "#### IC=1"
   ]
  },
  {
   "cell_type": "code",
   "execution_count": 14,
   "metadata": {},
   "outputs": [
    {
     "name": "stdout",
     "output_type": "stream",
     "text": [
      "Black-Box fitting \n",
      "\n",
      "Fitting black-box model with score and 50 iterations\n",
      "Fitting black-box model with score and 100 iterations\n",
      "Fitting black-box model with score and 200 iterations\n",
      "Fitting black-box model with accuracy and 50 iterations\n",
      "Fitting black-box model with accuracy and 100 iterations\n",
      "Fitting black-box model with accuracy and 200 iterations\n",
      "Refitting best model with {'model_selection': 'score', 'param': 50, 'valid_loss': 3.549701068550348e-05}\n",
      "Fitting G_Net...\n",
      "Execution time: 17.393635 seconds\n",
      "\n",
      "Fitting H_Net...\n",
      "Execution time: 19.248945 seconds\n",
      "\\sum_{j}(-0.5*x_i*x_j) - 0.5 x_{i} + 1.0\n",
      "Mean Test loss of symbolic formula: 3.2913121685851365e-05\n",
      "Var Test loss of symbolic formula: 3.9214064673506565e-12\n",
      "Std Test loss of symbolic formula: 1.980254142111728e-06\n",
      "Spline-wise fitting\n",
      "\n",
      "Fitting symbolic model with score and theta 0.01\n",
      "Fitting symbolic model with score and theta 0.05\n",
      "Fitting symbolic model with score and theta 0.1\n",
      "Fitting symbolic model with log_loss and theta 0.01\n",
      "Fitting symbolic model with log_loss and theta 0.05\n",
      "Fitting symbolic model with log_loss and theta 0.1\n",
      "Refitting best model with {'model_selection': 'log_loss', 'param': 0.01, 'valid_loss': 0.01088594738394022}\n",
      "Fitting G_Net...\n",
      "Execution time: 71.014883 seconds\n",
      "\n",
      "Fitting H_Net...\n",
      "Execution time: 72.110480 seconds\n",
      "\\sum_{j}(-0.49*x_i*x_j + 0.01*x_j) - 0.5 x_{i} + 1.0\n",
      "Mean Test loss of symbolic formula: 0.012711200552682081\n",
      "Var Test loss of symbolic formula: 1.2983065129237242e-06\n",
      "Std Test loss of symbolic formula: 0.0011394325398740041\n",
      "Evaluate raw model\n",
      "\n",
      "Number of model's parameters: 280\n",
      "\n",
      "Mean Test loss of best model: 3.524918853751539e-05\n",
      "Var Test loss of best model: 1.9364785946079674e-11\n",
      "Std Test loss of best model: 4.400543823901732e-06\n"
     ]
    }
   ],
   "source": [
    "model_path_gkan = \"./saved_models_optuna/model-biochemical-gkan/biochemical_gkan_ic1_s5_pd_mult_12/0\"\n",
    "\n",
    "post_process_gkan(\n",
    "    config=bio_config,\n",
    "    model_path=model_path_gkan,\n",
    "    test_set=BIO,\n",
    "    device='cuda',\n",
    "    n_g_hidden_layers=2,\n",
    "    n_h_hidden_layers=2,\n",
    "    sample_size=30000,\n",
    "    message_passing=False,\n",
    "    include_time=False,\n",
    "    atol=1e-5,\n",
    "    rtol=1e-5,\n",
    "    method=\"dopri5\"\n",
    ")"
   ]
  },
  {
   "cell_type": "markdown",
   "metadata": {},
   "source": [
    "#### SNR"
   ]
  },
  {
   "cell_type": "code",
   "execution_count": 21,
   "metadata": {},
   "outputs": [
    {
     "name": "stdout",
     "output_type": "stream",
     "text": [
      "./saved_models_optuna/model-biochemical-gkan/biochemical_gkan_ic1_s5_pd_mult_noise_70db_2/0\n",
      "Black-Box fitting \n",
      "\n",
      "Fitting black-box model with score and 50 iterations\n",
      "Fitting black-box model with score and 100 iterations\n",
      "Fitting black-box model with score and 200 iterations\n",
      "Fitting black-box model with accuracy and 50 iterations\n",
      "Fitting black-box model with accuracy and 100 iterations\n",
      "Fitting black-box model with accuracy and 200 iterations\n",
      "Refitting best model with {'model_selection': 'score', 'param': 50, 'valid_loss': 0.0017313702264800668}\n",
      "Fitting G_Net...\n",
      "Execution time: 9.212349 seconds\n",
      "\n",
      "Fitting H_Net...\n",
      "Execution time: 10.594127 seconds\n",
      "\\sum_{j}(-0.5*x_i*x_j) + \\log{\\left(2.63 - x_{i} \\right)}\n",
      "Mean Test loss of symbolic formula: 0.00168048485647887\n",
      "Var Test loss of symbolic formula: 3.0966358974741028e-09\n",
      "Std Test loss of symbolic formula: 5.56474248952645e-05\n",
      "Spline-wise fitting\n",
      "\n",
      "Fitting symbolic model with score and theta 0.01\n",
      "Pruning node (0,0)\n",
      "Fitting symbolic model with score and theta 0.05\n",
      "Pruning node (0,0)\n",
      "Fitting symbolic model with score and theta 0.1\n",
      "Pruning node (0,0)\n",
      "Fitting symbolic model with log_loss and theta 0.01\n",
      "Pruning node (0,0)\n",
      "Fitting symbolic model with log_loss and theta 0.05\n",
      "Pruning node (0,0)\n",
      "Fitting symbolic model with log_loss and theta 0.1\n",
      "Pruning node (0,0)\n",
      "Refitting best model with {'model_selection': 'score', 'param': 0.01, 'valid_loss': 0.0037466883659362793}\n",
      "Pruning node (0,0)\n",
      "Fitting G_Net...\n",
      "Execution time: 13.777086 seconds\n",
      "\n",
      "Fitting H_Net...\n",
      "Execution time: 19.937785 seconds\n",
      "\\sum_{j}(-0.37*x_i*x_j - 0.05*x_i - 0.05*x_j + 0.02) - 0.51 x_{i} + 1.01\n",
      "Mean Test loss of symbolic formula: 0.003954710050796469\n",
      "Var Test loss of symbolic formula: 3.187409687245602e-07\n",
      "Std Test loss of symbolic formula: 0.0005645714912431908\n",
      "./saved_models_optuna/model-biochemical-gkan/biochemical_gkan_ic1_s5_pd_mult_noise_50db_2/0\n",
      "Black-Box fitting \n",
      "\n",
      "Fitting black-box model with score and 50 iterations\n",
      "Fitting black-box model with score and 100 iterations\n",
      "Fitting black-box model with score and 200 iterations\n",
      "Fitting black-box model with accuracy and 50 iterations\n",
      "Fitting black-box model with accuracy and 100 iterations\n",
      "Fitting black-box model with accuracy and 200 iterations\n",
      "Refitting best model with {'model_selection': 'accuracy', 'param': 50, 'valid_loss': 0.005545017309486866}\n",
      "Fitting G_Net...\n",
      "Execution time: 11.254240 seconds\n",
      "\n",
      "Fitting H_Net...\n",
      "Execution time: 10.090978 seconds\n",
      "\\sum_{j}(-0.49*x_i*x_j) - \\sin{\\left(0.55 x_{i} \\right)} + 1.04\n",
      "Mean Test loss of symbolic formula: 0.005419575609266758\n",
      "Var Test loss of symbolic formula: 3.855361907761229e-09\n",
      "Std Test loss of symbolic formula: 6.209156068066922e-05\n",
      "Spline-wise fitting\n",
      "\n",
      "Fitting symbolic model with score and theta 0.01\n",
      "Fitting symbolic model with score and theta 0.05\n",
      "Fitting symbolic model with score and theta 0.1\n",
      "Fitting symbolic model with log_loss and theta 0.01\n",
      "Fitting symbolic model with log_loss and theta 0.05\n",
      "Fitting symbolic model with log_loss and theta 0.1\n",
      "Refitting best model with {'model_selection': 'score', 'param': 0.01, 'valid_loss': 0.29712235927581787}\n",
      "Fitting G_Net...\n",
      "Execution time: 9.334400 seconds\n",
      "\n",
      "Fitting H_Net...\n",
      "Execution time: 6.167516 seconds\n",
      "\\sum_{j}(-0.2*x_i - 0.2) - 0.52 x_{i} + 1.03\n",
      "Mean Test loss of symbolic formula: 0.2887199819087982\n",
      "Var Test loss of symbolic formula: 0.0002621058565228651\n",
      "Std Test loss of symbolic formula: 0.016189683644928492\n",
      "./saved_models_optuna/model-biochemical-gkan/biochemical_gkan_ic1_s5_pd_mult_noise_20db_2/0\n",
      "Black-Box fitting \n",
      "\n",
      "Fitting black-box model with score and 50 iterations\n",
      "Fitting black-box model with score and 100 iterations\n",
      "Fitting black-box model with score and 200 iterations\n",
      "Fitting black-box model with accuracy and 50 iterations\n",
      "Fitting black-box model with accuracy and 100 iterations\n",
      "Fitting black-box model with accuracy and 200 iterations\n",
      "Refitting best model with {'model_selection': 'score', 'param': 100, 'valid_loss': 0.10520247370004654}\n",
      "Fitting G_Net...\n",
      "Execution time: 17.853203 seconds\n",
      "\n",
      "Fitting H_Net...\n",
      "Execution time: 14.105056 seconds\n",
      "\\sum_{j}(-0.08*tanh(2.41*x_j)) + \\left(x_{i}^{9} - 0.69\\right)^{2}\n",
      "Mean Test loss of symbolic formula: 0.09759674221277237\n",
      "Var Test loss of symbolic formula: 5.323037408755393e-05\n",
      "Std Test loss of symbolic formula: 0.007295914890372141\n",
      "Spline-wise fitting\n",
      "\n",
      "Fitting symbolic model with score and theta 0.01\n",
      "Pruning node (0,1)\n",
      "Pruning node (0,3)\n",
      "Pruning node (0,1)\n",
      "Pruning node (0,2)\n",
      "Pruning node (0,3)\n",
      "Fitting symbolic model with score and theta 0.05\n",
      "Pruning node (0,1)\n",
      "Pruning node (0,3)\n",
      "Pruning node (0,1)\n",
      "Pruning node (0,2)\n",
      "Pruning node (0,3)\n",
      "Pruning node (0,4)\n",
      "Fitting symbolic model with score and theta 0.1\n",
      "Pruning node (0,1)\n",
      "Pruning node (0,2)\n",
      "Pruning node (0,3)\n",
      "Pruning node (0,1)\n",
      "Pruning node (0,2)\n",
      "Pruning node (0,3)\n",
      "Pruning node (0,4)\n",
      "Fitting symbolic model with log_loss and theta 0.01\n",
      "Pruning node (0,1)\n",
      "Pruning node (0,3)\n",
      "Pruning node (0,1)\n",
      "Pruning node (0,2)\n",
      "Pruning node (0,3)\n",
      "Fitting symbolic model with log_loss and theta 0.05\n",
      "Pruning node (0,1)\n",
      "Pruning node (0,3)\n",
      "Pruning node (0,1)\n",
      "Pruning node (0,2)\n",
      "Pruning node (0,3)\n",
      "Pruning node (0,4)\n",
      "Fitting symbolic model with log_loss and theta 0.1\n",
      "Pruning node (0,1)\n",
      "Pruning node (0,2)\n",
      "Pruning node (0,3)\n",
      "Pruning node (0,1)\n",
      "Pruning node (0,2)\n",
      "Pruning node (0,3)\n",
      "Pruning node (0,4)\n",
      "Refitting best model with {'model_selection': 'score', 'param': 0.01, 'valid_loss': 0.05459100380539894}\n",
      "Pruning node (0,1)\n",
      "Pruning node (0,3)\n",
      "Fitting G_Net...\n",
      "Execution time: 11.521044 seconds\n",
      "Pruning node (0,1)\n",
      "Pruning node (0,2)\n",
      "Pruning node (0,3)\n",
      "\n",
      "Fitting H_Net...\n",
      "Execution time: 6.817762 seconds\n",
      "\\sum_{j}((0.18*x_j - 0.01)*(0.25*cos(1.24*x_i + 0.42) - 1.28) + 0.19*(x_j - 0.06)**2*(0.2*cos(1.24*x_i + 0.42) - 1)**2 - 0.01) - 4.63 x_{i}^{3} + 9.22 x_{i}^{2} - 5.77 x_{i} - 0.08 e^{3.16 \\sin{\\left(4.1 x_{i} - 2.63 \\right)}} + 1.48 \\tanh{\\left(79.61 x_{i}^{3} - 129.38 x_{i}^{2} + 75.37 x_{i} - 25.89 \\right)} + 3.2\n",
      "Mean Test loss of symbolic formula: 0.05477185547351837\n",
      "Var Test loss of symbolic formula: 6.20196114236397e-05\n",
      "Std Test loss of symbolic formula: 0.00787525310219549\n"
     ]
    }
   ],
   "source": [
    "model_paths_gkan = [\n",
    "    \"./saved_models_optuna/model-biochemical-gkan/biochemical_gkan_ic1_s5_pd_mult_noise_70db_2/0\",\n",
    "    \"./saved_models_optuna/model-biochemical-gkan/biochemical_gkan_ic1_s5_pd_mult_noise_50db_2/0\",\n",
    "    \"./saved_models_optuna/model-biochemical-gkan/biochemical_gkan_ic1_s5_pd_mult_noise_20db_2/0\"\n",
    "]\n",
    "\n",
    "for model_path in model_paths_gkan:\n",
    "    print(model_path)\n",
    "    \n",
    "    post_process_gkan(\n",
    "        config=bio_config,\n",
    "        model_path=model_path,\n",
    "        test_set=BIO,\n",
    "        device='cuda',\n",
    "        n_g_hidden_layers=2,\n",
    "        n_h_hidden_layers=2,\n",
    "        sample_size=10000,\n",
    "        message_passing=False,\n",
    "        include_time=False,\n",
    "        atol=1e-5,\n",
    "        rtol=1e-5,\n",
    "        method=\"dopri5\",\n",
    "        eval_model=False\n",
    "    )\n"
   ]
  },
  {
   "cell_type": "markdown",
   "metadata": {},
   "source": [
    "### Kuramoto"
   ]
  },
  {
   "cell_type": "markdown",
   "metadata": {},
   "source": [
    "#### IC=1"
   ]
  },
  {
   "cell_type": "code",
   "execution_count": 31,
   "metadata": {},
   "outputs": [
    {
     "name": "stdout",
     "output_type": "stream",
     "text": [
      "Black-Box fitting \n",
      "\n",
      "Fitting black-box model with score and 50 iterations\n",
      "Fitting black-box model with score and 100 iterations\n",
      "Fitting black-box model with score and 200 iterations\n",
      "Fitting black-box model with accuracy and 50 iterations\n",
      "Fitting black-box model with accuracy and 100 iterations\n",
      "Fitting black-box model with accuracy and 200 iterations\n",
      "Refitting best model with {'model_selection': 'accuracy', 'param': 100, 'valid_loss': 0.00041059116483666003}\n",
      "Fitting G_Net...\n",
      "Execution time: 22.446857 seconds\n",
      "\n",
      "Fitting H_Net...\n",
      "Execution time: 24.850279 seconds\n",
      "\\sum_{j}(-0.52*sin(x_i - x_j)) + 2.0\n",
      "Mean Test loss of symbolic formula: 0.012538877005378405\n",
      "Var Test loss of symbolic formula: 7.523174971765879e-07\n",
      "Std Test loss of symbolic formula: 0.0008673623793874092\n",
      "Spline-wise fitting\n",
      "\n",
      "Fitting symbolic model with score and theta 0.01\n",
      "Pruning node (0,0)\n",
      "Pruning node (0,1)\n",
      "Pruning node (0,3)\n",
      "Pruning node (0,4)\n",
      "Pruning node (0,0)\n",
      "Pruning node (0,1)\n",
      "Pruning node (0,3)\n",
      "Pruning node (0,4)\n",
      "Pruning node (0,5)\n",
      "Fitting symbolic model with score and theta 0.05\n",
      "Pruning node (0,0)\n",
      "Pruning node (0,1)\n",
      "Pruning node (0,3)\n",
      "Pruning node (0,4)\n",
      "Pruning node (0,0)\n",
      "Pruning node (0,1)\n",
      "Pruning node (0,3)\n",
      "Pruning node (0,4)\n",
      "Pruning node (0,5)\n",
      "Fitting symbolic model with score and theta 0.1\n",
      "Pruning node (0,0)\n",
      "Pruning node (0,1)\n",
      "Pruning node (0,3)\n",
      "Pruning node (0,4)\n",
      "Pruning node (0,0)\n",
      "Pruning node (0,1)\n",
      "Pruning node (0,3)\n",
      "Pruning node (0,4)\n",
      "Pruning node (0,5)\n",
      "Fitting symbolic model with log_loss and theta 0.01\n",
      "Pruning node (0,0)\n",
      "Pruning node (0,1)\n",
      "Pruning node (0,3)\n",
      "Pruning node (0,4)\n",
      "Pruning node (0,0)\n",
      "Pruning node (0,1)\n",
      "Pruning node (0,3)\n",
      "Pruning node (0,4)\n",
      "Pruning node (0,5)\n",
      "Fitting symbolic model with log_loss and theta 0.05\n",
      "Pruning node (0,0)\n",
      "Pruning node (0,1)\n",
      "Pruning node (0,3)\n",
      "Pruning node (0,4)\n",
      "Pruning node (0,0)\n",
      "Pruning node (0,1)\n",
      "Pruning node (0,3)\n",
      "Pruning node (0,4)\n",
      "Pruning node (0,5)\n",
      "Fitting symbolic model with log_loss and theta 0.1\n",
      "Pruning node (0,0)\n",
      "Pruning node (0,1)\n",
      "Pruning node (0,3)\n",
      "Pruning node (0,4)\n",
      "Pruning node (0,0)\n",
      "Pruning node (0,1)\n",
      "Pruning node (0,3)\n",
      "Pruning node (0,4)\n",
      "Pruning node (0,5)\n",
      "Refitting best model with {'model_selection': 'score', 'param': 0.01, 'valid_loss': 0.0020375282038003206}\n",
      "Pruning node (0,0)\n",
      "Pruning node (0,1)\n",
      "Pruning node (0,3)\n",
      "Pruning node (0,4)\n",
      "Fitting G_Net...\n",
      "Execution time: 6.449856 seconds\n",
      "Pruning node (0,0)\n",
      "Pruning node (0,1)\n",
      "Pruning node (0,3)\n",
      "Pruning node (0,4)\n",
      "Pruning node (0,5)\n",
      "\n",
      "Fitting H_Net...\n",
      "Execution time: 3.527041 seconds\n",
      "\\sum_{j}(-0.5*sin(-1.0*x_i + 1.0*x_j + 3.14)) + 2.0\n",
      "Mean Test loss of symbolic formula: 0.002298227744176984\n",
      "Var Test loss of symbolic formula: 2.0815095762829216e-09\n",
      "Std Test loss of symbolic formula: 4.56235638270721e-05\n",
      "Evaluate raw model\n",
      "\n",
      "Number of model's parameters: 543\n",
      "\n",
      "Mean Test loss of best model: 0.0016122294279436271\n",
      "Var Test loss of best model: 6.193546818525011e-07\n",
      "Std Test loss of best model: 0.0007869909032844669\n"
     ]
    }
   ],
   "source": [
    "model_path_gkan = \"./saved_models_optuna/model-kuramoto-gkan/kuramoto_gkan_ic1_s5_pd_mult_12/0\"\n",
    "\n",
    "post_process_gkan(\n",
    "    config=kur_config,\n",
    "    model_path=model_path_gkan,\n",
    "    test_set=KUR,\n",
    "    device='cuda',\n",
    "    n_g_hidden_layers=2,\n",
    "    n_h_hidden_layers=2,\n",
    "    sample_size=10000,\n",
    "    message_passing=False,\n",
    "    include_time=False,\n",
    "    atol=1e-5,\n",
    "    rtol=1e-5,\n",
    "    method=\"dopri5\"\n",
    ")"
   ]
  },
  {
   "cell_type": "markdown",
   "metadata": {},
   "source": [
    "#### SNR"
   ]
  },
  {
   "cell_type": "code",
   "execution_count": 32,
   "metadata": {},
   "outputs": [
    {
     "name": "stdout",
     "output_type": "stream",
     "text": [
      "./saved_models_optuna/model-kuramoto-gkan/kuramoto_gkan_ic1_s5_pd_mult_noise_70db_2/0\n",
      "Black-Box fitting \n",
      "\n",
      "Fitting black-box model with score and 50 iterations\n",
      "Fitting black-box model with score and 100 iterations\n",
      "Fitting black-box model with score and 200 iterations\n",
      "Fitting black-box model with accuracy and 50 iterations\n",
      "Fitting black-box model with accuracy and 100 iterations\n",
      "Fitting black-box model with accuracy and 200 iterations\n",
      "Refitting best model with {'model_selection': 'accuracy', 'param': 100, 'valid_loss': 0.007145709823817015}\n",
      "Fitting G_Net...\n",
      "Execution time: 19.059034 seconds\n",
      "\n",
      "Fitting H_Net...\n",
      "Execution time: 23.521774 seconds\n",
      "\\sum_{j}(-0.49*sin(x_i - x_j)) + 2.01\n",
      "Mean Test loss of symbolic formula: 0.007131052669137716\n",
      "Var Test loss of symbolic formula: 6.036935300456649e-08\n",
      "Std Test loss of symbolic formula: 0.0002457017562097725\n",
      "Spline-wise fitting\n",
      "\n",
      "Fitting symbolic model with score and theta 0.01\n",
      "Fitting symbolic model with score and theta 0.05\n",
      "Fitting symbolic model with score and theta 0.1\n",
      "Fitting symbolic model with log_loss and theta 0.01\n",
      "Fitting symbolic model with log_loss and theta 0.05\n",
      "Fitting symbolic model with log_loss and theta 0.1\n",
      "Refitting best model with {'model_selection': 'score', 'param': 0.01, 'valid_loss': 0.03981337323784828}\n",
      "Pruning node (0,0)\n",
      "Pruning node (0,2)\n",
      "Fitting G_Net...\n",
      "Execution time: 5.850058 seconds\n",
      "\n",
      "Fitting H_Net...\n",
      "Execution time: 5.572098 seconds\n",
      "\\sum_{j}(-0.49*sin(1.0*x_i - 1.01*x_j + 0.1)) + 2.01\n",
      "Mean Test loss of symbolic formula: 0.03392164781689644\n",
      "Var Test loss of symbolic formula: 4.0513348818336605e-05\n",
      "Std Test loss of symbolic formula: 0.006365009726491909\n",
      "./saved_models_optuna/model-kuramoto-gkan/kuramoto_gkan_ic1_s5_pd_mult_noise_50db_2/0\n",
      "Black-Box fitting \n",
      "\n",
      "Fitting black-box model with score and 50 iterations\n",
      "Fitting black-box model with score and 100 iterations\n",
      "Fitting black-box model with score and 200 iterations\n",
      "Fitting black-box model with accuracy and 50 iterations\n",
      "Fitting black-box model with accuracy and 100 iterations\n",
      "Fitting black-box model with accuracy and 200 iterations\n",
      "Refitting best model with {'model_selection': 'accuracy', 'param': 200, 'valid_loss': 0.05628015473484993}\n",
      "Fitting G_Net...\n",
      "Execution time: 33.167968 seconds\n",
      "\n",
      "Fitting H_Net...\n",
      "Execution time: 42.545120 seconds\n",
      "\\sum_{j}(-0.4*sin(x_i - x_j)) - 0.2 \\sin{\\left(x_{i} \\right)} + 1.94\n",
      "Mean Test loss of symbolic formula: 0.10963946580886841\n",
      "Var Test loss of symbolic formula: 0.00019089434142775344\n",
      "Std Test loss of symbolic formula: 0.013816451839302066\n",
      "Spline-wise fitting\n",
      "\n",
      "Fitting symbolic model with score and theta 0.01\n",
      "Fitting symbolic model with score and theta 0.05\n",
      "Fitting symbolic model with score and theta 0.1\n",
      "Fitting symbolic model with log_loss and theta 0.01\n",
      "Fitting symbolic model with log_loss and theta 0.05\n",
      "Fitting symbolic model with log_loss and theta 0.1\n",
      "Refitting best model with {'model_selection': 'log_loss', 'param': 0.01, 'valid_loss': 0.08241403847932816}\n",
      "Pruning node (0,0)\n",
      "Pruning node (0,1)\n",
      "Pruning node (0,4)\n",
      "Fitting G_Net...\n",
      "Execution time: 9.635976 seconds\n",
      "\n",
      "Fitting H_Net...\n",
      "Execution time: 22.507003 seconds\n",
      "\\sum_{j}(0.01 - 0.43*sin(-0.01*x_i**3 + 0.12*x_i**2 + 0.53*x_i + 5.72*sin(0.17*x_j + 2.53) - 2.83)) + 0.01 x_{i} + 0.03 \\left(\\cos{\\left(1.22 x_{i} + 0.38 \\right)} + 0.66\\right)^{3} - 0.07 \\left(\\cos{\\left(1.22 x_{i} + 0.38 \\right)} + 0.66\\right)^{2} + 0.14 \\cos{\\left(1.22 x_{i} + 0.38 \\right)} + 2.15\n",
      "Mean Test loss of symbolic formula: 0.093520092467467\n",
      "Var Test loss of symbolic formula: 2.8339800094176776e-06\n",
      "Std Test loss of symbolic formula: 0.0016834429035217314\n",
      "./saved_models_optuna/model-kuramoto-gkan/kuramoto_gkan_ic1_s5_pd_mult_noise_20db/0\n",
      "Black-Box fitting \n",
      "\n",
      "Fitting black-box model with score and 50 iterations\n",
      "Fitting black-box model with score and 100 iterations\n",
      "Fitting black-box model with score and 200 iterations\n",
      "Fitting black-box model with accuracy and 50 iterations\n",
      "Fitting black-box model with accuracy and 100 iterations\n",
      "Fitting black-box model with accuracy and 200 iterations\n",
      "Refitting best model with {'model_selection': 'score', 'param': 100, 'valid_loss': 1.091734766960144}\n",
      "Fitting G_Net...\n",
      "Execution time: 16.390624 seconds\n",
      "\n",
      "Fitting H_Net...\n",
      "Execution time: 19.564453 seconds\n",
      "\\sum_{j}(-tanh(249.46/(x_i**3*x_j**3))) + e^{3 \\sin{\\left(1.74 x_{i} \\right)}}\n",
      "Mean Test loss of symbolic formula: 1.2062313159306843\n",
      "Var Test loss of symbolic formula: 2.1666894396174835e-06\n",
      "Std Test loss of symbolic formula: 0.001471967879954411\n",
      "Spline-wise fitting\n",
      "\n",
      "Fitting symbolic model with score and theta 0.01\n",
      "Fitting symbolic model with score and theta 0.05\n",
      "Fitting symbolic model with score and theta 0.1\n",
      "Fitting symbolic model with log_loss and theta 0.01\n",
      "Fitting symbolic model with log_loss and theta 0.05\n",
      "Fitting symbolic model with log_loss and theta 0.1\n",
      "Refitting best model with {'model_selection': 'score', 'param': 0.05, 'valid_loss': 0.943835973739624}\n",
      "Pruning node (0,0)\n",
      "Pruning node (0,1)\n",
      "Pruning node (0,2)\n",
      "Pruning node (0,3)\n",
      "Pruning node (0,4)\n",
      "Pruning node (0,5)\n",
      "Fitting G_Net...\n",
      "Execution time: 0.000438 seconds\n",
      "\n",
      "Fitting H_Net...\n",
      "Execution time: 9.622671 seconds\n",
      "\\sum_{j}(0) - 5.15 x_{i} - 0.12 \\left(x_{i} + 0.27\\right)^{3} + 1.42 \\left(x_{i} + 0.27\\right)^{2} - 7.61 \\sin{\\left(0.8 x_{i} - 2.19 \\right)} + 2.75 \\cos{\\left(0.88 x_{i} + 1.23 \\right)} - 13.32 \\cos{\\left(5.35 \\cos{\\left(1.85 x_{i} - 4.54 \\right)} - 2.88 \\right)} + 6.57\n",
      "Mean Test loss of symbolic formula: 1.010321815808614\n",
      "Var Test loss of symbolic formula: 5.027089721289081e-05\n",
      "Std Test loss of symbolic formula: 0.007090197261916682\n"
     ]
    }
   ],
   "source": [
    "model_paths_gkan = [\n",
    "    \"./saved_models_optuna/model-kuramoto-gkan/kuramoto_gkan_ic1_s5_pd_mult_noise_70db_2/0\",\n",
    "    \"./saved_models_optuna/model-kuramoto-gkan/kuramoto_gkan_ic1_s5_pd_mult_noise_50db_2/0\",\n",
    "    \"./saved_models_optuna/model-kuramoto-gkan/kuramoto_gkan_ic1_s5_pd_mult_noise_20db/0\",\n",
    "]\n",
    "\n",
    "for model_path in model_paths_gkan:\n",
    "    print(model_path)\n",
    "    \n",
    "    post_process_gkan(\n",
    "        config=kur_config,\n",
    "        model_path=model_path,\n",
    "        test_set=KUR,\n",
    "        device='cuda',\n",
    "        n_g_hidden_layers=2,\n",
    "        n_h_hidden_layers=2,\n",
    "        sample_size=10000,\n",
    "        message_passing=False,\n",
    "        include_time=False,\n",
    "        atol=1e-5,\n",
    "        rtol=1e-5,\n",
    "        method=\"dopri5\",\n",
    "        eval_model=False\n",
    "    )"
   ]
  },
  {
   "cell_type": "markdown",
   "metadata": {},
   "source": [
    "### Epidemics"
   ]
  },
  {
   "cell_type": "markdown",
   "metadata": {},
   "source": [
    "#### IC=1"
   ]
  },
  {
   "cell_type": "code",
   "execution_count": 19,
   "metadata": {},
   "outputs": [
    {
     "name": "stdout",
     "output_type": "stream",
     "text": [
      "Black-Box fitting \n",
      "\n",
      "Fitting black-box model with score and 50 iterations\n",
      "Fitting black-box model with score and 100 iterations\n",
      "Fitting black-box model with score and 200 iterations\n",
      "Fitting black-box model with accuracy and 50 iterations\n",
      "Fitting black-box model with accuracy and 100 iterations\n",
      "Fitting black-box model with accuracy and 200 iterations\n",
      "Refitting best model with {'model_selection': 'score', 'param': 50, 'valid_loss': 3.765320434467867e-05}\n",
      "Fitting G_Net...\n",
      "Execution time: 10.544345 seconds\n",
      "\n",
      "Fitting H_Net...\n",
      "Execution time: 10.334455 seconds\n",
      "\\sum_{j}(x_j*(0.5 - 0.5*x_i)) - 0.5 x_{i}\n",
      "Mean Test loss of symbolic formula: 3.22361441552251e-05\n",
      "Var Test loss of symbolic formula: 2.1891731062645337e-11\n",
      "Std Test loss of symbolic formula: 4.678860017423618e-06\n",
      "Spline-wise fitting\n",
      "\n",
      "Fitting symbolic model with score and theta 0.01\n",
      "Pruning node (0,1)\n",
      "Pruning node (0,2)\n",
      "Fitting symbolic model with score and theta 0.05\n",
      "Pruning node (0,1)\n",
      "Pruning node (0,2)\n",
      "Fitting symbolic model with score and theta 0.1\n",
      "Pruning node (0,0)\n",
      "Pruning node (0,1)\n",
      "Pruning node (0,2)\n",
      "Fitting symbolic model with log_loss and theta 0.01\n",
      "Pruning node (0,1)\n",
      "Pruning node (0,2)\n",
      "Fitting symbolic model with log_loss and theta 0.05\n",
      "Pruning node (0,1)\n",
      "Pruning node (0,2)\n",
      "Fitting symbolic model with log_loss and theta 0.1\n",
      "Pruning node (0,0)\n",
      "Pruning node (0,1)\n",
      "Pruning node (0,2)\n",
      "Refitting best model with {'model_selection': 'score', 'param': 0.01, 'valid_loss': 0.0011112447828054428}\n",
      "Fitting G_Net...\n",
      "Execution time: 25.941879 seconds\n",
      "Pruning node (0,1)\n",
      "Pruning node (0,2)\n",
      "\n",
      "Fitting H_Net...\n",
      "Execution time: 4.931225 seconds\n",
      "\\sum_{j}(-0.5*x_i*x_j + 0.5*x_j) - 0.5 x_{i}\n",
      "Mean Test loss of symbolic formula: 0.0011451085253308217\n",
      "Var Test loss of symbolic formula: 2.1207599865899704e-09\n",
      "Std Test loss of symbolic formula: 4.6051709920370716e-05\n",
      "Evaluate raw model\n",
      "\n",
      "Number of model's parameters: 264\n",
      "\n",
      "Mean Test loss of best model: 0.00019420394770956287\n",
      "Var Test loss of best model: 9.010235804097534e-11\n",
      "Std Test loss of best model: 9.492226189939605e-06\n"
     ]
    }
   ],
   "source": [
    "model_path_gkan = \"./saved_models_optuna/model-epidemics-gkan/epidemics_gkan_ic1_s5_pd_mult_12/0\"\n",
    "\n",
    "post_process_gkan(\n",
    "    config=epid_config,\n",
    "    model_path=model_path_gkan,\n",
    "    test_set=EPID,\n",
    "    device='cuda',\n",
    "    n_g_hidden_layers=2,\n",
    "    n_h_hidden_layers=2,\n",
    "    sample_size=10000,\n",
    "    message_passing=False,\n",
    "    include_time=False,\n",
    "    atol=1e-5,\n",
    "    rtol=1e-5,\n",
    "    method=\"dopri5\"\n",
    ")"
   ]
  },
  {
   "cell_type": "markdown",
   "metadata": {},
   "source": [
    "#### SNR"
   ]
  },
  {
   "cell_type": "code",
   "execution_count": 23,
   "metadata": {},
   "outputs": [
    {
     "name": "stdout",
     "output_type": "stream",
     "text": [
      "./saved_models_optuna/model-epidemics-gkan/epidemics_gkan_ic1_s5_pd_mult_noise_70db_2/0\n",
      "Black-Box fitting \n",
      "\n",
      "Fitting black-box model with score and 50 iterations\n",
      "Fitting black-box model with score and 100 iterations\n",
      "Fitting black-box model with score and 200 iterations\n",
      "Fitting black-box model with accuracy and 50 iterations\n",
      "Fitting black-box model with accuracy and 100 iterations\n",
      "Fitting black-box model with accuracy and 200 iterations\n",
      "Refitting best model with {'model_selection': 'score', 'param': 50, 'valid_loss': 0.002244098810479045}\n",
      "Fitting G_Net...\n",
      "Execution time: 11.355172 seconds\n",
      "\n",
      "Fitting H_Net...\n",
      "Execution time: 10.227076 seconds\n",
      "\\sum_{j}(x_j*(0.51 - 0.51*x_i)) - 0.39 x_{i} - 0.06\n",
      "Mean Test loss of symbolic formula: 0.002354982541874051\n",
      "Var Test loss of symbolic formula: 1.0752977480680034e-07\n",
      "Std Test loss of symbolic formula: 0.0003279173292261334\n",
      "Spline-wise fitting\n",
      "\n",
      "Fitting symbolic model with score and theta 0.01\n",
      "Pruning node (0,1)\n",
      "Pruning node (0,2)\n",
      "Pruning node (0,3)\n",
      "Fitting symbolic model with score and theta 0.05\n",
      "Pruning node (0,1)\n",
      "Pruning node (0,1)\n",
      "Pruning node (0,2)\n",
      "Pruning node (0,3)\n",
      "Pruning node (0,4)\n",
      "Fitting symbolic model with score and theta 0.1\n",
      "Pruning node (0,0)\n",
      "Pruning node (0,1)\n",
      "Pruning node (0,1)\n",
      "Pruning node (0,2)\n",
      "Pruning node (0,3)\n",
      "Pruning node (0,4)\n",
      "Pruning node (0,5)\n",
      "Fitting symbolic model with log_loss and theta 0.01\n",
      "Pruning node (0,1)\n",
      "Pruning node (0,2)\n",
      "Pruning node (0,3)\n",
      "Fitting symbolic model with log_loss and theta 0.05\n",
      "Pruning node (0,1)\n",
      "Pruning node (0,1)\n",
      "Pruning node (0,2)\n",
      "Pruning node (0,3)\n",
      "Pruning node (0,4)\n",
      "Fitting symbolic model with log_loss and theta 0.1\n",
      "Pruning node (0,0)\n",
      "Pruning node (0,1)\n",
      "Pruning node (0,1)\n",
      "Pruning node (0,2)\n",
      "Pruning node (0,3)\n",
      "Pruning node (0,4)\n",
      "Pruning node (0,5)\n",
      "Refitting best model with {'model_selection': 'score', 'param': 0.1, 'valid_loss': 0.014380019158124924}\n",
      "Pruning node (0,0)\n",
      "Pruning node (0,1)\n",
      "Fitting G_Net...\n",
      "Execution time: 31.594218 seconds\n",
      "Pruning node (0,1)\n",
      "Pruning node (0,2)\n",
      "Pruning node (0,3)\n",
      "Pruning node (0,4)\n",
      "Pruning node (0,5)\n",
      "\n",
      "Fitting H_Net...\n",
      "Execution time: 5.871257 seconds\n",
      "\\sum_{j}(-0.46*x_i*x_j + 0.47*x_j) - 0.39 x_{i} - 0.06\n",
      "Mean Test loss of symbolic formula: 0.01322010283668836\n",
      "Var Test loss of symbolic formula: 2.6293119423887207e-06\n",
      "Std Test loss of symbolic formula: 0.0016215153228966788\n",
      "Evaluate raw model\n",
      "\n",
      "Number of model's parameters: 450\n",
      "\n",
      "Mean Test loss of best model: 0.0020562036661431193\n",
      "Var Test loss of best model: 8.05423553676876e-08\n",
      "Std Test loss of best model: 0.0002837998508944069\n",
      "./saved_models_optuna/model-epidemics-gkan/epidemics_gkan_ic1_s5_pd_mult_noise_50db_2/0\n",
      "Black-Box fitting \n",
      "\n",
      "Fitting black-box model with score and 50 iterations\n",
      "Fitting black-box model with score and 100 iterations\n",
      "Fitting black-box model with score and 200 iterations\n",
      "Fitting black-box model with accuracy and 50 iterations\n",
      "Fitting black-box model with accuracy and 100 iterations\n",
      "Fitting black-box model with accuracy and 200 iterations\n",
      "Refitting best model with {'model_selection': 'accuracy', 'param': 50, 'valid_loss': 0.028511973097920418}\n",
      "Fitting G_Net...\n",
      "Execution time: 11.184228 seconds\n",
      "\n",
      "Fitting H_Net...\n",
      "Execution time: 9.947385 seconds\n",
      "\\sum_{j}(-0.18*log(x_i)) - 0.14\n",
      "Mean Test loss of symbolic formula: 0.02964874605337779\n",
      "Var Test loss of symbolic formula: 6.506173588601313e-06\n",
      "Std Test loss of symbolic formula: 0.002550720209784153\n",
      "Spline-wise fitting\n",
      "\n",
      "Fitting symbolic model with score and theta 0.01\n",
      "Pruning node (0,3)\n",
      "Fitting symbolic model with score and theta 0.05\n",
      "Pruning node (0,3)\n",
      "Fitting symbolic model with score and theta 0.1\n",
      "Pruning node (0,1)\n",
      "Pruning node (0,2)\n",
      "Pruning node (0,3)\n",
      "Fitting symbolic model with log_loss and theta 0.01\n",
      "Pruning node (0,3)\n",
      "Fitting symbolic model with log_loss and theta 0.05\n",
      "Pruning node (0,3)\n",
      "Fitting symbolic model with log_loss and theta 0.1\n",
      "Pruning node (0,1)\n",
      "Pruning node (0,2)\n",
      "Pruning node (0,3)\n",
      "Refitting best model with {'model_selection': 'log_loss', 'param': 0.1, 'valid_loss': 0.03664926439523697}\n",
      "Pruning node (0,1)\n",
      "Fitting G_Net...\n",
      "Execution time: 26.217886 seconds\n",
      "Pruning node (0,2)\n",
      "Pruning node (0,3)\n",
      "\n",
      "Fitting H_Net...\n",
      "Execution time: 9.446302 seconds\n",
      "\\sum_{j}(0.34*tanh(0.55*x_j + 0.54*cos(2.73*x_i + 0.1) - 0.99) + 0.29) - 0.13\n",
      "Mean Test loss of symbolic formula: 0.03262868461509546\n",
      "Var Test loss of symbolic formula: 1.766416481109898e-06\n",
      "Std Test loss of symbolic formula: 0.0013290660183414133\n",
      "Evaluate raw model\n",
      "\n",
      "Number of model's parameters: 352\n",
      "\n",
      "Mean Test loss of best model: 0.0261530801653862\n",
      "Var Test loss of best model: 1.459289080037405e-05\n",
      "Std Test loss of best model: 0.003820064240346496\n",
      "./saved_models_optuna/model-epidemics-gkan/epidemics_gkan_ic1_s5_pd_mult_noise_20db_2/0\n",
      "Black-Box fitting \n",
      "\n",
      "Fitting black-box model with score and 50 iterations\n",
      "Fitting black-box model with score and 100 iterations\n",
      "Fitting black-box model with score and 200 iterations\n",
      "Fitting black-box model with accuracy and 50 iterations\n",
      "Fitting black-box model with accuracy and 100 iterations\n",
      "Fitting black-box model with accuracy and 200 iterations\n",
      "Refitting best model with {'model_selection': 'score', 'param': 100, 'valid_loss': 0.07408930361270905}\n",
      "Fitting G_Net...\n",
      "Execution time: 17.210457 seconds\n",
      "\n",
      "Fitting H_Net...\n",
      "Execution time: 17.634566 seconds\n",
      "\\sum_{j}(0.01 - 0.01*x_j) - x_{i} + 0.77\n",
      "Mean Test loss of symbolic formula: 0.07820665091276169\n",
      "Var Test loss of symbolic formula: 1.0264305971507959e-05\n",
      "Std Test loss of symbolic formula: 0.0032037955570710123\n",
      "Spline-wise fitting\n",
      "\n",
      "Fitting symbolic model with score and theta 0.01\n",
      "Fitting symbolic model with score and theta 0.05\n",
      "Fitting symbolic model with score and theta 0.1\n",
      "Pruning node (0,0)\n",
      "Fitting symbolic model with log_loss and theta 0.01\n",
      "Fitting symbolic model with log_loss and theta 0.05\n",
      "Fitting symbolic model with log_loss and theta 0.1\n",
      "Pruning node (0,0)\n",
      "Refitting best model with {'model_selection': 'score', 'param': 0.01, 'valid_loss': 0.10667437314987183}\n",
      "Fitting G_Net...\n",
      "Execution time: 12.127377 seconds\n",
      "\n",
      "Fitting H_Net...\n",
      "Execution time: 9.694168 seconds\n",
      "\\sum_{j}(0.0) - 1.09 \\tanh{\\left(88.88 x_{i} - 39.68 \\right)} + 0.17 \\tanh{\\left(78.19 \\sin{\\left(10.47 x_{i} - 5.14 \\right)} - 24.73 \\right)} + 0.9 \\tanh{\\left(18.53 \\tanh{\\left(9.74 x_{i} - 4.92 \\right)} + 25.3 \\right)} + 0.09\n",
      "Mean Test loss of symbolic formula: 0.10957680145899455\n",
      "Var Test loss of symbolic formula: 1.52982685459355e-05\n",
      "Std Test loss of symbolic formula: 0.003911300109418286\n",
      "Evaluate raw model\n",
      "\n",
      "Number of model's parameters: 174\n",
      "\n",
      "Mean Test loss of best model: 0.1770920753479004\n",
      "Var Test loss of best model: 9.097893966740027e-05\n",
      "Std Test loss of best model: 0.00953828808892876\n"
     ]
    }
   ],
   "source": [
    "model_paths_gkan = [\n",
    "    \"./saved_models_optuna/model-epidemics-gkan/epidemics_gkan_ic1_s5_pd_mult_noise_70db_2/0\",\n",
    "    \"./saved_models_optuna/model-epidemics-gkan/epidemics_gkan_ic1_s5_pd_mult_noise_50db_2/0\",\n",
    "    \"./saved_models_optuna/model-epidemics-gkan/epidemics_gkan_ic1_s5_pd_mult_noise_20db_2/0\",\n",
    "]\n",
    "\n",
    "for model_path in model_paths_gkan:\n",
    "    print(model_path)\n",
    "    post_process_gkan(\n",
    "        config=epid_config,\n",
    "        model_path=model_path,\n",
    "        test_set=EPID,\n",
    "        device='cuda',\n",
    "        n_g_hidden_layers=2,\n",
    "        n_h_hidden_layers=2,\n",
    "        sample_size=10000,\n",
    "        message_passing=False,\n",
    "        include_time=False,\n",
    "        atol=1e-5,\n",
    "        rtol=1e-5,\n",
    "        method=\"dopri5\"\n",
    "    )\n"
   ]
  },
  {
   "cell_type": "markdown",
   "metadata": {},
   "source": [
    "### Population"
   ]
  },
  {
   "cell_type": "markdown",
   "metadata": {},
   "source": [
    "#### IC=1"
   ]
  },
  {
   "cell_type": "code",
   "execution_count": 29,
   "metadata": {},
   "outputs": [
    {
     "name": "stdout",
     "output_type": "stream",
     "text": [
      "Black-Box fitting \n",
      "\n",
      "Fitting black-box model with score and 50 iterations\n",
      "Fitting black-box model with score and 100 iterations\n",
      "Fitting black-box model with score and 200 iterations\n",
      "Fitting black-box model with accuracy and 50 iterations\n",
      "Fitting black-box model with accuracy and 100 iterations\n",
      "Fitting black-box model with accuracy and 200 iterations\n",
      "Refitting best model with {'model_selection': 'score', 'param': 100, 'valid_loss': 1.8369477402302437e-05}\n",
      "Fitting G_Net...\n",
      "Execution time: 18.368421 seconds\n",
      "\n",
      "Fitting H_Net...\n",
      "Execution time: 18.789813 seconds\n",
      "\\sum_{j}(0.2*x_j**3) - 0.5 x_{i}\n",
      "Mean Test loss of symbolic formula: 1.7581651263753884e-05\n",
      "Var Test loss of symbolic formula: 2.584156024652137e-12\n",
      "Std Test loss of symbolic formula: 1.6075310338068553e-06\n",
      "Spline-wise fitting\n",
      "\n",
      "Fitting symbolic model with score and theta 0.01\n",
      "Pruning node (0,0)\n",
      "Pruning node (0,2)\n",
      "Pruning node (0,4)\n",
      "Fitting symbolic model with score and theta 0.05\n",
      "Pruning node (0,0)\n",
      "Pruning node (0,2)\n",
      "Pruning node (0,4)\n",
      "Fitting symbolic model with score and theta 0.1\n",
      "Pruning node (0,0)\n",
      "Pruning node (0,2)\n",
      "Pruning node (0,4)\n",
      "Fitting symbolic model with log_loss and theta 0.01\n",
      "Pruning node (0,0)\n",
      "Pruning node (0,2)\n",
      "Pruning node (0,4)\n",
      "Fitting symbolic model with log_loss and theta 0.05\n",
      "Pruning node (0,0)\n",
      "Pruning node (0,2)\n",
      "Pruning node (0,4)\n",
      "Fitting symbolic model with log_loss and theta 0.1\n",
      "Pruning node (0,0)\n",
      "Pruning node (0,2)\n",
      "Pruning node (0,4)\n",
      "Refitting best model with {'model_selection': 'log_loss', 'param': 0.01, 'valid_loss': 0.006122959777712822}\n",
      "Fitting G_Net...\n",
      "Execution time: 8.088346 seconds\n",
      "Pruning node (0,0)\n",
      "Pruning node (0,2)\n",
      "Pruning node (0,4)\n",
      "\n",
      "Fitting H_Net...\n",
      "Execution time: 10.261416 seconds\n",
      "\\sum_{j}(0.15*x_j**3 + 0.01*x_j**2 + 0.02*x_j) - 0.29 x_{i} - 0.17 \\tanh{\\left(1.43 x_{i} - 0.08 \\right)} - 0.01\n",
      "Mean Test loss of symbolic formula: 0.005054490951200326\n",
      "Var Test loss of symbolic formula: 6.284319698214194e-07\n",
      "Std Test loss of symbolic formula: 0.0007927370117645696\n",
      "Evaluate raw model\n",
      "\n",
      "Number of model's parameters: 294\n",
      "\n",
      "Mean Test loss of best model: 0.00026198988295315456\n",
      "Var Test loss of best model: 2.1526992571854367e-09\n",
      "Std Test loss of best model: 4.639719018631879e-05\n"
     ]
    }
   ],
   "source": [
    "model_path_gkan = \"./saved_models_optuna/model-population-gkan/population_gkan_ic1_s5_pd_mult_12/0\"\n",
    "\n",
    "post_process_gkan(\n",
    "    config=pop_config,\n",
    "    model_path=model_path_gkan,\n",
    "    test_set=POP,\n",
    "    device='cuda',\n",
    "    n_g_hidden_layers=2,\n",
    "    n_h_hidden_layers=2,\n",
    "    sample_size=10000,\n",
    "    message_passing=False,\n",
    "    include_time=False,\n",
    "    atol=1e-5,\n",
    "    rtol=1e-5,\n",
    "    method=\"dopri5\"\n",
    ")"
   ]
  },
  {
   "cell_type": "markdown",
   "metadata": {},
   "source": [
    "#### SNR"
   ]
  },
  {
   "cell_type": "code",
   "execution_count": 24,
   "metadata": {},
   "outputs": [
    {
     "name": "stdout",
     "output_type": "stream",
     "text": [
      "./saved_models_optuna/model-population-gkan/population_gkan_ic1_s5_pd_mult_noise_70db_2/0\n",
      "Black-Box fitting \n",
      "\n",
      "Fitting black-box model with score and 50 iterations\n",
      "Fitting black-box model with score and 100 iterations\n",
      "Fitting black-box model with score and 200 iterations\n",
      "Fitting black-box model with accuracy and 50 iterations\n",
      "Fitting black-box model with accuracy and 100 iterations\n",
      "Fitting black-box model with accuracy and 200 iterations\n",
      "Refitting best model with {'model_selection': 'score', 'param': 50, 'valid_loss': 100000000.0}\n",
      "Fitting G_Net...\n",
      "Execution time: 11.410990 seconds\n",
      "\n",
      "Fitting H_Net...\n",
      "Execution time: 11.822218 seconds\n",
      "\\sum_{j}(0.2*x_j**3) - 0.5 x_{i}\n",
      "Mean Test loss of symbolic formula: 8.771742674677323e-05\n",
      "Var Test loss of symbolic formula: 1.0174534376923578e-11\n",
      "Std Test loss of symbolic formula: 3.1897545950940453e-06\n",
      "Spline-wise fitting\n",
      "\n",
      "Fitting symbolic model with score and theta 0.01\n",
      "Fitting symbolic model with score and theta 0.05\n",
      "Pruning node (0,0)\n",
      "Pruning node (0,5)\n",
      "Fitting symbolic model with score and theta 0.1\n",
      "Pruning node (0,0)\n",
      "Pruning node (0,1)\n",
      "Pruning node (0,2)\n",
      "Pruning node (0,3)\n",
      "Pruning node (0,4)\n",
      "Pruning node (0,5)\n",
      "Fitting symbolic model with log_loss and theta 0.01\n",
      "Fitting symbolic model with log_loss and theta 0.05\n",
      "Pruning node (0,0)\n",
      "Pruning node (0,5)\n",
      "Fitting symbolic model with log_loss and theta 0.1\n",
      "Pruning node (0,0)\n",
      "Pruning node (0,1)\n",
      "Pruning node (0,2)\n",
      "Pruning node (0,3)\n",
      "Pruning node (0,4)\n",
      "Pruning node (0,5)\n",
      "Refitting best model with {'model_selection': 'score', 'param': 0.01, 'valid_loss': 0.18861649930477142}\n",
      "Fitting G_Net...\n",
      "Execution time: 39.421834 seconds\n",
      "\n",
      "Fitting H_Net...\n",
      "Execution time: 4.342211 seconds\n",
      "\\sum_{j}(0.02*x_i + 0.02*x_j + 0.04*tan(1.09*x_j - 0.03)) - 0.5 x_{i}\n",
      "Mean Test loss of symbolic formula: 0.022732293233275414\n",
      "Var Test loss of symbolic formula: 3.847226371665735e-06\n",
      "Std Test loss of symbolic formula: 0.0019614347737474565\n",
      "./saved_models_optuna/model-population-gkan/population_gkan_ic1_s5_pd_mult_noise_50db_2/0\n",
      "Black-Box fitting \n",
      "\n",
      "Fitting black-box model with score and 50 iterations\n",
      "Fitting black-box model with score and 100 iterations\n",
      "Fitting black-box model with score and 200 iterations\n",
      "Fitting black-box model with accuracy and 50 iterations\n",
      "Fitting black-box model with accuracy and 100 iterations\n",
      "Fitting black-box model with accuracy and 200 iterations\n",
      "Refitting best model with {'model_selection': 'accuracy', 'param': 50, 'valid_loss': 0.1454584300518036}\n",
      "Fitting G_Net...\n",
      "Execution time: 11.471240 seconds\n",
      "\n",
      "Fitting H_Net...\n",
      "Execution time: 12.337064 seconds\n",
      "\\sum_{j}(0.18*x_j**3) - 0.46 x_{i}\n",
      "Mean Test loss of symbolic formula: 0.0068573167858024435\n",
      "Var Test loss of symbolic formula: 1.628855964074743e-08\n",
      "Std Test loss of symbolic formula: 0.00012762664157905053\n",
      "Spline-wise fitting\n",
      "\n",
      "Fitting symbolic model with score and theta 0.01\n",
      "Pruning node (0,4)\n",
      "Fitting symbolic model with score and theta 0.05\n",
      "Pruning node (0,1)\n",
      "Pruning node (0,3)\n",
      "Pruning node (0,4)\n",
      "Fitting symbolic model with score and theta 0.1\n",
      "Pruning node (0,2)\n",
      "Pruning node (0,1)\n",
      "Pruning node (0,3)\n",
      "Pruning node (0,4)\n",
      "Fitting symbolic model with log_loss and theta 0.01\n"
     ]
    },
    {
     "ename": "KeyboardInterrupt",
     "evalue": "",
     "output_type": "error",
     "traceback": [
      "\u001b[31m---------------------------------------------------------------------------\u001b[39m",
      "\u001b[31mKeyboardInterrupt\u001b[39m                         Traceback (most recent call last)",
      "\u001b[36mCell\u001b[39m\u001b[36m \u001b[39m\u001b[32mIn[24]\u001b[39m\u001b[32m, line 9\u001b[39m\n\u001b[32m      7\u001b[39m \u001b[38;5;28;01mfor\u001b[39;00m model_path \u001b[38;5;129;01min\u001b[39;00m model_paths_gkan:\n\u001b[32m      8\u001b[39m     \u001b[38;5;28mprint\u001b[39m(model_path)\n\u001b[32m----> \u001b[39m\u001b[32m9\u001b[39m     \u001b[43mpost_process_gkan\u001b[49m\u001b[43m(\u001b[49m\n\u001b[32m     10\u001b[39m \u001b[43m        \u001b[49m\u001b[43mconfig\u001b[49m\u001b[43m=\u001b[49m\u001b[43mpop_config\u001b[49m\u001b[43m,\u001b[49m\n\u001b[32m     11\u001b[39m \u001b[43m        \u001b[49m\u001b[43mmodel_path\u001b[49m\u001b[43m=\u001b[49m\u001b[43mmodel_path\u001b[49m\u001b[43m,\u001b[49m\n\u001b[32m     12\u001b[39m \u001b[43m        \u001b[49m\u001b[43mtest_set\u001b[49m\u001b[43m=\u001b[49m\u001b[43mPOP\u001b[49m\u001b[43m,\u001b[49m\n\u001b[32m     13\u001b[39m \u001b[43m        \u001b[49m\u001b[43mdevice\u001b[49m\u001b[43m=\u001b[49m\u001b[33;43m'\u001b[39;49m\u001b[33;43mcuda\u001b[39;49m\u001b[33;43m'\u001b[39;49m\u001b[43m,\u001b[49m\n\u001b[32m     14\u001b[39m \u001b[43m        \u001b[49m\u001b[43mn_g_hidden_layers\u001b[49m\u001b[43m=\u001b[49m\u001b[32;43m2\u001b[39;49m\u001b[43m,\u001b[49m\n\u001b[32m     15\u001b[39m \u001b[43m        \u001b[49m\u001b[43mn_h_hidden_layers\u001b[49m\u001b[43m=\u001b[49m\u001b[32;43m2\u001b[39;49m\u001b[43m,\u001b[49m\n\u001b[32m     16\u001b[39m \u001b[43m        \u001b[49m\u001b[43msample_size\u001b[49m\u001b[43m=\u001b[49m\u001b[32;43m10000\u001b[39;49m\u001b[43m,\u001b[49m\n\u001b[32m     17\u001b[39m \u001b[43m        \u001b[49m\u001b[43mmessage_passing\u001b[49m\u001b[43m=\u001b[49m\u001b[38;5;28;43;01mFalse\u001b[39;49;00m\u001b[43m,\u001b[49m\n\u001b[32m     18\u001b[39m \u001b[43m        \u001b[49m\u001b[43minclude_time\u001b[49m\u001b[43m=\u001b[49m\u001b[38;5;28;43;01mFalse\u001b[39;49;00m\u001b[43m,\u001b[49m\n\u001b[32m     19\u001b[39m \u001b[43m        \u001b[49m\u001b[43matol\u001b[49m\u001b[43m=\u001b[49m\u001b[32;43m1e-5\u001b[39;49m\u001b[43m,\u001b[49m\n\u001b[32m     20\u001b[39m \u001b[43m        \u001b[49m\u001b[43mrtol\u001b[49m\u001b[43m=\u001b[49m\u001b[32;43m1e-5\u001b[39;49m\u001b[43m,\u001b[49m\n\u001b[32m     21\u001b[39m \u001b[43m        \u001b[49m\u001b[43mmethod\u001b[49m\u001b[43m=\u001b[49m\u001b[33;43m\"\u001b[39;49m\u001b[33;43mdopri5\u001b[39;49m\u001b[33;43m\"\u001b[39;49m\u001b[43m,\u001b[49m\n\u001b[32m     22\u001b[39m \u001b[43m        \u001b[49m\u001b[43meval_model\u001b[49m\u001b[43m=\u001b[49m\u001b[38;5;28;43;01mFalse\u001b[39;49;00m\n\u001b[32m     23\u001b[39m \u001b[43m    \u001b[49m\u001b[43m)\u001b[49m\n",
      "\u001b[36mCell\u001b[39m\u001b[36m \u001b[39m\u001b[32mIn[13]\u001b[39m\u001b[32m, line 394\u001b[39m, in \u001b[36mpost_process_gkan\u001b[39m\u001b[34m(config, model_path, test_set, device, n_g_hidden_layers, n_h_hidden_layers, sample_size, message_passing, include_time, atol, rtol, method, scaler, inverse_scale, adjoint, eval_model)\u001b[39m\n\u001b[32m    391\u001b[39m print_symb_error(g_symb=bb_g_symb, h_symb=bb_h_symb)\n\u001b[32m    393\u001b[39m \u001b[38;5;28mprint\u001b[39m(\u001b[33m\"\u001b[39m\u001b[33mSpline-wise fitting\u001b[39m\u001b[38;5;130;01m\\n\u001b[39;00m\u001b[33m\"\u001b[39m)\n\u001b[32m--> \u001b[39m\u001b[32m394\u001b[39m spline_symb, spl_g_symb, spl_h_symb = \u001b[43mvalid_symb_model\u001b[49m\u001b[43m(\u001b[49m\n\u001b[32m    395\u001b[39m \u001b[43m    \u001b[49m\u001b[43mconfig\u001b[49m\u001b[43m=\u001b[49m\u001b[43mconfig\u001b[49m\u001b[43m,\u001b[49m\n\u001b[32m    396\u001b[39m \u001b[43m    \u001b[49m\u001b[43mmodel_path_gkan\u001b[49m\u001b[43m=\u001b[49m\u001b[33;43mf\u001b[39;49m\u001b[33;43m\"\u001b[39;49m\u001b[38;5;132;43;01m{\u001b[39;49;00m\u001b[43mmodel_path\u001b[49m\u001b[38;5;132;43;01m}\u001b[39;49;00m\u001b[33;43m/gkan\u001b[39;49m\u001b[33;43m\"\u001b[39;49m\u001b[43m,\u001b[49m\n\u001b[32m    397\u001b[39m \u001b[43m    \u001b[49m\u001b[43mdevice\u001b[49m\u001b[43m=\u001b[49m\u001b[43mdevice\u001b[49m\u001b[43m,\u001b[49m\n\u001b[32m    398\u001b[39m \u001b[43m    \u001b[49m\u001b[43matol\u001b[49m\u001b[43m=\u001b[49m\u001b[43matol\u001b[49m\u001b[43m,\u001b[49m\n\u001b[32m    399\u001b[39m \u001b[43m    \u001b[49m\u001b[43mrtol\u001b[49m\u001b[43m=\u001b[49m\u001b[43mrtol\u001b[49m\u001b[43m,\u001b[49m\n\u001b[32m    400\u001b[39m \u001b[43m    \u001b[49m\u001b[43mmethod\u001b[49m\u001b[43m=\u001b[49m\u001b[43mmethod\u001b[49m\u001b[43m,\u001b[49m\n\u001b[32m    401\u001b[39m \u001b[43m    \u001b[49m\u001b[43mblack_box_fitting\u001b[49m\u001b[43m=\u001b[49m\u001b[38;5;28;43;01mFalse\u001b[39;49;00m\u001b[43m,\u001b[49m\n\u001b[32m    402\u001b[39m \u001b[43m    \u001b[49m\u001b[43mn_g_hidden_layers\u001b[49m\u001b[43m=\u001b[49m\u001b[43mn_g_hidden_layers\u001b[49m\u001b[43m,\u001b[49m\n\u001b[32m    403\u001b[39m \u001b[43m    \u001b[49m\u001b[43mn_h_hidden_layers\u001b[49m\u001b[43m=\u001b[49m\u001b[43mn_h_hidden_layers\u001b[49m\u001b[43m,\u001b[49m\n\u001b[32m    404\u001b[39m \u001b[43m    \u001b[49m\u001b[43msample_size\u001b[49m\u001b[43m \u001b[49m\u001b[43m=\u001b[49m\u001b[43m \u001b[49m\u001b[43msample_size\u001b[49m\n\u001b[32m    405\u001b[39m \u001b[43m\u001b[49m\u001b[43m)\u001b[49m\n\u001b[32m    406\u001b[39m \u001b[38;5;28mprint\u001b[39m(latex(quantise(spline_symb)))\n\u001b[32m    407\u001b[39m print_symb_error(g_symb=spl_g_symb, h_symb=spl_h_symb)\n",
      "\u001b[36mCell\u001b[39m\u001b[36m \u001b[39m\u001b[32mIn[13]\u001b[39m\u001b[32m, line 286\u001b[39m, in \u001b[36mvalid_symb_model\u001b[39m\u001b[34m(config, model_path_gkan, device, atol, rtol, method, black_box_fitting, n_g_hidden_layers, n_h_hidden_layers, sample_size)\u001b[39m\n\u001b[32m    283\u001b[39m valid_losses = []\n\u001b[32m    285\u001b[39m \u001b[38;5;28;01mfor\u001b[39;00m mod, val \u001b[38;5;129;01min\u001b[39;00m search_space:\n\u001b[32m--> \u001b[39m\u001b[32m286\u001b[39m     g_symb, h_symb = \u001b[43mfit_single_model\u001b[49m\u001b[43m(\u001b[49m\u001b[43mmod\u001b[49m\u001b[43m,\u001b[49m\u001b[43m \u001b[49m\u001b[43mval\u001b[49m\u001b[43m)\u001b[49m\n\u001b[32m    287\u001b[39m     \u001b[38;5;28;01mtry\u001b[39;00m:\n\u001b[32m    288\u001b[39m         loss = evaluate_model(g_symb, h_symb)\n",
      "\u001b[36mCell\u001b[39m\u001b[36m \u001b[39m\u001b[32mIn[13]\u001b[39m\u001b[32m, line 263\u001b[39m, in \u001b[36mvalid_symb_model.<locals>.fit_single_model\u001b[39m\u001b[34m(param1, param2)\u001b[39m\n\u001b[32m    261\u001b[39m \u001b[38;5;28;01melse\u001b[39;00m:\n\u001b[32m    262\u001b[39m     \u001b[38;5;28mprint\u001b[39m(\u001b[33mf\u001b[39m\u001b[33m\"\u001b[39m\u001b[33mFitting symbolic model with \u001b[39m\u001b[38;5;132;01m{\u001b[39;00mparam1\u001b[38;5;132;01m}\u001b[39;00m\u001b[33m and theta \u001b[39m\u001b[38;5;132;01m{\u001b[39;00mparam2\u001b[38;5;132;01m}\u001b[39;00m\u001b[33m\"\u001b[39m)\n\u001b[32m--> \u001b[39m\u001b[32m263\u001b[39m     _, g_symb, h_symb = \u001b[43mfit_model\u001b[49m\u001b[43m(\u001b[49m\n\u001b[32m    264\u001b[39m \u001b[43m        \u001b[49m\u001b[43mn_g_hidden_layers\u001b[49m\u001b[43m=\u001b[49m\u001b[43mn_g_hidden_layers\u001b[49m\u001b[43m,\u001b[49m\n\u001b[32m    265\u001b[39m \u001b[43m        \u001b[49m\u001b[43mn_h_hidden_layers\u001b[49m\u001b[43m=\u001b[49m\u001b[43mn_h_hidden_layers\u001b[49m\u001b[43m,\u001b[49m\n\u001b[32m    266\u001b[39m \u001b[43m        \u001b[49m\u001b[43mmodel_path\u001b[49m\u001b[43m=\u001b[49m\u001b[43mmodel_path_gkan\u001b[49m\u001b[43m,\u001b[49m\n\u001b[32m    267\u001b[39m \u001b[43m        \u001b[49m\u001b[43mtheta\u001b[49m\u001b[43m=\u001b[49m\u001b[43mparam2\u001b[49m\u001b[43m,\u001b[49m\n\u001b[32m    268\u001b[39m \u001b[43m        \u001b[49m\u001b[43mmessage_passing\u001b[49m\u001b[43m=\u001b[49m\u001b[38;5;28;43;01mFalse\u001b[39;49;00m\u001b[43m,\u001b[49m\n\u001b[32m    269\u001b[39m \u001b[43m        \u001b[49m\u001b[43minclude_time\u001b[49m\u001b[43m=\u001b[49m\u001b[38;5;28;43;01mFalse\u001b[39;49;00m\u001b[43m,\u001b[49m\n\u001b[32m    270\u001b[39m \u001b[43m        \u001b[49m\u001b[43msample_size\u001b[49m\u001b[43m=\u001b[49m\u001b[43msample_size\u001b[49m\u001b[43m,\u001b[49m\n\u001b[32m    271\u001b[39m \u001b[43m        \u001b[49m\u001b[43msort_by\u001b[49m\u001b[43m=\u001b[49m\u001b[43mparam1\u001b[49m\u001b[43m,\u001b[49m\n\u001b[32m    272\u001b[39m \u001b[43m        \u001b[49m\u001b[43mverbose\u001b[49m\u001b[43m=\u001b[49m\u001b[38;5;28;43;01mFalse\u001b[39;49;00m\n\u001b[32m    273\u001b[39m \u001b[43m    \u001b[49m\u001b[43m)\u001b[49m\n\u001b[32m    274\u001b[39m \u001b[38;5;28;01mreturn\u001b[39;00m g_symb, h_symb\n",
      "\u001b[36mFile \u001b[39m\u001b[32m~/Kan-for-Interpretable-Graph-Dynamics/utils/utils.py:566\u001b[39m, in \u001b[36mfit_model\u001b[39m\u001b[34m(n_h_hidden_layers, n_g_hidden_layers, model_path, theta, message_passing, include_time, seed, sample_size, sort_by, verbose)\u001b[39m\n\u001b[32m    563\u001b[39m \u001b[38;5;28;01mif\u001b[39;00m verbose:\n\u001b[32m    564\u001b[39m     \u001b[38;5;28mprint\u001b[39m(\u001b[33m\"\u001b[39m\u001b[33mFitting G_Net...\u001b[39m\u001b[33m\"\u001b[39m)\n\u001b[32m--> \u001b[39m\u001b[32m566\u001b[39m symb_g = \u001b[43mfit_kan\u001b[49m\u001b[43m(\u001b[49m\n\u001b[32m    567\u001b[39m \u001b[43m    \u001b[49m\u001b[43mpruned_acts\u001b[49m\u001b[43m,\u001b[49m\n\u001b[32m    568\u001b[39m \u001b[43m    \u001b[49m\u001b[43mpruned_preacts\u001b[49m\u001b[43m,\u001b[49m\n\u001b[32m    569\u001b[39m \u001b[43m    \u001b[49m\u001b[43mkan_masks_mult\u001b[49m\u001b[43m=\u001b[49m\u001b[43mpruned_masks_mult\u001b[49m\u001b[43m,\u001b[49m\n\u001b[32m    570\u001b[39m \u001b[43m    \u001b[49m\u001b[43msymb_xs\u001b[49m\u001b[43m=\u001b[49m\u001b[43m[\u001b[49m\u001b[43msp\u001b[49m\u001b[43m.\u001b[49m\u001b[43mSymbol\u001b[49m\u001b[43m(\u001b[49m\u001b[33;43m'\u001b[39;49m\u001b[33;43mx_i\u001b[39;49m\u001b[33;43m'\u001b[39;49m\u001b[43m)\u001b[49m\u001b[43m,\u001b[49m\u001b[43m \u001b[49m\u001b[43msp\u001b[49m\u001b[43m.\u001b[49m\u001b[43mSymbol\u001b[49m\u001b[43m(\u001b[49m\u001b[33;43m'\u001b[39;49m\u001b[33;43mx_j\u001b[39;49m\u001b[33;43m'\u001b[39;49m\u001b[43m)\u001b[49m\u001b[43m]\u001b[49m\u001b[43m,\u001b[49m\n\u001b[32m    571\u001b[39m \u001b[43m    \u001b[49m\u001b[43mmodel_path\u001b[49m\u001b[43m=\u001b[49m\u001b[33;43mf\u001b[39;49m\u001b[33;43m\"\u001b[39;49m\u001b[38;5;132;43;01m{\u001b[39;49;00m\u001b[43mmodel_path\u001b[49m\u001b[38;5;132;43;01m}\u001b[39;49;00m\u001b[33;43m/g_net\u001b[39;49m\u001b[33;43m\"\u001b[39;49m\u001b[43m,\u001b[49m\n\u001b[32m    572\u001b[39m \u001b[43m    \u001b[49m\u001b[43mseed\u001b[49m\u001b[43m=\u001b[49m\u001b[43mseed\u001b[49m\u001b[43m,\u001b[49m\n\u001b[32m    573\u001b[39m \u001b[43m    \u001b[49m\u001b[43msample_size\u001b[49m\u001b[43m=\u001b[49m\u001b[43msample_size\u001b[49m\u001b[43m,\u001b[49m\n\u001b[32m    574\u001b[39m \u001b[43m    \u001b[49m\u001b[43msort_by\u001b[49m\u001b[43m=\u001b[49m\u001b[43msort_by\u001b[49m\u001b[43m,\u001b[49m\n\u001b[32m    575\u001b[39m \u001b[43m    \u001b[49m\u001b[43mverbose\u001b[49m\u001b[43m=\u001b[49m\u001b[43mverbose\u001b[49m\n\u001b[32m    576\u001b[39m \u001b[43m\u001b[49m\u001b[43m)\u001b[49m\n\u001b[32m    578\u001b[39m symb_g = symb_g[\u001b[32m0\u001b[39m]  \u001b[38;5;66;03m# Univariate functions\u001b[39;00m\n\u001b[32m    579\u001b[39m \u001b[38;5;66;03m# H_Net\u001b[39;00m\n",
      "\u001b[36mFile \u001b[39m\u001b[32m~/Kan-for-Interpretable-Graph-Dynamics/utils/utils.py:526\u001b[39m, in \u001b[36mfit_kan\u001b[39m\u001b[34m(kan_acts, kan_preacts, kan_masks_mult, symb_xs, model_path, seed, sample_size, sort_by, verbose)\u001b[39m\n\u001b[32m    523\u001b[39m \u001b[38;5;28;01mwith\u001b[39;00m \u001b[38;5;28mopen\u001b[39m(save_path, \u001b[33m\"\u001b[39m\u001b[33mw\u001b[39m\u001b[33m\"\u001b[39m) \u001b[38;5;28;01mas\u001b[39;00m f:\n\u001b[32m    524\u001b[39m     json.dump(all_functions, f)\n\u001b[32m--> \u001b[39m\u001b[32m526\u001b[39m \u001b[38;5;28;01mreturn\u001b[39;00m [\u001b[43msp\u001b[49m\u001b[43m.\u001b[49m\u001b[43msimplify\u001b[49m\u001b[43m(\u001b[49m\u001b[43msymbx\u001b[49m\u001b[43m)\u001b[49m \u001b[38;5;28;01mfor\u001b[39;00m symbx \u001b[38;5;129;01min\u001b[39;00m symb_xs]\n",
      "\u001b[36mFile \u001b[39m\u001b[32m~/miniconda3/envs/myenv/lib/python3.12/site-packages/sympy/simplify/simplify.py:699\u001b[39m, in \u001b[36msimplify\u001b[39m\u001b[34m(expr, ratio, measure, rational, inverse, doit, **kwargs)\u001b[39m\n\u001b[32m    696\u001b[39m     expr = besselsimp(expr)\n\u001b[32m    698\u001b[39m \u001b[38;5;28;01mif\u001b[39;00m expr.has(TrigonometricFunction, HyperbolicFunction):\n\u001b[32m--> \u001b[39m\u001b[32m699\u001b[39m     expr = \u001b[43mtrigsimp\u001b[49m\u001b[43m(\u001b[49m\u001b[43mexpr\u001b[49m\u001b[43m,\u001b[49m\u001b[43m \u001b[49m\u001b[43mdeep\u001b[49m\u001b[43m=\u001b[49m\u001b[38;5;28;43;01mTrue\u001b[39;49;00m\u001b[43m)\u001b[49m\n\u001b[32m    701\u001b[39m \u001b[38;5;28;01mif\u001b[39;00m expr.has(log):\n\u001b[32m    702\u001b[39m     expr = shorter(expand_log(expr, deep=\u001b[38;5;28;01mTrue\u001b[39;00m), logcombine(expr))\n",
      "\u001b[36mFile \u001b[39m\u001b[32m~/miniconda3/envs/myenv/lib/python3.12/site-packages/sympy/simplify/trigsimp.py:565\u001b[39m, in \u001b[36mtrigsimp\u001b[39m\u001b[34m(expr, inverse, **opts)\u001b[39m\n\u001b[32m    554\u001b[39m     \u001b[38;5;28;01mreturn\u001b[39;00m trigsimp_groebner(new, **opts)\n\u001b[32m    556\u001b[39m trigsimpfunc = {\n\u001b[32m    557\u001b[39m     \u001b[33m'\u001b[39m\u001b[33mfu\u001b[39m\u001b[33m'\u001b[39m: (\u001b[38;5;28;01mlambda\u001b[39;00m x: fu(x, **opts)),\n\u001b[32m    558\u001b[39m     \u001b[33m'\u001b[39m\u001b[33mmatching\u001b[39m\u001b[33m'\u001b[39m: (\u001b[38;5;28;01mlambda\u001b[39;00m x: futrig(x)),\n\u001b[32m   (...)\u001b[39m\u001b[32m    562\u001b[39m     \u001b[33m'\u001b[39m\u001b[33mold\u001b[39m\u001b[33m'\u001b[39m: \u001b[38;5;28;01mlambda\u001b[39;00m x: trigsimp_old(x, **opts),\n\u001b[32m    563\u001b[39m                }[method]\n\u001b[32m--> \u001b[39m\u001b[32m565\u001b[39m expr_simplified = \u001b[43mtrigsimpfunc\u001b[49m\u001b[43m(\u001b[49m\u001b[43mexpr\u001b[49m\u001b[43m)\u001b[49m\n\u001b[32m    566\u001b[39m \u001b[38;5;28;01mif\u001b[39;00m inverse:\n\u001b[32m    567\u001b[39m     expr_simplified = _trigsimp_inverse(expr_simplified)\n",
      "\u001b[36mFile \u001b[39m\u001b[32m~/miniconda3/envs/myenv/lib/python3.12/site-packages/sympy/simplify/trigsimp.py:558\u001b[39m, in \u001b[36mtrigsimp.<locals>.<lambda>\u001b[39m\u001b[34m(x)\u001b[39m\n\u001b[32m    553\u001b[39m         \u001b[38;5;28;01mreturn\u001b[39;00m new\n\u001b[32m    554\u001b[39m     \u001b[38;5;28;01mreturn\u001b[39;00m trigsimp_groebner(new, **opts)\n\u001b[32m    556\u001b[39m trigsimpfunc = {\n\u001b[32m    557\u001b[39m     \u001b[33m'\u001b[39m\u001b[33mfu\u001b[39m\u001b[33m'\u001b[39m: (\u001b[38;5;28;01mlambda\u001b[39;00m x: fu(x, **opts)),\n\u001b[32m--> \u001b[39m\u001b[32m558\u001b[39m     \u001b[33m'\u001b[39m\u001b[33mmatching\u001b[39m\u001b[33m'\u001b[39m: (\u001b[38;5;28;01mlambda\u001b[39;00m x: \u001b[43mfutrig\u001b[49m\u001b[43m(\u001b[49m\u001b[43mx\u001b[49m\u001b[43m)\u001b[49m),\n\u001b[32m    559\u001b[39m     \u001b[33m'\u001b[39m\u001b[33mgroebner\u001b[39m\u001b[33m'\u001b[39m: (\u001b[38;5;28;01mlambda\u001b[39;00m x: groebnersimp(x, **opts)),\n\u001b[32m    560\u001b[39m     \u001b[33m'\u001b[39m\u001b[33mcombined\u001b[39m\u001b[33m'\u001b[39m: (\u001b[38;5;28;01mlambda\u001b[39;00m x: futrig(groebnersimp(x,\n\u001b[32m    561\u001b[39m                            polynomial=\u001b[38;5;28;01mTrue\u001b[39;00m, hints=[\u001b[32m2\u001b[39m, tan]))),\n\u001b[32m    562\u001b[39m     \u001b[33m'\u001b[39m\u001b[33mold\u001b[39m\u001b[33m'\u001b[39m: \u001b[38;5;28;01mlambda\u001b[39;00m x: trigsimp_old(x, **opts),\n\u001b[32m    563\u001b[39m                }[method]\n\u001b[32m    565\u001b[39m expr_simplified = trigsimpfunc(expr)\n\u001b[32m    566\u001b[39m \u001b[38;5;28;01mif\u001b[39;00m inverse:\n",
      "\u001b[36mFile \u001b[39m\u001b[32m~/miniconda3/envs/myenv/lib/python3.12/site-packages/sympy/simplify/trigsimp.py:1159\u001b[39m, in \u001b[36mfutrig\u001b[39m\u001b[34m(e, hyper, **kwargs)\u001b[39m\n\u001b[32m   1156\u001b[39m     \u001b[38;5;28;01mreturn\u001b[39;00m e\n\u001b[32m   1158\u001b[39m old = e\n\u001b[32m-> \u001b[39m\u001b[32m1159\u001b[39m e = \u001b[43mbottom_up\u001b[49m\u001b[43m(\u001b[49m\u001b[43me\u001b[49m\u001b[43m,\u001b[49m\u001b[43m \u001b[49m\u001b[43m_futrig\u001b[49m\u001b[43m)\u001b[49m\n\u001b[32m   1161\u001b[39m \u001b[38;5;28;01mif\u001b[39;00m hyper \u001b[38;5;129;01mand\u001b[39;00m e.has(HyperbolicFunction):\n\u001b[32m   1162\u001b[39m     e, f = hyper_as_trig(e)\n",
      "\u001b[36mFile \u001b[39m\u001b[32m~/miniconda3/envs/myenv/lib/python3.12/site-packages/sympy/core/traversal.py:233\u001b[39m, in \u001b[36mbottom_up\u001b[39m\u001b[34m(rv, F, atoms, nonbasic)\u001b[39m\n\u001b[32m    231\u001b[39m     \u001b[38;5;28;01mif\u001b[39;00m args != rv.args:\n\u001b[32m    232\u001b[39m         rv = rv.func(*args)\n\u001b[32m--> \u001b[39m\u001b[32m233\u001b[39m     rv = \u001b[43mF\u001b[49m\u001b[43m(\u001b[49m\u001b[43mrv\u001b[49m\u001b[43m)\u001b[49m\n\u001b[32m    234\u001b[39m \u001b[38;5;28;01melif\u001b[39;00m atoms:\n\u001b[32m    235\u001b[39m     rv = F(rv)\n",
      "\u001b[36mFile \u001b[39m\u001b[32m~/miniconda3/envs/myenv/lib/python3.12/site-packages/sympy/simplify/trigsimp.py:1226\u001b[39m, in \u001b[36m_futrig\u001b[39m\u001b[34m(e)\u001b[39m\n\u001b[32m   1187\u001b[39m trigs = \u001b[38;5;28;01mlambda\u001b[39;00m x: x.has(TrigonometricFunction)\n\u001b[32m   1189\u001b[39m tree = [identity,\n\u001b[32m   1190\u001b[39m     (\n\u001b[32m   1191\u001b[39m     TR3,  \u001b[38;5;66;03m# canonical angles\u001b[39;00m\n\u001b[32m   (...)\u001b[39m\u001b[32m   1224\u001b[39m         factor_terms, TR12(x), trigs)],  \u001b[38;5;66;03m# expand tan of sum\u001b[39;00m\n\u001b[32m   1225\u001b[39m     )]\n\u001b[32m-> \u001b[39m\u001b[32m1226\u001b[39m e = \u001b[43mgreedy\u001b[49m\u001b[43m(\u001b[49m\u001b[43mtree\u001b[49m\u001b[43m,\u001b[49m\u001b[43m \u001b[49m\u001b[43mobjective\u001b[49m\u001b[43m=\u001b[49m\u001b[43mLops\u001b[49m\u001b[43m)\u001b[49m\u001b[43m(\u001b[49m\u001b[43me\u001b[49m\u001b[43m)\u001b[49m\n\u001b[32m   1228\u001b[39m \u001b[38;5;28;01mif\u001b[39;00m coeff \u001b[38;5;129;01mis\u001b[39;00m \u001b[38;5;129;01mnot\u001b[39;00m \u001b[38;5;28;01mNone\u001b[39;00m:\n\u001b[32m   1229\u001b[39m     e = coeff * e\n",
      "\u001b[36mFile \u001b[39m\u001b[32m~/miniconda3/envs/myenv/lib/python3.12/site-packages/sympy/strategies/core.py:150\u001b[39m, in \u001b[36mminimize.<locals>.minrule\u001b[39m\u001b[34m(expr)\u001b[39m\n\u001b[32m    149\u001b[39m \u001b[38;5;28;01mdef\u001b[39;00m\u001b[38;5;250m \u001b[39m\u001b[34mminrule\u001b[39m(expr: _S) -> _T:\n\u001b[32m--> \u001b[39m\u001b[32m150\u001b[39m     \u001b[38;5;28;01mreturn\u001b[39;00m \u001b[38;5;28mmin\u001b[39m([\u001b[43mrule\u001b[49m\u001b[43m(\u001b[49m\u001b[43mexpr\u001b[49m\u001b[43m)\u001b[49m \u001b[38;5;28;01mfor\u001b[39;00m rule \u001b[38;5;129;01min\u001b[39;00m rules], key=objective)\n",
      "\u001b[36mFile \u001b[39m\u001b[32m~/miniconda3/envs/myenv/lib/python3.12/site-packages/sympy/strategies/core.py:64\u001b[39m, in \u001b[36mchain.<locals>.chain_rl\u001b[39m\u001b[34m(expr)\u001b[39m\n\u001b[32m     62\u001b[39m \u001b[38;5;28;01mdef\u001b[39;00m\u001b[38;5;250m \u001b[39m\u001b[34mchain_rl\u001b[39m(expr: _T) -> _T:\n\u001b[32m     63\u001b[39m     \u001b[38;5;28;01mfor\u001b[39;00m rule \u001b[38;5;129;01min\u001b[39;00m rules:\n\u001b[32m---> \u001b[39m\u001b[32m64\u001b[39m         expr = \u001b[43mrule\u001b[49m\u001b[43m(\u001b[49m\u001b[43mexpr\u001b[49m\u001b[43m)\u001b[49m\n\u001b[32m     65\u001b[39m     \u001b[38;5;28;01mreturn\u001b[39;00m expr\n",
      "\u001b[36mFile \u001b[39m\u001b[32m~/miniconda3/envs/myenv/lib/python3.12/site-packages/sympy/simplify/trigsimp.py:1203\u001b[39m, in \u001b[36m_futrig.<locals>.<lambda>\u001b[39m\u001b[34m(x)\u001b[39m\n\u001b[32m   1186\u001b[39m Lops = \u001b[38;5;28;01mlambda\u001b[39;00m x: (L(x), x.count_ops(), _nodes(x), \u001b[38;5;28mlen\u001b[39m(x.args), x.is_Add)\n\u001b[32m   1187\u001b[39m trigs = \u001b[38;5;28;01mlambda\u001b[39;00m x: x.has(TrigonometricFunction)\n\u001b[32m   1189\u001b[39m tree = [identity,\n\u001b[32m   1190\u001b[39m     (\n\u001b[32m   1191\u001b[39m     TR3,  \u001b[38;5;66;03m# canonical angles\u001b[39;00m\n\u001b[32m   1192\u001b[39m     TR1,  \u001b[38;5;66;03m# sec-csc -> cos-sin\u001b[39;00m\n\u001b[32m   1193\u001b[39m     TR12,  \u001b[38;5;66;03m# expand tan of sum\u001b[39;00m\n\u001b[32m   1194\u001b[39m     \u001b[38;5;28;01mlambda\u001b[39;00m x: _eapply(factor, x, trigs),\n\u001b[32m   1195\u001b[39m     TR2,  \u001b[38;5;66;03m# tan-cot -> sin-cos\u001b[39;00m\n\u001b[32m   1196\u001b[39m     [identity, \u001b[38;5;28;01mlambda\u001b[39;00m x: _eapply(_mexpand, x, trigs)],\n\u001b[32m   1197\u001b[39m     TR2i,  \u001b[38;5;66;03m# sin-cos ratio -> tan\u001b[39;00m\n\u001b[32m   1198\u001b[39m     \u001b[38;5;28;01mlambda\u001b[39;00m x: _eapply(\u001b[38;5;28;01mlambda\u001b[39;00m i: factor(i.normal()), x, trigs),\n\u001b[32m   1199\u001b[39m     TR14,  \u001b[38;5;66;03m# factored identities\u001b[39;00m\n\u001b[32m   1200\u001b[39m     TR5,  \u001b[38;5;66;03m# sin-pow -> cos_pow\u001b[39;00m\n\u001b[32m   1201\u001b[39m     TR10,  \u001b[38;5;66;03m# sin-cos of sums -> sin-cos prod\u001b[39;00m\n\u001b[32m   1202\u001b[39m     TR11, _TR11, TR6, \u001b[38;5;66;03m# reduce double angles and rewrite cos pows\u001b[39;00m\n\u001b[32m-> \u001b[39m\u001b[32m1203\u001b[39m     \u001b[38;5;28;01mlambda\u001b[39;00m x: \u001b[43m_eapply\u001b[49m\u001b[43m(\u001b[49m\u001b[43mfactor\u001b[49m\u001b[43m,\u001b[49m\u001b[43m \u001b[49m\u001b[43mx\u001b[49m\u001b[43m,\u001b[49m\u001b[43m \u001b[49m\u001b[43mtrigs\u001b[49m\u001b[43m)\u001b[49m,\n\u001b[32m   1204\u001b[39m     TR14,  \u001b[38;5;66;03m# factored powers of identities\u001b[39;00m\n\u001b[32m   1205\u001b[39m     [identity, \u001b[38;5;28;01mlambda\u001b[39;00m x: _eapply(_mexpand, x, trigs)],\n\u001b[32m   1206\u001b[39m     TR10i,  \u001b[38;5;66;03m# sin-cos products > sin-cos of sums\u001b[39;00m\n\u001b[32m   1207\u001b[39m     TRmorrie,\n\u001b[32m   1208\u001b[39m     [identity, TR8],  \u001b[38;5;66;03m# sin-cos products -> sin-cos of sums\u001b[39;00m\n\u001b[32m   1209\u001b[39m     [identity, \u001b[38;5;28;01mlambda\u001b[39;00m x: TR2i(TR2(x))],  \u001b[38;5;66;03m# tan -> sin-cos -> tan\u001b[39;00m\n\u001b[32m   1210\u001b[39m     [\n\u001b[32m   1211\u001b[39m         \u001b[38;5;28;01mlambda\u001b[39;00m x: _eapply(expand_mul, TR5(x), trigs),\n\u001b[32m   1212\u001b[39m         \u001b[38;5;28;01mlambda\u001b[39;00m x: _eapply(\n\u001b[32m   1213\u001b[39m             expand_mul, TR15(x), trigs)], \u001b[38;5;66;03m# pos/neg powers of sin\u001b[39;00m\n\u001b[32m   1214\u001b[39m     [\n\u001b[32m   1215\u001b[39m         \u001b[38;5;28;01mlambda\u001b[39;00m x:  _eapply(expand_mul, TR6(x), trigs),\n\u001b[32m   1216\u001b[39m         \u001b[38;5;28;01mlambda\u001b[39;00m x:  _eapply(\n\u001b[32m   1217\u001b[39m             expand_mul, TR16(x), trigs)], \u001b[38;5;66;03m# pos/neg powers of cos\u001b[39;00m\n\u001b[32m   1218\u001b[39m     TR111,  \u001b[38;5;66;03m# tan, sin, cos to neg power -> cot, csc, sec\u001b[39;00m\n\u001b[32m   1219\u001b[39m     [identity, TR2i],  \u001b[38;5;66;03m# sin-cos ratio to tan\u001b[39;00m\n\u001b[32m   1220\u001b[39m     [identity, \u001b[38;5;28;01mlambda\u001b[39;00m x: _eapply(\n\u001b[32m   1221\u001b[39m         expand_mul, TR22(x), trigs)],  \u001b[38;5;66;03m# tan-cot to sec-csc\u001b[39;00m\n\u001b[32m   1222\u001b[39m     TR1, TR2, TR2i,\n\u001b[32m   1223\u001b[39m     [identity, \u001b[38;5;28;01mlambda\u001b[39;00m x: _eapply(\n\u001b[32m   1224\u001b[39m         factor_terms, TR12(x), trigs)],  \u001b[38;5;66;03m# expand tan of sum\u001b[39;00m\n\u001b[32m   1225\u001b[39m     )]\n\u001b[32m   1226\u001b[39m e = greedy(tree, objective=Lops)(e)\n\u001b[32m   1228\u001b[39m \u001b[38;5;28;01mif\u001b[39;00m coeff \u001b[38;5;129;01mis\u001b[39;00m \u001b[38;5;129;01mnot\u001b[39;00m \u001b[38;5;28;01mNone\u001b[39;00m:\n",
      "\u001b[36mFile \u001b[39m\u001b[32m~/miniconda3/envs/myenv/lib/python3.12/site-packages/sympy/simplify/trigsimp.py:1250\u001b[39m, in \u001b[36m_eapply\u001b[39m\u001b[34m(func, e, cond)\u001b[39m\n\u001b[32m   1248\u001b[39m     \u001b[38;5;28;01mreturn\u001b[39;00m e\n\u001b[32m   1249\u001b[39m \u001b[38;5;28;01mif\u001b[39;00m _is_Expr(e) \u001b[38;5;129;01mor\u001b[39;00m \u001b[38;5;129;01mnot\u001b[39;00m e.args:\n\u001b[32m-> \u001b[39m\u001b[32m1250\u001b[39m     \u001b[38;5;28;01mreturn\u001b[39;00m \u001b[43mfunc\u001b[49m\u001b[43m(\u001b[49m\u001b[43me\u001b[49m\u001b[43m)\u001b[49m\n\u001b[32m   1251\u001b[39m \u001b[38;5;28;01mreturn\u001b[39;00m e.func(*[\n\u001b[32m   1252\u001b[39m     _eapply(func, ei) \u001b[38;5;28;01mif\u001b[39;00m (cond \u001b[38;5;129;01mis\u001b[39;00m \u001b[38;5;28;01mNone\u001b[39;00m \u001b[38;5;129;01mor\u001b[39;00m cond(ei)) \u001b[38;5;28;01melse\u001b[39;00m ei\n\u001b[32m   1253\u001b[39m     \u001b[38;5;28;01mfor\u001b[39;00m ei \u001b[38;5;129;01min\u001b[39;00m e.args])\n",
      "\u001b[36mFile \u001b[39m\u001b[32m~/miniconda3/envs/myenv/lib/python3.12/site-packages/sympy/polys/polytools.py:6577\u001b[39m, in \u001b[36mfactor\u001b[39m\u001b[34m(f, deep, *gens, **args)\u001b[39m\n\u001b[32m   6574\u001b[39m     \u001b[38;5;28;01mreturn\u001b[39;00m f.xreplace(partials)\n\u001b[32m   6576\u001b[39m \u001b[38;5;28;01mtry\u001b[39;00m:\n\u001b[32m-> \u001b[39m\u001b[32m6577\u001b[39m     \u001b[38;5;28;01mreturn\u001b[39;00m \u001b[43m_generic_factor\u001b[49m\u001b[43m(\u001b[49m\u001b[43mf\u001b[49m\u001b[43m,\u001b[49m\u001b[43m \u001b[49m\u001b[43mgens\u001b[49m\u001b[43m,\u001b[49m\u001b[43m \u001b[49m\u001b[43margs\u001b[49m\u001b[43m,\u001b[49m\u001b[43m \u001b[49m\u001b[43mmethod\u001b[49m\u001b[43m=\u001b[49m\u001b[33;43m'\u001b[39;49m\u001b[33;43mfactor\u001b[39;49m\u001b[33;43m'\u001b[39;49m\u001b[43m)\u001b[49m\n\u001b[32m   6578\u001b[39m \u001b[38;5;28;01mexcept\u001b[39;00m PolynomialError:\n\u001b[32m   6579\u001b[39m     \u001b[38;5;28;01mif\u001b[39;00m \u001b[38;5;129;01mnot\u001b[39;00m f.is_commutative:\n",
      "\u001b[36mFile \u001b[39m\u001b[32m~/miniconda3/envs/myenv/lib/python3.12/site-packages/sympy/polys/polytools.py:6258\u001b[39m, in \u001b[36m_generic_factor\u001b[39m\u001b[34m(expr, gens, args, method)\u001b[39m\n\u001b[32m   6256\u001b[39m opt = options.build_options(gens, args)\n\u001b[32m   6257\u001b[39m opt[\u001b[33m'\u001b[39m\u001b[33mfraction\u001b[39m\u001b[33m'\u001b[39m] = fraction\n\u001b[32m-> \u001b[39m\u001b[32m6258\u001b[39m \u001b[38;5;28;01mreturn\u001b[39;00m \u001b[43m_symbolic_factor\u001b[49m\u001b[43m(\u001b[49m\u001b[43msympify\u001b[49m\u001b[43m(\u001b[49m\u001b[43mexpr\u001b[49m\u001b[43m)\u001b[49m\u001b[43m,\u001b[49m\u001b[43m \u001b[49m\u001b[43mopt\u001b[49m\u001b[43m,\u001b[49m\u001b[43m \u001b[49m\u001b[43mmethod\u001b[49m\u001b[43m)\u001b[49m\n",
      "\u001b[36mFile \u001b[39m\u001b[32m~/miniconda3/envs/myenv/lib/python3.12/site-packages/sympy/polys/polytools.py:6198\u001b[39m, in \u001b[36m_symbolic_factor\u001b[39m\u001b[34m(expr, opt, method)\u001b[39m\n\u001b[32m   6196\u001b[39m     \u001b[38;5;28;01mif\u001b[39;00m \u001b[38;5;28mhasattr\u001b[39m(expr,\u001b[33m'\u001b[39m\u001b[33m_eval_factor\u001b[39m\u001b[33m'\u001b[39m):\n\u001b[32m   6197\u001b[39m         \u001b[38;5;28;01mreturn\u001b[39;00m expr._eval_factor()\n\u001b[32m-> \u001b[39m\u001b[32m6198\u001b[39m     coeff, factors = \u001b[43m_symbolic_factor_list\u001b[49m\u001b[43m(\u001b[49m\u001b[43mtogether\u001b[49m\u001b[43m(\u001b[49m\u001b[43mexpr\u001b[49m\u001b[43m,\u001b[49m\u001b[43m \u001b[49m\u001b[43mfraction\u001b[49m\u001b[43m=\u001b[49m\u001b[43mopt\u001b[49m\u001b[43m[\u001b[49m\u001b[33;43m'\u001b[39;49m\u001b[33;43mfraction\u001b[39;49m\u001b[33;43m'\u001b[39;49m\u001b[43m]\u001b[49m\u001b[43m)\u001b[49m\u001b[43m,\u001b[49m\u001b[43m \u001b[49m\u001b[43mopt\u001b[49m\u001b[43m,\u001b[49m\u001b[43m \u001b[49m\u001b[43mmethod\u001b[49m\u001b[43m)\u001b[49m\n\u001b[32m   6199\u001b[39m     \u001b[38;5;28;01mreturn\u001b[39;00m _keep_coeff(coeff, _factors_product(factors))\n\u001b[32m   6200\u001b[39m \u001b[38;5;28;01melif\u001b[39;00m \u001b[38;5;28mhasattr\u001b[39m(expr, \u001b[33m'\u001b[39m\u001b[33margs\u001b[39m\u001b[33m'\u001b[39m):\n",
      "\u001b[36mFile \u001b[39m\u001b[32m~/miniconda3/envs/myenv/lib/python3.12/site-packages/sympy/polys/polytools.py:6163\u001b[39m, in \u001b[36m_symbolic_factor_list\u001b[39m\u001b[34m(expr, opt, method)\u001b[39m\n\u001b[32m   6160\u001b[39m \u001b[38;5;28;01melse\u001b[39;00m:\n\u001b[32m   6161\u001b[39m     func = \u001b[38;5;28mgetattr\u001b[39m(poly, method + \u001b[33m'\u001b[39m\u001b[33m_list\u001b[39m\u001b[33m'\u001b[39m)\n\u001b[32m-> \u001b[39m\u001b[32m6163\u001b[39m     _coeff, _factors = \u001b[43mfunc\u001b[49m\u001b[43m(\u001b[49m\u001b[43m)\u001b[49m\n\u001b[32m   6164\u001b[39m     \u001b[38;5;28;01mif\u001b[39;00m _coeff \u001b[38;5;129;01mis\u001b[39;00m \u001b[38;5;129;01mnot\u001b[39;00m S.One:\n\u001b[32m   6165\u001b[39m         \u001b[38;5;28;01mif\u001b[39;00m exp.is_Integer:\n",
      "\u001b[36mFile \u001b[39m\u001b[32m~/miniconda3/envs/myenv/lib/python3.12/site-packages/sympy/polys/polytools.py:3378\u001b[39m, in \u001b[36mPoly.factor_list\u001b[39m\u001b[34m(f)\u001b[39m\n\u001b[32m   3376\u001b[39m \u001b[38;5;28;01mif\u001b[39;00m \u001b[38;5;28mhasattr\u001b[39m(f.rep, \u001b[33m'\u001b[39m\u001b[33mfactor_list\u001b[39m\u001b[33m'\u001b[39m):\n\u001b[32m   3377\u001b[39m     \u001b[38;5;28;01mtry\u001b[39;00m:\n\u001b[32m-> \u001b[39m\u001b[32m3378\u001b[39m         coeff, factors = \u001b[43mf\u001b[49m\u001b[43m.\u001b[49m\u001b[43mrep\u001b[49m\u001b[43m.\u001b[49m\u001b[43mfactor_list\u001b[49m\u001b[43m(\u001b[49m\u001b[43m)\u001b[49m\n\u001b[32m   3379\u001b[39m     \u001b[38;5;28;01mexcept\u001b[39;00m DomainError:\n\u001b[32m   3380\u001b[39m         \u001b[38;5;28;01mif\u001b[39;00m f.degree() == \u001b[32m0\u001b[39m:\n",
      "\u001b[36mFile \u001b[39m\u001b[32m~/miniconda3/envs/myenv/lib/python3.12/site-packages/sympy/polys/polyclasses.py:1637\u001b[39m, in \u001b[36mDMP_Python.factor_list\u001b[39m\u001b[34m(f)\u001b[39m\n\u001b[32m   1635\u001b[39m \u001b[38;5;28;01mdef\u001b[39;00m\u001b[38;5;250m \u001b[39m\u001b[34mfactor_list\u001b[39m(f):\n\u001b[32m   1636\u001b[39m \u001b[38;5;250m    \u001b[39m\u001b[33;03m\"\"\"Returns a list of irreducible factors of ``f``. \"\"\"\u001b[39;00m\n\u001b[32m-> \u001b[39m\u001b[32m1637\u001b[39m     coeff, factors = \u001b[43mdmp_factor_list\u001b[49m\u001b[43m(\u001b[49m\u001b[43mf\u001b[49m\u001b[43m.\u001b[49m\u001b[43m_rep\u001b[49m\u001b[43m,\u001b[49m\u001b[43m \u001b[49m\u001b[43mf\u001b[49m\u001b[43m.\u001b[49m\u001b[43mlev\u001b[49m\u001b[43m,\u001b[49m\u001b[43m \u001b[49m\u001b[43mf\u001b[49m\u001b[43m.\u001b[49m\u001b[43mdom\u001b[49m\u001b[43m)\u001b[49m\n\u001b[32m   1638\u001b[39m     \u001b[38;5;28;01mreturn\u001b[39;00m coeff, [ (f.per(g), k) \u001b[38;5;28;01mfor\u001b[39;00m g, k \u001b[38;5;129;01min\u001b[39;00m factors ]\n",
      "\u001b[36mFile \u001b[39m\u001b[32m~/miniconda3/envs/myenv/lib/python3.12/site-packages/sympy/polys/factortools.py:1569\u001b[39m, in \u001b[36mdmp_factor_list\u001b[39m\u001b[34m(f, u, K0)\u001b[39m\n\u001b[32m   1567\u001b[39m \u001b[38;5;28;01mif\u001b[39;00m K.is_ZZ:\n\u001b[32m   1568\u001b[39m     levels, f, v = dmp_exclude(f, u, K)\n\u001b[32m-> \u001b[39m\u001b[32m1569\u001b[39m     coeff, factors = \u001b[43mdmp_zz_factor\u001b[49m\u001b[43m(\u001b[49m\u001b[43mf\u001b[49m\u001b[43m,\u001b[49m\u001b[43m \u001b[49m\u001b[43mv\u001b[49m\u001b[43m,\u001b[49m\u001b[43m \u001b[49m\u001b[43mK\u001b[49m\u001b[43m)\u001b[49m\n\u001b[32m   1571\u001b[39m     \u001b[38;5;28;01mfor\u001b[39;00m i, (f, k) \u001b[38;5;129;01min\u001b[39;00m \u001b[38;5;28menumerate\u001b[39m(factors):\n\u001b[32m   1572\u001b[39m         factors[i] = (dmp_include(f, levels, v, K), k)\n",
      "\u001b[36mFile \u001b[39m\u001b[32m~/miniconda3/envs/myenv/lib/python3.12/site-packages/sympy/polys/factortools.py:1189\u001b[39m, in \u001b[36mdmp_zz_factor\u001b[39m\u001b[34m(f, u, K)\u001b[39m\n\u001b[32m   1187\u001b[39m \u001b[38;5;28;01mif\u001b[39;00m dmp_degree(g, u) > \u001b[32m0\u001b[39m:\n\u001b[32m   1188\u001b[39m     g = dmp_sqf_part(g, u, K)\n\u001b[32m-> \u001b[39m\u001b[32m1189\u001b[39m     H = \u001b[43mdmp_zz_wang\u001b[49m\u001b[43m(\u001b[49m\u001b[43mg\u001b[49m\u001b[43m,\u001b[49m\u001b[43m \u001b[49m\u001b[43mu\u001b[49m\u001b[43m,\u001b[49m\u001b[43m \u001b[49m\u001b[43mK\u001b[49m\u001b[43m)\u001b[49m\n\u001b[32m   1190\u001b[39m     factors = dmp_trial_division(f, H, u, K)\n\u001b[32m   1192\u001b[39m \u001b[38;5;28;01mfor\u001b[39;00m g, k \u001b[38;5;129;01min\u001b[39;00m dmp_zz_factor(G, u - \u001b[32m1\u001b[39m, K)[\u001b[32m1\u001b[39m]:\n",
      "\u001b[36mFile \u001b[39m\u001b[32m~/miniconda3/envs/myenv/lib/python3.12/site-packages/sympy/polys/factortools.py:1028\u001b[39m, in \u001b[36mdmp_zz_wang\u001b[39m\u001b[34m(f, u, K, mod, seed)\u001b[39m\n\u001b[32m   1025\u001b[39m ct, T = dmp_zz_factor(dmp_LC(f, K), u - \u001b[32m1\u001b[39m, K)\n\u001b[32m   1027\u001b[39m b = dmp_zz_mignotte_bound(f, u, K)\n\u001b[32m-> \u001b[39m\u001b[32m1028\u001b[39m p = K(\u001b[43mnextprime\u001b[49m\u001b[43m(\u001b[49m\u001b[43mb\u001b[49m\u001b[43m)\u001b[49m)\n\u001b[32m   1030\u001b[39m \u001b[38;5;28;01mif\u001b[39;00m mod \u001b[38;5;129;01mis\u001b[39;00m \u001b[38;5;28;01mNone\u001b[39;00m:\n\u001b[32m   1031\u001b[39m     \u001b[38;5;28;01mif\u001b[39;00m u == \u001b[32m1\u001b[39m:\n",
      "\u001b[36mFile \u001b[39m\u001b[32m~/miniconda3/envs/myenv/lib/python3.12/site-packages/sympy/ntheory/generate.py:702\u001b[39m, in \u001b[36mnextprime\u001b[39m\u001b[34m(n, ith)\u001b[39m\n\u001b[32m    700\u001b[39m     \u001b[38;5;28;01mreturn\u001b[39;00m n\n\u001b[32m    701\u001b[39m n += \u001b[32m2\u001b[39m\n\u001b[32m--> \u001b[39m\u001b[32m702\u001b[39m \u001b[38;5;28;01mif\u001b[39;00m \u001b[43misprime\u001b[49m\u001b[43m(\u001b[49m\u001b[43mn\u001b[49m\u001b[43m)\u001b[49m:\n\u001b[32m    703\u001b[39m     \u001b[38;5;28;01mreturn\u001b[39;00m n\n\u001b[32m    704\u001b[39m n += \u001b[32m4\u001b[39m\n",
      "\u001b[36mFile \u001b[39m\u001b[32m~/miniconda3/envs/myenv/lib/python3.12/site-packages/sympy/ntheory/primetest.py:764\u001b[39m, in \u001b[36misprime\u001b[39m\u001b[34m(n)\u001b[39m\n\u001b[32m    727\u001b[39m     \u001b[38;5;28;01mreturn\u001b[39;00m mr(n, [\u001b[32m2\u001b[39m, \u001b[32m3\u001b[39m, \u001b[32m5\u001b[39m, \u001b[32m7\u001b[39m, \u001b[32m11\u001b[39m, \u001b[32m13\u001b[39m, \u001b[32m17\u001b[39m, \u001b[32m19\u001b[39m, \u001b[32m23\u001b[39m, \u001b[32m29\u001b[39m, \u001b[32m31\u001b[39m, \u001b[32m37\u001b[39m, \u001b[32m41\u001b[39m])\n\u001b[32m    729\u001b[39m \u001b[38;5;66;03m# We could do this instead at any point:\u001b[39;00m\n\u001b[32m    730\u001b[39m \u001b[38;5;66;03m#if n < 18446744073709551616:\u001b[39;00m\n\u001b[32m    731\u001b[39m \u001b[38;5;66;03m#   return mr(n, [2]) and is_extra_strong_lucas_prp(n)\u001b[39;00m\n\u001b[32m   (...)\u001b[39m\u001b[32m    762\u001b[39m \n\u001b[32m    763\u001b[39m \u001b[38;5;66;03m# Classic BPSW from page 1401 of the paper.  See alternate ideas below.\u001b[39;00m\n\u001b[32m--> \u001b[39m\u001b[32m764\u001b[39m \u001b[38;5;28;01mreturn\u001b[39;00m \u001b[43mis_strong_bpsw_prp\u001b[49m\u001b[43m(\u001b[49m\u001b[43mn\u001b[49m\u001b[43m)\u001b[49m\n",
      "\u001b[36mFile \u001b[39m\u001b[32m~/miniconda3/envs/myenv/lib/python3.12/site-packages/sympy/external/ntheory.py:637\u001b[39m, in \u001b[36mis_strong_bpsw_prp\u001b[39m\u001b[34m(n)\u001b[39m\n\u001b[32m    635\u001b[39m \u001b[38;5;28;01mif\u001b[39;00m n % \u001b[32m2\u001b[39m == \u001b[32m0\u001b[39m:\n\u001b[32m    636\u001b[39m     \u001b[38;5;28;01mreturn\u001b[39;00m n == \u001b[32m2\u001b[39m\n\u001b[32m--> \u001b[39m\u001b[32m637\u001b[39m \u001b[38;5;28;01mreturn\u001b[39;00m \u001b[43m_is_strong_prp\u001b[49m\u001b[43m(\u001b[49m\u001b[43mn\u001b[49m\u001b[43m,\u001b[49m\u001b[43m \u001b[49m\u001b[32;43m2\u001b[39;49m\u001b[43m)\u001b[49m \u001b[38;5;129;01mand\u001b[39;00m _is_strong_selfridge_prp(n)\n",
      "\u001b[36mFile \u001b[39m\u001b[32m~/miniconda3/envs/myenv/lib/python3.12/site-packages/sympy/external/ntheory.py:329\u001b[39m, in \u001b[36m_is_strong_prp\u001b[39m\u001b[34m(n, a)\u001b[39m\n\u001b[32m    327\u001b[39m \u001b[38;5;28;01mdef\u001b[39;00m\u001b[38;5;250m \u001b[39m\u001b[34m_is_strong_prp\u001b[39m(n, a):\n\u001b[32m    328\u001b[39m     s = bit_scan1(n - \u001b[32m1\u001b[39m)\n\u001b[32m--> \u001b[39m\u001b[32m329\u001b[39m     a = \u001b[38;5;28;43mpow\u001b[39;49m\u001b[43m(\u001b[49m\u001b[43ma\u001b[49m\u001b[43m,\u001b[49m\u001b[43m \u001b[49m\u001b[43mn\u001b[49m\u001b[43m \u001b[49m\u001b[43m>>\u001b[49m\u001b[43m \u001b[49m\u001b[43ms\u001b[49m\u001b[43m,\u001b[49m\u001b[43m \u001b[49m\u001b[43mn\u001b[49m\u001b[43m)\u001b[49m\n\u001b[32m    330\u001b[39m     \u001b[38;5;28;01mif\u001b[39;00m a == \u001b[32m1\u001b[39m \u001b[38;5;129;01mor\u001b[39;00m a == n - \u001b[32m1\u001b[39m:\n\u001b[32m    331\u001b[39m         \u001b[38;5;28;01mreturn\u001b[39;00m \u001b[38;5;28;01mTrue\u001b[39;00m\n",
      "\u001b[31mKeyboardInterrupt\u001b[39m: "
     ]
    }
   ],
   "source": [
    "model_paths_gkan = [\n",
    "    \"./saved_models_optuna/model-population-gkan/population_gkan_ic1_s5_pd_mult_noise_70db_2/0\",\n",
    "    \"./saved_models_optuna/model-population-gkan/population_gkan_ic1_s5_pd_mult_noise_50db_2/0\",\n",
    "    # \"./saved_models_optuna/model-population-gkan/population_gkan_ic1_s5_pd_mult_noise_20db_2/0\",\n",
    "]\n",
    "\n",
    "for model_path in model_paths_gkan:\n",
    "    print(model_path)\n",
    "    post_process_gkan(\n",
    "        config=pop_config,\n",
    "        model_path=model_path,\n",
    "        test_set=POP,\n",
    "        device='cuda',\n",
    "        n_g_hidden_layers=2,\n",
    "        n_h_hidden_layers=2,\n",
    "        sample_size=10000,\n",
    "        message_passing=False,\n",
    "        include_time=False,\n",
    "        atol=1e-5,\n",
    "        rtol=1e-5,\n",
    "        method=\"dopri5\",\n",
    "        eval_model=False\n",
    "    )"
   ]
  },
  {
   "cell_type": "markdown",
   "metadata": {},
   "source": [
    "### Real Epid"
   ]
  },
  {
   "cell_type": "code",
   "execution_count": 55,
   "metadata": {},
   "outputs": [
    {
     "name": "stdout",
     "output_type": "stream",
     "text": [
      "Fitting G_Net...\n",
      "Execution time: 32.812989 seconds\n",
      "Fitting H_Net...\n",
      "Execution time: 17.956217 seconds\n"
     ]
    }
   ],
   "source": [
    "model_path_gkan = \"./saved_models_optuna/model-real-epid-gkan/real_epid_gkan_4/0/gkan\"\n",
    "\n",
    "pysr_model = lambda : get_pysr_model(\n",
    "    model_selection=\"score\",\n",
    "    n_iterations=200\n",
    ")\n",
    "\n",
    "gkan_symb, symb_g, symb_h = fit_black_box_from_kan(\n",
    "    n_g_hidden_layers=2,\n",
    "    n_h_hidden_layers=2,\n",
    "    device='cuda',\n",
    "    model_path=model_path_gkan,\n",
    "    pysr_model=pysr_model,\n",
    "    sample_size=10000,\n",
    "    theta=-np.inf,\n",
    "    message_passing=False\n",
    ")"
   ]
  },
  {
   "cell_type": "code",
   "execution_count": 56,
   "metadata": {},
   "outputs": [
    {
     "data": {
      "text/latex": [
       "$\\displaystyle \\sum_{j}( log(12.5043577686824*x_i + 13.5111551375654)) + 2.4884284 \\sin{\\left(x_{i} \\right)} + 2.112076$"
      ],
      "text/plain": [
       "\\sum_{j}( log(12.5043577686824*x_i + 13.5111551375654)) + 2.4884284*sin(x_i) + 2.112076"
      ]
     },
     "execution_count": 56,
     "metadata": {},
     "output_type": "execute_result"
    }
   ],
   "source": [
    "gkan_symb"
   ]
  },
  {
   "cell_type": "code",
   "execution_count": 57,
   "metadata": {},
   "outputs": [
    {
     "name": "stdout",
     "output_type": "stream",
     "text": [
      "Fitting G_Net...\n"
     ]
    },
    {
     "name": "stdout",
     "output_type": "stream",
     "text": [
      "Execution time: 10.827934 seconds\n",
      "\n",
      "Fitting H_Net...\n",
      "Execution time: 4.955698 seconds\n"
     ]
    }
   ],
   "source": [
    "symb_spline_wise, symb_g, symb_h = fit_model(\n",
    "    n_h_hidden_layers=2,\n",
    "    n_g_hidden_layers=2,\n",
    "    model_path=model_path_gkan,\n",
    "    theta=0.1,\n",
    "    message_passing=False,\n",
    "    include_time=False,\n",
    "    sample_size=10000\n",
    ")"
   ]
  },
  {
   "cell_type": "markdown",
   "metadata": {},
   "source": [
    "## TSS Errors"
   ]
  },
  {
   "cell_type": "code",
   "execution_count": 7,
   "metadata": {},
   "outputs": [],
   "source": [
    "def get_tss_test_error(\n",
    "    text_sympy_mapping_g,\n",
    "    text_sympy_mapping_h,\n",
    "    row_means,\n",
    "    test_set\n",
    "):\n",
    "    g_symb = sp.S(0)\n",
    "    h_symb = sp.S(0)\n",
    "            \n",
    "    for symb_g in text_sympy_mapping_g.keys():\n",
    "        g_symb += row_means[symb_g] * text_sympy_mapping_g[symb_g]\n",
    "    for symb_h in text_sympy_mapping_h.keys():\n",
    "        h_symb += row_means[symb_h] * text_sympy_mapping_h[symb_h]\n",
    "    \n",
    "    g_symb = make_callable(g_symb)\n",
    "    h_symb = make_callable(h_symb)\n",
    "    \n",
    "    test_losses = get_symb_test_error(\n",
    "        g_symb=g_symb,\n",
    "        h_symb=h_symb,\n",
    "        test_set=test_set,\n",
    "        message_passing=False,\n",
    "        include_time=False,\n",
    "        method='dopri5',\n",
    "        atol=1e-5,\n",
    "        rtol=1e-5\n",
    "    )\n",
    "    \n",
    "    ts_mean = np.mean(test_losses)\n",
    "    ts_var = np.var(test_losses)\n",
    "    ts_std = np.std(test_losses)\n",
    "\n",
    "    print(f\"Mean Test loss of symbolic formula: {ts_mean}\")\n",
    "    print(f\"Var Test loss of symbolic formula: {ts_var}\")\n",
    "    print(f\"Std Test loss of symbolic formula: {ts_std}\")"
   ]
  },
  {
   "cell_type": "markdown",
   "metadata": {},
   "source": [
    "### KUR"
   ]
  },
  {
   "cell_type": "code",
   "execution_count": 59,
   "metadata": {},
   "outputs": [],
   "source": [
    "df = pd.read_csv(\"./saved_models_optuna/tss/Kuramoto-1/results_dim=0.csv\", header=None)\n",
    "df.set_index(0, inplace=True)\n",
    "row_means = df.mean(axis=1)"
   ]
  },
  {
   "cell_type": "code",
   "execution_count": 60,
   "metadata": {},
   "outputs": [
    {
     "name": "stdout",
     "output_type": "stream",
     "text": [
      "Mean Test loss of symbolic formula: 0.0002912786342979719\n",
      "Var Test loss of symbolic formula: 4.206261141125669e-10\n",
      "Std Test loss of symbolic formula: 2.0509171463337248e-05\n"
     ]
    }
   ],
   "source": [
    "x_i, x_j = sp.symbols('x_i x_j')\n",
    "\n",
    "text_sympy_mapping_g = {\n",
    "    \"sinx1jMinusx1i\": sp.sin(x_j - x_i)\n",
    "}\n",
    "text_sympy_mapping_h = {\n",
    "    \"constant\": sp.S(1.0)\n",
    "}\n",
    "\n",
    "get_tss_test_error(\n",
    "    text_sympy_mapping_g=text_sympy_mapping_g,\n",
    "    text_sympy_mapping_h=text_sympy_mapping_h,\n",
    "    row_means=row_means,\n",
    "    test_set=KUR\n",
    ")\n"
   ]
  },
  {
   "cell_type": "markdown",
   "metadata": {},
   "source": [
    "#### 70 DB"
   ]
  },
  {
   "cell_type": "code",
   "execution_count": 61,
   "metadata": {},
   "outputs": [
    {
     "data": {
      "text/plain": [
       "0\n",
       "NaN               0.000000\n",
       "sinx1jMinusx1i    0.500084\n",
       "constant          1.999299\n",
       "dtype: float64"
      ]
     },
     "execution_count": 61,
     "metadata": {},
     "output_type": "execute_result"
    }
   ],
   "source": [
    "df = pd.read_csv(\"./saved_models_optuna/tss/Kuramoto-1/results_dim=0_70_db.csv\", header=None)\n",
    "df.set_index(0, inplace=True)\n",
    "row_means = df.mean(axis=1)\n",
    "row_means"
   ]
  },
  {
   "cell_type": "code",
   "execution_count": 62,
   "metadata": {},
   "outputs": [
    {
     "name": "stdout",
     "output_type": "stream",
     "text": [
      "Mean Test loss of symbolic formula: 0.00035186927804412943\n",
      "Var Test loss of symbolic formula: 3.4495474563401334e-14\n",
      "Std Test loss of symbolic formula: 1.85729573744736e-07\n"
     ]
    }
   ],
   "source": [
    "x_i, x_j = sp.symbols('x_i x_j')\n",
    "\n",
    "text_sympy_mapping_g = {\n",
    "    \"sinx1jMinusx1i\": sp.sin(x_j - x_i)\n",
    "}\n",
    "text_sympy_mapping_h = {\n",
    "    \"constant\": sp.S(1.0)\n",
    "}\n",
    "\n",
    "get_tss_test_error(\n",
    "    text_sympy_mapping_g=text_sympy_mapping_g,\n",
    "    text_sympy_mapping_h=text_sympy_mapping_h,\n",
    "    row_means=row_means,\n",
    "    test_set=KUR\n",
    ")"
   ]
  },
  {
   "cell_type": "markdown",
   "metadata": {},
   "source": [
    "#### 50 DB"
   ]
  },
  {
   "cell_type": "code",
   "execution_count": 63,
   "metadata": {},
   "outputs": [
    {
     "name": "stdout",
     "output_type": "stream",
     "text": [
      "Mean Test loss of symbolic formula: 0.6032914121945699\n",
      "Var Test loss of symbolic formula: 0.0009892931714156185\n",
      "Std Test loss of symbolic formula: 0.03145303119598521\n"
     ]
    }
   ],
   "source": [
    "df = pd.read_csv(\"./saved_models_optuna/tss/Kuramoto-1/results_dim=0_50_db.csv\", header=None)\n",
    "df.set_index(0, inplace=True)\n",
    "row_means = df.mean(axis=1)\n",
    "\n",
    "x_i, x_j = sp.symbols('x_i x_j')\n",
    "\n",
    "text_sympy_mapping_g = {\n",
    "    \"sinx1jMinusx1i\": sp.sin(x_j - x_i)\n",
    "}\n",
    "text_sympy_mapping_h = {\n",
    "    \"fracx1\": 1/ x_i\n",
    "}\n",
    "\n",
    "get_tss_test_error(\n",
    "    text_sympy_mapping_g=text_sympy_mapping_g,\n",
    "    text_sympy_mapping_h=text_sympy_mapping_h,\n",
    "    row_means=row_means,\n",
    "    test_set=KUR\n",
    ")"
   ]
  },
  {
   "cell_type": "markdown",
   "metadata": {},
   "source": [
    "#### 20 DB"
   ]
  },
  {
   "cell_type": "code",
   "execution_count": 70,
   "metadata": {},
   "outputs": [
    {
     "data": {
      "text/plain": [
       "0\n",
       "NaN                0.000000\n",
       "x1iexpx1j          0.000338\n",
       "fracx1jMinusx1i    0.026852\n",
       "fracx1ix1j        -0.035464\n",
       "x1ifracx1j        -0.020929\n",
       "dtype: float64"
      ]
     },
     "execution_count": 70,
     "metadata": {},
     "output_type": "execute_result"
    }
   ],
   "source": [
    "df = pd.read_csv(\"./saved_models_optuna/tss/Kuramoto-1/results_dim=0_20_db.csv\", header=None)\n",
    "df.set_index(0, inplace=True)\n",
    "row_means = df.mean(axis=1)\n",
    "row_means"
   ]
  },
  {
   "cell_type": "code",
   "execution_count": null,
   "metadata": {},
   "outputs": [],
   "source": [
    "x_i, x_j = sp.symbols('x_i x_j')\n",
    "\n",
    "text_sympy_mapping_g = {\n",
    "    \"x1iexpx1j\": x_i * sp.exp(x_j),\n",
    "    \"fracx1jMinusx1i\": 1/(x_j - x_i),\n",
    "    \"fracx1ix1j\": 1/(x_i * x_j),\n",
    "    \"x1ifracx1j\": x_i / x_j\n",
    "}\n",
    "\n",
    "text_sympy_mapping_h = {}\n",
    "\n",
    "get_tss_test_error(\n",
    "    text_sympy_mapping_g=text_sympy_mapping_g,\n",
    "    text_sympy_mapping_h=text_sympy_mapping_h,\n",
    "    row_means=row_means,\n",
    "    test_set=KUR\n",
    ")"
   ]
  },
  {
   "cell_type": "markdown",
   "metadata": {},
   "source": [
    "### EPID"
   ]
  },
  {
   "cell_type": "code",
   "execution_count": 75,
   "metadata": {},
   "outputs": [
    {
     "data": {
      "text/plain": [
       "0\n",
       "NaN               0.000000\n",
       "constant         -1.479146\n",
       "expx1jMinusx1i    0.310919\n",
       "dtype: float64"
      ]
     },
     "execution_count": 75,
     "metadata": {},
     "output_type": "execute_result"
    }
   ],
   "source": [
    "x_i, x_j = sp.symbols('x_i x_j')\n",
    "\n",
    "df = pd.read_csv(\"./saved_models_optuna/tss/Epidemics-1/results_dim=0.csv\", header=None)\n",
    "df.set_index(0, inplace=True)\n",
    "row_means = df.mean(axis=1)\n",
    "\n",
    "row_means"
   ]
  },
  {
   "cell_type": "code",
   "execution_count": 76,
   "metadata": {},
   "outputs": [
    {
     "name": "stdout",
     "output_type": "stream",
     "text": [
      "Mean Test loss of symbolic formula: 0.13932317246993384\n",
      "Var Test loss of symbolic formula: 0.0011257805640565567\n",
      "Std Test loss of symbolic formula: 0.03355265360677985\n"
     ]
    }
   ],
   "source": [
    "text_sympy_mapping_g = {\n",
    "    \"expx1jMinusx1i\": sp.exp(x_j - x_i)\n",
    "}\n",
    "\n",
    "text_sympy_mapping_h = {\n",
    "    \"constant\": sp.S(1.0)\n",
    "}\n",
    "\n",
    "get_tss_test_error(\n",
    "    text_sympy_mapping_g=text_sympy_mapping_g,\n",
    "    text_sympy_mapping_h=text_sympy_mapping_h,\n",
    "    row_means=row_means,\n",
    "    test_set=EPID\n",
    ")"
   ]
  },
  {
   "cell_type": "markdown",
   "metadata": {},
   "source": [
    "#### 70 DB"
   ]
  },
  {
   "cell_type": "code",
   "execution_count": 77,
   "metadata": {},
   "outputs": [
    {
     "data": {
      "text/plain": [
       "0\n",
       "NaN         0.000000\n",
       "x1x1x1     -1.319998\n",
       "constant    0.645621\n",
       "dtype: float64"
      ]
     },
     "execution_count": 77,
     "metadata": {},
     "output_type": "execute_result"
    }
   ],
   "source": [
    "x_i, x_j = sp.symbols('x_i x_j')\n",
    "\n",
    "df = pd.read_csv(\"./saved_models_optuna/tss/Epidemics-1/results_dim=0_70_db.csv\", header=None)\n",
    "df.set_index(0, inplace=True)\n",
    "row_means = df.mean(axis=1)\n",
    "\n",
    "row_means"
   ]
  },
  {
   "cell_type": "code",
   "execution_count": 79,
   "metadata": {},
   "outputs": [
    {
     "name": "stdout",
     "output_type": "stream",
     "text": [
      "Mean Test loss of symbolic formula: 0.06238254035512606\n",
      "Var Test loss of symbolic formula: 6.161101675210123e-05\n",
      "Std Test loss of symbolic formula: 0.007849268548858628\n"
     ]
    }
   ],
   "source": [
    "text_sympy_mapping_g = {}\n",
    "\n",
    "text_sympy_mapping_h = {\n",
    "    \"x1x1x1\": x_i * x_i * x_i,\n",
    "    \"constant\": sp.S(1.0)\n",
    "}\n",
    "\n",
    "get_tss_test_error(\n",
    "    text_sympy_mapping_g=text_sympy_mapping_g,\n",
    "    text_sympy_mapping_h=text_sympy_mapping_h,\n",
    "    row_means=row_means,\n",
    "    test_set=EPID\n",
    ")"
   ]
  },
  {
   "cell_type": "markdown",
   "metadata": {},
   "source": [
    "#### 50 DB"
   ]
  },
  {
   "cell_type": "code",
   "execution_count": 80,
   "metadata": {},
   "outputs": [
    {
     "data": {
      "text/plain": [
       "0\n",
       "NaN               0.000000\n",
       "x1x1x1           -1.049246\n",
       "expx1jMinusx1i    0.101428\n",
       "dtype: float64"
      ]
     },
     "execution_count": 80,
     "metadata": {},
     "output_type": "execute_result"
    }
   ],
   "source": [
    "x_i, x_j = sp.symbols('x_i x_j')\n",
    "\n",
    "df = pd.read_csv(\"./saved_models_optuna/tss/Epidemics-1/results_dim=0_50_db.csv\", header=None)\n",
    "df.set_index(0, inplace=True)\n",
    "row_means = df.mean(axis=1)\n",
    "\n",
    "row_means"
   ]
  },
  {
   "cell_type": "code",
   "execution_count": 81,
   "metadata": {},
   "outputs": [
    {
     "name": "stdout",
     "output_type": "stream",
     "text": [
      "Mean Test loss of symbolic formula: 0.021900850037733715\n",
      "Var Test loss of symbolic formula: 4.893136437053426e-06\n",
      "Std Test loss of symbolic formula: 0.0022120434980021134\n"
     ]
    }
   ],
   "source": [
    "text_sympy_mapping_g = {\n",
    "    \"expx1jMinusx1i\": sp.exp(x_j - x_i)\n",
    "}\n",
    "\n",
    "text_sympy_mapping_h = {\n",
    "    \"x1x1x1\": x_i * x_i * x_i\n",
    "}\n",
    "\n",
    "get_tss_test_error(\n",
    "    text_sympy_mapping_g=text_sympy_mapping_g,\n",
    "    text_sympy_mapping_h=text_sympy_mapping_h,\n",
    "    row_means=row_means,\n",
    "    test_set=EPID\n",
    ")"
   ]
  },
  {
   "cell_type": "markdown",
   "metadata": {},
   "source": [
    "#### 20 DB"
   ]
  },
  {
   "cell_type": "code",
   "execution_count": 82,
   "metadata": {},
   "outputs": [
    {
     "data": {
      "text/plain": [
       "0\n",
       "NaN                0.000000\n",
       "fracx1ix1j         0.009380\n",
       "x1ifracx1j         0.009147\n",
       "fracx1j            0.000166\n",
       "fracx1jMinusx1i    0.000093\n",
       "dtype: float64"
      ]
     },
     "execution_count": 82,
     "metadata": {},
     "output_type": "execute_result"
    }
   ],
   "source": [
    "x_i, x_j = sp.symbols('x_i x_j')\n",
    "\n",
    "df = pd.read_csv(\"./saved_models_optuna/tss/Epidemics-1/results_dim=0_20_db.csv\", header=None)\n",
    "df.set_index(0, inplace=True)\n",
    "row_means = df.mean(axis=1)\n",
    "\n",
    "row_means"
   ]
  },
  {
   "cell_type": "code",
   "execution_count": 83,
   "metadata": {},
   "outputs": [
    {
     "name": "stdout",
     "output_type": "stream",
     "text": [
      "Mean Test loss of symbolic formula: 0.11705934256315231\n",
      "Var Test loss of symbolic formula: 8.681066367199897e-06\n",
      "Std Test loss of symbolic formula: 0.002946364941279321\n"
     ]
    }
   ],
   "source": [
    "text_sympy_mapping_g = {\n",
    "    \"fracx1ix1j\": 1/(x_i * x_j),\n",
    "    \"x1ifracx1j\": x_i / x_j,\n",
    "    \"fracx1j\": 1 / x_j,\n",
    "    \"fracx1jMinusx1i\": 1/(x_j - x_i)\n",
    "}\n",
    "\n",
    "text_sympy_mapping_h = {}\n",
    "\n",
    "get_tss_test_error(\n",
    "    text_sympy_mapping_g=text_sympy_mapping_g,\n",
    "    text_sympy_mapping_h=text_sympy_mapping_h,\n",
    "    row_means=row_means,\n",
    "    test_set=EPID\n",
    ")"
   ]
  },
  {
   "cell_type": "markdown",
   "metadata": {},
   "source": [
    "### BIO"
   ]
  },
  {
   "cell_type": "code",
   "execution_count": 66,
   "metadata": {},
   "outputs": [
    {
     "data": {
      "text/plain": [
       "0\n",
       "NaN         0.000000\n",
       "x1ix1j     -0.629935\n",
       "constant    0.805864\n",
       "dtype: float64"
      ]
     },
     "execution_count": 66,
     "metadata": {},
     "output_type": "execute_result"
    }
   ],
   "source": [
    "x_i, x_j = sp.symbols('x_i x_j')\n",
    "\n",
    "df = pd.read_csv(\"./saved_models_optuna/tss/Biochemical-1/results_dim=0.csv\", header=None)\n",
    "df.set_index(0, inplace=True)\n",
    "row_means = df.mean(axis=1)\n",
    "\n",
    "row_means"
   ]
  },
  {
   "cell_type": "code",
   "execution_count": 67,
   "metadata": {},
   "outputs": [
    {
     "name": "stdout",
     "output_type": "stream",
     "text": [
      "Mean Test loss of symbolic formula: 0.030168694754441578\n",
      "Var Test loss of symbolic formula: 7.935192549003557e-07\n",
      "Std Test loss of symbolic formula: 0.0008907969773749547\n"
     ]
    }
   ],
   "source": [
    "text_sympy_mapping_g = {\n",
    "    \"x1ix1j\": x_i * x_j\n",
    "}\n",
    "\n",
    "text_sympy_mapping_h = {\n",
    "    \"constant\": sp.S(1.0)\n",
    "}\n",
    "\n",
    "get_tss_test_error(\n",
    "    text_sympy_mapping_g=text_sympy_mapping_g,\n",
    "    text_sympy_mapping_h=text_sympy_mapping_h,\n",
    "    row_means=row_means,\n",
    "    test_set=BIO\n",
    ")"
   ]
  },
  {
   "cell_type": "markdown",
   "metadata": {},
   "source": [
    "#### 70 DB"
   ]
  },
  {
   "cell_type": "code",
   "execution_count": 8,
   "metadata": {},
   "outputs": [
    {
     "data": {
      "text/plain": [
       "0\n",
       "NaN         0.000000\n",
       "x1ix1j     -0.702419\n",
       "constant    0.891260\n",
       "dtype: float64"
      ]
     },
     "execution_count": 8,
     "metadata": {},
     "output_type": "execute_result"
    }
   ],
   "source": [
    "x_i, x_j = sp.symbols('x_i x_j')\n",
    "\n",
    "df = pd.read_csv(\"./saved_models_optuna/tss/Biochemical-1/results_dim=0_70_db.csv\", header=None)\n",
    "df.set_index(0, inplace=True)\n",
    "row_means = df.mean(axis=1)\n",
    "\n",
    "row_means"
   ]
  },
  {
   "cell_type": "code",
   "execution_count": 14,
   "metadata": {},
   "outputs": [
    {
     "name": "stdout",
     "output_type": "stream",
     "text": [
      "Mean Test loss of symbolic formula: 0.03311053911844889\n",
      "Var Test loss of symbolic formula: 1.6136963490022263e-06\n",
      "Std Test loss of symbolic formula: 0.0012703134845392402\n"
     ]
    }
   ],
   "source": [
    "text_sympy_mapping_g = {\n",
    "    \"x1ix1j\": x_i * x_j\n",
    "}\n",
    "\n",
    "text_sympy_mapping_h = {\n",
    "    \"constant\": sp.S(1.0)\n",
    "}\n",
    "\n",
    "get_tss_test_error(\n",
    "    text_sympy_mapping_g=text_sympy_mapping_g,\n",
    "    text_sympy_mapping_h=text_sympy_mapping_h,\n",
    "    row_means=row_means,\n",
    "    test_set=BIO\n",
    ")"
   ]
  },
  {
   "cell_type": "markdown",
   "metadata": {},
   "source": [
    "#### 50 DB"
   ]
  },
  {
   "cell_type": "code",
   "execution_count": 15,
   "metadata": {},
   "outputs": [
    {
     "data": {
      "text/plain": [
       "0\n",
       "NaN       0.000000\n",
       "x1x1     -1.690969\n",
       "x1ix1j    0.935806\n",
       "dtype: float64"
      ]
     },
     "execution_count": 15,
     "metadata": {},
     "output_type": "execute_result"
    }
   ],
   "source": [
    "x_i, x_j = sp.symbols('x_i x_j')\n",
    "\n",
    "df = pd.read_csv(\"./saved_models_optuna/tss/Biochemical-1/results_dim=0_50_db.csv\", header=None)\n",
    "df.set_index(0, inplace=True)\n",
    "row_means = df.mean(axis=1)\n",
    "\n",
    "row_means"
   ]
  },
  {
   "cell_type": "code",
   "execution_count": null,
   "metadata": {},
   "outputs": [],
   "source": [
    "text_sympy_mapping_g = {\n",
    "    \"x1ix1j\": x_i * x_j\n",
    "}\n",
    "\n",
    "text_sympy_mapping_h = {\n",
    "    \"x1x1\": x_i * x_i\n",
    "}\n",
    "\n",
    "get_tss_test_error(\n",
    "    text_sympy_mapping_g=text_sympy_mapping_g,\n",
    "    text_sympy_mapping_h=text_sympy_mapping_h,\n",
    "    row_means=row_means,\n",
    "    test_set=BIO\n",
    ")"
   ]
  },
  {
   "cell_type": "markdown",
   "metadata": {},
   "source": [
    "#### 20 DB"
   ]
  },
  {
   "cell_type": "code",
   "execution_count": 17,
   "metadata": {},
   "outputs": [
    {
     "data": {
      "text/plain": [
       "0\n",
       "NaN                0.000000\n",
       "fracx1ix1j         0.000972\n",
       "x1ifracx1j         0.000006\n",
       "fracx1jMinusx1i    0.000711\n",
       "dtype: float64"
      ]
     },
     "execution_count": 17,
     "metadata": {},
     "output_type": "execute_result"
    }
   ],
   "source": [
    "x_i, x_j = sp.symbols('x_i x_j')\n",
    "\n",
    "df = pd.read_csv(\"./saved_models_optuna/tss/Biochemical-1/results_dim=0_20_db.csv\", header=None)\n",
    "df.set_index(0, inplace=True)\n",
    "row_means = df.mean(axis=1)\n",
    "\n",
    "row_means"
   ]
  },
  {
   "cell_type": "code",
   "execution_count": null,
   "metadata": {},
   "outputs": [],
   "source": [
    "text_sympy_mapping_g = {\n",
    "    \"fracx1ix1j\": 1/(x_i * x_j),\n",
    "    \"x1ifracx1j\": x_i / x_j,\n",
    "    \"fracx1jMinusx1i\": 1/(x_j - x_i)\n",
    "}\n",
    "\n",
    "text_sympy_mapping_h = {}\n",
    "\n",
    "get_tss_test_error(\n",
    "    text_sympy_mapping_g=text_sympy_mapping_g,\n",
    "    text_sympy_mapping_h=text_sympy_mapping_h,\n",
    "    row_means=row_means,\n",
    "    test_set=BIO\n",
    ")"
   ]
  },
  {
   "cell_type": "markdown",
   "metadata": {},
   "source": [
    "### POP"
   ]
  },
  {
   "cell_type": "code",
   "execution_count": 68,
   "metadata": {},
   "outputs": [
    {
     "data": {
      "text/plain": [
       "0\n",
       "NaN         0.000000\n",
       "constant   -0.026403\n",
       "x1j         0.181286\n",
       "sinx1j     -0.003445\n",
       "dtype: float64"
      ]
     },
     "execution_count": 68,
     "metadata": {},
     "output_type": "execute_result"
    }
   ],
   "source": [
    "x_i, x_j = sp.symbols('x_i x_j')\n",
    "\n",
    "df = pd.read_csv(\"./saved_models_optuna/tss/Population-1/results_dim=0.csv\", header=None)\n",
    "df.set_index(0, inplace=True)\n",
    "row_means = df.mean(axis=1)\n",
    "\n",
    "row_means"
   ]
  },
  {
   "cell_type": "code",
   "execution_count": 69,
   "metadata": {},
   "outputs": [
    {
     "name": "stdout",
     "output_type": "stream",
     "text": [
      "Mean Test loss of symbolic formula: 0.127986046175162\n",
      "Var Test loss of symbolic formula: 7.68135815102871e-05\n",
      "Std Test loss of symbolic formula: 0.008764335771197217\n"
     ]
    }
   ],
   "source": [
    "text_sympy_mapping_g = {\n",
    "    \"sinx1j\": sp.sin(x_j),\n",
    "    \"x1j\": x_j\n",
    "}\n",
    "\n",
    "text_sympy_mapping_h = {\n",
    "    \"constant\": sp.S(1.0)\n",
    "}\n",
    "\n",
    "get_tss_test_error(\n",
    "    text_sympy_mapping_g=text_sympy_mapping_g,\n",
    "    text_sympy_mapping_h=text_sympy_mapping_h,\n",
    "    row_means=row_means,\n",
    "    test_set=POP\n",
    ")"
   ]
  },
  {
   "cell_type": "markdown",
   "metadata": {},
   "source": [
    "#### 70 DB"
   ]
  },
  {
   "cell_type": "code",
   "execution_count": 19,
   "metadata": {},
   "outputs": [
    {
     "data": {
      "text/plain": [
       "0\n",
       "NaN         0.000000\n",
       "constant   -0.008463\n",
       "x1j         0.049181\n",
       "sinx1j      0.000000\n",
       "dtype: float64"
      ]
     },
     "execution_count": 19,
     "metadata": {},
     "output_type": "execute_result"
    }
   ],
   "source": [
    "x_i, x_j = sp.symbols('x_i x_j')\n",
    "\n",
    "df = pd.read_csv(\"./saved_models_optuna/tss/Population-1/results_dim=0_70_db.csv\", header=None)\n",
    "df.set_index(0, inplace=True)\n",
    "row_means = df.mean(axis=1)\n",
    "\n",
    "row_means"
   ]
  },
  {
   "cell_type": "code",
   "execution_count": 20,
   "metadata": {},
   "outputs": [
    {
     "name": "stdout",
     "output_type": "stream",
     "text": [
      "Mean Test loss of symbolic formula: 0.0986446018020312\n",
      "Var Test loss of symbolic formula: 9.624285289105355e-06\n",
      "Std Test loss of symbolic formula: 0.0031023032232690207\n"
     ]
    }
   ],
   "source": [
    "text_sympy_mapping_g = {\n",
    "    \"sinx1j\": sp.sin(x_j),\n",
    "    \"x1j\": x_j\n",
    "}\n",
    "\n",
    "text_sympy_mapping_h = {\n",
    "    \"constant\": sp.S(1.0)\n",
    "}\n",
    "\n",
    "get_tss_test_error(\n",
    "    text_sympy_mapping_g=text_sympy_mapping_g,\n",
    "    text_sympy_mapping_h=text_sympy_mapping_h,\n",
    "    row_means=row_means,\n",
    "    test_set=POP\n",
    ")"
   ]
  },
  {
   "cell_type": "markdown",
   "metadata": {},
   "source": [
    "#### 50 DB"
   ]
  },
  {
   "cell_type": "code",
   "execution_count": 21,
   "metadata": {},
   "outputs": [
    {
     "data": {
      "text/plain": [
       "0\n",
       "NaN       0.000000\n",
       "sinx1j   -0.437936\n",
       "x1j       0.447304\n",
       "dtype: float64"
      ]
     },
     "execution_count": 21,
     "metadata": {},
     "output_type": "execute_result"
    }
   ],
   "source": [
    "x_i, x_j = sp.symbols('x_i x_j')\n",
    "\n",
    "df = pd.read_csv(\"./saved_models_optuna/tss/Population-1/results_dim=0_50_db.csv\", header=None)\n",
    "df.set_index(0, inplace=True)\n",
    "row_means = df.mean(axis=1)\n",
    "\n",
    "row_means"
   ]
  },
  {
   "cell_type": "code",
   "execution_count": 22,
   "metadata": {},
   "outputs": [
    {
     "name": "stdout",
     "output_type": "stream",
     "text": [
      "Mean Test loss of symbolic formula: 0.09825751930475235\n",
      "Var Test loss of symbolic formula: 6.906377144659063e-06\n",
      "Std Test loss of symbolic formula: 0.002627998695711066\n"
     ]
    }
   ],
   "source": [
    "text_sympy_mapping_g = {\n",
    "    \"sinx1j\": sp.sin(x_j),\n",
    "    \"x1j\": x_j\n",
    "}\n",
    "\n",
    "text_sympy_mapping_h = {}\n",
    "\n",
    "get_tss_test_error(\n",
    "    text_sympy_mapping_g=text_sympy_mapping_g,\n",
    "    text_sympy_mapping_h=text_sympy_mapping_h,\n",
    "    row_means=row_means,\n",
    "    test_set=POP\n",
    ")"
   ]
  },
  {
   "cell_type": "markdown",
   "metadata": {},
   "source": [
    "#### 20 DB"
   ]
  },
  {
   "cell_type": "code",
   "execution_count": 23,
   "metadata": {},
   "outputs": [
    {
     "data": {
      "text/plain": [
       "0\n",
       "NaN      0.000000\n",
       "sinx1   -0.395957\n",
       "x1x1     0.306063\n",
       "dtype: float64"
      ]
     },
     "execution_count": 23,
     "metadata": {},
     "output_type": "execute_result"
    }
   ],
   "source": [
    "x_i, x_j = sp.symbols('x_i x_j')\n",
    "\n",
    "df = pd.read_csv(\"./saved_models_optuna/tss/Population-1/results_dim=0_20_db.csv\", header=None)\n",
    "df.set_index(0, inplace=True)\n",
    "row_means = df.mean(axis=1)\n",
    "\n",
    "row_means"
   ]
  },
  {
   "cell_type": "code",
   "execution_count": 24,
   "metadata": {},
   "outputs": [
    {
     "name": "stdout",
     "output_type": "stream",
     "text": [
      "Mean Test loss of symbolic formula: 0.05001158267259598\n",
      "Var Test loss of symbolic formula: 6.406370715870506e-06\n",
      "Std Test loss of symbolic formula: 0.0025310809382298517\n"
     ]
    }
   ],
   "source": [
    "text_sympy_mapping_g = {}\n",
    "\n",
    "text_sympy_mapping_h = {\n",
    "    \"sinx1\": sp.sin(x_i),\n",
    "    \"x1x1\": x_i * x_i\n",
    "}\n",
    "\n",
    "get_tss_test_error(\n",
    "    text_sympy_mapping_g=text_sympy_mapping_g,\n",
    "    text_sympy_mapping_h=text_sympy_mapping_h,\n",
    "    row_means=row_means,\n",
    "    test_set=POP\n",
    ")"
   ]
  },
  {
   "cell_type": "markdown",
   "metadata": {},
   "source": [
    "## Real Epid plots"
   ]
  },
  {
   "cell_type": "code",
   "execution_count": 26,
   "metadata": {},
   "outputs": [
    {
     "name": "stderr",
     "output_type": "stream",
     "text": [
      "Processing...\n",
      "Done!\n"
     ]
    },
    {
     "name": "stdout",
     "output_type": "stream",
     "text": [
      "Building the dataset...\n"
     ]
    }
   ],
   "source": [
    "from datasets.RealEpidemics import RealEpidemics\n",
    "\n",
    "real_epid_data = RealEpidemics(\n",
    "    root = './data_real_epid',\n",
    "    name = 'RealEpid',\n",
    "    predict_deriv=False,\n",
    "    history=1,\n",
    "    horizon=44\n",
    ")"
   ]
  },
  {
   "cell_type": "code",
   "execution_count": 33,
   "metadata": {},
   "outputs": [],
   "source": [
    "x_i, x_j = sp.symbols('x_i x_j')\n",
    "\n",
    "g_symb = 7.130 / (1 + sp.exp(- (x_j - x_i)))\n",
    "h_symb = 0.074 * x_i\n",
    "\n",
    "g_symb = make_callable(g_symb)\n",
    "h_symb = make_callable(h_symb)\n",
    "\n",
    "symb_model = get_model(\n",
    "    g = g_symb,\n",
    "    h = h_symb,\n",
    "    message_passing=False,\n",
    "    include_time=False,\n",
    "    integration_method='dopri5'\n",
    ")\n",
    "\n",
    "y_true = real_epid_data[0].y.detach().cpu().numpy()\n",
    "y_pred = symb_model(real_epid_data[0]).detach().cpu().numpy()"
   ]
  },
  {
   "cell_type": "code",
   "execution_count": 34,
   "metadata": {},
   "outputs": [
    {
     "data": {
      "image/png": "[encoded data removed]",
      "text/plain": [
       "<Figure size 1600x800 with 1 Axes>"
      ]
     },
     "metadata": {},
     "output_type": "display_data"
    }
   ],
   "source": [
    "plot_predictions(\n",
    "    y_true=y_true,\n",
    "    y_pred=y_pred,\n",
    "    node_index=0\n",
    ")"
   ]
  }
 ],
 "metadata": {
  "kernelspec": {
   "display_name": "myenv",
   "language": "python",
   "name": "python3"
  },
  "language_info": {
   "codemirror_mode": {
    "name": "ipython",
    "version": 3
   },
   "file_extension": ".py",
   "mimetype": "text/x-python",
   "name": "python",
   "nbconvert_exporter": "python",
   "pygments_lexer": "ipython3",
   "version": "3.12.0"
  }
 },
 "nbformat": 4,
 "nbformat_minor": 2
}
