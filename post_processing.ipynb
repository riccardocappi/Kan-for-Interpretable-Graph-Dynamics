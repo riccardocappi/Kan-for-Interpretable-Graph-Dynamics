{
 "cells": [
  {
   "cell_type": "code",
   "execution_count": 1,
   "metadata": {},
   "outputs": [
    {
     "name": "stdout",
     "output_type": "stream",
     "text": [
      "Detected IPython. Loading juliacall extension. See https://juliapy.github.io/PythonCall.jl/stable/compat/#IPython\n"
     ]
    }
   ],
   "source": [
    "from utils.utils import *"
   ]
  },
  {
   "cell_type": "markdown",
   "metadata": {},
   "source": [
    "## Epidemics"
   ]
  },
  {
   "cell_type": "markdown",
   "metadata": {},
   "source": [
    "### GKAN"
   ]
  },
  {
   "cell_type": "code",
   "execution_count": 7,
   "metadata": {},
   "outputs": [],
   "source": [
    "model_path = './saved_models_optuna/model-epidemics-gkan/epidemics-new-data/2/gkan'"
   ]
  },
  {
   "cell_type": "code",
   "execution_count": 8,
   "metadata": {},
   "outputs": [
    {
     "name": "stderr",
     "output_type": "stream",
     "text": [
      "/home/rcappi/.conda/envs/my_env/lib/python3.12/site-packages/pysr/sr.py:2774: UserWarning: Note: it looks like you are running in Jupyter. The progress bar will be turned off.\n",
      "  warnings.warn(\n",
      "/home/rcappi/.conda/envs/my_env/lib/python3.12/site-packages/pysr/sr.py:2774: UserWarning: Note: it looks like you are running in Jupyter. The progress bar will be turned off.\n",
      "  warnings.warn(\n"
     ]
    }
   ],
   "source": [
    "pysr_model = lambda : get_pysr_model(\n",
    "    model_selection=\"score\",\n",
    "    random_state = 0,\n",
    "    deterministic=True,\n",
    "    parallelism='serial',\n",
    "    n_iterations=150\n",
    ")\n",
    "\n",
    "symb_model_black_box = fit_black_box_from_kan(\n",
    "    model_path=model_path,\n",
    "    n_g_hidden_layers=2,\n",
    "    n_h_hidden_layers=2,\n",
    "    theta=-np.inf,\n",
    "    pysr_model=pysr_model,\n",
    "    sample_size=9000,\n",
    "    message_passing=False\n",
    ")"
   ]
  },
  {
   "cell_type": "code",
   "execution_count": 9,
   "metadata": {},
   "outputs": [
    {
     "data": {
      "text/latex": [
       "$\\displaystyle \\sum_{j}( 0.500805746365327*x_j*(0.9996049 - x_i)) - 0.49989313 x_{i}$"
      ],
      "text/plain": [
       "\\sum_{j}( 0.500805746365327*x_j*(0.9996049 - x_i)) - 0.49989313*x_i"
      ]
     },
     "execution_count": 9,
     "metadata": {},
     "output_type": "execute_result"
    }
   ],
   "source": [
    "symb_model_black_box"
   ]
  },
  {
   "cell_type": "markdown",
   "metadata": {},
   "source": [
    "### MLP-based baseline"
   ]
  },
  {
   "cell_type": "code",
   "execution_count": 11,
   "metadata": {},
   "outputs": [],
   "source": [
    "model_path_mpnn = './saved_models_optuna/model-epidemics-mpnn/epidemics-new-data/1'"
   ]
  },
  {
   "cell_type": "code",
   "execution_count": 12,
   "metadata": {},
   "outputs": [
    {
     "name": "stderr",
     "output_type": "stream",
     "text": [
      "/home/rcappi/.conda/envs/my_env/lib/python3.12/site-packages/pysr/sr.py:2774: UserWarning: Note: it looks like you are running in Jupyter. The progress bar will be turned off.\n",
      "  warnings.warn(\n",
      "/home/rcappi/.conda/envs/my_env/lib/python3.12/site-packages/pysr/sr.py:2774: UserWarning: Note: it looks like you are running in Jupyter. The progress bar will be turned off.\n",
      "  warnings.warn(\n"
     ]
    }
   ],
   "source": [
    "pysr_model = lambda : get_pysr_model(\n",
    "    model_selection=\"score\",\n",
    "    random_state = 0,\n",
    "    deterministic=True,\n",
    "    parallelism='serial',\n",
    "    n_iterations=150\n",
    ")\n",
    "\n",
    "mpnn_symb = fit_mpnn(\n",
    "    model_path=model_path_mpnn,\n",
    "    pysr_model=pysr_model,\n",
    "    sample_size=9000,\n",
    "    message_passing=False\n",
    ")\n"
   ]
  },
  {
   "cell_type": "code",
   "execution_count": 13,
   "metadata": {},
   "outputs": [
    {
     "data": {
      "text/latex": [
       "$\\displaystyle \\sum_{j}( x_i*(0.49942818 - 0.49865368*x_j)) - 0.5019439 x_{i}$"
      ],
      "text/plain": [
       "\\sum_{j}( x_i*(0.49942818 - 0.49865368*x_j)) - 0.5019439*x_i"
      ]
     },
     "execution_count": 13,
     "metadata": {},
     "output_type": "execute_result"
    }
   ],
   "source": [
    "mpnn_symb"
   ]
  },
  {
   "cell_type": "markdown",
   "metadata": {},
   "source": [
    "## Kuramoto"
   ]
  },
  {
   "cell_type": "markdown",
   "metadata": {},
   "source": [
    "### GKAN"
   ]
  },
  {
   "cell_type": "code",
   "execution_count": 8,
   "metadata": {},
   "outputs": [],
   "source": [
    "model_path = 'saved_models_optuna/model-kuramoto-gkan/kuramoto-new-data/0/gkan'"
   ]
  },
  {
   "cell_type": "code",
   "execution_count": 9,
   "metadata": {},
   "outputs": [
    {
     "name": "stdout",
     "output_type": "stream",
     "text": [
      "Pruning node (0,0)\n"
     ]
    },
    {
     "name": "stderr",
     "output_type": "stream",
     "text": [
      "/home/rcappi/.conda/envs/my_env/lib/python3.12/site-packages/pysr/sr.py:2774: UserWarning: Note: it looks like you are running in Jupyter. The progress bar will be turned off.\n",
      "  warnings.warn(\n"
     ]
    },
    {
     "name": "stdout",
     "output_type": "stream",
     "text": [
      "Pruning node (0,0)\n"
     ]
    },
    {
     "name": "stderr",
     "output_type": "stream",
     "text": [
      "/home/rcappi/.conda/envs/my_env/lib/python3.12/site-packages/pysr/sr.py:2774: UserWarning: Note: it looks like you are running in Jupyter. The progress bar will be turned off.\n",
      "  warnings.warn(\n"
     ]
    }
   ],
   "source": [
    "pysr_model = lambda : get_pysr_model(\n",
    "    model_selection=\"score\",\n",
    "    n_iterations=200\n",
    ")\n",
    "\n",
    "symb_model_black_box = fit_black_box_from_kan(\n",
    "    model_path=model_path,\n",
    "    n_g_hidden_layers=2,\n",
    "    n_h_hidden_layers=2,\n",
    "    theta=0.1,\n",
    "    pysr_model=pysr_model,\n",
    "    sample_size=8000,\n",
    "    message_passing=False\n",
    ")"
   ]
  },
  {
   "cell_type": "code",
   "execution_count": 10,
   "metadata": {},
   "outputs": [
    {
     "data": {
      "text/latex": [
       "$\\displaystyle \\sum_{j}( -0.49825495*sin(x_i - x_j)) + 0.040180836 x_{i} + 1.2174591$"
      ],
      "text/plain": [
       "\\sum_{j}( -0.49825495*sin(x_i - x_j)) + 0.040180836*x_i + 1.2174591"
      ]
     },
     "execution_count": 10,
     "metadata": {},
     "output_type": "execute_result"
    }
   ],
   "source": [
    "symb_model_black_box"
   ]
  },
  {
   "cell_type": "markdown",
   "metadata": {},
   "source": [
    "## Test Experiments"
   ]
  },
  {
   "cell_type": "code",
   "execution_count": 2,
   "metadata": {},
   "outputs": [
    {
     "name": "stderr",
     "output_type": "stream",
     "text": [
      "/home/rcappi/.conda/envs/my_env/lib/python3.12/site-packages/tqdm/auto.py:21: TqdmWarning: IProgress not found. Please update jupyter and ipywidgets. See https://ipywidgets.readthedocs.io/en/stable/user_install.html\n",
      "  from .autonotebook import tqdm as notebook_tqdm\n"
     ]
    }
   ],
   "source": [
    "import optuna\n",
    "from optuna.storages import JournalStorage\n",
    "from optuna.storages.journal import JournalFileBackend\n",
    "from experiments.experiments_gkan import ExperimentsGKAN\n",
    "\n",
    "storage = JournalStorage(JournalFileBackend(\"optuna_journal_storage.log\"))"
   ]
  },
  {
   "cell_type": "markdown",
   "metadata": {},
   "source": [
    "### Kuramoto"
   ]
  },
  {
   "cell_type": "code",
   "execution_count": 2,
   "metadata": {},
   "outputs": [],
   "source": [
    "optuna.delete_study(study_name=\"model-kuramoto-gkan-test-new-dataset\", storage=storage)"
   ]
  },
  {
   "cell_type": "code",
   "execution_count": 3,
   "metadata": {},
   "outputs": [
    {
     "name": "stdout",
     "output_type": "stream",
     "text": [
      "CPU times: user 1e+03 ns, sys: 1 μs, total: 2 μs\n",
      "Wall time: 5.72 μs\n",
      "Detected IPython. Loading juliacall extension. See https://juliapy.github.io/PythonCall.jl/stable/compat/#IPython\n"
     ]
    },
    {
     "name": "stderr",
     "output_type": "stream",
     "text": [
      "Processing...\n"
     ]
    },
    {
     "name": "stdout",
     "output_type": "stream",
     "text": [
      "Builing the dataset...\n"
     ]
    },
    {
     "name": "stderr",
     "output_type": "stream",
     "text": [
      "Done!\n",
      "[I 2025-04-07 15:35:26,586] A new study created in Journal with name: model-kuramoto-gkan-test-new-dataset\n",
      "[I 2025-04-07 15:36:16,853] Trial 0 finished with value: 0.004770759493112564 and parameters: {'lr': 0.004328450221293881, 'lamb': 1.0, 'batch_size': 32, 'use_orig_reg': True, 'lamb_g_net': 0.0015751320499779737, 'lamb_h_net': 0.0002051338263087451, 'grid_size_g_net': 5, 'spline_order_g_net': 1, 'range_limit_g_net': 10, 'mu_1_g_net': 0.8, 'mu_2_g_net': 0.9, 'hidden_dim_g_net': 1, 'grid_size_h_net': 10, 'spline_order_h_net': 3, 'range_limit_h_net': 6, 'mu_1_h_net': 0.6, 'mu_2_h_net': 0.6, 'hidden_dim_h_net': 1}. Best is trial 0 with value: 0.004770759493112564.\n",
      "[I 2025-04-07 15:37:02,277] Trial 1 finished with value: 0.002222407143563032 and parameters: {'lr': 0.0077901431262762414, 'lamb': 1.0, 'batch_size': 32, 'use_orig_reg': True, 'lamb_g_net': 0.0016738085788752138, 'lamb_h_net': 0.00019010245319870352, 'grid_size_g_net': 6, 'spline_order_g_net': 2, 'range_limit_g_net': 7, 'mu_1_g_net': 0.9, 'mu_2_g_net': 0.6, 'hidden_dim_g_net': 2, 'grid_size_h_net': 8, 'spline_order_h_net': 1, 'range_limit_h_net': 8, 'mu_1_h_net': 0.6, 'mu_2_h_net': 0.5, 'hidden_dim_h_net': 3}. Best is trial 1 with value: 0.002222407143563032.\n"
     ]
    }
   ],
   "source": [
    "config_path = './configs/config_kuramoto.yml'\n",
    "config = load_config(config_path)\n",
    "\n",
    "\n",
    "exp = ExperimentsGKAN(\n",
    "    config=config,\n",
    "    n_trials=2,\n",
    "    study_name='test-new-dataset',\n",
    "    process_id=0,\n",
    "    store_to_sqlite = False\n",
    ")\n",
    "\n",
    "exp.run()\n"
   ]
  },
  {
   "cell_type": "markdown",
   "metadata": {},
   "source": [
    "### Test traffic data"
   ]
  },
  {
   "cell_type": "code",
   "execution_count": 6,
   "metadata": {},
   "outputs": [],
   "source": [
    "optuna.delete_study(study_name=\"model-metrla-gkan-test-new-dataset\", storage=storage)"
   ]
  },
  {
   "cell_type": "code",
   "execution_count": 3,
   "metadata": {},
   "outputs": [],
   "source": [
    "config_path = './configs/config_metrla_gkan.yml'\n",
    "config = load_config(config_path)"
   ]
  },
  {
   "cell_type": "code",
   "execution_count": 4,
   "metadata": {},
   "outputs": [
    {
     "name": "stderr",
     "output_type": "stream",
     "text": [
      "Processing...\n"
     ]
    },
    {
     "name": "stdout",
     "output_type": "stream",
     "text": [
      "Builing the dataset...\n"
     ]
    },
    {
     "name": "stderr",
     "output_type": "stream",
     "text": [
      "download: 13.1MB [00:01, 6.99MB/s]                            \n",
      "Done!\n"
     ]
    }
   ],
   "source": [
    "exp = ExperimentsGKAN(\n",
    "    config=config,\n",
    "    n_trials=2,\n",
    "    study_name='test-new-dataset',\n",
    "    process_id=0,\n",
    "    store_to_sqlite = False\n",
    ")"
   ]
  },
  {
   "cell_type": "code",
   "execution_count": 5,
   "metadata": {},
   "outputs": [
    {
     "name": "stderr",
     "output_type": "stream",
     "text": [
      "[I 2025-04-07 17:06:38,093] A new study created in Journal with name: model-metrla-gkan-test-new-dataset\n",
      "[I 2025-04-07 17:07:10,833] Trial 0 finished with value: 0.07330862432718277 and parameters: {'lr': 0.0010253509690168502, 'lamb': 0.0, 'batch_size': 32, 'use_orig_reg': False, 'lamb_g_net': 0.006351221010640704, 'lamb_h_net': 0.0008471801418819979, 'grid_size_g_net': 8, 'spline_order_g_net': 1, 'range_limit_g_net': 1, 'mu_1_g_net': 0.5, 'mu_2_g_net': 1.0, 'hidden_dim_g_net': 2, 'grid_size_h_net': 9, 'spline_order_h_net': 1, 'range_limit_h_net': 3, 'mu_1_h_net': 0.9, 'mu_2_h_net': 0.6, 'hidden_dim_h_net': 1}. Best is trial 0 with value: 0.07330862432718277.\n",
      "[I 2025-04-07 17:07:54,804] Trial 1 finished with value: 0.0793130099773407 and parameters: {'lr': 0.0003126102910311062, 'lamb': 0.0, 'batch_size': 32, 'use_orig_reg': False, 'lamb_g_net': 1.6480446427978994e-05, 'lamb_h_net': 0.0001256104370001356, 'grid_size_g_net': 7, 'spline_order_g_net': 1, 'range_limit_g_net': 2, 'mu_1_g_net': 0.5, 'mu_2_g_net': 0.6, 'hidden_dim_g_net': 2, 'grid_size_h_net': 7, 'spline_order_h_net': 3, 'range_limit_h_net': 1, 'mu_1_h_net': 0.8, 'mu_2_h_net': 0.8, 'hidden_dim_h_net': 1}. Best is trial 0 with value: 0.07330862432718277.\n"
     ]
    }
   ],
   "source": [
    "exp.epochs = 10\n",
    "exp.run()"
   ]
  }
 ],
 "metadata": {
  "kernelspec": {
   "display_name": "Python 3",
   "language": "python",
   "name": "python3"
  },
  "language_info": {
   "codemirror_mode": {
    "name": "ipython",
    "version": 3
   },
   "file_extension": ".py",
   "mimetype": "text/x-python",
   "name": "python",
   "nbconvert_exporter": "python",
   "pygments_lexer": "ipython3",
   "version": "3.12.0"
  }
 },
 "nbformat": 4,
 "nbformat_minor": 2
}
