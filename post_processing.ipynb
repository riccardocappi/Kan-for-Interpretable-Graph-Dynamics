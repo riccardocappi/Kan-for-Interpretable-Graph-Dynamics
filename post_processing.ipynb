{
 "cells": [
  {
   "cell_type": "markdown",
   "metadata": {},
   "source": [
    "## Dynamics\n",
    "\n",
    "Dynamics | $\\partial_{\\tau}x_i=$ |\n",
    "| :--------: | :-------: |\n",
    "Biochemical | $F -B x_i - R \\sum_j A_{ij} x_i x_j$ |\n",
    "Epidemics | $-B x_i + R \\sum_j A_{ij} (1-x_i)x_j$ |\n",
    "Neuronal | $-B x_i + C \\tanh x_i + R \\sum_j A_{ij} \\tanh x_j$ |\n",
    "Population | $-B x_i^{b} + R \\sum_j A_{ij} x_j^a$ |\n",
    "Synchronization | $\\omega_i + R \\sum_j A_{ij} \\sin(x_j-x_i)$ |"
   ]
  },
  {
   "cell_type": "markdown",
   "metadata": {},
   "source": [
    "## Test Experiments"
   ]
  },
  {
   "cell_type": "code",
   "execution_count": 34,
   "metadata": {},
   "outputs": [],
   "source": [
    "from utils.utils import *\n",
    "import optuna\n",
    "from optuna.storages import JournalStorage\n",
    "from optuna.storages.journal import JournalFileBackend\n",
    "from experiments.experiments_gkan import ExperimentsGKAN\n",
    "from experiments.experiments_mpnn import ExperimentsMPNN\n",
    "from train_and_eval import eval_model\n",
    "\n",
    "storage = JournalStorage(JournalFileBackend(\"optuna_journal_storage.log\"))"
   ]
  },
  {
   "cell_type": "markdown",
   "metadata": {},
   "source": [
    "### Kuramoto MPNN"
   ]
  },
  {
   "cell_type": "code",
   "execution_count": null,
   "metadata": {},
   "outputs": [],
   "source": [
    "optuna.delete_study(study_name=\"model-kuramoto-mpnn-test-new-dataset\", storage=storage)"
   ]
  },
  {
   "cell_type": "code",
   "execution_count": 32,
   "metadata": {},
   "outputs": [
    {
     "name": "stderr",
     "output_type": "stream",
     "text": [
      "Processing...\n"
     ]
    },
    {
     "name": "stdout",
     "output_type": "stream",
     "text": [
      "Building the dataset...\n"
     ]
    },
    {
     "name": "stderr",
     "output_type": "stream",
     "text": [
      "Done!\n"
     ]
    }
   ],
   "source": [
    "config_path = './configs/config_ic5/config_kuramoto.yml'\n",
    "config = load_config(config_path)\n",
    "config['epochs'] = 1\n",
    "config['method'] = 'scipy_solver'\n",
    "config['atol'] = 1e-5\n",
    "# config['horizon'] = 5\n",
    "#config[\"device\"] = \"cuda\"\n",
    "#config[\"data_folder\"] = \"./data_noise\"\n",
    "#config[\"noise_scale\"] = 0.01 \n",
    "\n",
    "exp = ExperimentsGKAN(\n",
    "    config=config,\n",
    "    n_trials=1,\n",
    "    study_name='test-new-dataset',\n",
    "    process_id=0,\n",
    ")"
   ]
  },
  {
   "cell_type": "code",
   "execution_count": 33,
   "metadata": {},
   "outputs": [
    {
     "name": "stderr",
     "output_type": "stream",
     "text": [
      "[I 2025-05-16 10:50:32,604] Using an existing study with name 'model-kuramoto-gkan-test-new-dataset' instead of creating a new one.\n"
     ]
    },
    {
     "name": "stdout",
     "output_type": "stream",
     "text": [
      "Trial 17: num params: 150\n"
     ]
    },
    {
     "name": "stderr",
     "output_type": "stream",
     "text": [
      "/home/rcappi/.conda/envs/my_env/lib/python3.12/site-packages/scipy/integrate/_ivp/ivp.py:621: UserWarning: The following arguments have no effect for a chosen solver: `min_step`.\n",
      "  solver = method(fun, t0, y0, tf, vectorized=vectorized, **options)\n",
      "[I 2025-05-16 10:51:32,910] Trial 17 finished with value: 0.029602758586406708 and parameters: {'lr': 0.02823825075354001, 'lamb': 1.0, 'batch_size': 16, 'use_orig_reg': False, 'lamb_g_net': 1.5740661645029372e-05, 'lamb_h_net': 0.0006448148975971332, 'grid_size_g_net': 9, 'spline_order_g_net': 3, 'range_limit_g_net': 6, 'mu_1_g_net': 1.0, 'mu_2_g_net': 0.6, 'hidden_dim_g_net': 3, 'grid_size_h_net': 9, 'spline_order_h_net': 1, 'range_limit_h_net': 10, 'mu_1_h_net': 1.0, 'mu_2_h_net': 0.7, 'hidden_dim_h_net': 1}. Best is trial 13 with value: 0.010442144237458706.\n"
     ]
    }
   ],
   "source": [
    "exp.run()"
   ]
  },
  {
   "cell_type": "markdown",
   "metadata": {},
   "source": [
    "### Lower bound"
   ]
  },
  {
   "cell_type": "code",
   "execution_count": 3,
   "metadata": {},
   "outputs": [],
   "source": [
    "import torch\n",
    "from models.utils.MPNN import MPNN\n",
    "from models.baseline.MPNN_ODE import MPNN_ODE"
   ]
  },
  {
   "cell_type": "code",
   "execution_count": 8,
   "metadata": {},
   "outputs": [],
   "source": [
    "g_symb = lambda x: torch.sin(x[:, 1] - x[:, 0]).unsqueeze(-1)\n",
    "h_symb = lambda x: 2.0 + 0.5*x[:, 1].unsqueeze(-1)\n",
    "\n",
    "symb = MPNN(\n",
    "    g_net = g_symb,\n",
    "    h_net = h_symb, \n",
    "    message_passing=True,\n",
    "    include_time=False\n",
    ")\n",
    "\n",
    "symb_ode = MPNN_ODE(\n",
    "    conv=symb,\n",
    "    model_path=\"./saved_models_optuna/symb_kuramoto\",\n",
    "    adjoint=True,\n",
    "    integration_method=\"dopri5\"\n",
    ")"
   ]
  },
  {
   "cell_type": "code",
   "execution_count": 9,
   "metadata": {},
   "outputs": [],
   "source": [
    "from train_and_eval import eval_model\n",
    "\n",
    "symb_valid_loss = eval_model(\n",
    "    model=symb_ode,\n",
    "    valid_data=exp.valid_set,\n",
    "    criterion=torch.nn.L1Loss(),\n",
    "    scaler=exp.scaler,\n",
    "    inverse_scale=False\n",
    ")"
   ]
  },
  {
   "cell_type": "code",
   "execution_count": 10,
   "metadata": {},
   "outputs": [
    {
     "name": "stdout",
     "output_type": "stream",
     "text": [
      "0.04710772633552551\n"
     ]
    }
   ],
   "source": [
    "print(symb_valid_loss)"
   ]
  },
  {
   "cell_type": "markdown",
   "metadata": {},
   "source": [
    "### Epidemics MPNN"
   ]
  },
  {
   "cell_type": "code",
   "execution_count": 10,
   "metadata": {},
   "outputs": [],
   "source": [
    "optuna.delete_study(study_name=\"model-epidemics-mpnn-test-epidemics\", storage=storage)"
   ]
  },
  {
   "cell_type": "code",
   "execution_count": null,
   "metadata": {},
   "outputs": [
    {
     "name": "stdout",
     "output_type": "stream",
     "text": [
      "Building the dataset...\n"
     ]
    },
    {
     "name": "stderr",
     "output_type": "stream",
     "text": [
      "Processing...\n",
      "Done!\n"
     ]
    }
   ],
   "source": [
    "config_path = './configs/config_ic1/config_epidemics.yml'\n",
    "config = load_config(config_path)\n",
    "config['epochs'] = 1\n",
    "\n",
    "exp = ExperimentsMPNN(\n",
    "    config=config,\n",
    "    n_trials=1,\n",
    "    study_name='test-epidemics',\n",
    "    process_id=0,\n",
    ")"
   ]
  },
  {
   "cell_type": "code",
   "execution_count": 12,
   "metadata": {},
   "outputs": [
    {
     "name": "stderr",
     "output_type": "stream",
     "text": [
      "[I 2025-05-10 10:12:29,327] A new study created in Journal with name: model-epidemics-mpnn-test-epidemics\n"
     ]
    },
    {
     "name": "stdout",
     "output_type": "stream",
     "text": [
      "Epoch: 0 \t Training loss: 0.01012 \t Val Loss: 0.00678 \t Tot Loss: 0.01012\n",
      "Epoch: 1 \t Training loss: 0.00808 \t Val Loss: 0.00544 \t Tot Loss: 0.00808\n",
      "Epoch: 2 \t Training loss: 0.00775 \t Val Loss: 0.00617 \t Tot Loss: 0.00775\n",
      "Epoch: 3 \t Training loss: 0.00734 \t Val Loss: 0.00518 \t Tot Loss: 0.00734\n",
      "Epoch: 4 \t Training loss: 0.00672 \t Val Loss: 0.00581 \t Tot Loss: 0.00672\n",
      "Epoch: 5 \t Training loss: 0.00607 \t Val Loss: 0.00549 \t Tot Loss: 0.00607\n",
      "Epoch: 6 \t Training loss: 0.00591 \t Val Loss: 0.00457 \t Tot Loss: 0.00591\n",
      "Epoch: 7 \t Training loss: 0.00581 \t Val Loss: 0.00477 \t Tot Loss: 0.00581\n",
      "Epoch: 8 \t Training loss: 0.00552 \t Val Loss: 0.00428 \t Tot Loss: 0.00552\n",
      "Epoch: 9 \t Training loss: 0.00528 \t Val Loss: 0.00412 \t Tot Loss: 0.00528\n",
      "\n",
      "Loading best model found at epoch 9 with val loss 0.004118029959499836\n",
      "Test loss: 0.0026830669958144426\n"
     ]
    },
    {
     "name": "stderr",
     "output_type": "stream",
     "text": [
      "[I 2025-05-10 10:13:10,063] Trial 0 finished with value: 0.004118029959499836 and parameters: {'lr': 0.0007775093404832605, 'lamb': 0.0, 'batch_size': 16, 'n_hidden_layers_g_net': 2, 'hidden_dims_g_net': 56, 'af_g_net': 'softplus', 'drop_p_g_net': 0.00157630723324707, 'n_hidden_layers_h_net': 2, 'hidden_dims_h_net': 24, 'af_h_net': 'relu', 'drop_p_h_net': 0.00020863994358772403}. Best is trial 0 with value: 0.004118029959499836.\n"
     ]
    }
   ],
   "source": [
    "exp.run()"
   ]
  },
  {
   "cell_type": "code",
   "execution_count": 13,
   "metadata": {},
   "outputs": [
    {
     "name": "stderr",
     "output_type": "stream",
     "text": [
      "/home/rcappi/.conda/envs/my_env/lib/python3.12/site-packages/pysr/sr.py:2774: UserWarning: Note: it looks like you are running in Jupyter. The progress bar will be turned off.\n",
      "  warnings.warn(\n",
      "/home/rcappi/.conda/envs/my_env/lib/python3.12/site-packages/pysr/sr.py:2774: UserWarning: Note: it looks like you are running in Jupyter. The progress bar will be turned off.\n",
      "  warnings.warn(\n"
     ]
    }
   ],
   "source": [
    "model_path_mpnn = './saved_models_optuna/model-epidemics-mpnn/test-epidemics/0/mpnn'\n",
    "\n",
    "pysr_model = lambda : get_pysr_model(\n",
    "    model_selection=\"score\",\n",
    "    n_iterations=150\n",
    ")\n",
    "\n",
    "mpnn_symb = fit_mpnn(\n",
    "    model_path=model_path_mpnn,\n",
    "    pysr_model=pysr_model,\n",
    "    sample_size=9000,\n",
    "    message_passing=False\n",
    ")"
   ]
  },
  {
   "cell_type": "code",
   "execution_count": 14,
   "metadata": {},
   "outputs": [
    {
     "data": {
      "text/latex": [
       "$\\displaystyle \\sum_{j}( 0.116708815*exp(-x_i*exp(x_j))) - 0.15959646 \\tanh{\\left(\\log{\\left(x_{i} \\right)} \\right)}$"
      ],
      "text/plain": [
       "\\sum_{j}( 0.116708815*exp(-x_i*exp(x_j))) - 0.15959646*tanh(log(x_i))"
      ]
     },
     "execution_count": 14,
     "metadata": {},
     "output_type": "execute_result"
    }
   ],
   "source": [
    "mpnn_symb"
   ]
  },
  {
   "cell_type": "markdown",
   "metadata": {},
   "source": [
    "### Neuronal MPNN"
   ]
  },
  {
   "cell_type": "code",
   "execution_count": 11,
   "metadata": {},
   "outputs": [],
   "source": [
    "optuna.delete_study(study_name=\"model-neuronal-mpnn-test-neuronal\", storage=storage)"
   ]
  },
  {
   "cell_type": "code",
   "execution_count": 3,
   "metadata": {},
   "outputs": [],
   "source": [
    "config_path = './configs/config_noise/config_neuronal_noise.yml'\n",
    "config = load_config(config_path)\n",
    "config['epochs'] = 10\n",
    "\n",
    "exp = ExperimentsMPNN(\n",
    "    config=config,\n",
    "    n_trials=1,\n",
    "    study_name='test-neuronal',\n",
    "    process_id=0,\n",
    ")"
   ]
  },
  {
   "cell_type": "code",
   "execution_count": 13,
   "metadata": {},
   "outputs": [
    {
     "name": "stderr",
     "output_type": "stream",
     "text": [
      "[I 2025-05-09 17:07:45,709] A new study created in Journal with name: model-neuronal-mpnn-test-neuronal\n"
     ]
    },
    {
     "name": "stdout",
     "output_type": "stream",
     "text": [
      "Epoch: 0 \t Training loss: 0.15600 \t Val Loss: 0.09005 \t Tot Loss: 0.15600\n",
      "Epoch: 1 \t Training loss: 0.05407 \t Val Loss: 0.07933 \t Tot Loss: 0.05407\n",
      "Epoch: 2 \t Training loss: 0.05492 \t Val Loss: 0.00986 \t Tot Loss: 0.05492\n",
      "Epoch: 3 \t Training loss: 0.02307 \t Val Loss: 0.02946 \t Tot Loss: 0.02307\n",
      "Epoch: 4 \t Training loss: 0.02772 \t Val Loss: 0.00445 \t Tot Loss: 0.02772\n",
      "Epoch: 5 \t Training loss: 0.01449 \t Val Loss: 0.02453 \t Tot Loss: 0.01449\n",
      "Epoch: 6 \t Training loss: 0.01730 \t Val Loss: 0.01004 \t Tot Loss: 0.01730\n",
      "Epoch: 7 \t Training loss: 0.00799 \t Val Loss: 0.00930 \t Tot Loss: 0.00799\n",
      "Epoch: 8 \t Training loss: 0.01102 \t Val Loss: 0.00358 \t Tot Loss: 0.01102\n",
      "Epoch: 9 \t Training loss: 0.00579 \t Val Loss: 0.01125 \t Tot Loss: 0.00579\n",
      "\n",
      "Loading best model found at epoch 8 with val loss 0.003580222139135003\n",
      "Test loss: 0.004640685394406319\n"
     ]
    },
    {
     "name": "stderr",
     "output_type": "stream",
     "text": [
      "[I 2025-05-09 17:08:23,447] Trial 0 finished with value: 0.003580222139135003 and parameters: {'lr': 0.022198182869050127, 'lamb': 0.0, 'batch_size': 32, 'n_hidden_layers_g_net': 2, 'hidden_dims_g_net': 32, 'af_g_net': 'softplus', 'drop_p_g_net': 0.0005185973727913854, 'n_hidden_layers_h_net': 1, 'hidden_dims_h_net': 40, 'af_h_net': 'tanh', 'drop_p_h_net': 0.018136511652483187}. Best is trial 0 with value: 0.003580222139135003.\n"
     ]
    }
   ],
   "source": [
    "exp.run()"
   ]
  },
  {
   "cell_type": "code",
   "execution_count": 5,
   "metadata": {},
   "outputs": [
    {
     "name": "stderr",
     "output_type": "stream",
     "text": [
      "/home/rcappi/.conda/envs/my_env/lib/python3.12/site-packages/pysr/sr.py:2774: UserWarning: Note: it looks like you are running in Jupyter. The progress bar will be turned off.\n",
      "  warnings.warn(\n",
      "/home/rcappi/.conda/envs/my_env/lib/python3.12/site-packages/pysr/sr.py:2774: UserWarning: Note: it looks like you are running in Jupyter. The progress bar will be turned off.\n",
      "  warnings.warn(\n"
     ]
    }
   ],
   "source": [
    "model_path_mpnn = './saved_models_optuna/model-neuronal-mpnn/test-neuronal/0/mpnn'\n",
    "\n",
    "pysr_model = lambda : get_pysr_model(\n",
    "    model_selection=\"score\",\n",
    "    n_iterations=150\n",
    ")\n",
    "\n",
    "mpnn_symb = fit_mpnn(\n",
    "    model_path=model_path_mpnn,\n",
    "    pysr_model=pysr_model,\n",
    "    sample_size=9000,\n",
    "    message_passing=False\n",
    ")"
   ]
  },
  {
   "cell_type": "code",
   "execution_count": 6,
   "metadata": {},
   "outputs": [
    {
     "data": {
      "text/latex": [
       "$\\displaystyle \\sum_{j}( log(log(tanh(x_j/x_i) + 1) + 1)) + \\frac{0.14861982}{\\tanh{\\left(e^{x_{i}} \\right)}}$"
      ],
      "text/plain": [
       "\\sum_{j}( log(log(tanh(x_j/x_i) + 1) + 1)) + 0.14861982/tanh(exp(x_i))"
      ]
     },
     "execution_count": 6,
     "metadata": {},
     "output_type": "execute_result"
    }
   ],
   "source": [
    "mpnn_symb\n"
   ]
  },
  {
   "cell_type": "code",
   "execution_count": 18,
   "metadata": {},
   "outputs": [],
   "source": [
    "config_path = './configs/config_neuronal.yml'\n",
    "config = load_config(config_path)\n",
    "config['epochs'] = 5\n",
    "\n",
    "exp = ExperimentsGKAN(\n",
    "    config=config,\n",
    "    n_trials=1,\n",
    "    study_name='test-neuronal',\n",
    "    process_id=0,\n",
    ")"
   ]
  },
  {
   "cell_type": "code",
   "execution_count": 19,
   "metadata": {},
   "outputs": [
    {
     "name": "stderr",
     "output_type": "stream",
     "text": [
      "[I 2025-05-09 14:21:16,405] Using an existing study with name 'model-neuronal-gkan-test-neuronal' instead of creating a new one.\n"
     ]
    },
    {
     "name": "stdout",
     "output_type": "stream",
     "text": [
      "Epoch: 0 \t Training loss: 0.00051 \t Val Loss: 0.00028 \t Tot Loss: 0.00543\n",
      "Epoch: 1 \t Training loss: 0.00028 \t Val Loss: 0.00014 \t Tot Loss: 0.00507\n",
      "Epoch: 2 \t Training loss: 0.00016 \t Val Loss: 0.00007 \t Tot Loss: 0.00483\n",
      "Epoch: 3 \t Training loss: 0.00012 \t Val Loss: 0.00005 \t Tot Loss: 0.00453\n",
      "Epoch: 4 \t Training loss: 0.00011 \t Val Loss: 0.00004 \t Tot Loss: 0.00443\n",
      "\n",
      "Loading best model found at epoch 4 with val loss 4.3011452362407e-05\n",
      "Test loss: 0.000152996537508443\n"
     ]
    },
    {
     "name": "stderr",
     "output_type": "stream",
     "text": [
      "[I 2025-05-09 14:24:39,155] Trial 1 finished with value: 4.3011452362407e-05 and parameters: {'lr': 0.014578887605134958, 'lamb': 1.0, 'batch_size': 32, 'use_orig_reg': True, 'lamb_g_net': 9.722521843140844e-05, 'lamb_h_net': 0.0017345619188380956, 'grid_size_g_net': 9, 'spline_order_g_net': 3, 'range_limit_g_net': 1, 'mu_1_g_net': 0.6, 'mu_2_g_net': 1.0, 'hidden_dim_g_net': 1, 'grid_size_h_net': 7, 'spline_order_h_net': 2, 'range_limit_h_net': 3, 'mu_1_h_net': 1.0, 'mu_2_h_net': 0.7, 'hidden_dim_h_net': 2}. Best is trial 1 with value: 4.3011452362407e-05.\n"
     ]
    }
   ],
   "source": [
    "exp.run()"
   ]
  },
  {
   "cell_type": "markdown",
   "metadata": {},
   "source": [
    "### Biochemical MPNN"
   ]
  },
  {
   "cell_type": "code",
   "execution_count": 14,
   "metadata": {},
   "outputs": [],
   "source": [
    "optuna.delete_study(study_name=\"model-biochemical-mpnn-test-biochemical\", storage=storage)"
   ]
  },
  {
   "cell_type": "code",
   "execution_count": 9,
   "metadata": {},
   "outputs": [],
   "source": [
    "config_path = './configs/config_ic1/config_biochemical_mpnn.yml'\n",
    "config = load_config(config_path)\n",
    "config['epochs'] = 10\n",
    "\n",
    "exp = ExperimentsMPNN(\n",
    "    config=config,\n",
    "    n_trials=1,\n",
    "    study_name='test-biochemical',\n",
    "    process_id=0,\n",
    ")"
   ]
  },
  {
   "cell_type": "code",
   "execution_count": 17,
   "metadata": {},
   "outputs": [
    {
     "data": {
      "text/plain": [
       "[<matplotlib.lines.Line2D at 0x7f764c404560>]"
      ]
     },
     "execution_count": 17,
     "metadata": {},
     "output_type": "execute_result"
    },
    {
     "data": {
      "image/png": "[encoded data removed]",
      "text/plain": [
       "<Figure size 640x480 with 1 Axes>"
      ]
     },
     "metadata": {},
     "output_type": "display_data"
    }
   ],
   "source": [
    "import matplotlib.pyplot as plt\n",
    "data = exp.training_set.raw_data_sampled.detach().cpu().numpy()\n",
    "\n",
    "plt.plot(data[0, :, 65, :])"
   ]
  },
  {
   "cell_type": "code",
   "execution_count": 16,
   "metadata": {},
   "outputs": [
    {
     "name": "stderr",
     "output_type": "stream",
     "text": [
      "[I 2025-05-09 17:08:40,883] A new study created in Journal with name: model-biochemical-mpnn-test-biochemical\n"
     ]
    },
    {
     "name": "stdout",
     "output_type": "stream",
     "text": [
      "Epoch: 0 \t Training loss: 0.01061 \t Val Loss: 0.00656 \t Tot Loss: 0.01061\n",
      "Epoch: 1 \t Training loss: 0.00874 \t Val Loss: 0.00552 \t Tot Loss: 0.00874\n",
      "Epoch: 2 \t Training loss: 0.00779 \t Val Loss: 0.00526 \t Tot Loss: 0.00779\n",
      "Epoch: 3 \t Training loss: 0.00718 \t Val Loss: 0.00465 \t Tot Loss: 0.00718\n",
      "Epoch: 4 \t Training loss: 0.00654 \t Val Loss: 0.00416 \t Tot Loss: 0.00654\n",
      "Epoch: 5 \t Training loss: 0.00580 \t Val Loss: 0.00388 \t Tot Loss: 0.00580\n",
      "Epoch: 6 \t Training loss: 0.00511 \t Val Loss: 0.00322 \t Tot Loss: 0.00511\n",
      "Epoch: 7 \t Training loss: 0.00457 \t Val Loss: 0.00279 \t Tot Loss: 0.00457\n",
      "Epoch: 8 \t Training loss: 0.00387 \t Val Loss: 0.00227 \t Tot Loss: 0.00387\n",
      "Epoch: 9 \t Training loss: 0.00335 \t Val Loss: 0.00189 \t Tot Loss: 0.00335\n",
      "\n",
      "Loading best model found at epoch 9 with val loss 0.001890188199467957\n",
      "Test loss: 0.0018362425034865737\n"
     ]
    },
    {
     "name": "stderr",
     "output_type": "stream",
     "text": [
      "[I 2025-05-09 17:09:18,946] Trial 0 finished with value: 0.001890188199467957 and parameters: {'lr': 0.0011331826087084096, 'lamb': 0.0, 'batch_size': 16, 'n_hidden_layers_g_net': 2, 'hidden_dims_g_net': 24, 'af_g_net': 'tanh', 'drop_p_g_net': 0.012105133221616455, 'n_hidden_layers_h_net': 1, 'hidden_dims_h_net': 16, 'af_h_net': 'softplus', 'drop_p_h_net': 0.01289533029330185}. Best is trial 0 with value: 0.001890188199467957.\n"
     ]
    }
   ],
   "source": [
    "exp.run()"
   ]
  },
  {
   "cell_type": "code",
   "execution_count": 11,
   "metadata": {},
   "outputs": [
    {
     "name": "stderr",
     "output_type": "stream",
     "text": [
      "/home/rcappi/.conda/envs/my_env/lib/python3.12/site-packages/pysr/sr.py:2774: UserWarning: Note: it looks like you are running in Jupyter. The progress bar will be turned off.\n",
      "  warnings.warn(\n",
      "/home/rcappi/.conda/envs/my_env/lib/python3.12/site-packages/pysr/sr.py:2774: UserWarning: Note: it looks like you are running in Jupyter. The progress bar will be turned off.\n",
      "  warnings.warn(\n"
     ]
    }
   ],
   "source": [
    "model_path_mpnn = './saved_models_optuna/model-biochemical-mpnn/test-biochemical/0/mpnn'\n",
    "\n",
    "pysr_model = lambda : get_pysr_model(\n",
    "    model_selection=\"score\",\n",
    "    n_iterations=200\n",
    ")\n",
    "\n",
    "mpnn_symb = fit_mpnn(\n",
    "    model_path=model_path_mpnn,\n",
    "    pysr_model=pysr_model,\n",
    "    sample_size=9000,\n",
    "    message_passing=False\n",
    ")"
   ]
  },
  {
   "cell_type": "code",
   "execution_count": 12,
   "metadata": {},
   "outputs": [
    {
     "data": {
      "text/latex": [
       "$\\displaystyle \\sum_{j}( -0.15344319*x_i*exp(x_j)) - 0.14971581 x_{i} + 0.87793374$"
      ],
      "text/plain": [
       "\\sum_{j}( -0.15344319*x_i*exp(x_j)) - 0.14971581*x_i + 0.87793374"
      ]
     },
     "execution_count": 12,
     "metadata": {},
     "output_type": "execute_result"
    }
   ],
   "source": [
    "mpnn_symb"
   ]
  },
  {
   "cell_type": "code",
   "execution_count": 23,
   "metadata": {},
   "outputs": [],
   "source": [
    "config_path = './configs/config_biochemical.yml'\n",
    "config = load_config(config_path)\n",
    "config['epochs'] = 5\n",
    "\n",
    "exp = ExperimentsGKAN(\n",
    "    config=config,\n",
    "    n_trials=1,\n",
    "    study_name='test-biochemical',\n",
    "    process_id=0,\n",
    ")"
   ]
  },
  {
   "cell_type": "code",
   "execution_count": 24,
   "metadata": {},
   "outputs": [
    {
     "name": "stderr",
     "output_type": "stream",
     "text": [
      "[I 2025-05-09 14:43:07,097] A new study created in Journal with name: model-biochemical-gkan-test-biochemical\n"
     ]
    },
    {
     "name": "stdout",
     "output_type": "stream",
     "text": [
      "Epoch: 0 \t Training loss: 0.00011 \t Val Loss: 0.00007 \t Tot Loss: 0.00409\n",
      "Epoch: 1 \t Training loss: 0.00010 \t Val Loss: 0.00006 \t Tot Loss: 0.00416\n",
      "Epoch: 2 \t Training loss: 0.00010 \t Val Loss: 0.00005 \t Tot Loss: 0.00426\n",
      "Epoch: 3 \t Training loss: 0.00009 \t Val Loss: 0.00005 \t Tot Loss: 0.00439\n",
      "Epoch: 4 \t Training loss: 0.00009 \t Val Loss: 0.00004 \t Tot Loss: 0.00456\n",
      "\n",
      "Loading best model found at epoch 4 with val loss 4.181330223218538e-05\n",
      "Test loss: 2.1962674509268254e-05\n"
     ]
    },
    {
     "name": "stderr",
     "output_type": "stream",
     "text": [
      "[I 2025-05-09 14:45:45,104] Trial 0 finished with value: 4.181330223218538e-05 and parameters: {'lr': 0.0029212460068246317, 'lamb': 1.0, 'batch_size': 16, 'use_orig_reg': True, 'lamb_g_net': 0.0012543290658560168, 'lamb_h_net': 1.2825379943612229e-06, 'grid_size_g_net': 8, 'spline_order_g_net': 1, 'range_limit_g_net': 1, 'mu_1_g_net': 0.7, 'mu_2_g_net': 0.9, 'hidden_dim_g_net': 3, 'grid_size_h_net': 6, 'spline_order_h_net': 2, 'range_limit_h_net': 3, 'mu_1_h_net': 0.6, 'mu_2_h_net': 0.5, 'hidden_dim_h_net': 3}. Best is trial 0 with value: 4.181330223218538e-05.\n"
     ]
    }
   ],
   "source": [
    "exp.run()"
   ]
  },
  {
   "cell_type": "markdown",
   "metadata": {},
   "source": [
    "### Population MPNN"
   ]
  },
  {
   "cell_type": "code",
   "execution_count": 5,
   "metadata": {},
   "outputs": [
    {
     "name": "stderr",
     "output_type": "stream",
     "text": [
      "Processing...\n",
      "Done!\n"
     ]
    },
    {
     "name": "stdout",
     "output_type": "stream",
     "text": [
      "Building the dataset...\n"
     ]
    }
   ],
   "source": [
    "config_path = './configs/config_ic5/config_population_mpnn.yml'\n",
    "config = load_config(config_path)\n",
    "config['epochs'] = 1\n",
    "\n",
    "exp = ExperimentsMPNN(\n",
    "    config=config,\n",
    "    n_trials=1,\n",
    "    study_name='test-population',\n",
    "    process_id=0,\n",
    ")"
   ]
  },
  {
   "cell_type": "code",
   "execution_count": 6,
   "metadata": {},
   "outputs": [
    {
     "data": {
      "text/plain": [
       "6.902940273284912"
      ]
     },
     "execution_count": 6,
     "metadata": {},
     "output_type": "execute_result"
    }
   ],
   "source": [
    "exp.training_set.raw_data_sampled.max().item()"
   ]
  },
  {
   "cell_type": "code",
   "execution_count": 32,
   "metadata": {},
   "outputs": [],
   "source": [
    "import matplotlib.pyplot as plt"
   ]
  },
  {
   "cell_type": "code",
   "execution_count": 40,
   "metadata": {},
   "outputs": [
    {
     "data": {
      "text/plain": [
       "[<matplotlib.lines.Line2D at 0x7fa16826c620>]"
      ]
     },
     "execution_count": 40,
     "metadata": {},
     "output_type": "execute_result"
    },
    {
     "data": {
      "image/png": "[encoded data removed]",
      "text/plain": [
       "<Figure size 640x480 with 1 Axes>"
      ]
     },
     "metadata": {},
     "output_type": "display_data"
    }
   ],
   "source": [
    "data = exp.training_set.raw_data_sampled.detach().cpu().numpy()\n",
    "plt.plot(data[1, :, 55, :])"
   ]
  },
  {
   "cell_type": "code",
   "execution_count": null,
   "metadata": {},
   "outputs": [
    {
     "name": "stderr",
     "output_type": "stream",
     "text": [
      "[I 2025-05-15 13:46:17,592] Using an existing study with name 'model-population-mpnn-test-population' instead of creating a new one.\n"
     ]
    },
    {
     "name": "stdout",
     "output_type": "stream",
     "text": [
      "Trial 1: num params: 1898\n"
     ]
    },
    {
     "name": "stderr",
     "output_type": "stream",
     "text": [
      "[I 2025-05-15 13:46:36,706] Trial 1 finished with value: 0.004098234232515097 and parameters: {'lr': 0.007960010461891508, 'lamb': 0.0, 'batch_size': 32, 'n_hidden_layers_g_net': 2, 'hidden_dims_g_net': 40, 'af_g_net': 'relu', 'drop_p_g_net': 0.08145742288419544, 'n_hidden_layers_h_net': 1, 'hidden_dims_h_net': 32, 'af_h_net': 'tanh', 'drop_p_h_net': 0.0061770830010497045}. Best is trial 1 with value: 0.004098234232515097.\n"
     ]
    },
    {
     "ename": "",
     "evalue": "",
     "output_type": "error",
     "traceback": [
      "\u001b[1;31mThe Kernel crashed while executing code in the current cell or a previous cell. \n",
      "\u001b[1;31mPlease review the code in the cell(s) to identify a possible cause of the failure. \n",
      "\u001b[1;31mClick <a href='https://aka.ms/vscodeJupyterKernelCrash'>here</a> for more info. \n",
      "\u001b[1;31mView Jupyter <a href='command:jupyter.viewOutput'>log</a> for further details."
     ]
    }
   ],
   "source": [
    "exp.run()"
   ]
  },
  {
   "cell_type": "markdown",
   "metadata": {},
   "source": [
    "## Symbolic reg"
   ]
  },
  {
   "cell_type": "markdown",
   "metadata": {},
   "source": [
    "### Utils"
   ]
  },
  {
   "cell_type": "code",
   "execution_count": 4,
   "metadata": {},
   "outputs": [],
   "source": [
    "from models.utils.MPNN import MPNN\n",
    "from models.baseline.MPNN_ODE import MPNN_ODE\n",
    "from train_and_eval import eval_model\n",
    "from datasets.SyntheticData import SyntheticData\n",
    "from sympy import symbols, sin, summation, simplify\n",
    "import networkx as nx\n",
    "from torch_geometric.utils import from_networkx\n",
    "from utils.utils import integrate\n",
    "from torch_geometric.data import Data"
   ]
  },
  {
   "cell_type": "code",
   "execution_count": 5,
   "metadata": {},
   "outputs": [],
   "source": [
    "def get_model(g, h, message_passing=True, include_time=False, atol=1e-5, rtol=1e-3, integration_method = 'scipy_solver'):\n",
    "    conv = MPNN(\n",
    "        g_net = g,\n",
    "        h_net = h, \n",
    "        message_passing=message_passing,\n",
    "        include_time=include_time\n",
    "    )\n",
    "    \n",
    "    symb = MPNN_ODE(\n",
    "        conv=conv,\n",
    "        model_path=\"./saved_models_optuna/tmp_symb\",\n",
    "        adjoint=True,\n",
    "        integration_method=integration_method,\n",
    "        atol=atol,\n",
    "        rtol=rtol\n",
    "    )\n",
    "    \n",
    "    return symb\n",
    "\n",
    "\n",
    "def get_symb_test_error(g_symb, h_symb, test_set, message_passing=False, include_time=False, atol=1e-5, rtol=1e-3, scaler = None, inverse_scale=False):\n",
    "    \n",
    "    # total_len = len(dataset)\n",
    "    # test_set = dataset[int(0.9*total_len):]\n",
    "    \n",
    "    symb = get_model(\n",
    "        g=g_symb,\n",
    "        h=h_symb,\n",
    "        message_passing=message_passing,\n",
    "        include_time=include_time,\n",
    "        atol=atol,\n",
    "        rtol=rtol\n",
    "    )\n",
    "    \n",
    "    test_loss = eval_model(\n",
    "        model=symb,\n",
    "        valid_data=test_set,\n",
    "        criterion=torch.nn.L1Loss(),\n",
    "        scaler=scaler,\n",
    "        inverse_scale=inverse_scale\n",
    "    )\n",
    "    \n",
    "    return test_loss\n",
    "\n",
    "\n",
    "def get_test_set(dynamics, seed=12345, device='cuda', input_range = (0, 1), **integration_kwargs):\n",
    "    graph = nx.barabasi_albert_graph(100, 3, seed=seed)\n",
    "    edge_index = from_networkx(graph).edge_index\n",
    "    edge_index = edge_index.to(torch.device(device))\n",
    "    rng = np.random.default_rng(seed=seed)\n",
    "    \n",
    "    data, t = integrate(\n",
    "        input_range=input_range,\n",
    "        t_span = [0, 1],\n",
    "        t_eval_steps=300,\n",
    "        dynamics=dynamics,\n",
    "        device=device,\n",
    "        graph=graph,\n",
    "        rng = rng,\n",
    "        **integration_kwargs\n",
    "    )\n",
    "    \n",
    "    snapshot = Data(\n",
    "        x = data[0].unsqueeze(0),\n",
    "        y = data[1:],\n",
    "        edge_index=edge_index,\n",
    "        edge_attr=None,\n",
    "        t_span = t\n",
    "    )\n",
    "    \n",
    "    return [snapshot]\n",
    "    \n",
    "    "
   ]
  },
  {
   "cell_type": "markdown",
   "metadata": {},
   "source": [
    "### LB losses\n"
   ]
  },
  {
   "cell_type": "code",
   "execution_count": 27,
   "metadata": {},
   "outputs": [
    {
     "name": "stdout",
     "output_type": "stream",
     "text": [
      "Kuramoto: 7.834048301447183e-05\n"
     ]
    }
   ],
   "source": [
    "kur_config = load_config(\"./configs/config_ic1/config_kuramoto.yml\")\n",
    "\n",
    "KUR = get_test_set(\n",
    "    dynamics=kur_config['name'],\n",
    "    seed = 12345,\n",
    "    device=kur_config['device'],\n",
    "    input_range=kur_config['input_range'],\n",
    "    **kur_config['integration_kwargs']    \n",
    ")\n",
    "\n",
    "g_symb = lambda x: torch.sin(x[:, 1] - x[:, 0]).unsqueeze(-1)\n",
    "h_symb = lambda x: 2.0 + 0.5 * x[:, 1].unsqueeze(-1)\n",
    "\n",
    "test_loss = get_symb_test_error(\n",
    "    g_symb=g_symb,\n",
    "    h_symb=h_symb,\n",
    "    test_set=KUR,\n",
    "    message_passing=True,\n",
    "    include_time=False,\n",
    "    atol=1e-5,\n",
    "    rtol=1e-3\n",
    ")\n",
    "\n",
    "print(f\"Kuramoto: {test_loss}\")\n"
   ]
  },
  {
   "cell_type": "code",
   "execution_count": 26,
   "metadata": {},
   "outputs": [
    {
     "name": "stdout",
     "output_type": "stream",
     "text": [
      "Epidemics: 1.2377448911138345e-05\n"
     ]
    }
   ],
   "source": [
    "epid_config = load_config(\"./configs/config_ic1/config_epidemics.yml\")\n",
    "\n",
    "EPID = get_test_set(\n",
    "    dynamics=epid_config['name'],\n",
    "    seed = 12345,\n",
    "    device=epid_config['device'],\n",
    "    input_range=epid_config['input_range'],\n",
    "    **epid_config['integration_kwargs']    \n",
    ")\n",
    "\n",
    "g_symb = lambda x: 0.5*x[:, 1].unsqueeze(-1) * (1 - x[:, 0].unsqueeze(-1))\n",
    "h_symb = lambda x: x[:, 1].unsqueeze(1) - 0.5 * x[:, 0].unsqueeze(-1)\n",
    "\n",
    "test_loss = get_symb_test_error(\n",
    "    g_symb=g_symb,\n",
    "    h_symb=h_symb,\n",
    "    test_set=EPID,\n",
    "    message_passing=True,\n",
    "    include_time=False,\n",
    "    atol=1e-5,\n",
    "    rtol=1e-3\n",
    ")\n",
    "\n",
    "print(f\"Epidemics: {test_loss}\")\n"
   ]
  },
  {
   "cell_type": "code",
   "execution_count": 25,
   "metadata": {},
   "outputs": [
    {
     "name": "stdout",
     "output_type": "stream",
     "text": [
      "Population: 1.7622913219383918e-05\n"
     ]
    }
   ],
   "source": [
    "pop_config = load_config(\"./configs/config_ic1/config_population.yml\")\n",
    "\n",
    "POP = get_test_set(\n",
    "    dynamics=pop_config['name'],\n",
    "    seed = 12345,\n",
    "    device=pop_config['device'],\n",
    "    input_range=pop_config['input_range'],\n",
    "    **pop_config['integration_kwargs']    \n",
    ")\n",
    "\n",
    "g_symb = lambda x: 0.2*torch.square(x[:, 1].unsqueeze(-1))\n",
    "h_symb = lambda x: -0.5 * torch.square(x[:, 0].unsqueeze(-1)) + x[:, 1].unsqueeze(1) \n",
    "\n",
    "test_loss = get_symb_test_error(\n",
    "    g_symb=g_symb,\n",
    "    h_symb=h_symb,\n",
    "    test_set=POP,\n",
    "    message_passing=True,\n",
    "    include_time=False,\n",
    "    atol=1e-5,\n",
    "    rtol=1e-3\n",
    ")\n",
    "\n",
    "print(f\"Population: {test_loss}\")\n"
   ]
  },
  {
   "cell_type": "markdown",
   "metadata": {},
   "source": [
    "### Kuramoto GKAN"
   ]
  },
  {
   "cell_type": "markdown",
   "metadata": {},
   "source": [
    "#### IC=1"
   ]
  },
  {
   "cell_type": "markdown",
   "metadata": {},
   "source": [
    "#### IC=3"
   ]
  },
  {
   "cell_type": "code",
   "execution_count": 22,
   "metadata": {},
   "outputs": [
    {
     "name": "stderr",
     "output_type": "stream",
     "text": [
      "/home/rcappi/.conda/envs/my_env/lib/python3.12/site-packages/pysr/sr.py:2774: UserWarning: Note: it looks like you are running in Jupyter. The progress bar will be turned off.\n",
      "  warnings.warn(\n",
      "/home/rcappi/.conda/envs/my_env/lib/python3.12/site-packages/pysr/sr.py:2774: UserWarning: Note: it looks like you are running in Jupyter. The progress bar will be turned off.\n",
      "  warnings.warn(\n"
     ]
    }
   ],
   "source": [
    "model_path_gkan = './saved_models_optuna/model-kuramoto-gkan/kuramoto-gkan_3/0/gkan'\n",
    "\n",
    "pysr_model = lambda : get_pysr_model(\n",
    "    model_selection=\"score\",\n",
    "    n_iterations=200\n",
    ")\n",
    "\n",
    "gkan_symb = fit_black_box_from_kan(\n",
    "    n_g_hidden_layers=2,\n",
    "    n_h_hidden_layers=2,\n",
    "    device='cuda',\n",
    "    model_path=model_path_gkan,\n",
    "    pysr_model=pysr_model,\n",
    "    sample_size=9999,\n",
    "    theta=-np.inf,\n",
    "    message_passing=False\n",
    ")"
   ]
  },
  {
   "cell_type": "code",
   "execution_count": 23,
   "metadata": {},
   "outputs": [
    {
     "data": {
      "text/latex": [
       "$\\displaystyle \\sum_{j}( -0.50056*sin(x_i - x_j)) + 2.0027082 - 0.013696434 e^{- x_{i}}$"
      ],
      "text/plain": [
       "\\sum_{j}( -0.50056*sin(x_i - x_j)) + 2.0027082 - 0.013696434*exp(-x_i)"
      ]
     },
     "execution_count": 23,
     "metadata": {},
     "output_type": "execute_result"
    }
   ],
   "source": [
    "gkan_symb"
   ]
  },
  {
   "cell_type": "code",
   "execution_count": 5,
   "metadata": {},
   "outputs": [
    {
     "name": "stdout",
     "output_type": "stream",
     "text": [
      "6.243983807507902e-05\n"
     ]
    }
   ],
   "source": [
    "g_symb = lambda x: torch.sin(x[:, 0] - x[:, 1]).unsqueeze(-1)\n",
    "h_symb = lambda x: 2.0027082 - 0.50056 * x[:, 1].unsqueeze(-1) - 0.013696434 * (torch.exp(-x[:, 0])).unsqueeze(-1)\n",
    "\n",
    "dataset = SyntheticData(\n",
    "    root = './data',\n",
    "    dynamics='Kuramoto',\n",
    "    horizon=15\n",
    ")\n",
    "\n",
    "print(get_symb_test_error(\n",
    "    g_symb=g_symb,\n",
    "    h_symb=h_symb,\n",
    "    dataset=dataset,\n",
    "    message_passing=True,\n",
    "    include_time=False\n",
    "))"
   ]
  },
  {
   "cell_type": "markdown",
   "metadata": {},
   "source": [
    "#### IC=5"
   ]
  },
  {
   "cell_type": "markdown",
   "metadata": {},
   "source": [
    "### Epidemics GKAN"
   ]
  },
  {
   "cell_type": "markdown",
   "metadata": {},
   "source": [
    "#### IC=1"
   ]
  },
  {
   "cell_type": "markdown",
   "metadata": {},
   "source": [
    "#### IC=3"
   ]
  },
  {
   "cell_type": "code",
   "execution_count": 6,
   "metadata": {},
   "outputs": [
    {
     "name": "stderr",
     "output_type": "stream",
     "text": [
      "/home/rcappi/.conda/envs/my_env/lib/python3.12/site-packages/pysr/sr.py:2774: UserWarning: Note: it looks like you are running in Jupyter. The progress bar will be turned off.\n",
      "  warnings.warn(\n",
      "/home/rcappi/.conda/envs/my_env/lib/python3.12/site-packages/pysr/sr.py:2774: UserWarning: Note: it looks like you are running in Jupyter. The progress bar will be turned off.\n",
      "  warnings.warn(\n"
     ]
    }
   ],
   "source": [
    "model_path_gkan = './saved_models_optuna/model-epidemics-gkan/epidemics_gkan_/0/gkan'\n",
    "\n",
    "pysr_model = lambda : get_pysr_model(\n",
    "    model_selection=\"score\",\n",
    "    n_iterations=200\n",
    ")\n",
    "\n",
    "gkan_symb = fit_black_box_from_kan(\n",
    "    n_g_hidden_layers=2,\n",
    "    n_h_hidden_layers=2,\n",
    "    device='cuda',\n",
    "    model_path=model_path_gkan,\n",
    "    pysr_model=pysr_model,\n",
    "    sample_size=9999,\n",
    "    theta=-np.inf,\n",
    "    message_passing=False\n",
    ")"
   ]
  },
  {
   "cell_type": "code",
   "execution_count": 7,
   "metadata": {},
   "outputs": [
    {
     "data": {
      "text/latex": [
       "$\\displaystyle \\sum_{j}( 0.5001196*x_j*(0.9996479 - x_i)) - 0.49795532 x_{i}$"
      ],
      "text/plain": [
       "\\sum_{j}( 0.5001196*x_j*(0.9996479 - x_i)) - 0.49795532*x_i"
      ]
     },
     "execution_count": 7,
     "metadata": {},
     "output_type": "execute_result"
    }
   ],
   "source": [
    "gkan_symb"
   ]
  },
  {
   "cell_type": "code",
   "execution_count": 7,
   "metadata": {},
   "outputs": [
    {
     "name": "stdout",
     "output_type": "stream",
     "text": [
      "2.2776461264584213e-05\n"
     ]
    }
   ],
   "source": [
    "g_symb = lambda x: 0.5001196*x[:, 1].unsqueeze(-1) * (0.9996479 - x[:, 0].unsqueeze(-1))\n",
    "h_symb = lambda x: x[:, 1].unsqueeze(1) - 0.49795532 * x[:, 0].unsqueeze(-1)\n",
    "\n",
    "dataset = SyntheticData(\n",
    "    root = './data',\n",
    "    dynamics='Epidemics',\n",
    "    horizon=15\n",
    ")\n",
    "\n",
    "print(get_symb_test_error(\n",
    "    g_symb=g_symb,\n",
    "    h_symb=h_symb,\n",
    "    dataset=dataset,\n",
    "    message_passing=True,\n",
    "    include_time=False\n",
    "))"
   ]
  },
  {
   "cell_type": "markdown",
   "metadata": {},
   "source": [
    "#### IC=5"
   ]
  },
  {
   "cell_type": "markdown",
   "metadata": {},
   "source": [
    "### Neuronal GKAN"
   ]
  },
  {
   "cell_type": "markdown",
   "metadata": {},
   "source": [
    "#### IC=1"
   ]
  },
  {
   "cell_type": "markdown",
   "metadata": {},
   "source": [
    "#### IC=3"
   ]
  },
  {
   "cell_type": "code",
   "execution_count": 10,
   "metadata": {},
   "outputs": [
    {
     "name": "stderr",
     "output_type": "stream",
     "text": [
      "/home/rcappi/.conda/envs/my_env/lib/python3.12/site-packages/pysr/sr.py:2774: UserWarning: Note: it looks like you are running in Jupyter. The progress bar will be turned off.\n",
      "  warnings.warn(\n",
      "/home/rcappi/.conda/envs/my_env/lib/python3.12/site-packages/pysr/sr.py:2774: UserWarning: Note: it looks like you are running in Jupyter. The progress bar will be turned off.\n",
      "  warnings.warn(\n"
     ]
    }
   ],
   "source": [
    "model_path_gkan = './saved_models_optuna/model-neuronal-gkan/neuronal_gkan_/1/gkan'\n",
    "\n",
    "pysr_model = lambda : get_pysr_model(\n",
    "    model_selection=\"score\",\n",
    "    n_iterations=200\n",
    ")\n",
    "\n",
    "gkan_symb = fit_black_box_from_kan(\n",
    "    n_g_hidden_layers=2,\n",
    "    n_h_hidden_layers=2,\n",
    "    device='cuda',\n",
    "    model_path=model_path_gkan,\n",
    "    pysr_model=pysr_model,\n",
    "    sample_size=9999,\n",
    "    theta=-np.inf,\n",
    "    message_passing=False\n",
    ")"
   ]
  },
  {
   "cell_type": "code",
   "execution_count": 11,
   "metadata": {},
   "outputs": [
    {
     "data": {
      "text/latex": [
       "$\\displaystyle \\sum_{j}( 0.29298076*tanh(x_j)) - 0.18231857 x_{i} + 0.238917109306232$"
      ],
      "text/plain": [
       "\\sum_{j}( 0.29298076*tanh(x_j)) - 0.18231857*x_i + 0.238917109306232"
      ]
     },
     "execution_count": 11,
     "metadata": {},
     "output_type": "execute_result"
    }
   ],
   "source": [
    "gkan_symb"
   ]
  },
  {
   "cell_type": "markdown",
   "metadata": {},
   "source": [
    "#### IC=5"
   ]
  },
  {
   "cell_type": "markdown",
   "metadata": {},
   "source": [
    "### Biochemical GKAN"
   ]
  },
  {
   "cell_type": "markdown",
   "metadata": {},
   "source": [
    "#### IC=3\n"
   ]
  },
  {
   "cell_type": "code",
   "execution_count": 4,
   "metadata": {},
   "outputs": [
    {
     "name": "stderr",
     "output_type": "stream",
     "text": [
      "/home/rcappi/.conda/envs/my_env/lib/python3.12/site-packages/pysr/sr.py:2774: UserWarning: Note: it looks like you are running in Jupyter. The progress bar will be turned off.\n",
      "  warnings.warn(\n",
      "/home/rcappi/.conda/envs/my_env/lib/python3.12/site-packages/pysr/sr.py:2774: UserWarning: Note: it looks like you are running in Jupyter. The progress bar will be turned off.\n",
      "  warnings.warn(\n"
     ]
    }
   ],
   "source": [
    "model_path_gkan = './saved_models_optuna/model-biochemical-gkan/biochemical_gkan_2/2/gkan'\n",
    "\n",
    "pysr_model = lambda : get_pysr_model(\n",
    "    model_selection=\"score\",\n",
    "    n_iterations=250\n",
    ")\n",
    "\n",
    "gkan_symb = fit_black_box_from_kan(\n",
    "    n_g_hidden_layers=2,\n",
    "    n_h_hidden_layers=2,\n",
    "    device='cuda',\n",
    "    model_path=model_path_gkan,\n",
    "    pysr_model=pysr_model,\n",
    "    sample_size=9999,\n",
    "    theta=-np.inf,\n",
    "    message_passing=False\n",
    ")"
   ]
  },
  {
   "cell_type": "code",
   "execution_count": 5,
   "metadata": {},
   "outputs": [
    {
     "data": {
      "text/latex": [
       "$\\displaystyle \\sum_{j}( -0.4994442*x_i*x_j) + \\log{\\left(2.6236862 - x_{i} \\right)}$"
      ],
      "text/plain": [
       "\\sum_{j}( -0.4994442*x_i*x_j) + log(2.6236862 - x_i)"
      ]
     },
     "execution_count": 5,
     "metadata": {},
     "output_type": "execute_result"
    }
   ],
   "source": [
    "gkan_symb"
   ]
  },
  {
   "cell_type": "markdown",
   "metadata": {},
   "source": [
    "#### IC = 1"
   ]
  },
  {
   "cell_type": "code",
   "execution_count": 37,
   "metadata": {},
   "outputs": [
    {
     "name": "stderr",
     "output_type": "stream",
     "text": [
      "/home/rcappi/.conda/envs/my_env/lib/python3.12/site-packages/pysr/sr.py:2774: UserWarning: Note: it looks like you are running in Jupyter. The progress bar will be turned off.\n",
      "  warnings.warn(\n",
      "/home/rcappi/.conda/envs/my_env/lib/python3.12/site-packages/pysr/sr.py:2774: UserWarning: Note: it looks like you are running in Jupyter. The progress bar will be turned off.\n",
      "  warnings.warn(\n"
     ]
    }
   ],
   "source": [
    "model_path_gkan = \"./saved_models_optuna/model-biochemical-gkan/biochemical_gkan_ic1_s5/0/gkan\"\n",
    "\n",
    "pysr_model = lambda : get_pysr_model(\n",
    "    model_selection=\"score\",\n",
    "    n_iterations=200\n",
    ")\n",
    "\n",
    "gkan_symb = fit_black_box_from_kan(\n",
    "    n_g_hidden_layers=2,\n",
    "    n_h_hidden_layers=2,\n",
    "    device='cuda',\n",
    "    model_path=model_path_gkan,\n",
    "    pysr_model=pysr_model,\n",
    "    sample_size=9999,\n",
    "    theta=-np.inf,\n",
    "    message_passing=False\n",
    ")"
   ]
  },
  {
   "cell_type": "code",
   "execution_count": 38,
   "metadata": {},
   "outputs": [
    {
     "data": {
      "text/latex": [
       "$\\displaystyle \\sum_{j}( -0.5005216*x_i*x_j) + \\sin{\\left(\\tanh{\\left(x_{i} \\right)} + 1.8310032 \\right)}$"
      ],
      "text/plain": [
       "\\sum_{j}( -0.5005216*x_i*x_j) + sin(tanh(x_i) + 1.8310032)"
      ]
     },
     "execution_count": 38,
     "metadata": {},
     "output_type": "execute_result"
    }
   ],
   "source": [
    "gkan_symb"
   ]
  },
  {
   "cell_type": "markdown",
   "metadata": {},
   "source": [
    "#### IC=5"
   ]
  },
  {
   "cell_type": "markdown",
   "metadata": {},
   "source": [
    "### Population"
   ]
  },
  {
   "cell_type": "markdown",
   "metadata": {},
   "source": [
    "#### IC=1"
   ]
  },
  {
   "cell_type": "markdown",
   "metadata": {},
   "source": [
    "#### IC=3"
   ]
  },
  {
   "cell_type": "code",
   "execution_count": 2,
   "metadata": {},
   "outputs": [
    {
     "name": "stderr",
     "output_type": "stream",
     "text": [
      "/home/rcappi/.conda/envs/my_env/lib/python3.12/site-packages/pysr/sr.py:2774: UserWarning: Note: it looks like you are running in Jupyter. The progress bar will be turned off.\n",
      "  warnings.warn(\n",
      "/home/rcappi/.conda/envs/my_env/lib/python3.12/site-packages/pysr/sr.py:2774: UserWarning: Note: it looks like you are running in Jupyter. The progress bar will be turned off.\n",
      "  warnings.warn(\n"
     ]
    }
   ],
   "source": [
    "model_path_gkan = \"./saved_models_optuna/model-population-gkan/population_gkan/1/gkan\"\n",
    "\n",
    "pysr_model = lambda : get_pysr_model(\n",
    "    model_selection=\"score\",\n",
    "    n_iterations=250\n",
    ")\n",
    "\n",
    "gkan_symb = fit_black_box_from_kan(\n",
    "    n_g_hidden_layers=2,\n",
    "    n_h_hidden_layers=2,\n",
    "    device='cuda',\n",
    "    model_path=model_path_gkan,\n",
    "    pysr_model=pysr_model,\n",
    "    sample_size=9000,\n",
    "    theta=-np.inf,\n",
    "    message_passing=False\n",
    ")"
   ]
  },
  {
   "cell_type": "code",
   "execution_count": 3,
   "metadata": {},
   "outputs": [
    {
     "data": {
      "text/latex": [
       "$\\displaystyle \\sum_{j}( x_j - log(x_j + 1)) - 0.44236052 x_{i}$"
      ],
      "text/plain": [
       "\\sum_{j}( x_j - log(x_j + 1)) - 0.44236052*x_i"
      ]
     },
     "execution_count": 3,
     "metadata": {},
     "output_type": "execute_result"
    }
   ],
   "source": [
    "gkan_symb"
   ]
  },
  {
   "cell_type": "markdown",
   "metadata": {},
   "source": [
    "#### IC=5"
   ]
  }
 ],
 "metadata": {
  "kernelspec": {
   "display_name": "my_env",
   "language": "python",
   "name": "python3"
  },
  "language_info": {
   "codemirror_mode": {
    "name": "ipython",
    "version": 3
   },
   "file_extension": ".py",
   "mimetype": "text/x-python",
   "name": "python",
   "nbconvert_exporter": "python",
   "pygments_lexer": "ipython3",
   "version": "3.12.0"
  }
 },
 "nbformat": 4,
 "nbformat_minor": 2
}
