{
 "cells": [
  {
   "cell_type": "markdown",
   "metadata": {},
   "source": [
    "## Test Experiments"
   ]
  },
  {
   "cell_type": "code",
   "execution_count": 1,
   "metadata": {},
   "outputs": [
    {
     "name": "stdout",
     "output_type": "stream",
     "text": [
      "Detected IPython. Loading juliacall extension. See https://juliapy.github.io/PythonCall.jl/stable/compat/#IPython\n"
     ]
    },
    {
     "name": "stderr",
     "output_type": "stream",
     "text": [
      "/home/rcappi/.conda/envs/my_env/lib/python3.12/site-packages/tqdm/auto.py:21: TqdmWarning: IProgress not found. Please update jupyter and ipywidgets. See https://ipywidgets.readthedocs.io/en/stable/user_install.html\n",
      "  from .autonotebook import tqdm as notebook_tqdm\n"
     ]
    }
   ],
   "source": [
    "from utils.utils import *\n",
    "import optuna\n",
    "from optuna.storages import JournalStorage\n",
    "from optuna.storages.journal import JournalFileBackend\n",
    "from experiments.experiments_gkan import ExperimentsGKAN\n",
    "from experiments.experiments_mpnn import ExperimentsMPNN\n",
    "\n",
    "storage = JournalStorage(JournalFileBackend(\"optuna_journal_storage.log\"))"
   ]
  },
  {
   "cell_type": "markdown",
   "metadata": {},
   "source": [
    "### Kuramoto MPNN"
   ]
  },
  {
   "cell_type": "code",
   "execution_count": 2,
   "metadata": {},
   "outputs": [],
   "source": [
    "optuna.delete_study(study_name=\"model-kuramoto-mpnn-test-new-dataset\", storage=storage)"
   ]
  },
  {
   "cell_type": "code",
   "execution_count": 3,
   "metadata": {},
   "outputs": [
    {
     "name": "stderr",
     "output_type": "stream",
     "text": [
      "Processing...\n"
     ]
    },
    {
     "name": "stdout",
     "output_type": "stream",
     "text": [
      "Building the dataset...\n"
     ]
    },
    {
     "name": "stderr",
     "output_type": "stream",
     "text": [
      "Done!\n"
     ]
    }
   ],
   "source": [
    "config_path = './configs/config_kuramoto_mpnn.yml'\n",
    "config = load_config(config_path)\n",
    "config['epochs'] = 10\n",
    "\n",
    "exp = ExperimentsMPNN(\n",
    "    config=config,\n",
    "    n_trials=1,\n",
    "    study_name='test-new-dataset',\n",
    "    process_id=0,\n",
    ")"
   ]
  },
  {
   "cell_type": "code",
   "execution_count": 4,
   "metadata": {},
   "outputs": [
    {
     "name": "stderr",
     "output_type": "stream",
     "text": [
      "[I 2025-05-09 17:17:47,063] A new study created in Journal with name: model-kuramoto-mpnn-test-new-dataset\n",
      "[I 2025-05-09 17:18:24,861] Trial 0 finished with value: 0.016433067619800568 and parameters: {'lr': 0.01735137743570187, 'lamb': 0.0, 'batch_size': 32, 'n_hidden_layers_g_net': 2, 'hidden_dims_g_net': 48, 'af_g_net': 'tanh', 'drop_p_g_net': 0.04457723703003285, 'n_hidden_layers_h_net': 1, 'hidden_dims_h_net': 32, 'af_h_net': 'relu', 'drop_p_h_net': 0.12874245837341808}. Best is trial 0 with value: 0.016433067619800568.\n"
     ]
    }
   ],
   "source": [
    "exp.run()"
   ]
  },
  {
   "cell_type": "markdown",
   "metadata": {},
   "source": [
    "### Epidemics MPNN"
   ]
  },
  {
   "cell_type": "code",
   "execution_count": 8,
   "metadata": {},
   "outputs": [],
   "source": [
    "optuna.delete_study(study_name=\"model-epidemics-mpnn-test-epidemics\", storage=storage)"
   ]
  },
  {
   "cell_type": "code",
   "execution_count": 9,
   "metadata": {},
   "outputs": [
    {
     "name": "stderr",
     "output_type": "stream",
     "text": [
      "Processing...\n"
     ]
    },
    {
     "name": "stdout",
     "output_type": "stream",
     "text": [
      "Building the dataset...\n"
     ]
    },
    {
     "name": "stderr",
     "output_type": "stream",
     "text": [
      "Done!\n"
     ]
    }
   ],
   "source": [
    "config_path = './configs/config_epidemics_mpnn.yml'\n",
    "config = load_config(config_path)\n",
    "config['epochs'] = 10\n",
    "\n",
    "exp = ExperimentsMPNN(\n",
    "    config=config,\n",
    "    n_trials=1,\n",
    "    study_name='test-epidemics',\n",
    "    process_id=0,\n",
    ")"
   ]
  },
  {
   "cell_type": "code",
   "execution_count": 10,
   "metadata": {},
   "outputs": [
    {
     "name": "stderr",
     "output_type": "stream",
     "text": [
      "[I 2025-05-09 17:06:59,961] A new study created in Journal with name: model-epidemics-mpnn-test-epidemics\n"
     ]
    },
    {
     "name": "stdout",
     "output_type": "stream",
     "text": [
      "Epoch: 0 \t Training loss: 0.01639 \t Val Loss: 0.01206 \t Tot Loss: 0.01639\n",
      "Epoch: 1 \t Training loss: 0.00991 \t Val Loss: 0.01101 \t Tot Loss: 0.00991\n",
      "Epoch: 2 \t Training loss: 0.00811 \t Val Loss: 0.00909 \t Tot Loss: 0.00811\n",
      "Epoch: 3 \t Training loss: 0.00670 \t Val Loss: 0.00712 \t Tot Loss: 0.00670\n",
      "Epoch: 4 \t Training loss: 0.00538 \t Val Loss: 0.00533 \t Tot Loss: 0.00538\n",
      "Epoch: 5 \t Training loss: 0.00387 \t Val Loss: 0.00223 \t Tot Loss: 0.00387\n",
      "Epoch: 6 \t Training loss: 0.00268 \t Val Loss: 0.00225 \t Tot Loss: 0.00268\n",
      "Epoch: 7 \t Training loss: 0.00206 \t Val Loss: 0.00136 \t Tot Loss: 0.00206\n",
      "Epoch: 8 \t Training loss: 0.00183 \t Val Loss: 0.00119 \t Tot Loss: 0.00183\n",
      "Epoch: 9 \t Training loss: 0.00148 \t Val Loss: 0.00113 \t Tot Loss: 0.00148\n",
      "\n",
      "Loading best model found at epoch 9 with val loss 0.0011312818387523293\n"
     ]
    },
    {
     "name": "stderr",
     "output_type": "stream",
     "text": [
      "[I 2025-05-09 17:07:33,036] Trial 0 finished with value: 0.0011312818387523293 and parameters: {'lr': 0.0030889538851373733, 'lamb': 0.0, 'batch_size': 16, 'n_hidden_layers_g_net': 1, 'hidden_dims_g_net': 64, 'af_g_net': 'tanh', 'drop_p_g_net': 0.00016167883486477297, 'n_hidden_layers_h_net': 1, 'hidden_dims_h_net': 64, 'af_h_net': 'relu', 'drop_p_h_net': 0.00037596544202597135}. Best is trial 0 with value: 0.0011312818387523293.\n"
     ]
    },
    {
     "name": "stdout",
     "output_type": "stream",
     "text": [
      "Test loss: 0.0006704181432723999\n"
     ]
    }
   ],
   "source": [
    "exp.run()"
   ]
  },
  {
   "cell_type": "code",
   "execution_count": 16,
   "metadata": {},
   "outputs": [
    {
     "name": "stderr",
     "output_type": "stream",
     "text": [
      "/home/rcappi/.conda/envs/my_env/lib/python3.12/site-packages/pysr/sr.py:2774: UserWarning: Note: it looks like you are running in Jupyter. The progress bar will be turned off.\n",
      "  warnings.warn(\n",
      "/home/rcappi/.conda/envs/my_env/lib/python3.12/site-packages/pysr/sr.py:2774: UserWarning: Note: it looks like you are running in Jupyter. The progress bar will be turned off.\n",
      "  warnings.warn(\n"
     ]
    }
   ],
   "source": [
    "model_path_mpnn = './saved_models_optuna/model-epidemics-mpnn/test-epidemics/0/mpnn'\n",
    "\n",
    "pysr_model = lambda : get_pysr_model(\n",
    "    model_selection=\"score\",\n",
    "    n_iterations=150\n",
    ")\n",
    "\n",
    "mpnn_symb = fit_mpnn(\n",
    "    model_path=model_path_mpnn,\n",
    "    pysr_model=pysr_model,\n",
    "    sample_size=9000,\n",
    "    message_passing=False\n",
    ")"
   ]
  },
  {
   "cell_type": "code",
   "execution_count": 17,
   "metadata": {},
   "outputs": [
    {
     "data": {
      "text/latex": [
       "$\\displaystyle \\sum_{j}( 0.19483042*exp(-exp(x_i))) - \\log{\\left(\\log{\\left(0.1571578 x_{i} + 1 \\right)} + 1 \\right)} + 0.21526255$"
      ],
      "text/plain": [
       "\\sum_{j}( 0.19483042*exp(-exp(x_i))) - log(log(0.1571578*x_i + 1) + 1) + 0.21526255"
      ]
     },
     "execution_count": 17,
     "metadata": {},
     "output_type": "execute_result"
    }
   ],
   "source": [
    "mpnn_symb"
   ]
  },
  {
   "cell_type": "markdown",
   "metadata": {},
   "source": [
    "### Neuronal MPNN"
   ]
  },
  {
   "cell_type": "code",
   "execution_count": 11,
   "metadata": {},
   "outputs": [],
   "source": [
    "optuna.delete_study(study_name=\"model-neuronal-mpnn-test-neuronal\", storage=storage)"
   ]
  },
  {
   "cell_type": "code",
   "execution_count": 12,
   "metadata": {},
   "outputs": [
    {
     "name": "stderr",
     "output_type": "stream",
     "text": [
      "Processing...\n"
     ]
    },
    {
     "name": "stdout",
     "output_type": "stream",
     "text": [
      "Building the dataset...\n"
     ]
    },
    {
     "name": "stderr",
     "output_type": "stream",
     "text": [
      "Done!\n"
     ]
    }
   ],
   "source": [
    "config_path = './configs/config_neuronal_mpnn.yml'\n",
    "config = load_config(config_path)\n",
    "config['epochs'] = 10\n",
    "\n",
    "exp = ExperimentsMPNN(\n",
    "    config=config,\n",
    "    n_trials=1,\n",
    "    study_name='test-neuronal',\n",
    "    process_id=0,\n",
    ")"
   ]
  },
  {
   "cell_type": "code",
   "execution_count": 13,
   "metadata": {},
   "outputs": [
    {
     "name": "stderr",
     "output_type": "stream",
     "text": [
      "[I 2025-05-09 17:07:45,709] A new study created in Journal with name: model-neuronal-mpnn-test-neuronal\n"
     ]
    },
    {
     "name": "stdout",
     "output_type": "stream",
     "text": [
      "Epoch: 0 \t Training loss: 0.15600 \t Val Loss: 0.09005 \t Tot Loss: 0.15600\n",
      "Epoch: 1 \t Training loss: 0.05407 \t Val Loss: 0.07933 \t Tot Loss: 0.05407\n",
      "Epoch: 2 \t Training loss: 0.05492 \t Val Loss: 0.00986 \t Tot Loss: 0.05492\n",
      "Epoch: 3 \t Training loss: 0.02307 \t Val Loss: 0.02946 \t Tot Loss: 0.02307\n",
      "Epoch: 4 \t Training loss: 0.02772 \t Val Loss: 0.00445 \t Tot Loss: 0.02772\n",
      "Epoch: 5 \t Training loss: 0.01449 \t Val Loss: 0.02453 \t Tot Loss: 0.01449\n",
      "Epoch: 6 \t Training loss: 0.01730 \t Val Loss: 0.01004 \t Tot Loss: 0.01730\n",
      "Epoch: 7 \t Training loss: 0.00799 \t Val Loss: 0.00930 \t Tot Loss: 0.00799\n",
      "Epoch: 8 \t Training loss: 0.01102 \t Val Loss: 0.00358 \t Tot Loss: 0.01102\n",
      "Epoch: 9 \t Training loss: 0.00579 \t Val Loss: 0.01125 \t Tot Loss: 0.00579\n",
      "\n",
      "Loading best model found at epoch 8 with val loss 0.003580222139135003\n",
      "Test loss: 0.004640685394406319\n"
     ]
    },
    {
     "name": "stderr",
     "output_type": "stream",
     "text": [
      "[I 2025-05-09 17:08:23,447] Trial 0 finished with value: 0.003580222139135003 and parameters: {'lr': 0.022198182869050127, 'lamb': 0.0, 'batch_size': 32, 'n_hidden_layers_g_net': 2, 'hidden_dims_g_net': 32, 'af_g_net': 'softplus', 'drop_p_g_net': 0.0005185973727913854, 'n_hidden_layers_h_net': 1, 'hidden_dims_h_net': 40, 'af_h_net': 'tanh', 'drop_p_h_net': 0.018136511652483187}. Best is trial 0 with value: 0.003580222139135003.\n"
     ]
    }
   ],
   "source": [
    "exp.run()"
   ]
  },
  {
   "cell_type": "code",
   "execution_count": 5,
   "metadata": {},
   "outputs": [
    {
     "name": "stderr",
     "output_type": "stream",
     "text": [
      "/home/rcappi/.conda/envs/my_env/lib/python3.12/site-packages/pysr/sr.py:2774: UserWarning: Note: it looks like you are running in Jupyter. The progress bar will be turned off.\n",
      "  warnings.warn(\n",
      "/home/rcappi/.conda/envs/my_env/lib/python3.12/site-packages/pysr/sr.py:2774: UserWarning: Note: it looks like you are running in Jupyter. The progress bar will be turned off.\n",
      "  warnings.warn(\n"
     ]
    }
   ],
   "source": [
    "model_path_mpnn = './saved_models_optuna/model-neuronal-mpnn/test-neuronal/0/mpnn'\n",
    "\n",
    "pysr_model = lambda : get_pysr_model(\n",
    "    model_selection=\"score\",\n",
    "    n_iterations=150\n",
    ")\n",
    "\n",
    "mpnn_symb = fit_mpnn(\n",
    "    model_path=model_path_mpnn,\n",
    "    pysr_model=pysr_model,\n",
    "    sample_size=9000,\n",
    "    message_passing=False\n",
    ")"
   ]
  },
  {
   "cell_type": "code",
   "execution_count": 6,
   "metadata": {},
   "outputs": [
    {
     "data": {
      "text/latex": [
       "$\\displaystyle \\sum_{j}( log(log(tanh(x_j/x_i) + 1) + 1)) + \\frac{0.14861982}{\\tanh{\\left(e^{x_{i}} \\right)}}$"
      ],
      "text/plain": [
       "\\sum_{j}( log(log(tanh(x_j/x_i) + 1) + 1)) + 0.14861982/tanh(exp(x_i))"
      ]
     },
     "execution_count": 6,
     "metadata": {},
     "output_type": "execute_result"
    }
   ],
   "source": [
    "mpnn_symb\n"
   ]
  },
  {
   "cell_type": "code",
   "execution_count": 18,
   "metadata": {},
   "outputs": [],
   "source": [
    "config_path = './configs/config_neuronal.yml'\n",
    "config = load_config(config_path)\n",
    "config['epochs'] = 5\n",
    "\n",
    "exp = ExperimentsGKAN(\n",
    "    config=config,\n",
    "    n_trials=1,\n",
    "    study_name='test-neuronal',\n",
    "    process_id=0,\n",
    ")"
   ]
  },
  {
   "cell_type": "code",
   "execution_count": 19,
   "metadata": {},
   "outputs": [
    {
     "name": "stderr",
     "output_type": "stream",
     "text": [
      "[I 2025-05-09 14:21:16,405] Using an existing study with name 'model-neuronal-gkan-test-neuronal' instead of creating a new one.\n"
     ]
    },
    {
     "name": "stdout",
     "output_type": "stream",
     "text": [
      "Epoch: 0 \t Training loss: 0.00051 \t Val Loss: 0.00028 \t Tot Loss: 0.00543\n",
      "Epoch: 1 \t Training loss: 0.00028 \t Val Loss: 0.00014 \t Tot Loss: 0.00507\n",
      "Epoch: 2 \t Training loss: 0.00016 \t Val Loss: 0.00007 \t Tot Loss: 0.00483\n",
      "Epoch: 3 \t Training loss: 0.00012 \t Val Loss: 0.00005 \t Tot Loss: 0.00453\n",
      "Epoch: 4 \t Training loss: 0.00011 \t Val Loss: 0.00004 \t Tot Loss: 0.00443\n",
      "\n",
      "Loading best model found at epoch 4 with val loss 4.3011452362407e-05\n",
      "Test loss: 0.000152996537508443\n"
     ]
    },
    {
     "name": "stderr",
     "output_type": "stream",
     "text": [
      "[I 2025-05-09 14:24:39,155] Trial 1 finished with value: 4.3011452362407e-05 and parameters: {'lr': 0.014578887605134958, 'lamb': 1.0, 'batch_size': 32, 'use_orig_reg': True, 'lamb_g_net': 9.722521843140844e-05, 'lamb_h_net': 0.0017345619188380956, 'grid_size_g_net': 9, 'spline_order_g_net': 3, 'range_limit_g_net': 1, 'mu_1_g_net': 0.6, 'mu_2_g_net': 1.0, 'hidden_dim_g_net': 1, 'grid_size_h_net': 7, 'spline_order_h_net': 2, 'range_limit_h_net': 3, 'mu_1_h_net': 1.0, 'mu_2_h_net': 0.7, 'hidden_dim_h_net': 2}. Best is trial 1 with value: 4.3011452362407e-05.\n"
     ]
    }
   ],
   "source": [
    "exp.run()"
   ]
  },
  {
   "cell_type": "markdown",
   "metadata": {},
   "source": [
    "### Biochemical MPNN"
   ]
  },
  {
   "cell_type": "code",
   "execution_count": 14,
   "metadata": {},
   "outputs": [],
   "source": [
    "optuna.delete_study(study_name=\"model-biochemical-mpnn-test-biochemical\", storage=storage)"
   ]
  },
  {
   "cell_type": "code",
   "execution_count": 15,
   "metadata": {},
   "outputs": [
    {
     "name": "stderr",
     "output_type": "stream",
     "text": [
      "Processing...\n"
     ]
    },
    {
     "name": "stdout",
     "output_type": "stream",
     "text": [
      "Building the dataset...\n"
     ]
    },
    {
     "name": "stderr",
     "output_type": "stream",
     "text": [
      "Done!\n"
     ]
    }
   ],
   "source": [
    "config_path = './configs/config_biochemical_mpnn.yml'\n",
    "config = load_config(config_path)\n",
    "config['epochs'] = 10\n",
    "\n",
    "exp = ExperimentsMPNN(\n",
    "    config=config,\n",
    "    n_trials=1,\n",
    "    study_name='test-biochemical',\n",
    "    process_id=0,\n",
    ")"
   ]
  },
  {
   "cell_type": "code",
   "execution_count": 16,
   "metadata": {},
   "outputs": [
    {
     "name": "stderr",
     "output_type": "stream",
     "text": [
      "[I 2025-05-09 17:08:40,883] A new study created in Journal with name: model-biochemical-mpnn-test-biochemical\n"
     ]
    },
    {
     "name": "stdout",
     "output_type": "stream",
     "text": [
      "Epoch: 0 \t Training loss: 0.01061 \t Val Loss: 0.00656 \t Tot Loss: 0.01061\n",
      "Epoch: 1 \t Training loss: 0.00874 \t Val Loss: 0.00552 \t Tot Loss: 0.00874\n",
      "Epoch: 2 \t Training loss: 0.00779 \t Val Loss: 0.00526 \t Tot Loss: 0.00779\n",
      "Epoch: 3 \t Training loss: 0.00718 \t Val Loss: 0.00465 \t Tot Loss: 0.00718\n",
      "Epoch: 4 \t Training loss: 0.00654 \t Val Loss: 0.00416 \t Tot Loss: 0.00654\n",
      "Epoch: 5 \t Training loss: 0.00580 \t Val Loss: 0.00388 \t Tot Loss: 0.00580\n",
      "Epoch: 6 \t Training loss: 0.00511 \t Val Loss: 0.00322 \t Tot Loss: 0.00511\n",
      "Epoch: 7 \t Training loss: 0.00457 \t Val Loss: 0.00279 \t Tot Loss: 0.00457\n",
      "Epoch: 8 \t Training loss: 0.00387 \t Val Loss: 0.00227 \t Tot Loss: 0.00387\n",
      "Epoch: 9 \t Training loss: 0.00335 \t Val Loss: 0.00189 \t Tot Loss: 0.00335\n",
      "\n",
      "Loading best model found at epoch 9 with val loss 0.001890188199467957\n",
      "Test loss: 0.0018362425034865737\n"
     ]
    },
    {
     "name": "stderr",
     "output_type": "stream",
     "text": [
      "[I 2025-05-09 17:09:18,946] Trial 0 finished with value: 0.001890188199467957 and parameters: {'lr': 0.0011331826087084096, 'lamb': 0.0, 'batch_size': 16, 'n_hidden_layers_g_net': 2, 'hidden_dims_g_net': 24, 'af_g_net': 'tanh', 'drop_p_g_net': 0.012105133221616455, 'n_hidden_layers_h_net': 1, 'hidden_dims_h_net': 16, 'af_h_net': 'softplus', 'drop_p_h_net': 0.01289533029330185}. Best is trial 0 with value: 0.001890188199467957.\n"
     ]
    }
   ],
   "source": [
    "exp.run()"
   ]
  },
  {
   "cell_type": "code",
   "execution_count": 11,
   "metadata": {},
   "outputs": [
    {
     "name": "stderr",
     "output_type": "stream",
     "text": [
      "/home/rcappi/.conda/envs/my_env/lib/python3.12/site-packages/pysr/sr.py:2774: UserWarning: Note: it looks like you are running in Jupyter. The progress bar will be turned off.\n",
      "  warnings.warn(\n",
      "/home/rcappi/.conda/envs/my_env/lib/python3.12/site-packages/pysr/sr.py:2774: UserWarning: Note: it looks like you are running in Jupyter. The progress bar will be turned off.\n",
      "  warnings.warn(\n"
     ]
    }
   ],
   "source": [
    "model_path_mpnn = './saved_models_optuna/model-biochemical-mpnn/test-biochemical/0/mpnn'\n",
    "\n",
    "pysr_model = lambda : get_pysr_model(\n",
    "    model_selection=\"score\",\n",
    "    n_iterations=200\n",
    ")\n",
    "\n",
    "mpnn_symb = fit_mpnn(\n",
    "    model_path=model_path_mpnn,\n",
    "    pysr_model=pysr_model,\n",
    "    sample_size=9000,\n",
    "    message_passing=False\n",
    ")"
   ]
  },
  {
   "cell_type": "code",
   "execution_count": 12,
   "metadata": {},
   "outputs": [
    {
     "data": {
      "text/latex": [
       "$\\displaystyle \\sum_{j}( -0.15344319*x_i*exp(x_j)) - 0.14971581 x_{i} + 0.87793374$"
      ],
      "text/plain": [
       "\\sum_{j}( -0.15344319*x_i*exp(x_j)) - 0.14971581*x_i + 0.87793374"
      ]
     },
     "execution_count": 12,
     "metadata": {},
     "output_type": "execute_result"
    }
   ],
   "source": [
    "mpnn_symb"
   ]
  },
  {
   "cell_type": "code",
   "execution_count": 23,
   "metadata": {},
   "outputs": [],
   "source": [
    "config_path = './configs/config_biochemical.yml'\n",
    "config = load_config(config_path)\n",
    "config['epochs'] = 5\n",
    "\n",
    "exp = ExperimentsGKAN(\n",
    "    config=config,\n",
    "    n_trials=1,\n",
    "    study_name='test-biochemical',\n",
    "    process_id=0,\n",
    ")"
   ]
  },
  {
   "cell_type": "code",
   "execution_count": 24,
   "metadata": {},
   "outputs": [
    {
     "name": "stderr",
     "output_type": "stream",
     "text": [
      "[I 2025-05-09 14:43:07,097] A new study created in Journal with name: model-biochemical-gkan-test-biochemical\n"
     ]
    },
    {
     "name": "stdout",
     "output_type": "stream",
     "text": [
      "Epoch: 0 \t Training loss: 0.00011 \t Val Loss: 0.00007 \t Tot Loss: 0.00409\n",
      "Epoch: 1 \t Training loss: 0.00010 \t Val Loss: 0.00006 \t Tot Loss: 0.00416\n",
      "Epoch: 2 \t Training loss: 0.00010 \t Val Loss: 0.00005 \t Tot Loss: 0.00426\n",
      "Epoch: 3 \t Training loss: 0.00009 \t Val Loss: 0.00005 \t Tot Loss: 0.00439\n",
      "Epoch: 4 \t Training loss: 0.00009 \t Val Loss: 0.00004 \t Tot Loss: 0.00456\n",
      "\n",
      "Loading best model found at epoch 4 with val loss 4.181330223218538e-05\n",
      "Test loss: 2.1962674509268254e-05\n"
     ]
    },
    {
     "name": "stderr",
     "output_type": "stream",
     "text": [
      "[I 2025-05-09 14:45:45,104] Trial 0 finished with value: 4.181330223218538e-05 and parameters: {'lr': 0.0029212460068246317, 'lamb': 1.0, 'batch_size': 16, 'use_orig_reg': True, 'lamb_g_net': 0.0012543290658560168, 'lamb_h_net': 1.2825379943612229e-06, 'grid_size_g_net': 8, 'spline_order_g_net': 1, 'range_limit_g_net': 1, 'mu_1_g_net': 0.7, 'mu_2_g_net': 0.9, 'hidden_dim_g_net': 3, 'grid_size_h_net': 6, 'spline_order_h_net': 2, 'range_limit_h_net': 3, 'mu_1_h_net': 0.6, 'mu_2_h_net': 0.5, 'hidden_dim_h_net': 3}. Best is trial 0 with value: 4.181330223218538e-05.\n"
     ]
    }
   ],
   "source": [
    "exp.run()"
   ]
  }
 ],
 "metadata": {
  "kernelspec": {
   "display_name": "Python 3",
   "language": "python",
   "name": "python3"
  },
  "language_info": {
   "codemirror_mode": {
    "name": "ipython",
    "version": 3
   },
   "file_extension": ".py",
   "mimetype": "text/x-python",
   "name": "python",
   "nbconvert_exporter": "python",
   "pygments_lexer": "ipython3",
   "version": "3.12.0"
  }
 },
 "nbformat": 4,
 "nbformat_minor": 2
}
