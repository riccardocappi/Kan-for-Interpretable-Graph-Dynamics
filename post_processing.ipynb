{
 "cells": [
  {
   "cell_type": "markdown",
   "metadata": {},
   "source": [
    "## Dynamics\n",
    "\n",
    "Dynamics | $\\partial_{\\tau}x_i=$ |\n",
    "| :--------: | :-------: |\n",
    "Biochemical | $F -B x_i - R \\sum_j A_{ij} x_i x_j$ |\n",
    "Epidemics | $-B x_i + R \\sum_j A_{ij} (1-x_i)x_j$ |\n",
    "Neuronal | $-B x_i + C \\tanh x_i + R \\sum_j A_{ij} \\tanh x_j$ |\n",
    "Population | $-B x_i^{b} + R \\sum_j A_{ij} x_j^a$ |\n",
    "Synchronization | $\\omega_i + R \\sum_j A_{ij} \\sin(x_j-x_i)$ |"
   ]
  },
  {
   "cell_type": "code",
   "execution_count": 1,
   "metadata": {},
   "outputs": [],
   "source": [
    "%load_ext autoreload\n",
    "%autoreload 2"
   ]
  },
  {
   "cell_type": "markdown",
   "metadata": {},
   "source": [
    "## Importing"
   ]
  },
  {
   "cell_type": "code",
   "execution_count": 2,
   "metadata": {},
   "outputs": [],
   "source": [
    "import os\n",
    "os.environ[\"CUBLAS_WORKSPACE_CONFIG\"] = \":4096:8\""
   ]
  },
  {
   "cell_type": "code",
   "execution_count": 3,
   "metadata": {},
   "outputs": [
    {
     "name": "stdout",
     "output_type": "stream",
     "text": [
      "Detected IPython. Loading juliacall extension. See https://juliapy.github.io/PythonCall.jl/stable/compat/#IPython\n"
     ]
    }
   ],
   "source": [
    "from utils.utils import *\n",
    "import optuna\n",
    "from optuna.storages import JournalStorage\n",
    "from optuna.storages.journal import JournalFileBackend\n",
    "from experiments.experiments_gkan import ExperimentsGKAN\n",
    "from experiments.experiments_mpnn import ExperimentsMPNN\n",
    "from train_and_eval import eval_model\n",
    "import sympytorch\n",
    "\n",
    "\n",
    "storage = JournalStorage(JournalFileBackend(\"optuna_journal_storage.log\"))"
   ]
  },
  {
   "cell_type": "code",
   "execution_count": 26,
   "metadata": {},
   "outputs": [],
   "source": [
    "import random\n",
    "\n",
    "def set_pytorch_seed(seed=42):\n",
    "    torch.manual_seed(seed)\n",
    "    torch.cuda.manual_seed_all(seed)\n",
    "    torch.backends.cudnn.deterministic = True\n",
    "    torch.backends.cudnn.benchmark = False\n",
    "    np.random.seed(seed)\n",
    "    random.seed(seed)\n",
    "    torch.use_deterministic_algorithms(True)\n",
    "    \n",
    "set_pytorch_seed(0)"
   ]
  },
  {
   "cell_type": "code",
   "execution_count": 29,
   "metadata": {},
   "outputs": [],
   "source": [
    "config = load_config(\"./configs/config_pred_deriv/config_ic1/config_biochemical.yml\")\n",
    "# config['t_span'] = [0, 1]\n",
    "exp = ExperimentsGKAN(\n",
    "    config=config,\n",
    "    n_trials=1,\n",
    "    study_name=\"test_mult_10\",\n",
    "    snr_db=-1,\n",
    "    interp_points=False\n",
    ")"
   ]
  },
  {
   "cell_type": "code",
   "execution_count": 32,
   "metadata": {},
   "outputs": [
    {
     "data": {
      "text/plain": [
       "[<matplotlib.lines.Line2D at 0x7f309a070980>]"
      ]
     },
     "execution_count": 32,
     "metadata": {},
     "output_type": "execute_result"
    },
    {
     "data": {
      "image/png": "[encoded data removed]",
      "text/plain": [
       "<Figure size 640x480 with 1 Axes>"
      ]
     },
     "metadata": {},
     "output_type": "display_data"
    }
   ],
   "source": [
    "data = exp.training_set.raw_data_sampled[0].detach().cpu().numpy()\n",
    "plt.plot(data[:, 12, :])"
   ]
  },
  {
   "cell_type": "code",
   "execution_count": 21,
   "metadata": {},
   "outputs": [
    {
     "data": {
      "text/plain": [
       "tensor([[-3.5356],\n",
       "        [-0.2853],\n",
       "        [-0.1280],\n",
       "        [-1.7502],\n",
       "        [ 0.3106],\n",
       "        [-4.9999],\n",
       "        [-3.8249],\n",
       "        [-3.3549],\n",
       "        [ 0.6115],\n",
       "        [-0.0335],\n",
       "        [-0.6302],\n",
       "        [-0.3106],\n",
       "        [-0.8890],\n",
       "        [-0.4538],\n",
       "        [-0.1397],\n",
       "        [ 0.6131],\n",
       "        [-0.6674],\n",
       "        [ 0.9107],\n",
       "        [-0.4251],\n",
       "        [-0.2664],\n",
       "        [-0.4200],\n",
       "        [ 0.4522],\n",
       "        [-1.2526],\n",
       "        [-0.6394],\n",
       "        [-0.4690],\n",
       "        [ 0.4581],\n",
       "        [ 0.3722],\n",
       "        [ 0.9160],\n",
       "        [ 0.7851],\n",
       "        [-0.3318],\n",
       "        [-0.2489],\n",
       "        [-0.7835],\n",
       "        [ 0.5719],\n",
       "        [ 0.2271],\n",
       "        [-0.4204],\n",
       "        [ 0.7705],\n",
       "        [ 0.8010],\n",
       "        [ 0.6174],\n",
       "        [ 0.7601],\n",
       "        [-0.1718],\n",
       "        [ 0.4315],\n",
       "        [-0.6324],\n",
       "        [ 0.2074],\n",
       "        [ 0.5177],\n",
       "        [-0.7313],\n",
       "        [-0.2575],\n",
       "        [ 0.3991],\n",
       "        [ 0.6715],\n",
       "        [ 0.1918],\n",
       "        [ 0.7160],\n",
       "        [ 0.6853],\n",
       "        [ 0.9892],\n",
       "        [ 0.1362],\n",
       "        [ 0.1031],\n",
       "        [-0.3471],\n",
       "        [ 0.1768],\n",
       "        [ 0.3451],\n",
       "        [ 0.1174],\n",
       "        [ 0.8594],\n",
       "        [ 0.8521],\n",
       "        [ 0.4300],\n",
       "        [ 0.3042],\n",
       "        [ 0.3390],\n",
       "        [ 0.0349],\n",
       "        [ 0.0433],\n",
       "        [ 0.2459],\n",
       "        [ 0.2491],\n",
       "        [ 0.5690],\n",
       "        [ 0.9474],\n",
       "        [ 0.5876]], device='cuda:0')"
      ]
     },
     "execution_count": 21,
     "metadata": {},
     "output_type": "execute_result"
    }
   ],
   "source": [
    "exp.training_set[0].y"
   ]
  },
  {
   "cell_type": "code",
   "execution_count": 5,
   "metadata": {},
   "outputs": [
    {
     "name": "stderr",
     "output_type": "stream",
     "text": [
      "[I 2025-06-30 15:54:33,172] A new study created in Journal with name: model-epidemics-gkan-test_mult_10\n"
     ]
    },
    {
     "name": "stdout",
     "output_type": "stream",
     "text": [
      "Trial 0: num params: 444\n"
     ]
    },
    {
     "name": "stderr",
     "output_type": "stream",
     "text": [
      "[I 2025-06-30 15:55:24,941] Trial 0 finished with value: 0.008081451058387756 and parameters: {'lr': 0.0028057582076672534, 'lamb': 1.0, 'batch_size': 16, 'use_orig_reg': True, 'lamb_g_net': 8.63200816860254e-06, 'lamb_h_net': 8.629132190071855e-06, 'grid_size_g_net': 5, 'spline_order_g_net': 3, 'range_limit_g_net': 7, 'mu_1_g_net': 0.8, 'mu_2_g_net': 0.1, 'n_hidden_layers_g_net': 2, 'hidden_dim_g_net': 5, 'grid_size_h_net': 8, 'spline_order_h_net': 1, 'range_limit_h_net': 2, 'mu_1_h_net': 0.4, 'mu_2_h_net': 0.6, 'n_hidden_layers_h_net': 1, 'hidden_dim_h_net': 2}. Best is trial 0 with value: 0.008081451058387756.\n"
     ]
    }
   ],
   "source": [
    "exp.epochs = 10\n",
    "exp.run()"
   ]
  },
  {
   "cell_type": "code",
   "execution_count": 8,
   "metadata": {},
   "outputs": [],
   "source": [
    "config_pop = load_config(\"./configs/config_pred_deriv/config_ic1/config_population_mpnn.yml\")\n",
    "# config_pop[\"t_eval_steps\"] = 1000\n",
    "# config_pop[\"t_span\"] = [0, 10]\n",
    "\n",
    "exp = ExperimentsMPNN(\n",
    "    config=config_pop,\n",
    "    n_trials=1,\n",
    "    study_name='test_mult_3'\n",
    ")"
   ]
  },
  {
   "cell_type": "code",
   "execution_count": 5,
   "metadata": {},
   "outputs": [
    {
     "data": {
      "text/plain": [
       "[<matplotlib.lines.Line2D at 0x7fa38b2b8950>]"
      ]
     },
     "execution_count": 5,
     "metadata": {},
     "output_type": "execute_result"
    },
    {
     "data": {
      "image/png": "[encoded data removed]",
      "text/plain": [
       "<Figure size 640x480 with 1 Axes>"
      ]
     },
     "metadata": {},
     "output_type": "display_data"
    }
   ],
   "source": [
    "data = exp.training_set.raw_data_sampled[0].detach().cpu().numpy()\n",
    "plt.plot(data[:, 6, :])"
   ]
  },
  {
   "cell_type": "code",
   "execution_count": 22,
   "metadata": {},
   "outputs": [
    {
     "data": {
      "text/plain": [
       "tensor(-0.9936, device='cuda:0')"
      ]
     },
     "execution_count": 22,
     "metadata": {},
     "output_type": "execute_result"
    }
   ],
   "source": [
    "exp.training_set.raw_data_sampled.min()"
   ]
  },
  {
   "cell_type": "code",
   "execution_count": 9,
   "metadata": {},
   "outputs": [
    {
     "name": "stderr",
     "output_type": "stream",
     "text": [
      "[I 2025-06-28 15:04:55,317] A new study created in Journal with name: model-population-mpnn-test_mult_3\n"
     ]
    },
    {
     "name": "stdout",
     "output_type": "stream",
     "text": [
      "Trial 0: num params: 258\n"
     ]
    },
    {
     "name": "stderr",
     "output_type": "stream",
     "text": [
      "[I 2025-06-28 15:05:07,462] Trial 0 finished with value: 0.0017352376598864794 and parameters: {'lr': 0.0028057582076672534, 'lamb': 0.0, 'batch_size': 16, 'n_hidden_layers_g_net': 1, 'hidden_dims_g_net': 16, 'af_g_net': 'softplus', 'drop_p_g_net': 0.04160439645256607, 'n_hidden_layers_h_net': 1, 'hidden_dims_h_net': 64, 'af_h_net': 'relu', 'drop_p_h_net': 0.00047687854154826123}. Best is trial 0 with value: 0.0017352376598864794.\n"
     ]
    }
   ],
   "source": [
    "exp.epochs = 10\n",
    "exp.run()"
   ]
  },
  {
   "cell_type": "markdown",
   "metadata": {},
   "source": [
    "## Utils"
   ]
  },
  {
   "cell_type": "code",
   "execution_count": 4,
   "metadata": {},
   "outputs": [],
   "source": [
    "from models.utils.MPNN import MPNN\n",
    "from models.baseline.MPNN_ODE import MPNN_ODE\n",
    "from train_and_eval import eval_model\n",
    "from datasets.SyntheticData import SyntheticData\n",
    "from sympy import symbols, sin, summation, simplify\n",
    "import networkx as nx\n",
    "from torch_geometric.utils import from_networkx\n",
    "from utils.utils import integrate\n",
    "from torch_geometric.data import Data\n",
    "from models.kan.KAN import KAN\n",
    "from models.GKAN_ODE import GKAN_ODE\n",
    "\n",
    "import optuna\n",
    "\n",
    "import warnings\n",
    "warnings.filterwarnings(\"ignore\")"
   ]
  },
  {
   "cell_type": "code",
   "execution_count": 5,
   "metadata": {},
   "outputs": [],
   "source": [
    "from sympy import latex\n",
    "from torch.utils.data import DataLoader\n",
    "\n",
    "def get_model(g, h, message_passing=True, include_time=False, atol=1e-5, rtol=1e-3, integration_method = 'scipy_solver'):\n",
    "    conv = MPNN(\n",
    "        g_net = g,\n",
    "        h_net = h, \n",
    "        message_passing=message_passing,\n",
    "        include_time=include_time\n",
    "    )\n",
    "    \n",
    "    symb = MPNN_ODE(\n",
    "        conv=conv,\n",
    "        model_path=\"./saved_models_optuna/tmp_symb\",\n",
    "        adjoint=True,\n",
    "        integration_method=integration_method,\n",
    "        atol=atol,\n",
    "        rtol=rtol\n",
    "    )\n",
    "    \n",
    "    symb = symb.eval()\n",
    "    return symb\n",
    "\n",
    "\n",
    "def get_symb_test_error(g_symb, h_symb, test_set, message_passing=False, include_time=False, atol=1e-5, rtol=1e-3, scaler = None, inverse_scale=False, method='scipy_solver'):\n",
    "    \n",
    "    # total_len = len(dataset)\n",
    "    # test_set = dataset[int(0.9*total_len):]\n",
    "    \n",
    "    symb = get_model(\n",
    "        g=g_symb,\n",
    "        h=h_symb,\n",
    "        message_passing=message_passing,\n",
    "        include_time=include_time,\n",
    "        atol=atol,\n",
    "        rtol=rtol,\n",
    "        integration_method=method\n",
    "    )\n",
    "    \n",
    "    collate_fn = lambda samples_list: samples_list\n",
    "    test_loader = DataLoader(test_set, batch_size=len(test_set), shuffle=True, collate_fn=collate_fn)\n",
    "    \n",
    "    test_loss = eval_model(\n",
    "        model=symb,\n",
    "        valid_loader=test_loader,\n",
    "        criterion=torch.nn.L1Loss(),\n",
    "        scaler=scaler,\n",
    "        inverse_scale=inverse_scale,\n",
    "        pred_deriv=False\n",
    "    )\n",
    "    \n",
    "    return test_loss\n",
    "\n",
    "\n",
    "def get_test_set(dynamics, seed=12345, device='cuda', input_range = (0, 1), **integration_kwargs):\n",
    "    graph = nx.barabasi_albert_graph(100, 3, seed=seed)\n",
    "    edge_index = from_networkx(graph).edge_index\n",
    "    edge_index = edge_index.to(torch.device(device))\n",
    "    rng = np.random.default_rng(seed=seed)\n",
    "    \n",
    "    data, t = integrate(\n",
    "        input_range=input_range,\n",
    "        t_span = [0, 1],\n",
    "        t_eval_steps=300,\n",
    "        dynamics=dynamics,\n",
    "        device=device,\n",
    "        graph=graph,\n",
    "        rng = rng,\n",
    "        **integration_kwargs\n",
    "    )\n",
    "    \n",
    "    snapshot = Data(\n",
    "        x = data[0].unsqueeze(0),\n",
    "        y = data[1:],\n",
    "        edge_index=edge_index,\n",
    "        edge_attr=None,\n",
    "        t_span = t\n",
    "    )\n",
    "    \n",
    "    return [snapshot]\n",
    "\n",
    "\n",
    "def build_model_from_file(model_path, message_passing, include_time, method='dopri5', adjoint=False):\n",
    "    best_params_file = f\"{model_path}/best_params.json\"\n",
    "    best_state_path = f\"{model_path}/gkan/state_dict.pth\"\n",
    "    \n",
    "    with open(best_params_file, 'r') as f:\n",
    "        best_hyperparams = json.load(f)\n",
    "    \n",
    "    # g_net\n",
    "    g_net = KAN(\n",
    "        layers_hidden=[2, best_hyperparams['hidden_dim_g_net'], 1],\n",
    "        grid_size=best_hyperparams['grid_size_g_net'],\n",
    "        spline_order=best_hyperparams['spline_order_g_net'],\n",
    "        grid_range=[-best_hyperparams['range_limit_g_net'], best_hyperparams['range_limit_g_net']],\n",
    "        mu_1=best_hyperparams['mu_1_g_net'],\n",
    "        mu_2=best_hyperparams['mu_2_g_net'],\n",
    "        device='cuda',\n",
    "        compute_mult=True,\n",
    "        store_act=True\n",
    "    )\n",
    "    \n",
    "    time_dim = 1 if include_time else 0\n",
    "    in_dim_h = 2 if message_passing else 1\n",
    "    in_dim_h += time_dim\n",
    "    \n",
    "    # h_net\n",
    "    h_net = KAN(\n",
    "        layers_hidden=[in_dim_h, best_hyperparams['hidden_dim_h_net'], 1],\n",
    "        grid_size=best_hyperparams['grid_size_h_net'],\n",
    "        spline_order=best_hyperparams['spline_order_h_net'],\n",
    "        grid_range=[-best_hyperparams['range_limit_h_net'], best_hyperparams['range_limit_h_net']],\n",
    "        mu_1=best_hyperparams['mu_1_h_net'],\n",
    "        mu_2=best_hyperparams['mu_2_h_net'],\n",
    "        device='cuda',\n",
    "        compute_mult=True,\n",
    "        store_act=True\n",
    "    )\n",
    "    \n",
    "    gkan = MPNN(\n",
    "        h_net=h_net,\n",
    "        g_net=g_net,\n",
    "        message_passing=message_passing,\n",
    "        include_time=include_time\n",
    "    )\n",
    "    \n",
    "    model = GKAN_ODE(\n",
    "        conv=gkan,\n",
    "        model_path='./saved_models_optuna/tmp',\n",
    "        lmbd_g=best_hyperparams['lamb_g_net'],\n",
    "        lmbd_h=best_hyperparams['lamb_h_net'],\n",
    "        integration_method=method,\n",
    "        adjoint=adjoint\n",
    "    )\n",
    "    \n",
    "    model = model.to(torch.device('cuda'))\n",
    "    model.load_state_dict(torch.load(best_state_path, weights_only=False, map_location=torch.device('cuda')))\n",
    "    \n",
    "    return model\n",
    "\n",
    "\n",
    "def post_process_gkan(\n",
    "    g_symb, \n",
    "    h_symb, \n",
    "    model_path, \n",
    "    test_set, \n",
    "    message_passing=False, \n",
    "    include_time=False,\n",
    "    atol=1e-5,\n",
    "    rtol=1e-3,\n",
    "    method='dopri5',\n",
    "    scaler=None,\n",
    "    inverse_scale=False,\n",
    "    adjoint=True\n",
    "):\n",
    "    test_loss_symb = get_symb_test_error(\n",
    "        g_symb=g_symb,\n",
    "        h_symb=h_symb,\n",
    "        test_set=test_set,\n",
    "        message_passing=message_passing,\n",
    "        include_time=include_time,\n",
    "        atol=atol,\n",
    "        rtol=rtol,\n",
    "        method=method,\n",
    "        scaler=scaler,\n",
    "        inverse_scale=inverse_scale\n",
    "    )\n",
    "    \n",
    "    print(f\"Test loss of symbolic formula: {test_loss_symb}\")\n",
    "    \n",
    "    # Loading best model\n",
    "    best_model = build_model_from_file(\n",
    "        model_path=model_path,\n",
    "        message_passing=message_passing,\n",
    "        include_time=include_time,\n",
    "        method=method,\n",
    "        adjoint=adjoint\n",
    "    )\n",
    "    \n",
    "    tot_params = sum(p.numel() for p in best_model.parameters() if p.requires_grad)\n",
    "    print(f\"Number of model's parameters: {tot_params}\")\n",
    "    \n",
    "    best_model = best_model.eval()\n",
    "    test_loss_model = get_symb_test_error(\n",
    "        g_symb=best_model.conv.model.g_net,\n",
    "        h_symb=best_model.conv.model.h_net,\n",
    "        test_set=test_set,\n",
    "        message_passing=message_passing,\n",
    "        include_time=include_time,\n",
    "        atol=atol,\n",
    "        rtol=rtol,\n",
    "        method=method,\n",
    "        scaler=scaler,\n",
    "        inverse_scale=inverse_scale\n",
    "    )\n",
    "    \n",
    "    print(f\"Test loss best model: {test_loss_model}\")\n",
    "\n",
    "    y_true = test_set[0].y.detach().cpu().numpy()\n",
    "    y_pred = best_model(snapshot = test_set[0]).detach().cpu().numpy()\n",
    "    \n",
    "    return y_true, y_pred\n",
    "\n",
    "\n",
    "def make_callable(expr):\n",
    "    free_syms = expr.free_symbols\n",
    "    if not free_syms:\n",
    "        # Expression is constant\n",
    "        const_value = float(expr)\n",
    "        return lambda x: torch.full((x.shape[0], 1), const_value, dtype=x.dtype, device=x.device)\n",
    "\n",
    "    sym_module = sympytorch.SymPyModule(expressions=[expr])\n",
    "    syms = {str(s) for s in free_syms}\n",
    "    if {'x_i', 'x_j'} <= syms:\n",
    "        return lambda x: sym_module(x_i=x[:, 0], x_j=x[:, 1])\n",
    "    elif 'x_i' in syms:\n",
    "        return lambda x: sym_module(x_i=x[:, 0])\n",
    "    elif 'x_j' in syms:\n",
    "        return lambda x: sym_module(x_j=x[:, 1])\n",
    "    else:\n",
    "        raise ValueError(f\"Unexpected symbols in expression: {free_syms}\")\n",
    "\n",
    "\n",
    "def get_error_spline_wise(model_path, test_set, theta=0.1, atol=1e-5, rtol=1e-3, sample_size=10000, seed=42,\n",
    "                          n_h_hidden_layers = 2, n_g_hidden_layers=2, sort_by='score'):\n",
    "    \n",
    "    symb_spline_wise, symb_g, symb_h = fit_model(\n",
    "        n_h_hidden_layers=n_h_hidden_layers,\n",
    "        n_g_hidden_layers=n_g_hidden_layers,\n",
    "        model_path=model_path,\n",
    "        theta=theta,\n",
    "        message_passing=False,\n",
    "        include_time=False,\n",
    "        sample_size=sample_size,\n",
    "        seed=seed,\n",
    "        sort_by=sort_by\n",
    "    )\n",
    "    \n",
    "    # print(latex(quantise(symb_spline_wise)))\n",
    "    \n",
    "    if isinstance(symb_g, int):\n",
    "        symb_g = sp.sympify(symb_g)\n",
    "        \n",
    "    if isinstance(symb_h, int):\n",
    "        symb_h = sp.sympify(symb_h)\n",
    "    \n",
    "    g_symb = make_callable(symb_g)\n",
    "    h_symb = make_callable(symb_h)\n",
    "    \n",
    "    test_loss_splinewise = get_symb_test_error(\n",
    "        g_symb=g_symb,\n",
    "        h_symb=h_symb,\n",
    "        test_set=test_set,\n",
    "        message_passing=False,\n",
    "        include_time=False,\n",
    "        method=\"dopri5\",\n",
    "        atol=atol,\n",
    "        rtol=rtol\n",
    "    )\n",
    "    \n",
    "    symb_model = get_model(\n",
    "        g=g_symb,\n",
    "        h=h_symb,\n",
    "        message_passing=False,\n",
    "        include_time=False,\n",
    "        atol=atol,\n",
    "        rtol=rtol,\n",
    "        integration_method=\"dopri5\"\n",
    "    )\n",
    "    \n",
    "\n",
    "    \n",
    "    y_true = test_set[0].y.detach().cpu().numpy()\n",
    "    y_pred = symb_model(snapshot = test_set[0]).detach().cpu().numpy()\n",
    "    \n",
    "    return quantise(symb_spline_wise), test_loss_splinewise, y_true, y_pred\n",
    "\n",
    "\n",
    "def plot_predictions(y_true, y_pred, node_index = 0):\n",
    "    plt.figure(figsize=(16, 8))\n",
    "    plt.plot(y_true[:, node_index, :], label='y_true', marker='o')\n",
    "    plt.plot(y_pred[:, node_index, :], label='y_pred', marker='o')\n",
    "    plt.xlabel('Time step')\n",
    "    plt.ylabel('Value')\n",
    "    plt.title(f'y_true vs y_pred for Node {node_index}')\n",
    "    plt.legend()\n",
    "    plt.grid(True)\n",
    "    plt.tight_layout()\n",
    "    plt.show()\n",
    "    \n",
    "\n",
    "def valid_symb_model(valid_set, model_path_gkan, test_set, n_trials=50):\n",
    "    valid_set = valid_set\n",
    "    alpha_range = [1e-5, 0.1]\n",
    "    theta_range = [1e-5, 0.5]\n",
    "    \n",
    "    def objective(trial):\n",
    "        theta = trial.suggest_float('theta', theta_range[0], theta_range[1], log=True)\n",
    "        alpha = trial.suggest_float('alpha', alpha_range[0], alpha_range[1], log=True)\n",
    "        _, val_loss = get_error_spline_wise(\n",
    "            model_path=model_path_gkan,\n",
    "            test_set=valid_set,\n",
    "            theta=theta,\n",
    "            use_sindy=False,\n",
    "            alpha = alpha\n",
    "        )   \n",
    "        return val_loss\n",
    "    \n",
    "    study = optuna.create_study(direction='minimize')\n",
    "    study.optimize(objective, n_trials=n_trials)\n",
    "    \n",
    "    best_theta, best_alpha = study.best_params['theta'], study.best_params['alpha']\n",
    "    expr, test_loss = get_error_spline_wise(\n",
    "            model_path=model_path_gkan,\n",
    "            test_set=test_set,\n",
    "            theta=best_theta,\n",
    "            use_sindy=False,\n",
    "            alpha=best_alpha\n",
    "    )\n",
    "    \n",
    "    print(f\"Test error: {test_loss}\")\n",
    "    \n",
    "    return expr"
   ]
  },
  {
   "cell_type": "markdown",
   "metadata": {},
   "source": [
    "## LB losses\n"
   ]
  },
  {
   "cell_type": "markdown",
   "metadata": {},
   "source": [
    "### Kuramoto"
   ]
  },
  {
   "cell_type": "code",
   "execution_count": 6,
   "metadata": {},
   "outputs": [
    {
     "name": "stdout",
     "output_type": "stream",
     "text": [
      "Kuramoto: 0.001437473576515913\n"
     ]
    }
   ],
   "source": [
    "kur_config = load_config(\"./configs/config_pred_deriv/config_ic1/config_kuramoto.yml\")\n",
    "\n",
    "KUR = get_test_set(\n",
    "    dynamics=kur_config['name'],\n",
    "    seed = 12345,\n",
    "    device='cuda',\n",
    "    input_range=kur_config['input_range'],\n",
    "    **kur_config['integration_kwargs']    \n",
    ")\n",
    "\n",
    "g_symb = lambda x: torch.sin(x[:, 1] - x[:, 0]).unsqueeze(-1)\n",
    "h_symb = lambda x: 2.0 + 0.5 * x[:, 1].unsqueeze(-1)\n",
    "\n",
    "test_loss = get_symb_test_error(\n",
    "    g_symb=g_symb,\n",
    "    h_symb=h_symb,\n",
    "    test_set=KUR,\n",
    "    message_passing=True,\n",
    "    include_time=False,\n",
    "    atol=1e-5,\n",
    "    rtol=1e-3\n",
    ")\n",
    "\n",
    "print(f\"Kuramoto: {test_loss}\")\n"
   ]
  },
  {
   "cell_type": "markdown",
   "metadata": {},
   "source": [
    "### Epidemics"
   ]
  },
  {
   "cell_type": "code",
   "execution_count": 7,
   "metadata": {},
   "outputs": [
    {
     "name": "stdout",
     "output_type": "stream",
     "text": [
      "Epidemics: 3.4704637073446065e-05\n"
     ]
    }
   ],
   "source": [
    "epid_config = load_config(\"./configs/config_pred_deriv/config_ic1/config_epidemics.yml\")\n",
    "\n",
    "EPID = get_test_set(\n",
    "    dynamics=epid_config['name'],\n",
    "    seed = 12345,\n",
    "    device='cuda',\n",
    "    input_range=epid_config['input_range'],\n",
    "    **epid_config['integration_kwargs']    \n",
    ")\n",
    "\n",
    "g_symb = lambda x: 0.5*x[:, 1].unsqueeze(-1) * (1 - x[:, 0].unsqueeze(-1))\n",
    "h_symb = lambda x: x[:, 1].unsqueeze(1) - 0.5 * x[:, 0].unsqueeze(-1)\n",
    "\n",
    "test_loss = get_symb_test_error(\n",
    "    g_symb=g_symb,\n",
    "    h_symb=h_symb,\n",
    "    test_set=EPID,\n",
    "    message_passing=True,\n",
    "    include_time=False,\n",
    "    atol=1e-5,\n",
    "    rtol=1e-3\n",
    ")\n",
    "\n",
    "print(f\"Epidemics: {test_loss}\")\n"
   ]
  },
  {
   "cell_type": "markdown",
   "metadata": {},
   "source": [
    "### Population"
   ]
  },
  {
   "cell_type": "code",
   "execution_count": 8,
   "metadata": {},
   "outputs": [
    {
     "name": "stdout",
     "output_type": "stream",
     "text": [
      "Population: 5.362004230846651e-05\n"
     ]
    }
   ],
   "source": [
    "pop_config = load_config(\"./configs/config_pred_deriv/config_ic1/config_population.yml\")\n",
    "\n",
    "POP = get_test_set(\n",
    "    dynamics=pop_config['name'],\n",
    "    seed = 12345,\n",
    "    device='cuda',\n",
    "    input_range=pop_config['input_range'],\n",
    "    **pop_config['integration_kwargs']    \n",
    ")\n",
    "\n",
    "g_symb = lambda x: 0.2*torch.pow(x[:, 1].unsqueeze(-1), 3)\n",
    "h_symb = lambda x: -0.5 * x[:, 0].unsqueeze(-1) + x[:, 1].unsqueeze(1) \n",
    "\n",
    "test_loss = get_symb_test_error(\n",
    "    g_symb=g_symb,\n",
    "    h_symb=h_symb,\n",
    "    test_set=POP,\n",
    "    message_passing=True,\n",
    "    include_time=False,\n",
    "    atol=1e-5,\n",
    "    rtol=1e-3\n",
    ")\n",
    "\n",
    "print(f\"Population: {test_loss}\")\n"
   ]
  },
  {
   "cell_type": "markdown",
   "metadata": {},
   "source": [
    "### Biochemical"
   ]
  },
  {
   "cell_type": "code",
   "execution_count": 9,
   "metadata": {},
   "outputs": [
    {
     "name": "stdout",
     "output_type": "stream",
     "text": [
      "Biochemical: 2.926714478235226e-05\n"
     ]
    }
   ],
   "source": [
    "bio_config = load_config(\"./configs/config_pred_deriv/config_ic1/config_biochemical.yml\")\n",
    "\n",
    "BIO = get_test_set(\n",
    "    dynamics=bio_config['name'],\n",
    "    seed = 12345,\n",
    "    device='cuda',\n",
    "    input_range=bio_config['input_range'],\n",
    "    **bio_config['integration_kwargs']    \n",
    ")\n",
    "\n",
    "g_symb = lambda x: (-0.5*x[:, 1] * x[:, 0]).unsqueeze(-1)\n",
    "h_symb = lambda x: (1.0 - 0.5 * x[:, 0]).unsqueeze(-1)  + x[:, 1].unsqueeze(-1) \n",
    "\n",
    "test_loss = get_symb_test_error(\n",
    "    g_symb=g_symb,\n",
    "    h_symb=h_symb,\n",
    "    test_set=BIO,\n",
    "    message_passing=True,\n",
    "    include_time=False,\n",
    "    atol=1e-5,\n",
    "    rtol=1e-3\n",
    ")\n",
    "\n",
    "print(f\"Biochemical: {test_loss}\")"
   ]
  },
  {
   "cell_type": "markdown",
   "metadata": {},
   "source": [
    "## Symb Reg"
   ]
  },
  {
   "cell_type": "markdown",
   "metadata": {},
   "source": [
    "### Biochemical\n"
   ]
  },
  {
   "cell_type": "markdown",
   "metadata": {},
   "source": [
    "#### IC=1"
   ]
  },
  {
   "cell_type": "code",
   "execution_count": 42,
   "metadata": {},
   "outputs": [],
   "source": [
    "model_path_gkan = \"./saved_models_optuna/model-biochemical-gkan/biochemical_gkan_ic1_s5_pd_mult_12/0/gkan\"\n",
    "\n",
    "pysr_model = lambda : get_pysr_model(\n",
    "    model_selection=\"score\",\n",
    "    n_iterations=200\n",
    ")\n",
    "\n",
    "gkan_symb, symb_g, symb_h = fit_black_box_from_kan(\n",
    "    n_g_hidden_layers=2,\n",
    "    n_h_hidden_layers=2,\n",
    "    device='cuda',\n",
    "    model_path=model_path_gkan,\n",
    "    pysr_model=pysr_model,\n",
    "    sample_size=10000,\n",
    "    theta=-np.inf,\n",
    "    message_passing=False\n",
    ")"
   ]
  },
  {
   "cell_type": "code",
   "execution_count": 43,
   "metadata": {},
   "outputs": [
    {
     "data": {
      "text/latex": [
       "$\\displaystyle \\sum_{j}( -0.499892972914499*x_i*x_j) - 0.5006706 x_{i} + 1.0002962$"
      ],
      "text/plain": [
       "\\sum_{j}( -0.499892972914499*x_i*x_j) - 0.5006706*x_i + 1.0002962"
      ]
     },
     "execution_count": 43,
     "metadata": {},
     "output_type": "execute_result"
    }
   ],
   "source": [
    "gkan_symb"
   ]
  },
  {
   "cell_type": "code",
   "execution_count": 44,
   "metadata": {},
   "outputs": [
    {
     "name": "stdout",
     "output_type": "stream",
     "text": [
      "Test loss of symbolic formula: 7.26406869944185e-05\n",
      "Number of model's parameters: 280\n",
      "Test loss best model: 7.64347641961649e-05\n"
     ]
    }
   ],
   "source": [
    "g_symb = make_callable(symb_g)\n",
    "h_symb = make_callable(symb_h)\n",
    "\n",
    "y_true, y_pred = post_process_gkan(\n",
    "    g_symb=g_symb,\n",
    "    h_symb=h_symb,\n",
    "    model_path='./saved_models_optuna/model-biochemical-gkan/biochemical_gkan_ic1_s5_pd_mult_12/0',\n",
    "    test_set=BIO,\n",
    "    message_passing=False,\n",
    "    include_time=False,\n",
    "    method='dopri5'\n",
    ")"
   ]
  },
  {
   "cell_type": "code",
   "execution_count": 28,
   "metadata": {},
   "outputs": [],
   "source": [
    "model_path_gkan = \"./saved_models_optuna/model-biochemical-gkan/biochemical_gkan_ic1_s5_pd_mult_12/0/gkan\"\n",
    "\n",
    "splie_wise, error, y_true, y_pred = get_error_spline_wise(\n",
    "    model_path=model_path_gkan,\n",
    "    test_set=BIO,\n",
    "    theta=0.1,\n",
    "    n_h_hidden_layers=2,\n",
    "    n_g_hidden_layers=2\n",
    ")"
   ]
  },
  {
   "cell_type": "code",
   "execution_count": 29,
   "metadata": {},
   "outputs": [
    {
     "data": {
      "text/latex": [
       "$\\displaystyle \\sum_{j}(-0.49*x_i*x_j + 0.01*x_j) - 0.5 x_{i} + 1.0$"
      ],
      "text/plain": [
       "\\sum_{j}(-0.49*x_i*x_j + 0.01*x_j) - 0.5*x_i + 1.0"
      ]
     },
     "execution_count": 29,
     "metadata": {},
     "output_type": "execute_result"
    }
   ],
   "source": [
    "splie_wise"
   ]
  },
  {
   "cell_type": "code",
   "execution_count": 26,
   "metadata": {},
   "outputs": [
    {
     "name": "stdout",
     "output_type": "stream",
     "text": [
      "0.0021570553071796894\n"
     ]
    }
   ],
   "source": [
    "print(error)"
   ]
  },
  {
   "cell_type": "markdown",
   "metadata": {},
   "source": [
    "#### SNR"
   ]
  },
  {
   "cell_type": "code",
   "execution_count": 37,
   "metadata": {},
   "outputs": [
    {
     "name": "stdout",
     "output_type": "stream",
     "text": [
      "./saved_models_optuna/model-biochemical-gkan/biochemical_gkan_ic1_s5_pd_mult_noise_70db/0\n",
      "\\sum_{j}( -0.49983656*x_i*x_j) + log(2.6308492 - x_i)\n",
      "Test loss of symbolic formula: 0.001752370153553784\n",
      "Number of model's parameters: 410\n",
      "Test loss best model: 0.0011742673814296722\n",
      "\n",
      " Spline-Wise\n",
      "Pruning node (0,0)\n",
      "Pruning node (0,1)\n",
      "Pruning node (0,2)\n",
      "Pruning node (0,3)\n",
      "\\sum_{j}((-0.5*x_i - 0.03)*(0.86*x_j + 0.05) + 0.01) - 0.53*x_i + 1.02\n",
      "Error: 0.0021154277492314577\n",
      "./saved_models_optuna/model-biochemical-gkan/biochemical_gkan_ic1_s5_pd_mult_noise_50db/0\n",
      "\\sum_{j}( -0.48555353*x_i*x_j) + log(2.6610868 - x_i)\n",
      "Test loss of symbolic formula: 0.007882097736001015\n",
      "Number of model's parameters: 292\n",
      "Test loss best model: 0.006796183064579964\n",
      "\n",
      " Spline-Wise\n",
      "\\sum_{j}(-0.21*x_i - 0.18*x_j - 0.04*tanh((8.53*x_i - 3.16)*(0.48*tanh(5.28*x_j - 1.36) - 0.22)) + 0.08) - 0.52*x_i + 1.03\n",
      "Error: 0.00851074792444706\n",
      "./saved_models_optuna/model-biochemical-gkan/biochemical_gkan_ic1_s5_pd_mult_noise_20db/0\n",
      "\\sum_{j}( -0.0059991283*x_j**2) - sin(9.11641017646635*x_i)\n",
      "Test loss of symbolic formula: 0.2462635636329651\n",
      "Number of model's parameters: 444\n",
      "Test loss best model: 0.19568853080272675\n",
      "\n",
      " Spline-Wise\n",
      "Pruning node (0,0)\n",
      "Pruning node (0,1)\n",
      "Pruning node (0,2)\n",
      "Pruning node (0,2)\n",
      "Pruning node (0,4)\n",
      "\\sum_{j}(0.0) - 1.43*sin(2.53*sin(10.08*x_i - 6.78) - 0.54) + 0.08\n",
      "Error: 0.21848911046981812\n"
     ]
    }
   ],
   "source": [
    "model_paths_gkan = [\n",
    "    \"./saved_models_optuna/model-biochemical-gkan/biochemical_gkan_ic1_s5_pd_mult_noise_70db/0\",\n",
    "    \"./saved_models_optuna/model-biochemical-gkan/biochemical_gkan_ic1_s5_pd_mult_noise_50db/0\",\n",
    "    \"./saved_models_optuna/model-biochemical-gkan/biochemical_gkan_ic1_s5_pd_mult_noise_20db/0\"\n",
    "]\n",
    "\n",
    "for model_path in model_paths_gkan:\n",
    "    print(model_path)\n",
    "    pysr_model = lambda : get_pysr_model(\n",
    "        model_selection=\"score\",\n",
    "        n_iterations=200\n",
    "    )\n",
    "\n",
    "    gkan_symb, symb_g, symb_h = fit_black_box_from_kan(\n",
    "        n_g_hidden_layers=2,\n",
    "        n_h_hidden_layers=2,\n",
    "        device='cuda',\n",
    "        model_path=f\"{model_path}/gkan\",\n",
    "        pysr_model=pysr_model,\n",
    "        sample_size=10000,\n",
    "        theta=-np.inf,\n",
    "        message_passing=False\n",
    "    )\n",
    "\n",
    "    print(str(gkan_symb))\n",
    "    \n",
    "    g_symb = make_callable(symb_g)\n",
    "    h_symb = make_callable(symb_h)\n",
    "\n",
    "    _, _ = post_process_gkan(\n",
    "        g_symb=g_symb,\n",
    "        h_symb=h_symb,\n",
    "        model_path=model_path,\n",
    "        test_set=BIO,\n",
    "        message_passing=False,\n",
    "        include_time=False,\n",
    "        method='dopri5'\n",
    "    )\n",
    "    \n",
    "    print(\"\\n Spline-Wise\")\n",
    "    \n",
    "    spline_wise, error, _, _ = get_error_spline_wise(\n",
    "        model_path=f\"{model_path}/gkan\",\n",
    "        test_set=BIO,\n",
    "        theta=0.1,\n",
    "        n_h_hidden_layers=2,\n",
    "        n_g_hidden_layers=2\n",
    "    )\n",
    "    print(str(spline_wise))\n",
    "    print(f\"Error: {error}\")"
   ]
  },
  {
   "cell_type": "markdown",
   "metadata": {},
   "source": [
    "### Kuramoto"
   ]
  },
  {
   "cell_type": "markdown",
   "metadata": {},
   "source": [
    "#### IC=1"
   ]
  },
  {
   "cell_type": "code",
   "execution_count": 45,
   "metadata": {},
   "outputs": [],
   "source": [
    "model_path_gkan = \"./saved_models_optuna/model-kuramoto-gkan/kuramoto_gkan_ic1_s5_pd_mult_12/0/gkan\"\n",
    "\n",
    "pysr_model = lambda : get_pysr_model(\n",
    "    model_selection=\"score\",\n",
    "    n_iterations=200\n",
    ")\n",
    "\n",
    "gkan_symb, symb_g, symb_h = fit_black_box_from_kan(\n",
    "    n_g_hidden_layers=2,\n",
    "    n_h_hidden_layers=2,\n",
    "    device='cuda',\n",
    "    model_path=model_path_gkan,\n",
    "    pysr_model=pysr_model,\n",
    "    sample_size=10000,\n",
    "    theta=-np.inf,\n",
    "    message_passing=False\n",
    ")"
   ]
  },
  {
   "cell_type": "code",
   "execution_count": 48,
   "metadata": {},
   "outputs": [
    {
     "data": {
      "text/latex": [
       "$\\displaystyle \\sum_{j}( -0.50057304*sin(x_i - x_j)) + 0.00025069356 \\tanh{\\left(\\tan{\\left(x_{i} \\right)} \\right)} + 1.9992907$"
      ],
      "text/plain": [
       "\\sum_{j}( -0.50057304*sin(x_i - x_j)) + 0.00025069356*tanh(tan(x_i)) + 1.9992907"
      ]
     },
     "execution_count": 48,
     "metadata": {},
     "output_type": "execute_result"
    }
   ],
   "source": [
    "gkan_symb"
   ]
  },
  {
   "cell_type": "code",
   "execution_count": 49,
   "metadata": {},
   "outputs": [
    {
     "data": {
      "text/latex": [
       "$\\displaystyle \\sum_{j}(-0.5*sin(x_i - x_j)) + 2.0$"
      ],
      "text/plain": [
       "\\sum_{j}(-0.5*sin(x_i - x_j)) + 2.0"
      ]
     },
     "execution_count": 49,
     "metadata": {},
     "output_type": "execute_result"
    }
   ],
   "source": [
    "quantise(gkan_symb)"
   ]
  },
  {
   "cell_type": "code",
   "execution_count": 50,
   "metadata": {},
   "outputs": [
    {
     "name": "stdout",
     "output_type": "stream",
     "text": [
      "Test loss of symbolic formula: 0.0017868317663669586\n",
      "Number of model's parameters: 543\n",
      "Test loss best model: 0.004060343839228153\n"
     ]
    }
   ],
   "source": [
    "g_symb = make_callable(symb_g)\n",
    "h_symb = make_callable(symb_h)\n",
    "\n",
    "y_true, y_pred = post_process_gkan(\n",
    "    g_symb=g_symb,\n",
    "    h_symb=h_symb,\n",
    "    model_path='./saved_models_optuna/model-kuramoto-gkan/kuramoto_gkan_ic1_s5_pd_mult_12/0',\n",
    "    test_set=KUR,\n",
    "    message_passing=False,\n",
    "    include_time=False,\n",
    "    method='dopri5'\n",
    ")"
   ]
  },
  {
   "cell_type": "code",
   "execution_count": 21,
   "metadata": {},
   "outputs": [
    {
     "name": "stdout",
     "output_type": "stream",
     "text": [
      "Pruning node (0,0)\n",
      "Pruning node (0,1)\n",
      "Pruning node (0,3)\n",
      "Pruning node (0,4)\n",
      "Pruning node (0,0)\n",
      "Pruning node (0,1)\n",
      "Pruning node (0,3)\n",
      "Pruning node (0,4)\n",
      "Pruning node (0,5)\n"
     ]
    }
   ],
   "source": [
    "model_path_gkan = \"./saved_models_optuna/model-kuramoto-gkan/kuramoto_gkan_ic1_s5_pd_mult_12/0/gkan\"\n",
    "\n",
    "splie_wise, error, y_true, y_pred = get_error_spline_wise(\n",
    "    model_path=model_path_gkan,\n",
    "    test_set=KUR,\n",
    "    theta=0.1,\n",
    "    n_g_hidden_layers=2,\n",
    "    n_h_hidden_layers=2\n",
    ")"
   ]
  },
  {
   "cell_type": "code",
   "execution_count": 22,
   "metadata": {},
   "outputs": [
    {
     "data": {
      "text/latex": [
       "$\\displaystyle \\sum_{j}(-0.5*sin(-1.0*x_i + 1.0*x_j + 3.14)) + 2.0$"
      ],
      "text/plain": [
       "\\sum_{j}(-0.5*sin(-1.0*x_i + 1.0*x_j + 3.14)) + 2.0"
      ]
     },
     "execution_count": 22,
     "metadata": {},
     "output_type": "execute_result"
    }
   ],
   "source": [
    "splie_wise"
   ]
  },
  {
   "cell_type": "code",
   "execution_count": 23,
   "metadata": {},
   "outputs": [
    {
     "name": "stdout",
     "output_type": "stream",
     "text": [
      "Error: 0.0034366315230727196\n"
     ]
    }
   ],
   "source": [
    "print(f\"Error: {error}\")"
   ]
  },
  {
   "cell_type": "markdown",
   "metadata": {},
   "source": [
    "#### SNR"
   ]
  },
  {
   "cell_type": "code",
   "execution_count": 24,
   "metadata": {},
   "outputs": [
    {
     "name": "stdout",
     "output_type": "stream",
     "text": [
      "./saved_models_optuna/model-kuramoto-gkan/kuramoto_gkan_ic1_s5_pd_mult_noise_70db/0\n",
      "\\sum_{j}( -0.49726588*sin(x_i - x_j)) - 3.8621078e-5*exp(x_i) + 2.019998\n",
      "Test loss of symbolic formula: 0.010482893325388432\n",
      "Number of model's parameters: 348\n",
      "Test loss best model: 0.04156837239861488\n",
      "\n",
      " Spline-Wise\n",
      "Pruning node (0,0)\n",
      "Pruning node (0,1)\n",
      "Pruning node (0,3)\n",
      "\\sum_{j}(0.5*cos(1.0*x_i - 1.0*x_j + 1.61)) + 0.01*x_i - 0.06*tanh(0.86*x_i - 1.73) + 1.99\n",
      "Error: 0.019143909215927124\n",
      "./saved_models_optuna/model-kuramoto-gkan/kuramoto_gkan_ic1_s5_pd_mult_noise_50db/0\n",
      "\\sum_{j}( -0.41670772*sin(x_i - x_j)) - tanh(x_i)**3 + 3.0761168\n",
      "Test loss of symbolic formula: 0.10411734879016876\n",
      "Number of model's parameters: 306\n",
      "Test loss best model: 0.18944449722766876\n",
      "\n",
      " Spline-Wise\n",
      "Pruning node (0,2)\n",
      "Pruning node (0,4)\n",
      "Pruning node (0,3)\n",
      "\\sum_{j}(-0.43*cos(-1.04*x_i + 1.02*x_j + 1.45) + 0.16*cos(0.24*x_i - 0.46*x_j + 1.51) - 0.06) + 0.15*(cos(1.27*x_i - 1.08) - 0.67)**2 + 0.32*cos(1.27*x_i - 1.08) + 1.96\n",
      "Error: 0.12088204175233841\n"
     ]
    }
   ],
   "source": [
    "model_paths_gkan = [\n",
    "    \"./saved_models_optuna/model-kuramoto-gkan/kuramoto_gkan_ic1_s5_pd_mult_noise_70db/0\",\n",
    "    \"./saved_models_optuna/model-kuramoto-gkan/kuramoto_gkan_ic1_s5_pd_mult_noise_50db/0\",\n",
    "#     \"./saved_models_optuna/model-kuramoto-gkan/kuramoto_gkan_ic1_s5_pd_mult_noise_20db/0\",\n",
    "]\n",
    "\n",
    "for model_path in model_paths_gkan:\n",
    "    print(model_path)\n",
    "    pysr_model = lambda : get_pysr_model(\n",
    "        model_selection=\"score\",\n",
    "        n_iterations=200\n",
    "    )\n",
    "\n",
    "    gkan_symb, symb_g, symb_h = fit_black_box_from_kan(\n",
    "        n_g_hidden_layers=2,\n",
    "        n_h_hidden_layers=2,\n",
    "        device='cuda',\n",
    "        model_path=f\"{model_path}/gkan\",\n",
    "        pysr_model=pysr_model,\n",
    "        sample_size=10000,\n",
    "        theta=-np.inf,\n",
    "        message_passing=False\n",
    "    )\n",
    "\n",
    "    print(str(gkan_symb))\n",
    "    \n",
    "    g_symb = make_callable(symb_g)\n",
    "    h_symb = make_callable(symb_h)\n",
    "\n",
    "    _, _ = post_process_gkan(\n",
    "        g_symb=g_symb,\n",
    "        h_symb=h_symb,\n",
    "        model_path=model_path,\n",
    "        test_set=KUR,\n",
    "        message_passing=False,\n",
    "        include_time=False,\n",
    "        method='dopri5'\n",
    "    )\n",
    "    \n",
    "    print(\"\\n Spline-Wise\")\n",
    "    \n",
    "    spline_wise, error, _, _ = get_error_spline_wise(\n",
    "        model_path=f\"{model_path}/gkan\",\n",
    "        test_set=KUR,\n",
    "        theta=0.01,\n",
    "        n_h_hidden_layers=2,\n",
    "        n_g_hidden_layers=2\n",
    "    )\n",
    "    print(str(spline_wise))\n",
    "    print(f\"Error: {error}\")"
   ]
  },
  {
   "cell_type": "markdown",
   "metadata": {},
   "source": [
    "### Epidemics"
   ]
  },
  {
   "cell_type": "markdown",
   "metadata": {},
   "source": [
    "#### IC=1"
   ]
  },
  {
   "cell_type": "code",
   "execution_count": 54,
   "metadata": {},
   "outputs": [],
   "source": [
    "model_path_gkan = \"./saved_models_optuna/model-epidemics-gkan/epidemics_gkan_ic1_s5_pd_mult_12/0/gkan\"\n",
    "\n",
    "pysr_model = lambda : get_pysr_model(\n",
    "    model_selection=\"score\",\n",
    "    n_iterations=200\n",
    ")\n",
    "\n",
    "gkan_symb, symb_g, symb_h = fit_black_box_from_kan(\n",
    "    n_g_hidden_layers=2,\n",
    "    n_h_hidden_layers=2,\n",
    "    device='cuda',\n",
    "    model_path=model_path_gkan,\n",
    "    pysr_model=pysr_model,\n",
    "    sample_size=10000,\n",
    "    theta=-np.inf,\n",
    "    message_passing=False\n",
    ")"
   ]
  },
  {
   "cell_type": "code",
   "execution_count": 55,
   "metadata": {},
   "outputs": [
    {
     "data": {
      "text/latex": [
       "$\\displaystyle \\sum_{j}( x_j*(0.50011563 - 0.50024396*x_i)) - 0.49971062 x_{i}$"
      ],
      "text/plain": [
       "\\sum_{j}( x_j*(0.50011563 - 0.50024396*x_i)) - 0.49971062*x_i"
      ]
     },
     "execution_count": 55,
     "metadata": {},
     "output_type": "execute_result"
    }
   ],
   "source": [
    "gkan_symb"
   ]
  },
  {
   "cell_type": "code",
   "execution_count": 56,
   "metadata": {},
   "outputs": [
    {
     "data": {
      "text/latex": [
       "$\\displaystyle \\sum_{j}(x_j*(0.5 - 0.5*x_i)) - 0.5 x_{i}$"
      ],
      "text/plain": [
       "\\sum_{j}(x_j*(0.5 - 0.5*x_i)) - 0.5*x_i"
      ]
     },
     "execution_count": 56,
     "metadata": {},
     "output_type": "execute_result"
    }
   ],
   "source": [
    "quantise(gkan_symb)"
   ]
  },
  {
   "cell_type": "code",
   "execution_count": 57,
   "metadata": {},
   "outputs": [
    {
     "name": "stdout",
     "output_type": "stream",
     "text": [
      "Test loss of symbolic formula: 6.766567821614444e-05\n",
      "Number of model's parameters: 264\n",
      "Test loss best model: 0.0004856563173234463\n"
     ]
    }
   ],
   "source": [
    "g_symb = make_callable(symb_g)\n",
    "h_symb = make_callable(symb_h)\n",
    "\n",
    "y_true, y_pred = post_process_gkan(\n",
    "    g_symb=g_symb,\n",
    "    h_symb=h_symb,\n",
    "    model_path='./saved_models_optuna/model-epidemics-gkan/epidemics_gkan_ic1_s5_pd_mult_12/0',\n",
    "    test_set=EPID,\n",
    "    message_passing=False,\n",
    "    include_time=False,\n",
    "    method='dopri5'\n",
    ")"
   ]
  },
  {
   "cell_type": "code",
   "execution_count": 25,
   "metadata": {},
   "outputs": [
    {
     "name": "stdout",
     "output_type": "stream",
     "text": [
      "Pruning node (0,0)\n",
      "Pruning node (0,1)\n",
      "Pruning node (0,2)\n"
     ]
    }
   ],
   "source": [
    "model_path_gkan = \"./saved_models_optuna/model-epidemics-gkan/epidemics_gkan_ic1_s5_pd_mult_12/0/gkan\"\n",
    "\n",
    "splie_wise, error, y_true, y_pred = get_error_spline_wise(\n",
    "    model_path=model_path_gkan,\n",
    "    test_set=EPID,\n",
    "    theta=0.1,\n",
    "    n_g_hidden_layers=2,\n",
    "    n_h_hidden_layers=2\n",
    ")"
   ]
  },
  {
   "cell_type": "code",
   "execution_count": 26,
   "metadata": {},
   "outputs": [
    {
     "data": {
      "text/latex": [
       "$\\displaystyle \\sum_{j}(-0.5*x_i*x_j + 0.5*x_j + 0.01) - 0.5 x_{i}$"
      ],
      "text/plain": [
       "\\sum_{j}(-0.5*x_i*x_j + 0.5*x_j + 0.01) - 0.5*x_i"
      ]
     },
     "execution_count": 26,
     "metadata": {},
     "output_type": "execute_result"
    }
   ],
   "source": [
    "splie_wise"
   ]
  },
  {
   "cell_type": "code",
   "execution_count": 27,
   "metadata": {},
   "outputs": [
    {
     "name": "stdout",
     "output_type": "stream",
     "text": [
      "Error: 0.006020934320986271\n"
     ]
    }
   ],
   "source": [
    "print(f\"Error: {error}\")"
   ]
  },
  {
   "cell_type": "markdown",
   "metadata": {},
   "source": [
    "#### SNR"
   ]
  },
  {
   "cell_type": "code",
   "execution_count": 30,
   "metadata": {},
   "outputs": [
    {
     "name": "stdout",
     "output_type": "stream",
     "text": [
      "./saved_models_optuna/model-epidemics-gkan/epidemics_gkan_ic1_s5_pd_mult_noise_70db/0\n",
      "\\sum_{j}( -0.43250135*x_j*tanh(log(x_i))) - 0.4904486*x_i\n",
      "Test loss of symbolic formula: 0.004999896511435509\n",
      "Number of model's parameters: 574\n",
      "Test loss best model: 0.0008003775728866458\n",
      "\n",
      " Spline-Wise\n",
      "Pruning node (0,2)\n",
      "Pruning node (0,0)\n",
      "Pruning node (0,1)\n",
      "Pruning node (0,2)\n",
      "Pruning node (0,4)\n",
      "\\sum_{j}(0.1*x_i**2 - 0.37*x_i*x_j - 0.21*x_i + 0.11*x_j**2 + 0.29*x_j + 0.13) - 1.78*tanh(0.53*x_i - 1.22) - 1.57\n",
      "Error: 0.0175224170088768\n",
      "./saved_models_optuna/model-epidemics-gkan/epidemics_gkan_ic1_s5_pd_mult_noise_50db/0\n",
      "\\sum_{j}( -0.17137100056501*log(x_i)) - 0.1979591*x_i\n",
      "Test loss of symbolic formula: 0.02581402286887169\n",
      "Number of model's parameters: 405\n",
      "Test loss best model: 0.02679515816271305\n",
      "\n",
      " Spline-Wise\n",
      "Pruning node (0,0)\n",
      "Pruning node (0,1)\n",
      "Pruning node (0,2)\n",
      "\\sum_{j}(-0.08*x_i + 0.05*x_j - (0.08*x_i - 0.06)*(0.77*exp(0.55*x_j) - 0.74) - (0.1*x_i - 0.06)*(0.32*exp(0.85*x_j) - 0.22) + 0.09) - 0.3*x_i + 0.08\n",
      "Error: 0.050813812762498856\n",
      "./saved_models_optuna/model-epidemics-gkan/epidemics_gkan_ic1_s5_pd_mult_noise_20db/0\n",
      "\\sum_{j}( 0.0002173883*tanh(x_j)**2) + 0.02814093/(x_i - 0.3259323)\n",
      "Test loss of symbolic formula: 0.21802210807800293\n",
      "Number of model's parameters: 138\n",
      "Test loss best model: 0.19635599851608276\n",
      "\n",
      " Spline-Wise\n",
      "Pruning node (0,0)\n",
      "\\sum_{j}(0) - 5.01*tanh(21.69*x_i - 1.68) + 0.76*tanh(69.19*cos(6.94*x_i - 2.35) - 45.29) - 0.29*tanh(537.96*cos(13.03*x_i - 9.12) - 79.21) + 5.78\n",
      "Error: 0.16964471340179443\n"
     ]
    }
   ],
   "source": [
    "model_paths_gkan = [\n",
    "    \"./saved_models_optuna/model-epidemics-gkan/epidemics_gkan_ic1_s5_pd_mult_noise_70db/0\",\n",
    "    \"./saved_models_optuna/model-epidemics-gkan/epidemics_gkan_ic1_s5_pd_mult_noise_50db/0\",\n",
    "    \"./saved_models_optuna/model-epidemics-gkan/epidemics_gkan_ic1_s5_pd_mult_noise_20db/0\",\n",
    "]\n",
    "\n",
    "for model_path in model_paths_gkan:\n",
    "    print(model_path)\n",
    "    pysr_model = lambda : get_pysr_model(\n",
    "        model_selection=\"score\",\n",
    "        n_iterations=200\n",
    "    )\n",
    "\n",
    "    gkan_symb, symb_g, symb_h = fit_black_box_from_kan(\n",
    "        n_g_hidden_layers=2,\n",
    "        n_h_hidden_layers=2,\n",
    "        device='cuda',\n",
    "        model_path=f\"{model_path}/gkan\",\n",
    "        pysr_model=pysr_model,\n",
    "        sample_size=10000,\n",
    "        theta=-np.inf,\n",
    "        message_passing=False\n",
    "    )\n",
    "\n",
    "    print(str(gkan_symb))\n",
    "    \n",
    "    g_symb = make_callable(symb_g)\n",
    "    h_symb = make_callable(symb_h)\n",
    "\n",
    "    _, _ = post_process_gkan(\n",
    "        g_symb=g_symb,\n",
    "        h_symb=h_symb,\n",
    "        model_path=model_path,\n",
    "        test_set=EPID,\n",
    "        message_passing=False,\n",
    "        include_time=False,\n",
    "        method='dopri5'\n",
    "    )\n",
    "    \n",
    "    print(\"\\n Spline-Wise\")\n",
    "    \n",
    "    spline_wise, error, _, _ = get_error_spline_wise(\n",
    "        model_path=f\"{model_path}/gkan\",\n",
    "        test_set=EPID,\n",
    "        theta=0.1,\n",
    "        n_h_hidden_layers=2,\n",
    "        n_g_hidden_layers=2\n",
    "    )\n",
    "    print(str(spline_wise))\n",
    "    print(f\"Error: {error}\")"
   ]
  },
  {
   "cell_type": "markdown",
   "metadata": {},
   "source": [
    "### Population"
   ]
  },
  {
   "cell_type": "markdown",
   "metadata": {},
   "source": [
    "#### IC=1"
   ]
  },
  {
   "cell_type": "code",
   "execution_count": 58,
   "metadata": {},
   "outputs": [],
   "source": [
    "model_path_gkan = \"./saved_models_optuna/model-population-gkan/population_gkan_ic1_s5_pd_mult_12/0/gkan\"\n",
    "\n",
    "pysr_model = lambda : get_pysr_model(\n",
    "    model_selection=\"score\",\n",
    "    n_iterations=200\n",
    ")\n",
    "\n",
    "gkan_symb, symb_g, symb_h = fit_black_box_from_kan(\n",
    "    n_g_hidden_layers=2,\n",
    "    n_h_hidden_layers=2,\n",
    "    device='cuda',\n",
    "    model_path=model_path_gkan,\n",
    "    pysr_model=pysr_model,\n",
    "    sample_size=10000,\n",
    "    theta=-np.inf,\n",
    "    message_passing=False\n",
    ")"
   ]
  },
  {
   "cell_type": "code",
   "execution_count": 61,
   "metadata": {},
   "outputs": [
    {
     "data": {
      "text/latex": [
       "$\\displaystyle \\sum_{j}( 0.200043148214396*x_j**3) - 0.49992707 x_{i}$"
      ],
      "text/plain": [
       "\\sum_{j}( 0.200043148214396*x_j**3) - 0.49992707*x_i"
      ]
     },
     "execution_count": 61,
     "metadata": {},
     "output_type": "execute_result"
    }
   ],
   "source": [
    "gkan_symb"
   ]
  },
  {
   "cell_type": "code",
   "execution_count": 62,
   "metadata": {},
   "outputs": [
    {
     "data": {
      "text/latex": [
       "$\\displaystyle \\sum_{j}(0.2*x_j**3) - 0.5 x_{i}$"
      ],
      "text/plain": [
       "\\sum_{j}(0.2*x_j**3) - 0.5*x_i"
      ]
     },
     "execution_count": 62,
     "metadata": {},
     "output_type": "execute_result"
    }
   ],
   "source": [
    "quantise(gkan_symb)"
   ]
  },
  {
   "cell_type": "code",
   "execution_count": 63,
   "metadata": {},
   "outputs": [
    {
     "name": "stdout",
     "output_type": "stream",
     "text": [
      "Test loss of symbolic formula: 8.341687498614192e-05\n",
      "Number of model's parameters: 294\n",
      "Test loss best model: 0.00023413979215547442\n"
     ]
    }
   ],
   "source": [
    "g_symb = make_callable(symb_g)\n",
    "h_symb = make_callable(symb_h)\n",
    "\n",
    "y_true, y_pred = post_process_gkan(\n",
    "    g_symb=g_symb,\n",
    "    h_symb=h_symb,\n",
    "    model_path='./saved_models_optuna/model-population-gkan/population_gkan_ic1_s5_pd_mult_12/0',\n",
    "    test_set=POP,\n",
    "    message_passing=False,\n",
    "    include_time=False,\n",
    "    method='dopri5'\n",
    ")"
   ]
  },
  {
   "cell_type": "code",
   "execution_count": 31,
   "metadata": {},
   "outputs": [
    {
     "name": "stdout",
     "output_type": "stream",
     "text": [
      "Pruning node (0,0)\n",
      "Pruning node (0,2)\n",
      "Pruning node (0,4)\n"
     ]
    }
   ],
   "source": [
    "model_path_gkan = \"./saved_models_optuna/model-population-gkan/population_gkan_ic1_s5_pd_mult_12/0/gkan\"\n",
    "\n",
    "spline_wise, error, y_true, y_pred = get_error_spline_wise(\n",
    "    model_path=model_path_gkan,\n",
    "    test_set=POP,\n",
    "    theta=0.1,\n",
    "    n_g_hidden_layers=2,\n",
    "    n_h_hidden_layers=2,\n",
    "    sort_by='score'\n",
    ")"
   ]
  },
  {
   "cell_type": "code",
   "execution_count": 32,
   "metadata": {},
   "outputs": [
    {
     "data": {
      "text/latex": [
       "$\\displaystyle \\sum_{j}(0.07*x_j) - 0.5 x_{i}$"
      ],
      "text/plain": [
       "\\sum_{j}(0.07*x_j) - 0.5*x_i"
      ]
     },
     "execution_count": 32,
     "metadata": {},
     "output_type": "execute_result"
    }
   ],
   "source": [
    "spline_wise"
   ]
  },
  {
   "cell_type": "code",
   "execution_count": 23,
   "metadata": {},
   "outputs": [
    {
     "name": "stdout",
     "output_type": "stream",
     "text": [
      "Error: 0.0171041339635849\n"
     ]
    }
   ],
   "source": [
    "print(f\"Error: {error}\")"
   ]
  },
  {
   "cell_type": "markdown",
   "metadata": {},
   "source": [
    "#### SNR"
   ]
  },
  {
   "cell_type": "code",
   "execution_count": null,
   "metadata": {},
   "outputs": [],
   "source": [
    "model_paths_gkan = [\n",
    "    \"./saved_models_optuna/model-population-gkan/population_gkan_ic1_s5_pd_mult_noise_70db/0\",\n",
    "    \"./saved_models_optuna/model-population-gkan/population_gkan_ic1_s5_pd_mult_noise_50db/0\",\n",
    "    \"./saved_models_optuna/model-population-gkan/population_gkan_ic1_s5_pd_mult_noise_20db/0\",\n",
    "]\n",
    "\n",
    "for model_path in model_paths_gkan:\n",
    "    print(model_path)\n",
    "    pysr_model = lambda : get_pysr_model(\n",
    "        model_selection=\"score\",\n",
    "        n_iterations=200\n",
    "    )\n",
    "\n",
    "    gkan_symb, symb_g, symb_h = fit_black_box_from_kan(\n",
    "        n_g_hidden_layers=2,\n",
    "        n_h_hidden_layers=2,\n",
    "        device='cuda',\n",
    "        model_path=f\"{model_path}/gkan\",\n",
    "        pysr_model=pysr_model,\n",
    "        sample_size=10000,\n",
    "        theta=-np.inf,\n",
    "        message_passing=False\n",
    "    )\n",
    "\n",
    "    print(str(gkan_symb))\n",
    "    \n",
    "    g_symb = make_callable(symb_g)\n",
    "    h_symb = make_callable(symb_h)\n",
    "\n",
    "    _, _ = post_process_gkan(\n",
    "        g_symb=g_symb,\n",
    "        h_symb=h_symb,\n",
    "        model_path=model_path,\n",
    "        test_set=POP,\n",
    "        message_passing=False,\n",
    "        include_time=False,\n",
    "        method='dopri5'\n",
    "    )\n",
    "    \n",
    "    print(\"\\n Spline-Wise\")\n",
    "    \n",
    "    spline_wise, error, _, _ = get_error_spline_wise(\n",
    "        model_path=f\"{model_path}/gkan\",\n",
    "        test_set=POP,\n",
    "        theta=0.01,\n",
    "        n_h_hidden_layers=2,\n",
    "        n_g_hidden_layers=2\n",
    "    )\n",
    "    print(str(spline_wise))\n",
    "    print(f\"Error: {error}\")"
   ]
  }
 ],
 "metadata": {
  "kernelspec": {
   "display_name": "myenv",
   "language": "python",
   "name": "python3"
  },
  "language_info": {
   "codemirror_mode": {
    "name": "ipython",
    "version": 3
   },
   "file_extension": ".py",
   "mimetype": "text/x-python",
   "name": "python",
   "nbconvert_exporter": "python",
   "pygments_lexer": "ipython3",
   "version": "3.12.0"
  }
 },
 "nbformat": 4,
 "nbformat_minor": 2
}
