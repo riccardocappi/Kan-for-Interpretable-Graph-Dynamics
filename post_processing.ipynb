{
 "cells": [
  {
   "cell_type": "markdown",
   "metadata": {},
   "source": [
    "## Dynamics\n",
    "\n",
    "Dynamics | $\\partial_{\\tau}x_i=$ |\n",
    "| :--------: | :-------: |\n",
    "Biochemical | $F -B x_i - R \\sum_j A_{ij} x_i x_j$ |\n",
    "Epidemics | $-B x_i + R \\sum_j A_{ij} (1-x_i)x_j$ |\n",
    "Population | $-B x_i^{b} + R \\sum_j A_{ij} x_j^a$ |\n",
    "Synchronization | $\\omega_i + R \\sum_j A_{ij} \\sin(x_j-x_i)$ |"
   ]
  },
  {
   "cell_type": "code",
   "execution_count": 1,
   "metadata": {},
   "outputs": [],
   "source": [
    "%load_ext autoreload\n",
    "%autoreload 2"
   ]
  },
  {
   "cell_type": "markdown",
   "metadata": {},
   "source": [
    "## Importing"
   ]
  },
  {
   "cell_type": "code",
   "execution_count": 2,
   "metadata": {},
   "outputs": [],
   "source": [
    "import os\n",
    "os.environ[\"CUBLAS_WORKSPACE_CONFIG\"] = \":4096:8\""
   ]
  },
  {
   "cell_type": "code",
   "execution_count": 3,
   "metadata": {},
   "outputs": [
    {
     "name": "stdout",
     "output_type": "stream",
     "text": [
      "Detected IPython. Loading juliacall extension. See https://juliapy.github.io/PythonCall.jl/stable/compat/#IPython\n"
     ]
    }
   ],
   "source": [
    "from utils.utils import *\n",
    "import optuna\n",
    "from optuna.storages import JournalStorage\n",
    "from optuna.storages.journal import JournalFileBackend\n",
    "from experiments.experiments_gkan import ExperimentsGKAN\n",
    "from experiments.experiments_mpnn import ExperimentsMPNN\n",
    "from train_and_eval import eval_model\n",
    "import sympytorch\n",
    "\n",
    "storage = JournalStorage(JournalFileBackend(\"optuna_journal_storage.log\"))"
   ]
  },
  {
   "cell_type": "code",
   "execution_count": 4,
   "metadata": {},
   "outputs": [],
   "source": [
    "import random\n",
    "\n",
    "def set_pytorch_seed(seed=42):\n",
    "    torch.manual_seed(seed)\n",
    "    torch.cuda.manual_seed_all(seed)\n",
    "    torch.backends.cudnn.deterministic = True\n",
    "    torch.backends.cudnn.benchmark = False\n",
    "    np.random.seed(seed)\n",
    "    random.seed(seed)\n",
    "    torch.use_deterministic_algorithms(True)\n",
    "set_pytorch_seed(0)"
   ]
  },
  {
   "cell_type": "code",
   "execution_count": 5,
   "metadata": {},
   "outputs": [],
   "source": [
    "# config = load_config(\"./configs/config_pred_deriv/config_real_epid_mpnn.yml\")\n",
    "# config['patience'] = 450\n",
    "# exp = ExperimentsMPNN(\n",
    "#     config=config,\n",
    "#     n_trials=3,\n",
    "#     study_name=\"test_mult_2\"\n",
    "# )"
   ]
  },
  {
   "cell_type": "code",
   "execution_count": 6,
   "metadata": {},
   "outputs": [],
   "source": [
    "# exp.run()"
   ]
  },
  {
   "cell_type": "code",
   "execution_count": 7,
   "metadata": {},
   "outputs": [],
   "source": [
    "# config = load_config(\"./configs/config_pred_deriv/config_ic1/config_population.yml\")\n",
    "# # config['t_span'] = [0, 1]\n",
    "# exp = ExperimentsGKAN(\n",
    "#     config=config,\n",
    "#     n_trials=1,\n",
    "#     study_name=\"test_mult_10\",\n",
    "#     snr_db=20\n",
    "# )"
   ]
  },
  {
   "cell_type": "code",
   "execution_count": 8,
   "metadata": {},
   "outputs": [],
   "source": [
    "# data = exp.training_set.raw_data_sampled[0].detach().cpu().numpy()\n",
    "# plt.plot(data[:, 30, :])"
   ]
  },
  {
   "cell_type": "code",
   "execution_count": 9,
   "metadata": {},
   "outputs": [],
   "source": [
    "# exp.training_set[0].y"
   ]
  },
  {
   "cell_type": "code",
   "execution_count": 10,
   "metadata": {},
   "outputs": [],
   "source": [
    "# exp.epochs = 10\n",
    "# exp.run()"
   ]
  },
  {
   "cell_type": "code",
   "execution_count": 11,
   "metadata": {},
   "outputs": [],
   "source": [
    "# config_pop = load_config(\"./configs/config_pred_deriv/config_ic1/config_population_mpnn.yml\")\n",
    "# # config_pop[\"t_eval_steps\"] = 1000\n",
    "# # config_pop[\"t_span\"] = [0, 10]\n",
    "\n",
    "# exp = ExperimentsMPNN(\n",
    "#     config=config_pop,\n",
    "#     n_trials=1,\n",
    "#     study_name='test_mult_3'\n",
    "# )"
   ]
  },
  {
   "cell_type": "code",
   "execution_count": 12,
   "metadata": {},
   "outputs": [],
   "source": [
    "# data = exp.training_set.raw_data_sampled[0].detach().cpu().numpy()\n",
    "# plt.plot(data[:, 6, :])"
   ]
  },
  {
   "cell_type": "code",
   "execution_count": 13,
   "metadata": {},
   "outputs": [],
   "source": [
    "# exp.training_set.raw_data_sampled.min()"
   ]
  },
  {
   "cell_type": "code",
   "execution_count": 14,
   "metadata": {},
   "outputs": [],
   "source": [
    "# exp.epochs = 10\n",
    "# exp.run()"
   ]
  },
  {
   "cell_type": "markdown",
   "metadata": {},
   "source": [
    "## Utils"
   ]
  },
  {
   "cell_type": "code",
   "execution_count": 15,
   "metadata": {},
   "outputs": [],
   "source": [
    "from models.utils.MPNN import MPNN\n",
    "from models.baseline.MPNN_ODE import MPNN_ODE\n",
    "from train_and_eval import eval_model\n",
    "from datasets.SyntheticData import SyntheticData\n",
    "from sympy import symbols, sin, summation, simplify\n",
    "import networkx as nx\n",
    "from torch_geometric.utils import from_networkx\n",
    "from utils.utils import integrate\n",
    "from torch_geometric.data import Data\n",
    "from models.kan.KAN import KAN\n",
    "from models.GKAN_ODE import GKAN_ODE\n",
    "\n",
    "import optuna\n",
    "\n",
    "import warnings\n",
    "warnings.filterwarnings(\"ignore\")"
   ]
  },
  {
   "cell_type": "code",
   "execution_count": 16,
   "metadata": {},
   "outputs": [],
   "source": [
    "from sympy import latex\n",
    "from torch.utils.data import DataLoader\n",
    "\n",
    "def get_model(g, h, message_passing=True, include_time=False, atol=1e-5, rtol=1e-5, integration_method = 'scipy_solver'):\n",
    "    conv = MPNN(\n",
    "        g_net = g,\n",
    "        h_net = h, \n",
    "        message_passing=message_passing,\n",
    "        include_time=include_time\n",
    "    )\n",
    "    \n",
    "    symb = MPNN_ODE(\n",
    "        conv=conv,\n",
    "        model_path=\"./saved_models_optuna/tmp_symb\",\n",
    "        adjoint=True,\n",
    "        integration_method=integration_method,\n",
    "        atol=atol,\n",
    "        rtol=rtol\n",
    "    )\n",
    "    \n",
    "    symb = symb.eval()\n",
    "    return symb\n",
    "\n",
    "\n",
    "def get_symb_test_error(g_symb, h_symb, test_set, message_passing=False, include_time=False, atol=1e-5, rtol=1e-5, scaler = None, inverse_scale=False, method='scipy_solver'):\n",
    "    \n",
    "    # total_len = len(dataset)\n",
    "    # test_set = dataset[int(0.9*total_len):]\n",
    "    test_losses = []\n",
    "    \n",
    "    for ts in test_set:\n",
    "        symb = get_model(\n",
    "            g=g_symb,\n",
    "            h=h_symb,\n",
    "            message_passing=message_passing,\n",
    "            include_time=include_time,\n",
    "            atol=atol,\n",
    "            rtol=rtol,\n",
    "            integration_method=method\n",
    "        )\n",
    "        \n",
    "        collate_fn = lambda samples_list: samples_list\n",
    "        test_loader = DataLoader(ts, batch_size=len(ts), shuffle=True, collate_fn=collate_fn)\n",
    "        \n",
    "        test_loss = eval_model(\n",
    "            model=symb,\n",
    "            valid_loader=test_loader,\n",
    "            criterion=torch.nn.L1Loss(),\n",
    "            scaler=scaler,\n",
    "            inverse_scale=inverse_scale,\n",
    "            pred_deriv=False\n",
    "        )\n",
    "        \n",
    "        test_losses.append(test_loss)\n",
    "    \n",
    "    return test_losses\n",
    "\n",
    "\n",
    "\n",
    "def get_test_set(dynamics, device='cuda', input_range=(0, 1), t_span = (0, 1), **integration_kwargs):\n",
    "    seeds = [12345, 67890, 111213]\n",
    "    \n",
    "    graphs = [\n",
    "        nx.barabasi_albert_graph(70, 3, seed=seeds[0]),      \n",
    "        nx.watts_strogatz_graph(50, 6, 0.3, seed=seeds[1]),  \n",
    "        nx.erdos_renyi_graph(100, 0.05, seed=seeds[2])        \n",
    "    ]\n",
    "    \n",
    "    test_set = []\n",
    "    for i, graph in enumerate(graphs):\n",
    "        snapshots = integrate_test_set(\n",
    "            graph=graph,\n",
    "            dynamics=dynamics,\n",
    "            seed=seeds[i],\n",
    "            device=device,\n",
    "            input_range=input_range,\n",
    "            t_span=t_span,\n",
    "            **integration_kwargs\n",
    "        )\n",
    "        test_set.append(snapshots)\n",
    "    \n",
    "    return test_set\n",
    "    \n",
    "\n",
    "\n",
    "def integrate_test_set(graph, dynamics, seed=12345, device='cuda', input_range = (0, 1), t_span = (0, 1), **integration_kwargs):\n",
    "    # graph = nx.barabasi_albert_graph(100, 3, seed=seed)\n",
    "    edge_index = from_networkx(graph).edge_index\n",
    "    edge_index = edge_index.to(torch.device(device))\n",
    "    rng = np.random.default_rng(seed=seed)\n",
    "    \n",
    "    data, t = integrate(\n",
    "        input_range=input_range,\n",
    "        t_span = t_span,\n",
    "        t_eval_steps=300,\n",
    "        dynamics=dynamics,\n",
    "        device=device,\n",
    "        graph=graph,\n",
    "        rng = rng,\n",
    "        **integration_kwargs\n",
    "    )\n",
    "    \n",
    "    snapshot = Data(\n",
    "        x = data[0].unsqueeze(0),\n",
    "        y = data[1:],\n",
    "        edge_index=edge_index,\n",
    "        edge_attr=None,\n",
    "        t_span = t\n",
    "    )\n",
    "    \n",
    "    return [snapshot]\n",
    "\n",
    "\n",
    "def build_model_from_file(model_path, message_passing, include_time, method='dopri5', adjoint=False, atol=1e-5, rtol=1e-5):\n",
    "    best_params_file = f\"{model_path}/best_params.json\"\n",
    "    best_state_path = f\"{model_path}/gkan/state_dict.pth\"\n",
    "    \n",
    "    with open(best_params_file, 'r') as f:\n",
    "        best_hyperparams = json.load(f)\n",
    "    \n",
    "    # g_net\n",
    "    g_net = KAN(\n",
    "        layers_hidden=[2, best_hyperparams['hidden_dim_g_net'], 1],\n",
    "        grid_size=best_hyperparams['grid_size_g_net'],\n",
    "        spline_order=best_hyperparams['spline_order_g_net'],\n",
    "        grid_range=[-best_hyperparams['range_limit_g_net'], best_hyperparams['range_limit_g_net']],\n",
    "        mu_1=best_hyperparams['mu_1_g_net'],\n",
    "        mu_2=best_hyperparams['mu_2_g_net'],\n",
    "        device='cuda',\n",
    "        compute_mult=True,\n",
    "        store_act=True\n",
    "    )\n",
    "    \n",
    "    time_dim = 1 if include_time else 0\n",
    "    in_dim_h = 2 if message_passing else 1\n",
    "    in_dim_h += time_dim\n",
    "    \n",
    "    # h_net\n",
    "    h_net = KAN(\n",
    "        layers_hidden=[in_dim_h, best_hyperparams['hidden_dim_h_net'], 1],\n",
    "        grid_size=best_hyperparams['grid_size_h_net'],\n",
    "        spline_order=best_hyperparams['spline_order_h_net'],\n",
    "        grid_range=[-best_hyperparams['range_limit_h_net'], best_hyperparams['range_limit_h_net']],\n",
    "        mu_1=best_hyperparams['mu_1_h_net'],\n",
    "        mu_2=best_hyperparams['mu_2_h_net'],\n",
    "        device='cuda',\n",
    "        compute_mult=True,\n",
    "        store_act=True\n",
    "    )\n",
    "    \n",
    "    gkan = MPNN(\n",
    "        h_net=h_net,\n",
    "        g_net=g_net,\n",
    "        message_passing=message_passing,\n",
    "        include_time=include_time\n",
    "    )\n",
    "    \n",
    "    model = GKAN_ODE(\n",
    "        conv=gkan,\n",
    "        model_path='./saved_models_optuna/tmp',\n",
    "        lmbd_g=best_hyperparams['lamb_g_net'],\n",
    "        lmbd_h=best_hyperparams['lamb_h_net'],\n",
    "        integration_method=method,\n",
    "        adjoint=adjoint,\n",
    "        atol=atol,\n",
    "        rtol=rtol\n",
    "    )\n",
    "    \n",
    "    model = model.to(torch.device('cuda'))\n",
    "    model.load_state_dict(torch.load(best_state_path, weights_only=False, map_location=torch.device('cuda')))\n",
    "    \n",
    "    return model\n",
    "\n",
    "\n",
    "def post_process_gkan(\n",
    "    g_symb, \n",
    "    h_symb, \n",
    "    model_path, \n",
    "    test_set, \n",
    "    message_passing=False, \n",
    "    include_time=False,\n",
    "    atol=1e-5,\n",
    "    rtol=1e-5,\n",
    "    method='dopri5',\n",
    "    scaler=None,\n",
    "    inverse_scale=False,\n",
    "    adjoint=True\n",
    "):\n",
    "    test_losses_symb = get_symb_test_error(\n",
    "        g_symb=g_symb,\n",
    "        h_symb=h_symb,\n",
    "        test_set=test_set,\n",
    "        message_passing=message_passing,\n",
    "        include_time=include_time,\n",
    "        atol=atol,\n",
    "        rtol=rtol,\n",
    "        method=method,\n",
    "        scaler=scaler,\n",
    "        inverse_scale=inverse_scale\n",
    "    )\n",
    "\n",
    "    ts_mean = np.mean(test_losses_symb)\n",
    "    ts_var = np.var(test_losses_symb)\n",
    "    ts_std = np.std(test_losses_symb)\n",
    "    \n",
    "    print(f\"Mean Test loss of symbolic formula: {ts_mean}\")\n",
    "    print(f\"Var Test loss of symbolic formula: {ts_var}\")\n",
    "    print(f\"Std Test loss of symbolic formula: {ts_std}\")\n",
    "    \n",
    "    # Loading best model\n",
    "    best_model = build_model_from_file(\n",
    "        model_path=model_path,\n",
    "        message_passing=message_passing,\n",
    "        include_time=include_time,\n",
    "        method=method,\n",
    "        adjoint=adjoint,\n",
    "        atol=atol,\n",
    "        rtol=rtol\n",
    "    )\n",
    "    \n",
    "    print()\n",
    "    \n",
    "    tot_params = sum(p.numel() for p in best_model.parameters() if p.requires_grad)\n",
    "    print(f\"Number of model's parameters: {tot_params}\")\n",
    "    \n",
    "    best_model = best_model.eval()\n",
    "    test_losses_model = get_symb_test_error(\n",
    "        g_symb=best_model.conv.model.g_net,\n",
    "        h_symb=best_model.conv.model.h_net,\n",
    "        test_set=test_set,\n",
    "        message_passing=message_passing,\n",
    "        include_time=include_time,\n",
    "        atol=atol,\n",
    "        rtol=rtol,\n",
    "        method=method,\n",
    "        scaler=scaler,\n",
    "        inverse_scale=inverse_scale\n",
    "    )\n",
    "    \n",
    "    ts_mean = np.mean(test_losses_model)\n",
    "    ts_var = np.var(test_losses_model)\n",
    "    ts_std = np.std(test_losses_model)\n",
    "    \n",
    "    print()\n",
    "    \n",
    "    print(f\"Mean Test loss of best model: {ts_mean}\")\n",
    "    print(f\"Var Test loss of best model: {ts_var}\")\n",
    "    print(f\"Std Test loss of best model: {ts_std}\")\n",
    "\n",
    "    # y_true = test_set[0].y.detach().cpu().numpy()\n",
    "    # y_pred = best_model(snapshot = test_set[0]).detach().cpu().numpy()\n",
    "    \n",
    "    # return y_true, y_pred\n",
    "\n",
    "\n",
    "def make_callable(expr):\n",
    "    free_syms = expr.free_symbols\n",
    "    if not free_syms:\n",
    "        # Expression is constant\n",
    "        const_value = float(expr)\n",
    "        return lambda x: torch.full((x.shape[0], 1), const_value, dtype=x.dtype, device=x.device)\n",
    "\n",
    "    sym_module = sympytorch.SymPyModule(expressions=[expr])\n",
    "    syms = {str(s) for s in free_syms}\n",
    "    if {'x_i', 'x_j'} <= syms:\n",
    "        return lambda x: sym_module(x_i=x[:, 0], x_j=x[:, 1])\n",
    "    elif 'x_i' in syms:\n",
    "        return lambda x: sym_module(x_i=x[:, 0])\n",
    "    elif 'x_j' in syms:\n",
    "        return lambda x: sym_module(x_j=x[:, 1])\n",
    "    else:\n",
    "        raise ValueError(f\"Unexpected symbols in expression: {free_syms}\")\n",
    "\n",
    "\n",
    "def get_error_spline_wise(model_path, test_set, theta=0.1, atol=1e-5, rtol=1e-5, sample_size=10000, seed=42,\n",
    "                          n_h_hidden_layers = 2, n_g_hidden_layers=2, sort_by='score'):\n",
    "    \n",
    "    symb_spline_wise, symb_g, symb_h = fit_model(\n",
    "        n_h_hidden_layers=n_h_hidden_layers,\n",
    "        n_g_hidden_layers=n_g_hidden_layers,\n",
    "        model_path=model_path,\n",
    "        theta=theta,\n",
    "        message_passing=False,\n",
    "        include_time=False,\n",
    "        sample_size=sample_size,\n",
    "        seed=seed,\n",
    "        sort_by=sort_by\n",
    "    )\n",
    "    print(symb_spline_wise)\n",
    "    # print(latex(quantise(symb_spline_wise)))\n",
    "        \n",
    "    if isinstance(symb_g, int):\n",
    "        symb_g = sp.sympify(symb_g)\n",
    "        \n",
    "    if isinstance(symb_h, int):\n",
    "        symb_h = sp.sympify(symb_h)\n",
    "    \n",
    "    g_symb = make_callable(symb_g)\n",
    "    h_symb = make_callable(symb_h)\n",
    "    \n",
    "    test_losses_splinewise = get_symb_test_error(\n",
    "        g_symb=g_symb,\n",
    "        h_symb=h_symb,\n",
    "        test_set=test_set,\n",
    "        message_passing=False,\n",
    "        include_time=False,\n",
    "        method=\"dopri5\",\n",
    "        atol=atol,\n",
    "        rtol=rtol\n",
    "    )\n",
    "    \n",
    "    # symb_model = get_model(\n",
    "    #     g=g_symb,\n",
    "    #     h=h_symb,\n",
    "    #     message_passing=False,\n",
    "    #     include_time=False,\n",
    "    #     atol=atol,\n",
    "    #     rtol=rtol,\n",
    "    #     integration_method=\"dopri5\"\n",
    "    # )\n",
    "    \n",
    "    ts_mean = np.mean(test_losses_splinewise)\n",
    "    ts_var = np.var(test_losses_splinewise)\n",
    "    ts_std = np.std(test_losses_splinewise)\n",
    "    \n",
    "    print(f\"Mean Test loss of symbolic formula: {ts_mean}\")\n",
    "    print(f\"Var Test loss of symbolic formula: {ts_var}\")\n",
    "    print(f\"Std Test loss of symbolic formula: {ts_std}\")\n",
    "    \n",
    "    return symb_spline_wise\n",
    "\n",
    "\n",
    "def plot_predictions(y_true, y_pred, node_index = 0):\n",
    "    plt.figure(figsize=(16, 8))\n",
    "    plt.plot(y_true[:, node_index, :], label='y_true', marker='o')\n",
    "    plt.plot(y_pred[:, node_index, :], label='y_pred', marker='o')\n",
    "    plt.xlabel('Time step')\n",
    "    plt.ylabel('Value')\n",
    "    plt.title(f'y_true vs y_pred for Node {node_index}')\n",
    "    plt.legend()\n",
    "    plt.grid(True)\n",
    "    plt.tight_layout()\n",
    "    plt.show()\n"
   ]
  },
  {
   "cell_type": "markdown",
   "metadata": {},
   "source": [
    "## LB losses\n"
   ]
  },
  {
   "cell_type": "markdown",
   "metadata": {},
   "source": [
    "### Kuramoto"
   ]
  },
  {
   "cell_type": "code",
   "execution_count": 17,
   "metadata": {},
   "outputs": [
    {
     "name": "stdout",
     "output_type": "stream",
     "text": [
      "Mean Test loss of symbolic formula: 1.352664670169664e-05\n",
      "Var Test loss of symbolic formula: 1.3517513389612395e-13\n",
      "Std Test loss of symbolic formula: 3.676617112185112e-07\n"
     ]
    }
   ],
   "source": [
    "kur_config = load_config(\"./configs/config_pred_deriv/config_ic1/config_kuramoto.yml\")\n",
    "\n",
    "KUR = get_test_set(\n",
    "    dynamics=kur_config['name'],\n",
    "    device='cuda',\n",
    "    input_range=kur_config['input_range'],\n",
    "    **kur_config['integration_kwargs']    \n",
    ")\n",
    "\n",
    "g_symb = lambda x: torch.sin(x[:, 1] - x[:, 0]).unsqueeze(-1)\n",
    "h_symb = lambda x: 2.0 + 0.5 * x[:, 1].unsqueeze(-1)\n",
    "\n",
    "test_losses = get_symb_test_error(\n",
    "    g_symb=g_symb,\n",
    "    h_symb=h_symb,\n",
    "    test_set=KUR,\n",
    "    message_passing=True,\n",
    "    include_time=False\n",
    ")\n",
    "\n",
    "ts_mean = np.mean(test_losses)\n",
    "ts_var = np.var(test_losses)\n",
    "ts_std = np.std(test_losses)\n",
    "\n",
    "print(f\"Mean Test loss of symbolic formula: {ts_mean}\")\n",
    "print(f\"Var Test loss of symbolic formula: {ts_var}\")\n",
    "print(f\"Std Test loss of symbolic formula: {ts_std}\")\n",
    "\n"
   ]
  },
  {
   "cell_type": "markdown",
   "metadata": {},
   "source": [
    "### Epidemics"
   ]
  },
  {
   "cell_type": "code",
   "execution_count": 18,
   "metadata": {},
   "outputs": [
    {
     "name": "stdout",
     "output_type": "stream",
     "text": [
      "Mean Test loss of symbolic formula: 1.0729370387707604e-06\n",
      "Var Test loss of symbolic formula: 8.017524161241833e-14\n",
      "Std Test loss of symbolic formula: 2.831523293430911e-07\n"
     ]
    }
   ],
   "source": [
    "epid_config = load_config(\"./configs/config_pred_deriv/config_ic1/config_epidemics.yml\")\n",
    "\n",
    "EPID = get_test_set(\n",
    "    dynamics=epid_config['name'],\n",
    "    device='cuda',\n",
    "    input_range=epid_config['input_range'],\n",
    "    **epid_config['integration_kwargs']    \n",
    ")\n",
    "\n",
    "g_symb = lambda x: 0.5*x[:, 1].unsqueeze(-1) * (1 - x[:, 0].unsqueeze(-1))\n",
    "h_symb = lambda x: x[:, 1].unsqueeze(1) - 0.5 * x[:, 0].unsqueeze(-1)\n",
    "\n",
    "test_losses = get_symb_test_error(\n",
    "    g_symb=g_symb,\n",
    "    h_symb=h_symb,\n",
    "    test_set=EPID,\n",
    "    message_passing=True,\n",
    "    include_time=False\n",
    ")\n",
    "\n",
    "\n",
    "ts_mean = np.mean(test_losses)\n",
    "ts_var = np.var(test_losses)\n",
    "ts_std = np.std(test_losses)\n",
    "\n",
    "print(f\"Mean Test loss of symbolic formula: {ts_mean}\")\n",
    "print(f\"Var Test loss of symbolic formula: {ts_var}\")\n",
    "print(f\"Std Test loss of symbolic formula: {ts_std}\")\n"
   ]
  },
  {
   "cell_type": "markdown",
   "metadata": {},
   "source": [
    "### Population"
   ]
  },
  {
   "cell_type": "code",
   "execution_count": 19,
   "metadata": {},
   "outputs": [
    {
     "name": "stdout",
     "output_type": "stream",
     "text": [
      "Mean Test loss of symbolic formula: 3.740968168131076e-06\n",
      "Var Test loss of symbolic formula: 4.763240197448409e-13\n",
      "Std Test loss of symbolic formula: 6.901623140572375e-07\n"
     ]
    }
   ],
   "source": [
    "pop_config = load_config(\"./configs/config_pred_deriv/config_ic1/config_population.yml\")\n",
    "\n",
    "POP = get_test_set(\n",
    "    dynamics=pop_config['name'],\n",
    "    device='cuda',\n",
    "    input_range=pop_config['input_range'],\n",
    "    **pop_config['integration_kwargs']    \n",
    ")\n",
    "\n",
    "g_symb = lambda x: 0.2*torch.pow(x[:, 1].unsqueeze(-1), 3)\n",
    "h_symb = lambda x: -0.5 * x[:, 0].unsqueeze(-1) + x[:, 1].unsqueeze(1) \n",
    "\n",
    "test_losses = get_symb_test_error(\n",
    "    g_symb=g_symb,\n",
    "    h_symb=h_symb,\n",
    "    test_set=POP,\n",
    "    message_passing=True,\n",
    "    include_time=False\n",
    ")\n",
    "\n",
    "ts_mean = np.mean(test_losses)\n",
    "ts_var = np.var(test_losses)\n",
    "ts_std = np.std(test_losses)\n",
    "\n",
    "print(f\"Mean Test loss of symbolic formula: {ts_mean}\")\n",
    "print(f\"Var Test loss of symbolic formula: {ts_var}\")\n",
    "print(f\"Std Test loss of symbolic formula: {ts_std}\")\n"
   ]
  },
  {
   "cell_type": "markdown",
   "metadata": {},
   "source": [
    "### Biochemical"
   ]
  },
  {
   "cell_type": "code",
   "execution_count": 20,
   "metadata": {},
   "outputs": [
    {
     "name": "stdout",
     "output_type": "stream",
     "text": [
      "Mean Test loss of symbolic formula: 1.2020226639227378e-06\n",
      "Var Test loss of symbolic formula: 7.199001650861301e-14\n",
      "Std Test loss of symbolic formula: 2.683095535172257e-07\n"
     ]
    }
   ],
   "source": [
    "bio_config = load_config(\"./configs/config_pred_deriv/config_ic1/config_biochemical.yml\")\n",
    "\n",
    "BIO = get_test_set(\n",
    "    dynamics=bio_config['name'],\n",
    "    device='cuda',\n",
    "    input_range=bio_config['input_range'],\n",
    "    **bio_config['integration_kwargs']    \n",
    ")\n",
    "\n",
    "g_symb = lambda x: (-0.5*x[:, 1] * x[:, 0]).unsqueeze(-1)\n",
    "h_symb = lambda x: (1.0 - 0.5 * x[:, 0]).unsqueeze(-1)  + x[:, 1].unsqueeze(-1) \n",
    "\n",
    "test_losses = get_symb_test_error(\n",
    "    g_symb=g_symb,\n",
    "    h_symb=h_symb,\n",
    "    test_set=BIO,\n",
    "    message_passing=True,\n",
    "    include_time=False\n",
    ")\n",
    "\n",
    "ts_mean = np.mean(test_losses)\n",
    "ts_var = np.var(test_losses)\n",
    "ts_std = np.std(test_losses)\n",
    "\n",
    "print(f\"Mean Test loss of symbolic formula: {ts_mean}\")\n",
    "print(f\"Var Test loss of symbolic formula: {ts_var}\")\n",
    "print(f\"Std Test loss of symbolic formula: {ts_std}\")\n"
   ]
  },
  {
   "cell_type": "markdown",
   "metadata": {},
   "source": [
    "## Symb Reg"
   ]
  },
  {
   "cell_type": "markdown",
   "metadata": {},
   "source": [
    "### Biochemical\n"
   ]
  },
  {
   "cell_type": "markdown",
   "metadata": {},
   "source": [
    "#### IC=1"
   ]
  },
  {
   "cell_type": "code",
   "execution_count": 21,
   "metadata": {},
   "outputs": [
    {
     "name": "stdout",
     "output_type": "stream",
     "text": [
      "Fitting G_Net...\n",
      "Execution time: 40.632179 seconds\n",
      "Fitting H_Net...\n",
      "Execution time: 26.607414 seconds\n"
     ]
    }
   ],
   "source": [
    "model_path_gkan = \"./saved_models_optuna/model-biochemical-gkan/biochemical_gkan_ic1_s5_pd_mult_12/0/gkan\"\n",
    "\n",
    "pysr_model = lambda : get_pysr_model(\n",
    "    model_selection=\"score\",\n",
    "    n_iterations=200\n",
    ")\n",
    "\n",
    "gkan_symb, symb_g, symb_h = fit_black_box_from_kan(\n",
    "    n_g_hidden_layers=2,\n",
    "    n_h_hidden_layers=2,\n",
    "    device='cuda',\n",
    "    model_path=model_path_gkan,\n",
    "    pysr_model=pysr_model,\n",
    "    sample_size=10000,\n",
    "    theta=-np.inf,\n",
    "    message_passing=False\n",
    ")"
   ]
  },
  {
   "cell_type": "code",
   "execution_count": 22,
   "metadata": {},
   "outputs": [
    {
     "data": {
      "text/latex": [
       "$\\displaystyle \\sum_{j}( -0.49989304*x_i*x_j) - 0.5006705 x_{i} + 1.0002961$"
      ],
      "text/plain": [
       "\\sum_{j}( -0.49989304*x_i*x_j) - 0.5006705*x_i + 1.0002961"
      ]
     },
     "execution_count": 22,
     "metadata": {},
     "output_type": "execute_result"
    }
   ],
   "source": [
    "gkan_symb"
   ]
  },
  {
   "cell_type": "code",
   "execution_count": 23,
   "metadata": {},
   "outputs": [
    {
     "name": "stdout",
     "output_type": "stream",
     "text": [
      "Mean Test loss of symbolic formula: 3.353227778764752e-05\n",
      "Var Test loss of symbolic formula: 3.6287748546308483e-12\n",
      "Std Test loss of symbolic formula: 1.9049343439160438e-06\n",
      "\n",
      "Number of model's parameters: 280\n",
      "\n",
      "Mean Test loss of best model: 3.5303641804299936e-05\n",
      "Var Test loss of best model: 1.9453725896936992e-11\n",
      "Std Test loss of best model: 4.41063781067285e-06\n"
     ]
    }
   ],
   "source": [
    "g_symb = make_callable(symb_g)\n",
    "h_symb = make_callable(symb_h)\n",
    "\n",
    "post_process_gkan(\n",
    "    g_symb=g_symb,\n",
    "    h_symb=h_symb,\n",
    "    model_path='./saved_models_optuna/model-biochemical-gkan/biochemical_gkan_ic1_s5_pd_mult_12/0',\n",
    "    test_set=BIO,\n",
    "    message_passing=False,\n",
    "    include_time=False,\n",
    "    method='dopri5'\n",
    ")"
   ]
  },
  {
   "cell_type": "code",
   "execution_count": 24,
   "metadata": {},
   "outputs": [
    {
     "name": "stdout",
     "output_type": "stream",
     "text": [
      "Fitting G_Net...\n",
      "Execution time: 27.370929 seconds\n",
      "\n",
      "Fitting H_Net...\n",
      "Execution time: 27.196197 seconds\n",
      "\\sum_{j}( -0.489696795*x_i*x_j + 0.00396463899999999*x_i + 0.009527175*x_j + 0.001861365) - 0.499829*x_i + 1.00231669819695\n",
      "Mean Test loss of symbolic formula: 0.01312450443704923\n",
      "Var Test loss of symbolic formula: 1.2424257713960202e-06\n",
      "Std Test loss of symbolic formula: 0.0011146415439036983\n"
     ]
    }
   ],
   "source": [
    "model_path_gkan = \"./saved_models_optuna/model-biochemical-gkan/biochemical_gkan_ic1_s5_pd_mult_12/0/gkan\"\n",
    "\n",
    "splie_wise = get_error_spline_wise(\n",
    "    model_path=model_path_gkan,\n",
    "    test_set=BIO,\n",
    "    theta=0.1,\n",
    "    n_h_hidden_layers=2,\n",
    "    n_g_hidden_layers=2\n",
    ")"
   ]
  },
  {
   "cell_type": "code",
   "execution_count": 25,
   "metadata": {},
   "outputs": [
    {
     "data": {
      "text/latex": [
       "$\\displaystyle \\sum_{j}(-0.49*x_i*x_j + 0.01*x_j) - 0.5 x_{i} + 1.0$"
      ],
      "text/plain": [
       "\\sum_{j}(-0.49*x_i*x_j + 0.01*x_j) - 0.5*x_i + 1.0"
      ]
     },
     "execution_count": 25,
     "metadata": {},
     "output_type": "execute_result"
    }
   ],
   "source": [
    "quantise(splie_wise)"
   ]
  },
  {
   "cell_type": "code",
   "execution_count": 26,
   "metadata": {},
   "outputs": [
    {
     "name": "stdout",
     "output_type": "stream",
     "text": [
      "Fitting G_Net...\n"
     ]
    },
    {
     "name": "stdout",
     "output_type": "stream",
     "text": [
      "Execution time: 59.955500 seconds\n",
      "\n",
      "Fitting H_Net...\n",
      "Execution time: 55.889033 seconds\n",
      "\\sum_{j}( -0.516187296*x_i*x_j + 0.00621972*x_i + 0.00802812*x_j - 0.0036254) + 0.136112788*x_i**2 - 0.648508088*x_i + 1.034861972\n",
      "Mean Test loss of symbolic formula: 0.0016010809534539778\n",
      "Var Test loss of symbolic formula: 4.4943979235184e-10\n",
      "Std Test loss of symbolic formula: 2.119999510263717e-05\n"
     ]
    }
   ],
   "source": [
    "model_path_gkan = \"./saved_models_optuna/model-biochemical-gkan/biochemical_gkan_ic1_s5_pd_mult_16/0/gkan\"\n",
    "\n",
    "splie_wise = get_error_spline_wise(\n",
    "    model_path=model_path_gkan,\n",
    "    test_set=BIO,\n",
    "    theta=0.1,\n",
    "    n_h_hidden_layers=2,\n",
    "    n_g_hidden_layers=2,\n",
    "    sample_size=30000,\n",
    ")"
   ]
  },
  {
   "cell_type": "code",
   "execution_count": 27,
   "metadata": {},
   "outputs": [
    {
     "data": {
      "text/latex": [
       "$\\displaystyle \\sum_{j}(-0.52*x_i*x_j + 0.01*x_i + 0.01*x_j) + 0.14 x_{i}^{2} - 0.65 x_{i} + 1.03$"
      ],
      "text/plain": [
       "\\sum_{j}(-0.52*x_i*x_j + 0.01*x_i + 0.01*x_j) + 0.14*x_i**2 - 0.65*x_i + 1.03"
      ]
     },
     "execution_count": 27,
     "metadata": {},
     "output_type": "execute_result"
    }
   ],
   "source": [
    "quantise(splie_wise)"
   ]
  },
  {
   "cell_type": "markdown",
   "metadata": {},
   "source": [
    "#### SNR"
   ]
  },
  {
   "cell_type": "code",
   "execution_count": 28,
   "metadata": {},
   "outputs": [
    {
     "name": "stdout",
     "output_type": "stream",
     "text": [
      "./saved_models_optuna/model-biochemical-gkan/biochemical_gkan_ic1_s5_pd_mult_noise_70db_2/0\n",
      "Fitting G_Net...\n",
      "Execution time: 30.353003 seconds\n",
      "Fitting H_Net...\n",
      "Execution time: 43.999195 seconds\n",
      "\n",
      "\\sum_{j}( -0.49755025*x_i*x_j) + log(2.6254972 - x_i)\n",
      "Mean Test loss of symbolic formula: 0.0016831848382328947\n",
      "Var Test loss of symbolic formula: 3.0808843855568743e-09\n",
      "Std Test loss of symbolic formula: 5.550571489096302e-05\n",
      "\n",
      "Number of model's parameters: 287\n",
      "\n",
      "Mean Test loss of best model: 0.0009035245166160166\n",
      "Var Test loss of best model: 1.1097949536221683e-08\n",
      "Std Test loss of best model: 0.00010534680600863836\n",
      "\n",
      "Spline-Wise:\n",
      "Pruning node (0,0)\n",
      "Fitting G_Net...\n",
      "Execution time: 17.684135 seconds\n",
      "\n",
      "Fitting H_Net...\n",
      "Execution time: 24.590769 seconds\n",
      "\\sum_{j}( -0.36541666*x_i*x_j - 0.0502024*x_i - 0.05289956*x_j + 0.0205396) - 0.508158*x_i + 1.005116\n",
      "Mean Test loss of symbolic formula: 0.0039607267050693435\n",
      "Var Test loss of symbolic formula: 3.1886049199279606e-07\n",
      "Std Test loss of symbolic formula: 0.0005646773344068239\n",
      "\\sum_{j}(-0.37*x_i*x_j - 0.05*x_i - 0.05*x_j + 0.02) - 0.51*x_i + 1.01\n",
      "./saved_models_optuna/model-biochemical-gkan/biochemical_gkan_ic1_s5_pd_mult_noise_50db_2/0\n",
      "Fitting G_Net...\n",
      "Execution time: 39.029080 seconds\n",
      "Fitting H_Net...\n",
      "Execution time: 45.245473 seconds\n",
      "\n",
      "\\sum_{j}( -0.49393094697182*x_i*x_j) - sin(0.5455377*x_i) + 1.0355014\n",
      "Mean Test loss of symbolic formula: 0.005430559782932202\n",
      "Var Test loss of symbolic formula: 3.8446406669293765e-09\n",
      "Std Test loss of symbolic formula: 6.200516645352528e-05\n",
      "\n",
      "Number of model's parameters: 88\n",
      "\n",
      "Mean Test loss of best model: 0.007508366368710995\n",
      "Var Test loss of best model: 1.6808711285557175e-06\n",
      "Std Test loss of best model: 0.0012964841412665708\n",
      "\n",
      "Spline-Wise:\n",
      "Fitting G_Net...\n",
      "Execution time: 11.258270 seconds\n",
      "\n",
      "Fitting H_Net...\n",
      "Execution time: 8.116174 seconds\n",
      "\\sum_{j}( -0.20488*x_i - 0.19638) - 0.518736*x_i + 1.026848\n",
      "Mean Test loss of symbolic formula: 0.2892500658830007\n",
      "Var Test loss of symbolic formula: 0.00026308742247632076\n",
      "Std Test loss of symbolic formula: 0.016219969866689665\n",
      "\\sum_{j}(-0.2*x_i - 0.2) - 0.52*x_i + 1.03\n",
      "./saved_models_optuna/model-biochemical-gkan/biochemical_gkan_ic1_s5_pd_mult_noise_20db_2/0\n",
      "Fitting G_Net...\n",
      "Execution time: 58.034229 seconds\n",
      "Fitting H_Net...\n",
      "Execution time: 36.689453 seconds\n",
      "\n",
      "\\sum_{j}( -0.084537886*tanh(2.40654958835007*x_j)) + (x_i**9 - 0.6914832)**2\n",
      "Mean Test loss of symbolic formula: 0.09776206314563751\n",
      "Var Test loss of symbolic formula: 5.337067275338706e-05\n",
      "Std Test loss of symbolic formula: 0.007305523441437106\n",
      "\n",
      "Number of model's parameters: 408\n",
      "\n",
      "Mean Test loss of best model: 0.1247529536485672\n",
      "Var Test loss of best model: 9.560715806315272e-05\n",
      "Std Test loss of best model: 0.009777891289186678\n",
      "\n",
      "Spline-Wise:\n",
      "Pruning node (0,1)\n",
      "Pruning node (0,2)\n",
      "Pruning node (0,3)\n",
      "Fitting G_Net...\n",
      "Execution time: 7.375492 seconds\n",
      "\n",
      "Pruning node (0,1)\n",
      "Pruning node (0,2)\n",
      "Pruning node (0,3)\n",
      "Pruning node (0,4)\n",
      "Fitting H_Net...\n",
      "Execution time: 5.556713 seconds\n",
      "\\sum_{j}( -0.00100000000000000) - 0.0783170275391496*exp(3.114936*sin(4.113*x_i - 2.639)) + 1.483*tanh(79.608936*x_i**3 - 129.376852*x_i**2 + 75.367072*x_i - 25.889693) + 2.13\n",
      "Mean Test loss of symbolic formula: 0.1524288554986318\n",
      "Var Test loss of symbolic formula: 0.00043119629775898203\n",
      "Std Test loss of symbolic formula: 0.0207652666190199\n",
      "\\sum_{j}(0.0) - 0.08*exp(3.11*sin(4.11*x_i - 2.64)) + 1.48*tanh(79.61*x_i**3 - 129.38*x_i**2 + 75.37*x_i - 25.89) + 2.13\n"
     ]
    }
   ],
   "source": [
    "model_paths_gkan = [\n",
    "    \"./saved_models_optuna/model-biochemical-gkan/biochemical_gkan_ic1_s5_pd_mult_noise_70db_2/0\",\n",
    "    \"./saved_models_optuna/model-biochemical-gkan/biochemical_gkan_ic1_s5_pd_mult_noise_50db_2/0\",\n",
    "    \"./saved_models_optuna/model-biochemical-gkan/biochemical_gkan_ic1_s5_pd_mult_noise_20db_2/0\"\n",
    "]\n",
    "\n",
    "for model_path in model_paths_gkan:\n",
    "    print(model_path)\n",
    "    pysr_model = lambda : get_pysr_model(\n",
    "        model_selection=\"score\",\n",
    "        n_iterations=200\n",
    "    )\n",
    "\n",
    "    gkan_symb, symb_g, symb_h = fit_black_box_from_kan(\n",
    "        n_g_hidden_layers=2,\n",
    "        n_h_hidden_layers=2,\n",
    "        device='cuda',\n",
    "        model_path=f\"{model_path}/gkan\",\n",
    "        pysr_model=pysr_model,\n",
    "        sample_size=10000,\n",
    "        theta=-np.inf,\n",
    "        message_passing=False\n",
    "    )\n",
    "    print()\n",
    "    print(str(gkan_symb))\n",
    "    \n",
    "    g_symb = make_callable(symb_g)\n",
    "    h_symb = make_callable(symb_h)\n",
    "\n",
    "    post_process_gkan(\n",
    "        g_symb=g_symb,\n",
    "        h_symb=h_symb,\n",
    "        model_path=model_path,\n",
    "        test_set=BIO,\n",
    "        message_passing=False,\n",
    "        include_time=False,\n",
    "        method='dopri5'\n",
    "    )\n",
    "    print()\n",
    "    print(\"Spline-Wise:\")\n",
    "    \n",
    "    spline_wise = get_error_spline_wise(\n",
    "        model_path=f\"{model_path}/gkan\",\n",
    "        test_set=BIO,\n",
    "        theta=0.1,\n",
    "        n_h_hidden_layers=2,\n",
    "        n_g_hidden_layers=2\n",
    "    )\n",
    "    print(str(quantise(spline_wise)))\n"
   ]
  },
  {
   "cell_type": "markdown",
   "metadata": {},
   "source": [
    "### Kuramoto"
   ]
  },
  {
   "cell_type": "markdown",
   "metadata": {},
   "source": [
    "#### IC=1"
   ]
  },
  {
   "cell_type": "code",
   "execution_count": 29,
   "metadata": {},
   "outputs": [
    {
     "name": "stdout",
     "output_type": "stream",
     "text": [
      "Fitting G_Net...\n",
      "Execution time: 57.220600 seconds\n",
      "Fitting H_Net...\n",
      "Execution time: 60.101732 seconds\n"
     ]
    }
   ],
   "source": [
    "model_path_gkan = \"./saved_models_optuna/model-kuramoto-gkan/kuramoto_gkan_ic1_s5_pd_mult_12/0/gkan\"\n",
    "\n",
    "pysr_model = lambda : get_pysr_model(\n",
    "    model_selection=\"score\",\n",
    "    n_iterations=200\n",
    ")\n",
    "\n",
    "gkan_symb, symb_g, symb_h = fit_black_box_from_kan(\n",
    "    n_g_hidden_layers=2,\n",
    "    n_h_hidden_layers=2,\n",
    "    device='cuda',\n",
    "    model_path=model_path_gkan,\n",
    "    pysr_model=pysr_model,\n",
    "    sample_size=10000,\n",
    "    theta=-np.inf,\n",
    "    message_passing=False\n",
    ")"
   ]
  },
  {
   "cell_type": "code",
   "execution_count": 30,
   "metadata": {},
   "outputs": [
    {
     "data": {
      "text/latex": [
       "$\\displaystyle \\sum_{j}( -0.50057304*sin(x_i - x_j)) - 0.00083998445 \\tanh{\\left(x_{i} \\right)} + 2.0000844$"
      ],
      "text/plain": [
       "\\sum_{j}( -0.50057304*sin(x_i - x_j)) - 0.00083998445*tanh(x_i) + 2.0000844"
      ]
     },
     "execution_count": 30,
     "metadata": {},
     "output_type": "execute_result"
    }
   ],
   "source": [
    "gkan_symb"
   ]
  },
  {
   "cell_type": "code",
   "execution_count": 31,
   "metadata": {},
   "outputs": [
    {
     "name": "stdout",
     "output_type": "stream",
     "text": [
      "Mean Test loss of symbolic formula: 0.00048534209296728176\n",
      "Var Test loss of symbolic formula: 4.0890553067469863e-10\n",
      "Std Test loss of symbolic formula: 2.0221412677523266e-05\n",
      "\n",
      "Number of model's parameters: 543\n",
      "\n",
      "Mean Test loss of best model: 0.0016188209410756826\n",
      "Var Test loss of best model: 6.282351116937351e-07\n",
      "Std Test loss of best model: 0.0007926128384613355\n"
     ]
    }
   ],
   "source": [
    "g_symb = make_callable(symb_g)\n",
    "h_symb = make_callable(symb_h)\n",
    "\n",
    "post_process_gkan(\n",
    "    g_symb=g_symb,\n",
    "    h_symb=h_symb,\n",
    "    model_path='./saved_models_optuna/model-kuramoto-gkan/kuramoto_gkan_ic1_s5_pd_mult_12/0',\n",
    "    test_set=KUR,\n",
    "    message_passing=False,\n",
    "    include_time=False,\n",
    "    method='dopri5'\n",
    ")"
   ]
  },
  {
   "cell_type": "code",
   "execution_count": 32,
   "metadata": {},
   "outputs": [
    {
     "name": "stdout",
     "output_type": "stream",
     "text": [
      "Pruning node (0,0)\n",
      "Pruning node (0,1)\n",
      "Pruning node (0,3)\n",
      "Pruning node (0,4)\n",
      "Fitting G_Net...\n"
     ]
    },
    {
     "name": "stdout",
     "output_type": "stream",
     "text": [
      "Execution time: 7.930643 seconds\n",
      "\n",
      "Pruning node (0,0)\n",
      "Pruning node (0,1)\n",
      "Pruning node (0,3)\n",
      "Pruning node (0,4)\n",
      "Pruning node (0,5)\n",
      "Fitting H_Net...\n",
      "Execution time: 4.418379 seconds\n",
      "\\sum_{j}( -0.501*sin(-0.999518*x_i + 0.999518*x_j + 3.137487)) + 1.999\n",
      "Mean Test loss of symbolic formula: 0.0023045686539262533\n",
      "Var Test loss of symbolic formula: 2.083349899171215e-09\n",
      "Std Test loss of symbolic formula: 4.5643727928064935e-05\n"
     ]
    }
   ],
   "source": [
    "model_path_gkan = \"./saved_models_optuna/model-kuramoto-gkan/kuramoto_gkan_ic1_s5_pd_mult_12/0/gkan\"\n",
    "\n",
    "splie_wise = get_error_spline_wise(\n",
    "    model_path=model_path_gkan,\n",
    "    test_set=KUR,\n",
    "    theta=0.1,\n",
    "    n_g_hidden_layers=2,\n",
    "    n_h_hidden_layers=2\n",
    ")"
   ]
  },
  {
   "cell_type": "code",
   "execution_count": 33,
   "metadata": {},
   "outputs": [
    {
     "data": {
      "text/latex": [
       "$\\displaystyle \\sum_{j}(-0.5*sin(-1.0*x_i + 1.0*x_j + 3.14)) + 2.0$"
      ],
      "text/plain": [
       "\\sum_{j}(-0.5*sin(-1.0*x_i + 1.0*x_j + 3.14)) + 2.0"
      ]
     },
     "execution_count": 33,
     "metadata": {},
     "output_type": "execute_result"
    }
   ],
   "source": [
    "quantise(splie_wise)"
   ]
  },
  {
   "cell_type": "code",
   "execution_count": 34,
   "metadata": {},
   "outputs": [
    {
     "name": "stdout",
     "output_type": "stream",
     "text": [
      "Fitting G_Net...\n"
     ]
    },
    {
     "name": "stdout",
     "output_type": "stream",
     "text": [
      "Execution time: 18.207711 seconds\n",
      "\n",
      "Fitting H_Net...\n",
      "Execution time: 3.080902 seconds\n",
      "\\sum_{j}( 0.00780404168*x_i - 0.00780404168*x_j - 8.88773558082877e-5*(-x_i + x_j + 0.697884360863639)**2 + 0.488*cos(3.625056*cos(0.321563*x_i - 0.321563*x_j + 0.671051) - 4.410536) - 0.03644631864) + 1.21082027122742\n",
      "Mean Test loss of symbolic formula: 0.47987274328867596\n",
      "Var Test loss of symbolic formula: 0.0007959131792107696\n",
      "Std Test loss of symbolic formula: 0.028211933276731844\n"
     ]
    }
   ],
   "source": [
    "model_path_gkan = \"./saved_models_optuna/model-kuramoto-gkan/kuramoto_gkan_ic1_s5_pd_mult_16/0/gkan\"\n",
    "\n",
    "splie_wise = get_error_spline_wise(\n",
    "    model_path=model_path_gkan,\n",
    "    test_set=KUR,\n",
    "    theta=0.1,\n",
    "    n_g_hidden_layers=3,\n",
    "    n_h_hidden_layers=2\n",
    ")"
   ]
  },
  {
   "cell_type": "code",
   "execution_count": 35,
   "metadata": {},
   "outputs": [
    {
     "data": {
      "text/latex": [
       "$\\displaystyle \\sum_{j}(0.01*x_i - 0.01*x_j + 0.49*cos(3.63*cos(0.32*x_i - 0.32*x_j + 0.67) - 4.41) - 0.04) + 1.21$"
      ],
      "text/plain": [
       "\\sum_{j}(0.01*x_i - 0.01*x_j + 0.49*cos(3.63*cos(0.32*x_i - 0.32*x_j + 0.67) - 4.41) - 0.04) + 1.21"
      ]
     },
     "execution_count": 35,
     "metadata": {},
     "output_type": "execute_result"
    }
   ],
   "source": [
    "quantise(splie_wise)"
   ]
  },
  {
   "cell_type": "markdown",
   "metadata": {},
   "source": [
    "#### SNR"
   ]
  },
  {
   "cell_type": "code",
   "execution_count": 36,
   "metadata": {},
   "outputs": [
    {
     "name": "stdout",
     "output_type": "stream",
     "text": [
      "./saved_models_optuna/model-kuramoto-gkan/kuramoto_gkan_ic1_s5_pd_mult_noise_70db_2/0\n",
      "\n",
      "Fitting G_Net...\n",
      "Execution time: 54.587956 seconds\n",
      "Fitting H_Net...\n",
      "Execution time: 61.616291 seconds\n",
      "\\sum_{j}( -0.48908207*sin(x_i - x_j)) - 3.870909e-5*x_i + 2.0120368\n",
      "Mean Test loss of symbolic formula: 0.008413009655972322\n",
      "Var Test loss of symbolic formula: 1.6430587054824652e-07\n",
      "Std Test loss of symbolic formula: 0.0004053466054480369\n",
      "\n",
      "Number of model's parameters: 138\n",
      "\n",
      "Mean Test loss of best model: 0.03694612470765909\n",
      "Var Test loss of best model: 7.532399191586253e-05\n",
      "Std Test loss of best model: 0.00867893956171274\n",
      "\n",
      "Spline-Wise\n",
      "Pruning node (0,0)\n",
      "Pruning node (0,2)\n",
      "Fitting G_Net...\n",
      "Execution time: 7.290454 seconds\n",
      "\n",
      "Fitting H_Net...\n",
      "Execution time: 6.758115 seconds\n",
      "\\sum_{j}( 0.001 - 0.487*sin(0.99957*x_i - 1.014156*x_j + 0.10247)) + 2.012\n",
      "Mean Test loss of symbolic formula: 0.03401338681578636\n",
      "Var Test loss of symbolic formula: 4.086510505378153e-05\n",
      "Std Test loss of symbolic formula: 0.0063925820334025845\n",
      "\\sum_{j}(-0.49*sin(1.0*x_i - 1.01*x_j + 0.1)) + 2.01\n",
      "./saved_models_optuna/model-kuramoto-gkan/kuramoto_gkan_ic1_s5_pd_mult_noise_50db_2/0\n",
      "\n",
      "Fitting G_Net...\n",
      "Execution time: 50.389704 seconds\n",
      "Fitting H_Net...\n",
      "Execution time: 50.851796 seconds\n",
      "\\sum_{j}( -0.39610642*sin(x_i - x_j)) - Abs(sin(1.1408585*x_i)) + 2.5931315\n",
      "Mean Test loss of symbolic formula: 0.10514722267786662\n",
      "Var Test loss of symbolic formula: 4.712848313682806e-05\n",
      "Std Test loss of symbolic formula: 0.006865018800908564\n",
      "\n",
      "Number of model's parameters: 485\n",
      "\n",
      "Mean Test loss of best model: 0.157968208193779\n",
      "Var Test loss of best model: 0.0005142389875107215\n",
      "Std Test loss of best model: 0.022676838128599885\n",
      "\n",
      "Spline-Wise\n",
      "Pruning node (0,0)\n",
      "Pruning node (0,1)\n",
      "Pruning node (0,4)\n",
      "Fitting G_Net...\n",
      "Execution time: 10.103473 seconds\n",
      "\n",
      "Fitting H_Net...\n",
      "Execution time: 26.705088 seconds\n",
      "\\sum_{j}( 0.007 - 0.431*sin(0.891631*x_i - 0.952835*x_j + 0.343838)) + 0.006208*x_i + 0.20559*cos(1.224*x_i + 0.382) + 2.084133\n",
      "Mean Test loss of symbolic formula: 0.09356569250424702\n",
      "Var Test loss of symbolic formula: 7.545373584987797e-06\n",
      "Std Test loss of symbolic formula: 0.002746884341392589\n",
      "\\sum_{j}(0.01 - 0.43*sin(0.89*x_i - 0.95*x_j + 0.34)) + 0.01*x_i + 0.21*cos(1.22*x_i + 0.38) + 2.08\n",
      "./saved_models_optuna/model-kuramoto-gkan/kuramoto_gkan_ic1_s5_pd_mult_noise_20db/0\n",
      "\n",
      "Fitting G_Net...\n",
      "Execution time: 52.127926 seconds\n",
      "Fitting H_Net...\n",
      "Execution time: 50.700436 seconds\n",
      "\\sum_{j}( -sin(0.30720136*x_i*x_j)) + exp(-3*sin(5.34209864879628*x_i))\n",
      "Mean Test loss of symbolic formula: 0.9828487634658813\n",
      "Var Test loss of symbolic formula: 0.0041618698889180905\n",
      "Std Test loss of symbolic formula: 0.06451255605630651\n",
      "\n",
      "Number of model's parameters: 348\n",
      "\n",
      "Mean Test loss of best model: 1.0004440744717915\n",
      "Var Test loss of best model: 0.0014822548971843551\n",
      "Std Test loss of best model: 0.03850006359974429\n",
      "\n",
      "Spline-Wise\n",
      "Pruning node (0,0)\n",
      "Pruning node (0,5)\n",
      "Fitting G_Net...\n",
      "Execution time: 16.670016 seconds\n",
      "\n",
      "Fitting H_Net...\n",
      "Execution time: 12.646927 seconds\n",
      "\\sum_{j}( 0.08866*x_i - 0.02585*x_j - 0.00261803308*(-x_i + 0.291563275434243*x_j + 0.0086848635235732)**3 - 0.031182528*(-x_i + 0.291563275434243*x_j + 0.0086848635235732)**2 - 0.798*sin(0.511*(0.78*x_i - 0.446)*(0.836*x_j - 0.138) + 0.595) + 2.85*tanh(9.496656*sin(0.308*x_i - 3.706) + 3.183336*sin(0.616*x_j + 1.259) - 5.942312) + 2.74223) - 0.124402376704*x_i**3 + 1.314737573888*x_i**2 - 4.401917722112*x_i - 7.612*sin(0.79825*x_i - 2.19395) + 2.753*cos(0.884988*x_i + 1.228083) - 13.32*cos(5.345579*cos(1.852*x_i - 4.538) - 2.875798) + 6.675442327296\n",
      "Mean Test loss of symbolic formula: 1.0587122837702434\n",
      "Var Test loss of symbolic formula: 2.2398897142592333e-05\n",
      "Std Test loss of symbolic formula: 0.004732747314466761\n",
      "\\sum_{j}(0.09*x_i - 0.03*x_j - 0.03*(-x_i + 0.29*x_j + 0.01)**2 - 0.8*sin((0.4*x_i - 0.23)*(0.84*x_j - 0.14) + 0.59) + 2.85*tanh(9.5*sin(0.31*x_i - 3.71) + 3.18*sin(0.62*x_j + 1.26) - 5.94) + 2.74) - 0.12*x_i**3 + 1.31*x_i**2 - 4.4*x_i - 7.61*sin(0.8*x_i - 2.19) + 2.75*cos(0.88*x_i + 1.23) - 13.32*cos(5.35*cos(1.85*x_i - 4.54) - 2.88) + 6.68\n"
     ]
    }
   ],
   "source": [
    "model_paths_gkan = [\n",
    "    \"./saved_models_optuna/model-kuramoto-gkan/kuramoto_gkan_ic1_s5_pd_mult_noise_70db_2/0\",\n",
    "    \"./saved_models_optuna/model-kuramoto-gkan/kuramoto_gkan_ic1_s5_pd_mult_noise_50db_2/0\",\n",
    "    \"./saved_models_optuna/model-kuramoto-gkan/kuramoto_gkan_ic1_s5_pd_mult_noise_20db/0\",\n",
    "]\n",
    "\n",
    "for model_path in model_paths_gkan:\n",
    "    print(model_path)\n",
    "    print()\n",
    "    pysr_model = lambda : get_pysr_model(\n",
    "        model_selection=\"score\",\n",
    "        n_iterations=200\n",
    "    )\n",
    "\n",
    "    gkan_symb, symb_g, symb_h = fit_black_box_from_kan(\n",
    "        n_g_hidden_layers=2,\n",
    "        n_h_hidden_layers=2,\n",
    "        device='cuda',\n",
    "        model_path=f\"{model_path}/gkan\",\n",
    "        pysr_model=pysr_model,\n",
    "        sample_size=10000,\n",
    "        theta=-np.inf,\n",
    "        message_passing=False\n",
    "    )\n",
    "\n",
    "    print(str(gkan_symb))\n",
    "    \n",
    "    g_symb = make_callable(symb_g)\n",
    "    h_symb = make_callable(symb_h)\n",
    "\n",
    "    post_process_gkan(\n",
    "        g_symb=g_symb,\n",
    "        h_symb=h_symb,\n",
    "        model_path=model_path,\n",
    "        test_set=KUR,\n",
    "        message_passing=False,\n",
    "        include_time=False,\n",
    "        method='dopri5'\n",
    "    )\n",
    "    \n",
    "    print()\n",
    "    print(\"Spline-Wise\")\n",
    "    \n",
    "    spline_wise = get_error_spline_wise(\n",
    "        model_path=f\"{model_path}/gkan\",\n",
    "        test_set=KUR,\n",
    "        theta=0.01,\n",
    "        n_h_hidden_layers=2,\n",
    "        n_g_hidden_layers=2\n",
    "    )\n",
    "    print(str(quantise(spline_wise)))"
   ]
  },
  {
   "cell_type": "markdown",
   "metadata": {},
   "source": [
    "### Epidemics"
   ]
  },
  {
   "cell_type": "markdown",
   "metadata": {},
   "source": [
    "#### IC=1"
   ]
  },
  {
   "cell_type": "code",
   "execution_count": 37,
   "metadata": {},
   "outputs": [
    {
     "name": "stdout",
     "output_type": "stream",
     "text": [
      "Fitting G_Net...\n",
      "Execution time: 46.134056 seconds\n",
      "Fitting H_Net...\n",
      "Execution time: 48.359699 seconds\n"
     ]
    }
   ],
   "source": [
    "model_path_gkan = \"./saved_models_optuna/model-epidemics-gkan/epidemics_gkan_ic1_s5_pd_mult_12/0/gkan\"\n",
    "\n",
    "pysr_model = lambda : get_pysr_model(\n",
    "    model_selection=\"score\",\n",
    "    n_iterations=200\n",
    ")\n",
    "\n",
    "gkan_symb, symb_g, symb_h = fit_black_box_from_kan(\n",
    "    n_g_hidden_layers=2,\n",
    "    n_h_hidden_layers=2,\n",
    "    device='cuda',\n",
    "    model_path=model_path_gkan,\n",
    "    pysr_model=pysr_model,\n",
    "    sample_size=10000,\n",
    "    theta=-np.inf,\n",
    "    message_passing=False\n",
    ")"
   ]
  },
  {
   "cell_type": "code",
   "execution_count": 38,
   "metadata": {},
   "outputs": [
    {
     "data": {
      "text/latex": [
       "$\\displaystyle \\sum_{j}( x_j*(0.50011538756532 - 0.5002436*x_i)) - 0.49971062 x_{i}$"
      ],
      "text/plain": [
       "\\sum_{j}( x_j*(0.50011538756532 - 0.5002436*x_i)) - 0.49971062*x_i"
      ]
     },
     "execution_count": 38,
     "metadata": {},
     "output_type": "execute_result"
    }
   ],
   "source": [
    "gkan_symb"
   ]
  },
  {
   "cell_type": "code",
   "execution_count": 39,
   "metadata": {},
   "outputs": [
    {
     "name": "stdout",
     "output_type": "stream",
     "text": [
      "Mean Test loss of symbolic formula: 3.225190509207702e-05\n",
      "Var Test loss of symbolic formula: 2.2093288603405234e-11\n",
      "Std Test loss of symbolic formula: 4.700349838406204e-06\n",
      "\n",
      "Number of model's parameters: 264\n",
      "\n",
      "Mean Test loss of best model: 0.00019448873354122043\n",
      "Var Test loss of best model: 8.969934973476717e-11\n",
      "Std Test loss of best model: 9.470974064728884e-06\n"
     ]
    }
   ],
   "source": [
    "g_symb = make_callable(symb_g)\n",
    "h_symb = make_callable(symb_h)\n",
    "\n",
    "post_process_gkan(\n",
    "    g_symb=g_symb,\n",
    "    h_symb=h_symb,\n",
    "    model_path='./saved_models_optuna/model-epidemics-gkan/epidemics_gkan_ic1_s5_pd_mult_12/0',\n",
    "    test_set=EPID,\n",
    "    message_passing=False,\n",
    "    include_time=False,\n",
    "    method='dopri5'\n",
    ")"
   ]
  },
  {
   "cell_type": "code",
   "execution_count": 40,
   "metadata": {},
   "outputs": [
    {
     "name": "stdout",
     "output_type": "stream",
     "text": [
      "Pruning node (0,0)\n",
      "Fitting G_Net...\n",
      "Execution time: 24.911887 seconds\n",
      "\n",
      "Pruning node (0,1)\n",
      "Pruning node (0,2)\n",
      "Fitting H_Net...\n",
      "Execution time: 6.122642 seconds\n",
      "\\sum_{j}( -0.49653192*x_i*x_j - 0.0020606*x_i + 0.49726872*x_j + 0.00517860000000001) - 0.499118*x_i - 0.000664000000000001\n",
      "Mean Test loss of symbolic formula: 0.006057584968705972\n",
      "Var Test loss of symbolic formula: 5.065979323860325e-08\n",
      "Std Test loss of symbolic formula: 0.0002250773050278576\n"
     ]
    }
   ],
   "source": [
    "model_path_gkan = \"./saved_models_optuna/model-epidemics-gkan/epidemics_gkan_ic1_s5_pd_mult_12/0/gkan\"\n",
    "\n",
    "splie_wise = get_error_spline_wise(\n",
    "    model_path=model_path_gkan,\n",
    "    test_set=EPID,\n",
    "    theta=0.1,\n",
    "    n_g_hidden_layers=2,\n",
    "    n_h_hidden_layers=2\n",
    ")"
   ]
  },
  {
   "cell_type": "code",
   "execution_count": 41,
   "metadata": {},
   "outputs": [
    {
     "data": {
      "text/latex": [
       "$\\displaystyle \\sum_{j}(-0.5*x_i*x_j + 0.5*x_j + 0.01) - 0.5 x_{i}$"
      ],
      "text/plain": [
       "\\sum_{j}(-0.5*x_i*x_j + 0.5*x_j + 0.01) - 0.5*x_i"
      ]
     },
     "execution_count": 41,
     "metadata": {},
     "output_type": "execute_result"
    }
   ],
   "source": [
    "quantise(splie_wise)"
   ]
  },
  {
   "cell_type": "code",
   "execution_count": 42,
   "metadata": {},
   "outputs": [
    {
     "name": "stdout",
     "output_type": "stream",
     "text": [
      "Fitting G_Net...\n"
     ]
    },
    {
     "name": "stdout",
     "output_type": "stream",
     "text": [
      "Execution time: 52.134197 seconds\n",
      "\n",
      "Pruning node (0,3)\n",
      "Pruning node (0,5)\n",
      "Fitting H_Net...\n",
      "Execution time: 27.194627 seconds\n",
      "\\sum_{j}( -0.523148061*x_i*x_j + 0.014639249*x_i + 0.514403412*x_j - 0.00806726000000002) - 0.497218*x_i + 0.007992\n",
      "Mean Test loss of symbolic formula: 0.004540392197668552\n",
      "Var Test loss of symbolic formula: 3.1775670854677454e-09\n",
      "Std Test loss of symbolic formula: 5.6369912945362485e-05\n"
     ]
    }
   ],
   "source": [
    "model_path_gkan = \"./saved_models_optuna/model-epidemics-gkan/epidemics_gkan_ic1_s5_pd_mult_16/0/gkan\"\n",
    "\n",
    "splie_wise = get_error_spline_wise(\n",
    "    model_path=model_path_gkan,\n",
    "    test_set=EPID,\n",
    "    theta=0.05,\n",
    "    n_g_hidden_layers=2,\n",
    "    n_h_hidden_layers=2\n",
    ")"
   ]
  },
  {
   "cell_type": "code",
   "execution_count": 43,
   "metadata": {},
   "outputs": [
    {
     "data": {
      "text/latex": [
       "$\\displaystyle \\sum_{j}(-0.52*x_i*x_j + 0.01*x_i + 0.51*x_j - 0.01) - 0.5 x_{i} + 0.01$"
      ],
      "text/plain": [
       "\\sum_{j}(-0.52*x_i*x_j + 0.01*x_i + 0.51*x_j - 0.01) - 0.5*x_i + 0.01"
      ]
     },
     "execution_count": 43,
     "metadata": {},
     "output_type": "execute_result"
    }
   ],
   "source": [
    "quantise(splie_wise)"
   ]
  },
  {
   "cell_type": "markdown",
   "metadata": {},
   "source": [
    "#### SNR"
   ]
  },
  {
   "cell_type": "code",
   "execution_count": 44,
   "metadata": {},
   "outputs": [
    {
     "name": "stdout",
     "output_type": "stream",
     "text": [
      "./saved_models_optuna/model-epidemics-gkan/epidemics_gkan_ic1_s5_pd_mult_noise_70db_2/0\n",
      "\n",
      "Fitting G_Net...\n"
     ]
    },
    {
     "name": "stdout",
     "output_type": "stream",
     "text": [
      "Execution time: 46.664981 seconds\n",
      "Fitting H_Net...\n",
      "Execution time: 45.491405 seconds\n",
      "\\sum_{j}( x_j*(0.50804573 - 0.51468444*x_i)) - 0.63656974*log(x_i + 1)\n",
      "Mean Test loss of symbolic formula: 0.0018808306582892935\n",
      "Var Test loss of symbolic formula: 2.7373946103514762e-08\n",
      "Std Test loss of symbolic formula: 0.00016545073618305469\n",
      "\n",
      "Number of model's parameters: 450\n",
      "\n",
      "Mean Test loss of best model: 0.0020580210645372667\n",
      "Var Test loss of best model: 8.081580328749753e-08\n",
      "Std Test loss of best model: 0.00028428120459766156\n",
      "\n",
      "Spline-Wise\n",
      "Pruning node (0,0)\n",
      "Pruning node (0,1)\n",
      "Fitting G_Net...\n",
      "Execution time: 39.962709 seconds\n",
      "\n",
      "Pruning node (0,1)\n",
      "Pruning node (0,2)\n",
      "Pruning node (0,3)\n",
      "Pruning node (0,4)\n",
      "Pruning node (0,5)\n",
      "Fitting H_Net...\n",
      "Execution time: 7.110334 seconds\n",
      "\\sum_{j}( -0.463819821*x_i*x_j + 0.000815866*x_i + 0.470682753*x_j - 0.004827938) - 0.39339*x_i - 0.059838\n",
      "Mean Test loss of symbolic formula: 0.01323495184381803\n",
      "Var Test loss of symbolic formula: 2.6385112039073534e-06\n",
      "Std Test loss of symbolic formula: 0.0016243494709905727\n",
      "\\sum_{j}(-0.46*x_i*x_j + 0.47*x_j) - 0.39*x_i - 0.06\n",
      "./saved_models_optuna/model-epidemics-gkan/epidemics_gkan_ic1_s5_pd_mult_noise_50db_2/0\n",
      "\n",
      "Fitting G_Net...\n",
      "Execution time: 46.650036 seconds\n",
      "Fitting H_Net...\n",
      "Execution time: 47.332530 seconds\n",
      "\\sum_{j}( -0.1845153*log(x_i)) - 0.0028660835*log(x_i) - 0.13537104\n",
      "Mean Test loss of symbolic formula: 0.02968595859905084\n",
      "Var Test loss of symbolic formula: 6.523738635879104e-06\n",
      "Std Test loss of symbolic formula: 0.002554161043450296\n",
      "\n",
      "Number of model's parameters: 352\n",
      "\n",
      "Mean Test loss of best model: 0.026184172679980595\n",
      "Var Test loss of best model: 1.464864785590763e-05\n",
      "Std Test loss of best model: 0.003827355203780756\n",
      "\n",
      "Spline-Wise\n",
      "Pruning node (0,1)\n",
      "Fitting G_Net...\n",
      "Execution time: 30.950408 seconds\n",
      "\n",
      "Pruning node (0,2)\n",
      "Pruning node (0,3)\n",
      "Fitting H_Net...\n",
      "Execution time: 10.106911 seconds\n",
      "\\sum_{j}( 0.292 - 0.342*tanh(1.203767*x_i - 0.54628*x_j + 0.358163)) - 0.134\n",
      "Mean Test loss of symbolic formula: 0.03744866450627645\n",
      "Var Test loss of symbolic formula: 4.4244481432599416e-07\n",
      "Std Test loss of symbolic formula: 0.000665165253396473\n",
      "\\sum_{j}(0.29 - 0.34*tanh(1.2*x_i - 0.55*x_j + 0.36)) - 0.13\n",
      "./saved_models_optuna/model-epidemics-gkan/epidemics_gkan_ic1_s5_pd_mult_noise_20db_2/0\n",
      "\n",
      "Fitting G_Net...\n",
      "Execution time: 31.693146 seconds\n",
      "Fitting H_Net...\n",
      "Execution time: 30.439685 seconds\n",
      "\\sum_{j}( 0.008639803 - 0.010442568*x_j) + sin(exp(4.0437517*x_i))\n",
      "Mean Test loss of symbolic formula: 0.1712191104888916\n",
      "Var Test loss of symbolic formula: 4.412442582513165e-05\n",
      "Std Test loss of symbolic formula: 0.006642621908940148\n",
      "\n",
      "Number of model's parameters: 174\n",
      "\n",
      "Mean Test loss of best model: 0.17741241057713827\n",
      "Var Test loss of best model: 9.13831635504082e-05\n",
      "Std Test loss of best model: 0.009559454145002642\n",
      "\n",
      "Spline-Wise\n",
      "Pruning node (0,0)\n",
      "Fitting G_Net...\n",
      "Execution time: 6.081426 seconds\n",
      "\n",
      "Fitting H_Net...\n",
      "Execution time: 10.307664 seconds\n",
      "\\sum_{j}( 0.0) - 1.094*tanh(88.876416*x_i - 39.675952) + 0.17*tanh(78.188508*sin(10.468*x_i - 5.136) - 24.727817) + 0.898*tanh(18.52974*tanh(9.736*x_i - 4.918) + 25.29965) + 0.091\n",
      "Mean Test loss of symbolic formula: 0.11026585102081299\n",
      "Var Test loss of symbolic formula: 1.585408180696894e-05\n",
      "Std Test loss of symbolic formula: 0.003981718448982667\n",
      "\\sum_{j}(0.0) - 1.09*tanh(88.88*x_i - 39.68) + 0.17*tanh(78.19*sin(10.47*x_i - 5.14) - 24.73) + 0.9*tanh(18.53*tanh(9.74*x_i - 4.92) + 25.3) + 0.09\n"
     ]
    }
   ],
   "source": [
    "model_paths_gkan = [\n",
    "    \"./saved_models_optuna/model-epidemics-gkan/epidemics_gkan_ic1_s5_pd_mult_noise_70db_2/0\",\n",
    "    \"./saved_models_optuna/model-epidemics-gkan/epidemics_gkan_ic1_s5_pd_mult_noise_50db_2/0\",\n",
    "    \"./saved_models_optuna/model-epidemics-gkan/epidemics_gkan_ic1_s5_pd_mult_noise_20db_2/0\",\n",
    "]\n",
    "\n",
    "for model_path in model_paths_gkan:\n",
    "    print(model_path)\n",
    "    print()\n",
    "    pysr_model = lambda : get_pysr_model(\n",
    "        model_selection=\"score\",\n",
    "        n_iterations=200\n",
    "    )\n",
    "\n",
    "    gkan_symb, symb_g, symb_h = fit_black_box_from_kan(\n",
    "        n_g_hidden_layers=2,\n",
    "        n_h_hidden_layers=2,\n",
    "        device='cuda',\n",
    "        model_path=f\"{model_path}/gkan\",\n",
    "        pysr_model=pysr_model,\n",
    "        sample_size=10000,\n",
    "        theta=-np.inf,\n",
    "        message_passing=False\n",
    "    )\n",
    "\n",
    "    print(str(gkan_symb))\n",
    "    \n",
    "    g_symb = make_callable(symb_g)\n",
    "    h_symb = make_callable(symb_h)\n",
    "\n",
    "    post_process_gkan(\n",
    "        g_symb=g_symb,\n",
    "        h_symb=h_symb,\n",
    "        model_path=model_path,\n",
    "        test_set=EPID,\n",
    "        message_passing=False,\n",
    "        include_time=False,\n",
    "        method='dopri5'\n",
    "    )\n",
    "    \n",
    "    print()\n",
    "    print(\"Spline-Wise\")\n",
    "    \n",
    "    spline_wise = get_error_spline_wise(\n",
    "        model_path=f\"{model_path}/gkan\",\n",
    "        test_set=EPID,\n",
    "        theta=0.1,\n",
    "        n_h_hidden_layers=2,\n",
    "        n_g_hidden_layers=2\n",
    "    )\n",
    "    print(str(quantise(spline_wise)))\n"
   ]
  },
  {
   "cell_type": "markdown",
   "metadata": {},
   "source": [
    "### Population"
   ]
  },
  {
   "cell_type": "markdown",
   "metadata": {},
   "source": [
    "#### IC=1"
   ]
  },
  {
   "cell_type": "code",
   "execution_count": 45,
   "metadata": {},
   "outputs": [
    {
     "name": "stdout",
     "output_type": "stream",
     "text": [
      "Fitting G_Net...\n",
      "Execution time: 31.032831 seconds\n",
      "Fitting H_Net...\n",
      "Execution time: 32.204913 seconds\n"
     ]
    }
   ],
   "source": [
    "model_path_gkan = \"./saved_models_optuna/model-population-gkan/population_gkan_ic1_s5_pd_mult_12/0/gkan\"\n",
    "\n",
    "pysr_model = lambda : get_pysr_model(\n",
    "    model_selection=\"score\",\n",
    "    n_iterations=200\n",
    ")\n",
    "\n",
    "gkan_symb, symb_g, symb_h = fit_black_box_from_kan(\n",
    "    n_g_hidden_layers=2,\n",
    "    n_h_hidden_layers=2,\n",
    "    device='cuda',\n",
    "    model_path=model_path_gkan,\n",
    "    pysr_model=pysr_model,\n",
    "    sample_size=10000,\n",
    "    theta=-np.inf,\n",
    "    message_passing=False\n",
    ")"
   ]
  },
  {
   "cell_type": "code",
   "execution_count": 46,
   "metadata": {},
   "outputs": [
    {
     "data": {
      "text/latex": [
       "$\\displaystyle \\sum_{j}( 0.200043456054492*x_j**3) - 0.49992707 x_{i}$"
      ],
      "text/plain": [
       "\\sum_{j}( 0.200043456054492*x_j**3) - 0.49992707*x_i"
      ]
     },
     "execution_count": 46,
     "metadata": {},
     "output_type": "execute_result"
    }
   ],
   "source": [
    "gkan_symb"
   ]
  },
  {
   "cell_type": "code",
   "execution_count": 47,
   "metadata": {},
   "outputs": [
    {
     "name": "stdout",
     "output_type": "stream",
     "text": [
      "Mean Test loss of symbolic formula: 1.7520228842234548e-05\n",
      "Var Test loss of symbolic formula: 2.1879355615594253e-12\n",
      "Std Test loss of symbolic formula: 1.4791671851279778e-06\n",
      "\n",
      "Number of model's parameters: 294\n",
      "\n",
      "Mean Test loss of best model: 0.00026240094545452547\n",
      "Var Test loss of best model: 2.1595274187835755e-09\n",
      "Std Test loss of best model: 4.6470715711979036e-05\n"
     ]
    }
   ],
   "source": [
    "g_symb = make_callable(symb_g)\n",
    "h_symb = make_callable(symb_h)\n",
    "\n",
    "post_process_gkan(\n",
    "    g_symb=g_symb,\n",
    "    h_symb=h_symb,\n",
    "    model_path='./saved_models_optuna/model-population-gkan/population_gkan_ic1_s5_pd_mult_12/0',\n",
    "    test_set=POP,\n",
    "    message_passing=False,\n",
    "    include_time=False,\n",
    "    method='dopri5'\n",
    ")"
   ]
  },
  {
   "cell_type": "code",
   "execution_count": 48,
   "metadata": {},
   "outputs": [
    {
     "name": "stdout",
     "output_type": "stream",
     "text": [
      "Fitting G_Net...\n",
      "Execution time: 8.784961 seconds\n",
      "\n",
      "Pruning node (0,0)\n",
      "Pruning node (0,2)\n",
      "Pruning node (0,4)\n",
      "Fitting H_Net...\n",
      "Execution time: 11.016199 seconds\n",
      "\\sum_{j}( 0.07072*x_j - 0.001768) - 0.500338*x_i - 0.000384\n",
      "Mean Test loss of symbolic formula: 0.018310097356637318\n",
      "Var Test loss of symbolic formula: 4.561667204535596e-07\n",
      "Std Test loss of symbolic formula: 0.0006754011552059706\n"
     ]
    }
   ],
   "source": [
    "model_path_gkan = \"./saved_models_optuna/model-population-gkan/population_gkan_ic1_s5_pd_mult_12/0/gkan\"\n",
    "\n",
    "# Sort by score\n",
    "spline_wise = get_error_spline_wise(\n",
    "    model_path=model_path_gkan,\n",
    "    test_set=POP,\n",
    "    theta=0.1,\n",
    "    n_g_hidden_layers=2,\n",
    "    n_h_hidden_layers=2,\n",
    "    sort_by='score'\n",
    ")"
   ]
  },
  {
   "cell_type": "code",
   "execution_count": 49,
   "metadata": {},
   "outputs": [
    {
     "data": {
      "text/latex": [
       "$\\displaystyle \\sum_{j}(0.07*x_j) - 0.5 x_{i}$"
      ],
      "text/plain": [
       "\\sum_{j}(0.07*x_j) - 0.5*x_i"
      ]
     },
     "execution_count": 49,
     "metadata": {},
     "output_type": "execute_result"
    }
   ],
   "source": [
    "quantise(spline_wise)"
   ]
  },
  {
   "cell_type": "code",
   "execution_count": 50,
   "metadata": {},
   "outputs": [
    {
     "name": "stdout",
     "output_type": "stream",
     "text": [
      "Fitting G_Net...\n"
     ]
    },
    {
     "name": "stdout",
     "output_type": "stream",
     "text": [
      "Execution time: 8.721778 seconds\n",
      "\n",
      "Pruning node (0,0)\n",
      "Pruning node (0,2)\n",
      "Pruning node (0,4)\n",
      "Fitting H_Net...\n",
      "Execution time: 10.917016 seconds\n",
      "\\sum_{j}( 0.147628*x_j**3 + 0.00663*x_j**2 + 0.020332*x_j - 0.000442) - 0.28655*x_i - 0.1746*tanh(1.427*x_i - 0.078) - 0.0128\n",
      "Mean Test loss of symbolic formula: 0.00506338756531477\n",
      "Var Test loss of symbolic formula: 6.30518194262835e-07\n",
      "Std Test loss of symbolic formula: 0.0007940517579244032\n"
     ]
    }
   ],
   "source": [
    "model_path_gkan = \"./saved_models_optuna/model-population-gkan/population_gkan_ic1_s5_pd_mult_12/0/gkan\"\n",
    "\n",
    "# Sort by loss\n",
    "spline_wise = get_error_spline_wise(\n",
    "    model_path=model_path_gkan,\n",
    "    test_set=POP,\n",
    "    theta=0.1,\n",
    "    n_g_hidden_layers=2,\n",
    "    n_h_hidden_layers=2,\n",
    "    sort_by='log_loss'\n",
    ")"
   ]
  },
  {
   "cell_type": "code",
   "execution_count": 51,
   "metadata": {},
   "outputs": [
    {
     "data": {
      "text/latex": [
       "$\\displaystyle \\sum_{j}(0.15*x_j**3 + 0.01*x_j**2 + 0.02*x_j) - 0.29 x_{i} - 0.17 \\tanh{\\left(1.43 x_{i} - 0.08 \\right)} - 0.01$"
      ],
      "text/plain": [
       "\\sum_{j}(0.15*x_j**3 + 0.01*x_j**2 + 0.02*x_j) - 0.29*x_i - 0.17*tanh(1.43*x_i - 0.08) - 0.01"
      ]
     },
     "execution_count": 51,
     "metadata": {},
     "output_type": "execute_result"
    }
   ],
   "source": [
    "quantise(spline_wise)"
   ]
  },
  {
   "cell_type": "code",
   "execution_count": 52,
   "metadata": {},
   "outputs": [
    {
     "name": "stdout",
     "output_type": "stream",
     "text": [
      "Pruning node (0,1)\n",
      "Pruning node (0,2)\n",
      "Pruning node (1,1)\n",
      "Pruning node (1,2)\n",
      "Fitting G_Net...\n",
      "Execution time: 48.074125 seconds\n",
      "\n",
      "Fitting H_Net...\n",
      "Execution time: 16.373006 seconds\n",
      "\\sum_{j}( 0.19850712*x_j**3 - 0.0028686*x_j**2 + 0.00172116*x_j - 6.82999999999999e-5) - 0.230868*x_i - 0.55676 + 1.59961889102703*exp(-1.0527*exp(0.464*x_i))\n",
      "Mean Test loss of symbolic formula: 0.0011149529018439353\n",
      "Var Test loss of symbolic formula: 3.390983480122e-08\n",
      "Std Test loss of symbolic formula: 0.0001841462321124709\n"
     ]
    }
   ],
   "source": [
    "model_path_gkan = \"./saved_models_optuna/model-population-gkan/population_gkan_ic1_s5_pd_mult_16/0/gkan\"\n",
    "\n",
    "spline_wise = get_error_spline_wise(\n",
    "    model_path=model_path_gkan,\n",
    "    test_set=POP,\n",
    "    theta=0.1,\n",
    "    n_g_hidden_layers=3,\n",
    "    n_h_hidden_layers=2,\n",
    "    sort_by='score'\n",
    ")"
   ]
  },
  {
   "cell_type": "code",
   "execution_count": 53,
   "metadata": {},
   "outputs": [
    {
     "data": {
      "text/latex": [
       "$\\displaystyle \\sum_{j}(0.2*x_j**3) - 0.23 x_{i} - 0.56 + 1.6 e^{- 1.05 e^{0.46 x_{i}}}$"
      ],
      "text/plain": [
       "\\sum_{j}(0.2*x_j**3) - 0.23*x_i - 0.56 + 1.6*exp(-1.05*exp(0.46*x_i))"
      ]
     },
     "execution_count": 53,
     "metadata": {},
     "output_type": "execute_result"
    }
   ],
   "source": [
    "quantise(spline_wise)"
   ]
  },
  {
   "cell_type": "markdown",
   "metadata": {},
   "source": [
    "#### SNR"
   ]
  },
  {
   "cell_type": "code",
   "execution_count": 54,
   "metadata": {},
   "outputs": [
    {
     "name": "stdout",
     "output_type": "stream",
     "text": [
      "./saved_models_optuna/model-population-gkan/population_gkan_ic1_s5_pd_mult_noise_70db_2/0\n",
      "\n"
     ]
    },
    {
     "name": "stdout",
     "output_type": "stream",
     "text": [
      "Fitting G_Net...\n",
      "Execution time: 31.744214 seconds\n",
      "Fitting H_Net...\n",
      "Execution time: 30.025341 seconds\n",
      "\\sum_{j}( 0.200004670689379*x_j**3) - 0.4995046*x_i\n",
      "Mean Test loss of symbolic formula: 8.797331004946803e-05\n",
      "Var Test loss of symbolic formula: 1.0629399142105468e-11\n",
      "Std Test loss of symbolic formula: 3.260275930363175e-06\n",
      "\n",
      "Number of model's parameters: 368\n",
      "\n",
      "Mean Test loss of best model: 0.0007541064793864886\n",
      "Var Test loss of best model: 6.963269243328493e-09\n",
      "Std Test loss of best model: 8.344620568563015e-05\n",
      "\n",
      "Spline-Wise\n",
      "Pruning node (0,0)\n",
      "Pruning node (0,5)\n",
      "Fitting G_Net...\n",
      "Execution time: 26.756082 seconds\n",
      "\n",
      "Fitting H_Net...\n",
      "Execution time: 4.718826 seconds\n",
      "\\sum_{j}( 0.01652*x_j + 0.03325*sin(0.654*x_i - 0.864) + 0.02336) - 0.499272*x_i + 0.000371999999999997\n",
      "Mean Test loss of symbolic formula: 0.032248698795835175\n",
      "Var Test loss of symbolic formula: 1.3531267305916095e-05\n",
      "Std Test loss of symbolic formula: 0.003678487094705661\n",
      "\\sum_{j}(0.02*x_j + 0.03*sin(0.65*x_i - 0.86) + 0.02) - 0.5*x_i\n",
      "./saved_models_optuna/model-population-gkan/population_gkan_ic1_s5_pd_mult_noise_50db_2/0\n",
      "\n",
      "Fitting G_Net...\n",
      "Execution time: 30.833819 seconds\n",
      "Fitting H_Net...\n",
      "Execution time: 31.988707 seconds\n",
      "\\sum_{j}( 0.17879277*x_j**3) - 0.4600741*x_i\n",
      "Mean Test loss of symbolic formula: 0.006870745836446683\n",
      "Var Test loss of symbolic formula: 1.6366244887293228e-08\n",
      "Std Test loss of symbolic formula: 0.00012793062529079278\n",
      "\n",
      "Number of model's parameters: 400\n",
      "\n",
      "Mean Test loss of best model: 0.009102403496702513\n",
      "Var Test loss of best model: 4.741548485933605e-07\n",
      "Std Test loss of best model: 0.00068858902735475\n",
      "\n",
      "Spline-Wise\n",
      "Fitting G_Net...\n",
      "Execution time: 37.585467 seconds\n",
      "\n",
      "Pruning node (0,1)\n",
      "Pruning node (0,3)\n",
      "Pruning node (0,4)\n",
      "Fitting H_Net...\n",
      "Execution time: 8.355143 seconds\n",
      "\\sum_{j}( 0.08066*x_j**3 + 0.002943*x_j**2 + 0.009265*x_j + (0.096396*exp(1.115*x_j) - 0.078648)*(0.028*sin(4.068*x_i + 0.044) + 0.197) - 0.005928*sin(4.614*x_j - 0.079) - 0.064419*cos(1.069*x_i + 0.794) - 8.5e-5*tan(0.001*x_i + 1.569) - 0.000468*tan(0.002*x_i + 1.566) + 0.00391*tan(1.456*x_j - 0.002) + 0.172913) - 1.455 + 1.45188236742073*exp(-0.324441*x_i)\n",
      "Mean Test loss of symbolic formula: 0.038765436659256615\n",
      "Var Test loss of symbolic formula: 2.7771660328092094e-05\n",
      "Std Test loss of symbolic formula: 0.005269882382756952\n",
      "\\sum_{j}(0.08*x_j**3 + 0.01*x_j + (0.1*exp(1.12*x_j) - 0.08)*(0.03*sin(4.07*x_i + 0.04) + 0.2) - 0.01*sin(4.61*x_j - 0.08) - 0.06*cos(1.07*x_i + 0.79) + 0.17) - 1.46 + 1.45*exp(-0.32*x_i)\n"
     ]
    }
   ],
   "source": [
    "model_paths_gkan = [\n",
    "    \"./saved_models_optuna/model-population-gkan/population_gkan_ic1_s5_pd_mult_noise_70db_2/0\",\n",
    "    \"./saved_models_optuna/model-population-gkan/population_gkan_ic1_s5_pd_mult_noise_50db_2/0\",\n",
    "    # \"./saved_models_optuna/model-population-gkan/population_gkan_ic1_s5_pd_mult_noise_20db_2/0\",\n",
    "]\n",
    "\n",
    "for model_path in model_paths_gkan:\n",
    "    print(model_path)\n",
    "    print()\n",
    "    pysr_model = lambda : get_pysr_model(\n",
    "        model_selection=\"score\",\n",
    "        n_iterations=200\n",
    "    )\n",
    "\n",
    "    gkan_symb, symb_g, symb_h = fit_black_box_from_kan(\n",
    "        n_g_hidden_layers=2,\n",
    "        n_h_hidden_layers=2,\n",
    "        device='cuda',\n",
    "        model_path=f\"{model_path}/gkan\",\n",
    "        pysr_model=pysr_model,\n",
    "        sample_size=10000,\n",
    "        theta=-np.inf,\n",
    "        message_passing=False\n",
    "    )\n",
    "\n",
    "    print(str(gkan_symb))\n",
    "    \n",
    "    g_symb = make_callable(symb_g)\n",
    "    h_symb = make_callable(symb_h)\n",
    "\n",
    "    post_process_gkan(\n",
    "        g_symb=g_symb,\n",
    "        h_symb=h_symb,\n",
    "        model_path=model_path,\n",
    "        test_set=POP,\n",
    "        message_passing=False,\n",
    "        include_time=False,\n",
    "        method='dopri5'\n",
    "    )\n",
    "    \n",
    "    print()\n",
    "    print(\"Spline-Wise\")\n",
    "    \n",
    "    spline_wise = get_error_spline_wise(\n",
    "        model_path=f\"{model_path}/gkan\",\n",
    "        test_set=POP,\n",
    "        theta=0.05,\n",
    "        n_h_hidden_layers=2,\n",
    "        n_g_hidden_layers=2\n",
    "    )\n",
    "    print(str(quantise(spline_wise)))"
   ]
  },
  {
   "cell_type": "markdown",
   "metadata": {},
   "source": [
    "### Real Epid"
   ]
  },
  {
   "cell_type": "code",
   "execution_count": 55,
   "metadata": {},
   "outputs": [
    {
     "name": "stdout",
     "output_type": "stream",
     "text": [
      "Fitting G_Net...\n",
      "Execution time: 32.812989 seconds\n",
      "Fitting H_Net...\n",
      "Execution time: 17.956217 seconds\n"
     ]
    }
   ],
   "source": [
    "model_path_gkan = \"./saved_models_optuna/model-real-epid-gkan/real_epid_gkan_4/0/gkan\"\n",
    "\n",
    "pysr_model = lambda : get_pysr_model(\n",
    "    model_selection=\"score\",\n",
    "    n_iterations=200\n",
    ")\n",
    "\n",
    "gkan_symb, symb_g, symb_h = fit_black_box_from_kan(\n",
    "    n_g_hidden_layers=2,\n",
    "    n_h_hidden_layers=2,\n",
    "    device='cuda',\n",
    "    model_path=model_path_gkan,\n",
    "    pysr_model=pysr_model,\n",
    "    sample_size=10000,\n",
    "    theta=-np.inf,\n",
    "    message_passing=False\n",
    ")"
   ]
  },
  {
   "cell_type": "code",
   "execution_count": 56,
   "metadata": {},
   "outputs": [
    {
     "data": {
      "text/latex": [
       "$\\displaystyle \\sum_{j}( log(12.5043577686824*x_i + 13.5111551375654)) + 2.4884284 \\sin{\\left(x_{i} \\right)} + 2.112076$"
      ],
      "text/plain": [
       "\\sum_{j}( log(12.5043577686824*x_i + 13.5111551375654)) + 2.4884284*sin(x_i) + 2.112076"
      ]
     },
     "execution_count": 56,
     "metadata": {},
     "output_type": "execute_result"
    }
   ],
   "source": [
    "gkan_symb"
   ]
  },
  {
   "cell_type": "code",
   "execution_count": 57,
   "metadata": {},
   "outputs": [
    {
     "name": "stdout",
     "output_type": "stream",
     "text": [
      "Fitting G_Net...\n"
     ]
    },
    {
     "name": "stdout",
     "output_type": "stream",
     "text": [
      "Execution time: 10.827934 seconds\n",
      "\n",
      "Fitting H_Net...\n",
      "Execution time: 4.955698 seconds\n"
     ]
    }
   ],
   "source": [
    "symb_spline_wise, symb_g, symb_h = fit_model(\n",
    "    n_h_hidden_layers=2,\n",
    "    n_g_hidden_layers=2,\n",
    "    model_path=model_path_gkan,\n",
    "    theta=0.1,\n",
    "    message_passing=False,\n",
    "    include_time=False,\n",
    "    sample_size=10000\n",
    ")"
   ]
  },
  {
   "cell_type": "markdown",
   "metadata": {},
   "source": [
    "## TSS Errors"
   ]
  },
  {
   "cell_type": "code",
   "execution_count": 73,
   "metadata": {},
   "outputs": [],
   "source": [
    "def get_tss_test_error(\n",
    "    text_sympy_mapping_g,\n",
    "    text_sympy_mapping_h,\n",
    "    row_means,\n",
    "    test_set\n",
    "):\n",
    "    g_symb = sp.S(0)\n",
    "    h_symb = sp.S(0)\n",
    "            \n",
    "    for symb_g in text_sympy_mapping_g.keys():\n",
    "        g_symb += row_means[symb_g] * text_sympy_mapping_g[symb_g]\n",
    "    for symb_h in text_sympy_mapping_h.keys():\n",
    "        h_symb += row_means[symb_h] * text_sympy_mapping_h[symb_h]\n",
    "    \n",
    "    g_symb = make_callable(g_symb)\n",
    "    h_symb = make_callable(h_symb)\n",
    "    \n",
    "    test_losses = get_symb_test_error(\n",
    "        g_symb=g_symb,\n",
    "        h_symb=h_symb,\n",
    "        test_set=test_set,\n",
    "        message_passing=False,\n",
    "        include_time=False,\n",
    "        method='dopri5',\n",
    "        atol=1e-5,\n",
    "        rtol=1e-5\n",
    "    )\n",
    "    \n",
    "    ts_mean = np.mean(test_losses)\n",
    "    ts_var = np.var(test_losses)\n",
    "    ts_std = np.std(test_losses)\n",
    "\n",
    "    print(f\"Mean Test loss of symbolic formula: {ts_mean}\")\n",
    "    print(f\"Var Test loss of symbolic formula: {ts_var}\")\n",
    "    print(f\"Std Test loss of symbolic formula: {ts_std}\")"
   ]
  },
  {
   "cell_type": "markdown",
   "metadata": {},
   "source": [
    "### KUR"
   ]
  },
  {
   "cell_type": "code",
   "execution_count": 59,
   "metadata": {},
   "outputs": [],
   "source": [
    "df = pd.read_csv(\"./saved_models_optuna/tss/Kuramoto-1/results_dim=0.csv\", header=None)\n",
    "df.set_index(0, inplace=True)\n",
    "row_means = df.mean(axis=1)"
   ]
  },
  {
   "cell_type": "code",
   "execution_count": 60,
   "metadata": {},
   "outputs": [
    {
     "name": "stdout",
     "output_type": "stream",
     "text": [
      "Mean Test loss of symbolic formula: 0.0002912786342979719\n",
      "Var Test loss of symbolic formula: 4.206261141125669e-10\n",
      "Std Test loss of symbolic formula: 2.0509171463337248e-05\n"
     ]
    }
   ],
   "source": [
    "x_i, x_j = sp.symbols('x_i x_j')\n",
    "\n",
    "text_sympy_mapping_g = {\n",
    "    \"sinx1jMinusx1i\": sp.sin(x_j - x_i)\n",
    "}\n",
    "text_sympy_mapping_h = {\n",
    "    \"constant\": sp.S(1.0)\n",
    "}\n",
    "\n",
    "get_tss_test_error(\n",
    "    text_sympy_mapping_g=text_sympy_mapping_g,\n",
    "    text_sympy_mapping_h=text_sympy_mapping_h,\n",
    "    row_means=row_means,\n",
    "    test_set=KUR\n",
    ")\n"
   ]
  },
  {
   "cell_type": "markdown",
   "metadata": {},
   "source": [
    "#### 70 DB"
   ]
  },
  {
   "cell_type": "code",
   "execution_count": 61,
   "metadata": {},
   "outputs": [
    {
     "data": {
      "text/plain": [
       "0\n",
       "NaN               0.000000\n",
       "sinx1jMinusx1i    0.500084\n",
       "constant          1.999299\n",
       "dtype: float64"
      ]
     },
     "execution_count": 61,
     "metadata": {},
     "output_type": "execute_result"
    }
   ],
   "source": [
    "df = pd.read_csv(\"./saved_models_optuna/tss/Kuramoto-1/results_dim=0_70_db.csv\", header=None)\n",
    "df.set_index(0, inplace=True)\n",
    "row_means = df.mean(axis=1)\n",
    "row_means"
   ]
  },
  {
   "cell_type": "code",
   "execution_count": 62,
   "metadata": {},
   "outputs": [
    {
     "name": "stdout",
     "output_type": "stream",
     "text": [
      "Mean Test loss of symbolic formula: 0.00035186927804412943\n",
      "Var Test loss of symbolic formula: 3.4495474563401334e-14\n",
      "Std Test loss of symbolic formula: 1.85729573744736e-07\n"
     ]
    }
   ],
   "source": [
    "x_i, x_j = sp.symbols('x_i x_j')\n",
    "\n",
    "text_sympy_mapping_g = {\n",
    "    \"sinx1jMinusx1i\": sp.sin(x_j - x_i)\n",
    "}\n",
    "text_sympy_mapping_h = {\n",
    "    \"constant\": sp.S(1.0)\n",
    "}\n",
    "\n",
    "get_tss_test_error(\n",
    "    text_sympy_mapping_g=text_sympy_mapping_g,\n",
    "    text_sympy_mapping_h=text_sympy_mapping_h,\n",
    "    row_means=row_means,\n",
    "    test_set=KUR\n",
    ")"
   ]
  },
  {
   "cell_type": "markdown",
   "metadata": {},
   "source": [
    "#### 50 DB"
   ]
  },
  {
   "cell_type": "code",
   "execution_count": 63,
   "metadata": {},
   "outputs": [
    {
     "name": "stdout",
     "output_type": "stream",
     "text": [
      "Mean Test loss of symbolic formula: 0.6032914121945699\n",
      "Var Test loss of symbolic formula: 0.0009892931714156185\n",
      "Std Test loss of symbolic formula: 0.03145303119598521\n"
     ]
    }
   ],
   "source": [
    "df = pd.read_csv(\"./saved_models_optuna/tss/Kuramoto-1/results_dim=0_50_db.csv\", header=None)\n",
    "df.set_index(0, inplace=True)\n",
    "row_means = df.mean(axis=1)\n",
    "\n",
    "x_i, x_j = sp.symbols('x_i x_j')\n",
    "\n",
    "text_sympy_mapping_g = {\n",
    "    \"sinx1jMinusx1i\": sp.sin(x_j - x_i)\n",
    "}\n",
    "text_sympy_mapping_h = {\n",
    "    \"fracx1\": 1/ x_i\n",
    "}\n",
    "\n",
    "get_tss_test_error(\n",
    "    text_sympy_mapping_g=text_sympy_mapping_g,\n",
    "    text_sympy_mapping_h=text_sympy_mapping_h,\n",
    "    row_means=row_means,\n",
    "    test_set=KUR\n",
    ")"
   ]
  },
  {
   "cell_type": "markdown",
   "metadata": {},
   "source": [
    "#### 20 DB"
   ]
  },
  {
   "cell_type": "code",
   "execution_count": 70,
   "metadata": {},
   "outputs": [
    {
     "data": {
      "text/plain": [
       "0\n",
       "NaN                0.000000\n",
       "x1iexpx1j          0.000338\n",
       "fracx1jMinusx1i    0.026852\n",
       "fracx1ix1j        -0.035464\n",
       "x1ifracx1j        -0.020929\n",
       "dtype: float64"
      ]
     },
     "execution_count": 70,
     "metadata": {},
     "output_type": "execute_result"
    }
   ],
   "source": [
    "df = pd.read_csv(\"./saved_models_optuna/tss/Kuramoto-1/results_dim=0_20_db.csv\", header=None)\n",
    "df.set_index(0, inplace=True)\n",
    "row_means = df.mean(axis=1)\n",
    "row_means"
   ]
  },
  {
   "cell_type": "code",
   "execution_count": null,
   "metadata": {},
   "outputs": [],
   "source": [
    "x_i, x_j = sp.symbols('x_i x_j')\n",
    "\n",
    "text_sympy_mapping_g = {\n",
    "    \"x1iexpx1j\": x_i * sp.exp(x_j),\n",
    "    \"fracx1jMinusx1i\": 1/(x_j - x_i),\n",
    "    \"fracx1ix1j\": 1/(x_i * x_j),\n",
    "    \"x1ifracx1j\": x_i / x_j\n",
    "}\n",
    "\n",
    "text_sympy_mapping_h = {}\n",
    "\n",
    "get_tss_test_error(\n",
    "    text_sympy_mapping_g=text_sympy_mapping_g,\n",
    "    text_sympy_mapping_h=text_sympy_mapping_h,\n",
    "    row_means=row_means,\n",
    "    test_set=KUR\n",
    ")"
   ]
  },
  {
   "cell_type": "markdown",
   "metadata": {},
   "source": [
    "### EPID"
   ]
  },
  {
   "cell_type": "code",
   "execution_count": 75,
   "metadata": {},
   "outputs": [
    {
     "data": {
      "text/plain": [
       "0\n",
       "NaN               0.000000\n",
       "constant         -1.479146\n",
       "expx1jMinusx1i    0.310919\n",
       "dtype: float64"
      ]
     },
     "execution_count": 75,
     "metadata": {},
     "output_type": "execute_result"
    }
   ],
   "source": [
    "x_i, x_j = sp.symbols('x_i x_j')\n",
    "\n",
    "df = pd.read_csv(\"./saved_models_optuna/tss/Epidemics-1/results_dim=0.csv\", header=None)\n",
    "df.set_index(0, inplace=True)\n",
    "row_means = df.mean(axis=1)\n",
    "\n",
    "row_means"
   ]
  },
  {
   "cell_type": "code",
   "execution_count": 76,
   "metadata": {},
   "outputs": [
    {
     "name": "stdout",
     "output_type": "stream",
     "text": [
      "Mean Test loss of symbolic formula: 0.13932317246993384\n",
      "Var Test loss of symbolic formula: 0.0011257805640565567\n",
      "Std Test loss of symbolic formula: 0.03355265360677985\n"
     ]
    }
   ],
   "source": [
    "text_sympy_mapping_g = {\n",
    "    \"expx1jMinusx1i\": sp.exp(x_j - x_i)\n",
    "}\n",
    "\n",
    "text_sympy_mapping_h = {\n",
    "    \"constant\": sp.S(1.0)\n",
    "}\n",
    "\n",
    "get_tss_test_error(\n",
    "    text_sympy_mapping_g=text_sympy_mapping_g,\n",
    "    text_sympy_mapping_h=text_sympy_mapping_h,\n",
    "    row_means=row_means,\n",
    "    test_set=EPID\n",
    ")"
   ]
  },
  {
   "cell_type": "markdown",
   "metadata": {},
   "source": [
    "#### 70 DB"
   ]
  },
  {
   "cell_type": "code",
   "execution_count": 77,
   "metadata": {},
   "outputs": [
    {
     "data": {
      "text/plain": [
       "0\n",
       "NaN         0.000000\n",
       "x1x1x1     -1.319998\n",
       "constant    0.645621\n",
       "dtype: float64"
      ]
     },
     "execution_count": 77,
     "metadata": {},
     "output_type": "execute_result"
    }
   ],
   "source": [
    "x_i, x_j = sp.symbols('x_i x_j')\n",
    "\n",
    "df = pd.read_csv(\"./saved_models_optuna/tss/Epidemics-1/results_dim=0_70_db.csv\", header=None)\n",
    "df.set_index(0, inplace=True)\n",
    "row_means = df.mean(axis=1)\n",
    "\n",
    "row_means"
   ]
  },
  {
   "cell_type": "code",
   "execution_count": 79,
   "metadata": {},
   "outputs": [
    {
     "name": "stdout",
     "output_type": "stream",
     "text": [
      "Mean Test loss of symbolic formula: 0.06238254035512606\n",
      "Var Test loss of symbolic formula: 6.161101675210123e-05\n",
      "Std Test loss of symbolic formula: 0.007849268548858628\n"
     ]
    }
   ],
   "source": [
    "text_sympy_mapping_g = {}\n",
    "\n",
    "text_sympy_mapping_h = {\n",
    "    \"x1x1x1\": x_i * x_i * x_i,\n",
    "    \"constant\": sp.S(1.0)\n",
    "}\n",
    "\n",
    "get_tss_test_error(\n",
    "    text_sympy_mapping_g=text_sympy_mapping_g,\n",
    "    text_sympy_mapping_h=text_sympy_mapping_h,\n",
    "    row_means=row_means,\n",
    "    test_set=EPID\n",
    ")"
   ]
  },
  {
   "cell_type": "markdown",
   "metadata": {},
   "source": [
    "#### 50 DB"
   ]
  },
  {
   "cell_type": "code",
   "execution_count": 80,
   "metadata": {},
   "outputs": [
    {
     "data": {
      "text/plain": [
       "0\n",
       "NaN               0.000000\n",
       "x1x1x1           -1.049246\n",
       "expx1jMinusx1i    0.101428\n",
       "dtype: float64"
      ]
     },
     "execution_count": 80,
     "metadata": {},
     "output_type": "execute_result"
    }
   ],
   "source": [
    "x_i, x_j = sp.symbols('x_i x_j')\n",
    "\n",
    "df = pd.read_csv(\"./saved_models_optuna/tss/Epidemics-1/results_dim=0_50_db.csv\", header=None)\n",
    "df.set_index(0, inplace=True)\n",
    "row_means = df.mean(axis=1)\n",
    "\n",
    "row_means"
   ]
  },
  {
   "cell_type": "code",
   "execution_count": 81,
   "metadata": {},
   "outputs": [
    {
     "name": "stdout",
     "output_type": "stream",
     "text": [
      "Mean Test loss of symbolic formula: 0.021900850037733715\n",
      "Var Test loss of symbolic formula: 4.893136437053426e-06\n",
      "Std Test loss of symbolic formula: 0.0022120434980021134\n"
     ]
    }
   ],
   "source": [
    "text_sympy_mapping_g = {\n",
    "    \"expx1jMinusx1i\": sp.exp(x_j - x_i)\n",
    "}\n",
    "\n",
    "text_sympy_mapping_h = {\n",
    "    \"x1x1x1\": x_i * x_i * x_i\n",
    "}\n",
    "\n",
    "get_tss_test_error(\n",
    "    text_sympy_mapping_g=text_sympy_mapping_g,\n",
    "    text_sympy_mapping_h=text_sympy_mapping_h,\n",
    "    row_means=row_means,\n",
    "    test_set=EPID\n",
    ")"
   ]
  },
  {
   "cell_type": "markdown",
   "metadata": {},
   "source": [
    "#### 20 DB"
   ]
  },
  {
   "cell_type": "code",
   "execution_count": 82,
   "metadata": {},
   "outputs": [
    {
     "data": {
      "text/plain": [
       "0\n",
       "NaN                0.000000\n",
       "fracx1ix1j         0.009380\n",
       "x1ifracx1j         0.009147\n",
       "fracx1j            0.000166\n",
       "fracx1jMinusx1i    0.000093\n",
       "dtype: float64"
      ]
     },
     "execution_count": 82,
     "metadata": {},
     "output_type": "execute_result"
    }
   ],
   "source": [
    "x_i, x_j = sp.symbols('x_i x_j')\n",
    "\n",
    "df = pd.read_csv(\"./saved_models_optuna/tss/Epidemics-1/results_dim=0_20_db.csv\", header=None)\n",
    "df.set_index(0, inplace=True)\n",
    "row_means = df.mean(axis=1)\n",
    "\n",
    "row_means"
   ]
  },
  {
   "cell_type": "code",
   "execution_count": 83,
   "metadata": {},
   "outputs": [
    {
     "name": "stdout",
     "output_type": "stream",
     "text": [
      "Mean Test loss of symbolic formula: 0.11705934256315231\n",
      "Var Test loss of symbolic formula: 8.681066367199897e-06\n",
      "Std Test loss of symbolic formula: 0.002946364941279321\n"
     ]
    }
   ],
   "source": [
    "text_sympy_mapping_g = {\n",
    "    \"fracx1ix1j\": 1/(x_i * x_j),\n",
    "    \"x1ifracx1j\": x_i / x_j,\n",
    "    \"fracx1j\": 1 / x_j,\n",
    "    \"fracx1jMinusx1i\": 1/(x_j - x_i)\n",
    "}\n",
    "\n",
    "text_sympy_mapping_h = {}\n",
    "\n",
    "get_tss_test_error(\n",
    "    text_sympy_mapping_g=text_sympy_mapping_g,\n",
    "    text_sympy_mapping_h=text_sympy_mapping_h,\n",
    "    row_means=row_means,\n",
    "    test_set=EPID\n",
    ")"
   ]
  },
  {
   "cell_type": "markdown",
   "metadata": {},
   "source": [
    "### BIO"
   ]
  },
  {
   "cell_type": "code",
   "execution_count": 66,
   "metadata": {},
   "outputs": [
    {
     "data": {
      "text/plain": [
       "0\n",
       "NaN         0.000000\n",
       "x1ix1j     -0.629935\n",
       "constant    0.805864\n",
       "dtype: float64"
      ]
     },
     "execution_count": 66,
     "metadata": {},
     "output_type": "execute_result"
    }
   ],
   "source": [
    "x_i, x_j = sp.symbols('x_i x_j')\n",
    "\n",
    "df = pd.read_csv(\"./saved_models_optuna/tss/Biochemical-1/results_dim=0.csv\", header=None)\n",
    "df.set_index(0, inplace=True)\n",
    "row_means = df.mean(axis=1)\n",
    "\n",
    "row_means"
   ]
  },
  {
   "cell_type": "code",
   "execution_count": 67,
   "metadata": {},
   "outputs": [
    {
     "name": "stdout",
     "output_type": "stream",
     "text": [
      "Mean Test loss of symbolic formula: 0.030168694754441578\n",
      "Var Test loss of symbolic formula: 7.935192549003557e-07\n",
      "Std Test loss of symbolic formula: 0.0008907969773749547\n"
     ]
    }
   ],
   "source": [
    "text_sympy_mapping_g = {\n",
    "    \"x1ix1j\": x_i * x_j\n",
    "}\n",
    "\n",
    "text_sympy_mapping_h = {\n",
    "    \"constant\": sp.S(1.0)\n",
    "}\n",
    "\n",
    "get_tss_test_error(\n",
    "    text_sympy_mapping_g=text_sympy_mapping_g,\n",
    "    text_sympy_mapping_h=text_sympy_mapping_h,\n",
    "    row_means=row_means,\n",
    "    test_set=BIO\n",
    ")"
   ]
  },
  {
   "cell_type": "markdown",
   "metadata": {},
   "source": [
    "### POP"
   ]
  },
  {
   "cell_type": "code",
   "execution_count": 68,
   "metadata": {},
   "outputs": [
    {
     "data": {
      "text/plain": [
       "0\n",
       "NaN         0.000000\n",
       "constant   -0.026403\n",
       "x1j         0.181286\n",
       "sinx1j     -0.003445\n",
       "dtype: float64"
      ]
     },
     "execution_count": 68,
     "metadata": {},
     "output_type": "execute_result"
    }
   ],
   "source": [
    "x_i, x_j = sp.symbols('x_i x_j')\n",
    "\n",
    "df = pd.read_csv(\"./saved_models_optuna/tss/Population-1/results_dim=0.csv\", header=None)\n",
    "df.set_index(0, inplace=True)\n",
    "row_means = df.mean(axis=1)\n",
    "\n",
    "row_means"
   ]
  },
  {
   "cell_type": "code",
   "execution_count": 69,
   "metadata": {},
   "outputs": [
    {
     "name": "stdout",
     "output_type": "stream",
     "text": [
      "Mean Test loss of symbolic formula: 0.127986046175162\n",
      "Var Test loss of symbolic formula: 7.68135815102871e-05\n",
      "Std Test loss of symbolic formula: 0.008764335771197217\n"
     ]
    }
   ],
   "source": [
    "text_sympy_mapping_g = {\n",
    "    \"sinx1j\": sp.sin(x_j),\n",
    "    \"x1j\": x_j\n",
    "}\n",
    "\n",
    "text_sympy_mapping_h = {\n",
    "    \"constant\": sp.S(1.0)\n",
    "}\n",
    "\n",
    "get_tss_test_error(\n",
    "    text_sympy_mapping_g=text_sympy_mapping_g,\n",
    "    text_sympy_mapping_h=text_sympy_mapping_h,\n",
    "    row_means=row_means,\n",
    "    test_set=POP\n",
    ")"
   ]
  }
 ],
 "metadata": {
  "kernelspec": {
   "display_name": "myenv",
   "language": "python",
   "name": "python3"
  },
  "language_info": {
   "codemirror_mode": {
    "name": "ipython",
    "version": 3
   },
   "file_extension": ".py",
   "mimetype": "text/x-python",
   "name": "python",
   "nbconvert_exporter": "python",
   "pygments_lexer": "ipython3",
   "version": "3.12.0"
  }
 },
 "nbformat": 4,
 "nbformat_minor": 2
}
