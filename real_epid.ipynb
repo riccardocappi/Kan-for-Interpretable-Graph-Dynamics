{
 "cells": [
  {
   "cell_type": "code",
   "execution_count": 1,
   "id": "55365949",
   "metadata": {},
   "outputs": [],
   "source": [
    "import pandas as pd\n",
    "import numpy as np\n",
    "import torch\n"
   ]
  },
  {
   "cell_type": "markdown",
   "id": "55d90f38",
   "metadata": {},
   "source": [
    "## 1"
   ]
  },
  {
   "cell_type": "markdown",
   "id": "a97dc97a",
   "metadata": {},
   "source": [
    "### Load data"
   ]
  },
  {
   "cell_type": "code",
   "execution_count": 2,
   "id": "4f5678e5",
   "metadata": {},
   "outputs": [],
   "source": [
    "# Read infection data\n",
    "x = pd.read_csv('./data/RealEpidemics/infected_numbers_covid.csv').values\n",
    "\n",
    "# Read adjacency matrix (flight data)\n",
    "A = np.loadtxt('./data/RealEpidemics/Flights_adj.csv', delimiter=',')\n",
    "\n",
    "# Read populations\n",
    "populations = np.loadtxt('./data/RealEpidemics/populations.csv', delimiter=',')\n",
    "\n",
    "# Read country names (assuming second column contains names)\n",
    "countries_df = pd.read_csv('./data/RealEpidemics/Country_Population_final.csv')\n",
    "countries = countries_df.iloc[:, 1].astype(str).values  # Convert to string array\n",
    "\n",
    "# Extract x_values (from second column onward)\n",
    "x_values = x[:, 1:]"
   ]
  },
  {
   "cell_type": "code",
   "execution_count": 3,
   "id": "42609530",
   "metadata": {},
   "outputs": [
    {
     "name": "stdout",
     "output_type": "stream",
     "text": [
      "(158, 234)\n",
      "(234, 234)\n",
      "(234,)\n",
      "(234,)\n"
     ]
    }
   ],
   "source": [
    "print(x_values.shape)\n",
    "print(A.shape)\n",
    "print(populations.shape)\n",
    "print(countries.shape)"
   ]
  },
  {
   "cell_type": "markdown",
   "id": "190d6120",
   "metadata": {},
   "source": [
    "### Deleting 0 infected countries"
   ]
  },
  {
   "cell_type": "code",
   "execution_count": 4,
   "id": "1024d65f",
   "metadata": {},
   "outputs": [],
   "source": [
    "no_infected = np.where(np.mean(x_values, axis=0) == 0)[0]\n",
    "# Remove those columns/entries from all relevant data\n",
    "populations = np.delete(populations, no_infected, axis=0)\n",
    "x_values = np.delete(x_values, no_infected, axis=1)\n",
    "A = np.delete(A, no_infected, axis=0)\n",
    "A = np.delete(A, no_infected, axis=1)\n",
    "countries = np.delete(countries, no_infected, axis=0)"
   ]
  },
  {
   "cell_type": "code",
   "execution_count": 5,
   "id": "91dab965",
   "metadata": {},
   "outputs": [
    {
     "name": "stdout",
     "output_type": "stream",
     "text": [
      "(158, 174)\n",
      "(174, 174)\n",
      "(174,)\n",
      "(174,)\n"
     ]
    }
   ],
   "source": [
    "print(x_values.shape)\n",
    "print(A.shape)\n",
    "print(countries.shape)\n",
    "print(populations.shape)"
   ]
  },
  {
   "cell_type": "markdown",
   "id": "b70c085c",
   "metadata": {},
   "source": [
    "### Interp points"
   ]
  },
  {
   "cell_type": "code",
   "execution_count": 6,
   "id": "95635728",
   "metadata": {},
   "outputs": [],
   "source": [
    "from scipy.interpolate import interp1d\n",
    "\n",
    "# Reattach the time column to x_values\n",
    "x = np.column_stack((x[:, 0], x_values))\n",
    "\n",
    "# Extract timepoints\n",
    "timepoints = x[:, 0].astype(int)\n",
    "fully_timepoints = np.arange(0, int(x[-1, 0]) + 1)\n",
    "\n",
    "# Find missing timepoints\n",
    "missing_timepoints = np.setdiff1d(fully_timepoints, timepoints)\n",
    "\n",
    "# Interpolate missing values\n",
    "interp_points = np.zeros((len(missing_timepoints), x_values.shape[1]))\n",
    "\n",
    "for ii in range(x_values.shape[1]):\n",
    "    f = interp1d(timepoints, x_values[:, ii], kind='linear', fill_value=\"extrapolate\")\n",
    "    interp_points[:, ii] = np.ceil(f(missing_timepoints))\n",
    "\n",
    "# Combine interpolated points with time column\n",
    "interp_points = np.column_stack((missing_timepoints, interp_points))\n",
    "\n",
    "# Concatenate original and interpolated data\n",
    "x = np.vstack((x, interp_points))\n",
    "\n",
    "# Sort by time (column 0)\n",
    "x = x[np.argsort(x[:, 0])]"
   ]
  },
  {
   "cell_type": "code",
   "execution_count": 7,
   "id": "5cb27b73",
   "metadata": {},
   "outputs": [
    {
     "data": {
      "text/plain": [
       "(158, 175)"
      ]
     },
     "execution_count": 7,
     "metadata": {},
     "output_type": "execute_result"
    }
   ],
   "source": [
    "x.shape"
   ]
  },
  {
   "cell_type": "code",
   "execution_count": 8,
   "id": "b7f71e9d",
   "metadata": {},
   "outputs": [
    {
     "name": "stdout",
     "output_type": "stream",
     "text": [
      "(158, 174)\n"
     ]
    }
   ],
   "source": [
    "x_values = x[:, 1:]\n",
    "print(x_values.shape)"
   ]
  },
  {
   "cell_type": "markdown",
   "id": "b162e9a3",
   "metadata": {},
   "source": [
    "### Normalize Adj\n"
   ]
  },
  {
   "cell_type": "code",
   "execution_count": 9,
   "id": "82017237",
   "metadata": {},
   "outputs": [],
   "source": [
    "# Remove self-loops in A (zero the diagonal)\n",
    "Aij = A - np.diag(np.diag(A))\n",
    "Aij_act = Aij * 8.91e6 / np.sum(populations)"
   ]
  },
  {
   "cell_type": "code",
   "execution_count": 10,
   "id": "837bb5e2",
   "metadata": {},
   "outputs": [
    {
     "data": {
      "text/plain": [
       "0.6016948071852376"
      ]
     },
     "execution_count": 10,
     "metadata": {},
     "output_type": "execute_result"
    }
   ],
   "source": [
    "Aij_act.max()"
   ]
  },
  {
   "cell_type": "markdown",
   "id": "c9644111",
   "metadata": {},
   "source": [
    "### Delete less than 100 infected"
   ]
  },
  {
   "cell_type": "code",
   "execution_count": 11,
   "id": "e6006d17",
   "metadata": {},
   "outputs": [
    {
     "name": "stdout",
     "output_type": "stream",
     "text": [
      "(45, 82)\n"
     ]
    }
   ],
   "source": [
    "infected = []\n",
    "for i in range(x_values.shape[1]):\n",
    "    start_time = np.argmax(x_values[:, i] > 0)  # First index where x_values > 0\n",
    "    infected.append(x_values[start_time:, i])\n",
    "\n",
    "data = []\n",
    "Ind = []\n",
    "j = 0\n",
    "Period = 45\n",
    "\n",
    "for i, inf in enumerate(infected):\n",
    "    if len(inf) >= Period and inf[Period - 1] >= 500:\n",
    "        data.append(inf[:Period])\n",
    "        Ind.append(i)\n",
    "        j += 1\n",
    "data = np.column_stack(data)\n",
    "print(data.shape)"
   ]
  },
  {
   "cell_type": "code",
   "execution_count": 12,
   "id": "0bbd625b",
   "metadata": {},
   "outputs": [],
   "source": [
    "all_indices = np.arange(len(Aij_act))\n",
    "cut_off = np.setdiff1d(all_indices, Ind)"
   ]
  },
  {
   "cell_type": "code",
   "execution_count": 13,
   "id": "21aae813",
   "metadata": {},
   "outputs": [],
   "source": [
    "# Remove unwanted rows/columns using boolean indexing\n",
    "mask = np.ones(len(A), dtype=bool)\n",
    "mask[cut_off] = False\n",
    "\n",
    "populations = populations[mask]\n",
    "countries = countries[mask]\n",
    "A = A[mask][:, mask]\n",
    "Aij_act = Aij_act[mask][:, mask]"
   ]
  },
  {
   "cell_type": "code",
   "execution_count": 14,
   "id": "6de0573a",
   "metadata": {},
   "outputs": [
    {
     "data": {
      "text/plain": [
       "{'Iceland': 0,\n",
       " 'Canada': 1,\n",
       " 'Algeria': 2,\n",
       " 'Burkina Faso': 3,\n",
       " 'Ghana': 4,\n",
       " \"Cote d'Ivoire\": 5,\n",
       " 'Niger': 6,\n",
       " 'Tunisia': 7,\n",
       " 'Belgium': 8,\n",
       " 'Germany': 9,\n",
       " 'Estonia': 10,\n",
       " 'Ireland': 11,\n",
       " 'Luxembourg': 12,\n",
       " 'Norway': 13,\n",
       " 'Poland': 14,\n",
       " 'Sweden': 15,\n",
       " 'South Africa': 16,\n",
       " 'Cameroon': 17,\n",
       " 'Mali': 18,\n",
       " 'Spain': 19,\n",
       " 'Morocco': 20,\n",
       " 'Guinea': 21,\n",
       " 'Somalia': 22,\n",
       " 'Egypt': 23,\n",
       " 'Albania': 24,\n",
       " 'Bulgaria': 25,\n",
       " 'Cyprus': 26,\n",
       " 'Croatia': 27,\n",
       " 'Greece': 28,\n",
       " 'Hungary': 29,\n",
       " 'Italy': 30,\n",
       " 'Slovenia': 31,\n",
       " 'Israel': 32,\n",
       " 'Austria': 33,\n",
       " 'Portugal': 34,\n",
       " 'Bosnia and Herzegovina': 35,\n",
       " 'Romania': 36,\n",
       " 'Switzerland': 37,\n",
       " 'Turkey': 38,\n",
       " 'Moldova': 39,\n",
       " 'Serbia': 40,\n",
       " 'Slovakia': 41,\n",
       " 'Dominican Republic': 42,\n",
       " 'Guatemala': 43,\n",
       " 'Honduras': 44,\n",
       " 'Mexico': 45,\n",
       " 'Panama': 46,\n",
       " 'Costa Rica': 47,\n",
       " 'Cuba': 48,\n",
       " 'New Zealand': 49,\n",
       " 'Bahrain': 50,\n",
       " 'Saudi Arabia': 51,\n",
       " 'Iran': 52,\n",
       " 'Kuwait': 53,\n",
       " 'Lebanon': 54,\n",
       " 'Pakistan': 55,\n",
       " 'Iraq': 56,\n",
       " 'Qatar': 57,\n",
       " 'South Korea': 58,\n",
       " 'Argentina': 59,\n",
       " 'Brazil': 60,\n",
       " 'Chile': 61,\n",
       " 'Ecuador': 62,\n",
       " 'Colombia': 63,\n",
       " 'Bolivia': 64,\n",
       " 'Peru': 65,\n",
       " 'Uruguay': 66,\n",
       " 'Kazakhstan': 67,\n",
       " 'Kyrgyzstan': 68,\n",
       " 'Azerbaijan': 69,\n",
       " 'Ukraine': 70,\n",
       " 'Belarus': 71,\n",
       " 'Tajikistan': 72,\n",
       " 'Uzbekistan': 73,\n",
       " 'Bangladesh': 74,\n",
       " 'Indonesia': 75,\n",
       " 'China': 76,\n",
       " 'Latvia': 77,\n",
       " 'Lithuania': 78,\n",
       " 'Armenia': 79,\n",
       " 'Djibouti': 80,\n",
       " 'Guinea-Bissau': 81}"
      ]
     },
     "execution_count": 14,
     "metadata": {},
     "output_type": "execute_result"
    }
   ],
   "source": [
    "country_dict = dict(zip(countries, range(len(countries))))\n",
    "country_dict"
   ]
  },
  {
   "cell_type": "markdown",
   "id": "f4e3c0fd",
   "metadata": {},
   "source": [
    "### Plotting countries"
   ]
  },
  {
   "cell_type": "code",
   "execution_count": 15,
   "id": "cb3e6c20",
   "metadata": {},
   "outputs": [],
   "source": [
    "import matplotlib.pyplot as plt"
   ]
  },
  {
   "cell_type": "code",
   "execution_count": 16,
   "id": "f1c82c9e",
   "metadata": {},
   "outputs": [
    {
     "data": {
      "text/plain": [
       "MinMaxScaler(bias=(1, 1), scale=(1, 1))"
      ]
     },
     "execution_count": 16,
     "metadata": {},
     "output_type": "execute_result"
    }
   ],
   "source": [
    "from tsl.data.preprocessing.scalers import MinMaxScaler\n",
    "\n",
    "scaler = MinMaxScaler(out_range=(-1, 1))\n",
    "scaler.fit(data.reshape(-1, 1))"
   ]
  },
  {
   "cell_type": "code",
   "execution_count": 21,
   "id": "dd7e18e7",
   "metadata": {},
   "outputs": [
    {
     "data": {
      "text/plain": [
       "[<matplotlib.lines.Line2D at 0x7f61a91f8920>]"
      ]
     },
     "execution_count": 21,
     "metadata": {},
     "output_type": "execute_result"
    },
    {
     "data": {
      "image/png": "[encoded data removed]",
      "text/plain": [
       "<Figure size 640x480 with 1 Axes>"
      ]
     },
     "metadata": {},
     "output_type": "display_data"
    }
   ],
   "source": [
    "plt.plot(data[:, country_dict['Italy']])"
   ]
  },
  {
   "cell_type": "code",
   "execution_count": 22,
   "id": "bfeebc3d",
   "metadata": {},
   "outputs": [
    {
     "data": {
      "text/plain": [
       "[<matplotlib.lines.Line2D at 0x7f61a908d7f0>]"
      ]
     },
     "execution_count": 22,
     "metadata": {},
     "output_type": "execute_result"
    },
    {
     "data": {
      "image/png": "[encoded data removed]",
      "text/plain": [
       "<Figure size 640x480 with 1 Axes>"
      ]
     },
     "metadata": {},
     "output_type": "display_data"
    }
   ],
   "source": [
    "plt.plot(scaler.transform(data[:, country_dict['Italy']]).squeeze(0))"
   ]
  },
  {
   "cell_type": "markdown",
   "id": "be5f0f9f",
   "metadata": {},
   "source": [
    "### Building edge_index and edge_attrs"
   ]
  },
  {
   "cell_type": "code",
   "execution_count": 19,
   "id": "51579f71",
   "metadata": {},
   "outputs": [
    {
     "data": {
      "text/plain": [
       "tensor([[ 0,  0,  0,  0,  0,  0,  0,  0,  0,  0,  0,  0,  0,  0,  0,  1,  1,  1,\n",
       "          1,  1,  1,  1,  1,  1,  1,  1,  1,  2,  2,  2,  2,  2,  2,  2,  2,  2,\n",
       "          2,  2,  2,  2,  2,  2,  3,  3,  3,  3,  4,  4,  4,  4,  4,  5,  5,  5,\n",
       "          5,  5,  5,  5,  5,  5,  5,  5,  5,  5,  5,  5,  6,  6,  6,  6,  6,  6,\n",
       "          6,  6,  6,  6,  6,  6,  7,  7,  7,  7,  7,  7,  7,  7,  8,  8,  8,  8,\n",
       "          8,  8,  8,  8,  8,  9,  9,  9,  9,  9,  9,  9,  9,  9, 10, 10, 10, 10,\n",
       "         10, 10, 10, 10, 11, 11, 11, 11, 11, 11, 11, 11, 11, 12, 12, 12, 12, 12,\n",
       "         12, 12, 12, 12, 12, 13, 13, 13, 13, 13, 13, 13, 13, 13, 13, 14, 14, 14,\n",
       "         14, 14, 14, 14, 14, 14, 15, 15, 15, 15, 15, 15, 15, 15, 15, 15, 15, 16,\n",
       "         16, 16, 16, 16, 16, 16, 17, 17, 17, 17, 17, 17, 18, 18, 18, 18, 18, 18,\n",
       "         18, 18, 19, 19, 19, 19, 19, 19, 19, 19, 19, 19, 20, 20, 20, 20, 20, 20,\n",
       "         20, 20, 20, 20, 20, 20, 20, 20, 20, 20, 20, 20],\n",
       "        [ 1,  2,  3,  5,  6,  7,  8,  9, 10, 12, 13, 15, 18, 19, 20,  0,  2,  3,\n",
       "          5,  9, 10, 11, 12, 16, 17, 19, 20,  0,  1,  3,  4,  5,  6,  7, 11, 12,\n",
       "         13, 14, 15, 16, 19, 20,  0,  1,  2, 20,  5,  6,  7,  8, 20,  0,  1,  2,\n",
       "          4,  6,  7,  8,  9, 11, 12, 13, 14, 15, 19, 20,  0,  2,  4,  5,  7,  8,\n",
       "         11, 12, 13, 14, 15, 20,  0,  2,  4,  5,  6,  8, 15, 20,  0,  2,  4,  5,\n",
       "          6,  7, 14, 15, 20,  0,  1,  5, 10, 16, 17, 18, 19, 20,  0,  1,  9, 16,\n",
       "         17, 18, 19, 20,  1,  2,  5,  6, 12, 13, 14, 15, 20,  0,  1,  2,  5,  6,\n",
       "         11, 13, 14, 15, 20,  0,  2,  5,  6, 11, 12, 14, 15, 18, 20,  2,  5,  6,\n",
       "          8, 11, 12, 13, 15, 20,  0,  2,  5,  6,  7,  8, 11, 12, 13, 14, 20,  1,\n",
       "          2,  9, 10, 17, 18, 19,  1,  9, 10, 16, 18, 19,  0,  9, 10, 13, 16, 17,\n",
       "         19, 20,  0,  1,  2,  5,  9, 10, 16, 17, 18, 20,  0,  1,  2,  3,  4,  5,\n",
       "          6,  7,  8,  9, 10, 11, 12, 13, 14, 15, 18, 19]])"
      ]
     },
     "execution_count": 19,
     "metadata": {},
     "output_type": "execute_result"
    }
   ],
   "source": [
    "row, col = np.nonzero(Aij_act)\n",
    "edge_index = torch.tensor(np.array([row, col]), dtype=torch.long)\n",
    "\n",
    "edge_index"
   ]
  },
  {
   "cell_type": "code",
   "execution_count": 20,
   "id": "fba93a9f",
   "metadata": {},
   "outputs": [
    {
     "data": {
      "text/plain": [
       "torch.Size([2, 210])"
      ]
     },
     "execution_count": 20,
     "metadata": {},
     "output_type": "execute_result"
    }
   ],
   "source": [
    "edge_index.shape"
   ]
  },
  {
   "cell_type": "code",
   "execution_count": 22,
   "id": "911fb61a",
   "metadata": {},
   "outputs": [],
   "source": [
    "weights = Aij_act[row, col]  # edge weights corresponding to (row, col)\n",
    "edge_attr = torch.tensor(weights, dtype=torch.float)"
   ]
  },
  {
   "cell_type": "code",
   "execution_count": 23,
   "id": "8aad8e5b",
   "metadata": {},
   "outputs": [
    {
     "data": {
      "text/plain": [
       "tensor([0.0560, 0.0055, 0.0027, 0.0369, 0.0014, 0.0041, 0.0014, 0.0137, 0.0014,\n",
       "        0.0027, 0.0014, 0.0014, 0.0014, 0.0164, 0.4961, 0.0574, 0.7080, 0.1435,\n",
       "        0.0191, 0.0109, 0.0014, 0.0014, 0.0041, 0.0055, 0.0027, 0.0150, 0.2774,\n",
       "        0.0055, 0.6998, 0.0096, 0.0014, 0.0109, 0.0014, 0.0014, 0.0055, 0.0109,\n",
       "        0.0027, 0.0055, 0.0041, 0.0014, 0.0027, 0.0779, 0.0027, 0.1298, 0.0096,\n",
       "        0.0041, 0.0041, 0.0014, 0.0027, 0.0041, 0.0232, 0.0410, 0.0164, 0.0109,\n",
       "        0.0041, 0.0109, 0.0041, 0.0041, 0.0027, 0.0027, 0.0027, 0.0041, 0.0014,\n",
       "        0.0055, 0.0014, 0.5098, 0.0014, 0.0014, 0.0014, 0.0109, 0.0096, 0.0027,\n",
       "        0.0027, 0.0096, 0.0014, 0.0041, 0.0027, 0.0410, 0.0041, 0.0014, 0.0055,\n",
       "        0.0041, 0.0096, 0.0027, 0.0014, 0.0492, 0.0014, 0.0027, 0.0014, 0.0041,\n",
       "        0.0027, 0.0027, 0.0027, 0.0014, 0.0396, 0.0137, 0.0109, 0.0014, 0.0205,\n",
       "        0.0301, 0.0137, 0.0205, 0.1913, 0.1066, 0.0014, 0.0014, 0.0205, 0.0082,\n",
       "        0.0123, 0.0055, 0.0178, 0.0041, 0.0014, 0.0055, 0.0027, 0.0027, 0.0383,\n",
       "        0.0123, 0.0014, 0.0055, 0.0137, 0.0027, 0.0041, 0.0109, 0.0027, 0.0096,\n",
       "        0.0396, 0.0082, 0.0014, 0.0137, 0.0793, 0.0014, 0.0027, 0.0041, 0.0014,\n",
       "        0.0137, 0.0082, 0.0027, 0.0096, 0.0027, 0.0137, 0.0055, 0.0014, 0.0041,\n",
       "        0.0027, 0.0014, 0.0014, 0.0014, 0.0068, 0.0109, 0.0014, 0.0041, 0.0055,\n",
       "        0.0027, 0.0014, 0.0014, 0.0055, 0.0137, 0.0096, 0.0082, 0.0287, 0.0055,\n",
       "        0.0014, 0.0287, 0.0082, 0.0451, 0.0191, 0.0984, 0.0027, 0.0137, 0.0123,\n",
       "        0.0451, 0.0191, 0.0396, 0.0014, 0.0205, 0.0055, 0.0027, 0.0191, 0.0191,\n",
       "        0.0232, 0.0355, 0.0164, 0.0150, 0.0027, 0.0014, 0.1913, 0.0178, 0.0998,\n",
       "        0.0396, 0.0232, 0.0793, 0.4975, 0.2829, 0.0779, 0.0041, 0.0232, 0.5043,\n",
       "        0.0396, 0.0465, 0.0383, 0.1093, 0.0041, 0.0137, 0.0779, 0.0137, 0.0109,\n",
       "        0.0287, 0.0355, 0.0806])"
      ]
     },
     "execution_count": 23,
     "metadata": {},
     "output_type": "execute_result"
    }
   ],
   "source": [
    "edge_attr"
   ]
  },
  {
   "cell_type": "code",
   "execution_count": 24,
   "id": "6e37c774",
   "metadata": {},
   "outputs": [
    {
     "data": {
      "text/plain": [
       "torch.Size([210])"
      ]
     },
     "execution_count": 24,
     "metadata": {},
     "output_type": "execute_result"
    }
   ],
   "source": [
    "edge_attr.shape"
   ]
  }
 ],
 "metadata": {
  "kernelspec": {
   "display_name": "Python 3",
   "language": "python",
   "name": "python3"
  },
  "language_info": {
   "codemirror_mode": {
    "name": "ipython",
    "version": 3
   },
   "file_extension": ".py",
   "mimetype": "text/x-python",
   "name": "python",
   "nbconvert_exporter": "python",
   "pygments_lexer": "ipython3",
   "version": "3.12.0"
  }
 },
 "nbformat": 4,
 "nbformat_minor": 5
}
